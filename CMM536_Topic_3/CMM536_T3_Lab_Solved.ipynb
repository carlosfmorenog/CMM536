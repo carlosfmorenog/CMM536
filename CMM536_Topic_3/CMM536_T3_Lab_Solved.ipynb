{
  "cells": [
    {
      "cell_type": "markdown",
      "metadata": {
        "id": "view-in-github",
        "colab_type": "text"
      },
      "source": [
        "<a href=\"https://colab.research.google.com/github/carlosfmorenog/CMM536/blob/master/CMM536_Topic_3/CMM536_T3_Lab_Solved.ipynb\" target=\"_parent\"><img src=\"https://colab.research.google.com/assets/colab-badge.svg\" alt=\"Open In Colab\"/></a>"
      ]
    },
    {
      "cell_type": "markdown",
      "metadata": {
        "id": "4QNc6IUTUfXV"
      },
      "source": [
        "# Topic 3 Laboratory SOLVED"
      ]
    },
    {
      "cell_type": "markdown",
      "metadata": {
        "id": "ayxft5eqUfXa"
      },
      "source": [
        "In this activity you will have the opportunity to understand better how to import and manipulate images in Python."
      ]
    },
    {
      "cell_type": "markdown",
      "metadata": {
        "id": "5CgMq6gIUfXd"
      },
      "source": [
        "## Installing the necessary packages"
      ]
    },
    {
      "cell_type": "markdown",
      "metadata": {
        "id": "tGG0IS1cUfXe"
      },
      "source": [
        "To work with images in Python, we will use packages such as `numpy`, `OpenCV` and `matplotlib`."
      ]
    },
    {
      "cell_type": "markdown",
      "metadata": {
        "id": "v7y97UZtUfXf"
      },
      "source": [
        "Execute the code in the following cell to install these packages using the `pip` command:"
      ]
    },
    {
      "cell_type": "code",
      "execution_count": null,
      "metadata": {
        "colab": {
          "base_uri": "https://localhost:8080/"
        },
        "id": "YPSugOP2UfXg",
        "outputId": "be19dcde-a5de-4e44-ed0a-6d8169b7db0b"
      },
      "outputs": [
        {
          "name": "stdout",
          "output_type": "stream",
          "text": [
            "Looking in indexes: https://pypi.org/simple, https://us-python.pkg.dev/colab-wheels/public/simple/\n",
            "Requirement already satisfied: opencv-python in /usr/local/lib/python3.8/dist-packages (4.6.0.66)\n",
            "Requirement already satisfied: numpy>=1.14.5 in /usr/local/lib/python3.8/dist-packages (from opencv-python) (1.21.6)\n",
            "Looking in indexes: https://pypi.org/simple, https://us-python.pkg.dev/colab-wheels/public/simple/\n",
            "Requirement already satisfied: matplotlib in /usr/local/lib/python3.8/dist-packages (3.2.2)\n",
            "Requirement already satisfied: numpy>=1.11 in /usr/local/lib/python3.8/dist-packages (from matplotlib) (1.21.6)\n",
            "Requirement already satisfied: pyparsing!=2.0.4,!=2.1.2,!=2.1.6,>=2.0.1 in /usr/local/lib/python3.8/dist-packages (from matplotlib) (3.0.9)\n",
            "Requirement already satisfied: kiwisolver>=1.0.1 in /usr/local/lib/python3.8/dist-packages (from matplotlib) (1.4.4)\n",
            "Requirement already satisfied: python-dateutil>=2.1 in /usr/local/lib/python3.8/dist-packages (from matplotlib) (2.8.2)\n",
            "Requirement already satisfied: cycler>=0.10 in /usr/local/lib/python3.8/dist-packages (from matplotlib) (0.11.0)\n",
            "Requirement already satisfied: six>=1.5 in /usr/local/lib/python3.8/dist-packages (from python-dateutil>=2.1->matplotlib) (1.15.0)\n"
          ]
        }
      ],
      "source": [
        "!pip install opencv-python\n",
        "!pip install matplotlib"
      ]
    },
    {
      "cell_type": "markdown",
      "metadata": {
        "id": "_ECQFgCFUfXi"
      },
      "source": [
        "Notice that we did not install numpy due to the following reasons:"
      ]
    },
    {
      "cell_type": "markdown",
      "metadata": {
        "id": "ZH7jY0QoUfXk"
      },
      "source": [
        "* We installed it last week during class(and there is no need to install it again)"
      ]
    },
    {
      "cell_type": "markdown",
      "metadata": {
        "id": "aSCxG8qXUfXk"
      },
      "source": [
        "* Sometimes packages include sub-packages. Such is the case of the three previous ones, which already contain numpy"
      ]
    },
    {
      "cell_type": "markdown",
      "metadata": {
        "id": "Hsx99kd9UfXn"
      },
      "source": [
        "## Importing the modules"
      ]
    },
    {
      "cell_type": "markdown",
      "metadata": {
        "id": "saeD1RmzUfXo"
      },
      "source": [
        "Now we will import the packages, functions and classes we will use for this activity:"
      ]
    },
    {
      "cell_type": "markdown",
      "metadata": {
        "id": "wLV-ZmOjUfXp"
      },
      "source": [
        "* The first one is `OpenCV`, which is refered to as `cv2`:"
      ]
    },
    {
      "cell_type": "code",
      "execution_count": null,
      "metadata": {
        "id": "mggCmYnsUfXq"
      },
      "outputs": [],
      "source": [
        "import cv2"
      ]
    },
    {
      "cell_type": "markdown",
      "metadata": {
        "id": "O_a1FZddUfXr"
      },
      "source": [
        "* To handle and perform operations on the images, we need `numpy`, which can be imported by executing the command we saw in class:"
      ]
    },
    {
      "cell_type": "code",
      "execution_count": null,
      "metadata": {
        "id": "7OEBoFCYUfXr"
      },
      "outputs": [],
      "source": [
        "import numpy as np"
      ]
    },
    {
      "cell_type": "markdown",
      "metadata": {
        "id": "FPSPW5mhUfXs"
      },
      "source": [
        "* To plot the images, we will use `matplotlib.pyplot` assigning the pseudonym `plt` for short"
      ]
    },
    {
      "cell_type": "code",
      "execution_count": null,
      "metadata": {
        "id": "-YZHXr20UfXs"
      },
      "outputs": [],
      "source": [
        "import matplotlib.pyplot as plt"
      ]
    },
    {
      "cell_type": "markdown",
      "metadata": {
        "id": "FN2mpFe1UfXt"
      },
      "source": [
        "## Working with grayscale images"
      ]
    },
    {
      "cell_type": "markdown",
      "metadata": {
        "id": "ovo1LPcwUfXu"
      },
      "source": [
        "### Loading and importing the image"
      ]
    },
    {
      "cell_type": "markdown",
      "metadata": {
        "id": "Q8j2MuF0unMg"
      },
      "source": [
        "#### Loading the image from your computer into google colab's disk"
      ]
    },
    {
      "cell_type": "markdown",
      "metadata": {
        "id": "y4u7K6q7UfXu"
      },
      "source": [
        "First, go to moodle and from the section containing the material for this week, download image `logo.png`."
      ]
    },
    {
      "cell_type": "markdown",
      "metadata": {
        "id": "KR4wBVrwUfXv"
      },
      "source": [
        "Then, run the following cell to load the image into the notebook's disk:"
      ]
    },
    {
      "cell_type": "code",
      "execution_count": null,
      "metadata": {
        "colab": {
          "base_uri": "https://localhost:8080/"
        },
        "id": "Oe3nOKhDu0EI",
        "outputId": "a51691f4-d404-40fe-e350-b8323ca58c66"
      },
      "outputs": [
        {
          "output_type": "stream",
          "name": "stdout",
          "text": [
            "Cloning into 'CMM536'...\n",
            "remote: Enumerating objects: 529, done.\u001b[K\n",
            "remote: Counting objects: 100% (102/102), done.\u001b[K\n",
            "remote: Compressing objects: 100% (90/90), done.\u001b[K\n",
            "remote: Total 529 (delta 31), reused 40 (delta 9), pack-reused 427\u001b[K\n",
            "Receiving objects: 100% (529/529), 133.51 MiB | 18.20 MiB/s, done.\n",
            "Resolving deltas: 100% (211/211), done.\n"
          ]
        }
      ],
      "source": [
        "!git clone https://github.com/carlosfmorenog/CMM536"
      ]
    },
    {
      "cell_type": "markdown",
      "metadata": {
        "id": "8g6M5M7fu3nG"
      },
      "source": [
        "#### Importing the image as a numpy array using open cv"
      ]
    },
    {
      "cell_type": "markdown",
      "metadata": {
        "id": "6_nWTwgWUfXv"
      },
      "source": [
        "To import the Python logo as a `numpy array` into a variable called `img`, we will use the `imread`command from `OpenCV`."
      ]
    },
    {
      "cell_type": "markdown",
      "metadata": {
        "id": "M9XFa_xYUfXv"
      },
      "source": [
        "You can find the full documentation of the command [here](https://docs.opencv.org/4.2.0/d4/da8/group__imgcodecs.html), but I strongly recommend you to check the [OpenCV Python Tutorials](https://opencv24-python-tutorials.readthedocs.io/en/latest/) whenever you have a doubt of any command, as they are more suitable and easier to understand that the `OpenCV` original documentation which is designed for C."
      ]
    },
    {
      "cell_type": "code",
      "execution_count": null,
      "metadata": {
        "id": "s6GaGquBUfXw"
      },
      "outputs": [],
      "source": [
        "## Loading the logo as a grayscale image\n",
        "img = cv2.imread(\"/content/CMM536/CMM536_Topic_3/logo.png\",0)"
      ]
    },
    {
      "cell_type": "markdown",
      "metadata": {
        "id": "PKT97NFyUfXx"
      },
      "source": [
        "Notice that the `imread` function has two parameters: the **image file** to load and a **flag** (0/1) which indicates if we need to load the image as grayscale/colour respectively."
      ]
    },
    {
      "cell_type": "markdown",
      "metadata": {
        "id": "HsOhFnAjUfXx"
      },
      "source": [
        "Check the type and shape of the image to verify that you have a `numpy` array of size $75 \\times 75$"
      ]
    },
    {
      "cell_type": "code",
      "execution_count": null,
      "metadata": {
        "colab": {
          "base_uri": "https://localhost:8080/"
        },
        "id": "LoylnQxnUfXx",
        "outputId": "4f4b889e-4e2a-4303-991b-8ac74b0efbf2"
      },
      "outputs": [
        {
          "data": {
            "text/plain": [
              "numpy.ndarray"
            ]
          },
          "execution_count": 7,
          "metadata": {},
          "output_type": "execute_result"
        }
      ],
      "source": [
        "type(img)"
      ]
    },
    {
      "cell_type": "code",
      "execution_count": null,
      "metadata": {
        "colab": {
          "base_uri": "https://localhost:8080/"
        },
        "id": "IOSXbfZ-UfXx",
        "outputId": "205f2d76-17a5-43c3-c713-0328e14387fb"
      },
      "outputs": [
        {
          "data": {
            "text/plain": [
              "(75, 75)"
            ]
          },
          "execution_count": 8,
          "metadata": {},
          "output_type": "execute_result"
        }
      ],
      "source": [
        "img.shape"
      ]
    },
    {
      "cell_type": "markdown",
      "metadata": {
        "id": "4XT7H0-aUfXy"
      },
      "source": [
        "What would happen if we print `img`? Are we able to see it? Run the following cell to find out!"
      ]
    },
    {
      "cell_type": "code",
      "execution_count": null,
      "metadata": {
        "colab": {
          "base_uri": "https://localhost:8080/"
        },
        "id": "qc9U3XL4UfXz",
        "outputId": "8f93edd0-544d-4292-d296-55bc6f60a0d6",
        "scrolled": true
      },
      "outputs": [
        {
          "name": "stdout",
          "output_type": "stream",
          "text": [
            "[[234 246 246 ... 246 246 234]\n",
            " [243 255 255 ... 255 255 242]\n",
            " [243 255 255 ... 255 255 242]\n",
            " ...\n",
            " [243 255 255 ... 255 255 242]\n",
            " [243 255 255 ... 255 255 242]\n",
            " [234 246 246 ... 246 246 234]]\n"
          ]
        }
      ],
      "source": [
        "print(img)"
      ]
    },
    {
      "cell_type": "markdown",
      "metadata": {
        "id": "NfOO1pK5UfXz"
      },
      "source": [
        "Notice that we only see a bunch of numbers in an array. This is because when printing the variable, Python automatically assumes that we want to visualise the values of the pixels and not the image itself."
      ]
    },
    {
      "cell_type": "markdown",
      "metadata": {
        "id": "c6ENwlqDUfXz"
      },
      "source": [
        "To show the actual image, we can use either the `cv2.imshow` function or the `plt.imshow` function (from the `matplotlib.pyplot` library)."
      ]
    },
    {
      "cell_type": "code",
      "execution_count": null,
      "metadata": {
        "id": "Xr3NCJW7UfX0"
      },
      "outputs": [],
      "source": [
        "# This one doesn't work in Colab\n",
        "#cv2.imshow('logo',img)\n",
        "#cv2.waitKey()"
      ]
    },
    {
      "cell_type": "code",
      "execution_count": null,
      "metadata": {
        "colab": {
          "base_uri": "https://localhost:8080/",
          "height": 285
        },
        "id": "jp3iRATDUfX1",
        "outputId": "e3de5c70-4990-456c-db75-55b196b3bfe4"
      },
      "outputs": [
        {
          "data": {
            "text/plain": [
              "<matplotlib.image.AxesImage at 0x7ff6acdb0610>"
            ]
          },
          "execution_count": 11,
          "metadata": {},
          "output_type": "execute_result"
        },
        {
          "data": {
            "image/png": "[encoded data removed]",
            "text/plain": [
              "<Figure size 432x288 with 1 Axes>"
            ]
          },
          "metadata": {},
          "output_type": "display_data"
        }
      ],
      "source": [
        "plt.imshow(img)"
      ]
    },
    {
      "cell_type": "markdown",
      "metadata": {
        "id": "FZ11qCkqUfX2"
      },
      "source": [
        "The first option will show the image in a pop-up window which is prone to crash, while the second one will show you the image within a coordinate plane and within the notebook."
      ]
    },
    {
      "cell_type": "markdown",
      "metadata": {
        "id": "UoRP4ZxzUfX3"
      },
      "source": [
        "However, the image does not appear in grayscale as `plt` attempts to use colours to show you the image with a better contrast."
      ]
    },
    {
      "cell_type": "markdown",
      "metadata": {
        "id": "PcYXpTEKUfX3"
      },
      "source": [
        "To avoid the yellow background, you can use the following setting:"
      ]
    },
    {
      "cell_type": "code",
      "execution_count": null,
      "metadata": {
        "colab": {
          "base_uri": "https://localhost:8080/",
          "height": 285
        },
        "id": "1pSMxSqsUfX4",
        "outputId": "a0f43005-48e9-4bf8-eab6-e4b6c3fc6ea2"
      },
      "outputs": [
        {
          "data": {
            "text/plain": [
              "<matplotlib.image.AxesImage at 0x7ff6ac8e0520>"
            ]
          },
          "execution_count": 13,
          "metadata": {},
          "output_type": "execute_result"
        },
        {
          "data": {
            "image/png": "[encoded data removed]",
            "text/plain": [
              "<Figure size 432x288 with 1 Axes>"
            ]
          },
          "metadata": {},
          "output_type": "display_data"
        }
      ],
      "source": [
        "plt.imshow(img, cmap='Greys_r')"
      ]
    },
    {
      "cell_type": "markdown",
      "metadata": {
        "id": "7B3e_m7BUfX5"
      },
      "source": [
        "### Locating the value of pixels"
      ]
    },
    {
      "cell_type": "markdown",
      "metadata": {
        "id": "hZnGG1CFUfX6"
      },
      "source": [
        "Notice that the image is shown with a coordinate plane which gives us an idea of the positions of the pixels within the logo."
      ]
    },
    {
      "cell_type": "markdown",
      "metadata": {
        "id": "zmgI8aQ3UfX7"
      },
      "source": [
        "Given that this is a $75 \\times 75$ image, we can access different positions of the image to see their value."
      ]
    },
    {
      "cell_type": "markdown",
      "metadata": {
        "id": "MaxTgHvfUfX7"
      },
      "source": [
        "For instance, to see the value of the **left-top** pixel, we can use the following command (The first zero corresponds to the y-axis/rows and the second zero corresponds to the x-axis/column):"
      ]
    },
    {
      "cell_type": "code",
      "execution_count": null,
      "metadata": {
        "colab": {
          "base_uri": "https://localhost:8080/"
        },
        "id": "bPaxWrw1UfX8",
        "outputId": "2a4d1ce2-ef47-45f2-e072-fe787e084c06"
      },
      "outputs": [
        {
          "name": "stdout",
          "output_type": "stream",
          "text": [
            "234\n"
          ]
        }
      ],
      "source": [
        "print(img[0,0])"
      ]
    },
    {
      "cell_type": "markdown",
      "metadata": {
        "id": "B-ugAAysUfX9"
      },
      "source": [
        "We can use the same command to see different positions of the image."
      ]
    },
    {
      "cell_type": "markdown",
      "metadata": {
        "id": "dCFnSDsoUfX9"
      },
      "source": [
        "For instance, you can see the value of the other corners or some values from the two pythons."
      ]
    },
    {
      "cell_type": "code",
      "execution_count": null,
      "metadata": {
        "colab": {
          "base_uri": "https://localhost:8080/"
        },
        "id": "Mj5QscuuUfX9",
        "outputId": "1fb44d70-d491-401b-c08d-ecffe78dbdeb"
      },
      "outputs": [
        {
          "name": "stdout",
          "output_type": "stream",
          "text": [
            "222\n"
          ]
        }
      ],
      "source": [
        "## Use this cell to print the values of different pixels\n",
        "print(img[50,40])"
      ]
    },
    {
      "cell_type": "markdown",
      "metadata": {
        "id": "bPynWx3qUfX-"
      },
      "source": [
        "Take note of the approximate values corresponding to the two pythons. We will use this information later!"
      ]
    },
    {
      "cell_type": "markdown",
      "metadata": {
        "id": "kg9doe4NUfX-"
      },
      "source": [
        "### Changing the value of pixels"
      ]
    },
    {
      "cell_type": "markdown",
      "metadata": {
        "id": "P9G6szyVUfX-"
      },
      "source": [
        "We can change the top-left pixel of the img in `img` to black by issuing the following code:"
      ]
    },
    {
      "cell_type": "code",
      "execution_count": null,
      "metadata": {
        "colab": {
          "base_uri": "https://localhost:8080/",
          "height": 407
        },
        "id": "cQkp2B1AUfX-",
        "outputId": "b73df7c1-b552-444b-b0a9-ce79d117caa0"
      },
      "outputs": [
        {
          "name": "stdout",
          "output_type": "stream",
          "text": [
            "[[  0 246 246 ... 246 246 234]\n",
            " [243 255 255 ... 255 255 242]\n",
            " [243 255 255 ... 255 255 242]\n",
            " ...\n",
            " [243 255 255 ... 255 255 242]\n",
            " [243 255 255 ... 255 255 242]\n",
            " [234 246 246 ... 246 246 234]]\n"
          ]
        },
        {
          "data": {
            "text/plain": [
              "<matplotlib.image.AxesImage at 0x7ff6ac834730>"
            ]
          },
          "execution_count": 16,
          "metadata": {},
          "output_type": "execute_result"
        },
        {
          "data": {
            "image/png": "[encoded data removed]",
            "text/plain": [
              "<Figure size 432x288 with 1 Axes>"
            ]
          },
          "metadata": {},
          "output_type": "display_data"
        }
      ],
      "source": [
        "img[0,0]=0\n",
        "print(img)\n",
        "plt.imshow(img, cmap='Greys_r')"
      ]
    },
    {
      "cell_type": "markdown",
      "metadata": {
        "id": "eUjGcTVuUfYA"
      },
      "source": [
        "### Trimming the image"
      ]
    },
    {
      "cell_type": "markdown",
      "metadata": {
        "id": "wqIOYOR7UfYA"
      },
      "source": [
        "We can also slice the image and create a new, smaller one."
      ]
    },
    {
      "cell_type": "markdown",
      "metadata": {
        "id": "mY7Q-znSUfYA"
      },
      "source": [
        "For instance, say that you want to produce a new image only with the face of the dark-coloured python."
      ]
    },
    {
      "cell_type": "markdown",
      "metadata": {
        "id": "80ZCTlBzUfYC"
      },
      "source": [
        "We start from the **row 15** to the **row 26**, and then from the **column 24** to the **column 39**."
      ]
    },
    {
      "cell_type": "markdown",
      "metadata": {
        "id": "frX4VLVEUfYC"
      },
      "source": [
        "Now, we can use the following code to produce a trimmed image called `img_trimdark` with the face of the dark-coloured python."
      ]
    },
    {
      "cell_type": "code",
      "execution_count": null,
      "metadata": {
        "colab": {
          "base_uri": "https://localhost:8080/",
          "height": 282
        },
        "id": "7EzU-KI7UfYS",
        "outputId": "38152ca4-5d5a-4fda-c3bc-2113d2aa5aff"
      },
      "outputs": [
        {
          "data": {
            "text/plain": [
              "<matplotlib.image.AxesImage at 0x7ff6ac80b580>"
            ]
          },
          "execution_count": 17,
          "metadata": {},
          "output_type": "execute_result"
        },
        {
          "data": {
            "image/png": "[encoded data removed]",
            "text/plain": [
              "<Figure size 432x288 with 1 Axes>"
            ]
          },
          "metadata": {},
          "output_type": "display_data"
        }
      ],
      "source": [
        "img_trimdark = img[15:26,24:39] # rows go first, columns go after\n",
        "plt.imshow(img_trimdark, cmap='Greys_r')"
      ]
    },
    {
      "cell_type": "markdown",
      "metadata": {
        "id": "Szxl7c9qUfYT"
      },
      "source": [
        "Now it's your turn to create a trimmed image called `img_trimlight` with the face of the light-coloured python."
      ]
    },
    {
      "cell_type": "code",
      "execution_count": null,
      "metadata": {
        "colab": {
          "base_uri": "https://localhost:8080/",
          "height": 194
        },
        "id": "LSxyw-2SUfYU",
        "outputId": "70e14dd3-bda0-4175-a9dc-ad3a67887503"
      },
      "outputs": [
        {
          "data": {
            "text/plain": [
              "<matplotlib.image.AxesImage at 0x7ff6ac7deee0>"
            ]
          },
          "execution_count": 18,
          "metadata": {},
          "output_type": "execute_result"
        },
        {
          "data": {
            "image/png": "[encoded data removed]",
            "text/plain": [
              "<Figure size 432x288 with 1 Axes>"
            ]
          },
          "metadata": {},
          "output_type": "display_data"
        }
      ],
      "source": [
        "## Use this cell to create img_trimlight\n",
        "img_trimdark = img[50:60,25:51] # rows go first, columns go after\n",
        "plt.imshow(img_trimdark, cmap='Greys_r')"
      ]
    },
    {
      "cell_type": "markdown",
      "metadata": {
        "id": "jyDf7yh_UfYV"
      },
      "source": [
        "### Inverting the image"
      ]
    },
    {
      "cell_type": "markdown",
      "metadata": {
        "id": "BaUAzl5FUfYV"
      },
      "source": [
        "You can also create the *negative* of an image by doing the following:"
      ]
    },
    {
      "cell_type": "code",
      "execution_count": null,
      "metadata": {
        "colab": {
          "base_uri": "https://localhost:8080/",
          "height": 407
        },
        "id": "6RsOABngUfYW",
        "outputId": "75c10852-9ce3-4268-806e-c81e0780a49d"
      },
      "outputs": [
        {
          "name": "stdout",
          "output_type": "stream",
          "text": [
            "[[255   9   9 ...   9   9  21]\n",
            " [ 12   0   0 ...   0   0  13]\n",
            " [ 12   0   0 ...   0   0  13]\n",
            " ...\n",
            " [ 12   0   0 ...   0   0  13]\n",
            " [ 12   0   0 ...   0   0  13]\n",
            " [ 21   9   9 ...   9   9  21]]\n"
          ]
        },
        {
          "data": {
            "text/plain": [
              "<matplotlib.image.AxesImage at 0x7ff6ac8d41f0>"
            ]
          },
          "execution_count": 19,
          "metadata": {},
          "output_type": "execute_result"
        },
        {
          "data": {
            "image/png": "[encoded data removed]",
            "text/plain": [
              "<Figure size 432x288 with 1 Axes>"
            ]
          },
          "metadata": {},
          "output_type": "display_data"
        }
      ],
      "source": [
        "img_neg = 255 - img\n",
        "print(img_neg)\n",
        "plt.imshow(img_neg, cmap='Greys_r')"
      ]
    },
    {
      "cell_type": "markdown",
      "metadata": {
        "id": "OQEJW6a8UfYW"
      },
      "source": [
        "By subtracting $255$ minus the original image, what we are doing is converting all values into their opposite ones (in the gray scale)."
      ]
    },
    {
      "cell_type": "markdown",
      "metadata": {
        "id": "KY5JdeFCUfYX"
      },
      "source": [
        "### Transposing the image"
      ]
    },
    {
      "cell_type": "markdown",
      "metadata": {
        "id": "6GMt7WyDUfYX"
      },
      "source": [
        "As seen in the previous lab, there is a mathematical operation called **transpose** which lets you exchange the columns and the rows of a matrix. This function is also included in the numpy module, and it can be applied to image arrays as well:"
      ]
    },
    {
      "cell_type": "code",
      "execution_count": null,
      "metadata": {
        "colab": {
          "base_uri": "https://localhost:8080/",
          "height": 285
        },
        "id": "UUN7rzX2UfYY",
        "outputId": "cfa7fa23-f38c-4634-c37e-02573c7f26d5"
      },
      "outputs": [
        {
          "data": {
            "text/plain": [
              "<matplotlib.image.AxesImage at 0x7ff6ac75da00>"
            ]
          },
          "execution_count": 20,
          "metadata": {},
          "output_type": "execute_result"
        },
        {
          "data": {
            "image/png": "[encoded data removed]",
            "text/plain": [
              "<Figure size 432x288 with 1 Axes>"
            ]
          },
          "metadata": {},
          "output_type": "display_data"
        }
      ],
      "source": [
        "img_trans = img.transpose()\n",
        "plt.imshow(img_trans, cmap='Greys_r')"
      ]
    },
    {
      "cell_type": "markdown",
      "metadata": {
        "id": "lJaSLnsKUfYY"
      },
      "source": [
        "Notice that the new image is turned 90 degrees counter-clockwise and has also been flipped vertically."
      ]
    },
    {
      "cell_type": "markdown",
      "metadata": {
        "id": "BZ9nmG5NUfYZ"
      },
      "source": [
        "### Resizing the image"
      ]
    },
    {
      "cell_type": "markdown",
      "metadata": {
        "id": "6vSgs6CmUfYZ"
      },
      "source": [
        "`OpenCV`also contains a pre-defined function to resize the image by indicating the new width/height."
      ]
    },
    {
      "cell_type": "code",
      "execution_count": null,
      "metadata": {
        "colab": {
          "base_uri": "https://localhost:8080/",
          "height": 286
        },
        "id": "p9fcnEEeUfYZ",
        "outputId": "ccce676c-0cd7-4275-8b83-19c08ec4d6e1"
      },
      "outputs": [
        {
          "data": {
            "text/plain": [
              "<matplotlib.image.AxesImage at 0x7ff6ac6b1850>"
            ]
          },
          "execution_count": 21,
          "metadata": {},
          "output_type": "execute_result"
        },
        {
          "data": {
            "image/png": "[encoded data removed]",
            "text/plain": [
              "<Figure size 432x288 with 1 Axes>"
            ]
          },
          "metadata": {},
          "output_type": "display_data"
        }
      ],
      "source": [
        "img_resize = cv2.resize(img, (100, 150)) \n",
        "plt.imshow(img_resize, cmap='Greys_r')"
      ]
    },
    {
      "cell_type": "markdown",
      "metadata": {
        "id": "dsLp9soCUfYa"
      },
      "source": [
        "Try different values in the tuple (second parameter of the function) to see different results."
      ]
    },
    {
      "cell_type": "markdown",
      "metadata": {
        "id": "_Zc4_DiRUfYb"
      },
      "source": [
        "### Normalising the image"
      ]
    },
    {
      "cell_type": "markdown",
      "metadata": {
        "id": "s90VncH3UfYb"
      },
      "source": [
        "To convert the image from standard to normalised grayscale, we simply need to divide the `numpy`array by 255 as follows"
      ]
    },
    {
      "cell_type": "code",
      "execution_count": null,
      "metadata": {
        "colab": {
          "base_uri": "https://localhost:8080/",
          "height": 407
        },
        "id": "KLxd_1nkUfYc",
        "outputId": "c9752e03-61e5-4f6f-cb45-ac304a06eebe"
      },
      "outputs": [
        {
          "name": "stdout",
          "output_type": "stream",
          "text": [
            "[[0.         0.96470588 0.96470588 ... 0.96470588 0.96470588 0.91764706]\n",
            " [0.95294118 1.         1.         ... 1.         1.         0.94901961]\n",
            " [0.95294118 1.         1.         ... 1.         1.         0.94901961]\n",
            " ...\n",
            " [0.95294118 1.         1.         ... 1.         1.         0.94901961]\n",
            " [0.95294118 1.         1.         ... 1.         1.         0.94901961]\n",
            " [0.91764706 0.96470588 0.96470588 ... 0.96470588 0.96470588 0.91764706]]\n"
          ]
        },
        {
          "data": {
            "text/plain": [
              "<matplotlib.image.AxesImage at 0x7ff6ac68b610>"
            ]
          },
          "execution_count": 22,
          "metadata": {},
          "output_type": "execute_result"
        },
        {
          "data": {
            "image/png": "[encoded data removed]",
            "text/plain": [
              "<Figure size 432x288 with 1 Axes>"
            ]
          },
          "metadata": {},
          "output_type": "display_data"
        }
      ],
      "source": [
        "img_norm = img/255\n",
        "print(img_norm)\n",
        "plt.imshow(img_norm, cmap='Greys_r')"
      ]
    },
    {
      "cell_type": "markdown",
      "metadata": {
        "id": "vfiW7-iZUfYc"
      },
      "source": [
        "Notice that nothing has changed visually, just the values!"
      ]
    },
    {
      "cell_type": "markdown",
      "metadata": {
        "id": "kcjoEkGxUfYc"
      },
      "source": [
        "### Binarising the image"
      ]
    },
    {
      "cell_type": "markdown",
      "metadata": {
        "id": "5LgwttbSUfYd"
      },
      "source": [
        "#### The long and hard way (but necessary to understand and practice Python)"
      ]
    },
    {
      "cell_type": "markdown",
      "metadata": {
        "id": "XnsHHm9TUfYd"
      },
      "source": [
        "Remember you wrote down the values of the pixels of both pythons? Now it's time to put this information into use! "
      ]
    },
    {
      "cell_type": "markdown",
      "metadata": {
        "id": "XDEuZ2FJUfYd"
      },
      "source": [
        "Before using the pre-built function, we will design our own binarisation function to understand how it works!"
      ]
    },
    {
      "cell_type": "markdown",
      "metadata": {
        "id": "kFmuJz9eUfYd"
      },
      "source": [
        "Take into account the following:\n",
        "1. Your function needs two inputs: the **image to binarise** and the **threshold**, which is a cut-off value between 0 and 255.\n",
        "2. Your function has to iterate the `numpy` array for all rows and columns of the image (double loop).\n",
        "3. For each position, the system has to compare the value of the pixel with the threshold. If the value of the pixel is *smaller* than the threshold, then the function changes the value of the pixel to zero. Else, the function changes it to 255.\n",
        "4. To avoid losing the original image, create a copy and change the copy, not the original one! (hint: use the `.copy()` function to do so).\n",
        "5. Notice that depending on the threshold value selected, you will get different outputs!"
      ]
    },
    {
      "cell_type": "code",
      "execution_count": null,
      "metadata": {
        "id": "6I1kFLylUfYf"
      },
      "outputs": [],
      "source": [
        "## Use this cell to create the binarisation function\n",
        "def binarise(img, threshold):\n",
        "    '''This function biniarises an image in a numpy array according to the specified threshold'''\n",
        "    img_bin = img.copy()\n",
        "    for x in range(img.shape[0]):\n",
        "        for y in range(img.shape[1]):\n",
        "            if img[x,y]<threshold:\n",
        "                img_bin[x,y]=0\n",
        "            else:\n",
        "                img_bin[x,y]=255\n",
        "    plt.imshow(img_bin, cmap='Greys_r')\n",
        "    return img_bin"
      ]
    },
    {
      "cell_type": "code",
      "execution_count": null,
      "metadata": {
        "colab": {
          "base_uri": "https://localhost:8080/",
          "height": 201
        },
        "id": "1bKGWce3UfYf",
        "outputId": "6746e908-8376-4b50-8d8e-5415b3c93862"
      },
      "outputs": [
        {
          "ename": "NameError",
          "evalue": "ignored",
          "output_type": "error",
          "traceback": [
            "\u001b[0;31m---------------------------------------------------------------------------\u001b[0m",
            "\u001b[0;31mNameError\u001b[0m                                 Traceback (most recent call last)",
            "\u001b[0;32m<ipython-input-2-67512cdbf488>\u001b[0m in \u001b[0;36m<module>\u001b[0;34m\u001b[0m\n\u001b[1;32m      1\u001b[0m \u001b[0;31m## Use this cell to execute the binarise function and show both pythons in black.\u001b[0m\u001b[0;34m\u001b[0m\u001b[0;34m\u001b[0m\u001b[0;34m\u001b[0m\u001b[0m\n\u001b[0;32m----> 2\u001b[0;31m \u001b[0mimg_bin1\u001b[0m \u001b[0;34m=\u001b[0m \u001b[0mbinarise\u001b[0m\u001b[0;34m(\u001b[0m\u001b[0mimg\u001b[0m\u001b[0;34m,\u001b[0m \u001b[0;36m220\u001b[0m\u001b[0;34m)\u001b[0m\u001b[0;34m\u001b[0m\u001b[0;34m\u001b[0m\u001b[0m\n\u001b[0m",
            "\u001b[0;31mNameError\u001b[0m: name 'img' is not defined"
          ]
        }
      ],
      "source": [
        "## Use this cell to execute the binarise function and show both pythons in black.\n",
        "img_bin1 = binarise(img, 220)"
      ]
    },
    {
      "cell_type": "code",
      "execution_count": null,
      "metadata": {
        "colab": {
          "base_uri": "https://localhost:8080/",
          "height": 268
        },
        "id": "3nTm7ykaUfYf",
        "outputId": "17c307c9-e406-4f19-f15a-69b6e5cacbc9"
      },
      "outputs": [
        {
          "data": {
            "image/png": "[encoded data removed]",
            "text/plain": [
              "<Figure size 432x288 with 1 Axes>"
            ]
          },
          "metadata": {},
          "output_type": "display_data"
        }
      ],
      "source": [
        "## Use this cell to execute the binarise function to show only the dark python and \"disappear\" the light one.\n",
        "img_bin2 = binarise(img, 200)"
      ]
    },
    {
      "cell_type": "markdown",
      "metadata": {
        "id": "F7Gvf00DUfYg"
      },
      "source": [
        "#### The cv2 option"
      ]
    },
    {
      "cell_type": "markdown",
      "metadata": {
        "id": "2yIn-KkPUfYg"
      },
      "source": [
        "Click [here](https://docs.opencv.org/4.x/d7/d4d/tutorial_py_thresholding.html) to see a very comprehensive tutorial on how to use the binarisation function contained in `OpenCV`."
      ]
    },
    {
      "cell_type": "markdown",
      "metadata": {
        "id": "BqkutfYDUfYg"
      },
      "source": [
        "Then apply the function to do the same things that you did with your function."
      ]
    },
    {
      "cell_type": "code",
      "execution_count": null,
      "metadata": {
        "colab": {
          "base_uri": "https://localhost:8080/",
          "height": 285
        },
        "id": "SxKQmWMbUfYi",
        "outputId": "bbcb0ffc-3724-4e24-ac0e-56ae88cea8b1"
      },
      "outputs": [
        {
          "data": {
            "text/plain": [
              "<matplotlib.image.AxesImage at 0x7ff6ac587fa0>"
            ]
          },
          "execution_count": 26,
          "metadata": {},
          "output_type": "execute_result"
        },
        {
          "data": {
            "image/png": "[encoded data removed]",
            "text/plain": [
              "<Figure size 432x288 with 1 Axes>"
            ]
          },
          "metadata": {},
          "output_type": "display_data"
        }
      ],
      "source": [
        "## Use this cell to execute the cv2.threshold function and show both pythons in black.\n",
        "_,thresh1 = cv2.threshold(img,220,255,cv2.THRESH_BINARY)\n",
        "plt.imshow(thresh1, cmap='Greys_r')"
      ]
    },
    {
      "cell_type": "code",
      "execution_count": null,
      "metadata": {
        "colab": {
          "base_uri": "https://localhost:8080/",
          "height": 285
        },
        "id": "2gUqYXLBUfYi",
        "outputId": "da4d68ea-b3b9-42d5-dc58-9eb1261c0783"
      },
      "outputs": [
        {
          "data": {
            "text/plain": [
              "<matplotlib.image.AxesImage at 0x7ff6ac560d30>"
            ]
          },
          "execution_count": 27,
          "metadata": {},
          "output_type": "execute_result"
        },
        {
          "data": {
            "image/png": "[encoded data removed]",
            "text/plain": [
              "<Figure size 432x288 with 1 Axes>"
            ]
          },
          "metadata": {},
          "output_type": "display_data"
        }
      ],
      "source": [
        "## Use this cell to execute the cv2.threshold function and show only the dark and \"disappear\" the light one.\n",
        "_,thresh2 = cv2.threshold(img,190,255,cv2.THRESH_BINARY)\n",
        "plt.imshow(thresh2, cmap='Greys_r')"
      ]
    },
    {
      "cell_type": "markdown",
      "metadata": {
        "id": "GSN56y2wUfYj"
      },
      "source": [
        "### Saving the image"
      ]
    },
    {
      "cell_type": "markdown",
      "metadata": {
        "id": "uJ4Okr4QUfYj"
      },
      "source": [
        "You can save any of the images produced in this tutorial by using either the `cv2.imwrite` or the `plt.imsave` command."
      ]
    },
    {
      "cell_type": "markdown",
      "metadata": {
        "id": "nG7r104gUfYj"
      },
      "source": [
        "For instance, to save the transpose image, use the following command:"
      ]
    },
    {
      "cell_type": "code",
      "execution_count": null,
      "metadata": {
        "colab": {
          "base_uri": "https://localhost:8080/"
        },
        "id": "-VDuZo1iUfYj",
        "outputId": "1fb4f87e-eaa7-423d-af13-1f238290d59b"
      },
      "outputs": [
        {
          "data": {
            "text/plain": [
              "True"
            ]
          },
          "execution_count": 32,
          "metadata": {},
          "output_type": "execute_result"
        }
      ],
      "source": [
        "cv2.imwrite('logotrans.png',img_trans)"
      ]
    },
    {
      "cell_type": "markdown",
      "metadata": {
        "id": "dNlZLG8UUfYj"
      },
      "source": [
        "I recommend to use `cv2.imwrite`, given that the `plt` option will save it with the yellow background by default."
      ]
    },
    {
      "cell_type": "markdown",
      "metadata": {
        "id": "js8N0QDWe6o5"
      },
      "source": [
        "In this colab version, the files will be saved in your online disk. You can right-click and download it afterwards"
      ]
    },
    {
      "cell_type": "markdown",
      "metadata": {
        "id": "nHD-hmVuUfYl"
      },
      "source": [
        "## Bonus"
      ]
    },
    {
      "cell_type": "code",
      "execution_count": null,
      "metadata": {
        "colab": {
          "base_uri": "https://localhost:8080/",
          "height": 268
        },
        "id": "qHW07yBTUfYl",
        "outputId": "7ae92753-6ef5-4f89-d13c-5870850af967"
      },
      "outputs": [
        {
          "data": {
            "image/png": "[encoded data removed]",
            "text/plain": [
              "<Figure size 432x288 with 1 Axes>"
            ]
          },
          "metadata": {},
          "output_type": "display_data"
        }
      ],
      "source": [
        "## Use this cell to show only the lighter python in black and \"disappear\" the darker one.\n",
        "## You can pre-process the image as you want and implement any binarisation function\n",
        "\n",
        "## I created two binarisation functions:\n",
        "# The first one is to turn all near-white pixels into white\n",
        "# The second one ignores white pixels and binarises inversely\n",
        "def binarise_w(img, threshold):\n",
        "    '''This function biniarises an image in a numpy array according to the specified threshold'''\n",
        "    img_bin = img.copy()\n",
        "    for x in range(img.shape[0]):\n",
        "        for y in range(img.shape[1]):\n",
        "            if img[x,y]>threshold:\n",
        "                img_bin[x,y]=255\n",
        "    plt.imshow(img_bin, cmap='Greys_r')\n",
        "    return img_bin\n",
        "def binarise_inv(img, threshold):\n",
        "    '''This function biniarises an image in a numpy array according to the specified threshold'''\n",
        "    img_bin = img.copy()\n",
        "    for x in range(img.shape[0]):\n",
        "        for y in range(img.shape[1]):\n",
        "            if img[x,y]!=255:\n",
        "                if img[x,y]>threshold:\n",
        "                    img_bin[x,y]=0\n",
        "                else:\n",
        "                    img_bin[x,y]=255\n",
        "    plt.imshow(img_bin, cmap='Greys_r')\n",
        "    return img_bin\n",
        "\n",
        "# I first run the original binarisation function to turn the background white\n",
        "img_bin3 = binarise_w(img, 215)\n",
        "# Then I run the new binarisation function to convert the lighter python into a dark one\n",
        "img_bin3 = binarise_inv(img_bin3, 200)"
      ]
    },
    {
      "cell_type": "markdown",
      "metadata": {
        "id": "scDjK23eUfYl"
      },
      "source": [
        "Note that I could use a morphology operation (as the ones seen in class) to improve the result"
      ]
    },
    {
      "cell_type": "code",
      "execution_count": null,
      "metadata": {
        "colab": {
          "base_uri": "https://localhost:8080/",
          "height": 285
        },
        "id": "t55HhRXWUfYl",
        "outputId": "46f857d8-00b2-455e-f526-2609d0f49d38"
      },
      "outputs": [
        {
          "data": {
            "text/plain": [
              "<matplotlib.image.AxesImage at 0x7ff6ac48ed30>"
            ]
          },
          "execution_count": 30,
          "metadata": {},
          "output_type": "execute_result"
        },
        {
          "data": {
            "image/png": "[encoded data removed]",
            "text/plain": [
              "<Figure size 432x288 with 1 Axes>"
            ]
          },
          "metadata": {},
          "output_type": "display_data"
        }
      ],
      "source": [
        "opening = cv2.morphologyEx(img_bin3, cv2.MORPH_OPEN, cv2.getStructuringElement(cv2.MORPH_CROSS,(4,4)))\n",
        "plt.imshow(opening, cmap='Greys_r')"
      ]
    },
    {
      "cell_type": "markdown",
      "metadata": {
        "id": "P89ZUnEfUfYm"
      },
      "source": [
        "You can find more information on how to apply morphological operations in Python [here](https://opencv-python-tutroals.readthedocs.io/en/latest/py_tutorials/py_imgproc/py_morphological_ops/py_morphological_ops.html)"
      ]
    },
    {
      "cell_type": "markdown",
      "metadata": {
        "id": "mLoZV5qtUfYn"
      },
      "source": [
        "## In case you are curious, how does the image look in colour?"
      ]
    },
    {
      "cell_type": "code",
      "execution_count": null,
      "metadata": {
        "colab": {
          "base_uri": "https://localhost:8080/",
          "height": 1000
        },
        "id": "ti3bV2GiUfYo",
        "outputId": "6d03bd5a-e73d-4404-f496-480cab1ea0af"
      },
      "outputs": [
        {
          "name": "stdout",
          "output_type": "stream",
          "text": [
            "[[[234 234 234]\n",
            "  [246 246 246]\n",
            "  [246 246 246]\n",
            "  ...\n",
            "  [246 246 246]\n",
            "  [246 246 246]\n",
            "  [234 234 234]]\n",
            "\n",
            " [[243 243 243]\n",
            "  [255 255 255]\n",
            "  [255 255 255]\n",
            "  ...\n",
            "  [255 255 255]\n",
            "  [255 255 255]\n",
            "  [242 242 242]]\n",
            "\n",
            " [[243 243 243]\n",
            "  [255 255 255]\n",
            "  [255 255 255]\n",
            "  ...\n",
            "  [255 255 255]\n",
            "  [255 255 255]\n",
            "  [242 242 242]]\n",
            "\n",
            " ...\n",
            "\n",
            " [[243 243 243]\n",
            "  [255 255 255]\n",
            "  [255 255 255]\n",
            "  ...\n",
            "  [255 255 255]\n",
            "  [255 255 255]\n",
            "  [242 242 242]]\n",
            "\n",
            " [[243 243 243]\n",
            "  [255 255 255]\n",
            "  [255 255 255]\n",
            "  ...\n",
            "  [255 255 255]\n",
            "  [255 255 255]\n",
            "  [242 242 242]]\n",
            "\n",
            " [[234 234 234]\n",
            "  [246 246 246]\n",
            "  [246 246 246]\n",
            "  ...\n",
            "  [246 246 246]\n",
            "  [246 246 246]\n",
            "  [234 234 234]]]\n",
            "(75, 75, 3)\n"
          ]
        },
        {
          "data": {
            "text/plain": [
              "<matplotlib.image.AxesImage at 0x7ff6ac3eb880>"
            ]
          },
          "execution_count": 31,
          "metadata": {},
          "output_type": "execute_result"
        },
        {
          "data": {
            "image/png": "[encoded data removed]",
            "text/plain": [
              "<Figure size 432x288 with 1 Axes>"
            ]
          },
          "metadata": {},
          "output_type": "display_data"
        }
      ],
      "source": [
        "## Load the image with the flag in 1 (colour mode)\n",
        "img_color = cv2.imread(\"logo.png\",1)\n",
        "## Print the image (you will see many matrices as there are multiple dimensions)\n",
        "print(img_color)\n",
        "## Print the shape (notice now it has 3 dimensions)\n",
        "print(img_color.shape)\n",
        "## Create three copies of the image\n",
        "img_R = img_color.copy()\n",
        "img_G = img_color.copy()\n",
        "img_B = img_color.copy()\n",
        "## In each copy, only access the values of interest\n",
        "img_R[:, :, (1, 2)] = 0\n",
        "img_G[:, :, (0, 2)] = 0\n",
        "img_B[:, :, (0, 1)] = 0\n",
        "## Concatenate the original image to the three chanels\n",
        "img_RGB = np.concatenate((img_color, img_R, img_G, img_B), axis=1)\n",
        "## Show the images\n",
        "plt.imshow(img_RGB)"
      ]
    }
  ],
  "metadata": {
    "colab": {
      "collapsed_sections": [
        "7B3e_m7BUfX5",
        "kg9doe4NUfX-",
        "eUjGcTVuUfYA",
        "jyDf7yh_UfYV",
        "KY5JdeFCUfYX",
        "BZ9nmG5NUfYZ",
        "_Zc4_DiRUfYb",
        "kcjoEkGxUfYc",
        "5LgwttbSUfYd",
        "F7Gvf00DUfYg",
        "GSN56y2wUfYj"
      ],
      "provenance": [],
      "toc_visible": true,
      "include_colab_link": true
    },
    "hide_input": false,
    "kernelspec": {
      "display_name": "Python 3",
      "language": "python",
      "name": "python3"
    },
    "language_info": {
      "codemirror_mode": {
        "name": "ipython",
        "version": 3
      },
      "file_extension": ".py",
      "mimetype": "text/x-python",
      "name": "python",
      "nbconvert_exporter": "python",
      "pygments_lexer": "ipython3",
      "version": "3.7.3"
    },
    "varInspector": {
      "cols": {
        "lenName": 16,
        "lenType": 16,
        "lenVar": 40
      },
      "kernels_config": {
        "python": {
          "delete_cmd_postfix": "",
          "delete_cmd_prefix": "del ",
          "library": "var_list.py",
          "varRefreshCmd": "print(var_dic_list())"
        },
        "r": {
          "delete_cmd_postfix": ") ",
          "delete_cmd_prefix": "rm(",
          "library": "var_list.r",
          "varRefreshCmd": "cat(var_dic_list()) "
        }
      },
      "types_to_exclude": [
        "module",
        "function",
        "builtin_function_or_method",
        "instance",
        "_Feature"
      ],
      "window_display": false
    }
  },
  "nbformat": 4,
  "nbformat_minor": 0
}