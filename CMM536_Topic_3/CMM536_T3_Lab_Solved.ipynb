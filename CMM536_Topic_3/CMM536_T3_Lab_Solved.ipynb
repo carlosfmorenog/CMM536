{
  "cells": [
    {
      "cell_type": "markdown",
      "metadata": {
        "id": "view-in-github",
        "colab_type": "text"
      },
      "source": [
        "<a href=\"https://colab.research.google.com/github/carlosfmorenog/CMM536/blob/master/CMM536_Topic_3/CMM536_T3_Lab_Solved.ipynb\" target=\"_parent\"><img src=\"https://colab.research.google.com/assets/colab-badge.svg\" alt=\"Open In Colab\"/></a>"
      ]
    },
    {
      "cell_type": "markdown",
      "metadata": {
        "id": "4QNc6IUTUfXV"
      },
      "source": [
        "# Topic 3 Laboratory SOLVED"
      ]
    },
    {
      "cell_type": "markdown",
      "metadata": {
        "id": "ayxft5eqUfXa"
      },
      "source": [
        "In this activity you will have the opportunity to understand better how to import and manipulate images in Python."
      ]
    },
    {
      "cell_type": "markdown",
      "metadata": {
        "id": "5CgMq6gIUfXd"
      },
      "source": [
        "## Installing the necessary packages"
      ]
    },
    {
      "cell_type": "markdown",
      "metadata": {
        "id": "tGG0IS1cUfXe"
      },
      "source": [
        "To work with images in Python, we will use packages such as `numpy`, `OpenCV` and `matplotlib` (all of them are part of Colab, therefore no need to install)."
      ]
    },
    {
      "cell_type": "markdown",
      "metadata": {
        "id": "Hsx99kd9UfXn"
      },
      "source": [
        "## Importing the modules"
      ]
    },
    {
      "cell_type": "markdown",
      "metadata": {
        "id": "saeD1RmzUfXo"
      },
      "source": [
        "Now we will import the packages, functions and classes we will use for this activity:"
      ]
    },
    {
      "cell_type": "markdown",
      "metadata": {
        "id": "wLV-ZmOjUfXp"
      },
      "source": [
        "* The first one is `OpenCV`, which is refered to as `cv2`:"
      ]
    },
    {
      "cell_type": "code",
      "execution_count": null,
      "metadata": {
        "id": "mggCmYnsUfXq"
      },
      "outputs": [],
      "source": [
        "import cv2"
      ]
    },
    {
      "cell_type": "markdown",
      "metadata": {
        "id": "O_a1FZddUfXr"
      },
      "source": [
        "* To handle and perform operations on the images, we need `numpy`, which can be imported by executing the command we saw in class:"
      ]
    },
    {
      "cell_type": "code",
      "execution_count": null,
      "metadata": {
        "id": "7OEBoFCYUfXr"
      },
      "outputs": [],
      "source": [
        "import numpy as np"
      ]
    },
    {
      "cell_type": "markdown",
      "metadata": {
        "id": "FPSPW5mhUfXs"
      },
      "source": [
        "* To plot the images, we will use `matplotlib.pyplot` assigning the pseudonym `plt` for short"
      ]
    },
    {
      "cell_type": "code",
      "execution_count": null,
      "metadata": {
        "id": "-YZHXr20UfXs"
      },
      "outputs": [],
      "source": [
        "import matplotlib.pyplot as plt"
      ]
    },
    {
      "cell_type": "markdown",
      "metadata": {
        "id": "FN2mpFe1UfXt"
      },
      "source": [
        "## Working with grayscale images"
      ]
    },
    {
      "cell_type": "markdown",
      "metadata": {
        "id": "ovo1LPcwUfXu"
      },
      "source": [
        "### Loading and importing the image"
      ]
    },
    {
      "cell_type": "markdown",
      "metadata": {
        "id": "Q8j2MuF0unMg"
      },
      "source": [
        "#### Loading the image from your computer into google colab's disk"
      ]
    },
    {
      "cell_type": "markdown",
      "metadata": {
        "id": "y4u7K6q7UfXu"
      },
      "source": [
        "First, go to moodle and from the section containing the material for this week, download image `logo.png`."
      ]
    },
    {
      "cell_type": "markdown",
      "metadata": {
        "id": "KR4wBVrwUfXv"
      },
      "source": [
        "Then, run the following cell to load the image into the notebook's disk:"
      ]
    },
    {
      "cell_type": "code",
      "execution_count": null,
      "metadata": {
        "colab": {
          "base_uri": "https://localhost:8080/",
          "height": 74
        },
        "id": "Oe3nOKhDu0EI",
        "outputId": "209e7f51-5507-44e0-c4af-ad455fef8c4f"
      },
      "outputs": [
        {
          "output_type": "display_data",
          "data": {
            "text/plain": [
              "<IPython.core.display.HTML object>"
            ],
            "text/html": [
              "\n",
              "     <input type=\"file\" id=\"files-8a1f8d24-be4e-4f60-96c3-ea0acec504e7\" name=\"files[]\" multiple disabled\n",
              "        style=\"border:none\" />\n",
              "     <output id=\"result-8a1f8d24-be4e-4f60-96c3-ea0acec504e7\">\n",
              "      Upload widget is only available when the cell has been executed in the\n",
              "      current browser session. Please rerun this cell to enable.\n",
              "      </output>\n",
              "      <script>// Copyright 2017 Google LLC\n",
              "//\n",
              "// Licensed under the Apache License, Version 2.0 (the \"License\");\n",
              "// you may not use this file except in compliance with the License.\n",
              "// You may obtain a copy of the License at\n",
              "//\n",
              "//      http://www.apache.org/licenses/LICENSE-2.0\n",
              "//\n",
              "// Unless required by applicable law or agreed to in writing, software\n",
              "// distributed under the License is distributed on an \"AS IS\" BASIS,\n",
              "// WITHOUT WARRANTIES OR CONDITIONS OF ANY KIND, either express or implied.\n",
              "// See the License for the specific language governing permissions and\n",
              "// limitations under the License.\n",
              "\n",
              "/**\n",
              " * @fileoverview Helpers for google.colab Python module.\n",
              " */\n",
              "(function(scope) {\n",
              "function span(text, styleAttributes = {}) {\n",
              "  const element = document.createElement('span');\n",
              "  element.textContent = text;\n",
              "  for (const key of Object.keys(styleAttributes)) {\n",
              "    element.style[key] = styleAttributes[key];\n",
              "  }\n",
              "  return element;\n",
              "}\n",
              "\n",
              "// Max number of bytes which will be uploaded at a time.\n",
              "const MAX_PAYLOAD_SIZE = 100 * 1024;\n",
              "\n",
              "function _uploadFiles(inputId, outputId) {\n",
              "  const steps = uploadFilesStep(inputId, outputId);\n",
              "  const outputElement = document.getElementById(outputId);\n",
              "  // Cache steps on the outputElement to make it available for the next call\n",
              "  // to uploadFilesContinue from Python.\n",
              "  outputElement.steps = steps;\n",
              "\n",
              "  return _uploadFilesContinue(outputId);\n",
              "}\n",
              "\n",
              "// This is roughly an async generator (not supported in the browser yet),\n",
              "// where there are multiple asynchronous steps and the Python side is going\n",
              "// to poll for completion of each step.\n",
              "// This uses a Promise to block the python side on completion of each step,\n",
              "// then passes the result of the previous step as the input to the next step.\n",
              "function _uploadFilesContinue(outputId) {\n",
              "  const outputElement = document.getElementById(outputId);\n",
              "  const steps = outputElement.steps;\n",
              "\n",
              "  const next = steps.next(outputElement.lastPromiseValue);\n",
              "  return Promise.resolve(next.value.promise).then((value) => {\n",
              "    // Cache the last promise value to make it available to the next\n",
              "    // step of the generator.\n",
              "    outputElement.lastPromiseValue = value;\n",
              "    return next.value.response;\n",
              "  });\n",
              "}\n",
              "\n",
              "/**\n",
              " * Generator function which is called between each async step of the upload\n",
              " * process.\n",
              " * @param {string} inputId Element ID of the input file picker element.\n",
              " * @param {string} outputId Element ID of the output display.\n",
              " * @return {!Iterable<!Object>} Iterable of next steps.\n",
              " */\n",
              "function* uploadFilesStep(inputId, outputId) {\n",
              "  const inputElement = document.getElementById(inputId);\n",
              "  inputElement.disabled = false;\n",
              "\n",
              "  const outputElement = document.getElementById(outputId);\n",
              "  outputElement.innerHTML = '';\n",
              "\n",
              "  const pickedPromise = new Promise((resolve) => {\n",
              "    inputElement.addEventListener('change', (e) => {\n",
              "      resolve(e.target.files);\n",
              "    });\n",
              "  });\n",
              "\n",
              "  const cancel = document.createElement('button');\n",
              "  inputElement.parentElement.appendChild(cancel);\n",
              "  cancel.textContent = 'Cancel upload';\n",
              "  const cancelPromise = new Promise((resolve) => {\n",
              "    cancel.onclick = () => {\n",
              "      resolve(null);\n",
              "    };\n",
              "  });\n",
              "\n",
              "  // Wait for the user to pick the files.\n",
              "  const files = yield {\n",
              "    promise: Promise.race([pickedPromise, cancelPromise]),\n",
              "    response: {\n",
              "      action: 'starting',\n",
              "    }\n",
              "  };\n",
              "\n",
              "  cancel.remove();\n",
              "\n",
              "  // Disable the input element since further picks are not allowed.\n",
              "  inputElement.disabled = true;\n",
              "\n",
              "  if (!files) {\n",
              "    return {\n",
              "      response: {\n",
              "        action: 'complete',\n",
              "      }\n",
              "    };\n",
              "  }\n",
              "\n",
              "  for (const file of files) {\n",
              "    const li = document.createElement('li');\n",
              "    li.append(span(file.name, {fontWeight: 'bold'}));\n",
              "    li.append(span(\n",
              "        `(${file.type || 'n/a'}) - ${file.size} bytes, ` +\n",
              "        `last modified: ${\n",
              "            file.lastModifiedDate ? file.lastModifiedDate.toLocaleDateString() :\n",
              "                                    'n/a'} - `));\n",
              "    const percent = span('0% done');\n",
              "    li.appendChild(percent);\n",
              "\n",
              "    outputElement.appendChild(li);\n",
              "\n",
              "    const fileDataPromise = new Promise((resolve) => {\n",
              "      const reader = new FileReader();\n",
              "      reader.onload = (e) => {\n",
              "        resolve(e.target.result);\n",
              "      };\n",
              "      reader.readAsArrayBuffer(file);\n",
              "    });\n",
              "    // Wait for the data to be ready.\n",
              "    let fileData = yield {\n",
              "      promise: fileDataPromise,\n",
              "      response: {\n",
              "        action: 'continue',\n",
              "      }\n",
              "    };\n",
              "\n",
              "    // Use a chunked sending to avoid message size limits. See b/62115660.\n",
              "    let position = 0;\n",
              "    do {\n",
              "      const length = Math.min(fileData.byteLength - position, MAX_PAYLOAD_SIZE);\n",
              "      const chunk = new Uint8Array(fileData, position, length);\n",
              "      position += length;\n",
              "\n",
              "      const base64 = btoa(String.fromCharCode.apply(null, chunk));\n",
              "      yield {\n",
              "        response: {\n",
              "          action: 'append',\n",
              "          file: file.name,\n",
              "          data: base64,\n",
              "        },\n",
              "      };\n",
              "\n",
              "      let percentDone = fileData.byteLength === 0 ?\n",
              "          100 :\n",
              "          Math.round((position / fileData.byteLength) * 100);\n",
              "      percent.textContent = `${percentDone}% done`;\n",
              "\n",
              "    } while (position < fileData.byteLength);\n",
              "  }\n",
              "\n",
              "  // All done.\n",
              "  yield {\n",
              "    response: {\n",
              "      action: 'complete',\n",
              "    }\n",
              "  };\n",
              "}\n",
              "\n",
              "scope.google = scope.google || {};\n",
              "scope.google.colab = scope.google.colab || {};\n",
              "scope.google.colab._files = {\n",
              "  _uploadFiles,\n",
              "  _uploadFilesContinue,\n",
              "};\n",
              "})(self);\n",
              "</script> "
            ]
          },
          "metadata": {}
        },
        {
          "output_type": "stream",
          "name": "stdout",
          "text": [
            "Saving logo.png to logo.png\n"
          ]
        }
      ],
      "source": [
        "from google.colab import files\n",
        "uploaded = files.upload()"
      ]
    },
    {
      "cell_type": "markdown",
      "metadata": {
        "id": "8g6M5M7fu3nG"
      },
      "source": [
        "#### Importing the image as a numpy array using open cv"
      ]
    },
    {
      "cell_type": "markdown",
      "metadata": {
        "id": "6_nWTwgWUfXv"
      },
      "source": [
        "To import the Python logo as a `numpy array` into a variable called `img`, we will use the `imread`command from `OpenCV`."
      ]
    },
    {
      "cell_type": "markdown",
      "metadata": {
        "id": "M9XFa_xYUfXv"
      },
      "source": [
        "You can find the full documentation of the command [here](https://docs.opencv.org/4.2.0/d4/da8/group__imgcodecs.html), but I strongly recommend you to check the [OpenCV Python Tutorials](https://opencv24-python-tutorials.readthedocs.io/en/latest/) whenever you have a doubt of any command, as they are more suitable and easier to understand that the `OpenCV` original documentation which is designed for C."
      ]
    },
    {
      "cell_type": "code",
      "execution_count": null,
      "metadata": {
        "id": "s6GaGquBUfXw"
      },
      "outputs": [],
      "source": [
        "## Loading the logo as a grayscale image\n",
        "img = cv2.imread(\"/content/logo.png\",0)"
      ]
    },
    {
      "cell_type": "markdown",
      "metadata": {
        "id": "PKT97NFyUfXx"
      },
      "source": [
        "Notice that the `imread` function has two parameters: the **image file** to load and a **flag** (0/1) which indicates if we need to load the image as grayscale/colour respectively."
      ]
    },
    {
      "cell_type": "markdown",
      "metadata": {
        "id": "HsOhFnAjUfXx"
      },
      "source": [
        "Check the type and shape of the image to verify that you have a `numpy` array of size $75 \\times 75$"
      ]
    },
    {
      "cell_type": "code",
      "execution_count": null,
      "metadata": {
        "colab": {
          "base_uri": "https://localhost:8080/"
        },
        "id": "LoylnQxnUfXx",
        "outputId": "f7fd5c3f-d49b-4988-b44e-cd4ea52db0bf"
      },
      "outputs": [
        {
          "output_type": "execute_result",
          "data": {
            "text/plain": [
              "numpy.ndarray"
            ]
          },
          "metadata": {},
          "execution_count": 6
        }
      ],
      "source": [
        "type(img)"
      ]
    },
    {
      "cell_type": "code",
      "execution_count": null,
      "metadata": {
        "colab": {
          "base_uri": "https://localhost:8080/"
        },
        "id": "IOSXbfZ-UfXx",
        "outputId": "ee48e81a-ce46-4070-9d17-dd2e8bc3f34f"
      },
      "outputs": [
        {
          "output_type": "execute_result",
          "data": {
            "text/plain": [
              "(75, 75)"
            ]
          },
          "metadata": {},
          "execution_count": 7
        }
      ],
      "source": [
        "img.shape"
      ]
    },
    {
      "cell_type": "markdown",
      "metadata": {
        "id": "4XT7H0-aUfXy"
      },
      "source": [
        "What would happen if we print `img`? Are we able to see it? Run the following cell to find out!"
      ]
    },
    {
      "cell_type": "code",
      "execution_count": null,
      "metadata": {
        "colab": {
          "base_uri": "https://localhost:8080/"
        },
        "id": "qc9U3XL4UfXz",
        "outputId": "ca3c2d27-5c9c-4b64-8873-93eaa3df3f5c",
        "scrolled": true
      },
      "outputs": [
        {
          "output_type": "stream",
          "name": "stdout",
          "text": [
            "[[234 246 246 ... 246 246 234]\n",
            " [243 255 255 ... 255 255 242]\n",
            " [243 255 255 ... 255 255 242]\n",
            " ...\n",
            " [243 255 255 ... 255 255 242]\n",
            " [243 255 255 ... 255 255 242]\n",
            " [234 246 246 ... 246 246 234]]\n"
          ]
        }
      ],
      "source": [
        "print(img)"
      ]
    },
    {
      "cell_type": "markdown",
      "metadata": {
        "id": "NfOO1pK5UfXz"
      },
      "source": [
        "Notice that we only see a bunch of numbers in an array. This is because when printing the variable, Python automatically assumes that we want to visualise the values of the pixels and not the image itself."
      ]
    },
    {
      "cell_type": "markdown",
      "metadata": {
        "id": "c6ENwlqDUfXz"
      },
      "source": [
        "To show the actual image, we can use either the `cv2.imshow` function or the `plt.imshow` function (from the `matplotlib.pyplot` library)."
      ]
    },
    {
      "cell_type": "code",
      "execution_count": null,
      "metadata": {
        "id": "Xr3NCJW7UfX0",
        "colab": {
          "base_uri": "https://localhost:8080/",
          "height": 376
        },
        "outputId": "70860bed-aec3-4ec7-a4b8-60038fa02ac2"
      },
      "outputs": [
        {
          "output_type": "error",
          "ename": "DisabledFunctionError",
          "evalue": "cv2.imshow() is disabled in Colab, because it causes Jupyter sessions\nto crash; see https://github.com/jupyter/notebook/issues/3935.\nAs a substitution, consider using\n  from google.colab.patches import cv2_imshow\n",
          "traceback": [
            "\u001b[0;31m---------------------------------------------------------------------------\u001b[0m",
            "\u001b[0;31mDisabledFunctionError\u001b[0m                     Traceback (most recent call last)",
            "\u001b[0;32m<ipython-input-9-296362437736>\u001b[0m in \u001b[0;36m<cell line: 0>\u001b[0;34m()\u001b[0m\n\u001b[0;32m----> 1\u001b[0;31m \u001b[0mcv2\u001b[0m\u001b[0;34m.\u001b[0m\u001b[0mimshow\u001b[0m\u001b[0;34m(\u001b[0m\u001b[0;34m'logo'\u001b[0m\u001b[0;34m,\u001b[0m\u001b[0mimg\u001b[0m\u001b[0;34m)\u001b[0m\u001b[0;34m\u001b[0m\u001b[0;34m\u001b[0m\u001b[0m\n\u001b[0m\u001b[1;32m      2\u001b[0m \u001b[0mcv2\u001b[0m\u001b[0;34m.\u001b[0m\u001b[0mwaitKey\u001b[0m\u001b[0;34m(\u001b[0m\u001b[0;34m)\u001b[0m\u001b[0;34m\u001b[0m\u001b[0;34m\u001b[0m\u001b[0m\n",
            "\u001b[0;32m/usr/local/lib/python3.11/dist-packages/google/colab/_import_hooks/_cv2.py\u001b[0m in \u001b[0;36mwrapped\u001b[0;34m(*args, **kwargs)\u001b[0m\n\u001b[1;32m     46\u001b[0m   \u001b[0;32mdef\u001b[0m \u001b[0mwrapped\u001b[0m\u001b[0;34m(\u001b[0m\u001b[0;34m*\u001b[0m\u001b[0margs\u001b[0m\u001b[0;34m,\u001b[0m \u001b[0;34m**\u001b[0m\u001b[0mkwargs\u001b[0m\u001b[0;34m)\u001b[0m\u001b[0;34m:\u001b[0m\u001b[0;34m\u001b[0m\u001b[0;34m\u001b[0m\u001b[0m\n\u001b[1;32m     47\u001b[0m     \u001b[0;32mif\u001b[0m \u001b[0;32mnot\u001b[0m \u001b[0mos\u001b[0m\u001b[0;34m.\u001b[0m\u001b[0menviron\u001b[0m\u001b[0;34m.\u001b[0m\u001b[0mget\u001b[0m\u001b[0;34m(\u001b[0m\u001b[0menv_var\u001b[0m\u001b[0;34m,\u001b[0m \u001b[0;32mFalse\u001b[0m\u001b[0;34m)\u001b[0m\u001b[0;34m:\u001b[0m\u001b[0;34m\u001b[0m\u001b[0;34m\u001b[0m\u001b[0m\n\u001b[0;32m---> 48\u001b[0;31m       \u001b[0;32mraise\u001b[0m \u001b[0mDisabledFunctionError\u001b[0m\u001b[0;34m(\u001b[0m\u001b[0mmessage\u001b[0m\u001b[0;34m,\u001b[0m \u001b[0mname\u001b[0m \u001b[0;32mor\u001b[0m \u001b[0mfunc\u001b[0m\u001b[0;34m.\u001b[0m\u001b[0m__name__\u001b[0m\u001b[0;34m)\u001b[0m\u001b[0;34m\u001b[0m\u001b[0;34m\u001b[0m\u001b[0m\n\u001b[0m\u001b[1;32m     49\u001b[0m     \u001b[0;32mreturn\u001b[0m \u001b[0mfunc\u001b[0m\u001b[0;34m(\u001b[0m\u001b[0;34m*\u001b[0m\u001b[0margs\u001b[0m\u001b[0;34m,\u001b[0m \u001b[0;34m**\u001b[0m\u001b[0mkwargs\u001b[0m\u001b[0;34m)\u001b[0m\u001b[0;34m\u001b[0m\u001b[0;34m\u001b[0m\u001b[0m\n\u001b[1;32m     50\u001b[0m \u001b[0;34m\u001b[0m\u001b[0m\n",
            "\u001b[0;31mDisabledFunctionError\u001b[0m: cv2.imshow() is disabled in Colab, because it causes Jupyter sessions\nto crash; see https://github.com/jupyter/notebook/issues/3935.\nAs a substitution, consider using\n  from google.colab.patches import cv2_imshow\n"
          ],
          "errorDetails": {
            "actions": [
              {
                "action": "open_snippet",
                "actionText": "Search Snippets for cv2.imshow",
                "snippetFilter": "cv2.imshow"
              }
            ]
          }
        }
      ],
      "source": [
        "# Option 1: Don't use this in Colab as it doesn't work\n",
        "cv2.imshow('logo',img)\n",
        "cv2.waitKey()"
      ]
    },
    {
      "cell_type": "code",
      "execution_count": null,
      "metadata": {
        "colab": {
          "base_uri": "https://localhost:8080/",
          "height": 451
        },
        "id": "jp3iRATDUfX1",
        "outputId": "806ab980-0661-457d-fd65-f26bdb9f5e95"
      },
      "outputs": [
        {
          "output_type": "execute_result",
          "data": {
            "text/plain": [
              "<matplotlib.image.AxesImage at 0x7a40a349dad0>"
            ]
          },
          "metadata": {},
          "execution_count": 10
        },
        {
          "output_type": "display_data",
          "data": {
            "text/plain": [
              "<Figure size 640x480 with 1 Axes>"
            ],
            "image/png": "[encoded data removed]"
          },
          "metadata": {}
        }
      ],
      "source": [
        "# Option 2: Use this one instead\n",
        "plt.imshow(img, cmap='gray')"
      ]
    },
    {
      "cell_type": "markdown",
      "metadata": {
        "id": "FZ11qCkqUfX2"
      },
      "source": [
        "The first option will show the image in a pop-up window which is prone to crash, while the second one will show you the image within a coordinate plane and within the notebook."
      ]
    },
    {
      "cell_type": "markdown",
      "metadata": {
        "id": "UoRP4ZxzUfX3"
      },
      "source": [
        "However, the image does not appear in grayscale as `plt` attempts to use colours to show you the image with a better contrast."
      ]
    },
    {
      "cell_type": "markdown",
      "metadata": {
        "id": "PcYXpTEKUfX3"
      },
      "source": [
        "To avoid the yellow background, you can use the following setting:"
      ]
    },
    {
      "cell_type": "code",
      "execution_count": null,
      "metadata": {
        "colab": {
          "base_uri": "https://localhost:8080/",
          "height": 451
        },
        "id": "1pSMxSqsUfX4",
        "outputId": "8c975566-ed46-4175-9e60-7386f668ad93"
      },
      "outputs": [
        {
          "output_type": "execute_result",
          "data": {
            "text/plain": [
              "<matplotlib.image.AxesImage at 0x7a40a2d54990>"
            ]
          },
          "metadata": {},
          "execution_count": 11
        },
        {
          "output_type": "display_data",
          "data": {
            "text/plain": [
              "<Figure size 640x480 with 1 Axes>"
            ],
            "image/png": "[encoded data removed]"
          },
          "metadata": {}
        }
      ],
      "source": [
        "plt.imshow(img, cmap='Greys_r')"
      ]
    },
    {
      "cell_type": "markdown",
      "metadata": {
        "id": "7B3e_m7BUfX5"
      },
      "source": [
        "### Locating the value of pixels"
      ]
    },
    {
      "cell_type": "markdown",
      "metadata": {
        "id": "hZnGG1CFUfX6"
      },
      "source": [
        "Notice that the image is shown with a coordinate plane which gives us an idea of the positions of the pixels within the logo."
      ]
    },
    {
      "cell_type": "markdown",
      "metadata": {
        "id": "zmgI8aQ3UfX7"
      },
      "source": [
        "Given that this is a $75 \\times 75$ image, we can access different positions of the image to see their value."
      ]
    },
    {
      "cell_type": "markdown",
      "metadata": {
        "id": "MaxTgHvfUfX7"
      },
      "source": [
        "For instance, to see the value of the **left-top** pixel, we can use the following command (The first zero corresponds to the y-axis/rows and the second zero corresponds to the x-axis/column):"
      ]
    },
    {
      "cell_type": "code",
      "execution_count": null,
      "metadata": {
        "colab": {
          "base_uri": "https://localhost:8080/"
        },
        "id": "bPaxWrw1UfX8",
        "outputId": "9d5c48bd-1328-4a1e-9d3b-c03f2a37da9e"
      },
      "outputs": [
        {
          "output_type": "stream",
          "name": "stdout",
          "text": [
            "234\n"
          ]
        }
      ],
      "source": [
        "print(img[0,0])"
      ]
    },
    {
      "cell_type": "markdown",
      "metadata": {
        "id": "B-ugAAysUfX9"
      },
      "source": [
        "We can use the same command to see different positions of the image."
      ]
    },
    {
      "cell_type": "markdown",
      "metadata": {
        "id": "dCFnSDsoUfX9"
      },
      "source": [
        "For instance, you can see the value of the other corners or some values from the two pythons."
      ]
    },
    {
      "cell_type": "code",
      "execution_count": null,
      "metadata": {
        "colab": {
          "base_uri": "https://localhost:8080/"
        },
        "id": "Mj5QscuuUfX9",
        "outputId": "71c7da1c-a707-4537-e2a3-26b28d4b38a1"
      },
      "outputs": [
        {
          "output_type": "stream",
          "name": "stdout",
          "text": [
            "222\n"
          ]
        }
      ],
      "source": [
        "## Use this cell to print the values of different pixels\n",
        "print(img[50,40])"
      ]
    },
    {
      "cell_type": "markdown",
      "metadata": {
        "id": "bPynWx3qUfX-"
      },
      "source": [
        "Take note of the approximate values corresponding to the two pythons. We will use this information later!"
      ]
    },
    {
      "cell_type": "markdown",
      "metadata": {
        "id": "kg9doe4NUfX-"
      },
      "source": [
        "### Changing the value of pixels"
      ]
    },
    {
      "cell_type": "markdown",
      "metadata": {
        "id": "P9G6szyVUfX-"
      },
      "source": [
        "We can change the top-left pixel of the img in `img` to black by issuing the following code:"
      ]
    },
    {
      "cell_type": "code",
      "execution_count": null,
      "metadata": {
        "colab": {
          "base_uri": "https://localhost:8080/",
          "height": 576
        },
        "id": "cQkp2B1AUfX-",
        "outputId": "ef6ebd93-3a71-4c59-9021-a47a1654bb3a"
      },
      "outputs": [
        {
          "output_type": "stream",
          "name": "stdout",
          "text": [
            "[[  0 246 246 ... 246 246 234]\n",
            " [243 255 255 ... 255 255 242]\n",
            " [243 255 255 ... 255 255 242]\n",
            " ...\n",
            " [243 255 255 ... 255 255 242]\n",
            " [243 255 255 ... 255 255 242]\n",
            " [234 246 246 ... 246 246 234]]\n"
          ]
        },
        {
          "output_type": "execute_result",
          "data": {
            "text/plain": [
              "<matplotlib.image.AxesImage at 0x7a4082c163d0>"
            ]
          },
          "metadata": {},
          "execution_count": 14
        },
        {
          "output_type": "display_data",
          "data": {
            "text/plain": [
              "<Figure size 640x480 with 1 Axes>"
            ],
            "image/png": "[encoded data removed]"
          },
          "metadata": {}
        }
      ],
      "source": [
        "img[0,0]=0\n",
        "print(img)\n",
        "plt.imshow(img, cmap='Greys_r')"
      ]
    },
    {
      "cell_type": "markdown",
      "metadata": {
        "id": "eUjGcTVuUfYA"
      },
      "source": [
        "### Trimming the image"
      ]
    },
    {
      "cell_type": "markdown",
      "metadata": {
        "id": "wqIOYOR7UfYA"
      },
      "source": [
        "We can also slice the image and create a new, smaller one."
      ]
    },
    {
      "cell_type": "markdown",
      "metadata": {
        "id": "mY7Q-znSUfYA"
      },
      "source": [
        "For instance, say that you want to produce a new image only with the face of the dark-coloured python."
      ]
    },
    {
      "cell_type": "markdown",
      "metadata": {
        "id": "80ZCTlBzUfYC"
      },
      "source": [
        "We start from the **row 15** to the **row 26**, and then from the **column 24** to the **column 39**."
      ]
    },
    {
      "cell_type": "markdown",
      "metadata": {
        "id": "frX4VLVEUfYC"
      },
      "source": [
        "Now, we can use the following code to produce a trimmed image called `img_trimdark` with the face of the dark-coloured python."
      ]
    },
    {
      "cell_type": "code",
      "execution_count": null,
      "metadata": {
        "colab": {
          "base_uri": "https://localhost:8080/",
          "height": 442
        },
        "id": "7EzU-KI7UfYS",
        "outputId": "c830061e-3b82-495b-9e13-abb22559aae3"
      },
      "outputs": [
        {
          "output_type": "execute_result",
          "data": {
            "text/plain": [
              "<matplotlib.image.AxesImage at 0x7a40807156d0>"
            ]
          },
          "metadata": {},
          "execution_count": 15
        },
        {
          "output_type": "display_data",
          "data": {
            "text/plain": [
              "<Figure size 640x480 with 1 Axes>"
            ],
            "image/png": "[encoded data removed]"
          },
          "metadata": {}
        }
      ],
      "source": [
        "img_trimdark = img[15:26,24:39] # rows go first, columns go after\n",
        "plt.imshow(img_trimdark, cmap='Greys_r')"
      ]
    },
    {
      "cell_type": "markdown",
      "metadata": {
        "id": "Szxl7c9qUfYT"
      },
      "source": [
        "Now it's your turn to create a trimmed image called `img_trimlight` with the face of the light-coloured python."
      ]
    },
    {
      "cell_type": "code",
      "execution_count": null,
      "metadata": {
        "colab": {
          "base_uri": "https://localhost:8080/",
          "height": 269
        },
        "id": "LSxyw-2SUfYU",
        "outputId": "ee2d888f-a41b-4325-9718-63b7994d2713"
      },
      "outputs": [
        {
          "output_type": "execute_result",
          "data": {
            "text/plain": [
              "<matplotlib.image.AxesImage at 0x7a4080766390>"
            ]
          },
          "metadata": {},
          "execution_count": 16
        },
        {
          "output_type": "display_data",
          "data": {
            "text/plain": [
              "<Figure size 640x480 with 1 Axes>"
            ],
            "image/png": "[encoded data removed]"
          },
          "metadata": {}
        }
      ],
      "source": [
        "## Use this cell to create img_trimlight\n",
        "img_trimdark = img[50:60,25:51] # rows go first, columns go after\n",
        "plt.imshow(img_trimdark, cmap='Greys_r')"
      ]
    },
    {
      "cell_type": "markdown",
      "metadata": {
        "id": "jyDf7yh_UfYV"
      },
      "source": [
        "### Inverting the image"
      ]
    },
    {
      "cell_type": "markdown",
      "metadata": {
        "id": "BaUAzl5FUfYV"
      },
      "source": [
        "You can also create the *negative* of an image by doing the following:"
      ]
    },
    {
      "cell_type": "code",
      "execution_count": null,
      "metadata": {
        "colab": {
          "base_uri": "https://localhost:8080/",
          "height": 576
        },
        "id": "6RsOABngUfYW",
        "outputId": "5dcc9138-8c53-427a-a2c9-53085f9e5216"
      },
      "outputs": [
        {
          "output_type": "stream",
          "name": "stdout",
          "text": [
            "[[255   9   9 ...   9   9  21]\n",
            " [ 12   0   0 ...   0   0  13]\n",
            " [ 12   0   0 ...   0   0  13]\n",
            " ...\n",
            " [ 12   0   0 ...   0   0  13]\n",
            " [ 12   0   0 ...   0   0  13]\n",
            " [ 21   9   9 ...   9   9  21]]\n"
          ]
        },
        {
          "output_type": "execute_result",
          "data": {
            "text/plain": [
              "<matplotlib.image.AxesImage at 0x7a40807f8ad0>"
            ]
          },
          "metadata": {},
          "execution_count": 17
        },
        {
          "output_type": "display_data",
          "data": {
            "text/plain": [
              "<Figure size 640x480 with 1 Axes>"
            ],
            "image/png": "[encoded data removed]"
          },
          "metadata": {}
        }
      ],
      "source": [
        "img_neg = 255 - img\n",
        "print(img_neg)\n",
        "plt.imshow(img_neg, cmap='Greys_r')"
      ]
    },
    {
      "cell_type": "markdown",
      "metadata": {
        "id": "OQEJW6a8UfYW"
      },
      "source": [
        "By subtracting $255$ minus the original image, what we are doing is converting all values into their opposite ones (in the gray scale)."
      ]
    },
    {
      "cell_type": "markdown",
      "metadata": {
        "id": "KY5JdeFCUfYX"
      },
      "source": [
        "### Transposing the image"
      ]
    },
    {
      "cell_type": "markdown",
      "metadata": {
        "id": "6GMt7WyDUfYX"
      },
      "source": [
        "As seen in the previous lab, there is a mathematical operation called **transpose** which lets you exchange the columns and the rows of a matrix. This function is also included in the numpy module, and it can be applied to image arrays as well:"
      ]
    },
    {
      "cell_type": "code",
      "execution_count": null,
      "metadata": {
        "colab": {
          "base_uri": "https://localhost:8080/",
          "height": 451
        },
        "id": "UUN7rzX2UfYY",
        "outputId": "5a20e6f0-c27a-4f24-f3f0-1567e72b46fd"
      },
      "outputs": [
        {
          "output_type": "execute_result",
          "data": {
            "text/plain": [
              "<matplotlib.image.AxesImage at 0x7a40806459d0>"
            ]
          },
          "metadata": {},
          "execution_count": 18
        },
        {
          "output_type": "display_data",
          "data": {
            "text/plain": [
              "<Figure size 640x480 with 1 Axes>"
            ],
            "image/png": "[encoded data removed]"
          },
          "metadata": {}
        }
      ],
      "source": [
        "img_trans = img.transpose()\n",
        "plt.imshow(img_trans, cmap='Greys_r')"
      ]
    },
    {
      "cell_type": "markdown",
      "metadata": {
        "id": "lJaSLnsKUfYY"
      },
      "source": [
        "Notice that the new image is turned 90 degrees counter-clockwise and has also been flipped vertically."
      ]
    },
    {
      "cell_type": "markdown",
      "metadata": {
        "id": "BZ9nmG5NUfYZ"
      },
      "source": [
        "### Resizing the image"
      ]
    },
    {
      "cell_type": "markdown",
      "metadata": {
        "id": "6vSgs6CmUfYZ"
      },
      "source": [
        "`OpenCV`also contains a pre-defined function to resize the image by indicating the new width/height."
      ]
    },
    {
      "cell_type": "code",
      "execution_count": null,
      "metadata": {
        "colab": {
          "base_uri": "https://localhost:8080/",
          "height": 452
        },
        "id": "p9fcnEEeUfYZ",
        "outputId": "af374e57-0b2f-4afa-f6a2-f3628aad09fe"
      },
      "outputs": [
        {
          "output_type": "execute_result",
          "data": {
            "text/plain": [
              "<matplotlib.image.AxesImage at 0x7a4080643890>"
            ]
          },
          "metadata": {},
          "execution_count": 19
        },
        {
          "output_type": "display_data",
          "data": {
            "text/plain": [
              "<Figure size 640x480 with 1 Axes>"
            ],
            "image/png": "[encoded data removed]"
          },
          "metadata": {}
        }
      ],
      "source": [
        "img_resize = cv2.resize(img, (100, 150))\n",
        "plt.imshow(img_resize, cmap='Greys_r')"
      ]
    },
    {
      "cell_type": "markdown",
      "metadata": {
        "id": "dsLp9soCUfYa"
      },
      "source": [
        "Try different values in the tuple (second parameter of the function) to see different results."
      ]
    },
    {
      "cell_type": "markdown",
      "metadata": {
        "id": "_Zc4_DiRUfYb"
      },
      "source": [
        "### Normalising the image"
      ]
    },
    {
      "cell_type": "markdown",
      "metadata": {
        "id": "s90VncH3UfYb"
      },
      "source": [
        "To convert the image from standard to normalised grayscale, we simply need to divide the `numpy`array by 255 as follows"
      ]
    },
    {
      "cell_type": "code",
      "execution_count": null,
      "metadata": {
        "colab": {
          "base_uri": "https://localhost:8080/",
          "height": 576
        },
        "id": "KLxd_1nkUfYc",
        "outputId": "8804b8b9-fb78-42c8-f921-40e954eca188"
      },
      "outputs": [
        {
          "output_type": "stream",
          "name": "stdout",
          "text": [
            "[[0.         0.96470588 0.96470588 ... 0.96470588 0.96470588 0.91764706]\n",
            " [0.95294118 1.         1.         ... 1.         1.         0.94901961]\n",
            " [0.95294118 1.         1.         ... 1.         1.         0.94901961]\n",
            " ...\n",
            " [0.95294118 1.         1.         ... 1.         1.         0.94901961]\n",
            " [0.95294118 1.         1.         ... 1.         1.         0.94901961]\n",
            " [0.91764706 0.96470588 0.96470588 ... 0.96470588 0.96470588 0.91764706]]\n"
          ]
        },
        {
          "output_type": "execute_result",
          "data": {
            "text/plain": [
              "<matplotlib.image.AxesImage at 0x7a408054add0>"
            ]
          },
          "metadata": {},
          "execution_count": 20
        },
        {
          "output_type": "display_data",
          "data": {
            "text/plain": [
              "<Figure size 640x480 with 1 Axes>"
            ],
            "image/png": "[encoded data removed]"
          },
          "metadata": {}
        }
      ],
      "source": [
        "img_norm = img/255\n",
        "print(img_norm)\n",
        "plt.imshow(img_norm, cmap='Greys_r')"
      ]
    },
    {
      "cell_type": "markdown",
      "metadata": {
        "id": "vfiW7-iZUfYc"
      },
      "source": [
        "Notice that nothing has changed visually, just the values!"
      ]
    },
    {
      "cell_type": "markdown",
      "metadata": {
        "id": "kcjoEkGxUfYc"
      },
      "source": [
        "### Binarising the image"
      ]
    },
    {
      "cell_type": "markdown",
      "metadata": {
        "id": "5LgwttbSUfYd"
      },
      "source": [
        "#### The long and hard way (but necessary to understand and practice Python)"
      ]
    },
    {
      "cell_type": "markdown",
      "metadata": {
        "id": "XnsHHm9TUfYd"
      },
      "source": [
        "Remember you wrote down the values of the pixels of both pythons? Now it's time to put this information into use!"
      ]
    },
    {
      "cell_type": "markdown",
      "metadata": {
        "id": "XDEuZ2FJUfYd"
      },
      "source": [
        "Before using the pre-built function, we will design our own binarisation function to understand how it works!"
      ]
    },
    {
      "cell_type": "markdown",
      "metadata": {
        "id": "kFmuJz9eUfYd"
      },
      "source": [
        "Take into account the following:\n",
        "1. Your function needs two inputs: the **image to binarise** and the **threshold**, which is a cut-off value between 0 and 255.\n",
        "2. Your function has to iterate the `numpy` array for all rows and columns of the image (double loop).\n",
        "3. For each position, the system has to compare the value of the pixel with the threshold. If the value of the pixel is *smaller* than the threshold, then the function changes the value of the pixel to zero. Else, the function changes it to 255.\n",
        "4. To avoid losing the original image, create a copy and change the copy, not the original one! (hint: use the `.copy()` function to do so).\n",
        "5. Notice that depending on the threshold value selected, you will get different outputs!"
      ]
    },
    {
      "cell_type": "code",
      "execution_count": null,
      "metadata": {
        "id": "6I1kFLylUfYf"
      },
      "outputs": [],
      "source": [
        "## Use this cell to create the binarisation function\n",
        "def binarise(img, threshold):\n",
        "    '''This function biniarises an image in a numpy array according to the specified threshold'''\n",
        "    img_bin = img.copy()\n",
        "    for x in range(img.shape[0]):\n",
        "        for y in range(img.shape[1]):\n",
        "            if img[x,y]<threshold:\n",
        "                img_bin[x,y]=0\n",
        "            else:\n",
        "                img_bin[x,y]=255\n",
        "    plt.imshow(img_bin, cmap='Greys_r')\n",
        "    return img_bin"
      ]
    },
    {
      "cell_type": "code",
      "execution_count": null,
      "metadata": {
        "colab": {
          "base_uri": "https://localhost:8080/",
          "height": 433
        },
        "id": "1bKGWce3UfYf",
        "outputId": "55f8cd66-8fe4-4d29-8182-2f1abef23d27"
      },
      "outputs": [
        {
          "output_type": "display_data",
          "data": {
            "text/plain": [
              "<Figure size 640x480 with 1 Axes>"
            ],
            "image/png": "[encoded data removed]"
          },
          "metadata": {}
        }
      ],
      "source": [
        "## Use this cell to execute the binarise function and show both pythons in black.\n",
        "img_bin1 = binarise(img, 220)"
      ]
    },
    {
      "cell_type": "code",
      "execution_count": null,
      "metadata": {
        "colab": {
          "base_uri": "https://localhost:8080/",
          "height": 433
        },
        "id": "3nTm7ykaUfYf",
        "outputId": "8333fd67-7487-4e01-c72f-d7061248c117"
      },
      "outputs": [
        {
          "output_type": "display_data",
          "data": {
            "text/plain": [
              "<Figure size 640x480 with 1 Axes>"
            ],
            "image/png": "[encoded data removed]"
          },
          "metadata": {}
        }
      ],
      "source": [
        "## Use this cell to execute the binarise function to show only the dark python and \"disappear\" the light one.\n",
        "img_bin2 = binarise(img, 200)"
      ]
    },
    {
      "cell_type": "markdown",
      "metadata": {
        "id": "F7Gvf00DUfYg"
      },
      "source": [
        "#### The cv2 option"
      ]
    },
    {
      "cell_type": "markdown",
      "metadata": {
        "id": "2yIn-KkPUfYg"
      },
      "source": [
        "Click [here](https://docs.opencv.org/4.x/d7/d4d/tutorial_py_thresholding.html) to see a very comprehensive tutorial on how to use the binarisation function contained in `OpenCV`."
      ]
    },
    {
      "cell_type": "markdown",
      "metadata": {
        "id": "BqkutfYDUfYg"
      },
      "source": [
        "Then apply the function to do the same things that you did with your function."
      ]
    },
    {
      "cell_type": "code",
      "execution_count": null,
      "metadata": {
        "colab": {
          "base_uri": "https://localhost:8080/",
          "height": 451
        },
        "id": "SxKQmWMbUfYi",
        "outputId": "f6ce2765-e79a-4dc2-c3df-70e072ffa9b8"
      },
      "outputs": [
        {
          "output_type": "execute_result",
          "data": {
            "text/plain": [
              "<matplotlib.image.AxesImage at 0x7a40805ac810>"
            ]
          },
          "metadata": {},
          "execution_count": 24
        },
        {
          "output_type": "display_data",
          "data": {
            "text/plain": [
              "<Figure size 640x480 with 1 Axes>"
            ],
            "image/png": "[encoded data removed]"
          },
          "metadata": {}
        }
      ],
      "source": [
        "## Use this cell to execute the cv2.threshold function and show both pythons in black.\n",
        "_,thresh1 = cv2.threshold(img,220,255,cv2.THRESH_BINARY)\n",
        "plt.imshow(thresh1, cmap='Greys_r')"
      ]
    },
    {
      "cell_type": "code",
      "execution_count": null,
      "metadata": {
        "colab": {
          "base_uri": "https://localhost:8080/",
          "height": 451
        },
        "id": "2gUqYXLBUfYi",
        "outputId": "fbe1baf9-18e3-464e-a1a9-609983c825a8"
      },
      "outputs": [
        {
          "output_type": "execute_result",
          "data": {
            "text/plain": [
              "<matplotlib.image.AxesImage at 0x7a408049ac50>"
            ]
          },
          "metadata": {},
          "execution_count": 25
        },
        {
          "output_type": "display_data",
          "data": {
            "text/plain": [
              "<Figure size 640x480 with 1 Axes>"
            ],
            "image/png": "[encoded data removed]"
          },
          "metadata": {}
        }
      ],
      "source": [
        "## Use this cell to execute the cv2.threshold function and show only the dark and \"disappear\" the light one. It works slightly different!\n",
        "_,thresh2 = cv2.threshold(img,200,255,cv2.THRESH_BINARY)\n",
        "plt.imshow(thresh2, cmap='Greys_r')"
      ]
    },
    {
      "cell_type": "markdown",
      "metadata": {
        "id": "GSN56y2wUfYj"
      },
      "source": [
        "### Saving the image"
      ]
    },
    {
      "cell_type": "markdown",
      "metadata": {
        "id": "uJ4Okr4QUfYj"
      },
      "source": [
        "You can save any of the images produced in this tutorial by using either the `cv2.imwrite` or the `plt.imsave` command."
      ]
    },
    {
      "cell_type": "markdown",
      "metadata": {
        "id": "nG7r104gUfYj"
      },
      "source": [
        "For instance, to save the transpose image, use the following command:"
      ]
    },
    {
      "cell_type": "code",
      "execution_count": null,
      "metadata": {
        "colab": {
          "base_uri": "https://localhost:8080/"
        },
        "id": "-VDuZo1iUfYj",
        "outputId": "421a1d4e-646a-4bda-f8d5-fb8b3046997e"
      },
      "outputs": [
        {
          "output_type": "execute_result",
          "data": {
            "text/plain": [
              "True"
            ]
          },
          "metadata": {},
          "execution_count": 26
        }
      ],
      "source": [
        "cv2.imwrite('logotrans.png',img_trans)"
      ]
    },
    {
      "cell_type": "markdown",
      "metadata": {
        "id": "dNlZLG8UUfYj"
      },
      "source": [
        "I recommend to use `cv2.imwrite`, given that the `plt` option will save it with the yellow background by default."
      ]
    },
    {
      "cell_type": "markdown",
      "metadata": {
        "id": "js8N0QDWe6o5"
      },
      "source": [
        "In this colab version, the files will be saved in your online disk. You can right-click and download it afterwards"
      ]
    },
    {
      "cell_type": "markdown",
      "metadata": {
        "id": "nHD-hmVuUfYl"
      },
      "source": [
        "## Bonus"
      ]
    },
    {
      "cell_type": "code",
      "execution_count": null,
      "metadata": {
        "colab": {
          "base_uri": "https://localhost:8080/",
          "height": 433
        },
        "id": "qHW07yBTUfYl",
        "outputId": "71fe920e-72d6-4227-b814-490623dac51f"
      },
      "outputs": [
        {
          "output_type": "display_data",
          "data": {
            "text/plain": [
              "<Figure size 640x480 with 1 Axes>"
            ],
            "image/png": "[encoded data removed]"
          },
          "metadata": {}
        }
      ],
      "source": [
        "## Use this cell to show only the lighter python in black and \"disappear\" the darker one.\n",
        "## You can pre-process the image as you want and implement any binarisation function.\n",
        "\n",
        "## I implement two binarisation functions:\n",
        "# The first one turns all near-white pixels into white (so that all background pixels are 255).\n",
        "# The second one ignores white pixels and binarises inversely (so that the dark python gets turned white,\n",
        "# but the background is ignored).\n",
        "def binarise_w(img, threshold):\n",
        "    '''This function biniarises an image in a numpy array according to the specified threshold'''\n",
        "    img_bin = img.copy()\n",
        "    for x in range(img.shape[0]):\n",
        "        for y in range(img.shape[1]):\n",
        "            if img[x,y]>threshold:\n",
        "                img_bin[x,y]=255\n",
        "    plt.imshow(img_bin, cmap='Greys_r')\n",
        "    return img_bin\n",
        "def binarise_inv(img, threshold):\n",
        "    '''This function biniarises an image in a numpy array according to the specified threshold'''\n",
        "    img_bin = img.copy()\n",
        "    for x in range(img.shape[0]):\n",
        "        for y in range(img.shape[1]):\n",
        "            if img[x,y]!=255:\n",
        "                if img[x,y]>threshold:\n",
        "                    img_bin[x,y]=0\n",
        "                else:\n",
        "                    img_bin[x,y]=255\n",
        "    plt.imshow(img_bin, cmap='Greys_r')\n",
        "    return img_bin\n",
        "\n",
        "# I first run the original binarisation function to turn the background white.\n",
        "img_bin3 = binarise_w(img, 215)\n",
        "# Then I run the new binarisation function to convert the lighter python into a dark one\n",
        "# And the dark one into white, without touching the background.\n",
        "img_bin3 = binarise_inv(img_bin3, 200)"
      ]
    },
    {
      "cell_type": "markdown",
      "metadata": {
        "id": "scDjK23eUfYl"
      },
      "source": [
        "Note that I could use a morphology operation (as the ones seen in class) to improve the result"
      ]
    },
    {
      "cell_type": "code",
      "execution_count": null,
      "metadata": {
        "colab": {
          "base_uri": "https://localhost:8080/",
          "height": 451
        },
        "id": "t55HhRXWUfYl",
        "outputId": "ecd6a5d7-8c9a-42b6-e8a8-fe115b5797e9"
      },
      "outputs": [
        {
          "output_type": "execute_result",
          "data": {
            "text/plain": [
              "<matplotlib.image.AxesImage at 0x7a40803b2d10>"
            ]
          },
          "metadata": {},
          "execution_count": 28
        },
        {
          "output_type": "display_data",
          "data": {
            "text/plain": [
              "<Figure size 640x480 with 1 Axes>"
            ],
            "image/png": "[encoded data removed]"
          },
          "metadata": {}
        }
      ],
      "source": [
        "opening = cv2.morphologyEx(img_bin3, cv2.MORPH_OPEN, cv2.getStructuringElement(cv2.MORPH_CROSS,(4,4)))\n",
        "plt.imshow(opening, cmap='Greys_r')"
      ]
    },
    {
      "cell_type": "markdown",
      "metadata": {
        "id": "P89ZUnEfUfYm"
      },
      "source": [
        "You can find more information on how to apply morphological operations in Python [here](https://opencv-python-tutroals.readthedocs.io/en/latest/py_tutorials/py_imgproc/py_morphological_ops/py_morphological_ops.html)"
      ]
    },
    {
      "cell_type": "markdown",
      "metadata": {
        "id": "mLoZV5qtUfYn"
      },
      "source": [
        "## In case you are curious, how does the image look in colour?"
      ]
    },
    {
      "cell_type": "code",
      "execution_count": null,
      "metadata": {
        "colab": {
          "base_uri": "https://localhost:8080/",
          "height": 1000
        },
        "id": "ti3bV2GiUfYo",
        "outputId": "fee6b238-41d4-4b0e-b738-319d1c5190b0"
      },
      "outputs": [
        {
          "output_type": "stream",
          "name": "stdout",
          "text": [
            "[[[234 234 234]\n",
            "  [246 246 246]\n",
            "  [246 246 246]\n",
            "  ...\n",
            "  [246 246 246]\n",
            "  [246 246 246]\n",
            "  [234 234 234]]\n",
            "\n",
            " [[243 243 243]\n",
            "  [255 255 255]\n",
            "  [255 255 255]\n",
            "  ...\n",
            "  [255 255 255]\n",
            "  [255 255 255]\n",
            "  [242 242 242]]\n",
            "\n",
            " [[243 243 243]\n",
            "  [255 255 255]\n",
            "  [255 255 255]\n",
            "  ...\n",
            "  [255 255 255]\n",
            "  [255 255 255]\n",
            "  [242 242 242]]\n",
            "\n",
            " ...\n",
            "\n",
            " [[243 243 243]\n",
            "  [255 255 255]\n",
            "  [255 255 255]\n",
            "  ...\n",
            "  [255 255 255]\n",
            "  [255 255 255]\n",
            "  [242 242 242]]\n",
            "\n",
            " [[243 243 243]\n",
            "  [255 255 255]\n",
            "  [255 255 255]\n",
            "  ...\n",
            "  [255 255 255]\n",
            "  [255 255 255]\n",
            "  [242 242 242]]\n",
            "\n",
            " [[234 234 234]\n",
            "  [246 246 246]\n",
            "  [246 246 246]\n",
            "  ...\n",
            "  [246 246 246]\n",
            "  [246 246 246]\n",
            "  [234 234 234]]]\n",
            "(75, 75, 3)\n"
          ]
        },
        {
          "output_type": "execute_result",
          "data": {
            "text/plain": [
              "<matplotlib.image.AxesImage at 0x7a4080231090>"
            ]
          },
          "metadata": {},
          "execution_count": 29
        },
        {
          "output_type": "display_data",
          "data": {
            "text/plain": [
              "<Figure size 640x480 with 1 Axes>"
            ],
            "image/png": "[encoded data removed]"
          },
          "metadata": {}
        }
      ],
      "source": [
        "## Load the image with the flag in 1 (colour mode)\n",
        "img_color = cv2.imread(\"logo.png\",1)\n",
        "## Print the image (you will see many matrices as there are multiple dimensions)\n",
        "print(img_color)\n",
        "## Print the shape (notice now it has 3 dimensions)\n",
        "print(img_color.shape)\n",
        "## Create three copies of the image\n",
        "img_R = img_color.copy()\n",
        "img_G = img_color.copy()\n",
        "img_B = img_color.copy()\n",
        "## In each copy, only access the values of interest\n",
        "img_R[:, :, (1, 2)] = 0\n",
        "img_G[:, :, (0, 2)] = 0\n",
        "img_B[:, :, (0, 1)] = 0\n",
        "## Concatenate the original image to the three chanels\n",
        "img_RGB = np.concatenate((img_color, img_R, img_G, img_B), axis=1)\n",
        "## Show the images\n",
        "plt.imshow(img_RGB)"
      ]
    }
  ],
  "metadata": {
    "colab": {
      "provenance": [],
      "include_colab_link": true
    },
    "hide_input": false,
    "kernelspec": {
      "display_name": "Python 3",
      "language": "python",
      "name": "python3"
    },
    "language_info": {
      "codemirror_mode": {
        "name": "ipython",
        "version": 3
      },
      "file_extension": ".py",
      "mimetype": "text/x-python",
      "name": "python",
      "nbconvert_exporter": "python",
      "pygments_lexer": "ipython3",
      "version": "3.7.3"
    },
    "varInspector": {
      "cols": {
        "lenName": 16,
        "lenType": 16,
        "lenVar": 40
      },
      "kernels_config": {
        "python": {
          "delete_cmd_postfix": "",
          "delete_cmd_prefix": "del ",
          "library": "var_list.py",
          "varRefreshCmd": "print(var_dic_list())"
        },
        "r": {
          "delete_cmd_postfix": ") ",
          "delete_cmd_prefix": "rm(",
          "library": "var_list.r",
          "varRefreshCmd": "cat(var_dic_list()) "
        }
      },
      "types_to_exclude": [
        "module",
        "function",
        "builtin_function_or_method",
        "instance",
        "_Feature"
      ],
      "window_display": false
    }
  },
  "nbformat": 4,
  "nbformat_minor": 0
}