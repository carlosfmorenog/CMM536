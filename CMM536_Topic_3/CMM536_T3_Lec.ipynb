{
  "cells": [
    {
      "cell_type": "markdown",
      "metadata": {
        "id": "view-in-github",
        "colab_type": "text"
      },
      "source": [
        "<a href=\"https://colab.research.google.com/github/carlosfmorenog/CMM536/blob/master/CMM536_Topic_3/CMM536_T3_Lec.ipynb\" target=\"_parent\"><img src=\"https://colab.research.google.com/assets/colab-badge.svg\" alt=\"Open In Colab\"/></a>"
      ]
    },
    {
      "cell_type": "markdown",
      "metadata": {
        "hide_input": true,
        "id": "IPPo9hzZ2oc1"
      },
      "source": [
        "# Topic 3 Lecture - Images as Data & Intro to ML"
      ]
    },
    {
      "cell_type": "markdown",
      "metadata": {
        "id": "SOCHlIiZ2oc2"
      },
      "source": [
        "## Aims of the Session"
      ]
    },
    {
      "cell_type": "markdown",
      "metadata": {
        "id": "WdD1SGMw2oc3"
      },
      "source": [
        "* Justify the reason to use images as the main data input for (most of) the remaining of the course"
      ]
    },
    {
      "cell_type": "markdown",
      "metadata": {
        "id": "HkxkldxJ2oc3"
      },
      "source": [
        "* Learn the basics on image pre-processing techniques to better organise and classify data"
      ]
    },
    {
      "cell_type": "markdown",
      "metadata": {
        "id": "lrso4EiQ2oc4"
      },
      "source": [
        "## Resources for the Lecture"
      ]
    },
    {
      "cell_type": "markdown",
      "metadata": {
        "id": "Z2Y9qmPO2oc4"
      },
      "source": [
        "* Introduction to Computing and Programming in Python: A Multimedia Approach. Mark Guzdial, Barbara Ericson. Pearson, 2016.\n",
        "* https://people.eecs.berkeley.edu/~fateman/kathey/skew.html\n",
        "* https://docs.opencv.org/3.0-beta/doc/py_tutorials/py_imgproc/py_morphological_ops/py_morphological_ops.html"
      ]
    },
    {
      "cell_type": "markdown",
      "metadata": {
        "id": "i1Ci9q-C2oc5"
      },
      "source": [
        "## Why images as data?"
      ]
    },
    {
      "cell_type": "markdown",
      "metadata": {
        "id": "MWhWlU2K2oc6"
      },
      "source": [
        "* Images (and multimedia in general) are easier to understand!"
      ]
    },
    {
      "cell_type": "markdown",
      "metadata": {
        "id": "LT_3PULO2oc7"
      },
      "source": [
        "* They are a visual representation of the features of the data input"
      ]
    },
    {
      "cell_type": "markdown",
      "metadata": {
        "id": "h2jc_9Sk2oc8"
      },
      "source": [
        "* Non-application dependent (mostly)"
      ]
    },
    {
      "cell_type": "markdown",
      "metadata": {
        "id": "OlnUJOZg2oc8"
      },
      "source": [
        "* They will lead us to Convolutional Neural Networks!"
      ]
    },
    {
      "cell_type": "markdown",
      "metadata": {
        "id": "wr5GOEJ42oc9"
      },
      "source": [
        "* It is a novel educational approach."
      ]
    },
    {
      "cell_type": "markdown",
      "metadata": {
        "id": "5EO2z1rX2oc9"
      },
      "source": [
        "![Fig. 1. A book about multimedia in Python](https://www.dropbox.com/s/wjbajs4a7yzd266/book.jpg?raw=1)"
      ]
    },
    {
      "cell_type": "markdown",
      "metadata": {
        "id": "vCbE31wS2oc9"
      },
      "source": [
        "## How does an image look *digitally*?"
      ]
    },
    {
      "cell_type": "markdown",
      "metadata": {
        "id": "x9WIfH012oc9"
      },
      "source": [
        "* These are the main **compression algorithms** used to store images:"
      ]
    },
    {
      "cell_type": "markdown",
      "metadata": {
        "id": "C4JkXTGW2oc9"
      },
      "source": [
        "![Fig. 2. Image extensions](https://www.dropbox.com/s/4an7wf2na3fvgvf/comp.jpg?raw=1)"
      ]
    },
    {
      "cell_type": "markdown",
      "metadata": {
        "id": "JxrvDDZQ2oc-"
      },
      "source": [
        "### Compression Algorithms"
      ]
    },
    {
      "cell_type": "markdown",
      "metadata": {
        "id": "BcZjBm7b2oc-"
      },
      "source": [
        "* The *art* of compression algorithms is in **quantisation**!"
      ]
    },
    {
      "cell_type": "markdown",
      "metadata": {
        "id": "_LwO2sRa2oc-"
      },
      "source": [
        "* Best algorithms are the ones that achieve best visual quality with reduced size."
      ]
    },
    {
      "cell_type": "markdown",
      "metadata": {
        "id": "Y93omScK2oc-"
      },
      "source": [
        "![Fig. 3. Quantization](https://www.dropbox.com/s/714a6l2o7ln6ukw/quant.jpg?raw=1)"
      ]
    },
    {
      "cell_type": "markdown",
      "metadata": {
        "id": "3fCyz-2l2oc-"
      },
      "source": [
        "The importance of compression"
      ]
    },
    {
      "cell_type": "code",
      "execution_count": 1,
      "metadata": {
        "colab": {
          "base_uri": "https://localhost:8080/",
          "height": 336
        },
        "id": "TYEUawpt2oc-",
        "outputId": "4f75db10-a8d1-4443-ceba-3dea47f493e2"
      },
      "outputs": [
        {
          "output_type": "execute_result",
          "data": {
            "text/plain": [
              "<IPython.core.display.HTML object>"
            ],
            "text/html": [
              "<iframe width=\"560\" height=\"315\" src=\"https://www.youtube.com/embed/NMkZpuiEqh8\" frameborder=\"0\" allow=\"accelerometer; autoplay; encrypted-media; gyroscope; picture-in-picture\" allowfullscreen></iframe>"
            ]
          },
          "metadata": {},
          "execution_count": 1
        }
      ],
      "source": [
        "import warnings\n",
        "warnings.filterwarnings('ignore')\n",
        "from IPython.display import HTML\n",
        "HTML('<iframe width=\"560\" height=\"315\" src=\"https://www.youtube.com/embed/NMkZpuiEqh8\" frameborder=\"0\" allow=\"accelerometer; autoplay; encrypted-media; gyroscope; picture-in-picture\" allowfullscreen></iframe>')"
      ]
    },
    {
      "cell_type": "markdown",
      "metadata": {
        "id": "1qN91ODC2oc_"
      },
      "source": [
        "* Fortunately, this is **NOT** our problem in this module!"
      ]
    },
    {
      "cell_type": "markdown",
      "metadata": {
        "id": "ThtnKqqe2oc_"
      },
      "source": [
        "* We are going to work with images in *simpler* ways"
      ]
    },
    {
      "cell_type": "markdown",
      "metadata": {
        "id": "eTcpE6Oc2oc_"
      },
      "source": [
        "## Images as arrays/matrices"
      ]
    },
    {
      "cell_type": "markdown",
      "metadata": {
        "id": "F5eYE6M62odA"
      },
      "source": [
        "* Using the `numpy` module"
      ]
    },
    {
      "cell_type": "markdown",
      "metadata": {
        "id": "R8atAkM72odA"
      },
      "source": [
        "* Complementing by using the `OpenCV`module, which will let us import and manipulate images"
      ]
    },
    {
      "cell_type": "markdown",
      "metadata": {
        "id": "BqwXcwp12odA"
      },
      "source": [
        "* When we import an image, the first thing we will get is a **bitmap**"
      ]
    },
    {
      "cell_type": "markdown",
      "metadata": {
        "id": "eAf1vjG32odA"
      },
      "source": [
        "![Fig. 4. Bitmap](https://www.dropbox.com/s/zinj0mv5uzu9eb1/pix.jpg?raw=1)"
      ]
    },
    {
      "cell_type": "markdown",
      "metadata": {
        "id": "GCydtjrX2odA"
      },
      "source": [
        "* Each pixel will be represented as a value within an $n \\times m$ matrix"
      ]
    },
    {
      "cell_type": "markdown",
      "metadata": {
        "id": "DbeDVuyJ2odA"
      },
      "source": [
        "### Grayscale Images"
      ]
    },
    {
      "cell_type": "markdown",
      "metadata": {
        "id": "8O573Jzp2odA"
      },
      "source": [
        "* A 2D grid of pixels"
      ]
    },
    {
      "cell_type": "markdown",
      "metadata": {
        "id": "i0RmDr8g2odA"
      },
      "source": [
        "* Two ways to represent them:"
      ]
    },
    {
      "cell_type": "markdown",
      "metadata": {
        "id": "IddvHuPn2odA"
      },
      "source": [
        "1. Standard: from 0 (black) to 255 (white) with 254 gray values in between."
      ]
    },
    {
      "cell_type": "markdown",
      "metadata": {
        "id": "sRlCaybD2odA"
      },
      "source": [
        "![Fig. 5 a. Standard grayscale image](https://www.dropbox.com/s/mk70ili2yyb9con/graystan.jpg?raw=1)"
      ]
    },
    {
      "cell_type": "markdown",
      "metadata": {
        "id": "UethILPf2odB"
      },
      "source": [
        "2. Normalised: from 0 (black) to 1 (white) with \"infinite\" gray values in between."
      ]
    },
    {
      "cell_type": "markdown",
      "metadata": {
        "id": "uyMZ181v2odB"
      },
      "source": [
        "![Fig. 5 b. Normalised grayscale image](https://www.dropbox.com/s/qrt5j974q2adu9m/graynorm.jpg?raw=1)"
      ]
    },
    {
      "cell_type": "markdown",
      "metadata": {
        "id": "-sQRMtpB2odB"
      },
      "source": [
        "**IS IT POSSIBLE TO CONVERT BETWEEN STANDARD $\\leftrightarrow$ NORMALISED?**"
      ]
    },
    {
      "cell_type": "markdown",
      "metadata": {
        "id": "tGbQP1wy2odB"
      },
      "source": [
        "### Colour Images"
      ]
    },
    {
      "cell_type": "markdown",
      "metadata": {
        "id": "LNaBlekp2odB"
      },
      "source": [
        "![Fig. 6. \"Pixelated\" colour image](https://www.dropbox.com/s/4rbrymh3dobhyi9/smile.jpg?raw=1)"
      ]
    },
    {
      "cell_type": "markdown",
      "metadata": {
        "id": "EDgQWNel2odB"
      },
      "source": [
        "* Each pixel has three `channels`: $\\color{red}{red}$, $\\color{blue}{blue}$ and $\\color{green}{green}$"
      ]
    },
    {
      "cell_type": "markdown",
      "metadata": {
        "id": "Kjs_av4T2odB"
      },
      "source": [
        "* Images with colour are often called $\\color{red}{R}$$\\color{green}{G}$$\\color{blue}{B}$ images"
      ]
    },
    {
      "cell_type": "markdown",
      "metadata": {
        "id": "n4N99yp_2odB"
      },
      "source": [
        "#### Option 1"
      ]
    },
    {
      "cell_type": "markdown",
      "metadata": {
        "id": "vrMQw3Im2odB"
      },
      "source": [
        "* If a colour image is imported, a matrix will be produced, this time with three values per pixel instead of one"
      ]
    },
    {
      "cell_type": "markdown",
      "metadata": {
        "id": "bxNwnkjw2odC"
      },
      "source": [
        "* The three values will be stored in a tuple"
      ]
    },
    {
      "cell_type": "markdown",
      "metadata": {
        "id": "fr-0K8Rs2odC"
      },
      "source": [
        "![Fig. 7. RGB image, option 1](https://www.dropbox.com/s/ohrcjtln8mvpa49/rgb.jpg?raw=1)"
      ]
    },
    {
      "cell_type": "markdown",
      "metadata": {
        "id": "rqZOh0hY2odC"
      },
      "source": [
        "#### Option 2"
      ]
    },
    {
      "cell_type": "markdown",
      "metadata": {
        "id": "unVJKaMW2odC"
      },
      "source": [
        "* When importing a colour image in `OpenCV`, a 3D array will be produced, with the third dimension representing the three channels"
      ]
    },
    {
      "cell_type": "markdown",
      "metadata": {
        "id": "q9SWZ98b2odC"
      },
      "source": [
        "![Fig. 8. RGB image, option 2](https://www.dropbox.com/s/5eytedi8kqb01er/rgb2.jpg?raw=1)"
      ]
    },
    {
      "cell_type": "markdown",
      "metadata": {
        "id": "IThYiV6p2odC"
      },
      "source": [
        "* Advantage of option 2: Faster to do calculations and transformations"
      ]
    },
    {
      "cell_type": "markdown",
      "metadata": {
        "id": "AX8Z6m0M2odC"
      },
      "source": [
        "**HOW MANY COLOURS CAN BE REPRESENTED USING THIS STANDARD?**"
      ]
    },
    {
      "cell_type": "markdown",
      "metadata": {
        "id": "16noeWaR2odD"
      },
      "source": [
        "**CAN RGB BE NORMALISED?**"
      ]
    },
    {
      "cell_type": "markdown",
      "metadata": {
        "id": "Z12h2yr82odD"
      },
      "source": [
        "**ARE THERE ANY OTHER STANDARDS THAT CAN REPRESENT MORE COLOURS?**"
      ]
    },
    {
      "cell_type": "markdown",
      "metadata": {
        "id": "PCoi-qOK2odD"
      },
      "source": [
        "## Image Pre-processing"
      ]
    },
    {
      "cell_type": "markdown",
      "metadata": {
        "id": "Vi9FY0t92odD"
      },
      "source": [
        "* Before actually working with images as data, there are plenty of techniques that can be applied to improve quality"
      ]
    },
    {
      "cell_type": "markdown",
      "metadata": {
        "id": "A2QfnmSi2odD"
      },
      "source": [
        "* Not all images are perfect, especially in the document image analysis"
      ]
    },
    {
      "cell_type": "markdown",
      "metadata": {
        "id": "Cs5PHl9b2odD"
      },
      "source": [
        "![Fig. 9. An engineering drawing with poor resolution](https://www.dropbox.com/s/x7320umcr44sl1f/ed.jpg?raw=1)"
      ]
    },
    {
      "cell_type": "markdown",
      "metadata": {
        "id": "lIcy0QPw2odD"
      },
      "source": [
        "* As this is not a computer vision course, we will only learn **ONE** and apply one preprocessing technique:"
      ]
    },
    {
      "cell_type": "markdown",
      "metadata": {
        "id": "AXtPAbXm2odD"
      },
      "source": [
        "### THRESHOLDING/BINARISATION"
      ]
    },
    {
      "cell_type": "markdown",
      "metadata": {
        "id": "4iSIOm3S2odD"
      },
      "source": [
        "* Converting a grayscale image into a binary (black/white) image based on a threshold"
      ]
    },
    {
      "cell_type": "markdown",
      "metadata": {
        "id": "2o9sg4-y2odD"
      },
      "source": [
        "* Useful to improve the quality of an image and to refine shapes"
      ]
    },
    {
      "cell_type": "markdown",
      "metadata": {
        "id": "C367TFg92odE"
      },
      "source": [
        "![Fig. 10. An example of binarisation](https://www.dropbox.com/s/nqkcytkcely4n3t/bin.jpg?raw=1)"
      ]
    },
    {
      "cell_type": "markdown",
      "metadata": {
        "id": "hlHBKoB62odF"
      },
      "source": [
        "### Other pre-processing techniques"
      ]
    },
    {
      "cell_type": "markdown",
      "metadata": {
        "id": "r6W-Z2Ms2odF"
      },
      "source": [
        "#### Skew Correction"
      ]
    },
    {
      "cell_type": "markdown",
      "metadata": {
        "id": "--dC1xOz2odF"
      },
      "source": [
        "![Fig. 11. Skew correction](https://www.dropbox.com/s/ckge1t0aqz1j3j0/skew.jpg?raw=1)"
      ]
    },
    {
      "cell_type": "markdown",
      "metadata": {
        "id": "SA4OeEpd2odF"
      },
      "source": [
        "#### Erosion and Dilation"
      ]
    },
    {
      "cell_type": "markdown",
      "metadata": {
        "id": "OybcqHV92odF"
      },
      "source": [
        "![Fig. 12. Erosion and dilation](https://www.dropbox.com/s/j6ifsppdurwimzh/erodil.jpg?raw=1)"
      ]
    },
    {
      "cell_type": "markdown",
      "metadata": {
        "id": "p6CuKaJ22odF"
      },
      "source": [
        "#### Opening"
      ]
    },
    {
      "cell_type": "markdown",
      "metadata": {
        "id": "iai4JxUr2odF"
      },
      "source": [
        "![Fig. 13. Image opening](https://www.dropbox.com/s/rqafolr87eyeot3/open.jpg?raw=1)"
      ]
    },
    {
      "cell_type": "markdown",
      "metadata": {
        "id": "BqGUQY7V2odF"
      },
      "source": [
        "#### Closing"
      ]
    },
    {
      "cell_type": "markdown",
      "metadata": {
        "id": "Nv5HQTjV2odF"
      },
      "source": [
        "![Fig. 14. Image closing](https://www.dropbox.com/s/1tx3qriiqsnr78j/close.jpg?raw=1)"
      ]
    },
    {
      "cell_type": "markdown",
      "metadata": {
        "id": "0jnzmpCn2odF"
      },
      "source": [
        "## Machine Learning"
      ]
    },
    {
      "cell_type": "markdown",
      "metadata": {
        "id": "SkGqfU0y2odF"
      },
      "source": [
        "* Machine learning: An automatic function that maps $x \\rightarrow y$ based on the input data"
      ]
    },
    {
      "cell_type": "markdown",
      "metadata": {
        "id": "mF66hYHs2odG"
      },
      "source": [
        "![Fig. 9. Fundamentals of Machine Learning](https://www.dropbox.com/s/shrjabuib4m7nf5/ml.jpg?raw=1)"
      ]
    },
    {
      "cell_type": "markdown",
      "metadata": {
        "id": "yCO90v1Y2odG"
      },
      "source": [
        "### Types of Machine Learning"
      ]
    },
    {
      "cell_type": "markdown",
      "metadata": {
        "id": "Cu-xnEEo2odG"
      },
      "source": [
        "#### Supervised Learning"
      ]
    },
    {
      "cell_type": "markdown",
      "metadata": {
        "id": "zr1jhjOq2odG"
      },
      "source": [
        "* Aims to learn a function that, given a sample of data and desired outputs, approximates a function that maps inputs to output"
      ]
    },
    {
      "cell_type": "markdown",
      "metadata": {
        "id": "eC8VkwPM2odG"
      },
      "source": [
        "* Done in the context of **classification** (when mapping input to output label) or **regression** (when mapping input to continuous output)"
      ]
    },
    {
      "cell_type": "markdown",
      "metadata": {
        "id": "4R3yZ4p92odG"
      },
      "source": [
        "* The \"correct\" output will be deduced from the `training` data, therefore the model requires a reliable base"
      ]
    },
    {
      "cell_type": "markdown",
      "metadata": {
        "id": "j56kUYCO2odG"
      },
      "source": [
        "##### Examples of Supervised Learning Algorithms"
      ]
    },
    {
      "cell_type": "markdown",
      "metadata": {
        "id": "wdpGDNhW2odG"
      },
      "source": [
        "###### Regression"
      ]
    },
    {
      "cell_type": "markdown",
      "metadata": {
        "id": "fRUdEFPm2odG"
      },
      "source": [
        "* The simplest ML out there! A line (or curve) that adapts to the data points and tries to do a prediction based on the existing data and how it adapts to a mathematical function"
      ]
    },
    {
      "cell_type": "markdown",
      "metadata": {
        "id": "jY2J4ICn2odG"
      },
      "source": [
        "![Fig. 10. Linear Regression](https://www.dropbox.com/scl/fi/f2988tk32wb5vpecgk4bu/lr.png?rlkey=3qzrrifvdiimzqcd1iudnyvhv&raw=1)[Source](https://realpython.com/linear-regression-in-python/)"
      ]
    },
    {
      "cell_type": "markdown",
      "metadata": {
        "id": "WY9FSc452odG"
      },
      "source": [
        "* There's a version called logistic regression which uses a probability curve, which in turn can be adapted for binary classification!"
      ]
    },
    {
      "cell_type": "markdown",
      "metadata": {
        "id": "1xAoI_p42odH"
      },
      "source": [
        "![Fig. 11. Logistic Regression](https://www.dropbox.com/scl/fi/sfjlsxrruvus2vboiezzh/logr.png?rlkey=6wzansi3caaqb8gd362uhzep7&raw=1)[Source](https://www.natasshaselvaraj.com/logistic-regression-explained-in-7-minutes/)"
      ]
    },
    {
      "cell_type": "markdown",
      "metadata": {
        "id": "0LJCPP-v2odH"
      },
      "source": [
        "* Also very simple code to implement"
      ]
    },
    {
      "cell_type": "code",
      "execution_count": 2,
      "metadata": {
        "colab": {
          "base_uri": "https://localhost:8080/",
          "height": 430
        },
        "id": "y-nwpRs72odH",
        "outputId": "193df30a-f232-46ac-862c-7449e54d10c9"
      },
      "outputs": [
        {
          "output_type": "display_data",
          "data": {
            "text/plain": [
              "<Figure size 640x480 with 1 Axes>"
            ],
            "image/png": "[encoded data removed]"
          },
          "metadata": {}
        }
      ],
      "source": [
        "# Source: https://www.w3schools.com/python/python_ml_linear_regression.asp\n",
        "\n",
        "import matplotlib.pyplot as plt\n",
        "from scipy import stats\n",
        "\n",
        "x = [5,7,8,7,2,17,2,9,4,11,12,9,6]\n",
        "y = [99,86,87,88,111,86,103,87,94,78,77,85,86]\n",
        "\n",
        "# This is the lin reg, one line of code!\n",
        "slope, intercept, r, p, std_err = stats.linregress(x, y)\n",
        "\n",
        "def myfunc(x):\n",
        "  return slope * x + intercept\n",
        "\n",
        "mymodel = list(map(myfunc, x))\n",
        "\n",
        "plt.scatter(x, y, color='red')\n",
        "plt.plot(x, mymodel)\n",
        "plt.show()"
      ]
    },
    {
      "cell_type": "markdown",
      "metadata": {
        "id": "-EO7UdIA2odH"
      },
      "source": [
        "###### K Nearest Neighbours"
      ]
    },
    {
      "cell_type": "markdown",
      "metadata": {
        "id": "7D3LqSXh2odH"
      },
      "source": [
        "* Classify by a majority vote of neighbours"
      ]
    },
    {
      "cell_type": "markdown",
      "metadata": {
        "id": "rdQoddnI2odH"
      },
      "source": [
        "* Advantages: Simple to implement, robust to noisy training data, and effective if training data is large"
      ]
    },
    {
      "cell_type": "markdown",
      "metadata": {
        "id": "C77FfWFA2odH"
      },
      "source": [
        "* Disadvantages: Need to determine the value of K computation cost is high"
      ]
    },
    {
      "cell_type": "markdown",
      "metadata": {
        "id": "vN7lLDTc2odH"
      },
      "source": [
        "![Fig. 12. KNN](https://www.dropbox.com/scl/fi/s6thzhm8tiyiuu4vi8edt/knn.png?rlkey=9z16d09jjumei8atwjta4p1ep&raw=1)"
      ]
    },
    {
      "cell_type": "markdown",
      "metadata": {
        "id": "_9Io6cAw2odI"
      },
      "source": [
        "It's like playing darts/curling. Your training data are the stars and triangles, and your test data are the ?. Every time a new data point comes it gets thrown to the board and it gets classified according to the neighbours. The problem is the disparity you have with different k values. Use it when there's not much to \"learn\" from your data!"
      ]
    },
    {
      "cell_type": "code",
      "execution_count": 3,
      "metadata": {
        "colab": {
          "base_uri": "https://localhost:8080/",
          "height": 430
        },
        "id": "mSGMKJfS2odI",
        "outputId": "fcc8eafc-c2a3-4fc7-8cc2-ea6334b5a840"
      },
      "outputs": [
        {
          "output_type": "display_data",
          "data": {
            "text/plain": [
              "<Figure size 640x480 with 1 Axes>"
            ],
            "image/png": "[encoded data removed]"
          },
          "metadata": {}
        }
      ],
      "source": [
        "# Source: https://www.w3schools.com/python/python_ml_knn.asp\n",
        "\n",
        "import matplotlib.pyplot as plt\n",
        "from sklearn.neighbors import KNeighborsClassifier\n",
        "\n",
        "x = [4, 5, 10, 4, 3, 11, 14 , 8, 10, 12]\n",
        "y = [21, 19, 24, 17, 16, 25, 24, 22, 21, 21]\n",
        "classes = [0, 0, 1, 0, 0, 1, 1, 0, 1, 1]\n",
        "data = list(zip(x, y))\n",
        "\n",
        "# Two lines of code to declare and \"fit\" the model!\n",
        "knn = KNeighborsClassifier(n_neighbors=1)\n",
        "knn.fit(data, classes)\n",
        "\n",
        "# Test it\n",
        "new_x = 8\n",
        "new_y = 21\n",
        "\n",
        "new_point = [(new_x, new_y)]\n",
        "prediction = knn.predict(new_point)\n",
        "plt.scatter(x + [new_x], y + [new_y], c=classes + [prediction[0]])\n",
        "plt.text(x=new_x-1.7, y=new_y-0.7, s=f\"new point, class: {prediction[0]}\")\n",
        "plt.show()"
      ]
    },
    {
      "cell_type": "markdown",
      "metadata": {
        "id": "cPvhjKE32odI"
      },
      "source": [
        "###### Decision Tree/Random Forest"
      ]
    },
    {
      "cell_type": "markdown",
      "metadata": {
        "id": "QnknCfAz2odI"
      },
      "source": [
        "* Segment the predictor space into multiple regions"
      ]
    },
    {
      "cell_type": "markdown",
      "metadata": {
        "id": "mXvwUQC82odI"
      },
      "source": [
        "* Each region has only a subset of the training dataset"
      ]
    },
    {
      "cell_type": "markdown",
      "metadata": {
        "id": "UjFX1-jm2odI"
      },
      "source": [
        "* High variance $\\rightarrow$ Small changes in the training data can give an entirely different decision tree model"
      ]
    },
    {
      "cell_type": "markdown",
      "metadata": {
        "id": "KbeukaoG2odJ"
      },
      "source": [
        "![Fig. 13. Decision Tree](https://www.dropbox.com/scl/fi/681vx0ksis80zfbklc2fq/dn.jpg?rlkey=7813zye213svr0f6lwdjz80nc&raw=1)"
      ]
    },
    {
      "cell_type": "markdown",
      "metadata": {
        "id": "J4oYiDrr2odJ"
      },
      "source": [
        "The key aspect is that a person can be fit under 30 and not eating lots of pizza OR over 30 and excercising in the morning (two different sets of people). When you need multiple iterations or attempts, you create various trees which in turn generate a Random Forest!"
      ]
    },
    {
      "cell_type": "code",
      "execution_count": 4,
      "metadata": {
        "colab": {
          "base_uri": "https://localhost:8080/",
          "height": 745
        },
        "id": "Ztkfjokd2odJ",
        "outputId": "3e85a496-4f43-47ff-bccc-fee5e03c8995"
      },
      "outputs": [
        {
          "output_type": "execute_result",
          "data": {
            "text/plain": [
              "[Text(0.5, 0.9166666666666666, 'x[3] <= 0.8\\ngini = 0.667\\nsamples = 150\\nvalue = [50, 50, 50]'),\n",
              " Text(0.4230769230769231, 0.75, 'gini = 0.0\\nsamples = 50\\nvalue = [50, 0, 0]'),\n",
              " Text(0.46153846153846156, 0.8333333333333333, 'True  '),\n",
              " Text(0.5769230769230769, 0.75, 'x[3] <= 1.75\\ngini = 0.5\\nsamples = 100\\nvalue = [0, 50, 50]'),\n",
              " Text(0.5384615384615384, 0.8333333333333333, '  False'),\n",
              " Text(0.3076923076923077, 0.5833333333333334, 'x[2] <= 4.95\\ngini = 0.168\\nsamples = 54\\nvalue = [0, 49, 5]'),\n",
              " Text(0.15384615384615385, 0.4166666666666667, 'x[3] <= 1.65\\ngini = 0.041\\nsamples = 48\\nvalue = [0, 47, 1]'),\n",
              " Text(0.07692307692307693, 0.25, 'gini = 0.0\\nsamples = 47\\nvalue = [0, 47, 0]'),\n",
              " Text(0.23076923076923078, 0.25, 'gini = 0.0\\nsamples = 1\\nvalue = [0, 0, 1]'),\n",
              " Text(0.46153846153846156, 0.4166666666666667, 'x[3] <= 1.55\\ngini = 0.444\\nsamples = 6\\nvalue = [0, 2, 4]'),\n",
              " Text(0.38461538461538464, 0.25, 'gini = 0.0\\nsamples = 3\\nvalue = [0, 0, 3]'),\n",
              " Text(0.5384615384615384, 0.25, 'x[0] <= 6.95\\ngini = 0.444\\nsamples = 3\\nvalue = [0, 2, 1]'),\n",
              " Text(0.46153846153846156, 0.08333333333333333, 'gini = 0.0\\nsamples = 2\\nvalue = [0, 2, 0]'),\n",
              " Text(0.6153846153846154, 0.08333333333333333, 'gini = 0.0\\nsamples = 1\\nvalue = [0, 0, 1]'),\n",
              " Text(0.8461538461538461, 0.5833333333333334, 'x[2] <= 4.85\\ngini = 0.043\\nsamples = 46\\nvalue = [0, 1, 45]'),\n",
              " Text(0.7692307692307693, 0.4166666666666667, 'x[0] <= 5.95\\ngini = 0.444\\nsamples = 3\\nvalue = [0, 1, 2]'),\n",
              " Text(0.6923076923076923, 0.25, 'gini = 0.0\\nsamples = 1\\nvalue = [0, 1, 0]'),\n",
              " Text(0.8461538461538461, 0.25, 'gini = 0.0\\nsamples = 2\\nvalue = [0, 0, 2]'),\n",
              " Text(0.9230769230769231, 0.4166666666666667, 'gini = 0.0\\nsamples = 43\\nvalue = [0, 0, 43]')]"
            ]
          },
          "metadata": {},
          "execution_count": 4
        },
        {
          "output_type": "display_data",
          "data": {
            "text/plain": [
              "<Figure size 640x480 with 1 Axes>"
            ],
            "image/png": "[encoded data removed]"
          },
          "metadata": {}
        }
      ],
      "source": [
        "# Source: https://scikit-learn.org/stable/modules/tree.html\n",
        "\n",
        "from sklearn.datasets import load_iris\n",
        "from sklearn import tree\n",
        "\n",
        "iris = load_iris()\n",
        "X, y = iris.data, iris.target\n",
        "\n",
        "## Again, classifier is just two lines of code\n",
        "clf = tree.DecisionTreeClassifier()\n",
        "clf = clf.fit(X, y)\n",
        "\n",
        "# You can even visualise the tree\n",
        "tree.plot_tree(clf)"
      ]
    },
    {
      "cell_type": "markdown",
      "metadata": {
        "id": "oXblpIUU2odK"
      },
      "source": [
        "###### Naive Bayes"
      ]
    },
    {
      "cell_type": "markdown",
      "metadata": {
        "id": "1sD3iuL52odK"
      },
      "source": [
        "* Probabilistic classifier inspired by the Bayes theorem, assumes attributes are conditionally independent"
      ]
    },
    {
      "cell_type": "markdown",
      "metadata": {
        "id": "Cja2NgWG2odK"
      },
      "source": [
        "* Advantages: small amount of training data required, extremely fast"
      ]
    },
    {
      "cell_type": "markdown",
      "metadata": {
        "id": "250U8PhY2odK"
      },
      "source": [
        "* Disadvantages: zero probability problem, if the conditional probability is zero for a particular attribute..."
      ]
    },
    {
      "cell_type": "markdown",
      "metadata": {
        "id": "4GOxAUdU2odK"
      },
      "source": [
        "![Fig. 14. NB](https://www.dropbox.com/scl/fi/83t7ybqo9w5emn6jgvx26/nb.png?rlkey=g54otgerssy98hg30y3qd6h49&raw=1)"
      ]
    },
    {
      "cell_type": "code",
      "execution_count": 5,
      "metadata": {
        "colab": {
          "base_uri": "https://localhost:8080/"
        },
        "id": "a0pb__B62odK",
        "outputId": "192741a8-4fb1-4c02-c5a6-0571096324a4"
      },
      "outputs": [
        {
          "output_type": "stream",
          "name": "stdout",
          "text": [
            "[1 2 0 2 0 0 0 0 0 1 2 0 0 0 1 1 2 2 1 2 2 0 2]\n"
          ]
        }
      ],
      "source": [
        "# Credit: https://www.kaggle.com/code/nizamudma/iris-data-classification-using-naive-bayes\n",
        "\n",
        "from sklearn.model_selection import train_test_split\n",
        "from sklearn.naive_bayes import GaussianNB\n",
        "\n",
        "#split data for train and test\n",
        "x_train,x_test,y_train,y_test=train_test_split(X,y,test_size=0.15)\n",
        "\n",
        "# No surpise, two lines\n",
        "bc=GaussianNB()\n",
        "bc.fit(x_train,y_train)\n",
        "\n",
        "# Predict samples from the text set\n",
        "print(bc.predict(x_test))"
      ]
    },
    {
      "cell_type": "markdown",
      "metadata": {
        "id": "PKyaR3232odK"
      },
      "source": [
        "###### Support Vector Machine (SVM)"
      ]
    },
    {
      "cell_type": "markdown",
      "metadata": {
        "id": "okruURdC2odK"
      },
      "source": [
        "* Discriminative classifier defined by a separating hyperplane"
      ]
    },
    {
      "cell_type": "markdown",
      "metadata": {
        "id": "x2y7FT2u2odK"
      },
      "source": [
        "* Tuning parameters in SVM classifier\n",
        "    * Kernel - transformation method, e.g. Polynomial and exponential kernels\n",
        "    * Regularisation - how much to avoid misclassifying each training example\n",
        "    * Gamma - how far the influence of a single training example reaches, high gamma → only nearby examples"
      ]
    },
    {
      "cell_type": "markdown",
      "metadata": {
        "id": "W-rdiguu2odK"
      },
      "source": [
        "* A margin in SVM is a separation of line to the closest class points\n",
        "    * A good margin is one where this separation is larger for both the classes"
      ]
    },
    {
      "cell_type": "markdown",
      "metadata": {
        "id": "Tnhk67L42odL"
      },
      "source": [
        "![Fig. 15. SVM](https://www.dropbox.com/scl/fi/risnrcss13j0qyb5w84si/svm.png?rlkey=9uxvubuwiptvqaoymr8nm2ohc&raw=1)"
      ]
    },
    {
      "cell_type": "markdown",
      "metadata": {
        "id": "XsgRwvMm2odL"
      },
      "source": [
        "* We will do this one in Lab Topic 5! But trust me, again it is two lines of code..."
      ]
    },
    {
      "cell_type": "markdown",
      "metadata": {
        "id": "p53JZKV72odL"
      },
      "source": [
        "###### Neural Network (NN)"
      ]
    },
    {
      "cell_type": "markdown",
      "metadata": {
        "id": "BK2vXo5m2odL"
      },
      "source": [
        "We will talk **EXTENSIVELY** about them later on"
      ]
    },
    {
      "cell_type": "markdown",
      "metadata": {
        "id": "yiJGNeJd2odL"
      },
      "source": [
        "![Fig. 16. NN](https://www.dropbox.com/scl/fi/kq536qoo6xoqkvl8exuy3/nn.png?rlkey=s4tx5gzg74xbqajhscddoqi1r&raw=1)"
      ]
    },
    {
      "cell_type": "markdown",
      "metadata": {
        "id": "qhAyzt2F2odL"
      },
      "source": [
        "![Fig. 17. Tradeoff](https://www.dropbox.com/scl/fi/0i0i56m9euztqwl2wikdf/accvsinter.png?rlkey=vbjwev6t1228cebp59dara3gd&raw=1)"
      ]
    },
    {
      "cell_type": "markdown",
      "metadata": {
        "id": "RULvkN682odL"
      },
      "source": [
        "#### Semi-supervised Learning"
      ]
    },
    {
      "cell_type": "markdown",
      "metadata": {
        "id": "1N8kLCjY2odL"
      },
      "source": [
        "* Aims to label unlabelled data points using knowledge learned from a small number of labelled data points"
      ]
    },
    {
      "cell_type": "markdown",
      "metadata": {
        "id": "bmAkX72b2odL"
      },
      "source": [
        "* Learning with both unlabelled and labeled data points"
      ]
    },
    {
      "cell_type": "markdown",
      "metadata": {
        "id": "MP_nNMnR2odL"
      },
      "source": [
        "* Used when large amounts of data are costly to label"
      ]
    },
    {
      "cell_type": "markdown",
      "metadata": {
        "id": "dEr93SyZ2odL"
      },
      "source": [
        "##### Assumptions of Semi-supervised Learning"
      ]
    },
    {
      "cell_type": "markdown",
      "metadata": {
        "id": "U4TzsU292odL"
      },
      "source": [
        "* `Continuity`: Data points that are \"close\" have a common label"
      ]
    },
    {
      "cell_type": "markdown",
      "metadata": {
        "id": "whvKaKpY2odL"
      },
      "source": [
        "* `Cluster`: Data naturally forms discrete clusters, most common to share label"
      ]
    },
    {
      "cell_type": "markdown",
      "metadata": {
        "id": "jc60LZOn2odM"
      },
      "source": [
        "* `Manifold`: Data lies in a lower dimensional space than the input space"
      ]
    },
    {
      "cell_type": "markdown",
      "metadata": {
        "id": "4h0HaOw92odM"
      },
      "source": [
        "##### Examples of Semi-supervised Learning Algorithms"
      ]
    },
    {
      "cell_type": "markdown",
      "metadata": {
        "id": "CIQZxkar2odM"
      },
      "source": [
        "###### Transductive SVM"
      ]
    },
    {
      "cell_type": "markdown",
      "metadata": {
        "id": "KR-THemI2odM"
      },
      "source": [
        "###### Label Propagation"
      ]
    },
    {
      "cell_type": "markdown",
      "metadata": {
        "id": "HgZyod6a2odM"
      },
      "source": [
        "#### Unsupervised Learning"
      ]
    },
    {
      "cell_type": "markdown",
      "metadata": {
        "id": "sYdi4XyJ2odM"
      },
      "source": [
        "* Does not have (or need) any labelled outputs, so its goal is to infer the natural structure present within a set of data points"
      ]
    },
    {
      "cell_type": "markdown",
      "metadata": {
        "id": "n9RIQR-L2odM"
      },
      "source": [
        "* Finds inherent patterns of data"
      ]
    },
    {
      "cell_type": "markdown",
      "metadata": {
        "id": "nS_r_eX_2odM"
      },
      "source": [
        "* Most common tasks: **clustering** and **exploratory data analysis**"
      ]
    },
    {
      "cell_type": "markdown",
      "metadata": {
        "id": "7TX5M1zz2odM"
      },
      "source": [
        "##### Examples of Unsupervised Learning Algorithms"
      ]
    },
    {
      "cell_type": "markdown",
      "metadata": {
        "id": "8FOazuha2odM"
      },
      "source": [
        "###### K-means Clustering"
      ]
    },
    {
      "cell_type": "markdown",
      "metadata": {
        "id": "o1AFJCjA2odM"
      },
      "source": [
        "###### Principal Component Analysis (PCA)"
      ]
    },
    {
      "cell_type": "markdown",
      "metadata": {
        "id": "ilWh_thc2odM"
      },
      "source": [
        "###### Autoencoders"
      ]
    },
    {
      "cell_type": "markdown",
      "metadata": {
        "id": "0sNyqxLe2odM"
      },
      "source": [
        "## Recognition vs Classification: What's the difference?"
      ]
    },
    {
      "cell_type": "code",
      "execution_count": 6,
      "metadata": {
        "scrolled": false,
        "colab": {
          "base_uri": "https://localhost:8080/",
          "height": 336
        },
        "id": "6CeH_s3A2odM",
        "outputId": "8b0ed1c2-5eeb-44ca-b50e-65cbee00bc9e"
      },
      "outputs": [
        {
          "output_type": "execute_result",
          "data": {
            "text/plain": [
              "<IPython.core.display.HTML object>"
            ],
            "text/html": [
              "<iframe width=\"560\" height=\"315\" src=\"https://www.youtube.com/embed/R9OHn5ZF4Uo\" frameborder=\"0\" allow=\"accelerometer; autoplay; clipboard-write; encrypted-media; gyroscope; picture-in-picture\" allowfullscreen></iframe>"
            ]
          },
          "metadata": {},
          "execution_count": 6
        }
      ],
      "source": [
        "import warnings\n",
        "warnings.filterwarnings('ignore')\n",
        "from IPython.display import HTML\n",
        "HTML('<iframe width=\"560\" height=\"315\" src=\"https://www.youtube.com/embed/R9OHn5ZF4Uo\" frameborder=\"0\" allow=\"accelerometer; autoplay; clipboard-write; encrypted-media; gyroscope; picture-in-picture\" allowfullscreen></iframe>')"
      ]
    },
    {
      "cell_type": "markdown",
      "metadata": {
        "id": "EFaPU1dq2odN"
      },
      "source": [
        "As you can see, we can do more things beyond classification, such as **detecting** where the object lies in the image, **recognise** it from a pool of similar objects, **segment** where it is or even **track** it in a video feed!"
      ]
    },
    {
      "cell_type": "markdown",
      "metadata": {
        "id": "lOY8yark2odN"
      },
      "source": [
        "# LAB 3: MANIPULATING IMAGES IN PYTHON"
      ]
    }
  ],
  "metadata": {
    "celltoolbar": "Slideshow",
    "hide_input": false,
    "kernelspec": {
      "display_name": "Python 3 (ipykernel)",
      "language": "python",
      "name": "python3"
    },
    "language_info": {
      "codemirror_mode": {
        "name": "ipython",
        "version": 3
      },
      "file_extension": ".py",
      "mimetype": "text/x-python",
      "name": "python",
      "nbconvert_exporter": "python",
      "pygments_lexer": "ipython3",
      "version": "3.11.9"
    },
    "rise": {
      "backimage": "../mybackimage.png",
      "enable_chalkboard": true,
      "scroll": true
    },
    "varInspector": {
      "cols": {
        "lenName": 16,
        "lenType": 16,
        "lenVar": 40
      },
      "kernels_config": {
        "python": {
          "delete_cmd_postfix": "",
          "delete_cmd_prefix": "del ",
          "library": "var_list.py",
          "varRefreshCmd": "print(var_dic_list())"
        },
        "r": {
          "delete_cmd_postfix": ") ",
          "delete_cmd_prefix": "rm(",
          "library": "var_list.r",
          "varRefreshCmd": "cat(var_dic_list()) "
        }
      },
      "types_to_exclude": [
        "module",
        "function",
        "builtin_function_or_method",
        "instance",
        "_Feature"
      ],
      "window_display": false
    },
    "colab": {
      "provenance": [],
      "toc_visible": true,
      "include_colab_link": true
    }
  },
  "nbformat": 4,
  "nbformat_minor": 0
}