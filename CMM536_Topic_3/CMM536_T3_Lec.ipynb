{
  "cells": [
    {
      "cell_type": "markdown",
      "metadata": {
        "id": "view-in-github",
        "colab_type": "text"
      },
      "source": [
        "<a href=\"https://colab.research.google.com/github/carlosfmorenog/CMM536/blob/master/CMM536_Topic_3/CMM536_T3_Lec.ipynb\" target=\"_parent\"><img src=\"https://colab.research.google.com/assets/colab-badge.svg\" alt=\"Open In Colab\"/></a>"
      ]
    },
    {
      "cell_type": "markdown",
      "metadata": {
        "hide_input": true,
        "id": "L86FIEfP3usC"
      },
      "source": [
        "# Topic 3 Lecture - Images as Data & Intro to ML"
      ]
    },
    {
      "cell_type": "markdown",
      "metadata": {
        "id": "r0pN7V-Z3usH"
      },
      "source": [
        "## Aims of the Session"
      ]
    },
    {
      "cell_type": "markdown",
      "metadata": {
        "id": "9JzbKSRL3usH"
      },
      "source": [
        "* Justify the reason to use images as the main data input for (most of) the remaining of the course"
      ]
    },
    {
      "cell_type": "markdown",
      "metadata": {
        "id": "P68N2GSz3usI"
      },
      "source": [
        "* Learn the basics on image pre-processing techniques to better organise and classify data"
      ]
    },
    {
      "cell_type": "markdown",
      "metadata": {
        "id": "GWwCThkL3usJ"
      },
      "source": [
        "## Resources for the Lecture"
      ]
    },
    {
      "cell_type": "markdown",
      "metadata": {
        "id": "wphaqiSH3usJ"
      },
      "source": [
        "* Introduction to Computing and Programming in Python: A Multimedia Approach. Mark Guzdial, Barbara Ericson. Pearson, 2016.\n",
        "* https://people.eecs.berkeley.edu/~fateman/kathey/skew.html\n",
        "* https://docs.opencv.org/3.0-beta/doc/py_tutorials/py_imgproc/py_morphological_ops/py_morphological_ops.html"
      ]
    },
    {
      "cell_type": "markdown",
      "metadata": {
        "id": "sSt5Yqr_3usK"
      },
      "source": [
        "## Why images as data?"
      ]
    },
    {
      "cell_type": "markdown",
      "metadata": {
        "id": "qFQmdc9f3usL"
      },
      "source": [
        "* Images (and multimedia in general) are easier to understand!"
      ]
    },
    {
      "cell_type": "markdown",
      "metadata": {
        "id": "oJVgQZI43usM"
      },
      "source": [
        "* They are a visual representation of the features of the data input"
      ]
    },
    {
      "cell_type": "markdown",
      "metadata": {
        "id": "obkUse8l3usN"
      },
      "source": [
        "* Non-application dependent (mostly)"
      ]
    },
    {
      "cell_type": "markdown",
      "metadata": {
        "id": "P_ccLimy3usN"
      },
      "source": [
        "* They will lead us to Convolutional Neural Networks!"
      ]
    },
    {
      "cell_type": "markdown",
      "metadata": {
        "id": "Kk8Ljl8E3usO"
      },
      "source": [
        "* It is a novel educational approach."
      ]
    },
    {
      "cell_type": "markdown",
      "metadata": {
        "id": "VZv8xw2L3usO"
      },
      "source": [
        "![Fig. 1. A book about multimedia in Python](https://www.dropbox.com/s/wjbajs4a7yzd266/book.jpg?raw=1)"
      ]
    },
    {
      "cell_type": "markdown",
      "metadata": {
        "id": "Djzogca83usO"
      },
      "source": [
        "## How does an image look *digitally*?"
      ]
    },
    {
      "cell_type": "markdown",
      "metadata": {
        "id": "w-O4GSNV3usP"
      },
      "source": [
        "* These are the main **compression algorithms** used to store images:"
      ]
    },
    {
      "cell_type": "markdown",
      "metadata": {
        "id": "dPbWskDZ3usP"
      },
      "source": [
        "![Fig. 2. Image extensions](https://www.dropbox.com/s/4an7wf2na3fvgvf/comp.jpg?raw=1)"
      ]
    },
    {
      "cell_type": "markdown",
      "metadata": {
        "id": "4Q3iL2Hm3usP"
      },
      "source": [
        "### Compression Algorithms"
      ]
    },
    {
      "cell_type": "markdown",
      "metadata": {
        "id": "ndPgjqOW3usQ"
      },
      "source": [
        "* The *art* of compression algorithms is in **quantisation**!"
      ]
    },
    {
      "cell_type": "markdown",
      "metadata": {
        "id": "vif_YUiB3usQ"
      },
      "source": [
        "* Best algorithms are the ones that achieve best visual quality with reduced size."
      ]
    },
    {
      "cell_type": "markdown",
      "metadata": {
        "id": "zg5TQCWY3usR"
      },
      "source": [
        "![Fig. 3. Quantization](https://www.dropbox.com/s/714a6l2o7ln6ukw/quant.jpg?raw=1)"
      ]
    },
    {
      "cell_type": "markdown",
      "metadata": {
        "id": "2JDNv48c3usS"
      },
      "source": [
        "The importance of compression"
      ]
    },
    {
      "cell_type": "code",
      "execution_count": null,
      "metadata": {
        "id": "k5iEzhqv3usT",
        "outputId": "b287ec24-b730-457e-e3a5-9df9336b81aa"
      },
      "outputs": [
        {
          "data": {
            "text/html": [
              "<iframe width=\"560\" height=\"315\" src=\"https://www.youtube.com/embed/NMkZpuiEqh8\" frameborder=\"0\" allow=\"accelerometer; autoplay; encrypted-media; gyroscope; picture-in-picture\" allowfullscreen></iframe>"
            ],
            "text/plain": [
              "<IPython.core.display.HTML object>"
            ]
          },
          "execution_count": 1,
          "metadata": {},
          "output_type": "execute_result"
        }
      ],
      "source": [
        "import warnings\n",
        "warnings.filterwarnings('ignore')\n",
        "from IPython.display import HTML\n",
        "HTML('<iframe width=\"560\" height=\"315\" src=\"https://www.youtube.com/embed/NMkZpuiEqh8\" frameborder=\"0\" allow=\"accelerometer; autoplay; encrypted-media; gyroscope; picture-in-picture\" allowfullscreen></iframe>')"
      ]
    },
    {
      "cell_type": "markdown",
      "metadata": {
        "id": "USzBMtRV3usX"
      },
      "source": [
        "* Fortunately, this is **NOT** our problem in this module!"
      ]
    },
    {
      "cell_type": "markdown",
      "metadata": {
        "id": "HkjhdE2p3usY"
      },
      "source": [
        "* We are going to work with images in *simpler* ways"
      ]
    },
    {
      "cell_type": "markdown",
      "metadata": {
        "id": "K2QzN8x03usZ"
      },
      "source": [
        "## Images as arrays/matrices"
      ]
    },
    {
      "cell_type": "markdown",
      "metadata": {
        "id": "QYfsajOZ3usZ"
      },
      "source": [
        "* Using the `numpy` module"
      ]
    },
    {
      "cell_type": "markdown",
      "metadata": {
        "id": "jCuqOTXY3usa"
      },
      "source": [
        "* Complementing by using the `OpenCV`module, which will let us import and manipulate images"
      ]
    },
    {
      "cell_type": "markdown",
      "metadata": {
        "id": "ncTfK_lT3usc"
      },
      "source": [
        "* When we import an image, the first thing we will get is a **bitmap**"
      ]
    },
    {
      "cell_type": "markdown",
      "metadata": {
        "id": "5FHBisPs3usc"
      },
      "source": [
        "![Fig. 4. Bitmap](https://www.dropbox.com/s/zinj0mv5uzu9eb1/pix.jpg?raw=1)"
      ]
    },
    {
      "cell_type": "markdown",
      "metadata": {
        "id": "N19HY4rB3usc"
      },
      "source": [
        "* Each pixel will be represented as a value within an $n \\times m$ matrix"
      ]
    },
    {
      "cell_type": "markdown",
      "metadata": {
        "id": "Jc1APZIO3usd"
      },
      "source": [
        "### Grayscale Images"
      ]
    },
    {
      "cell_type": "markdown",
      "metadata": {
        "id": "4wKPCzYj3usd"
      },
      "source": [
        "* A 2D grid of pixels"
      ]
    },
    {
      "cell_type": "markdown",
      "metadata": {
        "id": "4EmWuIYQ3use"
      },
      "source": [
        "* Two ways to represent them:"
      ]
    },
    {
      "cell_type": "markdown",
      "metadata": {
        "id": "qeI3699L3use"
      },
      "source": [
        "1. Standard: from 0 (black) to 255 (white) with 254 gray values in between."
      ]
    },
    {
      "cell_type": "markdown",
      "metadata": {
        "id": "NejW054c3use"
      },
      "source": [
        "![Fig. 5 a. Standard grayscale image](https://www.dropbox.com/s/mk70ili2yyb9con/graystan.jpg?raw=1)"
      ]
    },
    {
      "cell_type": "markdown",
      "metadata": {
        "id": "klkX4Ujs3usf"
      },
      "source": [
        "2. Normalised: from 0 (black) to 1 (white) with \"infinite\" gray values in between."
      ]
    },
    {
      "cell_type": "markdown",
      "metadata": {
        "id": "Je3tS0wt3usf"
      },
      "source": [
        "![Fig. 5 b. Normalised grayscale image](https://www.dropbox.com/s/qrt5j974q2adu9m/graynorm.jpg?raw=1)"
      ]
    },
    {
      "cell_type": "markdown",
      "metadata": {
        "id": "xZ2Tkn4T3usf"
      },
      "source": [
        "**IS IT POSSIBLE TO CONVERT BETWEEN STANDARD $\\leftrightarrow$ NORMALISED?**"
      ]
    },
    {
      "cell_type": "markdown",
      "metadata": {
        "id": "ofmf5ASE3usf"
      },
      "source": [
        "### Colour Images"
      ]
    },
    {
      "cell_type": "markdown",
      "metadata": {
        "id": "vlL63jrF3usf"
      },
      "source": [
        "![Fig. 6. \"Pixelated\" colour image](https://www.dropbox.com/s/4rbrymh3dobhyi9/smile.jpg?raw=1)"
      ]
    },
    {
      "cell_type": "markdown",
      "metadata": {
        "id": "B45_2jny3usf"
      },
      "source": [
        "* Each pixel has three `channels`: $\\color{red}{red}$, $\\color{blue}{blue}$ and $\\color{green}{green}$"
      ]
    },
    {
      "cell_type": "markdown",
      "metadata": {
        "id": "MTW-hfw73usf"
      },
      "source": [
        "* Images with colour are often called $\\color{red}{R}$$\\color{green}{G}$$\\color{blue}{B}$ images"
      ]
    },
    {
      "cell_type": "markdown",
      "metadata": {
        "id": "GvM-MhUv3usg"
      },
      "source": [
        "#### Option 1"
      ]
    },
    {
      "cell_type": "markdown",
      "metadata": {
        "id": "JW_2_R2R3usg"
      },
      "source": [
        "* If a colour image is imported, a matrix will be produced, this time with three values per pixel instead of one"
      ]
    },
    {
      "cell_type": "markdown",
      "metadata": {
        "id": "vsMJNHNS3usg"
      },
      "source": [
        "* The three values will be stored in a tuple"
      ]
    },
    {
      "cell_type": "markdown",
      "metadata": {
        "id": "D0ga_1i_3usg"
      },
      "source": [
        "![Fig. 7. RGB image, option 1](https://www.dropbox.com/s/ohrcjtln8mvpa49/rgb.jpg?raw=1)"
      ]
    },
    {
      "cell_type": "markdown",
      "metadata": {
        "id": "eG17Xd3y3ush"
      },
      "source": [
        "#### Option 2"
      ]
    },
    {
      "cell_type": "markdown",
      "metadata": {
        "id": "lL7uaUpF3ush"
      },
      "source": [
        "* When importing a colour image in `OpenCV`, a 3D array will be produced, with the third dimension representing the three channels"
      ]
    },
    {
      "cell_type": "markdown",
      "metadata": {
        "id": "d_vGysPf3ush"
      },
      "source": [
        "![Fig. 8. RGB image, option 2](https://www.dropbox.com/s/5eytedi8kqb01er/rgb2.jpg?raw=1)"
      ]
    },
    {
      "cell_type": "markdown",
      "metadata": {
        "id": "F3RzfjJN3ush"
      },
      "source": [
        "* Advantage of option 2: Faster to do calculations and transformations"
      ]
    },
    {
      "cell_type": "markdown",
      "metadata": {
        "id": "LdMpZzGb3ush"
      },
      "source": [
        "**HOW MANY COLOURS CAN BE REPRESENTED USING THIS STANDARD?**"
      ]
    },
    {
      "cell_type": "markdown",
      "metadata": {
        "id": "3si1w5Zi3ush"
      },
      "source": [
        "**CAN RGB BE NORMALISED?**"
      ]
    },
    {
      "cell_type": "markdown",
      "metadata": {
        "id": "xMzUqqiJ3usi"
      },
      "source": [
        "**ARE THERE ANY OTHER STANDARDS THAT CAN REPRESENT MORE COLOURS?**"
      ]
    },
    {
      "cell_type": "markdown",
      "metadata": {
        "id": "kuN4jDO93usj"
      },
      "source": [
        "## Image Pre-processing"
      ]
    },
    {
      "cell_type": "markdown",
      "metadata": {
        "id": "3p2NFkM83usk"
      },
      "source": [
        "* Before actually working with images as data, there are plenty of techniques that can be applied to improve quality"
      ]
    },
    {
      "cell_type": "markdown",
      "metadata": {
        "id": "uPBvlJrQ3usl"
      },
      "source": [
        "* Not all images are perfect, especially in the document image analysis"
      ]
    },
    {
      "cell_type": "markdown",
      "metadata": {
        "id": "QzQb7U0l3usm"
      },
      "source": [
        "![Fig. 9. An engineering drawing with poor resolution](https://www.dropbox.com/s/x7320umcr44sl1f/ed.jpg?raw=1)"
      ]
    },
    {
      "cell_type": "markdown",
      "metadata": {
        "id": "K6I75wi33usm"
      },
      "source": [
        "* As this is not a computer vision course, we will only learn **ONE** and apply one preprocessing technique:"
      ]
    },
    {
      "cell_type": "markdown",
      "metadata": {
        "id": "d-22bizP3usm"
      },
      "source": [
        "### THRESHOLDING/BINARISATION"
      ]
    },
    {
      "cell_type": "markdown",
      "metadata": {
        "id": "XNXDYF_43uso"
      },
      "source": [
        "* Converting a grayscale image into a binary (black/white) image based on a threshold"
      ]
    },
    {
      "cell_type": "markdown",
      "metadata": {
        "id": "LRjg5I4H3uso"
      },
      "source": [
        "* Useful to improve the quality of an image and to refine shapes"
      ]
    },
    {
      "cell_type": "markdown",
      "metadata": {
        "id": "YM0XMBwy3usp"
      },
      "source": [
        "![Fig. 10. An example of binarisation](https://www.dropbox.com/s/nqkcytkcely4n3t/bin.jpg?raw=1)"
      ]
    },
    {
      "cell_type": "markdown",
      "metadata": {
        "id": "TJP5V2IM3usp"
      },
      "source": [
        "### Other pre-processing techniques"
      ]
    },
    {
      "cell_type": "markdown",
      "metadata": {
        "id": "iqNzSPVV3usp"
      },
      "source": [
        "#### Skew Correction"
      ]
    },
    {
      "cell_type": "markdown",
      "metadata": {
        "id": "fcDfD6eK3usp"
      },
      "source": [
        "![Fig. 11. Skew correction](https://www.dropbox.com/s/ckge1t0aqz1j3j0/skew.jpg?raw=1)"
      ]
    },
    {
      "cell_type": "markdown",
      "metadata": {
        "id": "m3iI6zSy3usq"
      },
      "source": [
        "#### Erosion and Dilation"
      ]
    },
    {
      "cell_type": "markdown",
      "metadata": {
        "id": "rS6TGaQj3usq"
      },
      "source": [
        "![Fig. 12. Erosion and dilation](https://www.dropbox.com/s/j6ifsppdurwimzh/erodil.jpg?raw=1)"
      ]
    },
    {
      "cell_type": "markdown",
      "metadata": {
        "id": "uIsvUIrx3usq"
      },
      "source": [
        "#### Opening"
      ]
    },
    {
      "cell_type": "markdown",
      "metadata": {
        "id": "SI_dnrvS3usr"
      },
      "source": [
        "![Fig. 13. Image opening](https://www.dropbox.com/s/rqafolr87eyeot3/open.jpg?raw=1)"
      ]
    },
    {
      "cell_type": "markdown",
      "metadata": {
        "id": "A3E0sBOl3usr"
      },
      "source": [
        "#### Closing"
      ]
    },
    {
      "cell_type": "markdown",
      "metadata": {
        "id": "n7Pd3CE13usr"
      },
      "source": [
        "![Fig. 14. Image closing](https://www.dropbox.com/s/1tx3qriiqsnr78j/close.jpg?raw=1)"
      ]
    },
    {
      "cell_type": "markdown",
      "metadata": {
        "id": "WCTWlU-q3usr"
      },
      "source": [
        "## Machine Learning"
      ]
    },
    {
      "cell_type": "markdown",
      "metadata": {
        "id": "ayP3ndUo3usr"
      },
      "source": [
        "* Machine learning: An automatic function that maps $x \\rightarrow y$ based on the input data"
      ]
    },
    {
      "cell_type": "markdown",
      "metadata": {
        "id": "cbP-d68h3usr"
      },
      "source": [
        "![Fig. 9. Fundamentals of Machine Learning](https://www.dropbox.com/s/shrjabuib4m7nf5/ml.jpg?raw=1)"
      ]
    },
    {
      "cell_type": "markdown",
      "metadata": {
        "id": "t-41XL0i3usr"
      },
      "source": [
        "### Types of Machine Learning"
      ]
    },
    {
      "cell_type": "markdown",
      "metadata": {
        "id": "gUWxOuxF3usr"
      },
      "source": [
        "#### Supervised Learning"
      ]
    },
    {
      "cell_type": "markdown",
      "metadata": {
        "id": "A3FpabUm3uss"
      },
      "source": [
        "* Aims to learn a function that, given a sample of data and desired outputs, approximates a function that maps inputs to output"
      ]
    },
    {
      "cell_type": "markdown",
      "metadata": {
        "id": "jcWSyD8P3uss"
      },
      "source": [
        "* Done in the context of **classification** (when mapping input to output label) or **regression** (when mapping input to continuous output)"
      ]
    },
    {
      "cell_type": "markdown",
      "metadata": {
        "id": "DDAR86tA3uss"
      },
      "source": [
        "* The \"correct\" output will be deduced from the `training` data, therefore the model requires a reliable base"
      ]
    },
    {
      "cell_type": "markdown",
      "metadata": {
        "id": "yxsUhPZZ3uss"
      },
      "source": [
        "##### Examples of Supervised Learning Algorithms"
      ]
    },
    {
      "cell_type": "markdown",
      "metadata": {
        "id": "wCXkbnPh3uss"
      },
      "source": [
        "###### Regression"
      ]
    },
    {
      "cell_type": "markdown",
      "metadata": {
        "id": "-q0_IVbD3uss"
      },
      "source": [
        "* The simplest ML out there! A line (or curve) that adapts to the data points and tries to do a prediction based on the existing data and how it adapts to a mathematical function"
      ]
    },
    {
      "cell_type": "markdown",
      "metadata": {
        "id": "ojuQiugi3uss"
      },
      "source": [
        "![Fig. 10. Linear Regression](https://www.dropbox.com/scl/fi/f2988tk32wb5vpecgk4bu/lr.png?rlkey=3qzrrifvdiimzqcd1iudnyvhv&raw=1)[Source](https://realpython.com/linear-regression-in-python/)"
      ]
    },
    {
      "cell_type": "markdown",
      "metadata": {
        "id": "hQFPPoSU3uss"
      },
      "source": [
        "* There's a version called logistic regression which uses a probability curve, which in turn can be adapted for binary classification!"
      ]
    },
    {
      "cell_type": "markdown",
      "metadata": {
        "id": "yD7jsuea3uss"
      },
      "source": [
        "![Fig. 11. Logistic Regression](https://www.dropbox.com/scl/fi/sfjlsxrruvus2vboiezzh/logr.png?rlkey=6wzansi3caaqb8gd362uhzep7&raw=1)[Source](https://www.natasshaselvaraj.com/logistic-regression-explained-in-7-minutes/)"
      ]
    },
    {
      "cell_type": "markdown",
      "metadata": {
        "id": "hdSp-a9G3uss"
      },
      "source": [
        "* Also very simple code to implement"
      ]
    },
    {
      "cell_type": "code",
      "execution_count": null,
      "metadata": {
        "id": "XjI2XiCs3uss",
        "outputId": "ed96b1f9-0fc2-4e61-8580-85feea3bbaec"
      },
      "outputs": [
        {
          "data": {
            "image/png": "[encoded data removed]",
            "text/plain": [
              "<Figure size 640x480 with 1 Axes>"
            ]
          },
          "metadata": {},
          "output_type": "display_data"
        }
      ],
      "source": [
        "# Source: https://www.w3schools.com/python/python_ml_linear_regression.asp\n",
        "\n",
        "import matplotlib.pyplot as plt\n",
        "from scipy import stats\n",
        "\n",
        "x = [4, 5, 10, 4, 3, 11, 14 , 8, 10, 12]\n",
        "y = [21, 19, 24, 17, 16, 25, 24, 22, 21, 21]\n",
        "\n",
        "# This is the lin reg, one line of code!\n",
        "slope, intercept, r, p, std_err = stats.linregress(x, y)\n",
        "\n",
        "def myfunc(x):\n",
        "  return slope * x + intercept\n",
        "\n",
        "mymodel = list(map(myfunc, x))\n",
        "\n",
        "plt.scatter(x, y, color='red')\n",
        "plt.plot(x, mymodel)\n",
        "plt.show()"
      ]
    },
    {
      "cell_type": "markdown",
      "metadata": {
        "id": "vjd1-Hvc3uss"
      },
      "source": [
        "###### K Nearest Neighbours"
      ]
    },
    {
      "cell_type": "markdown",
      "metadata": {
        "id": "iBRO_2xw3ust"
      },
      "source": [
        "* Classify by a majority vote of neighbours"
      ]
    },
    {
      "cell_type": "markdown",
      "metadata": {
        "id": "RcSNcROY3ust"
      },
      "source": [
        "* Advantages: Simple to implement, robust to noisy training data, and effective if training data is large"
      ]
    },
    {
      "cell_type": "markdown",
      "metadata": {
        "id": "4-N-FWE03ust"
      },
      "source": [
        "* Disadvantages: Need to determine the value of K computation cost is high"
      ]
    },
    {
      "cell_type": "markdown",
      "metadata": {
        "id": "PFHHKes63ust"
      },
      "source": [
        "![Fig. 12. KNN](https://www.dropbox.com/scl/fi/s6thzhm8tiyiuu4vi8edt/knn.png?rlkey=9z16d09jjumei8atwjta4p1ep&raw=1)"
      ]
    },
    {
      "cell_type": "markdown",
      "metadata": {
        "id": "hjta-Xkj3ust"
      },
      "source": [
        "It's like playing darts/curling. Your training data are the stars and triangles, and your test data are the ?. Every time a new data point comes it gets thrown to the board and it gets classified according to the neighbours. The problem is the disparity you have with different k values. Use it when there's not much to \"learn\" from your data!"
      ]
    },
    {
      "cell_type": "code",
      "execution_count": null,
      "metadata": {
        "id": "5DwnAr6J3usu",
        "outputId": "4b3299f4-adcc-44df-e25c-d023d8f2d94b"
      },
      "outputs": [
        {
          "data": {
            "image/png": "[encoded data removed]",
            "text/plain": [
              "<Figure size 640x480 with 1 Axes>"
            ]
          },
          "metadata": {},
          "output_type": "display_data"
        }
      ],
      "source": [
        "# Source: https://www.w3schools.com/python/python_ml_knn.asp\n",
        "\n",
        "import matplotlib.pyplot as plt\n",
        "from sklearn.neighbors import KNeighborsClassifier\n",
        "\n",
        "classes = [0, 0, 1, 0, 0, 1, 1, 0, 1, 1]\n",
        "data = list(zip(x, y))\n",
        "\n",
        "# Two lines of code to declare and \"fit\" the model!\n",
        "knn = KNeighborsClassifier(n_neighbors=1)\n",
        "knn.fit(data, classes)\n",
        "\n",
        "# Test it\n",
        "new_x = 8\n",
        "new_y = 21\n",
        "\n",
        "new_point = [(new_x, new_y)]\n",
        "prediction = knn.predict(new_point)\n",
        "plt.scatter(x + [new_x], y + [new_y], c=classes + [prediction[0]])\n",
        "plt.text(x=new_x-1.7, y=new_y-0.7, s=f\"new point, class: {prediction[0]}\")\n",
        "plt.show()"
      ]
    },
    {
      "cell_type": "code",
      "execution_count": null,
      "metadata": {
        "id": "Lx0AvKcd3usv",
        "outputId": "99010ae0-6af8-4436-dd8e-91a5efd4a0ea"
      },
      "outputs": [
        {
          "data": {
            "image/png": "[encoded data removed]",
            "text/plain": [
              "<Figure size 640x480 with 1 Axes>"
            ]
          },
          "metadata": {},
          "output_type": "display_data"
        }
      ],
      "source": [
        "# Source: https://www.w3schools.com/python/python_ml_knn.asp\n",
        "\n",
        "import matplotlib.pyplot as plt\n",
        "from sklearn.neighbors import KNeighborsClassifier\n",
        "\n",
        "classes = [0, 0, 1, 0, 0, 1, 1, 0, 1, 1]\n",
        "data = list(zip(x, y))\n",
        "\n",
        "# Two lines of code to declare and \"fit\" the model!\n",
        "knn = KNeighborsClassifier(n_neighbors=5) # if you change to 5, class changes!\n",
        "knn.fit(data, classes)\n",
        "\n",
        "# Test it\n",
        "new_x = 8\n",
        "new_y = 21\n",
        "\n",
        "new_point = [(new_x, new_y)]\n",
        "prediction = knn.predict(new_point)\n",
        "plt.scatter(x + [new_x], y + [new_y], c=classes + [prediction[0]])\n",
        "plt.text(x=new_x-1.7, y=new_y-0.7, s=f\"new point, class: {prediction[0]}\")\n",
        "plt.show()"
      ]
    },
    {
      "cell_type": "markdown",
      "metadata": {
        "id": "qJRB4rBH3usv"
      },
      "source": [
        "###### Decision Tree/Random Forest"
      ]
    },
    {
      "cell_type": "markdown",
      "metadata": {
        "id": "WTQZ8UpW3usv"
      },
      "source": [
        "* Segment the predictor space into multiple regions"
      ]
    },
    {
      "cell_type": "markdown",
      "metadata": {
        "id": "kESGmhA63usv"
      },
      "source": [
        "* Each region has only a subset of the training dataset"
      ]
    },
    {
      "cell_type": "markdown",
      "metadata": {
        "id": "3IZJVQgR3usv"
      },
      "source": [
        "* High variance $\\rightarrow$ Small changes in the training data can give an entirely different decision tree model"
      ]
    },
    {
      "cell_type": "markdown",
      "metadata": {
        "id": "Uw0jhoMK3usv"
      },
      "source": [
        "![Fig. 13. Decision Tree](https://www.dropbox.com/scl/fi/681vx0ksis80zfbklc2fq/dn.jpg?rlkey=7813zye213svr0f6lwdjz80nc&raw=1)"
      ]
    },
    {
      "cell_type": "markdown",
      "metadata": {
        "id": "BLXuluQ63usv"
      },
      "source": [
        "The key aspect is that a person can be fit under 30 and not eating lots of pizza OR over 30 and excercising in the morning (two different sets of people). When you need multiple iterations or attempts, you create various trees which in turn generate a Random Forest!"
      ]
    },
    {
      "cell_type": "code",
      "execution_count": null,
      "metadata": {
        "id": "713ILgSH3usv",
        "outputId": "86f22fa1-8be4-423b-c8db-6ee7ad51f979"
      },
      "outputs": [
        {
          "data": {
            "text/plain": [
              "[Text(0.5, 0.9166666666666666, 'x[2] <= 2.45\\ngini = 0.667\\nsamples = 150\\nvalue = [50, 50, 50]'),\n",
              " Text(0.4230769230769231, 0.75, 'gini = 0.0\\nsamples = 50\\nvalue = [50, 0, 0]'),\n",
              " Text(0.46153846153846156, 0.8333333333333333, 'True  '),\n",
              " Text(0.5769230769230769, 0.75, 'x[3] <= 1.75\\ngini = 0.5\\nsamples = 100\\nvalue = [0, 50, 50]'),\n",
              " Text(0.5384615384615384, 0.8333333333333333, '  False'),\n",
              " Text(0.3076923076923077, 0.5833333333333334, 'x[2] <= 4.95\\ngini = 0.168\\nsamples = 54\\nvalue = [0, 49, 5]'),\n",
              " Text(0.15384615384615385, 0.4166666666666667, 'x[3] <= 1.65\\ngini = 0.041\\nsamples = 48\\nvalue = [0, 47, 1]'),\n",
              " Text(0.07692307692307693, 0.25, 'gini = 0.0\\nsamples = 47\\nvalue = [0, 47, 0]'),\n",
              " Text(0.23076923076923078, 0.25, 'gini = 0.0\\nsamples = 1\\nvalue = [0, 0, 1]'),\n",
              " Text(0.46153846153846156, 0.4166666666666667, 'x[3] <= 1.55\\ngini = 0.444\\nsamples = 6\\nvalue = [0, 2, 4]'),\n",
              " Text(0.38461538461538464, 0.25, 'gini = 0.0\\nsamples = 3\\nvalue = [0, 0, 3]'),\n",
              " Text(0.5384615384615384, 0.25, 'x[0] <= 6.95\\ngini = 0.444\\nsamples = 3\\nvalue = [0, 2, 1]'),\n",
              " Text(0.46153846153846156, 0.08333333333333333, 'gini = 0.0\\nsamples = 2\\nvalue = [0, 2, 0]'),\n",
              " Text(0.6153846153846154, 0.08333333333333333, 'gini = 0.0\\nsamples = 1\\nvalue = [0, 0, 1]'),\n",
              " Text(0.8461538461538461, 0.5833333333333334, 'x[2] <= 4.85\\ngini = 0.043\\nsamples = 46\\nvalue = [0, 1, 45]'),\n",
              " Text(0.7692307692307693, 0.4166666666666667, 'x[0] <= 5.95\\ngini = 0.444\\nsamples = 3\\nvalue = [0, 1, 2]'),\n",
              " Text(0.6923076923076923, 0.25, 'gini = 0.0\\nsamples = 1\\nvalue = [0, 1, 0]'),\n",
              " Text(0.8461538461538461, 0.25, 'gini = 0.0\\nsamples = 2\\nvalue = [0, 0, 2]'),\n",
              " Text(0.9230769230769231, 0.4166666666666667, 'gini = 0.0\\nsamples = 43\\nvalue = [0, 0, 43]')]"
            ]
          },
          "execution_count": 5,
          "metadata": {},
          "output_type": "execute_result"
        },
        {
          "data": {
            "image/png": "[encoded data removed]",
            "text/plain": [
              "<Figure size 640x480 with 1 Axes>"
            ]
          },
          "metadata": {},
          "output_type": "display_data"
        }
      ],
      "source": [
        "# Source: https://scikit-learn.org/stable/modules/tree.html\n",
        "\n",
        "from sklearn.datasets import load_iris\n",
        "from sklearn import tree\n",
        "\n",
        "iris = load_iris()\n",
        "X, Y = iris.data, iris.target\n",
        "\n",
        "## Again, classifier is just two lines of code\n",
        "clf = tree.DecisionTreeClassifier()\n",
        "clf = clf.fit(X, Y)\n",
        "\n",
        "# You can even visualise the tree\n",
        "tree.plot_tree(clf)"
      ]
    },
    {
      "cell_type": "markdown",
      "metadata": {
        "id": "uPORrL7O3usv"
      },
      "source": [
        "###### Naive Bayes"
      ]
    },
    {
      "cell_type": "markdown",
      "metadata": {
        "id": "yK3M0Y4O3usv"
      },
      "source": [
        "* Probabilistic classifier inspired by the Bayes theorem, assumes attributes are conditionally independent"
      ]
    },
    {
      "cell_type": "markdown",
      "metadata": {
        "id": "0ue5tWaf3usv"
      },
      "source": [
        "* Advantages: small amount of training data required, extremely fast"
      ]
    },
    {
      "cell_type": "markdown",
      "metadata": {
        "id": "NA7JigZQ3usv"
      },
      "source": [
        "* Disadvantages: zero probability problem, if the conditional probability is zero for a particular attribute..."
      ]
    },
    {
      "cell_type": "markdown",
      "metadata": {
        "id": "A2dRypSF3usv"
      },
      "source": [
        "![Fig. 14. NB](https://www.dropbox.com/scl/fi/83t7ybqo9w5emn6jgvx26/nb.png?rlkey=g54otgerssy98hg30y3qd6h49&raw=1)"
      ]
    },
    {
      "cell_type": "code",
      "execution_count": null,
      "metadata": {
        "id": "2pu-UNaz3usw",
        "outputId": "0ac271f7-8cab-4b68-a407-3807a8df020b"
      },
      "outputs": [
        {
          "name": "stdout",
          "output_type": "stream",
          "text": [
            "[1 0 2 2 2 2 2 1 1 1 0 2 2 1 2 0 2 2 1 2 0 1 0]\n"
          ]
        }
      ],
      "source": [
        "# Source: https://www.kaggle.com/code/nizamudma/iris-data-classification-using-naive-bayes\n",
        "\n",
        "from sklearn.model_selection import train_test_split\n",
        "from sklearn.naive_bayes import GaussianNB\n",
        "\n",
        "#split data for train and test\n",
        "x_train,x_test,y_train,y_test=train_test_split(X,Y,test_size=0.15)\n",
        "\n",
        "# No surpise, two lines\n",
        "bc=GaussianNB()\n",
        "bc.fit(x_train,y_train)\n",
        "\n",
        "# Predict samples from the text set\n",
        "print(bc.predict(x_test))"
      ]
    },
    {
      "cell_type": "markdown",
      "metadata": {
        "id": "o1SQ9ZKG3usx"
      },
      "source": [
        "###### Support Vector Machine (SVM)"
      ]
    },
    {
      "cell_type": "markdown",
      "metadata": {
        "id": "zjz0OAgS3usx"
      },
      "source": [
        "* Discriminative classifier defined by a separating hyperplane"
      ]
    },
    {
      "cell_type": "markdown",
      "metadata": {
        "id": "xXBtAYNl3usx"
      },
      "source": [
        "* Tuning parameters in SVM classifier\n",
        "    * Kernel - transformation method, e.g. Polynomial and exponential kernels\n",
        "    * Regularisation - how much to avoid misclassifying each training example\n",
        "    * Gamma - how far the influence of a single training example reaches, high gamma → only nearby examples"
      ]
    },
    {
      "cell_type": "markdown",
      "metadata": {
        "id": "L7qrTIz53usx"
      },
      "source": [
        "* A margin in SVM is a separation of line to the closest class points\n",
        "    * A good margin is one where this separation is larger for both the classes"
      ]
    },
    {
      "cell_type": "markdown",
      "metadata": {
        "id": "2MlB2jqU3usx"
      },
      "source": [
        "![Fig. 15. SVM](https://www.dropbox.com/scl/fi/risnrcss13j0qyb5w84si/svm.png?rlkey=9uxvubuwiptvqaoymr8nm2ohc&raw=1)"
      ]
    },
    {
      "cell_type": "markdown",
      "metadata": {
        "id": "iBQe5VNB3usx"
      },
      "source": [
        "* We will do this one in Lab Topic 5! But trust me, again it is two lines of code..."
      ]
    },
    {
      "cell_type": "markdown",
      "metadata": {
        "id": "oyDKh8yF3usx"
      },
      "source": [
        "###### Neural Network (NN)"
      ]
    },
    {
      "cell_type": "markdown",
      "metadata": {
        "id": "f-4Tw8303usx"
      },
      "source": [
        "We will talk **EXTENSIVELY** about them later on"
      ]
    },
    {
      "cell_type": "markdown",
      "metadata": {
        "id": "jqD3jCHt3usx"
      },
      "source": [
        "![Fig. 16. NN](https://www.dropbox.com/scl/fi/kq536qoo6xoqkvl8exuy3/nn.png?rlkey=s4tx5gzg74xbqajhscddoqi1r&raw=1)"
      ]
    },
    {
      "cell_type": "markdown",
      "metadata": {
        "id": "aW9l2fc33usx"
      },
      "source": [
        "![Fig. 17. Tradeoff](https://www.dropbox.com/scl/fi/0i0i56m9euztqwl2wikdf/accvsinter.png?rlkey=vbjwev6t1228cebp59dara3gd&raw=1)"
      ]
    },
    {
      "cell_type": "markdown",
      "metadata": {
        "id": "BgSakZB93usx"
      },
      "source": [
        "#### Semi-supervised Learning"
      ]
    },
    {
      "cell_type": "markdown",
      "metadata": {
        "id": "rtykiP5s3usx"
      },
      "source": [
        "* Aims to label unlabelled data points using knowledge learned from a small number of labelled data points"
      ]
    },
    {
      "cell_type": "markdown",
      "metadata": {
        "id": "WOEQmeiB3usx"
      },
      "source": [
        "* Learning with both unlabelled and labeled data points"
      ]
    },
    {
      "cell_type": "markdown",
      "metadata": {
        "id": "f6IZsdjW3usy"
      },
      "source": [
        "* Used when large amounts of data are costly to label"
      ]
    },
    {
      "cell_type": "markdown",
      "metadata": {
        "id": "3rq7TyXp3usy"
      },
      "source": [
        "##### Assumptions of Semi-supervised Learning"
      ]
    },
    {
      "cell_type": "markdown",
      "metadata": {
        "id": "g8PrfD0r3usy"
      },
      "source": [
        "* `Continuity`: Data points that are \"close\" have a common label"
      ]
    },
    {
      "cell_type": "markdown",
      "metadata": {
        "id": "mOy2OmJp3usy"
      },
      "source": [
        "* `Cluster`: Data naturally forms discrete clusters, most common to share label"
      ]
    },
    {
      "cell_type": "markdown",
      "metadata": {
        "id": "BF_03a_E3usy"
      },
      "source": [
        "* `Manifold`: Data lies in a lower dimensional space than the input space"
      ]
    },
    {
      "cell_type": "markdown",
      "metadata": {
        "id": "mOgj9QnH3usy"
      },
      "source": [
        "##### Examples of Semi-supervised Learning Algorithms"
      ]
    },
    {
      "cell_type": "markdown",
      "metadata": {
        "id": "gRJywovL3usy"
      },
      "source": [
        "###### Transductive SVM"
      ]
    },
    {
      "cell_type": "markdown",
      "metadata": {
        "id": "QrCNatZ43usz"
      },
      "source": [
        "###### Label Propagation"
      ]
    },
    {
      "cell_type": "markdown",
      "metadata": {
        "id": "hUNojiyG3usz"
      },
      "source": [
        "#### Unsupervised Learning"
      ]
    },
    {
      "cell_type": "markdown",
      "metadata": {
        "id": "CE-PaKCM3usz"
      },
      "source": [
        "* Does not have (or need) any labelled outputs, so its goal is to infer the natural structure present within a set of data points"
      ]
    },
    {
      "cell_type": "markdown",
      "metadata": {
        "id": "R7SdCVw03usz"
      },
      "source": [
        "* Finds inherent patterns of data"
      ]
    },
    {
      "cell_type": "markdown",
      "metadata": {
        "id": "v7kJsTJi3usz"
      },
      "source": [
        "* Most common tasks: **clustering** and **exploratory data analysis**"
      ]
    },
    {
      "cell_type": "markdown",
      "metadata": {
        "id": "gAJyiM0C3us0"
      },
      "source": [
        "##### Examples of Unsupervised Learning Algorithms"
      ]
    },
    {
      "cell_type": "markdown",
      "metadata": {
        "id": "gx6LBdOz3us0"
      },
      "source": [
        "###### K-means Clustering"
      ]
    },
    {
      "cell_type": "markdown",
      "metadata": {
        "id": "r0VsqGUN3us1"
      },
      "source": [
        "###### Principal Component Analysis (PCA)"
      ]
    },
    {
      "cell_type": "markdown",
      "metadata": {
        "id": "t0fB3UQo3us1"
      },
      "source": [
        "###### Autoencoders"
      ]
    },
    {
      "cell_type": "markdown",
      "metadata": {
        "id": "_BLG9OKw3us1"
      },
      "source": [
        "## Recognition vs Classification: What's the difference?"
      ]
    },
    {
      "cell_type": "code",
      "execution_count": null,
      "metadata": {
        "scrolled": false,
        "id": "BQV9Qm-b3us1",
        "outputId": "2b260654-5c7a-4c1f-dba2-9bdba59a11ad"
      },
      "outputs": [
        {
          "data": {
            "text/html": [
              "<iframe width=\"560\" height=\"315\" src=\"https://www.youtube.com/embed/R9OHn5ZF4Uo\" frameborder=\"0\" allow=\"accelerometer; autoplay; clipboard-write; encrypted-media; gyroscope; picture-in-picture\" allowfullscreen></iframe>"
            ],
            "text/plain": [
              "<IPython.core.display.HTML object>"
            ]
          },
          "execution_count": 7,
          "metadata": {},
          "output_type": "execute_result"
        }
      ],
      "source": [
        "import warnings\n",
        "warnings.filterwarnings('ignore')\n",
        "from IPython.display import HTML\n",
        "HTML('<iframe width=\"560\" height=\"315\" src=\"https://www.youtube.com/embed/R9OHn5ZF4Uo\" frameborder=\"0\" allow=\"accelerometer; autoplay; clipboard-write; encrypted-media; gyroscope; picture-in-picture\" allowfullscreen></iframe>')"
      ]
    },
    {
      "cell_type": "markdown",
      "metadata": {
        "id": "qntlDkxQ3us2"
      },
      "source": [
        "As you can see, we can do more things beyond classification, such as **detecting** where the object lies in the image, **recognise** it from a pool of similar objects, **segment** where it is or even **track** it in a video feed!"
      ]
    },
    {
      "cell_type": "markdown",
      "metadata": {
        "id": "sFWGYytS3us2"
      },
      "source": [
        "# LAB 3: MANIPULATING IMAGES IN PYTHON"
      ]
    }
  ],
  "metadata": {
    "celltoolbar": "Slideshow",
    "hide_input": false,
    "kernelspec": {
      "display_name": "Python 3 (ipykernel)",
      "language": "python",
      "name": "python3"
    },
    "language_info": {
      "codemirror_mode": {
        "name": "ipython",
        "version": 3
      },
      "file_extension": ".py",
      "mimetype": "text/x-python",
      "name": "python",
      "nbconvert_exporter": "python",
      "pygments_lexer": "ipython3",
      "version": "3.11.11"
    },
    "rise": {
      "backimage": "../mybackimage.png",
      "enable_chalkboard": true,
      "scroll": true
    },
    "varInspector": {
      "cols": {
        "lenName": 16,
        "lenType": 16,
        "lenVar": 40
      },
      "kernels_config": {
        "python": {
          "delete_cmd_postfix": "",
          "delete_cmd_prefix": "del ",
          "library": "var_list.py",
          "varRefreshCmd": "print(var_dic_list())"
        },
        "r": {
          "delete_cmd_postfix": ") ",
          "delete_cmd_prefix": "rm(",
          "library": "var_list.r",
          "varRefreshCmd": "cat(var_dic_list()) "
        }
      },
      "types_to_exclude": [
        "module",
        "function",
        "builtin_function_or_method",
        "instance",
        "_Feature"
      ],
      "window_display": false
    },
    "colab": {
      "provenance": [],
      "include_colab_link": true
    }
  },
  "nbformat": 4,
  "nbformat_minor": 0
}