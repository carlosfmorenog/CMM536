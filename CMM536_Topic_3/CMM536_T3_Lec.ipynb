{
  "cells": [
    {
      "cell_type": "markdown",
      "metadata": {
        "id": "view-in-github",
        "colab_type": "text"
      },
      "source": [
        "<a href=\"https://colab.research.google.com/github/carlosfmorenog/CMM536/blob/master/CMM536_Topic_3/CMM536_T3_Lec.ipynb\" target=\"_parent\"><img src=\"https://colab.research.google.com/assets/colab-badge.svg\" alt=\"Open In Colab\"/></a>"
      ]
    },
    {
      "cell_type": "markdown",
      "metadata": {
        "hide_input": true,
        "id": "aVuF0jn3TGzk"
      },
      "source": [
        "# Topic 3 Lecture - Images as Data"
      ]
    },
    {
      "cell_type": "markdown",
      "metadata": {
        "id": "JWUBhY0BTGzn"
      },
      "source": [
        "## Aims of the Session"
      ]
    },
    {
      "cell_type": "markdown",
      "metadata": {
        "id": "A2JXQHiGTGzp"
      },
      "source": [
        "* Justify the reason to use images as the main data input for (most of) the remaining of the course"
      ]
    },
    {
      "cell_type": "markdown",
      "metadata": {
        "id": "cADx_gkxTGzu"
      },
      "source": [
        "* Learn the basics on image pre-processing techniques to better organise and classify data"
      ]
    },
    {
      "cell_type": "markdown",
      "metadata": {
        "id": "YHcwY9q6TGzx"
      },
      "source": [
        "## Resources for the Lecture"
      ]
    },
    {
      "cell_type": "markdown",
      "metadata": {
        "id": "XTWww5eiTGzz"
      },
      "source": [
        "* Introduction to Computing and Programming in Python: A Multimedia Approach. Mark Guzdial, Barbara Ericson. Pearson, 2016.\n",
        "* https://people.eecs.berkeley.edu/~fateman/kathey/skew.html\n",
        "* https://docs.opencv.org/3.0-beta/doc/py_tutorials/py_imgproc/py_morphological_ops/py_morphological_ops.html"
      ]
    },
    {
      "cell_type": "markdown",
      "metadata": {
        "id": "1yHM5K40TGz1"
      },
      "source": [
        "## Why images as data?"
      ]
    },
    {
      "cell_type": "markdown",
      "metadata": {
        "id": "ZQq9HcVhTGz2"
      },
      "source": [
        "* Images (and multimedia in general) are easier to understand!"
      ]
    },
    {
      "cell_type": "markdown",
      "metadata": {
        "id": "N10zYJg_TGz5"
      },
      "source": [
        "* They are a visual representation of the features of the data input"
      ]
    },
    {
      "cell_type": "markdown",
      "metadata": {
        "id": "pT-hE2BpTGz7"
      },
      "source": [
        "* Non-application dependent (mostly)"
      ]
    },
    {
      "cell_type": "markdown",
      "metadata": {
        "id": "qbzEAiEmTGz_"
      },
      "source": [
        "* They will lead us to Convolutional Neural Networks!"
      ]
    },
    {
      "cell_type": "markdown",
      "metadata": {
        "id": "yrNM5uWyTG0B"
      },
      "source": [
        "* It is a novel educational approach."
      ]
    },
    {
      "cell_type": "markdown",
      "metadata": {
        "id": "TzXqu6eXTG0D"
      },
      "source": [
        "![Fig. 1. A book about multimedia in Python](https://www.dropbox.com/s/wjbajs4a7yzd266/book.jpg?raw=1)"
      ]
    },
    {
      "cell_type": "markdown",
      "metadata": {
        "id": "p_cpbgYgTG0E"
      },
      "source": [
        "## How does an image look *digitally*?"
      ]
    },
    {
      "cell_type": "markdown",
      "metadata": {
        "id": "Y4jVaGZkTG0E"
      },
      "source": [
        "* These are the main **compression algorithms** used to store images:"
      ]
    },
    {
      "cell_type": "markdown",
      "metadata": {
        "id": "YlwdrHqKTG0G"
      },
      "source": [
        "![Fig. 2. Image extensions](https://www.dropbox.com/s/4an7wf2na3fvgvf/comp.jpg?raw=1)"
      ]
    },
    {
      "cell_type": "markdown",
      "metadata": {
        "id": "uxBC9VjuTG0H"
      },
      "source": [
        "### Compression Algorithms"
      ]
    },
    {
      "cell_type": "markdown",
      "metadata": {
        "id": "8ss3UtjATG0H"
      },
      "source": [
        "* The *art* of compression algorithms is in **quantisation**!"
      ]
    },
    {
      "cell_type": "markdown",
      "metadata": {
        "id": "xoyu2AV6TG0I"
      },
      "source": [
        "* Best algorithms are the ones that achieve best visual quality with reduced size."
      ]
    },
    {
      "cell_type": "markdown",
      "metadata": {
        "id": "9ptxmDHjTG0J"
      },
      "source": [
        "![Fig. 3. Quantization](https://www.dropbox.com/s/714a6l2o7ln6ukw/quant.jpg?raw=1)"
      ]
    },
    {
      "cell_type": "markdown",
      "metadata": {
        "id": "XvAL-FzFTG0J"
      },
      "source": [
        "The importance of compression"
      ]
    },
    {
      "cell_type": "code",
      "execution_count": null,
      "metadata": {
        "id": "4US_tqPWTG0K",
        "outputId": "10bf2f5d-8b1d-4d80-da4d-3174b2348acf",
        "colab": {
          "base_uri": "https://localhost:8080/",
          "height": 336
        }
      },
      "outputs": [
        {
          "output_type": "execute_result",
          "data": {
            "text/plain": [
              "<IPython.core.display.HTML object>"
            ],
            "text/html": [
              "<iframe width=\"560\" height=\"315\" src=\"https://www.youtube.com/embed/NMkZpuiEqh8\" frameborder=\"0\" allow=\"accelerometer; autoplay; encrypted-media; gyroscope; picture-in-picture\" allowfullscreen></iframe>"
            ]
          },
          "metadata": {},
          "execution_count": 1
        }
      ],
      "source": [
        "import warnings\n",
        "warnings.filterwarnings('ignore')\n",
        "from IPython.display import HTML\n",
        "HTML('<iframe width=\"560\" height=\"315\" src=\"https://www.youtube.com/embed/NMkZpuiEqh8\" frameborder=\"0\" allow=\"accelerometer; autoplay; encrypted-media; gyroscope; picture-in-picture\" allowfullscreen></iframe>')"
      ]
    },
    {
      "cell_type": "markdown",
      "metadata": {
        "id": "9YIiPTRGTG0N"
      },
      "source": [
        "* Fortunately, this is **NOT** our problem in this module!"
      ]
    },
    {
      "cell_type": "markdown",
      "metadata": {
        "id": "6c59ruveTG0R"
      },
      "source": [
        "* We are going to work with images in *simpler* ways"
      ]
    },
    {
      "cell_type": "markdown",
      "metadata": {
        "id": "24qHfRXSTG0S"
      },
      "source": [
        "## Images as arrays/matrices"
      ]
    },
    {
      "cell_type": "markdown",
      "metadata": {
        "id": "XAhwMPy5TG0U"
      },
      "source": [
        "* Using the `numpy` module"
      ]
    },
    {
      "cell_type": "markdown",
      "metadata": {
        "id": "-qNvPXSoTG0U"
      },
      "source": [
        "* Complementing by using the `OpenCV`module, which will let us import and manipulate images"
      ]
    },
    {
      "cell_type": "markdown",
      "metadata": {
        "id": "m8S_kdiYTG0V"
      },
      "source": [
        "* When we import an image, the first thing we will get is a **bitmap**"
      ]
    },
    {
      "cell_type": "markdown",
      "metadata": {
        "id": "X_Zy9hSuTG0W"
      },
      "source": [
        "![Fig. 4. Bitmap](https://www.dropbox.com/s/zinj0mv5uzu9eb1/pix.jpg?raw=1)"
      ]
    },
    {
      "cell_type": "markdown",
      "metadata": {
        "id": "Kzj3mKfjTG0X"
      },
      "source": [
        "* Each pixel will be represented as a value within an $n \\times m$ matrix"
      ]
    },
    {
      "cell_type": "markdown",
      "metadata": {
        "id": "ZRSfGRVOTG0X"
      },
      "source": [
        "### Grayscale Images"
      ]
    },
    {
      "cell_type": "markdown",
      "metadata": {
        "id": "9slBxh_3TG0Y"
      },
      "source": [
        "* A 2D grid of pixels"
      ]
    },
    {
      "cell_type": "markdown",
      "metadata": {
        "id": "JFdmdnoxTG0a"
      },
      "source": [
        "* Two ways to represent them:"
      ]
    },
    {
      "cell_type": "markdown",
      "metadata": {
        "id": "iMs8TEVVTG0b"
      },
      "source": [
        "1. Standard: from 0 (black) to 255 (white) with 254 gray values in between."
      ]
    },
    {
      "cell_type": "markdown",
      "metadata": {
        "id": "58r-h8_ETG0c"
      },
      "source": [
        "![Fig. 5 a. Standard grayscale image](https://www.dropbox.com/s/mk70ili2yyb9con/graystan.jpg?raw=1)"
      ]
    },
    {
      "cell_type": "markdown",
      "metadata": {
        "id": "3aPBB_2VTG0d"
      },
      "source": [
        "2. Normalised: from 0 (black) to 1 (white) with \"infinite\" gray values in between."
      ]
    },
    {
      "cell_type": "markdown",
      "metadata": {
        "id": "InruTeIfTG0f"
      },
      "source": [
        "![Fig. 5 b. Normalised grayscale image](https://www.dropbox.com/s/qrt5j974q2adu9m/graynorm.jpg?raw=1)"
      ]
    },
    {
      "cell_type": "markdown",
      "metadata": {
        "id": "N7Hj7OGUTG0g"
      },
      "source": [
        "**IS IT POSSIBLE TO CONVERT BETWEEN STANDARD $\\leftrightarrow$ NORMALISED?**"
      ]
    },
    {
      "cell_type": "markdown",
      "metadata": {
        "id": "ofPP7rT-TG0h"
      },
      "source": [
        "### Colour Images"
      ]
    },
    {
      "cell_type": "markdown",
      "metadata": {
        "id": "krry1m3-TG0j"
      },
      "source": [
        "![Fig. 6. \"Pixelated\" colour image](https://www.dropbox.com/s/4rbrymh3dobhyi9/smile.jpg?raw=1)"
      ]
    },
    {
      "cell_type": "markdown",
      "metadata": {
        "id": "b1rfim_0TG0k"
      },
      "source": [
        "* Each pixel has three `channels`: $\\color{red}{red}$, $\\color{blue}{blue}$ and $\\color{green}{green}$"
      ]
    },
    {
      "cell_type": "markdown",
      "metadata": {
        "id": "KQXc5l2CTG0k"
      },
      "source": [
        "* Images with colour are often called $\\color{red}{R}$$\\color{green}{G}$$\\color{blue}{B}$ images"
      ]
    },
    {
      "cell_type": "markdown",
      "metadata": {
        "id": "jGeejARFTG0m"
      },
      "source": [
        "#### Option 1"
      ]
    },
    {
      "cell_type": "markdown",
      "metadata": {
        "id": "wLUYDZ65TG0m"
      },
      "source": [
        "* If a colour image is imported, a matrix will be produced, this time with three values per pixel instead of one"
      ]
    },
    {
      "cell_type": "markdown",
      "metadata": {
        "id": "S64bYrviTG0n"
      },
      "source": [
        "* The three values will be stored in a tuple"
      ]
    },
    {
      "cell_type": "markdown",
      "metadata": {
        "id": "S_mhd_6zTG0n"
      },
      "source": [
        "![Fig. 7. RGB image, option 1](https://www.dropbox.com/s/ohrcjtln8mvpa49/rgb.jpg?raw=1)"
      ]
    },
    {
      "cell_type": "markdown",
      "metadata": {
        "id": "tleTCOuuTG0o"
      },
      "source": [
        "#### Option 2"
      ]
    },
    {
      "cell_type": "markdown",
      "metadata": {
        "id": "oOR2ZsleTG0q"
      },
      "source": [
        "* When importing a colour image in `OpenCV`, a 3D array will be produced, with the third dimension representing the three channels"
      ]
    },
    {
      "cell_type": "markdown",
      "metadata": {
        "id": "LU_8hZXxTG0r"
      },
      "source": [
        "![Fig. 8. RGB image, option 2](https://www.dropbox.com/s/5eytedi8kqb01er/rgb2.jpg?raw=1)"
      ]
    },
    {
      "cell_type": "markdown",
      "metadata": {
        "id": "3wDtZom1TG0r"
      },
      "source": [
        "* Advantage of option 2: Faster to do calculations and transformations"
      ]
    },
    {
      "cell_type": "markdown",
      "metadata": {
        "id": "4JnnK2TVTG0s"
      },
      "source": [
        "**HOW MANY COLOURS CAN BE REPRESENTED USING THIS STANDARD?**"
      ]
    },
    {
      "cell_type": "markdown",
      "metadata": {
        "id": "_Wu7Uij3TG0s"
      },
      "source": [
        "**CAN RGB BE NORMALISED?**"
      ]
    },
    {
      "cell_type": "markdown",
      "metadata": {
        "id": "eeb_HLeJTG0t"
      },
      "source": [
        "**ARE THERE ANY OTHER STANDARDS THAT CAN REPRESENT MORE COLOURS?**"
      ]
    },
    {
      "cell_type": "markdown",
      "metadata": {
        "id": "2idZDG0yTG0u"
      },
      "source": [
        "## Image Pre-processing"
      ]
    },
    {
      "cell_type": "markdown",
      "metadata": {
        "id": "gAu4h6buTG0v"
      },
      "source": [
        "* Before actually working with images as data, there are plenty of techniques that can be applied to improve quality"
      ]
    },
    {
      "cell_type": "markdown",
      "metadata": {
        "id": "48I3RdO6TG0w"
      },
      "source": [
        "* Not all images are perfect, especially in the document image analysis"
      ]
    },
    {
      "cell_type": "markdown",
      "metadata": {
        "id": "hN6oheJ8TG0x"
      },
      "source": [
        "![Fig. 9. An engineering drawing with poor resolution](https://www.dropbox.com/s/x7320umcr44sl1f/ed.jpg?raw=1)"
      ]
    },
    {
      "cell_type": "markdown",
      "metadata": {
        "id": "qyJmQ7c-TG0y"
      },
      "source": [
        "* As this is not a computer vision course, we will only learn **ONE** and apply one preprocessing technique:"
      ]
    },
    {
      "cell_type": "markdown",
      "metadata": {
        "id": "yRQKt3OtTG0z"
      },
      "source": [
        "### THRESHOLDING/BINARISATION"
      ]
    },
    {
      "cell_type": "markdown",
      "metadata": {
        "id": "LU6pKbhBTG0z"
      },
      "source": [
        "* Converting a grayscale image into a binary (black/white) image based on a threshold"
      ]
    },
    {
      "cell_type": "markdown",
      "metadata": {
        "id": "9iEqhJ4OTG0z"
      },
      "source": [
        "* Useful to improve the quality of an image and to refine shapes"
      ]
    },
    {
      "cell_type": "markdown",
      "metadata": {
        "id": "Ogy9TgNcTG00"
      },
      "source": [
        "![Fig. 10. An example of binarisation](https://www.dropbox.com/s/nqkcytkcely4n3t/bin.jpg?raw=1)"
      ]
    },
    {
      "cell_type": "markdown",
      "metadata": {
        "id": "vmd5RQvCTG00"
      },
      "source": [
        "### Other pre-processing techniques"
      ]
    },
    {
      "cell_type": "markdown",
      "metadata": {
        "id": "Xjoytof7TG01"
      },
      "source": [
        "#### Skew Correction"
      ]
    },
    {
      "cell_type": "markdown",
      "metadata": {
        "id": "hsk7U2ghTG01"
      },
      "source": [
        "![Fig. 11. Skew correction](https://www.dropbox.com/s/ckge1t0aqz1j3j0/skew.jpg?raw=1)"
      ]
    },
    {
      "cell_type": "markdown",
      "metadata": {
        "id": "uo9tPWExTG02"
      },
      "source": [
        "#### Erosion and Dilation"
      ]
    },
    {
      "cell_type": "markdown",
      "metadata": {
        "id": "EvYAQnikTG02"
      },
      "source": [
        "![Fig. 12. Erosion and dilation](https://www.dropbox.com/s/j6ifsppdurwimzh/erodil.jpg?raw=1)"
      ]
    },
    {
      "cell_type": "markdown",
      "metadata": {
        "id": "eUBpjxUKTG03"
      },
      "source": [
        "#### Opening"
      ]
    },
    {
      "cell_type": "markdown",
      "metadata": {
        "id": "VRgrkgN1TG03"
      },
      "source": [
        "![Fig. 13. Image opening](https://www.dropbox.com/s/rqafolr87eyeot3/open.jpg?raw=1)"
      ]
    },
    {
      "cell_type": "markdown",
      "metadata": {
        "id": "pjjxoi-5TG04"
      },
      "source": [
        "#### Closing"
      ]
    },
    {
      "cell_type": "markdown",
      "metadata": {
        "id": "T0r0hfH3TG04"
      },
      "source": [
        "![Fig. 14. Image closing](https://www.dropbox.com/s/1tx3qriiqsnr78j/close.jpg?raw=1)"
      ]
    },
    {
      "cell_type": "markdown",
      "metadata": {
        "id": "oKJwTrSVTG06"
      },
      "source": [
        "# Recognition vs Classification: What's the difference?"
      ]
    },
    {
      "cell_type": "code",
      "execution_count": null,
      "metadata": {
        "scrolled": true,
        "id": "10jaGBt0TG07",
        "outputId": "e97f7c37-5ab6-4d56-9d90-470a11e786c1",
        "colab": {
          "base_uri": "https://localhost:8080/",
          "height": 336
        }
      },
      "outputs": [
        {
          "output_type": "execute_result",
          "data": {
            "text/plain": [
              "<IPython.core.display.HTML object>"
            ],
            "text/html": [
              "<iframe width=\"560\" height=\"315\" src=\"https://www.youtube.com/embed/R9OHn5ZF4Uo\" frameborder=\"0\" allow=\"accelerometer; autoplay; clipboard-write; encrypted-media; gyroscope; picture-in-picture\" allowfullscreen></iframe>"
            ]
          },
          "metadata": {},
          "execution_count": 2
        }
      ],
      "source": [
        "import warnings\n",
        "warnings.filterwarnings('ignore')\n",
        "from IPython.display import HTML\n",
        "HTML('<iframe width=\"560\" height=\"315\" src=\"https://www.youtube.com/embed/R9OHn5ZF4Uo\" frameborder=\"0\" allow=\"accelerometer; autoplay; clipboard-write; encrypted-media; gyroscope; picture-in-picture\" allowfullscreen></iframe>')"
      ]
    },
    {
      "cell_type": "markdown",
      "metadata": {
        "id": "WVKoL58lTG07"
      },
      "source": [
        "# LAB 3: IMPORTING AND MANIPULATING IMAGES IN PYTHON"
      ]
    }
  ],
  "metadata": {
    "celltoolbar": "Slideshow",
    "hide_input": false,
    "kernelspec": {
      "display_name": "Python 3",
      "language": "python",
      "name": "python3"
    },
    "language_info": {
      "codemirror_mode": {
        "name": "ipython",
        "version": 3
      },
      "file_extension": ".py",
      "mimetype": "text/x-python",
      "name": "python",
      "nbconvert_exporter": "python",
      "pygments_lexer": "ipython3",
      "version": "3.7.3"
    },
    "rise": {
      "enable_chalkboard": true
    },
    "varInspector": {
      "cols": {
        "lenName": 16,
        "lenType": 16,
        "lenVar": 40
      },
      "kernels_config": {
        "python": {
          "delete_cmd_postfix": "",
          "delete_cmd_prefix": "del ",
          "library": "var_list.py",
          "varRefreshCmd": "print(var_dic_list())"
        },
        "r": {
          "delete_cmd_postfix": ") ",
          "delete_cmd_prefix": "rm(",
          "library": "var_list.r",
          "varRefreshCmd": "cat(var_dic_list()) "
        }
      },
      "types_to_exclude": [
        "module",
        "function",
        "builtin_function_or_method",
        "instance",
        "_Feature"
      ],
      "window_display": false
    },
    "colab": {
      "provenance": [],
      "include_colab_link": true
    }
  },
  "nbformat": 4,
  "nbformat_minor": 0
}