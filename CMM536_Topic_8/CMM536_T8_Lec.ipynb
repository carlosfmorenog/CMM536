{
  "cells": [
    {
      "cell_type": "markdown",
      "metadata": {
        "id": "view-in-github",
        "colab_type": "text"
      },
      "source": [
        "<a href=\"https://colab.research.google.com/github/carlosfmorenog/CMM536/blob/master/CMM536_Topic_8/CMM536_T8_Lec.ipynb\" target=\"_parent\"><img src=\"https://colab.research.google.com/assets/colab-badge.svg\" alt=\"Open In Colab\"/></a>"
      ]
    },
    {
      "cell_type": "markdown",
      "metadata": {
        "id": "H8T1ioizRs0l"
      },
      "source": [
        "# Topic 8 - Convolutional Neural Networks\n",
        "![My network is training!](https://www.dropbox.com/s/z4o984p7307gkhm/mynetistraining.png?raw=1)"
      ]
    },
    {
      "cell_type": "markdown",
      "metadata": {
        "id": "FEM30EVMRs0p"
      },
      "source": [
        "## Aims of the Session"
      ]
    },
    {
      "cell_type": "markdown",
      "metadata": {
        "id": "zn1sGdVYRs0r"
      },
      "source": [
        "* Learn the particularities of Convolutional Neural Networks (CNNs)"
      ]
    },
    {
      "cell_type": "markdown",
      "metadata": {
        "id": "tKv6RdzFRs0t"
      },
      "source": [
        "* Apply CNNs to image repositories in easy ways"
      ]
    },
    {
      "cell_type": "markdown",
      "metadata": {
        "id": "lXuIR1fbRs0v"
      },
      "source": [
        "## Resources for the Lecture"
      ]
    },
    {
      "cell_type": "markdown",
      "metadata": {
        "id": "OT4chFmSRs0x"
      },
      "source": [
        "* **Deep Learning with Python**. François Chollet. November 2017, ISBN 978161729443. Manning.\n",
        "    * Very recommendable book, it was written by the author of `Keras`"
      ]
    },
    {
      "cell_type": "markdown",
      "metadata": {
        "id": "zgsyOGVARs0z"
      },
      "source": [
        "# Introduction"
      ]
    },
    {
      "cell_type": "markdown",
      "metadata": {
        "id": "LSfmk3ZoRs02"
      },
      "source": [
        "* For today's lecture and lab we will use the *Hello World!* of image datasets... **MNIST**"
      ]
    },
    {
      "cell_type": "markdown",
      "metadata": {
        "id": "yGCQrnoNRs05"
      },
      "source": [
        "* This dataset contains 70'000 images (60k for training and 10k for testing) of handwritten numbers"
      ]
    },
    {
      "cell_type": "markdown",
      "metadata": {
        "id": "-ubucbmpRs07"
      },
      "source": [
        "* The task is to recognise digits from 0 to 9 in $28 \\times 28$ images"
      ]
    },
    {
      "cell_type": "markdown",
      "metadata": {
        "id": "NMCOM3DvRs09"
      },
      "source": [
        "* This dataset can be obtained ether by importing it through `Tensorflow` or `Keras`"
      ]
    },
    {
      "cell_type": "code",
      "execution_count": null,
      "metadata": {
        "id": "s73DABjvRs0_"
      },
      "outputs": [],
      "source": [
        "# Installing Tensorflow and Keras if not installed already\n",
        "!pip install keras\n",
        "!pip install tensorflow"
      ]
    },
    {
      "cell_type": "code",
      "execution_count": null,
      "metadata": {
        "id": "Is1TmSkCRs1B",
        "outputId": "bfc7ad84-bc26-411b-9825-e865563d8625"
      },
      "outputs": [
        {
          "name": "stderr",
          "output_type": "stream",
          "text": [
            "Using TensorFlow backend.\n"
          ]
        }
      ],
      "source": [
        "# Import Keras with Tensorflow backend and download the dataset\n",
        "import os\n",
        "os.environ['KERAS_BACKEND'] = 'tensorflow'\n",
        "\n",
        "from keras.datasets import mnist\n",
        "(X_train, Y_train), (X_test, Y_test) = mnist.load_data()"
      ]
    },
    {
      "cell_type": "code",
      "execution_count": null,
      "metadata": {
        "id": "rqmPXiM0Rs1D",
        "outputId": "d7c7003c-7176-4975-dd3a-de97a37c94ca"
      },
      "outputs": [
        {
          "name": "stdout",
          "output_type": "stream",
          "text": [
            "(60000, 28, 28) (10000, 28, 28)\n"
          ]
        }
      ],
      "source": [
        "print(X_train.shape,X_test.shape)"
      ]
    },
    {
      "cell_type": "markdown",
      "metadata": {
        "id": "RKs6RJYNRs1E"
      },
      "source": [
        "* Notice that contrary to my recommendation, this dataset is stored as a 3D matrix"
      ]
    },
    {
      "cell_type": "markdown",
      "metadata": {
        "id": "BdyOgpsvRs1G"
      },
      "source": [
        "* This means that the dataset has 60k train/10k test rows, each one with a $28 \\times 28$ image!"
      ]
    },
    {
      "cell_type": "markdown",
      "metadata": {
        "id": "ENIlfrJZRs1I"
      },
      "source": [
        "* This is for us to visualise the samples better (afterwards you will see that images need to be flattened to be used)"
      ]
    },
    {
      "cell_type": "code",
      "execution_count": null,
      "metadata": {
        "id": "-bxf_7hJRs1J",
        "outputId": "e5a62d2d-3326-459e-abab-e84685175175"
      },
      "outputs": [
        {
          "name": "stdout",
          "output_type": "stream",
          "text": [
            "(28, 28)\n",
            "The number is: 6\n"
          ]
        },
        {
          "data": {
            "text/plain": [
              "<matplotlib.image.AxesImage at 0x270d1074fd0>"
            ]
          },
          "execution_count": 6,
          "metadata": {},
          "output_type": "execute_result"
        },
        {
          "data": {
            "image/png": "[encoded data removed]",
            "text/plain": [
              "<Figure size 432x288 with 1 Axes>"
            ]
          },
          "metadata": {
            "needs_background": "light"
          },
          "output_type": "display_data"
        }
      ],
      "source": [
        "import matplotlib.pyplot as plt\n",
        "\n",
        "sample = 59000\n",
        "\n",
        "print(X_train[sample].shape)\n",
        "print('The number is: '+str(Y_train[sample]))\n",
        "plt.imshow(X_train[sample])"
      ]
    },
    {
      "cell_type": "markdown",
      "metadata": {
        "id": "yH2S0KC3Rs1K"
      },
      "source": [
        "# Why do CNNs work better than fully connected networks for images?"
      ]
    },
    {
      "cell_type": "markdown",
      "metadata": {
        "id": "WLGAmgUhRs1K"
      },
      "source": [
        "## The convolutional operation"
      ]
    },
    {
      "cell_type": "markdown",
      "metadata": {
        "id": "_NoSpCziRs1L"
      },
      "source": [
        "* Two types of layers:"
      ]
    },
    {
      "cell_type": "markdown",
      "metadata": {
        "id": "dFtAdN24Rs1L"
      },
      "source": [
        "* `Dense` layers learn global patterns"
      ]
    },
    {
      "cell_type": "markdown",
      "metadata": {
        "id": "CrBUeev_Rs1M"
      },
      "source": [
        "* `Conv` learn local patterns"
      ]
    },
    {
      "cell_type": "markdown",
      "metadata": {
        "id": "xgkzwgvKRs1N"
      },
      "source": [
        "![Fig 1. Local patterns learned from an image](https://www.dropbox.com/s/hq9d4g7pheyttfr/mnistlocal.png?raw=1)"
      ]
    },
    {
      "cell_type": "markdown",
      "metadata": {
        "id": "A_j0v7NBRs1N"
      },
      "source": [
        " * CNNs not only classify, but also extract their own features!"
      ]
    },
    {
      "cell_type": "markdown",
      "metadata": {
        "id": "zUPrZrldRs1O"
      },
      "source": [
        "* The patterns/features that CNNs learn are **translation invariant**\n",
        "    * Once it learns it, it can recognise it anywhere in the image"
      ]
    },
    {
      "cell_type": "markdown",
      "metadata": {
        "id": "-eZOXP3gRs1O"
      },
      "source": [
        "* They can learn **spatial hierarchies** of patterns\n",
        "    * Each layer learns different type of features\n",
        "        * First layer learns edges, second learns larger patterns, and so on"
      ]
    },
    {
      "cell_type": "markdown",
      "metadata": {
        "id": "2KAedPmkRs1O"
      },
      "source": [
        "![Fig 2. How a CNN learns features](https://www.dropbox.com/s/vc3rukz9excn8ev/featlearn.png?raw=1)"
      ]
    },
    {
      "cell_type": "markdown",
      "metadata": {
        "id": "v95wKkqVRs1b"
      },
      "source": [
        "## How do CNNs learn?"
      ]
    },
    {
      "cell_type": "markdown",
      "metadata": {
        "id": "agDAjPN3Rs1b"
      },
      "source": [
        "* The images of the **MNIST** dataset are all $28 \\times 28$ pixels"
      ]
    },
    {
      "cell_type": "markdown",
      "metadata": {
        "id": "wQFdcWg-Rs1b"
      },
      "source": [
        "* The first **convolution** layer takes a $(28, 28, 1)$ image and outputs a **feature map** of size $(26, 26, 32)$ "
      ]
    },
    {
      "cell_type": "markdown",
      "metadata": {
        "id": "68gnJJzSRs1c"
      },
      "source": [
        "* This is because it computes $32$ **filters** over the input!"
      ]
    },
    {
      "cell_type": "markdown",
      "metadata": {
        "id": "Sk0QTXBBRs1c"
      },
      "source": [
        "* That means that after the first layer, the network transforms the training images into 32 output channels, each containing a $26 \\times 26$ filter, which is a **response map**"
      ]
    },
    {
      "cell_type": "markdown",
      "metadata": {
        "id": "fhIhpXBbRs1d"
      },
      "source": [
        "![Fig 3. Visual representation of a response map](https://www.dropbox.com/s/qxvuudn5hde4myz/responsemap.png?raw=1)"
      ]
    },
    {
      "cell_type": "markdown",
      "metadata": {
        "id": "p-S79ug4Rs1e"
      },
      "source": [
        "* A response map is the response of a filter at different locations of the input"
      ]
    },
    {
      "cell_type": "markdown",
      "metadata": {
        "id": "u13Ij7aARs1e"
      },
      "source": [
        "* This is how CNNs extract features; by applying filters over the images and finding responses to them!"
      ]
    },
    {
      "cell_type": "markdown",
      "metadata": {
        "id": "-7FtM4fXRs1f"
      },
      "source": [
        "**Why is the response map $26 \\times 26$?**"
      ]
    },
    {
      "cell_type": "markdown",
      "metadata": {
        "id": "vNra5uaVRs1f"
      },
      "source": [
        "**Why 32 filters?**"
      ]
    },
    {
      "cell_type": "raw",
      "metadata": {
        "id": "ucYmIVT9Rs1g"
      },
      "source": [
        "26x26 because of the border effect (or the striding), and 32 filters can be changed (enough for MNIST)"
      ]
    },
    {
      "cell_type": "markdown",
      "metadata": {
        "id": "QZywrKqGRs1h"
      },
      "source": [
        "## Basic Parameters of CNNs"
      ]
    },
    {
      "cell_type": "markdown",
      "metadata": {
        "id": "etngJq3TRs1i"
      },
      "source": [
        "* **Size of the patches extracted:** Typically $3 \\times 3$ or $5 \\times 5$. In the example above, you can see $3 \\times 3$"
      ]
    },
    {
      "cell_type": "markdown",
      "metadata": {
        "id": "vwUCeb7wRs1j"
      },
      "source": [
        "* **Depth of the output feature map:** Number of filters. This can change, i.e. can start with a *depth* of 32 and finish with 64"
      ]
    },
    {
      "cell_type": "markdown",
      "metadata": {
        "id": "gbRHkNJ2Rs1k"
      },
      "source": [
        "In `Keras`, you can import a `Conv2D` layer, to which you can pass these values"
      ]
    },
    {
      "cell_type": "raw",
      "metadata": {
        "id": "TiT3Ua9NRs1l"
      },
      "source": [
        "Conv2D(output_depth,(window_height, window_width))"
      ]
    },
    {
      "cell_type": "markdown",
      "metadata": {
        "id": "XijNQ42PRs1m"
      },
      "source": [
        "## How do Convolution Layers Work?"
      ]
    },
    {
      "cell_type": "markdown",
      "metadata": {
        "id": "46QJMmsvRs1n"
      },
      "source": [
        "* A convolution layer works by sliding the patches over the 3D input map, stopping at every location and extracting the 3D patch"
      ]
    },
    {
      "cell_type": "markdown",
      "metadata": {
        "id": "NTqeR2yyRs1o"
      },
      "source": [
        "* Each of these patches is flattened into a 1D vector of size (`output_depth`,)"
      ]
    },
    {
      "cell_type": "markdown",
      "metadata": {
        "id": "UiJgU26eRs1o"
      },
      "source": [
        "* The process can be best illustrated using the following figure:"
      ]
    },
    {
      "cell_type": "markdown",
      "metadata": {
        "id": "RgiJZ4bhRs1q"
      },
      "source": [
        "![Fig 4. How convolutional layers work](https://www.dropbox.com/s/3kxrju32c0ggu7y/transform.png?raw=1)"
      ]
    },
    {
      "cell_type": "markdown",
      "metadata": {
        "id": "uMjTaLitRs1r"
      },
      "source": [
        "## Border Effect and Strides"
      ]
    },
    {
      "cell_type": "markdown",
      "metadata": {
        "id": "DUbWZ6fhRs1r"
      },
      "source": [
        "* Notice that we started with a $(28, 28, 1)$ image and we ended with a $(26, 26, 32)$ **feature map**!"
      ]
    },
    {
      "cell_type": "markdown",
      "metadata": {
        "id": "Bv57FxkqRs1s"
      },
      "source": [
        "* Two main reasons for not having the same width & height:\n",
        "    * The **border effect** (which can be countered by applying `padding`)\n",
        "    * The use of **strides**"
      ]
    },
    {
      "cell_type": "markdown",
      "metadata": {
        "id": "Y2urX4B4Rs1s"
      },
      "source": [
        "### The Border Effect & Padding"
      ]
    },
    {
      "cell_type": "markdown",
      "metadata": {
        "id": "RCDjo6s_Rs1t"
      },
      "source": [
        "* Remember that a CNN uses a convolution layer that applies a filter for each position of the image, similar to sliding a window throughout the image"
      ]
    },
    {
      "cell_type": "markdown",
      "metadata": {
        "id": "HV5KOYmcRs1t"
      },
      "source": [
        "* By nature, this sliding window cannot be centered exactly throughout the entire image!"
      ]
    },
    {
      "cell_type": "markdown",
      "metadata": {
        "id": "x135sC7FRs1t"
      },
      "source": [
        "* For instance, in a $5 \\times 5$ feature map, you could only center a $3 \\times 3$ window in 9 positions as shown in the image below:"
      ]
    },
    {
      "cell_type": "markdown",
      "metadata": {
        "id": "dK6XpmZlRs1t"
      },
      "source": [
        "![Fig 5. Valid locations of 3x3 patches in 5x5 input](https://www.dropbox.com/s/cgkjmxzn9nxkmsm/window.png?raw=1)"
      ]
    },
    {
      "cell_type": "markdown",
      "metadata": {
        "id": "ziUEDIoBRs1t"
      },
      "source": [
        "* If you want to get an output with the same size as the input, you need to apply `padding`"
      ]
    },
    {
      "cell_type": "markdown",
      "metadata": {
        "id": "8f4zV9JFRs1u"
      },
      "source": [
        "* In short, this is like adding a *margin* to the image so that the filter can be centered in more positions!"
      ]
    },
    {
      "cell_type": "markdown",
      "metadata": {
        "id": "qDRoENgNRs1u"
      },
      "source": [
        "* In the next figure you can see how the $3 \\times 3$ filter can be located in 25 positions now, thus delivering a $5 \\times 5$ output"
      ]
    },
    {
      "cell_type": "markdown",
      "metadata": {
        "id": "T_7atSjxRs1u"
      },
      "source": [
        "![Fig 6. How padding works](https://www.dropbox.com/s/6jesljdoxa5v5nq/padding.png?raw=1)"
      ]
    },
    {
      "cell_type": "markdown",
      "metadata": {
        "id": "23g-6JrWRs1v"
      },
      "source": [
        "* In the `Conv2D` function in `Keras`, padding is enabled by setting the parameter `padding = 'valid'`"
      ]
    },
    {
      "cell_type": "markdown",
      "metadata": {
        "id": "A_9Jysw-Rs1v"
      },
      "source": [
        "### Striding"
      ]
    },
    {
      "cell_type": "markdown",
      "metadata": {
        "id": "EsUgXciARs1v"
      },
      "source": [
        "* When images are considerably large, you don't want the sliding window to stop at every position!"
      ]
    },
    {
      "cell_type": "markdown",
      "metadata": {
        "id": "SkCoV6PQRs1w"
      },
      "source": [
        "* You may introduce a parameter called `stride` which allows your convolution window to skip positions"
      ]
    },
    {
      "cell_type": "markdown",
      "metadata": {
        "id": "SEnbEQKRRs1w"
      },
      "source": [
        "* A `stride=1` stops in every position, but for instance `stride=2` will make the filter to move with a step of 2, this skipping half of the positions!"
      ]
    },
    {
      "cell_type": "markdown",
      "metadata": {
        "id": "f1GAS-24Rs1w"
      },
      "source": [
        "* Recall the example presented before. Without considering padding, the $3 \\times 3$ filter will only stop at four positions of the image"
      ]
    },
    {
      "cell_type": "markdown",
      "metadata": {
        "id": "o2ztebSqRs1x"
      },
      "source": [
        "![Fig 7. Stride of 2](https://www.dropbox.com/s/scuaobz41fxks8t/strideof2.png?raw=1)"
      ]
    },
    {
      "cell_type": "markdown",
      "metadata": {
        "id": "3T2OiqriRs1y"
      },
      "source": [
        "* This is rarely used in practice (people don't want to lose important features in between the image)"
      ]
    },
    {
      "cell_type": "markdown",
      "metadata": {
        "id": "CCxWAxliRs1y"
      },
      "source": [
        "* It is more recommended to use `Max Pooling`"
      ]
    },
    {
      "cell_type": "markdown",
      "metadata": {
        "id": "xTI89MNZRs1z"
      },
      "source": [
        "### Max Pooling"
      ]
    },
    {
      "cell_type": "markdown",
      "metadata": {
        "id": "Z45zxe4wRs1z"
      },
      "source": [
        "* You can add to your model a `Max Pooling` layer which halves your feature map"
      ]
    },
    {
      "cell_type": "markdown",
      "metadata": {
        "id": "_1cHKIySRs1z"
      },
      "source": [
        "* Max pooling extracts windows from the input much like a convolution"
      ]
    },
    {
      "cell_type": "markdown",
      "metadata": {
        "id": "XmhaHv1aRs10"
      },
      "source": [
        "* Why should we use it? Imagine a CNN with no max pooling:"
      ]
    },
    {
      "cell_type": "markdown",
      "metadata": {
        "id": "PEi1PZU8Rs10"
      },
      "source": [
        "![Fig 8. Example of a CNN in Keras with no max pooling](https://www.dropbox.com/s/ryc28146axk23ej/nomaxpooling.png?raw=1)"
      ]
    },
    {
      "cell_type": "markdown",
      "metadata": {
        "id": "I2lMfRl2Rs11"
      },
      "source": [
        "We can print the summary of the model with the following code:"
      ]
    },
    {
      "cell_type": "markdown",
      "metadata": {
        "id": "wPQjxytzRs11"
      },
      "source": [
        "![Fig 9. Summary of a CNN without max pooling](https://www.dropbox.com/s/oi3djvi7k85b86d/nomaxpoolingsummary.png?raw=1)"
      ]
    },
    {
      "cell_type": "markdown",
      "metadata": {
        "id": "Ug8hCp-7Rs12"
      },
      "source": [
        "* Notice that the number of parameters grow drastically after each layer\n",
        "    * The final feature map (the one with $22 \\times 22 \\times 64 = 36'928$ parameters) has to be `flattened` and then a `Dense` layer has to be applied, resulting in 15 million parameters!"
      ]
    },
    {
      "cell_type": "markdown",
      "metadata": {
        "id": "MaB2g4j3Rs13"
      },
      "source": [
        "* However, the model isn't learning a **hierarchy** of features! This means that as layers progress, the CNN would get smaller and smaller images and thus will be unable to learn the features"
      ]
    },
    {
      "cell_type": "markdown",
      "metadata": {
        "id": "bjdFwSHjRs13"
      },
      "source": [
        "* You need the last layer to contain information about the whole image"
      ]
    },
    {
      "cell_type": "markdown",
      "metadata": {
        "id": "_i-JO8bSRs13"
      },
      "source": [
        "### The Flatten Layer"
      ]
    },
    {
      "cell_type": "markdown",
      "metadata": {
        "id": "ZpZrymyQRs14"
      },
      "source": [
        "* Not to be confused with flattening an image!"
      ]
    },
    {
      "cell_type": "markdown",
      "metadata": {
        "id": "fB61kCN3Rs14"
      },
      "source": [
        "* After a convolution layer and before a `Dense` (i.e. fully connected layer), there is a `flatten` layer that transforms the matrix feature maps into vectors for the `Dense` layer to operate"
      ]
    },
    {
      "cell_type": "markdown",
      "metadata": {
        "id": "hE53FCFjRs15"
      },
      "source": [
        "![Fig 10. The flatten layer in a CNN](https://www.dropbox.com/s/zicquaubtbbuzdv/flattencnn.png?raw=1)"
      ]
    },
    {
      "cell_type": "markdown",
      "metadata": {
        "id": "yw55lS3eRs15"
      },
      "source": [
        "### Final example of a CNN"
      ]
    },
    {
      "cell_type": "markdown",
      "metadata": {
        "id": "F7yvtqSoRs15"
      },
      "source": [
        "![Fig 11. Final example of a CNN](https://www.dropbox.com/s/4tlkt6myhu8fn4x/finalcnn.png?raw=1)"
      ]
    },
    {
      "cell_type": "markdown",
      "metadata": {
        "id": "ORStfttxRs15"
      },
      "source": [
        "I recommend you to also read [this source](https://medium.com/@RaghavPrabhu/understanding-of-convolutional-neural-network-cnn-deep-learning-99760835f148) if you have questions regarding any of the steps"
      ]
    },
    {
      "cell_type": "markdown",
      "metadata": {
        "id": "vsFzdHtBRs15"
      },
      "source": [
        "# Other useful concepts"
      ]
    },
    {
      "cell_type": "markdown",
      "metadata": {
        "id": "uAHJfFMORs16"
      },
      "source": [
        "* The following are not exclusive to CNNs, and are widely used in all NNs to further improve performance"
      ]
    },
    {
      "cell_type": "markdown",
      "metadata": {
        "id": "xCGncuC2Rs16"
      },
      "source": [
        "### Dropout"
      ]
    },
    {
      "cell_type": "markdown",
      "metadata": {
        "id": "v868gIXvRs16"
      },
      "source": [
        "* Reduces overfitting"
      ]
    },
    {
      "cell_type": "markdown",
      "metadata": {
        "id": "gz5yDBoxRs17"
      },
      "source": [
        "* As said before, it is rare that you use a fully connected layer as this may extract features that are too related to each other!"
      ]
    },
    {
      "cell_type": "markdown",
      "metadata": {
        "id": "4mJvzC-rRs17"
      },
      "source": [
        "* You implement a dropout percent per layer. This randomly disconnects layers from the previous layer into the current one"
      ]
    },
    {
      "cell_type": "markdown",
      "metadata": {
        "id": "veIX1sFHRs17"
      },
      "source": [
        "### Epochs"
      ]
    },
    {
      "cell_type": "markdown",
      "metadata": {
        "id": "oeZsV8g0Rs17"
      },
      "source": [
        "* Machine learning has by default an iterative nature (recall Gradient Descent)\n",
        "    * The more you iterate things, the \"better\"!"
      ]
    },
    {
      "cell_type": "markdown",
      "metadata": {
        "id": "1zxc5n1URs18"
      },
      "source": [
        "* An epoch occurs when the entire dataset is passed forward and backward through the network once."
      ]
    },
    {
      "cell_type": "markdown",
      "metadata": {
        "id": "Ef3Kt1IxRs19"
      },
      "source": [
        "* By passing the dataset multiple times, you can further reduce the loss and increase the training/validation accuracy"
      ]
    },
    {
      "cell_type": "markdown",
      "metadata": {
        "id": "7lVUeLTWRs1-"
      },
      "source": [
        "**The more epochs, the better?**"
      ]
    },
    {
      "cell_type": "markdown",
      "metadata": {
        "id": "-3bfSd6xRs1-"
      },
      "source": [
        "Not necessarily, as everything in life, bigger is not always better! CNNs can stall or overfit when trained a lot"
      ]
    },
    {
      "cell_type": "markdown",
      "metadata": {
        "id": "i_i9Ro76Rs2A"
      },
      "source": [
        "### Batch Size"
      ]
    },
    {
      "cell_type": "markdown",
      "metadata": {
        "id": "r-JIJF1-Rs2B"
      },
      "source": [
        "* Imagine training a network with the MNIST dataset"
      ]
    },
    {
      "cell_type": "markdown",
      "metadata": {
        "id": "NbjIimEyRs2B"
      },
      "source": [
        "* You would need to pass 60k images in each epoch\n",
        "! This would take a while!"
      ]
    },
    {
      "cell_type": "markdown",
      "metadata": {
        "id": "3KJZYO0eRs2C"
      },
      "source": [
        "* You can set a `batch_size` to pass your data in chunks"
      ]
    },
    {
      "cell_type": "markdown",
      "metadata": {
        "id": "pCJYGjEORs2D"
      },
      "source": [
        "* This may have an effect on your training results if the sequence of batches is not properly set\n",
        "    * i.e. if you only pass batches from the negative class first, and then the positive one, your classifier may get biased towards the first class before being able to learn from the second."
      ]
    },
    {
      "cell_type": "markdown",
      "metadata": {
        "id": "BN-cmDcgRs2D"
      },
      "source": [
        "### The ADAM Optimiser"
      ]
    },
    {
      "cell_type": "markdown",
      "metadata": {
        "id": "bHfyhlqnRs2E"
      },
      "source": [
        "* A faster way to optimise gradient descent compared to the solution seen last week"
      ]
    },
    {
      "cell_type": "markdown",
      "metadata": {
        "id": "x1fvtLZyRs2E"
      },
      "source": [
        "* It may obtain worse results, but compensates with speed!"
      ]
    },
    {
      "cell_type": "markdown",
      "metadata": {
        "id": "Y0RBS5DdRs2E"
      },
      "source": [
        "* Combination of RMSprop and Stochastic Gradient Descent with momentum. More info [here](https://towardsdatascience.com/adam-latest-trends-in-deep-learning-optimization-6be9a291375c)"
      ]
    },
    {
      "cell_type": "markdown",
      "metadata": {
        "id": "HxV_OPGeRs2F"
      },
      "source": [
        "## Some common CNN problems"
      ]
    },
    {
      "cell_type": "markdown",
      "metadata": {
        "id": "lD1maGomRs2F"
      },
      "source": [
        "![Fig 12. The most common mistake when using CNNs](https://www.dropbox.com/s/z4xrn157wxpoygk/cnn.jpg?raw=1)"
      ]
    },
    {
      "cell_type": "markdown",
      "metadata": {
        "id": "g7JNYZCgRs2F"
      },
      "source": [
        "Translation but not rotation invariant, and they learn with the focus of the training images"
      ]
    },
    {
      "cell_type": "markdown",
      "metadata": {
        "id": "56duPN1NRs2G"
      },
      "source": [
        "![Fig 13. The 2nd most common mistake when using CNNs](https://www.dropbox.com/s/d7ewodct05f1m13/dogpigloaf.gif?raw=1)"
      ]
    },
    {
      "cell_type": "markdown",
      "metadata": {
        "id": "y1KPlMBdRs2G"
      },
      "source": [
        "CNNs don't know when to stop classifying (especially in video) and can produce unstable results. In the end, hey are also probabilistic models!"
      ]
    },
    {
      "cell_type": "code",
      "execution_count": null,
      "metadata": {
        "id": "dYz8BiwORs2H",
        "outputId": "e6067ade-59cd-4175-8c0e-170c688f5524"
      },
      "outputs": [
        {
          "data": {
            "text/html": [
              "<iframe width=\"560\" height=\"315\" src=\"https://www.youtube.com/embed/vIci3C4JkL0?start=50\" title=\"YouTube video player\" frameborder=\"0\" allow=\"accelerometer; autoplay; clipboard-write; encrypted-media; gyroscope; picture-in-picture\" allowfullscreen></iframe>"
            ],
            "text/plain": [
              "<IPython.core.display.HTML object>"
            ]
          },
          "execution_count": 3,
          "metadata": {},
          "output_type": "execute_result"
        }
      ],
      "source": [
        "import warnings; \n",
        "warnings.simplefilter('ignore')\n",
        "from IPython.display import HTML\n",
        "HTML('<iframe width=\"560\" height=\"315\" src=\"https://www.youtube.com/embed/vIci3C4JkL0?start=50\" title=\"YouTube video player\" frameborder=\"0\" allow=\"accelerometer; autoplay; clipboard-write; encrypted-media; gyroscope; picture-in-picture\" allowfullscreen></iframe>')"
      ]
    },
    {
      "cell_type": "markdown",
      "metadata": {
        "id": "rgIcWoiHRs2I"
      },
      "source": [
        "You need to carefully choose your training classes!"
      ]
    },
    {
      "cell_type": "markdown",
      "metadata": {
        "id": "mU8MvessRs2I"
      },
      "source": [
        "# Lab"
      ]
    }
  ],
  "metadata": {
    "celltoolbar": "Slideshow",
    "hide_input": false,
    "kernelspec": {
      "display_name": "Python 3",
      "language": "python",
      "name": "python3"
    },
    "language_info": {
      "codemirror_mode": {
        "name": "ipython",
        "version": 3
      },
      "file_extension": ".py",
      "mimetype": "text/x-python",
      "name": "python",
      "nbconvert_exporter": "python",
      "pygments_lexer": "ipython3",
      "version": "3.7.3"
    },
    "rise": {
      "enable_chalkboard": true
    },
    "varInspector": {
      "cols": {
        "lenName": 16,
        "lenType": 16,
        "lenVar": 40
      },
      "kernels_config": {
        "python": {
          "delete_cmd_postfix": "",
          "delete_cmd_prefix": "del ",
          "library": "var_list.py",
          "varRefreshCmd": "print(var_dic_list())"
        },
        "r": {
          "delete_cmd_postfix": ") ",
          "delete_cmd_prefix": "rm(",
          "library": "var_list.r",
          "varRefreshCmd": "cat(var_dic_list()) "
        }
      },
      "types_to_exclude": [
        "module",
        "function",
        "builtin_function_or_method",
        "instance",
        "_Feature"
      ],
      "window_display": false
    },
    "colab": {
      "name": "CMM536_T8_Lec.ipynb",
      "provenance": [],
      "include_colab_link": true
    }
  },
  "nbformat": 4,
  "nbformat_minor": 0
}