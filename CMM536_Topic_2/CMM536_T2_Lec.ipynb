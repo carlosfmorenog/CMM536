{
  "cells": [
    {
      "cell_type": "markdown",
      "metadata": {
        "id": "view-in-github",
        "colab_type": "text"
      },
      "source": [
        "<a href=\"https://colab.research.google.com/github/carlosfmorenog/CMM536/blob/master/CMM536_Week_2/CMM536_W2_Lec.ipynb\" target=\"_parent\"><img src=\"https://colab.research.google.com/assets/colab-badge.svg\" alt=\"Open In Colab\"/></a>"
      ]
    },
    {
      "cell_type": "markdown",
      "metadata": {
        "id": "Hp7J5cLgAxFB"
      },
      "source": [
        "# Week 2: Introduction to Python for Data Science"
      ]
    },
    {
      "cell_type": "markdown",
      "metadata": {
        "id": "ALIhEHINAxFE"
      },
      "source": [
        "## Why do you Need Python for Data Science?"
      ]
    },
    {
      "cell_type": "markdown",
      "metadata": {
        "id": "bamciv3bAxFG"
      },
      "source": [
        "### Improves Work for Everyone"
      ]
    },
    {
      "cell_type": "markdown",
      "metadata": {
        "id": "b7veYI3DAxFI"
      },
      "source": [
        "Widely used top programming language"
      ]
    },
    {
      "cell_type": "markdown",
      "metadata": {
        "id": "suvflKLcAxFI"
      },
      "source": [
        "Huge growing ecosystem due to its open source nature"
      ]
    },
    {
      "cell_type": "markdown",
      "metadata": {
        "id": "sGCgcGaRAxFK"
      },
      "source": [
        "Almost every industry is on board"
      ]
    },
    {
      "cell_type": "markdown",
      "metadata": {
        "id": "Gj5mFMtJAxFK"
      },
      "source": [
        "### Descriptive Analytics and Dashboards"
      ]
    },
    {
      "cell_type": "markdown",
      "metadata": {
        "id": "ZIjuFbD7AxFL"
      },
      "source": [
        "Exploratory data analysis"
      ]
    },
    {
      "cell_type": "markdown",
      "metadata": {
        "id": "RlQ1Hb1FAxFN"
      },
      "source": [
        "Manipulation of data"
      ]
    },
    {
      "cell_type": "markdown",
      "metadata": {
        "id": "4ByUqwy8AxFO"
      },
      "source": [
        "Streamline work flows"
      ]
    },
    {
      "cell_type": "markdown",
      "metadata": {
        "id": "3ZL3QvyyAxFO"
      },
      "source": [
        "Creating visualisations/dashboards (i.e. plotly, streamlit)"
      ]
    },
    {
      "cell_type": "markdown",
      "metadata": {
        "id": "UYqgPWR2AxFP"
      },
      "source": [
        "![Fig. 1. Example of a dashboard in Python](https://www.dropbox.com/s/730bet2q74ankrf/dashboard.jpg?raw=1)"
      ]
    },
    {
      "cell_type": "markdown",
      "metadata": {
        "id": "u_S8GVToAxFQ"
      },
      "source": [
        "### Machine Learning"
      ]
    },
    {
      "cell_type": "markdown",
      "metadata": {
        "id": "wSuoTYWWAxFQ"
      },
      "source": [
        "Predicting and classifying new data"
      ]
    },
    {
      "cell_type": "markdown",
      "metadata": {
        "id": "9Mr39gNaAxFQ"
      },
      "source": [
        "Recommender systems"
      ]
    },
    {
      "cell_type": "markdown",
      "metadata": {
        "id": "Da47F_85AxFR"
      },
      "source": [
        "Can work with popular Google machine learning libraries (such as Tesseract and Tensorflow)"
      ]
    },
    {
      "cell_type": "markdown",
      "metadata": {
        "id": "ypU5ZTgKAxFS"
      },
      "source": [
        "### Predictive/Prescriptive Analytics"
      ]
    },
    {
      "cell_type": "markdown",
      "metadata": {
        "id": "Alb63leNAxFS"
      },
      "source": [
        "Decision science\n",
        "    - Anticipate what, when and why certain outcome will happen\n",
        "    - What to do with information"
      ]
    },
    {
      "cell_type": "markdown",
      "metadata": {
        "id": "vFY2ZX5SAxFS"
      },
      "source": [
        "Deep learning to optimise outcomes"
      ]
    },
    {
      "cell_type": "markdown",
      "metadata": {
        "id": "1yIas-dOAxFS"
      },
      "source": [
        "## Some statistics"
      ]
    },
    {
      "cell_type": "markdown",
      "metadata": {
        "id": "l3UGb_BmAxFT"
      },
      "source": [
        "### Popularity"
      ]
    },
    {
      "cell_type": "markdown",
      "metadata": {
        "id": "djDw9c3iAxFT"
      },
      "source": [
        "3rd most popular language according to the [TIOBE](https://www.tiobe.com/tiobe-index/) index"
      ]
    },
    {
      "cell_type": "markdown",
      "metadata": {
        "id": "UvRY2nIxAxFT"
      },
      "source": [
        "Fastest growing for the current year"
      ]
    },
    {
      "cell_type": "markdown",
      "metadata": {
        "id": "y06uFu1eAxFT"
      },
      "source": [
        "![Fig. 3a. TIOBE Index 2019](https://www.dropbox.com/s/2s2hbucml60purg/tiobe.jpg?raw=1)"
      ]
    },
    {
      "cell_type": "markdown",
      "metadata": {
        "id": "JF7sacb_AxFT"
      },
      "source": [
        "![Fig. 3b. TIOBE Index 2019](https://www.dropbox.com/s/qrglvt9sjtio6py/tiobepython.jpg?raw=1)"
      ]
    },
    {
      "cell_type": "markdown",
      "metadata": {
        "id": "7gFI20qvAxFT"
      },
      "source": [
        "According to [Stack Overflow](https://insights.stackoverflow.com/survey/2019), it is the 4th most popular programming language in the world"
      ]
    },
    {
      "cell_type": "markdown",
      "metadata": {
        "id": "iX1ZYzwRAxFU"
      },
      "source": [
        "Both for general public and for professional developers"
      ]
    },
    {
      "cell_type": "markdown",
      "metadata": {
        "id": "aUrkyVQAAxFU"
      },
      "source": [
        "![Fig. 4. Most popular technologies](https://www.dropbox.com/s/qio08bridd9hxvh/stackoverflowmostpopular.jpg?raw=1)"
      ]
    },
    {
      "cell_type": "markdown",
      "metadata": {
        "id": "WUusni4YAxFU"
      },
      "source": [
        "The best ranked language according to the Institute of Electrical and Electronics Engineers  [(IEEE)](https://spectrum.ieee.org/at-work/innovation/the-2018-top-programming-languages)"
      ]
    },
    {
      "cell_type": "markdown",
      "metadata": {
        "id": "WqHbW8XmAxFU"
      },
      "source": [
        "![Fig. 5. IEEE Ranking](https://www.dropbox.com/s/z9t87sqsru1tk0b/stats3.jpg?raw=1)"
      ]
    },
    {
      "cell_type": "markdown",
      "metadata": {
        "id": "J8hGeT30AxFV"
      },
      "source": [
        "### Employabilty"
      ]
    },
    {
      "cell_type": "markdown",
      "metadata": {
        "id": "X9DdHFOVAxFV"
      },
      "source": [
        "Python is currently the language with the fastest growing rate of interest by employers according to [Google Trends](https://medium.freecodecamp.org/best-programming-languages-to-learn-in-2018-ultimate-guide-bfc93e615b35)"
      ]
    },
    {
      "cell_type": "markdown",
      "metadata": {
        "id": "4SwN3w9hAxFV"
      },
      "source": [
        "![Fig. 6. Google trends interest over time](https://www.dropbox.com/s/dlwxeks6oth3uo2/stats2.jpg?raw=1)"
      ]
    },
    {
      "cell_type": "markdown",
      "metadata": {
        "id": "fgblPie5AxFW"
      },
      "source": [
        "It is the **12th** best paid language..."
      ]
    },
    {
      "cell_type": "markdown",
      "metadata": {
        "id": "pNCnTvheAxFW"
      },
      "source": [
        "...but one of the fastest to adopt!"
      ]
    },
    {
      "cell_type": "markdown",
      "metadata": {
        "id": "pQr9nnBDAxFW"
      },
      "source": [
        "![Fig. 7a. Salary by programming language](https://www.dropbox.com/s/pn74qojkzrwcxi2/stackoverflowbestpaid.jpg?raw=1)"
      ]
    },
    {
      "cell_type": "markdown",
      "metadata": {
        "id": "wexy2cAyAxFX"
      },
      "source": [
        "![Fig. 7b. Salary by programming language w.r.t. years of experience](https://www.dropbox.com/s/p606cnr28xmt2ac/salarybylanguage.jpg?raw=1)"
      ]
    },
    {
      "cell_type": "markdown",
      "metadata": {
        "id": "p4_gJzA3AxFX"
      },
      "source": [
        "### Reach/Scalability"
      ]
    },
    {
      "cell_type": "markdown",
      "metadata": {
        "id": "AW3klLpBAxFX"
      },
      "source": [
        "![Fig. 8. Interconnectivity of different programming languages, IDEs and environments](https://www.dropbox.com/s/ehb524ls7pffirk/graph.jpg?raw=1)"
      ]
    },
    {
      "cell_type": "markdown",
      "metadata": {
        "id": "Nt9TUCQHAxFX"
      },
      "source": [
        "## Fundamentals of Programming\n",
        "How do we define Python?"
      ]
    },
    {
      "cell_type": "markdown",
      "metadata": {
        "id": "dnHl4vELAxFY"
      },
      "source": [
        "### Levels of Programming Languages\n",
        "![Fig. 9. Types of programming languages](https://www.dropbox.com/s/zgnryvnslnpw2qf/proglangtypes.jpg?raw=1)\n",
        "[Source](http://4.bp.blogspot.com/-NvijJmjC13I/TmIbqlKKl8I/AAAAAAAAA3Q/mK4Nmy43en8/s1600/Untitled-1+%25281%2529.jpg)"
      ]
    },
    {
      "cell_type": "markdown",
      "metadata": {
        "id": "6WPcv10_AxFY"
      },
      "source": [
        "#### Advantages of High-level Programming Languages"
      ]
    },
    {
      "cell_type": "markdown",
      "metadata": {
        "id": "ERandjpCAxFY"
      },
      "source": [
        "Programmer friendly"
      ]
    },
    {
      "cell_type": "markdown",
      "metadata": {
        "id": "174Al4AMAxFZ"
      },
      "source": [
        "Easy to write, debug and maintain"
      ]
    },
    {
      "cell_type": "markdown",
      "metadata": {
        "id": "wjZ7EuQbAxFZ"
      },
      "source": [
        "Provide higher level of abstraction from machine languages"
      ]
    },
    {
      "cell_type": "markdown",
      "metadata": {
        "id": "Qek1pEIfAxFZ"
      },
      "source": [
        "Machine independent language"
      ]
    },
    {
      "cell_type": "markdown",
      "metadata": {
        "id": "zNl9TfikAxFa"
      },
      "source": [
        "Easy to learn"
      ]
    },
    {
      "cell_type": "markdown",
      "metadata": {
        "id": "BuNKGDhIAxFa"
      },
      "source": [
        "Less error prone"
      ]
    },
    {
      "cell_type": "markdown",
      "metadata": {
        "id": "TgdlpWNuAxFa"
      },
      "source": [
        "#### Disadvantages of High-level Programming Languages"
      ]
    },
    {
      "cell_type": "markdown",
      "metadata": {
        "id": "WOal5emtAxFb"
      },
      "source": [
        "Slower (takes additional time to translate)"
      ]
    },
    {
      "cell_type": "markdown",
      "metadata": {
        "id": "lGKLqY3GAxFb"
      },
      "source": [
        "Less memory efficient"
      ]
    },
    {
      "cell_type": "markdown",
      "metadata": {
        "id": "-4HpOnRyAxFb"
      },
      "source": [
        "Cannot directly communicate with the hardware"
      ]
    },
    {
      "cell_type": "markdown",
      "metadata": {
        "id": "I_ChI0BmAxFb"
      },
      "source": [
        "[Some literature](https://www.tutorialandexample.com/middle-level-language/) considers Java/C/C++ as *middle*-level languages due to their capacity of abstraction"
      ]
    },
    {
      "cell_type": "markdown",
      "metadata": {
        "id": "I4-g0BewAxFc"
      },
      "source": [
        "![Fig. 10. Languages](https://www.dropbox.com/s/c7l7c21r4elknj2/middle-level-language.jpg?raw=1)"
      ]
    },
    {
      "cell_type": "markdown",
      "metadata": {
        "id": "BWVM7FH2AxFc"
      },
      "source": [
        "### Translation of Operations: Compiled vs Interpreted Programming Languages"
      ]
    },
    {
      "cell_type": "markdown",
      "metadata": {
        "id": "kFIfqzn8AxFc"
      },
      "source": [
        "#### Compiled Languages"
      ]
    },
    {
      "cell_type": "markdown",
      "metadata": {
        "id": "OTqFtyaFAxFc"
      },
      "source": [
        "The high-level source code is translated to machine code using a compiler"
      ]
    },
    {
      "cell_type": "markdown",
      "metadata": {
        "id": "gSKkf8IxAxFd"
      },
      "source": [
        "An addition + gets directly translated to the ADD instruction in the machine code"
      ]
    },
    {
      "cell_type": "markdown",
      "metadata": {
        "id": "uw9fa1r3AxFd"
      },
      "source": [
        "Examples: C, Fortran, COBOL, C++, and Java (bytecode)"
      ]
    },
    {
      "cell_type": "markdown",
      "metadata": {
        "id": "P1iC-hwJAxFd"
      },
      "source": [
        "##### Advantages of Compiled Languages"
      ]
    },
    {
      "cell_type": "markdown",
      "metadata": {
        "id": "1za9qCw7AxFe"
      },
      "source": [
        "Ready to run"
      ]
    },
    {
      "cell_type": "markdown",
      "metadata": {
        "id": "GmGTxPHXAxFe"
      },
      "source": [
        "Often faster"
      ]
    },
    {
      "cell_type": "markdown",
      "metadata": {
        "id": "kvydnvsmAxFe"
      },
      "source": [
        "Source code is kept private"
      ]
    },
    {
      "cell_type": "markdown",
      "metadata": {
        "id": "1jKwAGkEAxFe"
      },
      "source": [
        "#### Interpreted Languages"
      ]
    },
    {
      "cell_type": "markdown",
      "metadata": {
        "id": "gtZc4YV_AxFf"
      },
      "source": [
        "Instructions are not directly executed, but read by another program"
      ]
    },
    {
      "cell_type": "markdown",
      "metadata": {
        "id": "a8NC0MYjAxFf"
      },
      "source": [
        "Instructions run freely without the need to compile them first!"
      ]
    },
    {
      "cell_type": "markdown",
      "metadata": {
        "id": "mrFYjChZAxFf"
      },
      "source": [
        "Examples: JavaScript, Perl, R, *Python*"
      ]
    },
    {
      "cell_type": "markdown",
      "metadata": {
        "id": "nMQoxW64AxFf"
      },
      "source": [
        "##### Advantages of Interpreted Languages"
      ]
    },
    {
      "cell_type": "markdown",
      "metadata": {
        "id": "OwUP5jQkAxFg"
      },
      "source": [
        "Cross-platform (portability)"
      ]
    },
    {
      "cell_type": "markdown",
      "metadata": {
        "id": "kFt1ZMkwAxFg"
      },
      "source": [
        "Simpler to test"
      ]
    },
    {
      "cell_type": "markdown",
      "metadata": {
        "id": "cpzFkgjRAxFg"
      },
      "source": [
        "Display error as each instruction is run"
      ]
    },
    {
      "cell_type": "markdown",
      "metadata": {
        "id": "gc1w6WHkAxFg"
      },
      "source": [
        "![Fig. 11. Difference between compiled and interpreted programming languages](https://www.dropbox.com/s/31cnw6n1mmrv04h/compiledinterpreted.jpg?raw=1)\n",
        "[Source](https://www.google.com/url?sa=i&rct=j&q=&esrc=s&source=images&cd=&cad=rja&uact=8&ved=2ahUKEwichoGF1KXkAhVOdhoKHebmAJwQjRx6BAgBEAQ&url=%2Furl%3Fsa%3Di%26rct%3Dj%26q%3D%26esrc%3Ds%26source%3Dimages%26cd%3D%26ved%3D%26url%3Dhttps%253A%252F%252Fmedium.com%252Ffrom-the-scratch%252Fstop-it-there-are-no-compiled-and-interpreted-languages-512f84756664%26psig%3DAOvVaw0CqS9Nmdo4wbc9J-p4WtL-%26ust%3D1567083827896505&psig=AOvVaw0CqS9Nmdo4wbc9J-p4WtL-&ust=1567083827896505)"
      ]
    },
    {
      "cell_type": "markdown",
      "metadata": {
        "id": "UQ2k1WMaAxFh"
      },
      "source": [
        "### Typing: Static vs Dynamic Programming Languages"
      ]
    },
    {
      "cell_type": "markdown",
      "metadata": {
        "id": "clUNbOthAxFh"
      },
      "source": [
        "Static is designed to optimise *hardware* efficiency"
      ]
    },
    {
      "cell_type": "markdown",
      "metadata": {
        "id": "vL3ZrqktAxFh"
      },
      "source": [
        "Dynamic is designed to optimise *programming* efficiency so that less code is used"
      ]
    },
    {
      "cell_type": "markdown",
      "metadata": {
        "id": "Xda12GCQAxFi"
      },
      "source": [
        "In fact, dynamic languages are written using a static one!\n",
        "    - Python is written in C!"
      ]
    },
    {
      "cell_type": "markdown",
      "metadata": {
        "id": "V6kNsWlxAxFi"
      },
      "source": [
        "### So What is Python?"
      ]
    },
    {
      "cell_type": "markdown",
      "metadata": {
        "id": "WIsbXhfBAxFi"
      },
      "source": [
        "A widely used **high-level**, **interpreted**, and **dynamic** programming language"
      ]
    },
    {
      "cell_type": "markdown",
      "metadata": {
        "id": "yLtix-S9AxFi"
      },
      "source": [
        "Emphasizes code readability"
      ]
    },
    {
      "cell_type": "markdown",
      "metadata": {
        "id": "X34iU7beAxFj"
      },
      "source": [
        "Its syntax allows programmers to express concepts in fewer lines of code"
      ]
    },
    {
      "cell_type": "markdown",
      "metadata": {
        "id": "p4mNSEsmAxFj"
      },
      "source": [
        "Similar in syntax and purpose to R and Matlab"
      ]
    },
    {
      "cell_type": "markdown",
      "metadata": {
        "id": "mOcws8ZaAxFj"
      },
      "source": [
        "![Fig. 12. How to write an essay according to different programming languages!](https://www.dropbox.com/s/qeul7bjpljres1i/programminglanguages.jpg?raw=1)"
      ]
    },
    {
      "cell_type": "markdown",
      "metadata": {
        "id": "U-fFYabJAxFj"
      },
      "source": [
        "# Installing Python"
      ]
    },
    {
      "cell_type": "markdown",
      "metadata": {
        "id": "RS2wvdlDAxFk"
      },
      "source": [
        "### The long and hard way\n",
        "\n",
        "1. Install Python (https://www.python.org).\n",
        "2. Install a Python Integrated Development Environment (IDE) such as IDLE (available when installing Python), Pycharm (https://www.jetbrains.com/pycharm/) or Spyder (https://pypi.org/project/spyder/).\n",
        "3. Install Jupyter Notebook (http://jupyter.org/)."
      ]
    },
    {
      "cell_type": "markdown",
      "metadata": {
        "id": "6n4qfCMKAxFk"
      },
      "source": [
        "## The fast way: [Anaconda Navigator](https://www.anaconda.com/download/)\n",
        "\n",
        "![Fig. 13. Anaconda](https://www.dropbox.com/s/q1nkj5xrqz5qhrj/anaconda.jpg?raw=1)"
      ]
    },
    {
      "cell_type": "markdown",
      "metadata": {
        "id": "WlcdlNvbAxFk"
      },
      "source": [
        "# How Does Python Look Like?"
      ]
    },
    {
      "cell_type": "markdown",
      "metadata": {
        "id": "c6dnZUdIAxFl"
      },
      "source": [
        "In its most simplistic state, Python acts like a calculator. You simply write one calculation, and Python gives you the answer!"
      ]
    },
    {
      "cell_type": "code",
      "execution_count": null,
      "metadata": {
        "id": "7EIUsmNlAxFl",
        "outputId": "858e2170-4150-44f9-cacd-a95e31277b88"
      },
      "outputs": [
        {
          "data": {
            "text/plain": [
              "15"
            ]
          },
          "execution_count": 1,
          "metadata": {},
          "output_type": "execute_result"
        }
      ],
      "source": [
        "6+9"
      ]
    },
    {
      "cell_type": "markdown",
      "metadata": {
        "id": "a2z2yADWAxFm"
      },
      "source": [
        "Moreover, you can also do some coding!"
      ]
    },
    {
      "cell_type": "code",
      "execution_count": null,
      "metadata": {
        "id": "wnZwUwlLAxFm",
        "outputId": "adc03f52-8530-45b8-d162-a1f237f8ad72"
      },
      "outputs": [
        {
          "name": "stdout",
          "output_type": "stream",
          "text": [
            "0\n",
            "1\n",
            "2\n",
            "3\n",
            "4\n",
            "5\n",
            "6\n",
            "7\n",
            "8\n",
            "9\n"
          ]
        }
      ],
      "source": [
        "for i in range(10):\n",
        "    print(i)"
      ]
    },
    {
      "cell_type": "markdown",
      "metadata": {
        "id": "nduPx4B5AxFm"
      },
      "source": [
        "Notice the simplicity of the Python syntax, in the sense that we do not need to define classes or use a complex and strict structure of parenthesis!"
      ]
    },
    {
      "cell_type": "markdown",
      "metadata": {
        "id": "NvyePFmeAxFm"
      },
      "source": [
        "In this course we will use Jupyter Notebook not only for lectures, but also for laboratory activities and to code/present the coursework."
      ]
    },
    {
      "cell_type": "markdown",
      "metadata": {
        "id": "fPyBkDpIAxFm"
      },
      "source": [
        "## Data Types and Data Structures"
      ]
    },
    {
      "cell_type": "markdown",
      "metadata": {
        "id": "OE0ANuYzAxFn"
      },
      "source": [
        "Python contains a pre-defined set of **classes** which can contain certain data types or data structures"
      ]
    },
    {
      "cell_type": "markdown",
      "metadata": {
        "id": "LWoSUDM-AxFn"
      },
      "source": [
        "Instead of defining objects/variables/classes/constructors, one may simply type a number and Python will assume the type of this value"
      ]
    },
    {
      "cell_type": "code",
      "execution_count": null,
      "metadata": {
        "id": "WuKER--NAxFn",
        "outputId": "3a6c0b77-2cb8-456c-88fa-07a54a9b7034"
      },
      "outputs": [
        {
          "data": {
            "text/plain": [
              "str"
            ]
          },
          "execution_count": 8,
          "metadata": {},
          "output_type": "execute_result"
        }
      ],
      "source": [
        "## Type anything and then run the cell to see if Python recognises the object\n",
        "type(\"Hello 1.1\")"
      ]
    },
    {
      "cell_type": "markdown",
      "metadata": {
        "id": "Co7CbMaoAxFo"
      },
      "source": [
        "### Numerical Data Types"
      ]
    },
    {
      "cell_type": "markdown",
      "metadata": {
        "id": "TAfebZ7uAxFp"
      },
      "source": [
        "    * Integers\n",
        "    * Float\n",
        "    * Booleans\n",
        "    * Hex\n",
        "    * Oct\n",
        "    * Complex\n",
        "    * and many more to import..."
      ]
    },
    {
      "cell_type": "markdown",
      "metadata": {
        "id": "ccDA6vhBAxFp"
      },
      "source": [
        "#### Integers"
      ]
    },
    {
      "cell_type": "markdown",
      "metadata": {
        "id": "qjCgkKERAxFq"
      },
      "source": [
        "The most basic data type in Python"
      ]
    },
    {
      "cell_type": "markdown",
      "metadata": {
        "id": "5MyQbDP8AxFq"
      },
      "source": [
        "A number by default is an integer if no decimal value is specified"
      ]
    },
    {
      "cell_type": "markdown",
      "metadata": {
        "id": "zd2NhYDDAxFq"
      },
      "source": [
        "The `type()` **function** can be used to discover the type of a variable or a number"
      ]
    },
    {
      "cell_type": "markdown",
      "metadata": {
        "id": "F2_IQHCwAxFq"
      },
      "source": [
        "You can use comparison operators to evaluate integer values"
      ]
    },
    {
      "cell_type": "code",
      "execution_count": null,
      "metadata": {
        "id": "hI90xowlAxFq",
        "outputId": "37711c23-9db0-48e4-f906-ca210b219a10"
      },
      "outputs": [
        {
          "data": {
            "text/plain": [
              "int"
            ]
          },
          "execution_count": 9,
          "metadata": {},
          "output_type": "execute_result"
        }
      ],
      "source": [
        "type(3)"
      ]
    },
    {
      "cell_type": "code",
      "execution_count": null,
      "metadata": {
        "id": "-x3ZuNwjAxFr",
        "outputId": "e5f8baef-cf3d-419a-fda4-5d85775b4381"
      },
      "outputs": [
        {
          "data": {
            "text/plain": [
              "200000"
            ]
          },
          "execution_count": 13,
          "metadata": {},
          "output_type": "execute_result"
        }
      ],
      "source": [
        "## Writing exponential numbers\n",
        "int(2e5)"
      ]
    },
    {
      "cell_type": "code",
      "execution_count": null,
      "metadata": {
        "id": "1cSgt14YAxFr",
        "outputId": "9e3f5481-e4df-4ae5-b72a-d16a9470ca80"
      },
      "outputs": [
        {
          "name": "stdout",
          "output_type": "stream",
          "text": [
            "<class 'int'>\n"
          ]
        }
      ],
      "source": [
        "x=3\n",
        "print(type(x))"
      ]
    },
    {
      "cell_type": "code",
      "execution_count": null,
      "metadata": {
        "id": "0SBW_Pn1AxFr",
        "outputId": "5bcc98d8-22e5-4c4b-8096-f1e492b2424b"
      },
      "outputs": [
        {
          "data": {
            "text/plain": [
              "False"
            ]
          },
          "execution_count": 15,
          "metadata": {},
          "output_type": "execute_result"
        }
      ],
      "source": [
        "# See if two ints are equal\n",
        "3==5"
      ]
    },
    {
      "cell_type": "code",
      "execution_count": null,
      "metadata": {
        "id": "C_O0JL5SAxFs",
        "outputId": "cff274b1-ffe3-4927-9453-4c89391b4fec"
      },
      "outputs": [
        {
          "data": {
            "text/plain": [
              "True"
            ]
          },
          "execution_count": 16,
          "metadata": {},
          "output_type": "execute_result"
        }
      ],
      "source": [
        "# See if two ints are not equal\n",
        "3!=5"
      ]
    },
    {
      "cell_type": "code",
      "execution_count": null,
      "metadata": {
        "id": "sdgbYa6_AxFs",
        "outputId": "08f3eb86-0bed-4fb0-c24d-d0e2f157e365"
      },
      "outputs": [
        {
          "data": {
            "text/plain": [
              "True"
            ]
          },
          "execution_count": 17,
          "metadata": {},
          "output_type": "execute_result"
        }
      ],
      "source": [
        "# See if a number is smaller than another\n",
        "3<5"
      ]
    },
    {
      "cell_type": "code",
      "execution_count": null,
      "metadata": {
        "id": "qjtKhFHVAxFs",
        "outputId": "14c7a4fe-f5db-4a51-91d6-beb9d8d6065b"
      },
      "outputs": [
        {
          "data": {
            "text/plain": [
              "True"
            ]
          },
          "execution_count": 18,
          "metadata": {},
          "output_type": "execute_result"
        }
      ],
      "source": [
        "# See if a number is smaller or equal to another\n",
        "3<=5"
      ]
    },
    {
      "cell_type": "code",
      "execution_count": null,
      "metadata": {
        "id": "y8wTU2WaAxFt",
        "outputId": "b3c6a0fa-77ee-4c29-9302-1535f7ea5a31"
      },
      "outputs": [
        {
          "data": {
            "text/plain": [
              "False"
            ]
          },
          "execution_count": 19,
          "metadata": {},
          "output_type": "execute_result"
        }
      ],
      "source": [
        "# See if a number is larger than another\n",
        "3>5"
      ]
    },
    {
      "cell_type": "code",
      "execution_count": null,
      "metadata": {
        "id": "neTraSA3AxFt",
        "outputId": "c568fd27-b4d2-4b69-937a-ae14c5ae750e"
      },
      "outputs": [
        {
          "data": {
            "text/plain": [
              "False"
            ]
          },
          "execution_count": 20,
          "metadata": {},
          "output_type": "execute_result"
        }
      ],
      "source": [
        "# See if a number is larger or equal to another\n",
        "3>=5"
      ]
    },
    {
      "cell_type": "markdown",
      "metadata": {
        "id": "_L-paXabAxFu"
      },
      "source": [
        "#### Booleans (logical operators)"
      ]
    },
    {
      "cell_type": "code",
      "execution_count": null,
      "metadata": {
        "id": "H16yxyeJAxFu",
        "outputId": "3327993d-c56c-406a-9f88-e345257bb24d"
      },
      "outputs": [
        {
          "data": {
            "text/plain": [
              "bool"
            ]
          },
          "execution_count": 23,
          "metadata": {},
          "output_type": "execute_result"
        }
      ],
      "source": [
        "type(True)"
      ]
    },
    {
      "cell_type": "code",
      "execution_count": null,
      "metadata": {
        "id": "EX5fF-tkAxFu"
      },
      "outputs": [],
      "source": [
        "z = True\n",
        "print(type(z))"
      ]
    },
    {
      "cell_type": "markdown",
      "metadata": {
        "id": "FbPHe5ArAxFv"
      },
      "source": [
        "#### Float"
      ]
    },
    {
      "cell_type": "markdown",
      "metadata": {
        "id": "vfWEdg9NAxFv"
      },
      "source": [
        "Is how we call decimals in Python"
      ]
    },
    {
      "cell_type": "markdown",
      "metadata": {
        "id": "NPI-fhyIAxFv"
      },
      "source": [
        "Up to 15 decimal places"
      ]
    },
    {
      "cell_type": "code",
      "execution_count": null,
      "metadata": {
        "id": "NhqFAHWvAxFw"
      },
      "outputs": [],
      "source": [
        "y=6.9128973981278474987298765646464"
      ]
    },
    {
      "cell_type": "code",
      "execution_count": null,
      "metadata": {
        "id": "FJ8z8Z1uAxFw",
        "outputId": "aab5e144-a964-4c84-d846-1afea0d43827"
      },
      "outputs": [
        {
          "name": "stdout",
          "output_type": "stream",
          "text": [
            "6.912897398127847\n"
          ]
        }
      ],
      "source": [
        "print(y)"
      ]
    },
    {
      "cell_type": "code",
      "execution_count": null,
      "metadata": {
        "id": "Xul5V9qjAxFw"
      },
      "outputs": [],
      "source": [
        "# If more than 15 decimal places are used, python truncates\n",
        "7.0789349236894739847398972348974238947"
      ]
    },
    {
      "cell_type": "code",
      "execution_count": null,
      "metadata": {
        "id": "uFdgOtL9AxFw",
        "outputId": "d3db5f56-d5df-4117-8dee-c06486e55f0a"
      },
      "outputs": [
        {
          "data": {
            "text/plain": [
              "False"
            ]
          },
          "execution_count": 30,
          "metadata": {},
          "output_type": "execute_result"
        }
      ],
      "source": [
        "# We can also compare floats, but funny things may happen!\n",
        "1.1+2.2==3.3"
      ]
    },
    {
      "cell_type": "markdown",
      "metadata": {
        "id": "oN_51ifUAxFx"
      },
      "source": [
        "Do you know why?"
      ]
    },
    {
      "cell_type": "markdown",
      "metadata": {
        "id": "IAQaacrcAxFx"
      },
      "source": [
        "![Fig. 14. Prove you are a robot!](https://www.dropbox.com/s/w9u524mgaezmxur/robot.jpg?raw=1)"
      ]
    },
    {
      "cell_type": "markdown",
      "metadata": {
        "id": "08jE1O1RAxFx"
      },
      "source": [
        "#### The `isinstance()` function"
      ]
    },
    {
      "cell_type": "code",
      "execution_count": null,
      "metadata": {
        "id": "a3srnptEAxFy",
        "outputId": "fb01e096-9602-4c89-9fb9-d6e832b0661a"
      },
      "outputs": [
        {
          "data": {
            "text/plain": [
              "False"
            ]
          },
          "execution_count": 33,
          "metadata": {},
          "output_type": "execute_result"
        }
      ],
      "source": [
        "isinstance(x,float)"
      ]
    },
    {
      "cell_type": "code",
      "execution_count": null,
      "metadata": {
        "id": "ef76tlvfAxFy"
      },
      "outputs": [],
      "source": [
        "isinstance(y,int)"
      ]
    },
    {
      "cell_type": "markdown",
      "metadata": {
        "id": "HfpvaUJ6AxFy"
      },
      "source": [
        "You can also work with complex, binary, octal and hexadecimal numbers in Python."
      ]
    },
    {
      "cell_type": "markdown",
      "metadata": {
        "id": "_FIEOG5XAxFy"
      },
      "source": [
        "#### Strings"
      ]
    },
    {
      "cell_type": "code",
      "execution_count": null,
      "metadata": {
        "id": "uITuOXwRAxFy",
        "outputId": "c9a6159d-56ea-443d-c9ce-30e4b960c463"
      },
      "outputs": [
        {
          "name": "stdout",
          "output_type": "stream",
          "text": [
            "don't\n"
          ]
        }
      ],
      "source": [
        "a = 'don\\'t'\n",
        "print(a)"
      ]
    },
    {
      "cell_type": "code",
      "execution_count": null,
      "metadata": {
        "id": "_uGoG6sYAxFz"
      },
      "outputs": [],
      "source": [
        "# Any number inside quotations becomes a string\n",
        "c = \"45\"\n",
        "print(c)"
      ]
    },
    {
      "cell_type": "code",
      "execution_count": null,
      "metadata": {
        "id": "CnH7Cz5aAxFz"
      },
      "outputs": [],
      "source": [
        "# A boolean inside quotations becomes a string\n",
        "b = \"True\"\n",
        "print(b)"
      ]
    },
    {
      "cell_type": "code",
      "execution_count": null,
      "metadata": {
        "id": "wvPr6I9BAxFz"
      },
      "outputs": [],
      "source": [
        "print(type(a),type(a),type(a))"
      ]
    },
    {
      "cell_type": "markdown",
      "metadata": {
        "id": "P133SyP_AxF0"
      },
      "source": [
        "### Conversion Functions"
      ]
    },
    {
      "cell_type": "markdown",
      "metadata": {
        "id": "m6sTtCq6AxF0"
      },
      "source": [
        "![Fig. 15. Conversion Functions](https://www.dropbox.com/s/77jrypjzpdpegkn/cf.jpg?raw=1)"
      ]
    },
    {
      "cell_type": "code",
      "execution_count": null,
      "metadata": {
        "id": "rAbdDAjHAxF0",
        "outputId": "03b9e045-49d8-4232-9490-6a02a0b91ee9"
      },
      "outputs": [
        {
          "data": {
            "text/plain": [
              "7"
            ]
          },
          "execution_count": 39,
          "metadata": {},
          "output_type": "execute_result"
        }
      ],
      "source": [
        "# the int() function can convert any number into an integer. \n",
        "# Mostly used to round floats\n",
        "int(7.8)"
      ]
    },
    {
      "cell_type": "code",
      "execution_count": null,
      "metadata": {
        "id": "360XkAk3AxF0",
        "outputId": "76512394-2415-4d31-f02c-c81d89364fea"
      },
      "outputs": [
        {
          "data": {
            "text/plain": [
              "1"
            ]
          },
          "execution_count": 40,
          "metadata": {},
          "output_type": "execute_result"
        }
      ],
      "source": [
        "# Converting booleans into ints\n",
        "int(True)"
      ]
    },
    {
      "cell_type": "code",
      "execution_count": null,
      "metadata": {
        "id": "ITN6NavlAxF1",
        "outputId": "549532e1-bb98-48a1-b1f5-73e0ff614408"
      },
      "outputs": [
        {
          "data": {
            "text/plain": [
              "9.0"
            ]
          },
          "execution_count": 41,
          "metadata": {},
          "output_type": "execute_result"
        }
      ],
      "source": [
        "# float function adds a 0 decimal to an int\n",
        "float(9)"
      ]
    },
    {
      "cell_type": "code",
      "execution_count": null,
      "metadata": {
        "id": "JoIABOawAxF2",
        "outputId": "06dcaa0c-8d7c-41d1-cd00-0cb169e1b709"
      },
      "outputs": [
        {
          "data": {
            "text/plain": [
              "False"
            ]
          },
          "execution_count": 43,
          "metadata": {},
          "output_type": "execute_result"
        }
      ],
      "source": [
        "# bool() turns any number to TRUE (other than 0)\n",
        "bool(0)"
      ]
    },
    {
      "cell_type": "code",
      "execution_count": null,
      "metadata": {
        "id": "HbVQBh4yAxF2"
      },
      "outputs": [],
      "source": [
        "bool(0)"
      ]
    },
    {
      "cell_type": "markdown",
      "metadata": {
        "id": "qfPfihGRAxF3"
      },
      "source": [
        "# Data Structures"
      ]
    },
    {
      "cell_type": "markdown",
      "metadata": {
        "id": "DmkWgFfaAxF3"
      },
      "source": [
        "![Fig. 16. Python Data Structures](https://www.dropbox.com/s/c6uk6ptsnb7x83i/ds.jpg?raw=1)"
      ]
    },
    {
      "cell_type": "markdown",
      "metadata": {
        "id": "Bka0IkqtAxF3"
      },
      "source": [
        "### Tuples"
      ]
    },
    {
      "cell_type": "markdown",
      "metadata": {
        "id": "Wt_sE0zWAxF4"
      },
      "source": [
        "**IMMUTABLE** collection of elements"
      ]
    },
    {
      "cell_type": "markdown",
      "metadata": {
        "id": "8m5-m5LZAxF4"
      },
      "source": [
        "Defined using parenthesis and separating elements with commas"
      ]
    },
    {
      "cell_type": "markdown",
      "metadata": {
        "id": "6M652YsoAxF4"
      },
      "source": [
        "Not all elements in a tuple have to be of the same type"
      ]
    },
    {
      "cell_type": "code",
      "execution_count": null,
      "metadata": {
        "id": "9IQ24zDhAxF4",
        "outputId": "b3cfd677-775b-4c6d-aac7-1c081e478db7"
      },
      "outputs": [
        {
          "data": {
            "text/plain": [
              "(1, 2, 3)"
            ]
          },
          "execution_count": 44,
          "metadata": {},
          "output_type": "execute_result"
        }
      ],
      "source": [
        "tuple1 = (1,2,3)\n",
        "tuple1"
      ]
    },
    {
      "cell_type": "code",
      "execution_count": null,
      "metadata": {
        "id": "EJYdJK5wAxF5",
        "outputId": "7355a36f-3932-4eee-b765-fc0abccba5f6"
      },
      "outputs": [
        {
          "data": {
            "text/plain": [
              "(1, 'g', 4.4, True)"
            ]
          },
          "execution_count": 45,
          "metadata": {},
          "output_type": "execute_result"
        }
      ],
      "source": [
        "tuple2 = (1,'g',4.4,True)\n",
        "tuple2"
      ]
    },
    {
      "cell_type": "markdown",
      "metadata": {
        "id": "PlXS5oAZAxF5"
      },
      "source": [
        "### Lists"
      ]
    },
    {
      "cell_type": "markdown",
      "metadata": {
        "id": "vdFOjUIZAxF5"
      },
      "source": [
        "**MUTABLE** collection of elements"
      ]
    },
    {
      "cell_type": "markdown",
      "metadata": {
        "id": "YIWm-zVZAxF5"
      },
      "source": [
        "Defined using squared brackets and separating elements with commas"
      ]
    },
    {
      "cell_type": "markdown",
      "metadata": {
        "id": "ykSbfoOCAxF5"
      },
      "source": [
        "Not all elements in a list have to be of the same type"
      ]
    },
    {
      "cell_type": "code",
      "execution_count": null,
      "metadata": {
        "id": "-VdF6b3GAxF6",
        "outputId": "6046d275-61c8-4f24-aadf-9118875eec35"
      },
      "outputs": [
        {
          "data": {
            "text/plain": [
              "[1, 2, 3]"
            ]
          },
          "execution_count": 46,
          "metadata": {},
          "output_type": "execute_result"
        }
      ],
      "source": [
        "list1 = [1,2,3]\n",
        "list1"
      ]
    },
    {
      "cell_type": "code",
      "execution_count": null,
      "metadata": {
        "id": "JGJm-jjdAxF6",
        "outputId": "984c0012-3445-40fe-83b3-c3525a2d7638"
      },
      "outputs": [
        {
          "data": {
            "text/plain": [
              "[1, 'g', 4.4, True]"
            ]
          },
          "execution_count": 47,
          "metadata": {},
          "output_type": "execute_result"
        }
      ],
      "source": [
        "list2 = [1,'g',4.4,True]\n",
        "list2"
      ]
    },
    {
      "cell_type": "markdown",
      "metadata": {
        "id": "okrcP4DhAxF6"
      },
      "source": [
        "### The `len()` function"
      ]
    },
    {
      "cell_type": "code",
      "execution_count": null,
      "metadata": {
        "id": "N-LSBZSiAxF6",
        "outputId": "bdae6dca-2df1-4da8-9296-31825ec49fb9"
      },
      "outputs": [
        {
          "data": {
            "text/plain": [
              "3"
            ]
          },
          "execution_count": 48,
          "metadata": {},
          "output_type": "execute_result"
        }
      ],
      "source": [
        "len(tuple1)"
      ]
    },
    {
      "cell_type": "code",
      "execution_count": null,
      "metadata": {
        "id": "xX0i7TqhAxF6",
        "outputId": "e2e67a7b-f0fd-4fb3-dd19-2538533c0fd3"
      },
      "outputs": [
        {
          "data": {
            "text/plain": [
              "4"
            ]
          },
          "execution_count": 49,
          "metadata": {},
          "output_type": "execute_result"
        }
      ],
      "source": [
        "len(list2)"
      ]
    },
    {
      "cell_type": "markdown",
      "metadata": {
        "id": "BM9oM7wqAxF7"
      },
      "source": [
        "### Accessing an element in a tuple/list"
      ]
    },
    {
      "cell_type": "markdown",
      "metadata": {
        "id": "rUthUcRVAxF7"
      },
      "source": [
        "We can access to all positions in a tuple/list by using squared brackets **after** the tuple/list"
      ]
    },
    {
      "cell_type": "markdown",
      "metadata": {
        "id": "4YB7x0UEAxF7"
      },
      "source": [
        "**Indexes in Python begin in 0!**"
      ]
    },
    {
      "cell_type": "code",
      "execution_count": null,
      "metadata": {
        "id": "vEItgxgiAxF7",
        "outputId": "8fb03388-d0fd-41d2-8be7-85473f9793ff"
      },
      "outputs": [
        {
          "data": {
            "text/plain": [
              "False"
            ]
          },
          "execution_count": 53,
          "metadata": {},
          "output_type": "execute_result"
        }
      ],
      "source": [
        "\n",
        "# Access the first element of list1\n",
        "tuple1[0]==list1[0]"
      ]
    },
    {
      "cell_type": "code",
      "execution_count": null,
      "metadata": {
        "id": "ZH4A5OvBAxF8"
      },
      "outputs": [],
      "source": [
        "print(tuple2)\n",
        "# Access the second element of tuple2\n",
        "tuple2[1]"
      ]
    },
    {
      "cell_type": "markdown",
      "metadata": {
        "id": "A6TjBrlWAxF8"
      },
      "source": [
        "Why do we need two very similar structures such as tuples and lists? "
      ]
    },
    {
      "cell_type": "markdown",
      "metadata": {
        "id": "7qZLIP71AxF8"
      },
      "source": [
        "# Coursework Clarification"
      ]
    },
    {
      "cell_type": "markdown",
      "metadata": {
        "id": "fODchchmAxF8"
      },
      "source": [
        "# LAB: Getting Familiar with Python & Jupyter Notebook"
      ]
    },
    {
      "cell_type": "markdown",
      "metadata": {
        "id": "mBXUYkCEAxF8"
      },
      "source": [
        "In case you weren't here last week or you still have issues with Python and/or Jupyter Notebook, we will solve your queries"
      ]
    },
    {
      "cell_type": "markdown",
      "metadata": {
        "id": "AerUgpw-AxF9"
      },
      "source": [
        "Moreover, you can test if all extensions are working, such as Rise, Spellcheck and others"
      ]
    },
    {
      "cell_type": "markdown",
      "metadata": {
        "id": "R5h77qlwAxF9"
      },
      "source": [
        "Finally, if you want to practice I will enable some courses in Datacamp"
      ]
    }
  ],
  "metadata": {
    "celltoolbar": "Slideshow",
    "hide_input": false,
    "kernelspec": {
      "display_name": "Python 3",
      "language": "python",
      "name": "python3"
    },
    "language_info": {
      "codemirror_mode": {
        "name": "ipython",
        "version": 3
      },
      "file_extension": ".py",
      "mimetype": "text/x-python",
      "name": "python",
      "nbconvert_exporter": "python",
      "pygments_lexer": "ipython3",
      "version": "3.7.3"
    },
    "rise": {
      "enable_chalkboard": true
    },
    "varInspector": {
      "cols": {
        "lenName": 16,
        "lenType": 16,
        "lenVar": 40
      },
      "kernels_config": {
        "python": {
          "delete_cmd_postfix": "",
          "delete_cmd_prefix": "del ",
          "library": "var_list.py",
          "varRefreshCmd": "print(var_dic_list())"
        },
        "r": {
          "delete_cmd_postfix": ") ",
          "delete_cmd_prefix": "rm(",
          "library": "var_list.r",
          "varRefreshCmd": "cat(var_dic_list()) "
        }
      },
      "types_to_exclude": [
        "module",
        "function",
        "builtin_function_or_method",
        "instance",
        "_Feature"
      ],
      "window_display": false
    },
    "colab": {
      "name": "CMM536_W2_Lec.ipynb",
      "provenance": [],
      "include_colab_link": true
    }
  },
  "nbformat": 4,
  "nbformat_minor": 0
}