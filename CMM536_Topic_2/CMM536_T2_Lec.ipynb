{
  "cells": [
    {
      "cell_type": "markdown",
      "metadata": {
        "id": "view-in-github",
        "colab_type": "text"
      },
      "source": [
        "<a href=\"https://colab.research.google.com/github/carlosfmorenog/CMM536/blob/master/CMM536_Topic_2/CMM536_T2_Lec.ipynb\" target=\"_parent\"><img src=\"https://colab.research.google.com/assets/colab-badge.svg\" alt=\"Open In Colab\"/></a>"
      ]
    },
    {
      "cell_type": "markdown",
      "metadata": {
        "id": "H1ST9tFo_MI2"
      },
      "source": [
        "# Topic 2: Introduction to Python for Data Science"
      ]
    },
    {
      "cell_type": "markdown",
      "metadata": {
        "id": "C5AVOPTR_MI6"
      },
      "source": [
        "## Why do you Need Python for Data Science?"
      ]
    },
    {
      "cell_type": "markdown",
      "metadata": {
        "id": "HJxQ60Q5_MI8"
      },
      "source": [
        "### Improves Work for Everyone"
      ]
    },
    {
      "cell_type": "markdown",
      "metadata": {
        "id": "bCr1WObg_MI8"
      },
      "source": [
        "Widely used top programming language"
      ]
    },
    {
      "cell_type": "markdown",
      "metadata": {
        "id": "_Pq5mE07_MI-"
      },
      "source": [
        "Huge growing ecosystem due to its open source nature"
      ]
    },
    {
      "cell_type": "markdown",
      "metadata": {
        "id": "05JJEhAj_MI_"
      },
      "source": [
        "Almost every industry is on board"
      ]
    },
    {
      "cell_type": "markdown",
      "metadata": {
        "id": "XxGv9Ddv_MJA"
      },
      "source": [
        "### Descriptive Analytics and Dashboards"
      ]
    },
    {
      "cell_type": "markdown",
      "metadata": {
        "id": "GypaQ6Ps_MJB"
      },
      "source": [
        "Exploratory data analysis"
      ]
    },
    {
      "cell_type": "markdown",
      "metadata": {
        "id": "1c4HOjgV_MJC"
      },
      "source": [
        "Manipulation of data"
      ]
    },
    {
      "cell_type": "markdown",
      "metadata": {
        "id": "jct1Wc5Z_MJD"
      },
      "source": [
        "Streamline work flows"
      ]
    },
    {
      "cell_type": "markdown",
      "metadata": {
        "id": "BLZ8--BD_MJE"
      },
      "source": [
        "Creating visualisations/dashboards (i.e. plotly, streamlit)"
      ]
    },
    {
      "cell_type": "markdown",
      "metadata": {
        "id": "YjduvRjX_MJF"
      },
      "source": [
        "![Fig. 1. Example of a dashboard in Python](https://www.dropbox.com/s/ai1rqcz08zpxevl/dashboard.jpg?raw=1)"
      ]
    },
    {
      "cell_type": "markdown",
      "metadata": {
        "id": "hv6PwK-G_MJF"
      },
      "source": [
        "### Machine Learning"
      ]
    },
    {
      "cell_type": "markdown",
      "metadata": {
        "id": "bzht_yiV_MJG"
      },
      "source": [
        "Predicting and classifying new data"
      ]
    },
    {
      "cell_type": "markdown",
      "metadata": {
        "id": "lGwxGDtb_MJG"
      },
      "source": [
        "Recommender systems"
      ]
    },
    {
      "cell_type": "markdown",
      "metadata": {
        "id": "COh9JXjv_MJH"
      },
      "source": [
        "Can work with popular Google machine learning libraries (such as Tesseract and Tensorflow)"
      ]
    },
    {
      "cell_type": "markdown",
      "metadata": {
        "id": "dani4oqi_MJH"
      },
      "source": [
        "### Predictive/Prescriptive Analytics"
      ]
    },
    {
      "cell_type": "markdown",
      "metadata": {
        "id": "sEJpJpWm_MJI"
      },
      "source": [
        "Decision science\n",
        "    - Anticipate what, when and why certain outcome will happen\n",
        "    - What to do with information"
      ]
    },
    {
      "cell_type": "markdown",
      "metadata": {
        "id": "LTtzEZHz_MJJ"
      },
      "source": [
        "Deep learning to optimise outcomes"
      ]
    },
    {
      "cell_type": "markdown",
      "metadata": {
        "id": "6w0GBs10_MJJ"
      },
      "source": [
        "## Some statistics"
      ]
    },
    {
      "cell_type": "markdown",
      "metadata": {
        "id": "JZDHGhh7_MJJ"
      },
      "source": [
        "### Popularity"
      ]
    },
    {
      "cell_type": "markdown",
      "metadata": {
        "id": "HZc1zdhD_MJK"
      },
      "source": [
        "Most popular language according to the [TIOBE](https://www.tiobe.com/tiobe-index/) index"
      ]
    },
    {
      "cell_type": "markdown",
      "metadata": {
        "id": "_GDA1VTX_MJK"
      },
      "source": [
        "TIOBE Software BV was founded on the 1st of October 2000 by Paul Jansen. The company measures software code quality with the goal to achieve a bug-free world through software quality expertise. The name TIOBE stands for “The Importance Of Being Earnest”"
      ]
    },
    {
      "cell_type": "markdown",
      "metadata": {
        "id": "m01hpyNd_MJL"
      },
      "source": [
        "![Fig. 2. TIOBE Index 2025 Table](https://www.dropbox.com/scl/fi/ov0x2sveuvksgyhg16fs7/tiobetable.jpg?rlkey=9y4wcuw71nnm3e8qc7oh3play&raw=1)"
      ]
    },
    {
      "cell_type": "markdown",
      "metadata": {
        "id": "akoEvMwV_MJL"
      },
      "source": [
        "Fastest growing for the current year"
      ]
    },
    {
      "cell_type": "markdown",
      "metadata": {
        "id": "StVJ-b0N_MJL"
      },
      "source": [
        "![Fig. 3a. TIOBE Index 2025 Plot](https://www.dropbox.com/scl/fi/5cwpism11cvgm42bujkna/tiobe.jpg?rlkey=hafhhie6yjr7027vsvej50yc1&raw=1)"
      ]
    },
    {
      "cell_type": "markdown",
      "metadata": {
        "id": "EQcUqNW6_MJM"
      },
      "source": [
        "![Fig. 3b. TIOBE Index 2025 Plot for Python](https://www.dropbox.com/scl/fi/fplrcpd74slrkw1fkeifa/tiobepython.jpg?rlkey=dx7pxquorwbupfl3rxo5sutad&raw=1)"
      ]
    },
    {
      "cell_type": "markdown",
      "metadata": {
        "id": "FwlKu3h5_MJM"
      },
      "source": [
        "According to [Stackoverflow's 2024 survey](https://survey.stackoverflow.co/2024), it is the 3rd most popular programming language in the world!"
      ]
    },
    {
      "cell_type": "markdown",
      "metadata": {
        "id": "behk3huP_MJM"
      },
      "source": [
        "![Fig. 4. Most popular technologies](https://www.dropbox.com/scl/fi/jifpgrsuunzgund5e4xou/stackoverflowmostpopular.jpg?rlkey=a4xzkn6dn00sy2039pgbo580e&raw=1)"
      ]
    },
    {
      "cell_type": "markdown",
      "metadata": {
        "id": "J-m_dSnY_MJN"
      },
      "source": [
        "It is the best ranked language according to the Institute of Electrical and Electronics Engineers [(IEEE)](https://spectrum.ieee.org/the-top-programming-languages-2023)"
      ]
    },
    {
      "cell_type": "markdown",
      "metadata": {
        "id": "k96DezgX_MJN"
      },
      "source": [
        "![Fig. 5. IEEE Ranking 2024](https://www.dropbox.com/scl/fi/n9iu45v6b2w3m7eim4ouc/stats3.jpg?rlkey=5b4q4zp1ctk4k2n3n6edwiupz&raw=1)"
      ]
    },
    {
      "cell_type": "markdown",
      "metadata": {
        "id": "BxxsY2hO_MJN"
      },
      "source": [
        "### Employabilty"
      ]
    },
    {
      "cell_type": "markdown",
      "metadata": {
        "id": "GVTx_ycM_MJO"
      },
      "source": [
        "It is the **27th best** paid language..."
      ]
    },
    {
      "cell_type": "markdown",
      "metadata": {
        "id": "U_Qx6avW_MJP"
      },
      "source": [
        "![Fig. 6a. Salary by programming language](https://www.dropbox.com/scl/fi/5nhk7l6o5ygaxk2ic46se/stackoverflowbestpaid.jpg?rlkey=vysuxh2nz3mazru1pwmkv0qo8&raw=1)"
      ]
    },
    {
      "cell_type": "markdown",
      "metadata": {
        "id": "7BVWOvZf_MJP"
      },
      "source": [
        "...but the most desired..."
      ]
    },
    {
      "cell_type": "markdown",
      "metadata": {
        "id": "WI7A1daX_MJP"
      },
      "source": [
        "![Fig. 6c. Most desired and admired technologies](https://www.dropbox.com/scl/fi/xcy8t59pn4iotvz5f7je4/stackoverflowmostdesired.jpg?rlkey=s5gody805ev3gprzyxt3sm4du&raw=1)"
      ]
    },
    {
      "cell_type": "markdown",
      "metadata": {
        "id": "x0EdmDg0_MJQ"
      },
      "source": [
        "...and one of the fastest ones to adopt (from the [2022 survey](https://survey.stackoverflow.co/2022/))"
      ]
    },
    {
      "cell_type": "markdown",
      "metadata": {
        "id": "HQLjfIUS_MJQ"
      },
      "source": [
        "![Fig. 6b. Salary by programming language w.r.t. years of experience](https://www.dropbox.com/s/si0fqnvcvgp3mex/salarybylanguage.jpg?raw=1)"
      ]
    },
    {
      "cell_type": "markdown",
      "metadata": {
        "id": "w93rUHpk_MJQ"
      },
      "source": [
        "### Reach/Scalability"
      ]
    },
    {
      "cell_type": "markdown",
      "metadata": {
        "id": "69wi0_rE_MJR"
      },
      "source": [
        "Figure from the [2019 survey](https://insights.stackoverflow.com/survey/2019)"
      ]
    },
    {
      "cell_type": "markdown",
      "metadata": {
        "id": "Tb__g8Rt_MJR"
      },
      "source": [
        "![Fig. 7. Interconnectivity of different programming languages, IDEs and environments (2019 Survey)](https://www.dropbox.com/s/gmb37cs1ty7j4ji/graph.jpg?raw=1)"
      ]
    },
    {
      "cell_type": "markdown",
      "metadata": {
        "id": "N7Q_JdDm_MJR"
      },
      "source": [
        "## Fundamentals of Programming\n",
        "How do we define Python?"
      ]
    },
    {
      "cell_type": "markdown",
      "metadata": {
        "id": "hkAip6np_MJS"
      },
      "source": [
        "### Levels of Programming Languages\n",
        "![Fig. 8. Types of programming languages](https://www.dropbox.com/s/zgnryvnslnpw2qf/proglangtypes.jpg?raw=1)\n",
        "[Source](http://4.bp.blogspot.com/-NvijJmjC13I/TmIbqlKKl8I/AAAAAAAAA3Q/mK4Nmy43en8/s1600/Untitled-1+%25281%2529.jpg)"
      ]
    },
    {
      "cell_type": "markdown",
      "metadata": {
        "id": "dI3-4T0m_MJS"
      },
      "source": [
        "#### Advantages of High-level Programming Languages"
      ]
    },
    {
      "cell_type": "markdown",
      "metadata": {
        "id": "SsaoUFAN_MJT"
      },
      "source": [
        "Programmer friendly"
      ]
    },
    {
      "cell_type": "markdown",
      "metadata": {
        "id": "1Kz0a3_0_MJT"
      },
      "source": [
        "Easy to write, debug and maintain"
      ]
    },
    {
      "cell_type": "markdown",
      "metadata": {
        "id": "r5SFI2O7_MJT"
      },
      "source": [
        "Provide higher level of abstraction from machine languages"
      ]
    },
    {
      "cell_type": "markdown",
      "metadata": {
        "id": "doAD63oH_MJU"
      },
      "source": [
        "Machine independent language"
      ]
    },
    {
      "cell_type": "markdown",
      "metadata": {
        "id": "IAv1yYm8_MJU"
      },
      "source": [
        "Easy to learn"
      ]
    },
    {
      "cell_type": "markdown",
      "metadata": {
        "id": "WycLPklZ_MJV"
      },
      "source": [
        "Less error prone"
      ]
    },
    {
      "cell_type": "markdown",
      "metadata": {
        "id": "ntRC5zOL_MJV"
      },
      "source": [
        "#### Disadvantages of High-level Programming Languages"
      ]
    },
    {
      "cell_type": "markdown",
      "metadata": {
        "id": "IJs_6rIF_MJV"
      },
      "source": [
        "Slower (takes additional time to translate)"
      ]
    },
    {
      "cell_type": "markdown",
      "metadata": {
        "id": "s2kglxMB_MJW"
      },
      "source": [
        "Less memory efficient"
      ]
    },
    {
      "cell_type": "markdown",
      "metadata": {
        "id": "510uML_t_MJW"
      },
      "source": [
        "Cannot directly communicate with the hardware"
      ]
    },
    {
      "cell_type": "markdown",
      "metadata": {
        "id": "fAB4x45j_MJW"
      },
      "source": [
        "[Some literature](https://www.tutorialandexample.com/middle-level-language/) considers Java/C/C++ as *middle*-level languages due to their capacity of abstraction"
      ]
    },
    {
      "cell_type": "markdown",
      "metadata": {
        "id": "siAONOo5_MJW"
      },
      "source": [
        "![Fig. 9. Languages](https://www.dropbox.com/s/abzi00kp6z7s0b0/middle-level-language.jpg?raw=1)"
      ]
    },
    {
      "cell_type": "markdown",
      "metadata": {
        "id": "zOEG14x3_MJW"
      },
      "source": [
        "### Translation of Operations: Compiled vs Interpreted Programming Languages"
      ]
    },
    {
      "cell_type": "markdown",
      "metadata": {
        "id": "ZUS2PAOv_MJX"
      },
      "source": [
        "#### Compiled Languages"
      ]
    },
    {
      "cell_type": "markdown",
      "metadata": {
        "id": "cdWnXVGX_MJX"
      },
      "source": [
        "The high-level source code is translated to machine code using a compiler"
      ]
    },
    {
      "cell_type": "markdown",
      "metadata": {
        "id": "x_UMUTv1_MJX"
      },
      "source": [
        "An addition + gets directly translated to the ADD instruction in the machine code"
      ]
    },
    {
      "cell_type": "markdown",
      "metadata": {
        "id": "AOLC1cG1_MJX"
      },
      "source": [
        "Examples: C, Fortran, COBOL, C++, and Java (bytecode)"
      ]
    },
    {
      "cell_type": "markdown",
      "metadata": {
        "id": "-6kf-qXm_MJY"
      },
      "source": [
        "##### Advantages of Compiled Languages"
      ]
    },
    {
      "cell_type": "markdown",
      "metadata": {
        "id": "nawY6lNQ_MJY"
      },
      "source": [
        "Ready to run"
      ]
    },
    {
      "cell_type": "markdown",
      "metadata": {
        "id": "si0IIfMI_MJY"
      },
      "source": [
        "Often faster"
      ]
    },
    {
      "cell_type": "markdown",
      "metadata": {
        "id": "vppQ-j-5_MJY"
      },
      "source": [
        "Source code is kept private"
      ]
    },
    {
      "cell_type": "markdown",
      "metadata": {
        "id": "_LR5N05X_MJZ"
      },
      "source": [
        "#### Interpreted Languages"
      ]
    },
    {
      "cell_type": "markdown",
      "metadata": {
        "id": "L41q_lzm_MJZ"
      },
      "source": [
        "Instructions are not directly executed, but read by another program"
      ]
    },
    {
      "cell_type": "markdown",
      "metadata": {
        "id": "RLfhYfqD_MJZ"
      },
      "source": [
        "Instructions run freely without the need to compile them first!"
      ]
    },
    {
      "cell_type": "markdown",
      "metadata": {
        "id": "ZT9x60-h_MJZ"
      },
      "source": [
        "Examples: JavaScript, Perl, R, *Python*"
      ]
    },
    {
      "cell_type": "markdown",
      "metadata": {
        "id": "uOJLIhIG_MJZ"
      },
      "source": [
        "##### Advantages of Interpreted Languages"
      ]
    },
    {
      "cell_type": "markdown",
      "metadata": {
        "id": "bW-XYwD-_MJa"
      },
      "source": [
        "Cross-platform (portability)"
      ]
    },
    {
      "cell_type": "markdown",
      "metadata": {
        "id": "jY6LB951_MJa"
      },
      "source": [
        "Simpler to test"
      ]
    },
    {
      "cell_type": "markdown",
      "metadata": {
        "id": "KvU17JbY_MJa"
      },
      "source": [
        "Display error as each instruction is run"
      ]
    },
    {
      "cell_type": "markdown",
      "metadata": {
        "id": "Il-PblZY_MJb"
      },
      "source": [
        "![Fig. 10. Difference between compiled and interpreted programming languages](https://www.dropbox.com/s/31cnw6n1mmrv04h/compiledinterpreted.jpg?raw=1)\n",
        "[Source](https://www.google.com/url?sa=i&rct=j&q=&esrc=s&source=images&cd=&cad=rja&uact=8&ved=2ahUKEwichoGF1KXkAhVOdhoKHebmAJwQjRx6BAgBEAQ&url=%2Furl%3Fsa%3Di%26rct%3Dj%26q%3D%26esrc%3Ds%26source%3Dimages%26cd%3D%26ved%3D%26url%3Dhttps%253A%252F%252Fmedium.com%252Ffrom-the-scratch%252Fstop-it-there-are-no-compiled-and-interpreted-languages-512f84756664%26psig%3DAOvVaw0CqS9Nmdo4wbc9J-p4WtL-%26ust%3D1567083827896505&psig=AOvVaw0CqS9Nmdo4wbc9J-p4WtL-&ust=1567083827896505)"
      ]
    },
    {
      "cell_type": "markdown",
      "metadata": {
        "id": "TmrVEvwx_MJb"
      },
      "source": [
        "### Typing: Static vs Dynamic Programming Languages"
      ]
    },
    {
      "cell_type": "markdown",
      "metadata": {
        "id": "7b7-avJN_MJb"
      },
      "source": [
        "Static is designed to optimise *hardware* efficiency"
      ]
    },
    {
      "cell_type": "markdown",
      "metadata": {
        "id": "7yvn2kV6_MJb"
      },
      "source": [
        "Dynamic is designed to optimise *programming* efficiency so that less code is used"
      ]
    },
    {
      "cell_type": "markdown",
      "metadata": {
        "id": "Zpu-gMMU_MJb"
      },
      "source": [
        "In fact, dynamic languages are written using a static one!\n",
        "    - Python is written in C!"
      ]
    },
    {
      "cell_type": "markdown",
      "metadata": {
        "id": "EUMpYz0G_MJc"
      },
      "source": [
        "### So What is Python?"
      ]
    },
    {
      "cell_type": "markdown",
      "metadata": {
        "id": "UopxWo8c_MJc"
      },
      "source": [
        "A widely used **high-level**, **interpreted**, and **dynamic** programming language"
      ]
    },
    {
      "cell_type": "markdown",
      "metadata": {
        "id": "nMKYsM_s_MJc"
      },
      "source": [
        "Emphasizes code readability"
      ]
    },
    {
      "cell_type": "markdown",
      "metadata": {
        "id": "4rzh8lC2_MJc"
      },
      "source": [
        "Its syntax allows programmers to express concepts in fewer lines of code"
      ]
    },
    {
      "cell_type": "markdown",
      "metadata": {
        "id": "y19F87QF_MJc"
      },
      "source": [
        "Similar in syntax and purpose to R and Matlab"
      ]
    },
    {
      "cell_type": "markdown",
      "metadata": {
        "id": "Y3PRi0Fd_MJd"
      },
      "source": [
        "![Fig. 11. How to write an essay according to different programming languages!](https://www.dropbox.com/s/qeul7bjpljres1i/programminglanguages.jpg?raw=1)"
      ]
    },
    {
      "cell_type": "markdown",
      "metadata": {
        "id": "6qxiwrnT_MJd"
      },
      "source": [
        "# Installing Python"
      ]
    },
    {
      "cell_type": "markdown",
      "metadata": {
        "id": "bmTE1OeB_MJd"
      },
      "source": [
        "### The long and hard way\n",
        "\n",
        "1. Install Python (https://www.python.org).\n",
        "2. Install a Python Integrated Development Environment (IDE) such as IDLE (available when installing Python), Pycharm (https://www.jetbrains.com/pycharm/) or Spyder (https://pypi.org/project/spyder/).\n",
        "3. Install Jupyter Notebook (http://jupyter.org/)."
      ]
    },
    {
      "cell_type": "markdown",
      "metadata": {
        "id": "ORLI-2nW_MJd"
      },
      "source": [
        "## The fast way: [Anaconda Navigator](https://www.anaconda.com/download/)\n",
        "\n",
        "![Fig. 12. Anaconda](https://www.dropbox.com/s/q1nkj5xrqz5qhrj/anaconda.jpg?raw=1)"
      ]
    },
    {
      "cell_type": "markdown",
      "metadata": {
        "id": "AuYRabYo_MJd"
      },
      "source": [
        "# How Does Python Look Like?"
      ]
    },
    {
      "cell_type": "markdown",
      "metadata": {
        "id": "U8uvRtrV_MJe"
      },
      "source": [
        "In its most simplistic state, Python acts like a calculator. You simply write one calculation, and Python gives you the answer!"
      ]
    },
    {
      "cell_type": "code",
      "execution_count": null,
      "metadata": {
        "id": "5ErEGuLT_MJe",
        "outputId": "9d39cf40-0f17-4098-9fae-2a39f6817727"
      },
      "outputs": [
        {
          "data": {
            "text/plain": [
              "2"
            ]
          },
          "execution_count": 1,
          "metadata": {},
          "output_type": "execute_result"
        }
      ],
      "source": [
        "1+1"
      ]
    },
    {
      "cell_type": "markdown",
      "metadata": {
        "id": "4vNWOWeQ_MJf"
      },
      "source": [
        "Moreover, you can also do some coding!"
      ]
    },
    {
      "cell_type": "code",
      "execution_count": null,
      "metadata": {
        "id": "zLe8XxpJ_MJf",
        "outputId": "5af9082f-e87e-4ddb-ec70-ec987d62fa62"
      },
      "outputs": [
        {
          "name": "stdout",
          "output_type": "stream",
          "text": [
            "0\n",
            "1\n",
            "2\n",
            "3\n",
            "4\n",
            "5\n",
            "6\n",
            "7\n",
            "8\n",
            "9\n"
          ]
        }
      ],
      "source": [
        "for i in range(10):\n",
        "    print(i)"
      ]
    },
    {
      "cell_type": "markdown",
      "metadata": {
        "id": "_0CE8oAw_MJf"
      },
      "source": [
        "Notice the simplicity of the Python syntax, in the sense that we do not need to define classes or use a complex and strict structure of parenthesis!"
      ]
    },
    {
      "cell_type": "markdown",
      "metadata": {
        "id": "J2oUUoCP_MJf"
      },
      "source": [
        "In this course we will use Jupyter Notebook not only for lectures, but also for laboratory activities and to code/present the coursework."
      ]
    },
    {
      "cell_type": "markdown",
      "metadata": {
        "id": "pnM_Geiv_MJg"
      },
      "source": [
        "## Data Types and Data Structures"
      ]
    },
    {
      "cell_type": "markdown",
      "metadata": {
        "id": "gKV81FR0_MJg"
      },
      "source": [
        "Python contains a pre-defined set of **classes** which can contain certain data types or data structures"
      ]
    },
    {
      "cell_type": "markdown",
      "metadata": {
        "id": "-Qspuzdz_MJg"
      },
      "source": [
        "Instead of defining objects/variables/classes/constructors, one may simply type a number and Python will assume the type of this value"
      ]
    },
    {
      "cell_type": "code",
      "execution_count": null,
      "metadata": {
        "id": "7Pk81o94_MJg",
        "outputId": "555605c7-032b-428c-9beb-90278bf57f28"
      },
      "outputs": [
        {
          "data": {
            "text/plain": [
              "int"
            ]
          },
          "execution_count": 3,
          "metadata": {},
          "output_type": "execute_result"
        }
      ],
      "source": [
        "## Type anything and then run the cell to see if Python recognises the object\n",
        "type(1)"
      ]
    },
    {
      "cell_type": "markdown",
      "metadata": {
        "id": "5Lps6gQw_MJi"
      },
      "source": [
        "### Numerical Data Types"
      ]
    },
    {
      "cell_type": "markdown",
      "metadata": {
        "id": "yZhPIySc_MJi"
      },
      "source": [
        "    * Integers\n",
        "    * Float\n",
        "    * Booleans\n",
        "    * Hex\n",
        "    * Oct\n",
        "    * Complex\n",
        "    * and many more to import..."
      ]
    },
    {
      "cell_type": "markdown",
      "metadata": {
        "id": "OzwsD3Hz_MJj"
      },
      "source": [
        "#### Integers"
      ]
    },
    {
      "cell_type": "markdown",
      "metadata": {
        "id": "QY2UUomh_MJj"
      },
      "source": [
        "The most basic data type in Python"
      ]
    },
    {
      "cell_type": "markdown",
      "metadata": {
        "id": "7YdfjPpo_MJj"
      },
      "source": [
        "A number by default is an integer if no decimal value is specified"
      ]
    },
    {
      "cell_type": "markdown",
      "metadata": {
        "id": "5N_uAZlO_MJj"
      },
      "source": [
        "The `type()` **function** can be used to discover the type of a variable or a number"
      ]
    },
    {
      "cell_type": "markdown",
      "metadata": {
        "id": "EsUkjoXa_MJk"
      },
      "source": [
        "You can use comparison operators to evaluate integer values"
      ]
    },
    {
      "cell_type": "code",
      "execution_count": null,
      "metadata": {
        "id": "yhjKKuHW_MJk",
        "outputId": "4d76a85d-8349-4a48-dcc6-ae129275c9b9"
      },
      "outputs": [
        {
          "data": {
            "text/plain": [
              "int"
            ]
          },
          "execution_count": 4,
          "metadata": {},
          "output_type": "execute_result"
        }
      ],
      "source": [
        "type(3)"
      ]
    },
    {
      "cell_type": "code",
      "execution_count": null,
      "metadata": {
        "id": "gcrj_yaf_MJk",
        "outputId": "52909857-2a77-4608-b48d-162aacadb6f2"
      },
      "outputs": [
        {
          "data": {
            "text/plain": [
              "200000"
            ]
          },
          "execution_count": 5,
          "metadata": {},
          "output_type": "execute_result"
        }
      ],
      "source": [
        "## Writing exponential numbers\n",
        "int(2e5)"
      ]
    },
    {
      "cell_type": "code",
      "execution_count": null,
      "metadata": {
        "id": "b62OggLe_MJl",
        "outputId": "3c0cfccb-fe9c-4f4f-bb99-55be23e95fab"
      },
      "outputs": [
        {
          "name": "stdout",
          "output_type": "stream",
          "text": [
            "<class 'int'>\n"
          ]
        }
      ],
      "source": [
        "x=3\n",
        "print(type(x))"
      ]
    },
    {
      "cell_type": "code",
      "execution_count": null,
      "metadata": {
        "id": "Z4ZmZBYP_MJl",
        "outputId": "bf668386-2ffb-4da7-a24c-1c3ff65594e9"
      },
      "outputs": [
        {
          "data": {
            "text/plain": [
              "False"
            ]
          },
          "execution_count": 7,
          "metadata": {},
          "output_type": "execute_result"
        }
      ],
      "source": [
        "# See if two ints are equal\n",
        "3==5"
      ]
    },
    {
      "cell_type": "code",
      "execution_count": null,
      "metadata": {
        "id": "EJSAQlj9_MJl",
        "outputId": "6ac72faa-021e-4ee4-e485-c4e03b5b7645"
      },
      "outputs": [
        {
          "data": {
            "text/plain": [
              "True"
            ]
          },
          "execution_count": 8,
          "metadata": {},
          "output_type": "execute_result"
        }
      ],
      "source": [
        "# See if two ints are not equal\n",
        "3!=5"
      ]
    },
    {
      "cell_type": "code",
      "execution_count": null,
      "metadata": {
        "id": "cOhWJjYs_MJm",
        "outputId": "291b40ca-6f20-489f-c55d-e83eaa9cce91"
      },
      "outputs": [
        {
          "data": {
            "text/plain": [
              "True"
            ]
          },
          "execution_count": 9,
          "metadata": {},
          "output_type": "execute_result"
        }
      ],
      "source": [
        "# See if a number is smaller than another\n",
        "3<5"
      ]
    },
    {
      "cell_type": "code",
      "execution_count": null,
      "metadata": {
        "id": "t_lgGBd1_MJm",
        "outputId": "72cea7d9-60f2-41ee-e475-68d03176bea1"
      },
      "outputs": [
        {
          "data": {
            "text/plain": [
              "True"
            ]
          },
          "execution_count": 10,
          "metadata": {},
          "output_type": "execute_result"
        }
      ],
      "source": [
        "# See if a number is smaller or equal to another\n",
        "3<=5"
      ]
    },
    {
      "cell_type": "code",
      "execution_count": null,
      "metadata": {
        "id": "32k9ijpo_MJn",
        "outputId": "f48787d5-bb9e-45c2-db21-712906085cba"
      },
      "outputs": [
        {
          "data": {
            "text/plain": [
              "False"
            ]
          },
          "execution_count": 11,
          "metadata": {},
          "output_type": "execute_result"
        }
      ],
      "source": [
        "# See if a number is larger than another\n",
        "3>5"
      ]
    },
    {
      "cell_type": "code",
      "execution_count": null,
      "metadata": {
        "id": "rz5J2lLJ_MJn",
        "outputId": "af22513e-378c-4bc1-ba84-0634a5c11b10"
      },
      "outputs": [
        {
          "data": {
            "text/plain": [
              "False"
            ]
          },
          "execution_count": 12,
          "metadata": {},
          "output_type": "execute_result"
        }
      ],
      "source": [
        "# See if a number is larger or equal to another\n",
        "3>=5"
      ]
    },
    {
      "cell_type": "markdown",
      "metadata": {
        "id": "9yCmXnmW_MJn"
      },
      "source": [
        "#### Booleans (logical operators)"
      ]
    },
    {
      "cell_type": "code",
      "execution_count": null,
      "metadata": {
        "id": "c-WUVEG3_MJn",
        "outputId": "d78e5be3-cf9d-4c14-bf56-b2d83ae418a7"
      },
      "outputs": [
        {
          "data": {
            "text/plain": [
              "bool"
            ]
          },
          "execution_count": 13,
          "metadata": {},
          "output_type": "execute_result"
        }
      ],
      "source": [
        "type(False)"
      ]
    },
    {
      "cell_type": "code",
      "execution_count": null,
      "metadata": {
        "id": "-eWiSflL_MJn",
        "outputId": "1302e591-2d31-4812-c61f-686fe6be04e0"
      },
      "outputs": [
        {
          "name": "stdout",
          "output_type": "stream",
          "text": [
            "<class 'bool'>\n"
          ]
        }
      ],
      "source": [
        "z = True\n",
        "print(type(z))"
      ]
    },
    {
      "cell_type": "markdown",
      "metadata": {
        "id": "KewyIqBv_MJn"
      },
      "source": [
        "#### Float"
      ]
    },
    {
      "cell_type": "markdown",
      "metadata": {
        "id": "i2bNspOe_MJn"
      },
      "source": [
        "Is how we call decimals in Python"
      ]
    },
    {
      "cell_type": "markdown",
      "metadata": {
        "id": "aHD6sjHl_MJn"
      },
      "source": [
        "Up to 15 decimal places"
      ]
    },
    {
      "cell_type": "code",
      "execution_count": null,
      "metadata": {
        "id": "Ua_wLccq_MJn"
      },
      "outputs": [],
      "source": [
        "y=6.912897398127847"
      ]
    },
    {
      "cell_type": "code",
      "execution_count": null,
      "metadata": {
        "id": "XHvlht_O_MJo",
        "outputId": "12fb8b8e-f29c-416f-ed60-e97b874d7c4d"
      },
      "outputs": [
        {
          "name": "stdout",
          "output_type": "stream",
          "text": [
            "6.912897398127847\n"
          ]
        }
      ],
      "source": [
        "print(y)"
      ]
    },
    {
      "cell_type": "code",
      "execution_count": null,
      "metadata": {
        "id": "O_BRGGYK_MJo",
        "outputId": "a6231c7e-eb19-46ef-991b-6717bc3e0f5f"
      },
      "outputs": [
        {
          "data": {
            "text/plain": [
              "7.078934923689474"
            ]
          },
          "execution_count": 17,
          "metadata": {},
          "output_type": "execute_result"
        }
      ],
      "source": [
        "# If more than 15 decimal places are used, python truncates\n",
        "7.0789349236894739847398972348974238947"
      ]
    },
    {
      "cell_type": "code",
      "execution_count": null,
      "metadata": {
        "id": "mnb_Ov4u_MJo",
        "outputId": "027d6d0a-405a-4ada-d712-20922c996063"
      },
      "outputs": [
        {
          "data": {
            "text/plain": [
              "False"
            ]
          },
          "execution_count": 18,
          "metadata": {},
          "output_type": "execute_result"
        }
      ],
      "source": [
        "# We can also compare floats, but funny things may happen!\n",
        "1.1+2.2==3.3"
      ]
    },
    {
      "cell_type": "markdown",
      "metadata": {
        "id": "x_lijIRd_MJo"
      },
      "source": [
        "Do you know why?"
      ]
    },
    {
      "cell_type": "markdown",
      "metadata": {
        "id": "IHGHS87g_MJp"
      },
      "source": [
        "![Fig. 13. Prove you are a robot!](https://www.dropbox.com/s/w9u524mgaezmxur/robot.jpg?raw=1)"
      ]
    },
    {
      "cell_type": "markdown",
      "metadata": {
        "id": "5wxzaL9B_MJp"
      },
      "source": [
        "#### The `isinstance()` function"
      ]
    },
    {
      "cell_type": "code",
      "execution_count": null,
      "metadata": {
        "id": "YtmL9soi_MJp",
        "outputId": "6302727a-e6a9-488b-b309-138a2c6fb1ec"
      },
      "outputs": [
        {
          "data": {
            "text/plain": [
              "False"
            ]
          },
          "execution_count": 19,
          "metadata": {},
          "output_type": "execute_result"
        }
      ],
      "source": [
        "isinstance(x,float)"
      ]
    },
    {
      "cell_type": "code",
      "execution_count": null,
      "metadata": {
        "id": "0mFm197K_MJp",
        "outputId": "a3934b79-bd59-4923-d8ee-fe802438c585"
      },
      "outputs": [
        {
          "data": {
            "text/plain": [
              "False"
            ]
          },
          "execution_count": 20,
          "metadata": {},
          "output_type": "execute_result"
        }
      ],
      "source": [
        "isinstance(y,int)"
      ]
    },
    {
      "cell_type": "markdown",
      "metadata": {
        "id": "lMzpM8pR_MJp"
      },
      "source": [
        "You can also work with complex, binary, octal and hexadecimal numbers in Python."
      ]
    },
    {
      "cell_type": "markdown",
      "metadata": {
        "id": "-2ie59_5_MJq"
      },
      "source": [
        "#### Strings"
      ]
    },
    {
      "cell_type": "code",
      "execution_count": null,
      "metadata": {
        "id": "kZ7tTQBE_MJq",
        "outputId": "8fd6bbe7-b8d8-454a-caf3-99733b9d9f87"
      },
      "outputs": [
        {
          "name": "stdout",
          "output_type": "stream",
          "text": [
            "Hello world\n"
          ]
        }
      ],
      "source": [
        "# What happens if I want to write the string \"don't\"?\n",
        "a = 'Hello world'\n",
        "print(a)"
      ]
    },
    {
      "cell_type": "code",
      "execution_count": null,
      "metadata": {
        "id": "CWjvlZMX_MJq",
        "outputId": "82f620e9-40a1-49cc-bfc7-90045028f56a"
      },
      "outputs": [
        {
          "name": "stdout",
          "output_type": "stream",
          "text": [
            "True\n"
          ]
        }
      ],
      "source": [
        "# A boolean inside quotations becomes a string\n",
        "b = \"True\"\n",
        "print(b)"
      ]
    },
    {
      "cell_type": "code",
      "execution_count": null,
      "metadata": {
        "id": "t0a4GwDQ_MJq",
        "outputId": "0642f56f-a67c-4164-e318-1cb9977d54a3"
      },
      "outputs": [
        {
          "data": {
            "text/plain": [
              "str"
            ]
          },
          "execution_count": 23,
          "metadata": {},
          "output_type": "execute_result"
        }
      ],
      "source": [
        "# Any number inside quotations becomes a string\n",
        "c = \"45\"\n",
        "type(c)"
      ]
    },
    {
      "cell_type": "code",
      "execution_count": null,
      "metadata": {
        "id": "4nTOm9jJ_MJq",
        "outputId": "6a5ed2d0-a115-4c3e-a8a1-745da9ed6b66"
      },
      "outputs": [
        {
          "name": "stdout",
          "output_type": "stream",
          "text": [
            "<class 'str'> <class 'str'> <class 'str'>\n"
          ]
        }
      ],
      "source": [
        "print(type(a),type(b),type(c))"
      ]
    },
    {
      "cell_type": "markdown",
      "metadata": {
        "id": "Ma0B1dEl_MJr"
      },
      "source": [
        "### Conversion Functions"
      ]
    },
    {
      "cell_type": "markdown",
      "metadata": {
        "id": "ODJBwM_D_MJr"
      },
      "source": [
        "![Fig. 14. Conversion Functions](https://www.dropbox.com/s/77jrypjzpdpegkn/cf.jpg?raw=1)"
      ]
    },
    {
      "cell_type": "code",
      "execution_count": null,
      "metadata": {
        "id": "qVjatlLD_MJr",
        "outputId": "1bf703ec-2310-4fb6-f2ea-f6793ba849ed"
      },
      "outputs": [
        {
          "data": {
            "text/plain": [
              "7"
            ]
          },
          "execution_count": 25,
          "metadata": {},
          "output_type": "execute_result"
        }
      ],
      "source": [
        "# the int() function can convert any number into an integer.\n",
        "# Mostly used to truncate floats\n",
        "int(7.8)"
      ]
    },
    {
      "cell_type": "code",
      "execution_count": null,
      "metadata": {
        "id": "Vu2PCZ3s_MJs",
        "outputId": "e3d1a153-bf7f-410c-8cff-499b8b65dbed"
      },
      "outputs": [
        {
          "data": {
            "text/plain": [
              "1"
            ]
          },
          "execution_count": 26,
          "metadata": {},
          "output_type": "execute_result"
        }
      ],
      "source": [
        "# Converting booleans into ints\n",
        "int(True)"
      ]
    },
    {
      "cell_type": "code",
      "execution_count": null,
      "metadata": {
        "id": "hSYZxc1T_MJs",
        "outputId": "94819c9c-d89f-4cc7-dcfd-885c41b7b19a"
      },
      "outputs": [
        {
          "data": {
            "text/plain": [
              "9.0"
            ]
          },
          "execution_count": 27,
          "metadata": {},
          "output_type": "execute_result"
        }
      ],
      "source": [
        "# float function adds a 0 decimal to an int\n",
        "float(9)"
      ]
    },
    {
      "cell_type": "code",
      "execution_count": null,
      "metadata": {
        "id": "WP090GhM_MJs",
        "outputId": "fc11e92e-d1fa-4089-da5c-8729159ec550"
      },
      "outputs": [
        {
          "data": {
            "text/plain": [
              "True"
            ]
          },
          "execution_count": 28,
          "metadata": {},
          "output_type": "execute_result"
        }
      ],
      "source": [
        "# bool() turns any number to TRUE (other than 0)\n",
        "bool(0.1)"
      ]
    },
    {
      "cell_type": "code",
      "execution_count": null,
      "metadata": {
        "id": "pFoKk9ow_MJs",
        "outputId": "2bb26c9d-4294-44c5-a346-6e4732d814a5"
      },
      "outputs": [
        {
          "data": {
            "text/plain": [
              "False"
            ]
          },
          "execution_count": 29,
          "metadata": {},
          "output_type": "execute_result"
        }
      ],
      "source": [
        "bool(0)"
      ]
    },
    {
      "cell_type": "markdown",
      "metadata": {
        "id": "PldtSAvD_MJt"
      },
      "source": [
        "# Data Structures"
      ]
    },
    {
      "cell_type": "markdown",
      "metadata": {
        "id": "fl-LNCVD_MJt"
      },
      "source": [
        "![Fig. 15. Python Data Structures](https://www.dropbox.com/s/c6uk6ptsnb7x83i/ds.jpg?raw=1)"
      ]
    },
    {
      "cell_type": "markdown",
      "metadata": {
        "id": "DBPtc8tI_MJt"
      },
      "source": [
        "### Tuples"
      ]
    },
    {
      "cell_type": "markdown",
      "metadata": {
        "id": "DOkGiHy5_MJt"
      },
      "source": [
        "**IMMUTABLE** collection of elements"
      ]
    },
    {
      "cell_type": "markdown",
      "metadata": {
        "id": "fIDS93Hu_MJt"
      },
      "source": [
        "Defined using parenthesis and separating elements with commas"
      ]
    },
    {
      "cell_type": "markdown",
      "metadata": {
        "id": "rW6PQyIZ_MJu"
      },
      "source": [
        "Not all elements in a tuple have to be of the same type"
      ]
    },
    {
      "cell_type": "code",
      "execution_count": null,
      "metadata": {
        "id": "CPJaDFd6_MJu",
        "outputId": "3bcc2e59-67ce-4897-fd04-02788c97a904"
      },
      "outputs": [
        {
          "data": {
            "text/plain": [
              "(1, 2, 3)"
            ]
          },
          "execution_count": 30,
          "metadata": {},
          "output_type": "execute_result"
        }
      ],
      "source": [
        "tuple1 = (1,2,3)\n",
        "tuple1"
      ]
    },
    {
      "cell_type": "code",
      "execution_count": null,
      "metadata": {
        "id": "rZ_WYRep_MJu",
        "outputId": "1624c617-af53-4ea3-d727-839a25d5d1a1"
      },
      "outputs": [
        {
          "data": {
            "text/plain": [
              "(1, 'g', 4.4, True)"
            ]
          },
          "execution_count": 31,
          "metadata": {},
          "output_type": "execute_result"
        }
      ],
      "source": [
        "tuple2 = (1,'g',4.4,True)\n",
        "tuple2"
      ]
    },
    {
      "cell_type": "markdown",
      "metadata": {
        "id": "YUOsk_bM_MJu"
      },
      "source": [
        "### Lists"
      ]
    },
    {
      "cell_type": "markdown",
      "metadata": {
        "id": "hxfgnxwW_MJu"
      },
      "source": [
        "**MUTABLE** collection of elements"
      ]
    },
    {
      "cell_type": "markdown",
      "metadata": {
        "id": "ygmgAGKC_MJv"
      },
      "source": [
        "Defined using squared brackets and separating elements with commas"
      ]
    },
    {
      "cell_type": "markdown",
      "metadata": {
        "id": "3BgcB5ju_MJv"
      },
      "source": [
        "Not all elements in a list have to be of the same type"
      ]
    },
    {
      "cell_type": "code",
      "execution_count": null,
      "metadata": {
        "id": "ccNteLPb_MJv",
        "outputId": "5ee42e52-413a-4ef7-921d-0a143b60f20d"
      },
      "outputs": [
        {
          "data": {
            "text/plain": [
              "[1, 2, 3]"
            ]
          },
          "execution_count": 32,
          "metadata": {},
          "output_type": "execute_result"
        }
      ],
      "source": [
        "list1 = [1,2,3]\n",
        "list1"
      ]
    },
    {
      "cell_type": "code",
      "execution_count": null,
      "metadata": {
        "id": "4rMr8sO4_MJv",
        "outputId": "2041423b-a251-4309-e25d-408966313c64"
      },
      "outputs": [
        {
          "data": {
            "text/plain": [
              "[1, 'g', 4.4, True]"
            ]
          },
          "execution_count": 33,
          "metadata": {},
          "output_type": "execute_result"
        }
      ],
      "source": [
        "list2 = [1,'g',4.4,True]\n",
        "list2"
      ]
    },
    {
      "cell_type": "markdown",
      "metadata": {
        "id": "Y2BVN2mR_MJv"
      },
      "source": [
        "Why do we need two very similar structures such as tuples and lists?"
      ]
    },
    {
      "cell_type": "markdown",
      "metadata": {
        "id": "ITzgR6In_MJv"
      },
      "source": [
        "### The `len()` function"
      ]
    },
    {
      "cell_type": "code",
      "execution_count": null,
      "metadata": {
        "id": "HDnnz5A0_MJv",
        "outputId": "b29405e7-baed-49cc-e419-575145a52bb6"
      },
      "outputs": [
        {
          "data": {
            "text/plain": [
              "3"
            ]
          },
          "execution_count": 34,
          "metadata": {},
          "output_type": "execute_result"
        }
      ],
      "source": [
        "len(tuple1)"
      ]
    },
    {
      "cell_type": "code",
      "execution_count": null,
      "metadata": {
        "id": "33SZI1Mu_MJw",
        "outputId": "c012cecb-2e32-42bd-d918-75ef08b77487"
      },
      "outputs": [
        {
          "data": {
            "text/plain": [
              "4"
            ]
          },
          "execution_count": 35,
          "metadata": {},
          "output_type": "execute_result"
        }
      ],
      "source": [
        "len(list2)"
      ]
    },
    {
      "cell_type": "markdown",
      "metadata": {
        "id": "BlvhtKOd_MJw"
      },
      "source": [
        "### Accessing an element in a tuple/list"
      ]
    },
    {
      "cell_type": "markdown",
      "metadata": {
        "id": "G5ty9gVb_MJw"
      },
      "source": [
        "We can access to all positions in a tuple/list by using squared brackets **after** the tuple/list"
      ]
    },
    {
      "cell_type": "markdown",
      "metadata": {
        "id": "KzkGDvNZ_MJw"
      },
      "source": [
        "**Indexes in Python begin in 0!**"
      ]
    },
    {
      "cell_type": "code",
      "execution_count": null,
      "metadata": {
        "id": "k3hB4-8R_MJw",
        "outputId": "94c9a11a-bcec-40cd-bd1c-390f7bea3843"
      },
      "outputs": [
        {
          "data": {
            "text/plain": [
              "1"
            ]
          },
          "execution_count": 36,
          "metadata": {},
          "output_type": "execute_result"
        }
      ],
      "source": [
        "# Access the first element of list1\n",
        "list1[0]"
      ]
    },
    {
      "cell_type": "code",
      "execution_count": null,
      "metadata": {
        "id": "tunZU1lt_MJw",
        "outputId": "08957b05-273d-4957-e551-0504a018b0d0"
      },
      "outputs": [
        {
          "name": "stdout",
          "output_type": "stream",
          "text": [
            "(1, 'g', 4.4, True)\n"
          ]
        },
        {
          "data": {
            "text/plain": [
              "'g'"
            ]
          },
          "execution_count": 37,
          "metadata": {},
          "output_type": "execute_result"
        }
      ],
      "source": [
        "print(tuple2)\n",
        "# Access the second element of tuple2\n",
        "tuple2[1]"
      ]
    },
    {
      "cell_type": "markdown",
      "metadata": {
        "id": "w5ZLO-qA_MJw"
      },
      "source": [
        "## LAB 2: Getting Familiar with Python & Jupyter Notebook"
      ]
    },
    {
      "cell_type": "markdown",
      "metadata": {
        "id": "jSpHFwEY_MJ1"
      },
      "source": [
        "Help with Python and/or Jupyter Notebook queries"
      ]
    },
    {
      "cell_type": "markdown",
      "metadata": {
        "id": "ur1pzpry_MJ1"
      },
      "source": [
        "You can also do more Datacamp and/or LinkedIn courses!"
      ]
    }
  ],
  "metadata": {
    "celltoolbar": "Slideshow",
    "hide_input": false,
    "kernelspec": {
      "display_name": "Python 3 (ipykernel)",
      "language": "python",
      "name": "python3"
    },
    "language_info": {
      "codemirror_mode": {
        "name": "ipython",
        "version": 3
      },
      "file_extension": ".py",
      "mimetype": "text/x-python",
      "name": "python",
      "nbconvert_exporter": "python",
      "pygments_lexer": "ipython3",
      "version": "3.11.9"
    },
    "rise": {
      "backimage": "../mybackimage.png",
      "enable_chalkboard": true,
      "scroll": true
    },
    "varInspector": {
      "cols": {
        "lenName": 16,
        "lenType": 16,
        "lenVar": 40
      },
      "kernels_config": {
        "python": {
          "delete_cmd_postfix": "",
          "delete_cmd_prefix": "del ",
          "library": "var_list.py",
          "varRefreshCmd": "print(var_dic_list())"
        },
        "r": {
          "delete_cmd_postfix": ") ",
          "delete_cmd_prefix": "rm(",
          "library": "var_list.r",
          "varRefreshCmd": "cat(var_dic_list()) "
        }
      },
      "types_to_exclude": [
        "module",
        "function",
        "builtin_function_or_method",
        "instance",
        "_Feature"
      ],
      "window_display": false
    },
    "colab": {
      "provenance": [],
      "include_colab_link": true
    }
  },
  "nbformat": 4,
  "nbformat_minor": 0
}