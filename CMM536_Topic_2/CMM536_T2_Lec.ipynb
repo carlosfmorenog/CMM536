{
  "cells": [
    {
      "cell_type": "markdown",
      "metadata": {
        "id": "view-in-github",
        "colab_type": "text"
      },
      "source": [
        "<a href=\"https://colab.research.google.com/github/carlosfmorenog/CMM536/blob/master/CMM536_Topic_2/CMM536_T2_Lec.ipynb\" target=\"_parent\"><img src=\"https://colab.research.google.com/assets/colab-badge.svg\" alt=\"Open In Colab\"/></a>"
      ]
    },
    {
      "cell_type": "markdown",
      "metadata": {
        "id": "CVsNgkmtMKYZ"
      },
      "source": [
        "# Topic 2: Introduction to Python for Data Science"
      ]
    },
    {
      "cell_type": "markdown",
      "metadata": {
        "id": "uAy7aVj5MKYf"
      },
      "source": [
        "## Why do you Need Python for Data Science?"
      ]
    },
    {
      "cell_type": "markdown",
      "metadata": {
        "id": "aZ01zd5qMKYk"
      },
      "source": [
        "### Improves Work for Everyone"
      ]
    },
    {
      "cell_type": "markdown",
      "metadata": {
        "id": "qEQ6vF_NMKYo"
      },
      "source": [
        "Widely used top programming language"
      ]
    },
    {
      "cell_type": "markdown",
      "metadata": {
        "id": "2if46uitMKYr"
      },
      "source": [
        "Huge growing ecosystem due to its open source nature"
      ]
    },
    {
      "cell_type": "markdown",
      "metadata": {
        "id": "ryqWnx05MKYv"
      },
      "source": [
        "Almost every industry is on board"
      ]
    },
    {
      "cell_type": "markdown",
      "metadata": {
        "id": "0623ISJWMKYw"
      },
      "source": [
        "### Descriptive Analytics and Dashboards"
      ]
    },
    {
      "cell_type": "markdown",
      "metadata": {
        "id": "4JMqwO6-MKY1"
      },
      "source": [
        "Exploratory data analysis"
      ]
    },
    {
      "cell_type": "markdown",
      "metadata": {
        "id": "QzfEvOUjMKY5"
      },
      "source": [
        "Manipulation of data"
      ]
    },
    {
      "cell_type": "markdown",
      "metadata": {
        "id": "JxHiVxRyMKY8"
      },
      "source": [
        "Streamline work flows"
      ]
    },
    {
      "cell_type": "markdown",
      "metadata": {
        "id": "HIUGfU_yMKY_"
      },
      "source": [
        "Creating visualisations/dashboards (i.e. plotly, streamlit)"
      ]
    },
    {
      "cell_type": "markdown",
      "metadata": {
        "id": "g8tsNmW6MKZB"
      },
      "source": [
        "![Fig. 1. Example of a dashboard in Python](https://www.dropbox.com/s/ai1rqcz08zpxevl/dashboard.jpg?raw=1)"
      ]
    },
    {
      "cell_type": "markdown",
      "metadata": {
        "id": "Y-IkxTfbMKZE"
      },
      "source": [
        "### Machine Learning"
      ]
    },
    {
      "cell_type": "markdown",
      "metadata": {
        "id": "XKPw13kUMKZF"
      },
      "source": [
        "Predicting and classifying new data"
      ]
    },
    {
      "cell_type": "markdown",
      "metadata": {
        "id": "IppwsYFRMKZG"
      },
      "source": [
        "Recommender systems"
      ]
    },
    {
      "cell_type": "markdown",
      "metadata": {
        "id": "C-YaK6AfMKZI"
      },
      "source": [
        "Can work with popular Google machine learning libraries (such as Tesseract and Tensorflow)"
      ]
    },
    {
      "cell_type": "markdown",
      "metadata": {
        "id": "MU2dQ88wMKZK"
      },
      "source": [
        "### Predictive/Prescriptive Analytics"
      ]
    },
    {
      "cell_type": "markdown",
      "metadata": {
        "id": "BbeSAQfyMKZL"
      },
      "source": [
        "Decision science\n",
        "    - Anticipate what, when and why certain outcome will happen\n",
        "    - What to do with information"
      ]
    },
    {
      "cell_type": "markdown",
      "metadata": {
        "id": "to5H1URMMKZM"
      },
      "source": [
        "Deep learning to optimise outcomes"
      ]
    },
    {
      "cell_type": "markdown",
      "metadata": {
        "id": "wYK-PnppMKZN"
      },
      "source": [
        "## Some statistics"
      ]
    },
    {
      "cell_type": "markdown",
      "metadata": {
        "id": "oDaJOA7EMKZN"
      },
      "source": [
        "### Popularity"
      ]
    },
    {
      "cell_type": "markdown",
      "metadata": {
        "id": "xC5Jp__tMKZO"
      },
      "source": [
        "Most popular language according to the [TIOBE](https://www.tiobe.com/tiobe-index/) index"
      ]
    },
    {
      "cell_type": "markdown",
      "metadata": {
        "id": "aL5nJp8KMKZP"
      },
      "source": [
        "![Fig. 2. TIOBE Index 2022 Table](https://www.dropbox.com/s/2nqne9puc3tnugh/tiobetable.jpg?raw=1)"
      ]
    },
    {
      "cell_type": "markdown",
      "metadata": {
        "id": "G3xPl0hIMKZQ"
      },
      "source": [
        "Fastest growing for the current year"
      ]
    },
    {
      "cell_type": "markdown",
      "metadata": {
        "id": "Y4nRdm4HMKZU"
      },
      "source": [
        "![Fig. 3a. TIOBE Index 2022 Plot](https://www.dropbox.com/s/1bjpzyqzm0jrn67/tiobe.jpg?raw=1)"
      ]
    },
    {
      "cell_type": "markdown",
      "metadata": {
        "id": "eoCe56sqMKZV"
      },
      "source": [
        "![Fig. 3b. TIOBE Index 2022 Plot for Python](https://www.dropbox.com/s/dt0g9k6b3lwtqrt/tiobepython.jpg?raw=1)"
      ]
    },
    {
      "cell_type": "markdown",
      "metadata": {
        "id": "kj8Ch-9tMKZW"
      },
      "source": [
        "According to [Stackoverflow](https://survey.stackoverflow.co/2022/), it is the 3rd most popular programming language in the world!"
      ]
    },
    {
      "cell_type": "markdown",
      "metadata": {
        "id": "41l727nnMKZX"
      },
      "source": [
        "Both for general public and for professional developers"
      ]
    },
    {
      "cell_type": "markdown",
      "metadata": {
        "id": "e6NJ2sUyMKZY"
      },
      "source": [
        "![Fig. 4. Most popular technologies](https://www.dropbox.com/s/p74v39mucueugvc/stackoverflowmostpopular.jpg?raw=1)"
      ]
    },
    {
      "cell_type": "markdown",
      "metadata": {
        "id": "f6pxOeBeMKZa"
      },
      "source": [
        "The best ranked language according to the Institute of Electrical and Electronics Engineers  [(IEEE)](https://spectrum.ieee.org/top-programming-languages/)"
      ]
    },
    {
      "cell_type": "markdown",
      "metadata": {
        "id": "HkPb6ycWMKZb"
      },
      "source": [
        "![Fig. 5. IEEE Ranking](https://www.dropbox.com/s/wadhur5dfjba59w/stats3.jpg?raw=1)"
      ]
    },
    {
      "cell_type": "markdown",
      "metadata": {
        "id": "kxh2KrzpMKZc"
      },
      "source": [
        "### Employabilty"
      ]
    },
    {
      "cell_type": "markdown",
      "metadata": {
        "id": "3FdSNVWJMKZe"
      },
      "source": [
        "It is the **20th** best paid language..."
      ]
    },
    {
      "cell_type": "markdown",
      "metadata": {
        "id": "E8ttzRzoMKZf"
      },
      "source": [
        "![Fig. 6a. Salary by programming language](https://www.dropbox.com/s/1gh9yw6r04tu25r/stackoverflowbestpaid.jpg?raw=1)"
      ]
    },
    {
      "cell_type": "markdown",
      "metadata": {
        "id": "kUTKR-9OMKZg"
      },
      "source": [
        "...but one of the fastest ones to adopt..."
      ]
    },
    {
      "cell_type": "markdown",
      "metadata": {
        "id": "oS1GezLeMKZh"
      },
      "source": [
        "![Fig. 6b. Salary by programming language w.r.t. years of experience](https://www.dropbox.com/s/si0fqnvcvgp3mex/salarybylanguage.jpg?raw=1)"
      ]
    },
    {
      "cell_type": "markdown",
      "metadata": {
        "id": "KXbH0164MKZk"
      },
      "source": [
        "...and the most wanted one!"
      ]
    },
    {
      "cell_type": "markdown",
      "metadata": {
        "id": "9iqU0KpgMKZm"
      },
      "source": [
        "![Fig. 6c. Most wanted technologies](https://www.dropbox.com/s/todiksonsts5wos/stackoverflowmostwantedjpg.jpg?raw=1)"
      ]
    },
    {
      "cell_type": "markdown",
      "metadata": {
        "id": "jXIsfHpoMKZn"
      },
      "source": [
        "### Reach/Scalability\n",
        "Original figure [here](https://insights.stackoverflow.com/survey/2019)"
      ]
    },
    {
      "cell_type": "markdown",
      "metadata": {
        "id": "-T1DJCU4MKZo"
      },
      "source": [
        "![Fig. 7. Interconnectivity of different programming languages, IDEs and environments (2019 Survey)](https://www.dropbox.com/s/gmb37cs1ty7j4ji/graph.jpg?raw=1)"
      ]
    },
    {
      "cell_type": "markdown",
      "metadata": {
        "id": "Ed3Sz1oGMKZq"
      },
      "source": [
        "## Fundamentals of Programming\n",
        "How do we define Python?"
      ]
    },
    {
      "cell_type": "markdown",
      "metadata": {
        "id": "DVGJppb4MKZr"
      },
      "source": [
        "### Levels of Programming Languages\n",
        "![Fig. 8. Types of programming languages](https://www.dropbox.com/s/zgnryvnslnpw2qf/proglangtypes.jpg?raw=1)\n",
        "[Source](http://4.bp.blogspot.com/-NvijJmjC13I/TmIbqlKKl8I/AAAAAAAAA3Q/mK4Nmy43en8/s1600/Untitled-1+%25281%2529.jpg)"
      ]
    },
    {
      "cell_type": "markdown",
      "metadata": {
        "id": "U2gKtgOWMKZt"
      },
      "source": [
        "#### Advantages of High-level Programming Languages"
      ]
    },
    {
      "cell_type": "markdown",
      "metadata": {
        "id": "ee8LkZscMKZu"
      },
      "source": [
        "Programmer friendly"
      ]
    },
    {
      "cell_type": "markdown",
      "metadata": {
        "id": "P7Nx8ph6MKZv"
      },
      "source": [
        "Easy to write, debug and maintain"
      ]
    },
    {
      "cell_type": "markdown",
      "metadata": {
        "id": "qtKCitbUMKZw"
      },
      "source": [
        "Provide higher level of abstraction from machine languages"
      ]
    },
    {
      "cell_type": "markdown",
      "metadata": {
        "id": "FygTbqOtMKZw"
      },
      "source": [
        "Machine independent language"
      ]
    },
    {
      "cell_type": "markdown",
      "metadata": {
        "id": "aFuVoUdEMKZx"
      },
      "source": [
        "Easy to learn"
      ]
    },
    {
      "cell_type": "markdown",
      "metadata": {
        "id": "4B82BdLlMKZy"
      },
      "source": [
        "Less error prone"
      ]
    },
    {
      "cell_type": "markdown",
      "metadata": {
        "id": "iRlVU4VKMKZ1"
      },
      "source": [
        "#### Disadvantages of High-level Programming Languages"
      ]
    },
    {
      "cell_type": "markdown",
      "metadata": {
        "id": "-BpEXHNIMKZ1"
      },
      "source": [
        "Slower (takes additional time to translate)"
      ]
    },
    {
      "cell_type": "markdown",
      "metadata": {
        "id": "EBPkrz--MKZ3"
      },
      "source": [
        "Less memory efficient"
      ]
    },
    {
      "cell_type": "markdown",
      "metadata": {
        "id": "y91lHRU4MKZ4"
      },
      "source": [
        "Cannot directly communicate with the hardware"
      ]
    },
    {
      "cell_type": "markdown",
      "metadata": {
        "id": "iIQpgJ9dMKZ6"
      },
      "source": [
        "[Some literature](https://www.tutorialandexample.com/middle-level-language/) considers Java/C/C++ as *middle*-level languages due to their capacity of abstraction"
      ]
    },
    {
      "cell_type": "markdown",
      "metadata": {
        "id": "i-8r6a9pMKZ8"
      },
      "source": [
        "![Fig. 9. Languages](https://www.dropbox.com/s/abzi00kp6z7s0b0/middle-level-language.jpg?raw=1)"
      ]
    },
    {
      "cell_type": "markdown",
      "metadata": {
        "id": "qtpIgTrTMKZ9"
      },
      "source": [
        "### Translation of Operations: Compiled vs Interpreted Programming Languages"
      ]
    },
    {
      "cell_type": "markdown",
      "metadata": {
        "id": "4A7WnqinMKZ-"
      },
      "source": [
        "#### Compiled Languages"
      ]
    },
    {
      "cell_type": "markdown",
      "metadata": {
        "id": "eJWVM-P3MKZ_"
      },
      "source": [
        "The high-level source code is translated to machine code using a compiler"
      ]
    },
    {
      "cell_type": "markdown",
      "metadata": {
        "id": "-m8zuwgZMKaA"
      },
      "source": [
        "An addition + gets directly translated to the ADD instruction in the machine code"
      ]
    },
    {
      "cell_type": "markdown",
      "metadata": {
        "id": "rl7opbgUMKaA"
      },
      "source": [
        "Examples: C, Fortran, COBOL, C++, and Java (bytecode)"
      ]
    },
    {
      "cell_type": "markdown",
      "metadata": {
        "id": "gDnzi1EmMKaB"
      },
      "source": [
        "##### Advantages of Compiled Languages"
      ]
    },
    {
      "cell_type": "markdown",
      "metadata": {
        "id": "-OSlygnpMKaC"
      },
      "source": [
        "Ready to run"
      ]
    },
    {
      "cell_type": "markdown",
      "metadata": {
        "id": "6UDLtqujMKaD"
      },
      "source": [
        "Often faster"
      ]
    },
    {
      "cell_type": "markdown",
      "metadata": {
        "id": "G0NJnhHHMKaE"
      },
      "source": [
        "Source code is kept private"
      ]
    },
    {
      "cell_type": "markdown",
      "metadata": {
        "id": "JjR-WWJzMKaG"
      },
      "source": [
        "#### Interpreted Languages"
      ]
    },
    {
      "cell_type": "markdown",
      "metadata": {
        "id": "csYG1MuyMKaH"
      },
      "source": [
        "Instructions are not directly executed, but read by another program"
      ]
    },
    {
      "cell_type": "markdown",
      "metadata": {
        "id": "56fZlU5-MKaI"
      },
      "source": [
        "Instructions run freely without the need to compile them first!"
      ]
    },
    {
      "cell_type": "markdown",
      "metadata": {
        "id": "6rkLx9vaMKaI"
      },
      "source": [
        "Examples: JavaScript, Perl, R, *Python*"
      ]
    },
    {
      "cell_type": "markdown",
      "metadata": {
        "id": "kV5X7hFaMKaJ"
      },
      "source": [
        "##### Advantages of Interpreted Languages"
      ]
    },
    {
      "cell_type": "markdown",
      "metadata": {
        "id": "40kmOBfgMKaK"
      },
      "source": [
        "Cross-platform (portability)"
      ]
    },
    {
      "cell_type": "markdown",
      "metadata": {
        "id": "ZE_aB_S7MKaK"
      },
      "source": [
        "Simpler to test"
      ]
    },
    {
      "cell_type": "markdown",
      "metadata": {
        "id": "jxp7844sMKaL"
      },
      "source": [
        "Display error as each instruction is run"
      ]
    },
    {
      "cell_type": "markdown",
      "metadata": {
        "id": "jzqedjIRMKaM"
      },
      "source": [
        "![Fig. 10. Difference between compiled and interpreted programming languages](https://www.dropbox.com/s/31cnw6n1mmrv04h/compiledinterpreted.jpg?raw=1)\n",
        "[Source](https://www.google.com/url?sa=i&rct=j&q=&esrc=s&source=images&cd=&cad=rja&uact=8&ved=2ahUKEwichoGF1KXkAhVOdhoKHebmAJwQjRx6BAgBEAQ&url=%2Furl%3Fsa%3Di%26rct%3Dj%26q%3D%26esrc%3Ds%26source%3Dimages%26cd%3D%26ved%3D%26url%3Dhttps%253A%252F%252Fmedium.com%252Ffrom-the-scratch%252Fstop-it-there-are-no-compiled-and-interpreted-languages-512f84756664%26psig%3DAOvVaw0CqS9Nmdo4wbc9J-p4WtL-%26ust%3D1567083827896505&psig=AOvVaw0CqS9Nmdo4wbc9J-p4WtL-&ust=1567083827896505)"
      ]
    },
    {
      "cell_type": "markdown",
      "metadata": {
        "id": "yhA_v2kaMKaN"
      },
      "source": [
        "### Typing: Static vs Dynamic Programming Languages"
      ]
    },
    {
      "cell_type": "markdown",
      "metadata": {
        "id": "kxrscG-7MKaN"
      },
      "source": [
        "Static is designed to optimise *hardware* efficiency"
      ]
    },
    {
      "cell_type": "markdown",
      "metadata": {
        "id": "WiW94v6gMKaO"
      },
      "source": [
        "Dynamic is designed to optimise *programming* efficiency so that less code is used"
      ]
    },
    {
      "cell_type": "markdown",
      "metadata": {
        "id": "Aq3bfJ5JMKaP"
      },
      "source": [
        "In fact, dynamic languages are written using a static one!\n",
        "    - Python is written in C!"
      ]
    },
    {
      "cell_type": "markdown",
      "metadata": {
        "id": "zp0-Z57bMKaQ"
      },
      "source": [
        "### So What is Python?"
      ]
    },
    {
      "cell_type": "markdown",
      "metadata": {
        "id": "zZ2P06tAMKaR"
      },
      "source": [
        "A widely used **high-level**, **interpreted**, and **dynamic** programming language"
      ]
    },
    {
      "cell_type": "markdown",
      "metadata": {
        "id": "IcInzAGiMKaS"
      },
      "source": [
        "Emphasizes code readability"
      ]
    },
    {
      "cell_type": "markdown",
      "metadata": {
        "id": "ApJzOjpqMKaT"
      },
      "source": [
        "Its syntax allows programmers to express concepts in fewer lines of code"
      ]
    },
    {
      "cell_type": "markdown",
      "metadata": {
        "id": "n1PRXsVjMKaV"
      },
      "source": [
        "Similar in syntax and purpose to R and Matlab"
      ]
    },
    {
      "cell_type": "markdown",
      "metadata": {
        "id": "sTRTIPHtMKaW"
      },
      "source": [
        "![Fig. 11. How to write an essay according to different programming languages!](https://www.dropbox.com/s/qeul7bjpljres1i/programminglanguages.jpg?raw=1)"
      ]
    },
    {
      "cell_type": "markdown",
      "metadata": {
        "id": "07xNq9jGMKaY"
      },
      "source": [
        "# Installing Python"
      ]
    },
    {
      "cell_type": "markdown",
      "metadata": {
        "id": "LwUksZGrMKaY"
      },
      "source": [
        "### The long and hard way\n",
        "\n",
        "1. Install Python (https://www.python.org).\n",
        "2. Install a Python Integrated Development Environment (IDE) such as IDLE (available when installing Python), Pycharm (https://www.jetbrains.com/pycharm/) or Spyder (https://pypi.org/project/spyder/).\n",
        "3. Install Jupyter Notebook (http://jupyter.org/)."
      ]
    },
    {
      "cell_type": "markdown",
      "metadata": {
        "id": "22zLaO5IMKaZ"
      },
      "source": [
        "## The fast way: [Anaconda Navigator](https://www.anaconda.com/download/)\n",
        "\n",
        "![Fig. 12. Anaconda](https://www.dropbox.com/s/q1nkj5xrqz5qhrj/anaconda.jpg?raw=1)"
      ]
    },
    {
      "cell_type": "markdown",
      "metadata": {
        "id": "BitvrIfdMKaa"
      },
      "source": [
        "# How Does Python Look Like?"
      ]
    },
    {
      "cell_type": "markdown",
      "metadata": {
        "id": "mwt9ZrQhMKac"
      },
      "source": [
        "In its most simplistic state, Python acts like a calculator. You simply write one calculation, and Python gives you the answer!"
      ]
    },
    {
      "cell_type": "code",
      "execution_count": null,
      "metadata": {
        "id": "-zD9YMiUMKad",
        "outputId": "bbb6c277-29e9-4f6a-896e-26affca52e37"
      },
      "outputs": [
        {
          "data": {
            "text/plain": [
              "2"
            ]
          },
          "execution_count": 2,
          "metadata": {},
          "output_type": "execute_result"
        }
      ],
      "source": [
        "1+1"
      ]
    },
    {
      "cell_type": "markdown",
      "metadata": {
        "id": "zINyhkIEMKaf"
      },
      "source": [
        "Moreover, you can also do some coding!"
      ]
    },
    {
      "cell_type": "code",
      "execution_count": null,
      "metadata": {
        "id": "czt9XbpiMKah",
        "outputId": "45b1e09c-7129-4503-9232-14afea601837"
      },
      "outputs": [
        {
          "name": "stdout",
          "output_type": "stream",
          "text": [
            "0\n",
            "1\n",
            "2\n",
            "3\n",
            "4\n",
            "5\n",
            "6\n",
            "7\n",
            "8\n",
            "9\n"
          ]
        }
      ],
      "source": [
        "for i in range(10):\n",
        "    print(i)"
      ]
    },
    {
      "cell_type": "markdown",
      "metadata": {
        "id": "taF-9uBRMKak"
      },
      "source": [
        "Notice the simplicity of the Python syntax, in the sense that we do not need to define classes or use a complex and strict structure of parenthesis!"
      ]
    },
    {
      "cell_type": "markdown",
      "metadata": {
        "id": "D4BvvU2SMKan"
      },
      "source": [
        "In this course we will use Jupyter Notebook not only for lectures, but also for laboratory activities and to code/present the coursework."
      ]
    },
    {
      "cell_type": "markdown",
      "metadata": {
        "id": "6jaFxoiYMKao"
      },
      "source": [
        "## Data Types and Data Structures"
      ]
    },
    {
      "cell_type": "markdown",
      "metadata": {
        "id": "0PkeLN76MKaq"
      },
      "source": [
        "Python contains a pre-defined set of **classes** which can contain certain data types or data structures"
      ]
    },
    {
      "cell_type": "markdown",
      "metadata": {
        "id": "l7PVeJvwMKar"
      },
      "source": [
        "Instead of defining objects/variables/classes/constructors, one may simply type a number and Python will assume the type of this value"
      ]
    },
    {
      "cell_type": "code",
      "execution_count": null,
      "metadata": {
        "id": "UJuJ3Jr0MKat",
        "outputId": "65b17c60-e8cf-43fb-86a1-e813bbd525e7"
      },
      "outputs": [
        {
          "data": {
            "text/plain": [
              "int"
            ]
          },
          "execution_count": 4,
          "metadata": {},
          "output_type": "execute_result"
        }
      ],
      "source": [
        "## Type anything and then run the cell to see if Python recognises the object\n",
        "type(1)"
      ]
    },
    {
      "cell_type": "markdown",
      "metadata": {
        "id": "-bKw0xxsMKay"
      },
      "source": [
        "### Numerical Data Types"
      ]
    },
    {
      "cell_type": "markdown",
      "metadata": {
        "id": "a4YfgK9QMKa0"
      },
      "source": [
        "    * Integers\n",
        "    * Float\n",
        "    * Booleans\n",
        "    * Hex\n",
        "    * Oct\n",
        "    * Complex\n",
        "    * and many more to import..."
      ]
    },
    {
      "cell_type": "markdown",
      "metadata": {
        "id": "B5nYJvCAMKa6"
      },
      "source": [
        "#### Integers"
      ]
    },
    {
      "cell_type": "markdown",
      "metadata": {
        "id": "-YwaJOT_MKa7"
      },
      "source": [
        "The most basic data type in Python"
      ]
    },
    {
      "cell_type": "markdown",
      "metadata": {
        "id": "Mrd_lxAZMKa8"
      },
      "source": [
        "A number by default is an integer if no decimal value is specified"
      ]
    },
    {
      "cell_type": "markdown",
      "metadata": {
        "id": "MZBfhPOOMKa8"
      },
      "source": [
        "The `type()` **function** can be used to discover the type of a variable or a number"
      ]
    },
    {
      "cell_type": "markdown",
      "metadata": {
        "id": "xAnAd1BNMKa9"
      },
      "source": [
        "You can use comparison operators to evaluate integer values"
      ]
    },
    {
      "cell_type": "code",
      "execution_count": null,
      "metadata": {
        "id": "BxNZIdsrMKa-",
        "outputId": "63fbaa0c-e4e6-4ec8-a004-fb5037d89ff5"
      },
      "outputs": [
        {
          "data": {
            "text/plain": [
              "int"
            ]
          },
          "execution_count": 5,
          "metadata": {},
          "output_type": "execute_result"
        }
      ],
      "source": [
        "type(3)"
      ]
    },
    {
      "cell_type": "code",
      "execution_count": null,
      "metadata": {
        "id": "YZSwj17yMKa_",
        "outputId": "62ba03e9-7c53-44a1-caae-9144f0d0d209"
      },
      "outputs": [
        {
          "data": {
            "text/plain": [
              "200000"
            ]
          },
          "execution_count": 6,
          "metadata": {},
          "output_type": "execute_result"
        }
      ],
      "source": [
        "## Writing exponential numbers\n",
        "int(2e5)"
      ]
    },
    {
      "cell_type": "code",
      "execution_count": null,
      "metadata": {
        "id": "v1nu0QYJMKbB",
        "outputId": "3369c706-eab3-461f-82ec-0cbf2d78b17d"
      },
      "outputs": [
        {
          "name": "stdout",
          "output_type": "stream",
          "text": [
            "<class 'int'>\n"
          ]
        }
      ],
      "source": [
        "x=3\n",
        "print(type(x))"
      ]
    },
    {
      "cell_type": "code",
      "execution_count": null,
      "metadata": {
        "id": "ll1euBvnMKbD",
        "outputId": "65e96b46-1c70-4395-fc07-25cacc714082"
      },
      "outputs": [
        {
          "data": {
            "text/plain": [
              "False"
            ]
          },
          "execution_count": 8,
          "metadata": {},
          "output_type": "execute_result"
        }
      ],
      "source": [
        "# See if two ints are equal\n",
        "3==5"
      ]
    },
    {
      "cell_type": "code",
      "execution_count": null,
      "metadata": {
        "id": "DnAA8AqnMKbE",
        "outputId": "b84ab1f3-bfbc-477f-f484-ac67ff8666a6"
      },
      "outputs": [
        {
          "data": {
            "text/plain": [
              "True"
            ]
          },
          "execution_count": 9,
          "metadata": {},
          "output_type": "execute_result"
        }
      ],
      "source": [
        "# See if two ints are not equal\n",
        "3!=5"
      ]
    },
    {
      "cell_type": "code",
      "execution_count": null,
      "metadata": {
        "id": "pMuhNoEfMKbG",
        "outputId": "84f08bcf-055e-4c00-d3e7-f7ab6fc3ad4a"
      },
      "outputs": [
        {
          "data": {
            "text/plain": [
              "True"
            ]
          },
          "execution_count": 10,
          "metadata": {},
          "output_type": "execute_result"
        }
      ],
      "source": [
        "# See if a number is smaller than another\n",
        "3<5"
      ]
    },
    {
      "cell_type": "code",
      "execution_count": null,
      "metadata": {
        "id": "le88GtFyMKbI",
        "outputId": "25133e1b-6d54-4578-8299-61d9c78d0b02"
      },
      "outputs": [
        {
          "data": {
            "text/plain": [
              "True"
            ]
          },
          "execution_count": 11,
          "metadata": {},
          "output_type": "execute_result"
        }
      ],
      "source": [
        "# See if a number is smaller or equal to another\n",
        "3<=5"
      ]
    },
    {
      "cell_type": "code",
      "execution_count": null,
      "metadata": {
        "id": "9oTBuNTOMKbM",
        "outputId": "e401b5ad-d186-43f2-a161-4c24f2f37033"
      },
      "outputs": [
        {
          "data": {
            "text/plain": [
              "False"
            ]
          },
          "execution_count": 12,
          "metadata": {},
          "output_type": "execute_result"
        }
      ],
      "source": [
        "# See if a number is larger than another\n",
        "3>5"
      ]
    },
    {
      "cell_type": "code",
      "execution_count": null,
      "metadata": {
        "id": "rCvQASY1MKbN",
        "outputId": "49b2f605-c22e-4c79-da50-d9dd70c6b197"
      },
      "outputs": [
        {
          "data": {
            "text/plain": [
              "False"
            ]
          },
          "execution_count": 13,
          "metadata": {},
          "output_type": "execute_result"
        }
      ],
      "source": [
        "# See if a number is larger or equal to another\n",
        "3>=5"
      ]
    },
    {
      "cell_type": "markdown",
      "metadata": {
        "id": "11A_mR-PMKbO"
      },
      "source": [
        "#### Booleans (logical operators)"
      ]
    },
    {
      "cell_type": "code",
      "execution_count": null,
      "metadata": {
        "id": "1WfuzQVjMKbP",
        "outputId": "f33a5b45-0335-4e58-a58e-cee466388c15"
      },
      "outputs": [
        {
          "data": {
            "text/plain": [
              "bool"
            ]
          },
          "execution_count": 14,
          "metadata": {},
          "output_type": "execute_result"
        }
      ],
      "source": [
        "type(False)"
      ]
    },
    {
      "cell_type": "code",
      "execution_count": null,
      "metadata": {
        "id": "hX8geF0cMKbQ",
        "outputId": "97574fd6-5477-4532-f2ea-d8e384d16f51"
      },
      "outputs": [
        {
          "name": "stdout",
          "output_type": "stream",
          "text": [
            "<class 'bool'>\n"
          ]
        }
      ],
      "source": [
        "z = True\n",
        "print(type(z))"
      ]
    },
    {
      "cell_type": "markdown",
      "metadata": {
        "id": "lhsmxLRzMKbR"
      },
      "source": [
        "#### Float"
      ]
    },
    {
      "cell_type": "markdown",
      "metadata": {
        "id": "PIK5J8sfMKbT"
      },
      "source": [
        "Is how we call decimals in Python"
      ]
    },
    {
      "cell_type": "markdown",
      "metadata": {
        "id": "NBi8VyQeMKbU"
      },
      "source": [
        "Up to 15 decimal places"
      ]
    },
    {
      "cell_type": "code",
      "execution_count": null,
      "metadata": {
        "id": "qU8hANayMKbV"
      },
      "outputs": [],
      "source": [
        "y=6.912897398127847"
      ]
    },
    {
      "cell_type": "code",
      "execution_count": null,
      "metadata": {
        "id": "wyr-cxObMKbW",
        "outputId": "8c7ef36f-ca6b-4e33-81db-5f1bd99a22ff"
      },
      "outputs": [
        {
          "name": "stdout",
          "output_type": "stream",
          "text": [
            "6.912897398127847\n"
          ]
        }
      ],
      "source": [
        "print(y)"
      ]
    },
    {
      "cell_type": "code",
      "execution_count": null,
      "metadata": {
        "id": "11fQsqIZMKbX",
        "outputId": "bce7a88d-5661-40c6-c86a-1abe01035436"
      },
      "outputs": [
        {
          "data": {
            "text/plain": [
              "7.078934923689474"
            ]
          },
          "execution_count": 18,
          "metadata": {},
          "output_type": "execute_result"
        }
      ],
      "source": [
        "# If more than 15 decimal places are used, python truncates\n",
        "7.0789349236894739847398972348974238947"
      ]
    },
    {
      "cell_type": "code",
      "execution_count": null,
      "metadata": {
        "id": "UpDK1w17MKbZ",
        "outputId": "b9ae917f-736e-489e-8384-8deee1e21031"
      },
      "outputs": [
        {
          "data": {
            "text/plain": [
              "False"
            ]
          },
          "execution_count": 19,
          "metadata": {},
          "output_type": "execute_result"
        }
      ],
      "source": [
        "# We can also compare floats, but funny things may happen!\n",
        "1.1+2.2==3.3"
      ]
    },
    {
      "cell_type": "markdown",
      "metadata": {
        "id": "gCqv6lwWMKbb"
      },
      "source": [
        "Do you know why?"
      ]
    },
    {
      "cell_type": "markdown",
      "metadata": {
        "id": "oMJylA-iMKbd"
      },
      "source": [
        "![Fig. 13. Prove you are a robot!](https://www.dropbox.com/s/w9u524mgaezmxur/robot.jpg?raw=1)"
      ]
    },
    {
      "cell_type": "markdown",
      "metadata": {
        "id": "zQ8GVSJrMKbf"
      },
      "source": [
        "#### The `isinstance()` function"
      ]
    },
    {
      "cell_type": "code",
      "execution_count": null,
      "metadata": {
        "id": "7K1c2nH_MKbg",
        "outputId": "ea1330f0-d0df-49b5-b0ac-c719635a111f"
      },
      "outputs": [
        {
          "data": {
            "text/plain": [
              "False"
            ]
          },
          "execution_count": 20,
          "metadata": {},
          "output_type": "execute_result"
        }
      ],
      "source": [
        "isinstance(x,float)"
      ]
    },
    {
      "cell_type": "code",
      "execution_count": null,
      "metadata": {
        "id": "n3G496X4MKbi",
        "outputId": "4722871f-8716-4c56-b133-4545047e0981"
      },
      "outputs": [
        {
          "data": {
            "text/plain": [
              "False"
            ]
          },
          "execution_count": 21,
          "metadata": {},
          "output_type": "execute_result"
        }
      ],
      "source": [
        "isinstance(y,int)"
      ]
    },
    {
      "cell_type": "markdown",
      "metadata": {
        "id": "rt0PzQtPMKbk"
      },
      "source": [
        "You can also work with complex, binary, octal and hexadecimal numbers in Python."
      ]
    },
    {
      "cell_type": "markdown",
      "metadata": {
        "id": "7Zs6pDj9MKbl"
      },
      "source": [
        "#### Strings"
      ]
    },
    {
      "cell_type": "code",
      "execution_count": null,
      "metadata": {
        "id": "kOBvt7WgMKbn",
        "outputId": "b68c21e1-01f9-428a-e239-0bc6a50f8070"
      },
      "outputs": [
        {
          "name": "stdout",
          "output_type": "stream",
          "text": [
            "Hello world\n"
          ]
        }
      ],
      "source": [
        "# What happens if I want to write the string \"don't\"?\n",
        "a = 'Hello world'\n",
        "print(a)"
      ]
    },
    {
      "cell_type": "code",
      "execution_count": null,
      "metadata": {
        "id": "xGui_sc-MKbq",
        "outputId": "fad69469-2601-43ed-cd7d-b3143de9c9e4"
      },
      "outputs": [
        {
          "name": "stdout",
          "output_type": "stream",
          "text": [
            "True\n"
          ]
        }
      ],
      "source": [
        "# A boolean inside quotations becomes a string\n",
        "b = \"True\"\n",
        "print(b)"
      ]
    },
    {
      "cell_type": "code",
      "execution_count": null,
      "metadata": {
        "id": "pxErQceaMKbs",
        "outputId": "5f7a8617-f7c1-4502-abf1-30541082e32f"
      },
      "outputs": [
        {
          "data": {
            "text/plain": [
              "str"
            ]
          },
          "execution_count": 24,
          "metadata": {},
          "output_type": "execute_result"
        }
      ],
      "source": [
        "# Any number inside quotations becomes a string\n",
        "c = \"45\"\n",
        "type(c)"
      ]
    },
    {
      "cell_type": "code",
      "execution_count": null,
      "metadata": {
        "id": "YBgVPxUkMKbt",
        "outputId": "c0ae8e17-4896-4ce4-bdf9-e8fb80fe7f1b"
      },
      "outputs": [
        {
          "name": "stdout",
          "output_type": "stream",
          "text": [
            "<class 'str'> <class 'str'> <class 'str'>\n"
          ]
        }
      ],
      "source": [
        "print(type(a),type(b),type(c))"
      ]
    },
    {
      "cell_type": "markdown",
      "metadata": {
        "id": "tovOLA7pMKbv"
      },
      "source": [
        "### Conversion Functions"
      ]
    },
    {
      "cell_type": "markdown",
      "metadata": {
        "id": "AVR8iH_cMKbv"
      },
      "source": [
        "![Fig. 14. Conversion Functions](https://www.dropbox.com/s/77jrypjzpdpegkn/cf.jpg?raw=1)"
      ]
    },
    {
      "cell_type": "code",
      "execution_count": null,
      "metadata": {
        "id": "w9PYJ-vlMKbw",
        "outputId": "9c695968-08ae-46d1-d92f-6882fe424732"
      },
      "outputs": [
        {
          "data": {
            "text/plain": [
              "7"
            ]
          },
          "execution_count": 26,
          "metadata": {},
          "output_type": "execute_result"
        }
      ],
      "source": [
        "# the int() function can convert any number into an integer. \n",
        "# Mostly used to round floats\n",
        "int(7.8)"
      ]
    },
    {
      "cell_type": "code",
      "execution_count": null,
      "metadata": {
        "id": "E1WaNNdzMKbx",
        "outputId": "61bade86-94a4-4fe9-f902-16a3cf7a6592"
      },
      "outputs": [
        {
          "data": {
            "text/plain": [
              "1"
            ]
          },
          "execution_count": 27,
          "metadata": {},
          "output_type": "execute_result"
        }
      ],
      "source": [
        "# Converting booleans into ints\n",
        "int(True)"
      ]
    },
    {
      "cell_type": "code",
      "execution_count": null,
      "metadata": {
        "id": "9fqh5z1EMKby",
        "outputId": "953a3ec3-8629-4c57-8aee-c0b477189f2b"
      },
      "outputs": [
        {
          "data": {
            "text/plain": [
              "9.0"
            ]
          },
          "execution_count": 28,
          "metadata": {},
          "output_type": "execute_result"
        }
      ],
      "source": [
        "# float function adds a 0 decimal to an int\n",
        "float(9)"
      ]
    },
    {
      "cell_type": "code",
      "execution_count": null,
      "metadata": {
        "id": "bl5DfcfBMKb0",
        "outputId": "57ff209b-f4b7-4e8e-a880-a5c07402fb81"
      },
      "outputs": [
        {
          "data": {
            "text/plain": [
              "True"
            ]
          },
          "execution_count": 29,
          "metadata": {},
          "output_type": "execute_result"
        }
      ],
      "source": [
        "# bool() turns any number to TRUE (other than 0)\n",
        "bool(0.1)"
      ]
    },
    {
      "cell_type": "code",
      "execution_count": null,
      "metadata": {
        "id": "R90NZi45MKb1",
        "outputId": "a6f8b330-9f60-4600-d93c-110507adb6d2"
      },
      "outputs": [
        {
          "data": {
            "text/plain": [
              "False"
            ]
          },
          "execution_count": 30,
          "metadata": {},
          "output_type": "execute_result"
        }
      ],
      "source": [
        "bool(0)"
      ]
    },
    {
      "cell_type": "markdown",
      "metadata": {
        "id": "dxDbxTEIMKb2"
      },
      "source": [
        "# Data Structures"
      ]
    },
    {
      "cell_type": "markdown",
      "metadata": {
        "id": "3FXfXU1RMKb3"
      },
      "source": [
        "![Fig. 15. Python Data Structures](https://www.dropbox.com/s/c6uk6ptsnb7x83i/ds.jpg?raw=1)"
      ]
    },
    {
      "cell_type": "markdown",
      "metadata": {
        "id": "Wl795vXHMKb4"
      },
      "source": [
        "### Tuples"
      ]
    },
    {
      "cell_type": "markdown",
      "metadata": {
        "id": "FYSmbx47MKb5"
      },
      "source": [
        "**IMMUTABLE** collection of elements"
      ]
    },
    {
      "cell_type": "markdown",
      "metadata": {
        "id": "jzKt2tF6MKb6"
      },
      "source": [
        "Defined using parenthesis and separating elements with commas"
      ]
    },
    {
      "cell_type": "markdown",
      "metadata": {
        "id": "QOIGJDSGMKb7"
      },
      "source": [
        "Not all elements in a tuple have to be of the same type"
      ]
    },
    {
      "cell_type": "code",
      "execution_count": null,
      "metadata": {
        "id": "OXUog_z2MKb8",
        "outputId": "f11cc015-eaf2-4ba8-8c46-35f709793315"
      },
      "outputs": [
        {
          "data": {
            "text/plain": [
              "(1, 2, 3)"
            ]
          },
          "execution_count": 31,
          "metadata": {},
          "output_type": "execute_result"
        }
      ],
      "source": [
        "tuple1 = (1,2,3)\n",
        "tuple1"
      ]
    },
    {
      "cell_type": "code",
      "execution_count": null,
      "metadata": {
        "id": "THFGNZ1RMKb9",
        "outputId": "3fc7a5bc-28f7-4fd1-fbb3-dc731ab5a38f"
      },
      "outputs": [
        {
          "data": {
            "text/plain": [
              "(1, 'g', 4.4, True)"
            ]
          },
          "execution_count": 32,
          "metadata": {},
          "output_type": "execute_result"
        }
      ],
      "source": [
        "tuple2 = (1,'g',4.4,True)\n",
        "tuple2"
      ]
    },
    {
      "cell_type": "markdown",
      "metadata": {
        "id": "Qvg3tp7nMKb_"
      },
      "source": [
        "### Lists"
      ]
    },
    {
      "cell_type": "markdown",
      "metadata": {
        "id": "GDrAW33zMKcA"
      },
      "source": [
        "**MUTABLE** collection of elements"
      ]
    },
    {
      "cell_type": "markdown",
      "metadata": {
        "id": "DUD7cGIeMKcB"
      },
      "source": [
        "Defined using squared brackets and separating elements with commas"
      ]
    },
    {
      "cell_type": "markdown",
      "metadata": {
        "id": "F9bJZhgjMKcE"
      },
      "source": [
        "Not all elements in a list have to be of the same type"
      ]
    },
    {
      "cell_type": "code",
      "execution_count": null,
      "metadata": {
        "id": "YOnnj3AjMKcF",
        "outputId": "bba22bdb-aafa-4978-c86e-354ba9f15f3f"
      },
      "outputs": [
        {
          "data": {
            "text/plain": [
              "[1, 2, 3]"
            ]
          },
          "execution_count": 33,
          "metadata": {},
          "output_type": "execute_result"
        }
      ],
      "source": [
        "list1 = [1,2,3]\n",
        "list1"
      ]
    },
    {
      "cell_type": "code",
      "execution_count": null,
      "metadata": {
        "id": "9WozYr5VMKcH",
        "outputId": "6f2350de-7c58-439d-e1a7-202284272622"
      },
      "outputs": [
        {
          "data": {
            "text/plain": [
              "[1, 'g', 4.4, True]"
            ]
          },
          "execution_count": 34,
          "metadata": {},
          "output_type": "execute_result"
        }
      ],
      "source": [
        "list2 = [1,'g',4.4,True]\n",
        "list2"
      ]
    },
    {
      "cell_type": "markdown",
      "metadata": {
        "id": "XrVcgLsHMKcK"
      },
      "source": [
        "Why do we need two very similar structures such as tuples and lists? "
      ]
    },
    {
      "cell_type": "markdown",
      "metadata": {
        "id": "c69MFA43MKcL"
      },
      "source": [
        "### The `len()` function"
      ]
    },
    {
      "cell_type": "code",
      "execution_count": null,
      "metadata": {
        "id": "2Ay2uaKtMKcN",
        "outputId": "a9a3e385-6735-4828-c219-be1d4ba9be09"
      },
      "outputs": [
        {
          "data": {
            "text/plain": [
              "3"
            ]
          },
          "execution_count": 35,
          "metadata": {},
          "output_type": "execute_result"
        }
      ],
      "source": [
        "len(tuple1)"
      ]
    },
    {
      "cell_type": "code",
      "execution_count": null,
      "metadata": {
        "id": "sNURIXDMMKcP",
        "outputId": "26ffb802-30f8-46b8-faa3-d7b0fb504a3c"
      },
      "outputs": [
        {
          "data": {
            "text/plain": [
              "4"
            ]
          },
          "execution_count": 36,
          "metadata": {},
          "output_type": "execute_result"
        }
      ],
      "source": [
        "len(list2)"
      ]
    },
    {
      "cell_type": "markdown",
      "metadata": {
        "id": "PCg-YwmeMKcR"
      },
      "source": [
        "### Accessing an element in a tuple/list"
      ]
    },
    {
      "cell_type": "markdown",
      "metadata": {
        "id": "Yd9Xm71mMKcS"
      },
      "source": [
        "We can access to all positions in a tuple/list by using squared brackets **after** the tuple/list"
      ]
    },
    {
      "cell_type": "markdown",
      "metadata": {
        "id": "fCGx3pNMMKcT"
      },
      "source": [
        "**Indexes in Python begin in 0!**"
      ]
    },
    {
      "cell_type": "code",
      "execution_count": null,
      "metadata": {
        "id": "m8HbCVXBMKcU",
        "outputId": "a7ba5ea8-55e9-44bc-f188-73d0f6d82282"
      },
      "outputs": [
        {
          "data": {
            "text/plain": [
              "1"
            ]
          },
          "execution_count": 37,
          "metadata": {},
          "output_type": "execute_result"
        }
      ],
      "source": [
        "# Access the first element of list1\n",
        "list1[0]"
      ]
    },
    {
      "cell_type": "code",
      "execution_count": null,
      "metadata": {
        "id": "VqKP3PrTMKcV",
        "outputId": "c8d62b94-f829-4ee0-cd7a-7a7e51fbedd9"
      },
      "outputs": [
        {
          "name": "stdout",
          "output_type": "stream",
          "text": [
            "(1, 'g', 4.4, True)\n"
          ]
        },
        {
          "data": {
            "text/plain": [
              "'g'"
            ]
          },
          "execution_count": 38,
          "metadata": {},
          "output_type": "execute_result"
        }
      ],
      "source": [
        "print(tuple2)\n",
        "# Access the second element of tuple2\n",
        "tuple2[1]"
      ]
    },
    {
      "cell_type": "markdown",
      "metadata": {
        "id": "sspgxRccMKcW"
      },
      "source": [
        "# LAB: Getting Familiar with Python & Jupyter Notebook"
      ]
    },
    {
      "cell_type": "markdown",
      "metadata": {
        "id": "pb4YrUCXMKcY"
      },
      "source": [
        "Help with Python and/or Jupyter Notebook queries"
      ]
    },
    {
      "cell_type": "markdown",
      "metadata": {
        "id": "xkNatqoWMKcZ"
      },
      "source": [
        "Moreover, you can test if all extensions are working, such as Rise, Spellcheck and others"
      ]
    },
    {
      "cell_type": "markdown",
      "metadata": {
        "id": "XPL8rFFjMKcb"
      },
      "source": [
        "Finally, if you want to practice I will enable some courses in Datacamp"
      ]
    }
  ],
  "metadata": {
    "celltoolbar": "Slideshow",
    "hide_input": false,
    "kernelspec": {
      "display_name": "Python 3",
      "language": "python",
      "name": "python3"
    },
    "language_info": {
      "codemirror_mode": {
        "name": "ipython",
        "version": 3
      },
      "file_extension": ".py",
      "mimetype": "text/x-python",
      "name": "python",
      "nbconvert_exporter": "python",
      "pygments_lexer": "ipython3",
      "version": "3.7.3"
    },
    "rise": {
      "enable_chalkboard": true
    },
    "varInspector": {
      "cols": {
        "lenName": 16,
        "lenType": 16,
        "lenVar": 40
      },
      "kernels_config": {
        "python": {
          "delete_cmd_postfix": "",
          "delete_cmd_prefix": "del ",
          "library": "var_list.py",
          "varRefreshCmd": "print(var_dic_list())"
        },
        "r": {
          "delete_cmd_postfix": ") ",
          "delete_cmd_prefix": "rm(",
          "library": "var_list.r",
          "varRefreshCmd": "cat(var_dic_list()) "
        }
      },
      "types_to_exclude": [
        "module",
        "function",
        "builtin_function_or_method",
        "instance",
        "_Feature"
      ],
      "window_display": false
    },
    "colab": {
      "provenance": [],
      "include_colab_link": true
    }
  },
  "nbformat": 4,
  "nbformat_minor": 0
}