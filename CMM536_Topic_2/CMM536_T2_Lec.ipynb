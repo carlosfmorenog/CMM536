{
  "cells": [
    {
      "cell_type": "markdown",
      "metadata": {
        "id": "view-in-github",
        "colab_type": "text"
      },
      "source": [
        "<a href=\"https://colab.research.google.com/github/carlosfmorenog/CMM536/blob/master/CMM536_Topic_2/CMM536_T2_Lec.ipynb\" target=\"_parent\"><img src=\"https://colab.research.google.com/assets/colab-badge.svg\" alt=\"Open In Colab\"/></a>"
      ]
    },
    {
      "cell_type": "markdown",
      "metadata": {
        "id": "YqU9Iq_1Svdh"
      },
      "source": [
        "# Topic 2: Introduction to Python for Data Science"
      ]
    },
    {
      "cell_type": "markdown",
      "metadata": {
        "id": "VMZhv9VFSvdo"
      },
      "source": [
        "## Why do you Need Python for Data Science?"
      ]
    },
    {
      "cell_type": "markdown",
      "metadata": {
        "id": "gPFAA1HxSvdt"
      },
      "source": [
        "### Improves Work for Everyone"
      ]
    },
    {
      "cell_type": "markdown",
      "metadata": {
        "id": "azrrpJj7Svdw"
      },
      "source": [
        "Widely used top programming language"
      ]
    },
    {
      "cell_type": "markdown",
      "metadata": {
        "id": "tG85o3inSvd0"
      },
      "source": [
        "Huge growing ecosystem due to its open source nature"
      ]
    },
    {
      "cell_type": "markdown",
      "metadata": {
        "id": "rFE0KltwSvd4"
      },
      "source": [
        "Almost every industry is on board"
      ]
    },
    {
      "cell_type": "markdown",
      "metadata": {
        "id": "fPkclkveSvd8"
      },
      "source": [
        "### Descriptive Analytics and Dashboards"
      ]
    },
    {
      "cell_type": "markdown",
      "metadata": {
        "id": "qKclYYLuSveA"
      },
      "source": [
        "Exploratory data analysis"
      ]
    },
    {
      "cell_type": "markdown",
      "metadata": {
        "id": "unRYI_LLSveG"
      },
      "source": [
        "Manipulation of data"
      ]
    },
    {
      "cell_type": "markdown",
      "metadata": {
        "id": "d9xmrbQmSveI"
      },
      "source": [
        "Streamline work flows"
      ]
    },
    {
      "cell_type": "markdown",
      "metadata": {
        "id": "QTc46blOSveZ"
      },
      "source": [
        "Creating visualisations/dashboards (i.e. plotly, streamlit)"
      ]
    },
    {
      "cell_type": "markdown",
      "metadata": {
        "id": "YO5dmLYtSvee"
      },
      "source": [
        "![Fig. 1. Example of a dashboard in Python](https://www.dropbox.com/s/ai1rqcz08zpxevl/dashboard.jpg?raw=1)"
      ]
    },
    {
      "cell_type": "markdown",
      "metadata": {
        "id": "yt8S5j1gSveg"
      },
      "source": [
        "### Machine Learning"
      ]
    },
    {
      "cell_type": "markdown",
      "metadata": {
        "id": "gmt5Q8PrSvej"
      },
      "source": [
        "Predicting and classifying new data"
      ]
    },
    {
      "cell_type": "markdown",
      "metadata": {
        "id": "fU9IWUfISvel"
      },
      "source": [
        "Recommender systems"
      ]
    },
    {
      "cell_type": "markdown",
      "metadata": {
        "id": "o6Ins2phSveo"
      },
      "source": [
        "Can work with popular Google machine learning libraries (such as Tesseract and Tensorflow)"
      ]
    },
    {
      "cell_type": "markdown",
      "metadata": {
        "id": "P0RAfChFSveq"
      },
      "source": [
        "### Predictive/Prescriptive Analytics"
      ]
    },
    {
      "cell_type": "markdown",
      "metadata": {
        "id": "tcVD-uJYSver"
      },
      "source": [
        "Decision science\n",
        "    - Anticipate what, when and why certain outcome will happen\n",
        "    - What to do with information"
      ]
    },
    {
      "cell_type": "markdown",
      "metadata": {
        "id": "O5y-K4TdSves"
      },
      "source": [
        "Deep learning to optimise outcomes"
      ]
    },
    {
      "cell_type": "markdown",
      "metadata": {
        "id": "Wts_daMXSvet"
      },
      "source": [
        "## Some statistics"
      ]
    },
    {
      "cell_type": "markdown",
      "metadata": {
        "id": "-A0bufCLSveu"
      },
      "source": [
        "### Popularity"
      ]
    },
    {
      "cell_type": "markdown",
      "metadata": {
        "id": "fRS6WbKpSvev"
      },
      "source": [
        "Most popular language according to the [TIOBE](https://www.tiobe.com/tiobe-index/) index"
      ]
    },
    {
      "cell_type": "markdown",
      "metadata": {
        "id": "WwyAiu7sSvex"
      },
      "source": [
        "![Fig. 2. TIOBE Index 2024 Table](https://www.dropbox.com/scl/fi/wuqb6t3l31dywlib7x1yz/tiobetable.jpg?rlkey=qcp0x303jfe2731yyuz0acskx&raw=1)"
      ]
    },
    {
      "cell_type": "markdown",
      "metadata": {
        "id": "OLLFyBKDSvey"
      },
      "source": [
        "Fastest growing for the current year"
      ]
    },
    {
      "cell_type": "markdown",
      "metadata": {
        "id": "bIO_seRQSve0"
      },
      "source": [
        "![Fig. 3a. TIOBE Index 2024 Plot](https://www.dropbox.com/scl/fi/uk0uiio1k2vq233mb3snp/tiobe.jpg?rlkey=33i97askl7wfikv8wyl7wadvq&raw=1)"
      ]
    },
    {
      "cell_type": "markdown",
      "metadata": {
        "id": "J43pNg2kSve1"
      },
      "source": [
        "![Fig. 3b. TIOBE Index 2024 Plot for Python](https://www.dropbox.com/scl/fi/1i8c2dvu0may57cypspqk/tiobepython.jpg?rlkey=wlu0aa25y5lzd8n1tya2ksyed&raw=1)"
      ]
    },
    {
      "cell_type": "markdown",
      "metadata": {
        "id": "2ShIVxX6Sve2"
      },
      "source": [
        "According to [Stackoverflow](https://survey.stackoverflow.co/2023/), it is the 3rd most popular programming language in the world!"
      ]
    },
    {
      "cell_type": "markdown",
      "metadata": {
        "id": "ZtgX212qSve3"
      },
      "source": [
        "Both for general public and for professional developers"
      ]
    },
    {
      "cell_type": "markdown",
      "metadata": {
        "id": "S2kcTxK9Sve4"
      },
      "source": [
        "![Fig. 4. Most popular technologies](https://www.dropbox.com/scl/fi/9q47gk7b6hfi1pljs1i7f/stackoverflowmostpopular.jpg?rlkey=f7y2ysrr901pec7y63ow07iuz&raw=1)"
      ]
    },
    {
      "cell_type": "markdown",
      "metadata": {
        "id": "ZtLbME0cSve5"
      },
      "source": [
        "The best ranked language according to the Institute of Electrical and Electronics Engineers [(IEEE)](https://spectrum.ieee.org/the-top-programming-languages-2023)"
      ]
    },
    {
      "cell_type": "markdown",
      "metadata": {
        "id": "tW6f6sSGSve6"
      },
      "source": [
        "![Fig. 5. IEEE Ranking](https://www.dropbox.com/scl/fi/99lkto58apwbs5tppnx5p/stats3.jpg?rlkey=ngyvnjjl08v2ivk1i1evhngzd&raw=1)"
      ]
    },
    {
      "cell_type": "markdown",
      "metadata": {
        "id": "s9kz4-RaSve8"
      },
      "source": [
        "### Employabilty"
      ]
    },
    {
      "cell_type": "markdown",
      "metadata": {
        "id": "rYl036xRSve9"
      },
      "source": [
        "It is the **25th best** paid language..."
      ]
    },
    {
      "cell_type": "markdown",
      "metadata": {
        "id": "UaDPpXcfSve_"
      },
      "source": [
        "![Fig. 6a. Salary by programming language](https://www.dropbox.com/scl/fi/7eg3fsu9bo848b3pm5umw/stackoverflowbestpaid.jpg?rlkey=q2jsg53vmnox0yc1zozbodtww&raw=1)"
      ]
    },
    {
      "cell_type": "markdown",
      "metadata": {
        "id": "jUx9qVa4Sve_"
      },
      "source": [
        "    ...but one of the fastest ones to adopt (from 2022)..."
      ]
    },
    {
      "cell_type": "markdown",
      "metadata": {
        "id": "kFZQsGwFSvfA"
      },
      "source": [
        "![Fig. 6b. Salary by programming language w.r.t. years of experience](https://www.dropbox.com/s/si0fqnvcvgp3mex/salarybylanguage.jpg?raw=1)"
      ]
    },
    {
      "cell_type": "markdown",
      "metadata": {
        "id": "poCC7pJWSvfC"
      },
      "source": [
        "...and the second one more desired!"
      ]
    },
    {
      "cell_type": "markdown",
      "metadata": {
        "id": "JA8oClkySvfD"
      },
      "source": [
        "![Fig. 6c. Most wanted technologies](https://www.dropbox.com/scl/fi/bh4ms3xvrbu8x98dqo2vf/stackoverflowmostdesired.jpg?rlkey=m2oqfhfq4fmgxkijjbdpepw2z&raw=1)"
      ]
    },
    {
      "cell_type": "markdown",
      "metadata": {
        "id": "CLoOfKBxSvfF"
      },
      "source": [
        "### Reach/Scalability\n",
        "Original figure [here](https://insights.stackoverflow.com/survey/2019)"
      ]
    },
    {
      "cell_type": "markdown",
      "metadata": {
        "id": "R9ieDM4jSvfG"
      },
      "source": [
        "![Fig. 7. Interconnectivity of different programming languages, IDEs and environments (2019 Survey)](https://www.dropbox.com/s/gmb37cs1ty7j4ji/graph.jpg?raw=1)"
      ]
    },
    {
      "cell_type": "markdown",
      "metadata": {
        "id": "tSSACuyYSvfG"
      },
      "source": [
        "## Fundamentals of Programming\n",
        "How do we define Python?"
      ]
    },
    {
      "cell_type": "markdown",
      "metadata": {
        "id": "eiyxWPPASvfH"
      },
      "source": [
        "### Levels of Programming Languages\n",
        "![Fig. 8. Types of programming languages](https://www.dropbox.com/s/zgnryvnslnpw2qf/proglangtypes.jpg?raw=1)\n",
        "[Source](http://4.bp.blogspot.com/-NvijJmjC13I/TmIbqlKKl8I/AAAAAAAAA3Q/mK4Nmy43en8/s1600/Untitled-1+%25281%2529.jpg)"
      ]
    },
    {
      "cell_type": "markdown",
      "metadata": {
        "id": "nuwEUXvYSvfJ"
      },
      "source": [
        "#### Advantages of High-level Programming Languages"
      ]
    },
    {
      "cell_type": "markdown",
      "metadata": {
        "id": "OipbIiodSvfK"
      },
      "source": [
        "Programmer friendly"
      ]
    },
    {
      "cell_type": "markdown",
      "metadata": {
        "id": "2jIz8CsXSvfM"
      },
      "source": [
        "Easy to write, debug and maintain"
      ]
    },
    {
      "cell_type": "markdown",
      "metadata": {
        "id": "CaTotFXxSvfN"
      },
      "source": [
        "Provide higher level of abstraction from machine languages"
      ]
    },
    {
      "cell_type": "markdown",
      "metadata": {
        "id": "0hjcfo7QSvfP"
      },
      "source": [
        "Machine independent language"
      ]
    },
    {
      "cell_type": "markdown",
      "metadata": {
        "id": "d8FYHGW7SvfP"
      },
      "source": [
        "Easy to learn"
      ]
    },
    {
      "cell_type": "markdown",
      "metadata": {
        "id": "JCqGe_cISvfR"
      },
      "source": [
        "Less error prone"
      ]
    },
    {
      "cell_type": "markdown",
      "metadata": {
        "id": "Xsde-XfISvfT"
      },
      "source": [
        "#### Disadvantages of High-level Programming Languages"
      ]
    },
    {
      "cell_type": "markdown",
      "metadata": {
        "id": "OffRWnmDSvfU"
      },
      "source": [
        "Slower (takes additional time to translate)"
      ]
    },
    {
      "cell_type": "markdown",
      "metadata": {
        "id": "FelzZm_ESvfV"
      },
      "source": [
        "Less memory efficient"
      ]
    },
    {
      "cell_type": "markdown",
      "metadata": {
        "id": "Ndt4Cs_6SvfW"
      },
      "source": [
        "Cannot directly communicate with the hardware"
      ]
    },
    {
      "cell_type": "markdown",
      "metadata": {
        "id": "XS_n_Qo7SvfX"
      },
      "source": [
        "[Some literature](https://www.tutorialandexample.com/middle-level-language/) considers Java/C/C++ as *middle*-level languages due to their capacity of abstraction"
      ]
    },
    {
      "cell_type": "markdown",
      "metadata": {
        "id": "2M_WMuIESvfY"
      },
      "source": [
        "![Fig. 9. Languages](https://www.dropbox.com/s/abzi00kp6z7s0b0/middle-level-language.jpg?raw=1)"
      ]
    },
    {
      "cell_type": "markdown",
      "metadata": {
        "id": "lKXOUs0SSvfZ"
      },
      "source": [
        "### Translation of Operations: Compiled vs Interpreted Programming Languages"
      ]
    },
    {
      "cell_type": "markdown",
      "metadata": {
        "id": "sKZ617e8Svfa"
      },
      "source": [
        "#### Compiled Languages"
      ]
    },
    {
      "cell_type": "markdown",
      "metadata": {
        "id": "DryCym52Svfc"
      },
      "source": [
        "The high-level source code is translated to machine code using a compiler"
      ]
    },
    {
      "cell_type": "markdown",
      "metadata": {
        "id": "34O7IYnESvfd"
      },
      "source": [
        "An addition + gets directly translated to the ADD instruction in the machine code"
      ]
    },
    {
      "cell_type": "markdown",
      "metadata": {
        "id": "H3BL3cTPSvfe"
      },
      "source": [
        "Examples: C, Fortran, COBOL, C++, and Java (bytecode)"
      ]
    },
    {
      "cell_type": "markdown",
      "metadata": {
        "id": "Jpityc5KSvff"
      },
      "source": [
        "##### Advantages of Compiled Languages"
      ]
    },
    {
      "cell_type": "markdown",
      "metadata": {
        "id": "VUt2r-kLSvfg"
      },
      "source": [
        "Ready to run"
      ]
    },
    {
      "cell_type": "markdown",
      "metadata": {
        "id": "IZdaLtRkSvfi"
      },
      "source": [
        "Often faster"
      ]
    },
    {
      "cell_type": "markdown",
      "metadata": {
        "id": "meL7TSKuSvfj"
      },
      "source": [
        "Source code is kept private"
      ]
    },
    {
      "cell_type": "markdown",
      "metadata": {
        "id": "CIQKhANISvfl"
      },
      "source": [
        "#### Interpreted Languages"
      ]
    },
    {
      "cell_type": "markdown",
      "metadata": {
        "id": "8_IipKeASvfn"
      },
      "source": [
        "Instructions are not directly executed, but read by another program"
      ]
    },
    {
      "cell_type": "markdown",
      "metadata": {
        "id": "-Gl2eFosSvfo"
      },
      "source": [
        "Instructions run freely without the need to compile them first!"
      ]
    },
    {
      "cell_type": "markdown",
      "metadata": {
        "id": "rTEzI-fNSvfq"
      },
      "source": [
        "Examples: JavaScript, Perl, R, *Python*"
      ]
    },
    {
      "cell_type": "markdown",
      "metadata": {
        "id": "0r_V9PZOSvfs"
      },
      "source": [
        "##### Advantages of Interpreted Languages"
      ]
    },
    {
      "cell_type": "markdown",
      "metadata": {
        "id": "RXRF9zNvSvfu"
      },
      "source": [
        "Cross-platform (portability)"
      ]
    },
    {
      "cell_type": "markdown",
      "metadata": {
        "id": "QyDHam7jSvfx"
      },
      "source": [
        "Simpler to test"
      ]
    },
    {
      "cell_type": "markdown",
      "metadata": {
        "id": "NHYM6C2aSvfy"
      },
      "source": [
        "Display error as each instruction is run"
      ]
    },
    {
      "cell_type": "markdown",
      "metadata": {
        "id": "opzDsChvSvf0"
      },
      "source": [
        "![Fig. 10. Difference between compiled and interpreted programming languages](https://www.dropbox.com/s/31cnw6n1mmrv04h/compiledinterpreted.jpg?raw=1)\n",
        "[Source](https://www.google.com/url?sa=i&rct=j&q=&esrc=s&source=images&cd=&cad=rja&uact=8&ved=2ahUKEwichoGF1KXkAhVOdhoKHebmAJwQjRx6BAgBEAQ&url=%2Furl%3Fsa%3Di%26rct%3Dj%26q%3D%26esrc%3Ds%26source%3Dimages%26cd%3D%26ved%3D%26url%3Dhttps%253A%252F%252Fmedium.com%252Ffrom-the-scratch%252Fstop-it-there-are-no-compiled-and-interpreted-languages-512f84756664%26psig%3DAOvVaw0CqS9Nmdo4wbc9J-p4WtL-%26ust%3D1567083827896505&psig=AOvVaw0CqS9Nmdo4wbc9J-p4WtL-&ust=1567083827896505)"
      ]
    },
    {
      "cell_type": "markdown",
      "metadata": {
        "id": "tYR1mk5kSvf3"
      },
      "source": [
        "### Typing: Static vs Dynamic Programming Languages"
      ]
    },
    {
      "cell_type": "markdown",
      "metadata": {
        "id": "1Obqaj04Svf5"
      },
      "source": [
        "Static is designed to optimise *hardware* efficiency"
      ]
    },
    {
      "cell_type": "markdown",
      "metadata": {
        "id": "1hMWFd1pSvf7"
      },
      "source": [
        "Dynamic is designed to optimise *programming* efficiency so that less code is used"
      ]
    },
    {
      "cell_type": "markdown",
      "metadata": {
        "id": "Dj3n8iKDSvf8"
      },
      "source": [
        "In fact, dynamic languages are written using a static one!\n",
        "    - Python is written in C!"
      ]
    },
    {
      "cell_type": "markdown",
      "metadata": {
        "id": "jy-fQj7cSvf9"
      },
      "source": [
        "### So What is Python?"
      ]
    },
    {
      "cell_type": "markdown",
      "metadata": {
        "id": "wroNaWrnSvf9"
      },
      "source": [
        "A widely used **high-level**, **interpreted**, and **dynamic** programming language"
      ]
    },
    {
      "cell_type": "markdown",
      "metadata": {
        "id": "ihcMXVGgSvf_"
      },
      "source": [
        "Emphasizes code readability"
      ]
    },
    {
      "cell_type": "markdown",
      "metadata": {
        "id": "CWYdiegJSvgB"
      },
      "source": [
        "Its syntax allows programmers to express concepts in fewer lines of code"
      ]
    },
    {
      "cell_type": "markdown",
      "metadata": {
        "id": "44p69WoTSvgC"
      },
      "source": [
        "Similar in syntax and purpose to R and Matlab"
      ]
    },
    {
      "cell_type": "markdown",
      "metadata": {
        "id": "DhHtBJG5SvgF"
      },
      "source": [
        "![Fig. 11. How to write an essay according to different programming languages!](https://www.dropbox.com/s/qeul7bjpljres1i/programminglanguages.jpg?raw=1)"
      ]
    },
    {
      "cell_type": "markdown",
      "metadata": {
        "id": "55fuaupySvgG"
      },
      "source": [
        "# Installing Python"
      ]
    },
    {
      "cell_type": "markdown",
      "metadata": {
        "id": "BLVlObpaSvgH"
      },
      "source": [
        "### The long and hard way\n",
        "\n",
        "1. Install Python (https://www.python.org).\n",
        "2. Install a Python Integrated Development Environment (IDE) such as IDLE (available when installing Python), Pycharm (https://www.jetbrains.com/pycharm/) or Spyder (https://pypi.org/project/spyder/).\n",
        "3. Install Jupyter Notebook (http://jupyter.org/)."
      ]
    },
    {
      "cell_type": "markdown",
      "metadata": {
        "id": "enZtBSJuSvgJ"
      },
      "source": [
        "## The fast way: [Anaconda Navigator](https://www.anaconda.com/download/)\n",
        "\n",
        "![Fig. 12. Anaconda](https://www.dropbox.com/s/q1nkj5xrqz5qhrj/anaconda.jpg?raw=1)"
      ]
    },
    {
      "cell_type": "markdown",
      "metadata": {
        "id": "FktynhbiSvgK"
      },
      "source": [
        "# How Does Python Look Like?"
      ]
    },
    {
      "cell_type": "markdown",
      "metadata": {
        "id": "eH62DxjgSvgL"
      },
      "source": [
        "In its most simplistic state, Python acts like a calculator. You simply write one calculation, and Python gives you the answer!"
      ]
    },
    {
      "cell_type": "code",
      "execution_count": null,
      "metadata": {
        "id": "7WZliunaSvgN",
        "outputId": "9d8c75e7-707b-42a9-c36c-350055b18a93"
      },
      "outputs": [
        {
          "data": {
            "text/plain": [
              "2"
            ]
          },
          "execution_count": 2,
          "metadata": {},
          "output_type": "execute_result"
        }
      ],
      "source": [
        "1+1"
      ]
    },
    {
      "cell_type": "markdown",
      "metadata": {
        "id": "D0RRoJA-SvgQ"
      },
      "source": [
        "Moreover, you can also do some coding!"
      ]
    },
    {
      "cell_type": "code",
      "execution_count": null,
      "metadata": {
        "id": "NZ1YBtWPSvgR",
        "outputId": "5c71f3b2-4af5-4fe3-c1e7-87c4f031114e"
      },
      "outputs": [
        {
          "name": "stdout",
          "output_type": "stream",
          "text": [
            "0\n",
            "1\n",
            "2\n",
            "3\n",
            "4\n",
            "5\n",
            "6\n",
            "7\n",
            "8\n",
            "9\n"
          ]
        }
      ],
      "source": [
        "for i in range(10):\n",
        "    print(i)"
      ]
    },
    {
      "cell_type": "markdown",
      "metadata": {
        "id": "tnWqqrOgSvgU"
      },
      "source": [
        "Notice the simplicity of the Python syntax, in the sense that we do not need to define classes or use a complex and strict structure of parenthesis!"
      ]
    },
    {
      "cell_type": "markdown",
      "metadata": {
        "id": "CFoMjUwWSvgV"
      },
      "source": [
        "In this course we will use Jupyter Notebook not only for lectures, but also for laboratory activities and to code/present the coursework."
      ]
    },
    {
      "cell_type": "markdown",
      "metadata": {
        "id": "P1w4IqSQSvgW"
      },
      "source": [
        "## Data Types and Data Structures"
      ]
    },
    {
      "cell_type": "markdown",
      "metadata": {
        "id": "zBecE2lsSvgX"
      },
      "source": [
        "Python contains a pre-defined set of **classes** which can contain certain data types or data structures"
      ]
    },
    {
      "cell_type": "markdown",
      "metadata": {
        "id": "fnmKeosGSvgY"
      },
      "source": [
        "Instead of defining objects/variables/classes/constructors, one may simply type a number and Python will assume the type of this value"
      ]
    },
    {
      "cell_type": "code",
      "execution_count": null,
      "metadata": {
        "id": "IhVnZk0RSvgb",
        "outputId": "b94b8f4c-1de6-4a81-db1c-7d7cbdb011bc"
      },
      "outputs": [
        {
          "data": {
            "text/plain": [
              "int"
            ]
          },
          "execution_count": 4,
          "metadata": {},
          "output_type": "execute_result"
        }
      ],
      "source": [
        "## Type anything and then run the cell to see if Python recognises the object\n",
        "type(1)"
      ]
    },
    {
      "cell_type": "markdown",
      "metadata": {
        "id": "tFvCVMsRSvgf"
      },
      "source": [
        "### Numerical Data Types"
      ]
    },
    {
      "cell_type": "markdown",
      "metadata": {
        "id": "ZBDYw67aSvgh"
      },
      "source": [
        "    * Integers\n",
        "    * Float\n",
        "    * Booleans\n",
        "    * Hex\n",
        "    * Oct\n",
        "    * Complex\n",
        "    * and many more to import..."
      ]
    },
    {
      "cell_type": "markdown",
      "metadata": {
        "id": "GrC0GXnISvgk"
      },
      "source": [
        "#### Integers"
      ]
    },
    {
      "cell_type": "markdown",
      "metadata": {
        "id": "Lv_4eektSvgk"
      },
      "source": [
        "The most basic data type in Python"
      ]
    },
    {
      "cell_type": "markdown",
      "metadata": {
        "id": "nJUOuyXkSvgl"
      },
      "source": [
        "A number by default is an integer if no decimal value is specified"
      ]
    },
    {
      "cell_type": "markdown",
      "metadata": {
        "id": "Ix54R8BkSvgm"
      },
      "source": [
        "The `type()` **function** can be used to discover the type of a variable or a number"
      ]
    },
    {
      "cell_type": "markdown",
      "metadata": {
        "id": "hBdmIiP5Svgn"
      },
      "source": [
        "You can use comparison operators to evaluate integer values"
      ]
    },
    {
      "cell_type": "code",
      "execution_count": null,
      "metadata": {
        "id": "TIIbZmPvSvgp",
        "outputId": "8849477f-d934-42ae-f209-1a7a3a7de996"
      },
      "outputs": [
        {
          "data": {
            "text/plain": [
              "int"
            ]
          },
          "execution_count": 5,
          "metadata": {},
          "output_type": "execute_result"
        }
      ],
      "source": [
        "type(3)"
      ]
    },
    {
      "cell_type": "code",
      "execution_count": null,
      "metadata": {
        "id": "03uK0oHJSvgr",
        "outputId": "6caaeb6c-9e56-4e9c-ee1d-5e20f97166cb"
      },
      "outputs": [
        {
          "data": {
            "text/plain": [
              "200000"
            ]
          },
          "execution_count": 6,
          "metadata": {},
          "output_type": "execute_result"
        }
      ],
      "source": [
        "## Writing exponential numbers\n",
        "int(2e5)"
      ]
    },
    {
      "cell_type": "code",
      "execution_count": null,
      "metadata": {
        "id": "sM2czj5lSvgs",
        "outputId": "b2b09712-cabb-4c0a-f6f9-e6aef2d20b46"
      },
      "outputs": [
        {
          "name": "stdout",
          "output_type": "stream",
          "text": [
            "<class 'int'>\n"
          ]
        }
      ],
      "source": [
        "x=3\n",
        "print(type(x))"
      ]
    },
    {
      "cell_type": "code",
      "execution_count": null,
      "metadata": {
        "id": "ejHdaOTnSvgu",
        "outputId": "1a1279a9-f8f7-406a-9a5a-fca6ce108195"
      },
      "outputs": [
        {
          "data": {
            "text/plain": [
              "False"
            ]
          },
          "execution_count": 8,
          "metadata": {},
          "output_type": "execute_result"
        }
      ],
      "source": [
        "# See if two ints are equal\n",
        "3==5"
      ]
    },
    {
      "cell_type": "code",
      "execution_count": null,
      "metadata": {
        "id": "fLSyB4u7Svgw",
        "outputId": "c2147f78-6b1c-445f-dd24-9bf2c59ebd3a"
      },
      "outputs": [
        {
          "data": {
            "text/plain": [
              "True"
            ]
          },
          "execution_count": 9,
          "metadata": {},
          "output_type": "execute_result"
        }
      ],
      "source": [
        "# See if two ints are not equal\n",
        "3!=5"
      ]
    },
    {
      "cell_type": "code",
      "execution_count": null,
      "metadata": {
        "id": "SLv3zxQJSvgy",
        "outputId": "0408dd65-ba0d-4461-a584-00536f2d010b"
      },
      "outputs": [
        {
          "data": {
            "text/plain": [
              "True"
            ]
          },
          "execution_count": 10,
          "metadata": {},
          "output_type": "execute_result"
        }
      ],
      "source": [
        "# See if a number is smaller than another\n",
        "3<5"
      ]
    },
    {
      "cell_type": "code",
      "execution_count": null,
      "metadata": {
        "id": "knTNFNGZSvgz",
        "outputId": "a1072e9c-4a82-4d31-cbdf-614bfd74bc12"
      },
      "outputs": [
        {
          "data": {
            "text/plain": [
              "True"
            ]
          },
          "execution_count": 11,
          "metadata": {},
          "output_type": "execute_result"
        }
      ],
      "source": [
        "# See if a number is smaller or equal to another\n",
        "3<=5"
      ]
    },
    {
      "cell_type": "code",
      "execution_count": null,
      "metadata": {
        "id": "eoihwV_ZSvg1",
        "outputId": "4e78f8a0-d92b-4230-e050-4f2968f63389"
      },
      "outputs": [
        {
          "data": {
            "text/plain": [
              "False"
            ]
          },
          "execution_count": 12,
          "metadata": {},
          "output_type": "execute_result"
        }
      ],
      "source": [
        "# See if a number is larger than another\n",
        "3>5"
      ]
    },
    {
      "cell_type": "code",
      "execution_count": null,
      "metadata": {
        "id": "criBynjiSvg3",
        "outputId": "efffa268-c7d3-4908-bd04-944e10fcb5fb"
      },
      "outputs": [
        {
          "data": {
            "text/plain": [
              "False"
            ]
          },
          "execution_count": 13,
          "metadata": {},
          "output_type": "execute_result"
        }
      ],
      "source": [
        "# See if a number is larger or equal to another\n",
        "3>=5"
      ]
    },
    {
      "cell_type": "markdown",
      "metadata": {
        "id": "ywQI4WDpSvg5"
      },
      "source": [
        "#### Booleans (logical operators)"
      ]
    },
    {
      "cell_type": "code",
      "execution_count": null,
      "metadata": {
        "id": "pkbtI5UcSvg5",
        "outputId": "4d155344-7987-4b74-ba61-b5a2840a9650"
      },
      "outputs": [
        {
          "data": {
            "text/plain": [
              "bool"
            ]
          },
          "execution_count": 14,
          "metadata": {},
          "output_type": "execute_result"
        }
      ],
      "source": [
        "type(False)"
      ]
    },
    {
      "cell_type": "code",
      "execution_count": null,
      "metadata": {
        "id": "VIJ6Qd0fSvg7",
        "outputId": "d446fea6-04bf-491e-a7d5-2c3c56c70ffc"
      },
      "outputs": [
        {
          "name": "stdout",
          "output_type": "stream",
          "text": [
            "<class 'bool'>\n"
          ]
        }
      ],
      "source": [
        "z = True\n",
        "print(type(z))"
      ]
    },
    {
      "cell_type": "markdown",
      "metadata": {
        "id": "3OY0Wt9LSvg7"
      },
      "source": [
        "#### Float"
      ]
    },
    {
      "cell_type": "markdown",
      "metadata": {
        "id": "6Op4dbKlSvg8"
      },
      "source": [
        "Is how we call decimals in Python"
      ]
    },
    {
      "cell_type": "markdown",
      "metadata": {
        "id": "wR5s9ZpbSvg9"
      },
      "source": [
        "Up to 15 decimal places"
      ]
    },
    {
      "cell_type": "code",
      "execution_count": null,
      "metadata": {
        "id": "Icd8iQQ2Svg9"
      },
      "outputs": [],
      "source": [
        "y=6.912897398127847"
      ]
    },
    {
      "cell_type": "code",
      "execution_count": null,
      "metadata": {
        "id": "tGnjQ9JJSvg-",
        "outputId": "6719e63b-8309-49dc-e908-3ff37da4599e"
      },
      "outputs": [
        {
          "name": "stdout",
          "output_type": "stream",
          "text": [
            "6.912897398127847\n"
          ]
        }
      ],
      "source": [
        "print(y)"
      ]
    },
    {
      "cell_type": "code",
      "execution_count": null,
      "metadata": {
        "id": "I_D5VwLYSvg_",
        "outputId": "de331f64-b15a-4662-ed12-7501164254bd"
      },
      "outputs": [
        {
          "data": {
            "text/plain": [
              "7.078934923689474"
            ]
          },
          "execution_count": 18,
          "metadata": {},
          "output_type": "execute_result"
        }
      ],
      "source": [
        "# If more than 15 decimal places are used, python truncates\n",
        "7.0789349236894739847398972348974238947"
      ]
    },
    {
      "cell_type": "code",
      "execution_count": null,
      "metadata": {
        "id": "LsHiU72DSvhB",
        "outputId": "7786c652-29e1-43e6-9bc1-661f8a4a4105"
      },
      "outputs": [
        {
          "data": {
            "text/plain": [
              "False"
            ]
          },
          "execution_count": 19,
          "metadata": {},
          "output_type": "execute_result"
        }
      ],
      "source": [
        "# We can also compare floats, but funny things may happen!\n",
        "1.1+2.2==3.3"
      ]
    },
    {
      "cell_type": "markdown",
      "metadata": {
        "id": "WwqhFgSlSvhC"
      },
      "source": [
        "Do you know why?"
      ]
    },
    {
      "cell_type": "markdown",
      "metadata": {
        "id": "hIvTUb53SvhD"
      },
      "source": [
        "![Fig. 13. Prove you are a robot!](https://www.dropbox.com/s/w9u524mgaezmxur/robot.jpg?raw=1)"
      ]
    },
    {
      "cell_type": "markdown",
      "metadata": {
        "id": "SyKQMZQsSvhE"
      },
      "source": [
        "#### The `isinstance()` function"
      ]
    },
    {
      "cell_type": "code",
      "execution_count": null,
      "metadata": {
        "id": "TxGDXPaGSvhF",
        "outputId": "b1480342-4dfd-4a85-f321-9fa9d27a05eb"
      },
      "outputs": [
        {
          "data": {
            "text/plain": [
              "False"
            ]
          },
          "execution_count": 20,
          "metadata": {},
          "output_type": "execute_result"
        }
      ],
      "source": [
        "isinstance(x,float)"
      ]
    },
    {
      "cell_type": "code",
      "execution_count": null,
      "metadata": {
        "id": "DKeF3qvESvhG",
        "outputId": "78764d97-b454-4d72-c66b-f3b3d997b45a"
      },
      "outputs": [
        {
          "data": {
            "text/plain": [
              "False"
            ]
          },
          "execution_count": 21,
          "metadata": {},
          "output_type": "execute_result"
        }
      ],
      "source": [
        "isinstance(y,int)"
      ]
    },
    {
      "cell_type": "markdown",
      "metadata": {
        "id": "X9z_ZLz6SvhH"
      },
      "source": [
        "You can also work with complex, binary, octal and hexadecimal numbers in Python."
      ]
    },
    {
      "cell_type": "markdown",
      "metadata": {
        "id": "sgGV2hGGSvhI"
      },
      "source": [
        "#### Strings"
      ]
    },
    {
      "cell_type": "code",
      "execution_count": null,
      "metadata": {
        "id": "-sCOuR_TSvhJ",
        "outputId": "d4f6ea1e-84db-4989-e61e-0654984e8cdb"
      },
      "outputs": [
        {
          "name": "stdout",
          "output_type": "stream",
          "text": [
            "Hello world\n"
          ]
        }
      ],
      "source": [
        "# What happens if I want to write the string \"don't\"?\n",
        "a = 'Hello world'\n",
        "print(a)"
      ]
    },
    {
      "cell_type": "code",
      "execution_count": null,
      "metadata": {
        "id": "gFKafUyKSvhJ",
        "outputId": "1fecd42a-40dd-4614-f660-2d5f63341b47"
      },
      "outputs": [
        {
          "name": "stdout",
          "output_type": "stream",
          "text": [
            "True\n"
          ]
        }
      ],
      "source": [
        "# A boolean inside quotations becomes a string\n",
        "b = \"True\"\n",
        "print(b)"
      ]
    },
    {
      "cell_type": "code",
      "execution_count": null,
      "metadata": {
        "id": "SPZXnM7DSvhL",
        "outputId": "8e92da1f-9d97-4787-e9c3-bef2334f44e8"
      },
      "outputs": [
        {
          "data": {
            "text/plain": [
              "str"
            ]
          },
          "execution_count": 24,
          "metadata": {},
          "output_type": "execute_result"
        }
      ],
      "source": [
        "# Any number inside quotations becomes a string\n",
        "c = \"45\"\n",
        "type(c)"
      ]
    },
    {
      "cell_type": "code",
      "execution_count": null,
      "metadata": {
        "id": "JsNx4a92SvhM",
        "outputId": "15902fe7-82c1-4575-9699-8234841913c8"
      },
      "outputs": [
        {
          "name": "stdout",
          "output_type": "stream",
          "text": [
            "<class 'str'> <class 'str'> <class 'str'>\n"
          ]
        }
      ],
      "source": [
        "print(type(a),type(b),type(c))"
      ]
    },
    {
      "cell_type": "markdown",
      "metadata": {
        "id": "6ux15lC8SvhN"
      },
      "source": [
        "### Conversion Functions"
      ]
    },
    {
      "cell_type": "markdown",
      "metadata": {
        "id": "vGE8roI9SvhN"
      },
      "source": [
        "![Fig. 14. Conversion Functions](https://www.dropbox.com/s/77jrypjzpdpegkn/cf.jpg?raw=1)"
      ]
    },
    {
      "cell_type": "code",
      "execution_count": null,
      "metadata": {
        "id": "AkVP-oi5SvhO",
        "outputId": "5ff4b6d9-937f-494a-8844-56c04d6f01f1"
      },
      "outputs": [
        {
          "data": {
            "text/plain": [
              "7"
            ]
          },
          "execution_count": 26,
          "metadata": {},
          "output_type": "execute_result"
        }
      ],
      "source": [
        "# the int() function can convert any number into an integer.\n",
        "# Mostly used to truncate floats\n",
        "int(7.8)"
      ]
    },
    {
      "cell_type": "code",
      "execution_count": null,
      "metadata": {
        "id": "NNv29MA4SvhP",
        "outputId": "6d5a5e8b-e7e0-41da-82be-e0413dcbc859"
      },
      "outputs": [
        {
          "data": {
            "text/plain": [
              "1"
            ]
          },
          "execution_count": 27,
          "metadata": {},
          "output_type": "execute_result"
        }
      ],
      "source": [
        "# Converting booleans into ints\n",
        "int(True)"
      ]
    },
    {
      "cell_type": "code",
      "execution_count": null,
      "metadata": {
        "id": "zrzG1PFwSvhQ",
        "outputId": "5ba630b7-d88b-4e2d-c8a6-8e4ef9b25e6f"
      },
      "outputs": [
        {
          "data": {
            "text/plain": [
              "9.0"
            ]
          },
          "execution_count": 28,
          "metadata": {},
          "output_type": "execute_result"
        }
      ],
      "source": [
        "# float function adds a 0 decimal to an int\n",
        "float(9)"
      ]
    },
    {
      "cell_type": "code",
      "execution_count": null,
      "metadata": {
        "id": "sitWvJYoSvhR",
        "outputId": "fdea9ff0-16ab-451c-b26c-d34ac52be79f"
      },
      "outputs": [
        {
          "data": {
            "text/plain": [
              "True"
            ]
          },
          "execution_count": 29,
          "metadata": {},
          "output_type": "execute_result"
        }
      ],
      "source": [
        "# bool() turns any number to TRUE (other than 0)\n",
        "bool(0.1)"
      ]
    },
    {
      "cell_type": "code",
      "execution_count": null,
      "metadata": {
        "id": "dmjYTHyESvhS",
        "outputId": "862351c6-bca5-4902-c460-b49f0559e887"
      },
      "outputs": [
        {
          "data": {
            "text/plain": [
              "False"
            ]
          },
          "execution_count": 30,
          "metadata": {},
          "output_type": "execute_result"
        }
      ],
      "source": [
        "bool(0)"
      ]
    },
    {
      "cell_type": "markdown",
      "metadata": {
        "id": "bcf9QCOVSvhU"
      },
      "source": [
        "# Data Structures"
      ]
    },
    {
      "cell_type": "markdown",
      "metadata": {
        "id": "knJn8xWVSvhU"
      },
      "source": [
        "![Fig. 15. Python Data Structures](https://www.dropbox.com/s/c6uk6ptsnb7x83i/ds.jpg?raw=1)"
      ]
    },
    {
      "cell_type": "markdown",
      "metadata": {
        "id": "Q1UDxP7CSvhV"
      },
      "source": [
        "### Tuples"
      ]
    },
    {
      "cell_type": "markdown",
      "metadata": {
        "id": "lH3ZAZ2xSvhW"
      },
      "source": [
        "**IMMUTABLE** collection of elements"
      ]
    },
    {
      "cell_type": "markdown",
      "metadata": {
        "id": "QRQAVkRXSvhW"
      },
      "source": [
        "Defined using parenthesis and separating elements with commas"
      ]
    },
    {
      "cell_type": "markdown",
      "metadata": {
        "id": "VuANmLJrSvhX"
      },
      "source": [
        "Not all elements in a tuple have to be of the same type"
      ]
    },
    {
      "cell_type": "code",
      "execution_count": null,
      "metadata": {
        "id": "AgdhwLFsSvhX",
        "outputId": "a34e5abb-ea0e-447f-8e91-25d35aa3df94"
      },
      "outputs": [
        {
          "data": {
            "text/plain": [
              "(1, 2, 3)"
            ]
          },
          "execution_count": 31,
          "metadata": {},
          "output_type": "execute_result"
        }
      ],
      "source": [
        "tuple1 = (1,2,3)\n",
        "tuple1"
      ]
    },
    {
      "cell_type": "code",
      "execution_count": null,
      "metadata": {
        "id": "BshRyqQOSvhY",
        "outputId": "b32bebfd-86af-41e1-8cda-a80cd1764e7f"
      },
      "outputs": [
        {
          "data": {
            "text/plain": [
              "(1, 'g', 4.4, True)"
            ]
          },
          "execution_count": 32,
          "metadata": {},
          "output_type": "execute_result"
        }
      ],
      "source": [
        "tuple2 = (1,'g',4.4,True)\n",
        "tuple2"
      ]
    },
    {
      "cell_type": "markdown",
      "metadata": {
        "id": "nI8mYblXSvha"
      },
      "source": [
        "### Lists"
      ]
    },
    {
      "cell_type": "markdown",
      "metadata": {
        "id": "UDxFPt6xSvha"
      },
      "source": [
        "**MUTABLE** collection of elements"
      ]
    },
    {
      "cell_type": "markdown",
      "metadata": {
        "id": "M4hCaJc4Svhb"
      },
      "source": [
        "Defined using squared brackets and separating elements with commas"
      ]
    },
    {
      "cell_type": "markdown",
      "metadata": {
        "id": "ZxbF19gCSvhc"
      },
      "source": [
        "Not all elements in a list have to be of the same type"
      ]
    },
    {
      "cell_type": "code",
      "execution_count": null,
      "metadata": {
        "id": "OJLY4kAHSvhd",
        "outputId": "4a71809f-b65a-4703-8e18-1c57a68f3fe3"
      },
      "outputs": [
        {
          "data": {
            "text/plain": [
              "[1, 2, 3]"
            ]
          },
          "execution_count": 33,
          "metadata": {},
          "output_type": "execute_result"
        }
      ],
      "source": [
        "list1 = [1,2,3]\n",
        "list1"
      ]
    },
    {
      "cell_type": "code",
      "execution_count": null,
      "metadata": {
        "id": "uL05kzN8Svhe",
        "outputId": "6cdf76b3-2307-4519-f0ca-2086f334155b"
      },
      "outputs": [
        {
          "data": {
            "text/plain": [
              "[1, 'g', 4.4, True]"
            ]
          },
          "execution_count": 34,
          "metadata": {},
          "output_type": "execute_result"
        }
      ],
      "source": [
        "list2 = [1,'g',4.4,True]\n",
        "list2"
      ]
    },
    {
      "cell_type": "markdown",
      "metadata": {
        "id": "A3GSKAvjSvhf"
      },
      "source": [
        "Why do we need two very similar structures such as tuples and lists?"
      ]
    },
    {
      "cell_type": "markdown",
      "metadata": {
        "id": "wGl9jHL2Svhg"
      },
      "source": [
        "### The `len()` function"
      ]
    },
    {
      "cell_type": "code",
      "execution_count": null,
      "metadata": {
        "id": "i9EuNtzDSvhh",
        "outputId": "1554935b-dc5a-4bd0-bc89-f9179f9c2438"
      },
      "outputs": [
        {
          "data": {
            "text/plain": [
              "3"
            ]
          },
          "execution_count": 35,
          "metadata": {},
          "output_type": "execute_result"
        }
      ],
      "source": [
        "len(tuple1)"
      ]
    },
    {
      "cell_type": "code",
      "execution_count": null,
      "metadata": {
        "id": "goY3J-srSvhi",
        "outputId": "709b78f1-ddbe-48e9-e2c1-0b8f636d7efc"
      },
      "outputs": [
        {
          "data": {
            "text/plain": [
              "4"
            ]
          },
          "execution_count": 36,
          "metadata": {},
          "output_type": "execute_result"
        }
      ],
      "source": [
        "len(list2)"
      ]
    },
    {
      "cell_type": "markdown",
      "metadata": {
        "id": "4H1CK2NvSvhj"
      },
      "source": [
        "### Accessing an element in a tuple/list"
      ]
    },
    {
      "cell_type": "markdown",
      "metadata": {
        "id": "aP3RHsDQSvhj"
      },
      "source": [
        "We can access to all positions in a tuple/list by using squared brackets **after** the tuple/list"
      ]
    },
    {
      "cell_type": "markdown",
      "metadata": {
        "id": "lz0uc9QfSvhk"
      },
      "source": [
        "**Indexes in Python begin in 0!**"
      ]
    },
    {
      "cell_type": "code",
      "execution_count": null,
      "metadata": {
        "id": "eb3Gs3dHSvhl",
        "outputId": "dd27bbbc-a900-4d08-ab2e-8ef59df67be2"
      },
      "outputs": [
        {
          "data": {
            "text/plain": [
              "1"
            ]
          },
          "execution_count": 37,
          "metadata": {},
          "output_type": "execute_result"
        }
      ],
      "source": [
        "# Access the first element of list1\n",
        "list1[0]"
      ]
    },
    {
      "cell_type": "code",
      "execution_count": null,
      "metadata": {
        "id": "PUKV-5WxSvhm",
        "outputId": "88097f69-872a-41ff-bb60-3b5451ff2e5d"
      },
      "outputs": [
        {
          "name": "stdout",
          "output_type": "stream",
          "text": [
            "(1, 'g', 4.4, True)\n"
          ]
        },
        {
          "data": {
            "text/plain": [
              "'g'"
            ]
          },
          "execution_count": 38,
          "metadata": {},
          "output_type": "execute_result"
        }
      ],
      "source": [
        "print(tuple2)\n",
        "# Access the second element of tuple2\n",
        "tuple2[1]"
      ]
    },
    {
      "cell_type": "markdown",
      "metadata": {
        "id": "t1kDvT2HSvhn"
      },
      "source": [
        "# LAB: Getting Familiar with Python & Jupyter Notebook"
      ]
    },
    {
      "cell_type": "markdown",
      "metadata": {
        "id": "bOQG7VUbSvho"
      },
      "source": [
        "Help with Python and/or Jupyter Notebook queries"
      ]
    },
    {
      "cell_type": "markdown",
      "metadata": {
        "id": "56V-oM3aSvhp"
      },
      "source": [
        "Moreover, you can test if all extensions are working, such as Rise, Spellcheck and others"
      ]
    },
    {
      "cell_type": "markdown",
      "metadata": {
        "id": "Zp_yrTQ0Svhq"
      },
      "source": [
        "Finally, if you want to practice I will enable some courses in Datacamp"
      ]
    }
  ],
  "metadata": {
    "celltoolbar": "Slideshow",
    "hide_input": false,
    "kernelspec": {
      "display_name": "Python 3 (ipykernel)",
      "language": "python",
      "name": "python3"
    },
    "language_info": {
      "codemirror_mode": {
        "name": "ipython",
        "version": 3
      },
      "file_extension": ".py",
      "mimetype": "text/x-python",
      "name": "python",
      "nbconvert_exporter": "python",
      "pygments_lexer": "ipython3",
      "version": "3.10.9"
    },
    "rise": {
      "enable_chalkboard": true
    },
    "varInspector": {
      "cols": {
        "lenName": 16,
        "lenType": 16,
        "lenVar": 40
      },
      "kernels_config": {
        "python": {
          "delete_cmd_postfix": "",
          "delete_cmd_prefix": "del ",
          "library": "var_list.py",
          "varRefreshCmd": "print(var_dic_list())"
        },
        "r": {
          "delete_cmd_postfix": ") ",
          "delete_cmd_prefix": "rm(",
          "library": "var_list.r",
          "varRefreshCmd": "cat(var_dic_list()) "
        }
      },
      "types_to_exclude": [
        "module",
        "function",
        "builtin_function_or_method",
        "instance",
        "_Feature"
      ],
      "window_display": false
    },
    "colab": {
      "provenance": [],
      "include_colab_link": true
    }
  },
  "nbformat": 4,
  "nbformat_minor": 0
}