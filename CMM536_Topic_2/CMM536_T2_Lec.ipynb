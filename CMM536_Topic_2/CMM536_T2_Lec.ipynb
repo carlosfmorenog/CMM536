{
  "cells": [
    {
      "cell_type": "markdown",
      "metadata": {
        "id": "view-in-github",
        "colab_type": "text"
      },
      "source": [
        "<a href=\"https://colab.research.google.com/github/carlosfmorenog/CMM536/blob/master/CMM536_Topic_2/CMM536_T2_Lec.ipynb\" target=\"_parent\"><img src=\"https://colab.research.google.com/assets/colab-badge.svg\" alt=\"Open In Colab\"/></a>"
      ]
    },
    {
      "cell_type": "markdown",
      "metadata": {
        "id": "3Mz4AQm-8hBz"
      },
      "source": [
        "# Topic 2: Introduction to Python for Data Science"
      ]
    },
    {
      "cell_type": "markdown",
      "metadata": {
        "id": "3aaZy3lS8hB3"
      },
      "source": [
        "## Why do you Need Python for Data Science?"
      ]
    },
    {
      "cell_type": "markdown",
      "metadata": {
        "id": "XmIno8fF8hB5"
      },
      "source": [
        "### Improves Work for Everyone"
      ]
    },
    {
      "cell_type": "markdown",
      "metadata": {
        "id": "aaNPcrsK8hB7"
      },
      "source": [
        "Widely used top programming language"
      ]
    },
    {
      "cell_type": "markdown",
      "metadata": {
        "id": "sbr_bo9o8hB8"
      },
      "source": [
        "Huge growing ecosystem due to its open source nature"
      ]
    },
    {
      "cell_type": "markdown",
      "metadata": {
        "id": "6YdOSMJj8hB-"
      },
      "source": [
        "Almost every industry is on board"
      ]
    },
    {
      "cell_type": "markdown",
      "metadata": {
        "id": "5-or08ee8hB_"
      },
      "source": [
        "### Descriptive Analytics and Dashboards"
      ]
    },
    {
      "cell_type": "markdown",
      "metadata": {
        "id": "RaC6aZIw8hB_"
      },
      "source": [
        "Exploratory data analysis"
      ]
    },
    {
      "cell_type": "markdown",
      "metadata": {
        "id": "6Rii3RCc8hCB"
      },
      "source": [
        "Manipulation of data"
      ]
    },
    {
      "cell_type": "markdown",
      "metadata": {
        "id": "HF8ZolcH8hCC"
      },
      "source": [
        "Streamline work flows"
      ]
    },
    {
      "cell_type": "markdown",
      "metadata": {
        "id": "q5oVU-Zw8hCD"
      },
      "source": [
        "Creating visualisations/dashboards (i.e. plotly, streamlit)"
      ]
    },
    {
      "cell_type": "markdown",
      "metadata": {
        "id": "dsBR9sQQ8hCE"
      },
      "source": [
        "![Fig. 1. Example of a dashboard in Python](https://www.dropbox.com/s/ai1rqcz08zpxevl/dashboard.jpg?raw=1)"
      ]
    },
    {
      "cell_type": "markdown",
      "metadata": {
        "id": "XYkQMLJZ8hCF"
      },
      "source": [
        "### Machine Learning"
      ]
    },
    {
      "cell_type": "markdown",
      "metadata": {
        "id": "C61FfyZr8hCF"
      },
      "source": [
        "Predicting and classifying new data"
      ]
    },
    {
      "cell_type": "markdown",
      "metadata": {
        "id": "319A3_Mv8hCG"
      },
      "source": [
        "Recommender systems"
      ]
    },
    {
      "cell_type": "markdown",
      "metadata": {
        "id": "pHFdm7fj8hCG"
      },
      "source": [
        "Can work with popular Google machine learning libraries (such as Tesseract and Tensorflow)"
      ]
    },
    {
      "cell_type": "markdown",
      "metadata": {
        "id": "I48U3dSV8hCH"
      },
      "source": [
        "### Predictive/Prescriptive Analytics"
      ]
    },
    {
      "cell_type": "markdown",
      "metadata": {
        "id": "NaLuYfh08hCH"
      },
      "source": [
        "Decision science\n",
        "    - Anticipate what, when and why certain outcome will happen\n",
        "    - What to do with information"
      ]
    },
    {
      "cell_type": "markdown",
      "metadata": {
        "id": "KULBPb5K8hCH"
      },
      "source": [
        "Deep learning to optimise outcomes"
      ]
    },
    {
      "cell_type": "markdown",
      "metadata": {
        "id": "pFvDBn6h8hCI"
      },
      "source": [
        "## Some statistics"
      ]
    },
    {
      "cell_type": "markdown",
      "metadata": {
        "id": "uC8_BLTh8hCI"
      },
      "source": [
        "### Popularity"
      ]
    },
    {
      "cell_type": "markdown",
      "metadata": {
        "id": "yl44apIY8hCI"
      },
      "source": [
        "1st most popular language according to the [TIOBE](https://www.tiobe.com/tiobe-index/) index"
      ]
    },
    {
      "cell_type": "markdown",
      "metadata": {
        "id": "TqXABPyF8hCI"
      },
      "source": [
        "![Fig. 2. TIOBE Index 2022 Table](https://www.dropbox.com/s/hjlgnvd8txrr2tz/tiobetable.jpg?raw=1)"
      ]
    },
    {
      "cell_type": "markdown",
      "metadata": {
        "id": "DAwY1BST8hCI"
      },
      "source": [
        "Fastest growing for the current year"
      ]
    },
    {
      "cell_type": "markdown",
      "metadata": {
        "id": "Mp0i_Ueu8hCJ"
      },
      "source": [
        "![Fig. 3a. TIOBE Index 2022 Plot](https://www.dropbox.com/s/1bjpzyqzm0jrn67/tiobe.jpg?raw=1)"
      ]
    },
    {
      "cell_type": "markdown",
      "metadata": {
        "id": "XMLzvPHC8hCJ"
      },
      "source": [
        "![Fig. 3b. TIOBE Index 2022 Plot for Python](https://www.dropbox.com/s/dt0g9k6b3lwtqrt/tiobepython.jpg?raw=1)"
      ]
    },
    {
      "cell_type": "markdown",
      "metadata": {
        "id": "iovKXPaD8hCJ"
      },
      "source": [
        "According to [Stack Overflow](https://insights.stackoverflow.com/survey/2021), it is the 3rd most popular programming language in the world!"
      ]
    },
    {
      "cell_type": "markdown",
      "metadata": {
        "id": "whsyqvjB8hCJ"
      },
      "source": [
        "Both for general public and for professional developers"
      ]
    },
    {
      "cell_type": "markdown",
      "metadata": {
        "id": "g0dOZ3rS8hCK"
      },
      "source": [
        "![Fig. 4. Most popular technologies](https://www.dropbox.com/s/p74v39mucueugvc/stackoverflowmostpopular.jpg?raw=1)"
      ]
    },
    {
      "cell_type": "markdown",
      "metadata": {
        "id": "Nkmo2yNA8hCK"
      },
      "source": [
        "The best ranked language according to the Institute of Electrical and Electronics Engineers  [(IEEE)](https://spectrum.ieee.org/top-programming-languages/)"
      ]
    },
    {
      "cell_type": "markdown",
      "metadata": {
        "id": "SaODKrdP8hCK"
      },
      "source": [
        "![Fig. 5. IEEE Ranking](https://www.dropbox.com/s/wadhur5dfjba59w/stats3.jpg?raw=1)"
      ]
    },
    {
      "cell_type": "markdown",
      "metadata": {
        "id": "Dtq0qwjF8hCK"
      },
      "source": [
        "### Employabilty"
      ]
    },
    {
      "cell_type": "markdown",
      "metadata": {
        "id": "rYjIbFtk8hCL"
      },
      "source": [
        "Python is currently the language with the fastest growing rate of interest by employers according to [Google Trends](https://medium.freecodecamp.org/best-programming-languages-to-learn-in-2018-ultimate-guide-bfc93e615b35)"
      ]
    },
    {
      "cell_type": "markdown",
      "metadata": {
        "id": "vY35Vlw78hCL"
      },
      "source": [
        "![Fig. 6. Google trends interest over time](https://www.dropbox.com/s/dlwxeks6oth3uo2/stats2.jpg?raw=1)"
      ]
    },
    {
      "cell_type": "markdown",
      "metadata": {
        "id": "9OpXTDG08hCM"
      },
      "source": [
        "It is the **20th** best paid language..."
      ]
    },
    {
      "cell_type": "markdown",
      "metadata": {
        "id": "m-AToAV28hCM"
      },
      "source": [
        "![Fig. 7a. Salary by programming language](https://www.dropbox.com/s/1gh9yw6r04tu25r/stackoverflowbestpaid.jpg?raw=1)"
      ]
    },
    {
      "cell_type": "markdown",
      "metadata": {
        "id": "zYe2IbEo8hCM"
      },
      "source": [
        "...but one of the fastest ones to adopt..."
      ]
    },
    {
      "cell_type": "markdown",
      "metadata": {
        "id": "rcH1OGOJ8hCM"
      },
      "source": [
        "![Fig. 7b. Salary by programming language w.r.t. years of experience](https://www.dropbox.com/s/si0fqnvcvgp3mex/salarybylanguage.jpg?raw=1)"
      ]
    },
    {
      "cell_type": "markdown",
      "metadata": {
        "id": "VNNsY7Uf8hCN"
      },
      "source": [
        "...and the most wanted one!"
      ]
    },
    {
      "cell_type": "markdown",
      "metadata": {
        "id": "ci2MQHiS8hCN"
      },
      "source": [
        "![Fig. 7c. Most wanted technologies](https://www.dropbox.com/s/todiksonsts5wos/stackoverflowmostwantedjpg.jpg?raw=1)"
      ]
    },
    {
      "cell_type": "markdown",
      "metadata": {
        "id": "owiXwKCR8hCN"
      },
      "source": [
        "### Reach/Scalability"
      ]
    },
    {
      "cell_type": "markdown",
      "metadata": {
        "id": "hzzi3AMN8hCN"
      },
      "source": [
        "![Fig. 8. Interconnectivity of different programming languages, IDEs and environments (2019 Survey)](https://www.dropbox.com/s/gmb37cs1ty7j4ji/graph.jpg?raw=1)"
      ]
    },
    {
      "cell_type": "markdown",
      "metadata": {
        "id": "LBO3Qmsc8hCO"
      },
      "source": [
        "## Fundamentals of Programming\n",
        "How do we define Python?"
      ]
    },
    {
      "cell_type": "markdown",
      "metadata": {
        "id": "e7wrsCbc8hCO"
      },
      "source": [
        "### Levels of Programming Languages\n",
        "![Fig. 9. Types of programming languages](https://www.dropbox.com/s/zgnryvnslnpw2qf/proglangtypes.jpg?raw=1)\n",
        "[Source](http://4.bp.blogspot.com/-NvijJmjC13I/TmIbqlKKl8I/AAAAAAAAA3Q/mK4Nmy43en8/s1600/Untitled-1+%25281%2529.jpg)"
      ]
    },
    {
      "cell_type": "markdown",
      "metadata": {
        "id": "SKIXWIi38hCO"
      },
      "source": [
        "#### Advantages of High-level Programming Languages"
      ]
    },
    {
      "cell_type": "markdown",
      "metadata": {
        "id": "cB3p_0i98hCO"
      },
      "source": [
        "Programmer friendly"
      ]
    },
    {
      "cell_type": "markdown",
      "metadata": {
        "id": "RXdVYMQG8hCP"
      },
      "source": [
        "Easy to write, debug and maintain"
      ]
    },
    {
      "cell_type": "markdown",
      "metadata": {
        "id": "IYMYyqIM8hCP"
      },
      "source": [
        "Provide higher level of abstraction from machine languages"
      ]
    },
    {
      "cell_type": "markdown",
      "metadata": {
        "id": "IbKfxI098hCP"
      },
      "source": [
        "Machine independent language"
      ]
    },
    {
      "cell_type": "markdown",
      "metadata": {
        "id": "M1XJfjfM8hCQ"
      },
      "source": [
        "Easy to learn"
      ]
    },
    {
      "cell_type": "markdown",
      "metadata": {
        "id": "ibnErTqQ8hCQ"
      },
      "source": [
        "Less error prone"
      ]
    },
    {
      "cell_type": "markdown",
      "metadata": {
        "id": "nvrjLsDY8hCQ"
      },
      "source": [
        "#### Disadvantages of High-level Programming Languages"
      ]
    },
    {
      "cell_type": "markdown",
      "metadata": {
        "id": "ppE4bBpS8hCQ"
      },
      "source": [
        "Slower (takes additional time to translate)"
      ]
    },
    {
      "cell_type": "markdown",
      "metadata": {
        "id": "M5ctr1jt8hCR"
      },
      "source": [
        "Less memory efficient"
      ]
    },
    {
      "cell_type": "markdown",
      "metadata": {
        "id": "Mdmc6bXQ8hCR"
      },
      "source": [
        "Cannot directly communicate with the hardware"
      ]
    },
    {
      "cell_type": "markdown",
      "metadata": {
        "id": "WnppN3N78hCR"
      },
      "source": [
        "[Some literature](https://www.tutorialandexample.com/middle-level-language/) considers Java/C/C++ as *middle*-level languages due to their capacity of abstraction"
      ]
    },
    {
      "cell_type": "markdown",
      "metadata": {
        "id": "Og_MbdXe8hCR"
      },
      "source": [
        "![Fig. 10. Languages](https://www.dropbox.com/s/abzi00kp6z7s0b0/middle-level-language.jpg?raw=1)"
      ]
    },
    {
      "cell_type": "markdown",
      "metadata": {
        "id": "FeSnohNl8hCR"
      },
      "source": [
        "### Translation of Operations: Compiled vs Interpreted Programming Languages"
      ]
    },
    {
      "cell_type": "markdown",
      "metadata": {
        "id": "aiR9QNuu8hCR"
      },
      "source": [
        "#### Compiled Languages"
      ]
    },
    {
      "cell_type": "markdown",
      "metadata": {
        "id": "Kx2Xn6x28hCR"
      },
      "source": [
        "The high-level source code is translated to machine code using a compiler"
      ]
    },
    {
      "cell_type": "markdown",
      "metadata": {
        "id": "JrNMdeKY8hCR"
      },
      "source": [
        "An addition + gets directly translated to the ADD instruction in the machine code"
      ]
    },
    {
      "cell_type": "markdown",
      "metadata": {
        "id": "SCtD-Vfp8hCS"
      },
      "source": [
        "Examples: C, Fortran, COBOL, C++, and Java (bytecode)"
      ]
    },
    {
      "cell_type": "markdown",
      "metadata": {
        "id": "ekgegCum8hCS"
      },
      "source": [
        "##### Advantages of Compiled Languages"
      ]
    },
    {
      "cell_type": "markdown",
      "metadata": {
        "id": "pweJkKck8hCS"
      },
      "source": [
        "Ready to run"
      ]
    },
    {
      "cell_type": "markdown",
      "metadata": {
        "id": "aM0o4ysX8hCS"
      },
      "source": [
        "Often faster"
      ]
    },
    {
      "cell_type": "markdown",
      "metadata": {
        "id": "Rh6iRjLc8hCT"
      },
      "source": [
        "Source code is kept private"
      ]
    },
    {
      "cell_type": "markdown",
      "metadata": {
        "id": "K4lBW1ka8hCT"
      },
      "source": [
        "#### Interpreted Languages"
      ]
    },
    {
      "cell_type": "markdown",
      "metadata": {
        "id": "2nYM4-uM8hCT"
      },
      "source": [
        "Instructions are not directly executed, but read by another program"
      ]
    },
    {
      "cell_type": "markdown",
      "metadata": {
        "id": "SuURj8w18hCT"
      },
      "source": [
        "Instructions run freely without the need to compile them first!"
      ]
    },
    {
      "cell_type": "markdown",
      "metadata": {
        "id": "fJ_i_jmd8hCU"
      },
      "source": [
        "Examples: JavaScript, Perl, R, *Python*"
      ]
    },
    {
      "cell_type": "markdown",
      "metadata": {
        "id": "zxoFwy8I8hCU"
      },
      "source": [
        "##### Advantages of Interpreted Languages"
      ]
    },
    {
      "cell_type": "markdown",
      "metadata": {
        "id": "uL9vyZNz8hCU"
      },
      "source": [
        "Cross-platform (portability)"
      ]
    },
    {
      "cell_type": "markdown",
      "metadata": {
        "id": "UBIonByw8hCU"
      },
      "source": [
        "Simpler to test"
      ]
    },
    {
      "cell_type": "markdown",
      "metadata": {
        "id": "9MmTmnLK8hCV"
      },
      "source": [
        "Display error as each instruction is run"
      ]
    },
    {
      "cell_type": "markdown",
      "metadata": {
        "id": "y9CqoqjK8hCV"
      },
      "source": [
        "![Fig. 11. Difference between compiled and interpreted programming languages](https://www.dropbox.com/s/31cnw6n1mmrv04h/compiledinterpreted.jpg?raw=1)\n",
        "[Source](https://www.google.com/url?sa=i&rct=j&q=&esrc=s&source=images&cd=&cad=rja&uact=8&ved=2ahUKEwichoGF1KXkAhVOdhoKHebmAJwQjRx6BAgBEAQ&url=%2Furl%3Fsa%3Di%26rct%3Dj%26q%3D%26esrc%3Ds%26source%3Dimages%26cd%3D%26ved%3D%26url%3Dhttps%253A%252F%252Fmedium.com%252Ffrom-the-scratch%252Fstop-it-there-are-no-compiled-and-interpreted-languages-512f84756664%26psig%3DAOvVaw0CqS9Nmdo4wbc9J-p4WtL-%26ust%3D1567083827896505&psig=AOvVaw0CqS9Nmdo4wbc9J-p4WtL-&ust=1567083827896505)"
      ]
    },
    {
      "cell_type": "markdown",
      "metadata": {
        "id": "56PlWVOA8hCV"
      },
      "source": [
        "### Typing: Static vs Dynamic Programming Languages"
      ]
    },
    {
      "cell_type": "markdown",
      "metadata": {
        "id": "dM9LbLzU8hCW"
      },
      "source": [
        "Static is designed to optimise *hardware* efficiency"
      ]
    },
    {
      "cell_type": "markdown",
      "metadata": {
        "id": "BzMWEAVB8hCW"
      },
      "source": [
        "Dynamic is designed to optimise *programming* efficiency so that less code is used"
      ]
    },
    {
      "cell_type": "markdown",
      "metadata": {
        "id": "tXbypmZR8hCX"
      },
      "source": [
        "In fact, dynamic languages are written using a static one!\n",
        "    - Python is written in C!"
      ]
    },
    {
      "cell_type": "markdown",
      "metadata": {
        "id": "MONj-wc08hCX"
      },
      "source": [
        "### So What is Python?"
      ]
    },
    {
      "cell_type": "markdown",
      "metadata": {
        "id": "ariMzvj68hCX"
      },
      "source": [
        "A widely used **high-level**, **interpreted**, and **dynamic** programming language"
      ]
    },
    {
      "cell_type": "markdown",
      "metadata": {
        "id": "bMGUv8ee8hCX"
      },
      "source": [
        "Emphasizes code readability"
      ]
    },
    {
      "cell_type": "markdown",
      "metadata": {
        "id": "j4_rKi5d8hCY"
      },
      "source": [
        "Its syntax allows programmers to express concepts in fewer lines of code"
      ]
    },
    {
      "cell_type": "markdown",
      "metadata": {
        "id": "bgUPgjUi8hCY"
      },
      "source": [
        "Similar in syntax and purpose to R and Matlab"
      ]
    },
    {
      "cell_type": "markdown",
      "metadata": {
        "id": "6cLlOGXm8hCY"
      },
      "source": [
        "![Fig. 12. How to write an essay according to different programming languages!](https://www.dropbox.com/s/qeul7bjpljres1i/programminglanguages.jpg?raw=1)"
      ]
    },
    {
      "cell_type": "markdown",
      "metadata": {
        "id": "cZTUlyxp8hCY"
      },
      "source": [
        "# Installing Python"
      ]
    },
    {
      "cell_type": "markdown",
      "metadata": {
        "id": "TqrUaRYv8hCY"
      },
      "source": [
        "### The long and hard way\n",
        "\n",
        "1. Install Python (https://www.python.org).\n",
        "2. Install a Python Integrated Development Environment (IDE) such as IDLE (available when installing Python), Pycharm (https://www.jetbrains.com/pycharm/) or Spyder (https://pypi.org/project/spyder/).\n",
        "3. Install Jupyter Notebook (http://jupyter.org/)."
      ]
    },
    {
      "cell_type": "markdown",
      "metadata": {
        "id": "VJtnF_Cs8hCZ"
      },
      "source": [
        "## The fast way: [Anaconda Navigator](https://www.anaconda.com/download/)\n",
        "\n",
        "![Fig. 13. Anaconda](https://www.dropbox.com/s/q1nkj5xrqz5qhrj/anaconda.jpg?raw=1)"
      ]
    },
    {
      "cell_type": "markdown",
      "metadata": {
        "id": "-ACLw1ow8hCZ"
      },
      "source": [
        "# How Does Python Look Like?"
      ]
    },
    {
      "cell_type": "markdown",
      "metadata": {
        "id": "cPEhwIbk8hCZ"
      },
      "source": [
        "In its most simplistic state, Python acts like a calculator. You simply write one calculation, and Python gives you the answer!"
      ]
    },
    {
      "cell_type": "code",
      "execution_count": null,
      "metadata": {
        "id": "PBAdJ-CY8hCa",
        "outputId": "34c0ce8c-f689-49be-aceb-fb910bce3f55"
      },
      "outputs": [
        {
          "data": {
            "text/plain": [
              "15"
            ]
          },
          "execution_count": 1,
          "metadata": {},
          "output_type": "execute_result"
        }
      ],
      "source": [
        "6+9"
      ]
    },
    {
      "cell_type": "markdown",
      "metadata": {
        "id": "MZMB9mce8hCa"
      },
      "source": [
        "Moreover, you can also do some coding!"
      ]
    },
    {
      "cell_type": "code",
      "execution_count": null,
      "metadata": {
        "id": "Jz8w1TyD8hCa",
        "outputId": "e68ca7f2-28f4-4283-e919-01df2e7d31d2"
      },
      "outputs": [
        {
          "name": "stdout",
          "output_type": "stream",
          "text": [
            "0\n",
            "1\n",
            "2\n",
            "3\n",
            "4\n",
            "5\n",
            "6\n",
            "7\n",
            "8\n",
            "9\n"
          ]
        }
      ],
      "source": [
        "for i in range(10):\n",
        "    print(i)"
      ]
    },
    {
      "cell_type": "markdown",
      "metadata": {
        "id": "KzM1bcoh8hCa"
      },
      "source": [
        "Notice the simplicity of the Python syntax, in the sense that we do not need to define classes or use a complex and strict structure of parenthesis!"
      ]
    },
    {
      "cell_type": "markdown",
      "metadata": {
        "id": "evIX_5MG8hCb"
      },
      "source": [
        "In this course we will use Jupyter Notebook not only for lectures, but also for laboratory activities and to code/present the coursework."
      ]
    },
    {
      "cell_type": "markdown",
      "metadata": {
        "id": "oU5gEtyp8hCb"
      },
      "source": [
        "## Data Types and Data Structures"
      ]
    },
    {
      "cell_type": "markdown",
      "metadata": {
        "id": "tRsq1qdE8hCc"
      },
      "source": [
        "Python contains a pre-defined set of **classes** which can contain certain data types or data structures"
      ]
    },
    {
      "cell_type": "markdown",
      "metadata": {
        "id": "cSnXMRLC8hCd"
      },
      "source": [
        "Instead of defining objects/variables/classes/constructors, one may simply type a number and Python will assume the type of this value"
      ]
    },
    {
      "cell_type": "code",
      "execution_count": null,
      "metadata": {
        "id": "lpbeSWFj8hCd",
        "outputId": "1a74981b-06e4-413e-eab6-6ebd57794796"
      },
      "outputs": [
        {
          "data": {
            "text/plain": [
              "str"
            ]
          },
          "execution_count": 8,
          "metadata": {},
          "output_type": "execute_result"
        }
      ],
      "source": [
        "## Type anything and then run the cell to see if Python recognises the object\n",
        "type(\"Hello 1.1\")"
      ]
    },
    {
      "cell_type": "markdown",
      "metadata": {
        "id": "8dwUhxjO8hCe"
      },
      "source": [
        "### Numerical Data Types"
      ]
    },
    {
      "cell_type": "markdown",
      "metadata": {
        "id": "7cltE_l08hCe"
      },
      "source": [
        "    * Integers\n",
        "    * Float\n",
        "    * Booleans\n",
        "    * Hex\n",
        "    * Oct\n",
        "    * Complex\n",
        "    * and many more to import..."
      ]
    },
    {
      "cell_type": "markdown",
      "metadata": {
        "id": "Du_8dmSR8hCe"
      },
      "source": [
        "#### Integers"
      ]
    },
    {
      "cell_type": "markdown",
      "metadata": {
        "id": "TX0DCwLs8hCe"
      },
      "source": [
        "The most basic data type in Python"
      ]
    },
    {
      "cell_type": "markdown",
      "metadata": {
        "id": "CXeHGCzg8hCf"
      },
      "source": [
        "A number by default is an integer if no decimal value is specified"
      ]
    },
    {
      "cell_type": "markdown",
      "metadata": {
        "id": "ndX5BdWX8hCf"
      },
      "source": [
        "The `type()` **function** can be used to discover the type of a variable or a number"
      ]
    },
    {
      "cell_type": "markdown",
      "metadata": {
        "id": "4IHKsoFr8hCf"
      },
      "source": [
        "You can use comparison operators to evaluate integer values"
      ]
    },
    {
      "cell_type": "code",
      "execution_count": null,
      "metadata": {
        "id": "zFRqSeWU8hCf",
        "outputId": "a3d200b0-b56a-48a8-ff63-814ab7032b86"
      },
      "outputs": [
        {
          "data": {
            "text/plain": [
              "int"
            ]
          },
          "execution_count": 9,
          "metadata": {},
          "output_type": "execute_result"
        }
      ],
      "source": [
        "type(3)"
      ]
    },
    {
      "cell_type": "code",
      "execution_count": null,
      "metadata": {
        "id": "4pbXTg1g8hCf",
        "outputId": "a4c4b18a-de6a-443e-92bd-cf8337f919f5"
      },
      "outputs": [
        {
          "data": {
            "text/plain": [
              "200000"
            ]
          },
          "execution_count": 13,
          "metadata": {},
          "output_type": "execute_result"
        }
      ],
      "source": [
        "## Writing exponential numbers\n",
        "int(2e5)"
      ]
    },
    {
      "cell_type": "code",
      "execution_count": null,
      "metadata": {
        "id": "CMFa6hPn8hCg",
        "outputId": "43eaaf26-4836-41a6-83a9-77fec30c9b2d"
      },
      "outputs": [
        {
          "name": "stdout",
          "output_type": "stream",
          "text": [
            "<class 'int'>\n"
          ]
        }
      ],
      "source": [
        "x=3\n",
        "print(type(x))"
      ]
    },
    {
      "cell_type": "code",
      "execution_count": null,
      "metadata": {
        "id": "4pX85hM08hCg",
        "outputId": "59b448ad-c982-4578-ae25-6d6a3edf86d5"
      },
      "outputs": [
        {
          "data": {
            "text/plain": [
              "False"
            ]
          },
          "execution_count": 15,
          "metadata": {},
          "output_type": "execute_result"
        }
      ],
      "source": [
        "# See if two ints are equal\n",
        "3==5"
      ]
    },
    {
      "cell_type": "code",
      "execution_count": null,
      "metadata": {
        "id": "q7q2HLcr8hCg",
        "outputId": "dc5df905-7abf-47ed-95d5-b7b5994f3bfa"
      },
      "outputs": [
        {
          "data": {
            "text/plain": [
              "True"
            ]
          },
          "execution_count": 16,
          "metadata": {},
          "output_type": "execute_result"
        }
      ],
      "source": [
        "# See if two ints are not equal\n",
        "3!=5"
      ]
    },
    {
      "cell_type": "code",
      "execution_count": null,
      "metadata": {
        "id": "ojGDDQuO8hCh",
        "outputId": "83a2e832-6a0d-47ab-c00f-970e01c02c2b"
      },
      "outputs": [
        {
          "data": {
            "text/plain": [
              "True"
            ]
          },
          "execution_count": 17,
          "metadata": {},
          "output_type": "execute_result"
        }
      ],
      "source": [
        "# See if a number is smaller than another\n",
        "3<5"
      ]
    },
    {
      "cell_type": "code",
      "execution_count": null,
      "metadata": {
        "id": "RhTZqDSz8hCh",
        "outputId": "a79b95d1-9db7-434f-d114-7c73bf66294e"
      },
      "outputs": [
        {
          "data": {
            "text/plain": [
              "True"
            ]
          },
          "execution_count": 18,
          "metadata": {},
          "output_type": "execute_result"
        }
      ],
      "source": [
        "# See if a number is smaller or equal to another\n",
        "3<=5"
      ]
    },
    {
      "cell_type": "code",
      "execution_count": null,
      "metadata": {
        "id": "eNamGYBd8hCi",
        "outputId": "56e0e360-ab91-4e93-f079-474945065316"
      },
      "outputs": [
        {
          "data": {
            "text/plain": [
              "False"
            ]
          },
          "execution_count": 19,
          "metadata": {},
          "output_type": "execute_result"
        }
      ],
      "source": [
        "# See if a number is larger than another\n",
        "3>5"
      ]
    },
    {
      "cell_type": "code",
      "execution_count": null,
      "metadata": {
        "id": "R3iRoApF8hCi",
        "outputId": "dc687057-6956-44be-d6db-15e342a99a79"
      },
      "outputs": [
        {
          "data": {
            "text/plain": [
              "False"
            ]
          },
          "execution_count": 20,
          "metadata": {},
          "output_type": "execute_result"
        }
      ],
      "source": [
        "# See if a number is larger or equal to another\n",
        "3>=5"
      ]
    },
    {
      "cell_type": "markdown",
      "metadata": {
        "id": "Vr0IVu5g8hCj"
      },
      "source": [
        "#### Booleans (logical operators)"
      ]
    },
    {
      "cell_type": "code",
      "execution_count": null,
      "metadata": {
        "id": "lIYzzSHI8hCj",
        "outputId": "bbdee340-78af-4254-8ec5-1c65321d1cd9"
      },
      "outputs": [
        {
          "data": {
            "text/plain": [
              "bool"
            ]
          },
          "execution_count": 23,
          "metadata": {},
          "output_type": "execute_result"
        }
      ],
      "source": [
        "type(True)"
      ]
    },
    {
      "cell_type": "code",
      "execution_count": null,
      "metadata": {
        "id": "ViCF2oy98hCk"
      },
      "outputs": [],
      "source": [
        "z = True\n",
        "print(type(z))"
      ]
    },
    {
      "cell_type": "markdown",
      "metadata": {
        "id": "kfHdB_fq8hCk"
      },
      "source": [
        "#### Float"
      ]
    },
    {
      "cell_type": "markdown",
      "metadata": {
        "id": "aUyxEqkX8hCl"
      },
      "source": [
        "Is how we call decimals in Python"
      ]
    },
    {
      "cell_type": "markdown",
      "metadata": {
        "id": "nq0Y0O9q8hCl"
      },
      "source": [
        "Up to 15 decimal places"
      ]
    },
    {
      "cell_type": "code",
      "execution_count": null,
      "metadata": {
        "id": "-uRtyxX48hCl"
      },
      "outputs": [],
      "source": [
        "y=6.9128973981278474987298765646464"
      ]
    },
    {
      "cell_type": "code",
      "execution_count": null,
      "metadata": {
        "id": "GMcgPMtR8hCl",
        "outputId": "a14399fd-cf78-47a4-b87b-491bd806d1d4"
      },
      "outputs": [
        {
          "name": "stdout",
          "output_type": "stream",
          "text": [
            "6.912897398127847\n"
          ]
        }
      ],
      "source": [
        "print(y)"
      ]
    },
    {
      "cell_type": "code",
      "execution_count": null,
      "metadata": {
        "id": "LfMFqpCi8hCm"
      },
      "outputs": [],
      "source": [
        "# If more than 15 decimal places are used, python truncates\n",
        "7.0789349236894739847398972348974238947"
      ]
    },
    {
      "cell_type": "code",
      "execution_count": null,
      "metadata": {
        "id": "lwNKsHKA8hCm",
        "outputId": "1f3e411d-1688-4299-e447-bb9ca6e7a3ae"
      },
      "outputs": [
        {
          "data": {
            "text/plain": [
              "False"
            ]
          },
          "execution_count": 30,
          "metadata": {},
          "output_type": "execute_result"
        }
      ],
      "source": [
        "# We can also compare floats, but funny things may happen!\n",
        "1.1+2.2==3.3"
      ]
    },
    {
      "cell_type": "markdown",
      "metadata": {
        "id": "8_3jx5jj8hCm"
      },
      "source": [
        "Do you know why?"
      ]
    },
    {
      "cell_type": "markdown",
      "metadata": {
        "id": "1aeTFTnl8hCm"
      },
      "source": [
        "![Fig. 14. Prove you are a robot!](https://www.dropbox.com/s/w9u524mgaezmxur/robot.jpg?raw=1)"
      ]
    },
    {
      "cell_type": "markdown",
      "metadata": {
        "id": "7gX2jKNZ8hCm"
      },
      "source": [
        "#### The `isinstance()` function"
      ]
    },
    {
      "cell_type": "code",
      "execution_count": null,
      "metadata": {
        "id": "NYQIS0WD8hCm",
        "outputId": "a8803fab-1767-4792-8d4e-6a82a5a81eb5"
      },
      "outputs": [
        {
          "data": {
            "text/plain": [
              "False"
            ]
          },
          "execution_count": 33,
          "metadata": {},
          "output_type": "execute_result"
        }
      ],
      "source": [
        "isinstance(x,float)"
      ]
    },
    {
      "cell_type": "code",
      "execution_count": null,
      "metadata": {
        "id": "BpGXLKvd8hCm"
      },
      "outputs": [],
      "source": [
        "isinstance(y,int)"
      ]
    },
    {
      "cell_type": "markdown",
      "metadata": {
        "id": "mMrkdVys8hCn"
      },
      "source": [
        "You can also work with complex, binary, octal and hexadecimal numbers in Python."
      ]
    },
    {
      "cell_type": "markdown",
      "metadata": {
        "id": "8hX3PjWN8hCn"
      },
      "source": [
        "#### Strings"
      ]
    },
    {
      "cell_type": "code",
      "execution_count": null,
      "metadata": {
        "id": "hG39cQ6u8hCn",
        "outputId": "43e53e9c-8111-49e9-b695-7c54cd12fdca"
      },
      "outputs": [
        {
          "name": "stdout",
          "output_type": "stream",
          "text": [
            "don't\n"
          ]
        }
      ],
      "source": [
        "a = 'don\\'t'\n",
        "print(a)"
      ]
    },
    {
      "cell_type": "code",
      "execution_count": null,
      "metadata": {
        "id": "P-pIpw4p8hCo"
      },
      "outputs": [],
      "source": [
        "# Any number inside quotations becomes a string\n",
        "c = \"45\"\n",
        "print(c)"
      ]
    },
    {
      "cell_type": "code",
      "execution_count": null,
      "metadata": {
        "id": "sYeOiIeq8hCo"
      },
      "outputs": [],
      "source": [
        "# A boolean inside quotations becomes a string\n",
        "b = \"True\"\n",
        "print(b)"
      ]
    },
    {
      "cell_type": "code",
      "execution_count": null,
      "metadata": {
        "id": "pmzCYIlm8hCo"
      },
      "outputs": [],
      "source": [
        "print(type(a),type(a),type(a))"
      ]
    },
    {
      "cell_type": "markdown",
      "metadata": {
        "id": "u2MpLFzW8hCo"
      },
      "source": [
        "### Conversion Functions"
      ]
    },
    {
      "cell_type": "markdown",
      "metadata": {
        "id": "xZ4ijRhb8hCp"
      },
      "source": [
        "![Fig. 15. Conversion Functions](https://www.dropbox.com/s/77jrypjzpdpegkn/cf.jpg?raw=1)"
      ]
    },
    {
      "cell_type": "code",
      "execution_count": null,
      "metadata": {
        "id": "XklEY6F18hCp",
        "outputId": "d2d5a107-126e-4d00-bb9e-67db3f5a30a8"
      },
      "outputs": [
        {
          "data": {
            "text/plain": [
              "7"
            ]
          },
          "execution_count": 39,
          "metadata": {},
          "output_type": "execute_result"
        }
      ],
      "source": [
        "# the int() function can convert any number into an integer. \n",
        "# Mostly used to round floats\n",
        "int(7.8)"
      ]
    },
    {
      "cell_type": "code",
      "execution_count": null,
      "metadata": {
        "id": "zUG0hnC78hCp",
        "outputId": "eeb81aa0-c961-4aab-97f8-2d73e286bb28"
      },
      "outputs": [
        {
          "data": {
            "text/plain": [
              "1"
            ]
          },
          "execution_count": 40,
          "metadata": {},
          "output_type": "execute_result"
        }
      ],
      "source": [
        "# Converting booleans into ints\n",
        "int(True)"
      ]
    },
    {
      "cell_type": "code",
      "execution_count": null,
      "metadata": {
        "id": "nIc2Izad8hCp",
        "outputId": "646a861c-7ca4-4fd7-be29-9667dda9cd34"
      },
      "outputs": [
        {
          "data": {
            "text/plain": [
              "9.0"
            ]
          },
          "execution_count": 41,
          "metadata": {},
          "output_type": "execute_result"
        }
      ],
      "source": [
        "# float function adds a 0 decimal to an int\n",
        "float(9)"
      ]
    },
    {
      "cell_type": "code",
      "execution_count": null,
      "metadata": {
        "id": "JhWNo6XP8hCq",
        "outputId": "a1c51337-61d5-4d43-e37f-eb4c0e8f6754"
      },
      "outputs": [
        {
          "data": {
            "text/plain": [
              "False"
            ]
          },
          "execution_count": 43,
          "metadata": {},
          "output_type": "execute_result"
        }
      ],
      "source": [
        "# bool() turns any number to TRUE (other than 0)\n",
        "bool(0)"
      ]
    },
    {
      "cell_type": "code",
      "execution_count": null,
      "metadata": {
        "id": "kxgYAZp28hCq"
      },
      "outputs": [],
      "source": [
        "bool(0)"
      ]
    },
    {
      "cell_type": "markdown",
      "metadata": {
        "id": "JZjcQzvM8hCq"
      },
      "source": [
        "# Data Structures"
      ]
    },
    {
      "cell_type": "markdown",
      "metadata": {
        "id": "IkapqWCx8hCq"
      },
      "source": [
        "![Fig. 16. Python Data Structures](https://www.dropbox.com/s/c6uk6ptsnb7x83i/ds.jpg?raw=1)"
      ]
    },
    {
      "cell_type": "markdown",
      "metadata": {
        "id": "oJuNHxmn8hCq"
      },
      "source": [
        "### Tuples"
      ]
    },
    {
      "cell_type": "markdown",
      "metadata": {
        "id": "r-dOLp1h8hCr"
      },
      "source": [
        "**IMMUTABLE** collection of elements"
      ]
    },
    {
      "cell_type": "markdown",
      "metadata": {
        "id": "pzKX9Yvy8hCr"
      },
      "source": [
        "Defined using parenthesis and separating elements with commas"
      ]
    },
    {
      "cell_type": "markdown",
      "metadata": {
        "id": "VW4RtnOr8hCr"
      },
      "source": [
        "Not all elements in a tuple have to be of the same type"
      ]
    },
    {
      "cell_type": "code",
      "execution_count": null,
      "metadata": {
        "id": "diBbPTH98hCr",
        "outputId": "d1f1ae28-07f6-40ee-e686-1123f9c31ba4"
      },
      "outputs": [
        {
          "data": {
            "text/plain": [
              "(1, 2, 3)"
            ]
          },
          "execution_count": 44,
          "metadata": {},
          "output_type": "execute_result"
        }
      ],
      "source": [
        "tuple1 = (1,2,3)\n",
        "tuple1"
      ]
    },
    {
      "cell_type": "code",
      "execution_count": null,
      "metadata": {
        "id": "F7o_PF4f8hCs",
        "outputId": "c561e93f-e92d-4180-a7bc-d7932e6b5979"
      },
      "outputs": [
        {
          "data": {
            "text/plain": [
              "(1, 'g', 4.4, True)"
            ]
          },
          "execution_count": 45,
          "metadata": {},
          "output_type": "execute_result"
        }
      ],
      "source": [
        "tuple2 = (1,'g',4.4,True)\n",
        "tuple2"
      ]
    },
    {
      "cell_type": "markdown",
      "metadata": {
        "id": "2KuARnaA8hCs"
      },
      "source": [
        "### Lists"
      ]
    },
    {
      "cell_type": "markdown",
      "metadata": {
        "id": "zghCjGVE8hCs"
      },
      "source": [
        "**MUTABLE** collection of elements"
      ]
    },
    {
      "cell_type": "markdown",
      "metadata": {
        "id": "h535O8-I8hCs"
      },
      "source": [
        "Defined using squared brackets and separating elements with commas"
      ]
    },
    {
      "cell_type": "markdown",
      "metadata": {
        "id": "24t5EmuS8hCt"
      },
      "source": [
        "Not all elements in a list have to be of the same type"
      ]
    },
    {
      "cell_type": "code",
      "execution_count": null,
      "metadata": {
        "id": "yEZdHKDf8hCt",
        "outputId": "2fc1021f-cb65-452a-ca9b-b116bbb1513d"
      },
      "outputs": [
        {
          "data": {
            "text/plain": [
              "[1, 2, 3]"
            ]
          },
          "execution_count": 46,
          "metadata": {},
          "output_type": "execute_result"
        }
      ],
      "source": [
        "list1 = [1,2,3]\n",
        "list1"
      ]
    },
    {
      "cell_type": "code",
      "execution_count": null,
      "metadata": {
        "id": "hriGe9T_8hCt",
        "outputId": "004211f0-4381-4f42-ff53-59d304fcc911"
      },
      "outputs": [
        {
          "data": {
            "text/plain": [
              "[1, 'g', 4.4, True]"
            ]
          },
          "execution_count": 47,
          "metadata": {},
          "output_type": "execute_result"
        }
      ],
      "source": [
        "list2 = [1,'g',4.4,True]\n",
        "list2"
      ]
    },
    {
      "cell_type": "markdown",
      "metadata": {
        "id": "6caoKCOy8hCt"
      },
      "source": [
        "### The `len()` function"
      ]
    },
    {
      "cell_type": "code",
      "execution_count": null,
      "metadata": {
        "id": "_94eMHMY8hCu",
        "outputId": "53172fa4-70df-4df3-cd7c-296476f315bc"
      },
      "outputs": [
        {
          "data": {
            "text/plain": [
              "3"
            ]
          },
          "execution_count": 48,
          "metadata": {},
          "output_type": "execute_result"
        }
      ],
      "source": [
        "len(tuple1)"
      ]
    },
    {
      "cell_type": "code",
      "execution_count": null,
      "metadata": {
        "id": "o60-87Sa8hCu",
        "outputId": "41389f16-abca-4004-ec48-e597f340040c"
      },
      "outputs": [
        {
          "data": {
            "text/plain": [
              "4"
            ]
          },
          "execution_count": 49,
          "metadata": {},
          "output_type": "execute_result"
        }
      ],
      "source": [
        "len(list2)"
      ]
    },
    {
      "cell_type": "markdown",
      "metadata": {
        "id": "dcwbD_2r8hCu"
      },
      "source": [
        "### Accessing an element in a tuple/list"
      ]
    },
    {
      "cell_type": "markdown",
      "metadata": {
        "id": "N_j0fk2U8hCu"
      },
      "source": [
        "We can access to all positions in a tuple/list by using squared brackets **after** the tuple/list"
      ]
    },
    {
      "cell_type": "markdown",
      "metadata": {
        "id": "lRJVRLcY8hCv"
      },
      "source": [
        "**Indexes in Python begin in 0!**"
      ]
    },
    {
      "cell_type": "code",
      "execution_count": null,
      "metadata": {
        "id": "DTLj1Akc8hCv",
        "outputId": "7151f2db-c18d-4027-a00c-554958113bc3"
      },
      "outputs": [
        {
          "data": {
            "text/plain": [
              "False"
            ]
          },
          "execution_count": 53,
          "metadata": {},
          "output_type": "execute_result"
        }
      ],
      "source": [
        "\n",
        "# Access the first element of list1\n",
        "tuple1[0]==list1[0]"
      ]
    },
    {
      "cell_type": "code",
      "execution_count": null,
      "metadata": {
        "id": "PFUGQSfY8hCv"
      },
      "outputs": [],
      "source": [
        "print(tuple2)\n",
        "# Access the second element of tuple2\n",
        "tuple2[1]"
      ]
    },
    {
      "cell_type": "markdown",
      "metadata": {
        "id": "gOf8lyTK8hCv"
      },
      "source": [
        "Why do we need two very similar structures such as tuples and lists? "
      ]
    },
    {
      "cell_type": "markdown",
      "metadata": {
        "id": "Lxw57lwp8hCw"
      },
      "source": [
        "# Coursework Clarification"
      ]
    },
    {
      "cell_type": "markdown",
      "metadata": {
        "id": "dSVBKT_88hCw"
      },
      "source": [
        "# LAB: Getting Familiar with Python & Jupyter Notebook"
      ]
    },
    {
      "cell_type": "markdown",
      "metadata": {
        "id": "T4NiChth8hCw"
      },
      "source": [
        "In case you weren't here last week or you still have issues with Python and/or Jupyter Notebook, we will solve your queries"
      ]
    },
    {
      "cell_type": "markdown",
      "metadata": {
        "id": "5inPY0Mq8hCw"
      },
      "source": [
        "Moreover, you can test if all extensions are working, such as Rise, Spellcheck and others"
      ]
    },
    {
      "cell_type": "markdown",
      "metadata": {
        "id": "YGSL_1yE8hCw"
      },
      "source": [
        "Finally, if you want to practice I will enable some courses in Datacamp"
      ]
    }
  ],
  "metadata": {
    "celltoolbar": "Slideshow",
    "hide_input": false,
    "kernelspec": {
      "display_name": "Python 3",
      "language": "python",
      "name": "python3"
    },
    "language_info": {
      "codemirror_mode": {
        "name": "ipython",
        "version": 3
      },
      "file_extension": ".py",
      "mimetype": "text/x-python",
      "name": "python",
      "nbconvert_exporter": "python",
      "pygments_lexer": "ipython3",
      "version": "3.7.3"
    },
    "rise": {
      "enable_chalkboard": true
    },
    "varInspector": {
      "cols": {
        "lenName": 16,
        "lenType": 16,
        "lenVar": 40
      },
      "kernels_config": {
        "python": {
          "delete_cmd_postfix": "",
          "delete_cmd_prefix": "del ",
          "library": "var_list.py",
          "varRefreshCmd": "print(var_dic_list())"
        },
        "r": {
          "delete_cmd_postfix": ") ",
          "delete_cmd_prefix": "rm(",
          "library": "var_list.r",
          "varRefreshCmd": "cat(var_dic_list()) "
        }
      },
      "types_to_exclude": [
        "module",
        "function",
        "builtin_function_or_method",
        "instance",
        "_Feature"
      ],
      "window_display": false
    },
    "colab": {
      "name": "CMM536_T2_Lec.ipynb",
      "provenance": [],
      "collapsed_sections": [
        "I48U3dSV8hCH",
        "uC8_BLTh8hCI",
        "Dtq0qwjF8hCK",
        "owiXwKCR8hCN",
        "e7wrsCbc8hCO",
        "SKIXWIi38hCO",
        "nvrjLsDY8hCQ",
        "FeSnohNl8hCR",
        "aiR9QNuu8hCR",
        "K4lBW1ka8hCT",
        "56PlWVOA8hCV",
        "MONj-wc08hCX",
        "TqrUaRYv8hCY",
        "8dwUhxjO8hCe",
        "Du_8dmSR8hCe",
        "Vr0IVu5g8hCj",
        "kfHdB_fq8hCk",
        "7gX2jKNZ8hCm",
        "8hX3PjWN8hCn",
        "u2MpLFzW8hCo",
        "oJuNHxmn8hCq",
        "2KuARnaA8hCs",
        "6caoKCOy8hCt",
        "dcwbD_2r8hCu"
      ],
      "include_colab_link": true
    }
  },
  "nbformat": 4,
  "nbformat_minor": 0
}