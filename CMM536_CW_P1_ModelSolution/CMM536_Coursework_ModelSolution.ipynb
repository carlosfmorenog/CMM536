{
 "cells": [
  {
   "cell_type": "markdown",
   "metadata": {},
   "source": [
    "# PART 1: Loading/preprocessing images and creating additional datasets"
   ]
  },
  {
   "cell_type": "code",
   "execution_count": 5,
   "metadata": {},
   "outputs": [],
   "source": [
    "## Importing the necessary packages\n",
    "import numpy as np\n",
    "import pandas as pd\n",
    "import seaborn as sns\n",
    "import os\n",
    "import cv2\n",
    "import csv\n",
    "from skimage import feature\n",
    "import matplotlib.pyplot as plt\n",
    "from sklearn import preprocessing\n",
    "# I use this to print the plots in the notebook\n",
    "%matplotlib inline\n",
    "# I use this to give a white background to the images in my dark theme notebook\n",
    "from matplotlib import style\n",
    "style.use('dark_background')\n",
    "sns.set(style=\"whitegrid\")"
   ]
  },
  {
   "cell_type": "markdown",
   "metadata": {},
   "source": [
    "I downloaded the dataset from [here](https://github.com/chandrikadeb7/Face-Mask-Detection), removing some instances manually to have a total of 1600 images of faces without a mask and 600 images of people with mask."
   ]
  },
  {
   "cell_type": "markdown",
   "metadata": {},
   "source": [
    "With the following code it is possible to load the dataset, resize/binarise the images, and then create an additional image repository using Histogram of Gradients (HOG)."
   ]
  },
  {
   "cell_type": "code",
   "execution_count": 6,
   "metadata": {
    "hide_input": false
   },
   "outputs": [
    {
     "name": "stdout",
     "output_type": "stream",
     "text": [
      "\n",
      "Loading images...\n"
     ]
    },
    {
     "name": "stderr",
     "output_type": "stream",
     "text": [
      "C:\\Anaconda\\lib\\site-packages\\skimage\\feature\\_hog.py:150: skimage_deprecation: Default value of `block_norm`==`L1` is deprecated and will be changed to `L2-Hys` in v0.15. To supress this message specify explicitly the normalization method.\n",
      "  skimage_deprecation)\n"
     ]
    },
    {
     "name": "stdout",
     "output_type": "stream",
     "text": [
      "\n",
      "Calculating class distribution...\n",
      "          Class  Number of Samples\n",
      "0     with_mask                600\n",
      "1  without_mask               1600\n",
      "Total images: 2200\n",
      "\n",
      "Showing class distribution bar chart...\n"
     ]
    },
    {
     "data": {
      "image/png": "[encoded data removed]",
      "text/plain": [
       "<Figure size 720x432 with 1 Axes>"
      ]
     },
     "metadata": {},
     "output_type": "display_data"
    },
    {
     "name": "stdout",
     "output_type": "stream",
     "text": [
      "Size of target:  2200\n",
      "Size of original repository:  (2200, 10000)\n",
      "Example of the original repository: \n",
      "[[242 241 241 ...  38  41  43]\n",
      " [212 189 161 ... 128 127 127]\n",
      " [ 18  23  20 ... 233 233 235]\n",
      " ...\n",
      " [ 26  27  28 ...  69  67  66]\n",
      " [ 32  32  34 ... 149 155 156]\n",
      " [166 148 117 ...  42  45  47]]\n",
      "Size of binarised data structure:  (2200, 10000)\n",
      "Example of the binarised repository: \n",
      "[[255 255 255 ...   0   0   0]\n",
      " [255 255   0 ...   0   0   0]\n",
      " [  0   0   0 ... 255 255 255]\n",
      " ...\n",
      " [  0   0   0 ...   0   0   0]\n",
      " [  0   0   0 ...   0   0   0]\n",
      " [  0   0   0 ...   0   0   0]]\n",
      "Size of HOG features data structure:  (2200, 1800)\n",
      "Example of the HOG repository: \n",
      "[[0.02900035 0.02449609 0.02765162 ... 0.03078451 0.04618735 0.012421  ]\n",
      " [0.11356097 0.0079037  0.00372234 ... 0.01835677 0.00335064 0.        ]\n",
      " [0.08076974 0.01799404 0.04536206 ... 0.00797704 0.00512518 0.00419422]\n",
      " ...\n",
      " [0.1527991  0.02251848 0.02054662 ... 0.00469979 0.         0.        ]\n",
      " [0.12178626 0.11175205 0.18777976 ... 0.00934663 0.         0.00487733]\n",
      " [0.12723232 0.         0.         ... 0.06196005 0.02081309 0.02317184]]\n",
      "\n",
      "Saving dataset as .csv files...\n",
      "\n",
      "Data saved into .csv files!\n"
     ]
    }
   ],
   "source": [
    "################################ 1. DEFINE CLASS TO EXTRACT HOG FEATURES ################################    \n",
    "class HOG:\n",
    "    def __init__(self, orientations = 9, pixelsPerCell = (8, 8),\n",
    "        cellsPerBlock = (3, 3), transform = False):\n",
    "        # store the number of orientations, pixels per cell,\n",
    "        # cells per block, and whether or not power law\n",
    "        # compression should be applied\n",
    "        self.orienations = orientations\n",
    "        self.pixelsPerCell = pixelsPerCell\n",
    "        self.cellsPerBlock = cellsPerBlock\n",
    "        self.transform = transform\n",
    "\n",
    "    def describe(self, image):\n",
    "        # compute HOG for the image\n",
    "        hist = feature.hog(image, orientations = self.orienations,\n",
    "            pixels_per_cell = self.pixelsPerCell,\n",
    "            cells_per_block = self.cellsPerBlock,\n",
    "            transform_sqrt = self.transform)\n",
    "        ## return the HOG features\n",
    "        return hist\n",
    "    \n",
    "hog = HOG(orientations = 18, pixelsPerCell = (10, 10), cellsPerBlock = (1, 1), transform = True)\n",
    "\n",
    "########  2. LOAD IMAGES (FOR ORIGINAL REPO), BINARISE (FOR PREPROCESSED REPO) & EXTRACT HOG FEATURES (FOR FEATURE REPO) ######## \n",
    "\n",
    "bin_thresh = 180 # Threshold for binarisation\n",
    "resize_factor = 100 # applies for both height and width\n",
    "\n",
    "path = 'data'\n",
    "datarepo = [] # List to append the images as 2D numpy arrays\n",
    "originalrepo = [] # Create a repo for flattened pixels\n",
    "binarisedrepo = []  # Create a list to append the binarised pixels\n",
    "hogrepo = [] # Create a list to append the HOG features\n",
    "target = [] # List to append the target/class/label\n",
    "print('\\nLoading images...')\n",
    "for root, dirs, files in os.walk(path):\n",
    "     for file in files:\n",
    "        with open(os.path.join(root, file), \"r\") as auto:\n",
    "            img = cv2.imread(root+'/'+file, 0)\n",
    "            img = cv2.resize(img, (resize_factor, resize_factor)) \n",
    "            datarepo.append(img)\n",
    "            originalrepo.append(img.flatten())\n",
    "            _, img_bin = cv2.threshold(img, bin_thresh, 255, 0) \n",
    "            # Append the flattened image to the pixel repo\n",
    "            binarisedrepo.append(img_bin.flatten())\n",
    "            # Extract HOG and append to HOG repo\n",
    "            hogfeatures = hog.describe(img)\n",
    "            hogrepo.append(hogfeatures)\n",
    "            # Append the folder where the image is to the target list\n",
    "            target.append(root.replace(path,'').replace('\\\\',''))\n",
    "            \n",
    "# Convert the repo lists into numpy arrays\n",
    "originalrepo = np.array(originalrepo)\n",
    "binarisedrepo = np.array(binarisedrepo)\n",
    "hogrepo = np.array(hogrepo)\n",
    "\n",
    "########################## 3. CALCULATE THE DISTRIBUTION AND SHOW REPOS ##########################\n",
    "\n",
    "print('\\nCalculating class distribution...')\n",
    "histo = [['Class','Number of Samples']]\n",
    "for i, label1 in enumerate(sorted(list(set(target)))):\n",
    "    cont = 0\n",
    "    for j, label2 in enumerate(target):\n",
    "        if label1 == label2:\n",
    "            cont+=1\n",
    "    histo.append([label1,cont])\n",
    "histo.append(['Total Samples', len(target)])\n",
    "## Save the histogram as a .csv file   \n",
    "with open('classdistribution.csv', 'w', newline='', encoding='utf-8') as csvfile:\n",
    "    filewriter = csv.writer(csvfile, delimiter=',')\n",
    "    for i, hist in enumerate(histo):\n",
    "        filewriter.writerow(hist)\n",
    "## Load as a panda\n",
    "histo_panda = pd.DataFrame.from_records(histo[1:-1], columns=histo[0])\n",
    "print(histo_panda)\n",
    "print('Total images: '+str(len(target)))\n",
    "## Create a histogram using seaborn\n",
    "sns_plot = sns.barplot(y=\"Class\", x=\"Number of Samples\", data=histo_panda)\n",
    "## Save the image\n",
    "sns_plot.figure.set_size_inches(10,6)\n",
    "sns_plot.figure.savefig('barchart.jpg', orientation = 'landscape', dpi = 600, transparent=True)\n",
    "print('\\nShowing class distribution bar chart...')\n",
    "plt.show()\n",
    "print('Size of target: ', len(target))\n",
    "print('Size of original repository: ', originalrepo.shape)\n",
    "print('Example of the original repository: ')\n",
    "print(originalrepo)\n",
    "print('Size of binarised data structure: ', binarisedrepo.shape)\n",
    "print('Example of the binarised repository: ')\n",
    "print(binarisedrepo)\n",
    "print('Size of HOG features data structure: ', hogrepo.shape)\n",
    "print('Example of the HOG repository: ')\n",
    "print(hogrepo)\n",
    "\n",
    "################################ 4. SAVE THE DATASETS AS CSV FILES ################################\n",
    "\n",
    "print('\\nSaving datasets as .csv files...')   \n",
    "\n",
    "with open('original.csv', 'w', newline='', encoding='utf-8') as csvfile:\n",
    "    filewriter = csv.writer(csvfile, delimiter=',')\n",
    "    for i, pix in enumerate(originalrepo):\n",
    "        row = np.concatenate((pix,[target[i]]))\n",
    "        filewriter.writerow(row)\n",
    "\n",
    "with open('hog.csv', 'w', newline='', encoding='utf-8') as csvfile:\n",
    "    filewriter = csv.writer(csvfile, delimiter=',')\n",
    "    for i, h in enumerate(hogrepo):\n",
    "        row = np.concatenate((h,[target[i]]))\n",
    "        filewriter.writerow(row)\n",
    "\n",
    "with open('binarised.csv', 'w', newline='', encoding='utf-8') as csvfile:\n",
    "    filewriter = csv.writer(csvfile, delimiter=',')\n",
    "    for i, l in enumerate(binarisedrepo):\n",
    "        row = np.concatenate((l,[target[i]]))\n",
    "        filewriter.writerow(row)\n",
    "\n",
    "print('\\nData saved into .csv files!')  "
   ]
  },
  {
   "cell_type": "markdown",
   "metadata": {},
   "source": [
    "In the next cell, I implemented Random OverSampling (ROS, more info about this algorithm [here](https://imbalanced-learn.readthedocs.io/en/stable/over_sampling.html)) to perform augmentation of the HOG dataset to balance the classes to 1600 each. This new dataset has 3200 samples in total."
   ]
  },
  {
   "cell_type": "code",
   "execution_count": 7,
   "metadata": {},
   "outputs": [
    {
     "name": "stdout",
     "output_type": "stream",
     "text": [
      "\n",
      "Calculating class distribution (after ROS)...\n",
      "          Class  Number of Samples\n",
      "0     with_mask               1600\n",
      "1  without_mask               1600\n",
      "Total images: 3200\n",
      "\n",
      "Showing class distribution bar chart (after ros)...\n"
     ]
    },
    {
     "data": {
      "image/png": "[encoded data removed]",
      "text/plain": [
       "<Figure size 720x432 with 1 Axes>"
      ]
     },
     "metadata": {},
     "output_type": "display_data"
    },
    {
     "name": "stdout",
     "output_type": "stream",
     "text": [
      "Size of ROS augmented target:  3200\n",
      "Size of ROS augmented repository:  (3200, 1800)\n",
      "Example of the ROS augmented repository: \n",
      "[[0.02900035 0.02449609 0.02765162 ... 0.03078451 0.04618735 0.012421  ]\n",
      " [0.11356097 0.0079037  0.00372234 ... 0.01835677 0.00335064 0.        ]\n",
      " [0.08076974 0.01799404 0.04536206 ... 0.00797704 0.00512518 0.00419422]\n",
      " ...\n",
      " [0.07712584 0.         0.00798625 ... 0.0708078  0.02744511 0.01469945]\n",
      " [0.24304768 0.05080687 0.01622416 ... 0.01344316 0.01201563 0.00358632]\n",
      " [0.05818418 0.01897425 0.04017461 ... 0.0632027  0.01673798 0.04224042]]\n",
      "\n",
      "Saving dataset as .csv file...\n",
      "\n",
      "Data saved!\n"
     ]
    }
   ],
   "source": [
    "########################## 1. CALCULATE NEW DATASET USING RANDOM OVERSAMPLING (ROS) ##########################\n",
    "\n",
    "from imblearn.over_sampling import RandomOverSampler\n",
    "ros = RandomOverSampler(random_state=0)\n",
    "hogrepo_ros, target_ros = ros.fit_resample(hogrepo,target)\n",
    "\n",
    "################################ 2. CALCULATE THE DISTRIBUTION AFTER ROS ################################\n",
    "\n",
    "print('\\nCalculating class distribution (after ROS)...')\n",
    "histo = [['Class','Number of Samples']]\n",
    "for i, label1 in enumerate(sorted(list(set(target_ros)))):\n",
    "    cont = 0\n",
    "    for j, label2 in enumerate(target_ros):\n",
    "        if label1 == label2:\n",
    "            cont+=1\n",
    "    histo.append([label1,cont])\n",
    "histo.append(['Total Samples', len(target_ros)])\n",
    "## Save the histogram as a .csv file   \n",
    "with open('classdistribution_ros.csv', 'w', newline='', encoding='utf-8') as csvfile:\n",
    "    filewriter = csv.writer(csvfile, delimiter=',')\n",
    "    for i, hist in enumerate(histo):\n",
    "        filewriter.writerow(hist)\n",
    "## Convert histo into a panda dataframe\n",
    "histo_panda = pd.DataFrame.from_records(histo[1:-1], columns=histo[0])\n",
    "print(histo_panda)\n",
    "print('Total images: '+str(len(target_ros)))\n",
    "## Create a histogram using seaborn\n",
    "sns_plot = sns.barplot(y=\"Class\", x=\"Number of Samples\", data=histo_panda)\n",
    "## Save the image\n",
    "sns_plot.figure.set_size_inches(10,6)\n",
    "sns_plot.figure.savefig('barchart_ros.jpg', orientation = 'landscape', dpi = 600, transparent=True)\n",
    "print('\\nShowing class distribution bar chart (after ros)...')\n",
    "plt.show()\n",
    "\n",
    "print('Size of ROS augmented target: ', len(target_ros))\n",
    "print('Size of ROS augmented repository: ', hogrepo_ros.shape)\n",
    "print('Example of the ROS augmented repository: ')\n",
    "print(hogrepo_ros)\n",
    "\n",
    "################################ 3. SAVE THE ROS DATASET AS CSV FILE ################################\n",
    "\n",
    "print('\\nSaving dataset as .csv file...')   \n",
    "\n",
    "with open('hog_ros.csv', 'w', newline='', encoding='utf-8') as csvfile:\n",
    "    filewriter = csv.writer(csvfile, delimiter=',')\n",
    "    for i, h in enumerate(hogrepo_ros):\n",
    "        row = np.concatenate((h,[target_ros[i]]))\n",
    "        filewriter.writerow(row)\n",
    "        \n",
    "print('\\nData saved!')  "
   ]
  },
  {
   "cell_type": "markdown",
   "metadata": {},
   "source": [
    "Finally, the following cell performs the classical class decomposition with *kmeans* to create a pixel repository with the decomposed classes. The size of the final repository remains at 2200 samples but now it has 3 classes in total."
   ]
  },
  {
   "cell_type": "code",
   "execution_count": 8,
   "metadata": {},
   "outputs": [
    {
     "name": "stdout",
     "output_type": "stream",
     "text": [
      "\n",
      "Calculating k values...\n",
      "Values of k for each class:  [1, 2]\n",
      "Number of classes after class decomposition:  3\n",
      "\n",
      "Class decomposition by applying k-means...\n",
      "Number of clusters for class with_mask: 1\n",
      "Number of clusters for class without_mask: 2\n",
      "\n",
      "Calculating class distribution (after class decomposition)...\n",
      "             Class  Number of Samples\n",
      "0     with_mask_c0                600\n",
      "1  without_mask_c0                799\n",
      "2  without_mask_c1                801\n",
      "Total images: 2200\n",
      "\n",
      "Showing class distribution bar chart (after cd)...\n"
     ]
    },
    {
     "data": {
      "image/png": "[encoded data removed]",
      "text/plain": [
       "<Figure size 720x432 with 1 Axes>"
      ]
     },
     "metadata": {},
     "output_type": "display_data"
    },
    {
     "name": "stdout",
     "output_type": "stream",
     "text": [
      "\n",
      "Saving dataset as .csv file...\n",
      "\n",
      "Data saved!\n"
     ]
    }
   ],
   "source": [
    "################################ 1. CALCULATE K USING STANDARD BALANCING EQ ################################\n",
    "\n",
    "def standardbalancingequation(target):\n",
    "    '''This function follows the standard balancing equation to calculate k for each class'''\n",
    "    import math\n",
    "    print('\\nCalculating k values...')\n",
    "    ## Obtain the number of classes in label list and sort\n",
    "    labelsIndexesUnique = list(set(target))\n",
    "    labelsIndexesUnique.sort()\n",
    "    ## For each class, count the number of instances and calculate ki\n",
    "    k = []\n",
    "    for label in labelsIndexesUnique:\n",
    "        k.append(target.count(label))\n",
    "    avgInst = sum(k)/len(k)\n",
    "    k = [math.floor((ki/avgInst)+1) for ki in k]\n",
    "    print('Values of k for each class: ', k)\n",
    "    return k\n",
    "\n",
    "k_kmeans = standardbalancingequation(target)\n",
    "print('Number of classes after class decomposition: ', sum(k_kmeans))\n",
    "\n",
    "################################ 2. CLASS DECOMPOSITION USING KMEANS ################################\n",
    "\n",
    "def CDKmeans(data, target, k):\n",
    "    print('\\nClass decomposition by applying k-means...')    \n",
    "    from sklearn.cluster import KMeans\n",
    "    target_cd = ['']*len(target)\n",
    "    IndexesUnique = list(set(target))\n",
    "    IndexesUnique.sort()\n",
    "    for i, label in enumerate(IndexesUnique):\n",
    "        print('Number of clusters for class '+str(label)+': '+str(k[i]))\n",
    "        ## Split the dataset\n",
    "        data_tocluster = []\n",
    "        data_tocluster_index = []\n",
    "        for j, dat in enumerate(data):\n",
    "            if target[j]==label:\n",
    "                data_tocluster.append(dat)\n",
    "                data_tocluster_index.append(j)\n",
    "        if 1<k[i]<=len(data_tocluster):\n",
    "                ## Apply k-means to the list    \n",
    "                kmeans = KMeans(n_clusters=k[i], random_state=0).fit(data_tocluster)\n",
    "                for n, m in enumerate(kmeans.labels_):\n",
    "                    target_cd[data_tocluster_index[n]]=str(label)+'_c'+str(m)\n",
    "        else:\n",
    "            for m in data_tocluster_index:\n",
    "                target_cd[m]=str(label)+'_c0'\n",
    "    return target_cd\n",
    "\n",
    "target_cd = CDKmeans(originalrepo, target, k_kmeans)\n",
    "\n",
    "################################ 3. CALCULATE THE DISTRIBUTION AFTER CD ################################\n",
    "\n",
    "print('\\nCalculating class distribution (after class decomposition)...')\n",
    "histo = [['Class','Number of Samples']]\n",
    "for i, label1 in enumerate(sorted(list(set(target_cd)))):\n",
    "    cont = 0\n",
    "    for j, label2 in enumerate(target_cd):\n",
    "        if label1 == label2:\n",
    "            cont+=1\n",
    "    histo.append([label1,cont])\n",
    "histo.append(['Total Samples', len(target_cd)])\n",
    "## Save the histogram as a .csv file   \n",
    "with open('classdistribution_cd.csv', 'w', newline='', encoding='utf-8') as csvfile:\n",
    "    filewriter = csv.writer(csvfile, delimiter=',')\n",
    "    for i, hist in enumerate(histo):\n",
    "        filewriter.writerow(hist)\n",
    "## Convert histo into a panda dataframe\n",
    "histo_panda = pd.DataFrame.from_records(histo[1:-1], columns=histo[0])\n",
    "print(histo_panda)\n",
    "print('Total images: '+str(len(target_cd)))\n",
    "## Create a histogram using seaborn\n",
    "sns_plot = sns.barplot(y=\"Class\", x=\"Number of Samples\", data=histo_panda)\n",
    "## Save the image\n",
    "sns_plot.figure.set_size_inches(10,6)\n",
    "sns_plot.figure.savefig('barchart_cd.jpg', orientation = 'landscape', dpi = 600, transparent=True)\n",
    "print('\\nShowing class distribution bar chart (after cd)...')\n",
    "plt.show()\n",
    "\n",
    "################################ 4. SAVE THE CD DATASET AS CSV FILE ################################\n",
    "\n",
    "print('\\nSaving dataset as .csv file...')   \n",
    "\n",
    "with open('original_cd.csv', 'w', newline='', encoding='utf-8') as csvfile:\n",
    "    filewriter = csv.writer(csvfile, delimiter=',')\n",
    "    for i, pix in enumerate(originalrepo):\n",
    "        row = np.concatenate((pix,[target_cd[i]]))\n",
    "        filewriter.writerow(row)\n",
    "        \n",
    "print('\\nData saved!')"
   ]
  },
  {
   "cell_type": "markdown",
   "metadata": {},
   "source": [
    "After this, classification can be applied!"
   ]
  }
 ],
 "metadata": {
  "hide_input": false,
  "kernelspec": {
   "display_name": "Python 3",
   "language": "python",
   "name": "python3"
  },
  "language_info": {
   "codemirror_mode": {
    "name": "ipython",
    "version": 3
   },
   "file_extension": ".py",
   "mimetype": "text/x-python",
   "name": "python",
   "nbconvert_exporter": "python",
   "pygments_lexer": "ipython3",
   "version": "3.7.3"
  },
  "varInspector": {
   "cols": {
    "lenName": 16,
    "lenType": 16,
    "lenVar": 40
   },
   "kernels_config": {
    "python": {
     "delete_cmd_postfix": "",
     "delete_cmd_prefix": "del ",
     "library": "var_list.py",
     "varRefreshCmd": "print(var_dic_list())"
    },
    "r": {
     "delete_cmd_postfix": ") ",
     "delete_cmd_prefix": "rm(",
     "library": "var_list.r",
     "varRefreshCmd": "cat(var_dic_list()) "
    }
   },
   "types_to_exclude": [
    "module",
    "function",
    "builtin_function_or_method",
    "instance",
    "_Feature"
   ],
   "window_display": false
  }
 },
 "nbformat": 4,
 "nbformat_minor": 2
}
