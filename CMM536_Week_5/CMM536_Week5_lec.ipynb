{
 "cells": [
  {
   "cell_type": "code",
   "execution_count": null,
   "metadata": {
    "hide_input": false,
    "slideshow": {
     "slide_type": "skip"
    }
   },
   "outputs": [],
   "source": [
    "# This cell is used to change parameter of the rise slideshow, \n",
    "# such as the window width/height and enabling a scroll bar\n",
    "from notebook.services.config import ConfigManager\n",
    "cm = ConfigManager()\n",
    "cm.update('livereveal', {\n",
    "              'width': 1700,\n",
    "              'height': 800,\n",
    "              'scroll': True,\n",
    "})"
   ]
  },
  {
   "cell_type": "markdown",
   "metadata": {
    "slideshow": {
     "slide_type": "slide"
    }
   },
   "source": [
    "# Week 5 - Methods to Address Class Imbalance"
   ]
  },
  {
   "cell_type": "markdown",
   "metadata": {
    "slideshow": {
     "slide_type": "slide"
    }
   },
   "source": [
    "## Aims of the Session"
   ]
  },
  {
   "cell_type": "markdown",
   "metadata": {
    "slideshow": {
     "slide_type": "fragment"
    }
   },
   "source": [
    "* Understand the concept of class imbalance and how it affects the classification of data in general"
   ]
  },
  {
   "cell_type": "markdown",
   "metadata": {
    "slideshow": {
     "slide_type": "fragment"
    }
   },
   "source": [
    "* Learn how to implement some popular data-based methods to address this problem"
   ]
  },
  {
   "cell_type": "markdown",
   "metadata": {
    "slideshow": {
     "slide_type": "slide"
    }
   },
   "source": [
    "## Resources for the Lecture"
   ]
  },
  {
   "cell_type": "markdown",
   "metadata": {
    "slideshow": {
     "slide_type": "subslide"
    }
   },
   "source": [
    "### Websites\n",
    "\n",
    "* https://imbalanced-learn.readthedocs.io/en/stable/install.html\n",
    "* https://imbalanced-learn.readthedocs.io/en/stable/generated/imblearn.under_sampling.RandomUnderSampler.html\n",
    "* https://imbalanced-learn.readthedocs.io/en/stable/generated/imblearn.over_sampling.SMOTE.html\n",
    "* https://scikit-learn.org/stable/datasets/index.html#breast-cancer-dataset\n",
    "* https://towardsdatascience.com/image-augmentation-for-deep-learning-histogram-equalization-a71387f609b2\n",
    "* https://keras.io/preprocessing/image/\n",
    "* https://machinelearningmastery.com/image-augmentation-deep-learning-keras/\n",
    "* https://scikit-learn.org/stable/modules/generated/sklearn.cluster.KMeans.html"
   ]
  },
  {
   "cell_type": "markdown",
   "metadata": {
    "slideshow": {
     "slide_type": "subslide"
    }
   },
   "source": [
    "### Papers\n",
    "\n",
    "* N. Japkowicz, S. Stephen, “The class imbalance problem: A systematic study,” Intelligent Data Analysis 6 (5) (2002) 429-449.\n",
    "* J. Stefanowski, “Overlapping, Rare Examples and Class Decomposition in Learning Classifiers from Imbalanced Data,” in Emerging Paradigms in Machine Learning, Springer, Berlin, Heidelberg, 2013, pp. 277–306.\n",
    "* C. Seiffert, T. M. Khoshgoftaar, J. Van Hulse, and A. Napolitano, “RUSBoost A Hybrid Approach to Alleviating Class Imbalance,” IEEE Transactions on Systems, Man and Cybernetics, Part A: Systems and Humans, vol. 40, no. 1, pp. 185–197, 2010.\n",
    "* N. V. Chawla, K. W. Bowyer, L. O. Hall, and W. P. Kegelmeyer, “SMOTE: Synthetic minority over-sampling technique,” Journal of Artificial Intelligence Research, vol. 16, pp. 321–357, 2002.\n",
    "* R. Vilalta, M.-K. Achari, and C. F. Eick, “Class decomposition via clustering: a new framework for low-variance classifiers,” Third IEEE International Conference on Data Mining, pp. 673–676, 2003.\n",
    "* E. Elyan, M. M. Gaber, “A genetic algorithm approach to optimising random forests applied to class engineered data,” Information Sciences, Volume 384, April 2017\n",
    "* E. Elyan, C. F. Moreno-García, C. Jayne, \"CDSMOTE: class decomposition and synthetic minority class oversampling technique for imbalanced-data classification,\" Neural Computing Applications, 2020. Available from: https://doi.org/10.1007/s00521-020-05130-z"
   ]
  },
  {
   "cell_type": "markdown",
   "metadata": {
    "slideshow": {
     "slide_type": "slide"
    }
   },
   "source": [
    "## What is class imbalance?"
   ]
  },
  {
   "cell_type": "markdown",
   "metadata": {
    "slideshow": {
     "slide_type": "fragment"
    }
   },
   "source": [
    "Last week we used the popular `IRIS` dataset, which contains $150$ samples of $3$ different iris plants"
   ]
  },
  {
   "cell_type": "markdown",
   "metadata": {
    "slideshow": {
     "slide_type": "fragment"
    }
   },
   "source": [
    "* Each class contains 50 samples, and therefore this dataset is **balanced**"
   ]
  },
  {
   "cell_type": "markdown",
   "metadata": {
    "slideshow": {
     "slide_type": "fragment"
    }
   },
   "source": [
    "* However this is **not** usually the case!"
   ]
  },
  {
   "cell_type": "markdown",
   "metadata": {
    "slideshow": {
     "slide_type": "subslide"
    }
   },
   "source": [
    "* Think about domains such as health sciences, the financial sector, cyber security and others"
   ]
  },
  {
   "cell_type": "markdown",
   "metadata": {
    "slideshow": {
     "slide_type": "fragment"
    }
   },
   "source": [
    "* Usually you collect a vast amount of samples that belong to one class, but not enough from the other one "
   ]
  },
  {
   "cell_type": "markdown",
   "metadata": {
    "slideshow": {
     "slide_type": "fragment"
    }
   },
   "source": [
    "* Examples: Presence vs absence of a disease, valid vs invalid transactions, legit vs spam emails, etc..."
   ]
  },
  {
   "cell_type": "markdown",
   "metadata": {
    "slideshow": {
     "slide_type": "subslide"
    }
   },
   "source": [
    "### Formal definitions"
   ]
  },
  {
   "cell_type": "markdown",
   "metadata": {
    "slideshow": {
     "slide_type": "fragment"
    }
   },
   "source": [
    "* Assume we have a dataset with only two classes (i.e. a `binary` dataseet)"
   ]
  },
  {
   "cell_type": "markdown",
   "metadata": {
    "slideshow": {
     "slide_type": "fragment"
    }
   },
   "source": [
    "* This dataset is said to be **imbalanced** if one of the classes (i.e. `majority class`) outnumbers the other class (i.e. `minority class`)"
   ]
  },
  {
   "cell_type": "markdown",
   "metadata": {
    "slideshow": {
     "slide_type": "fragment"
    }
   },
   "source": [
    "* Often the majority class is known as the `negative` class, while the minority class is known as the `positive` class."
   ]
  },
  {
   "cell_type": "markdown",
   "metadata": {
    "slideshow": {
     "slide_type": "subslide"
    }
   },
   "source": [
    "* We can calculate the `imbalance ratio` of this dataset by using the following formula:"
   ]
  },
  {
   "cell_type": "markdown",
   "metadata": {
    "slideshow": {
     "slide_type": "fragment"
    }
   },
   "source": [
    "$Imbalance Ratio = \\frac{number\\:of\\:samples\\:majority\\:class}{number\\:of\\:samples\\:minority\\:class}$"
   ]
  },
  {
   "cell_type": "markdown",
   "metadata": {
    "slideshow": {
     "slide_type": "fragment"
    }
   },
   "source": [
    "* Example: A dataset with 100 samples of plant $A$ and 50 samples of plant $B$ would have an `imbalance ratio` of $IR = 2$"
   ]
  },
  {
   "cell_type": "markdown",
   "metadata": {
    "slideshow": {
     "slide_type": "fragment"
    }
   },
   "source": [
    "* As $IR$ becomes larger, the dataset is more imbalances and thus, harder to be **correctly** classified"
   ]
  },
  {
   "cell_type": "markdown",
   "metadata": {
    "slideshow": {
     "slide_type": "subslide"
    }
   },
   "source": [
    "### What do I mean by CORRECTLY classified?"
   ]
  },
  {
   "cell_type": "markdown",
   "metadata": {
    "slideshow": {
     "slide_type": "fragment"
    }
   },
   "source": [
    "* When designing a testing framework for a classifier, it is essential to select the correct **metrics**"
   ]
  },
  {
   "cell_type": "markdown",
   "metadata": {
    "slideshow": {
     "slide_type": "fragment"
    }
   },
   "source": [
    "* Still, it is important to flag the most common flaw when evaluating imbalance dataset classification"
   ]
  },
  {
   "cell_type": "markdown",
   "metadata": {
    "slideshow": {
     "slide_type": "fragment"
    }
   },
   "source": [
    "* If we *design* a classifier for a dataset with $IR=99$ which simply predicts all samples to be `negative`, then we will obtain an `accuracy` of $99\\%$!"
   ]
  },
  {
   "cell_type": "markdown",
   "metadata": {
    "slideshow": {
     "slide_type": "subslide"
    }
   },
   "source": [
    "* Accuracy is **NOT** a good metric for imbalance dataset classification!"
   ]
  },
  {
   "cell_type": "markdown",
   "metadata": {
    "slideshow": {
     "slide_type": "fragment"
    }
   },
   "source": [
    "* We will talk about this in more detail in Week 6"
   ]
  },
  {
   "cell_type": "markdown",
   "metadata": {
    "slideshow": {
     "slide_type": "subslide"
    }
   },
   "source": [
    "### Types of class imbalance methods"
   ]
  },
  {
   "cell_type": "markdown",
   "metadata": {
    "slideshow": {
     "slide_type": "fragment"
    }
   },
   "source": [
    "* `Data-based`: Resampling the data to generate a new dataset"
   ]
  },
  {
   "cell_type": "markdown",
   "metadata": {
    "slideshow": {
     "slide_type": "fragment"
    }
   },
   "source": [
    "* `Algorithmic-based`: Designing modified learning algorithms"
   ]
  },
  {
   "cell_type": "markdown",
   "metadata": {
    "slideshow": {
     "slide_type": "fragment"
    }
   },
   "source": [
    "* `Cost-sensitive`: Aimed at minimising the total cost considering the different class distributions"
   ]
  },
  {
   "cell_type": "markdown",
   "metadata": {
    "slideshow": {
     "slide_type": "fragment"
    }
   },
   "source": [
    "* Today we will focus on the first category"
   ]
  },
  {
   "cell_type": "markdown",
   "metadata": {
    "slideshow": {
     "slide_type": "slide"
    }
   },
   "source": [
    "## Data-Based Imbalance Handling in Binary Datasets"
   ]
  },
  {
   "cell_type": "markdown",
   "metadata": {
    "slideshow": {
     "slide_type": "fragment"
    }
   },
   "source": [
    "* There are two main approaches to handle imbalance in binary datasets:"
   ]
  },
  {
   "cell_type": "markdown",
   "metadata": {
    "slideshow": {
     "slide_type": "fragment"
    }
   },
   "source": [
    "* `Undersampling`: Reducing the samples from the majority class"
   ]
  },
  {
   "cell_type": "markdown",
   "metadata": {
    "slideshow": {
     "slide_type": "fragment"
    }
   },
   "source": [
    "* `Oversampling`: Increasing the samples from the minority class"
   ]
  },
  {
   "cell_type": "markdown",
   "metadata": {
    "slideshow": {
     "slide_type": "fragment"
    }
   },
   "source": [
    "* We will use a test dataset called [breast_cancer](https://scikit-learn.org/stable/datasets/index.html#breast-cancer-dataset) to exemplify one method of each variety:"
   ]
  },
  {
   "cell_type": "markdown",
   "metadata": {
    "slideshow": {
     "slide_type": "subslide"
    }
   },
   "source": [
    "### Random Undersampling (RUS)"
   ]
  },
  {
   "cell_type": "markdown",
   "metadata": {
    "slideshow": {
     "slide_type": "fragment"
    }
   },
   "source": [
    "* This method, as the name says, consists in randomly undersampling the majority class to even the datasets"
   ]
  },
  {
   "cell_type": "code",
   "execution_count": 1,
   "metadata": {
    "slideshow": {
     "slide_type": "subslide"
    }
   },
   "outputs": [
    {
     "name": "stdout",
     "output_type": "stream",
     "text": [
      "[[1.799e+01 1.038e+01 1.228e+02 ... 2.654e-01 4.601e-01 1.189e-01]\n",
      " [2.057e+01 1.777e+01 1.329e+02 ... 1.860e-01 2.750e-01 8.902e-02]\n",
      " [1.969e+01 2.125e+01 1.300e+02 ... 2.430e-01 3.613e-01 8.758e-02]\n",
      " ...\n",
      " [1.660e+01 2.808e+01 1.083e+02 ... 1.418e-01 2.218e-01 7.820e-02]\n",
      " [2.060e+01 2.933e+01 1.401e+02 ... 2.650e-01 4.087e-01 1.240e-01]\n",
      " [7.760e+00 2.454e+01 4.792e+01 ... 0.000e+00 2.871e-01 7.039e-02]]\n",
      "The shape of the dataset is:  (569, 30)\n",
      "[0 0 0 0 0 0 0 0 0 0 0 0 0 0 0 0 0 0 0 1 1 1 0 0 0 0 0 0 0 0 0 0 0 0 0 0 0\n",
      " 1 0 0 0 0 0 0 0 0 1 0 1 1 1 1 1 0 0 1 0 0 1 1 1 1 0 1 0 0 1 1 1 1 0 1 0 0\n",
      " 1 0 1 0 0 1 1 1 0 0 1 0 0 0 1 1 1 0 1 1 0 0 1 1 1 0 0 1 1 1 1 0 1 1 0 1 1\n",
      " 1 1 1 1 1 1 0 0 0 1 0 0 1 1 1 0 0 1 0 1 0 0 1 0 0 1 1 0 1 1 0 1 1 1 1 0 1\n",
      " 1 1 1 1 1 1 1 1 0 1 1 1 1 0 0 1 0 1 1 0 0 1 1 0 0 1 1 1 1 0 1 1 0 0 0 1 0\n",
      " 1 0 1 1 1 0 1 1 0 0 1 0 0 0 0 1 0 0 0 1 0 1 0 1 1 0 1 0 0 0 0 1 1 0 0 1 1\n",
      " 1 0 1 1 1 1 1 0 0 1 1 0 1 1 0 0 1 0 1 1 1 1 0 1 1 1 1 1 0 1 0 0 0 0 0 0 0\n",
      " 0 0 0 0 0 0 0 1 1 1 1 1 1 0 1 0 1 1 0 1 1 0 1 0 0 1 1 1 1 1 1 1 1 1 1 1 1\n",
      " 1 0 1 1 0 1 0 1 1 1 1 1 1 1 1 1 1 1 1 1 1 0 1 1 1 0 1 0 1 1 1 1 0 0 0 1 1\n",
      " 1 1 0 1 0 1 0 1 1 1 0 1 1 1 1 1 1 1 0 0 0 1 1 1 1 1 1 1 1 1 1 1 0 0 1 0 0\n",
      " 0 1 0 0 1 1 1 1 1 0 1 1 1 1 1 0 1 1 1 0 1 1 0 0 1 1 1 1 1 1 0 1 1 1 1 1 1\n",
      " 1 0 1 1 1 1 1 0 1 1 0 1 1 1 1 1 1 1 1 1 1 1 1 0 1 0 0 1 0 1 1 1 1 1 0 1 1\n",
      " 0 1 0 1 1 0 1 0 1 1 1 1 1 1 1 1 0 0 1 1 1 1 1 1 0 1 1 1 1 1 1 1 1 1 1 0 1\n",
      " 1 1 1 1 1 1 0 1 0 1 1 0 1 1 1 1 1 0 0 1 0 1 0 1 1 1 1 1 0 1 1 0 1 0 1 0 0\n",
      " 1 1 1 0 1 1 1 1 1 1 1 1 1 1 1 0 1 0 0 1 1 1 1 1 1 1 1 1 1 1 1 1 1 1 1 1 1\n",
      " 1 1 1 1 1 1 1 0 0 0 0 0 0 1]\n",
      "Number of negative cases (0):  212\n",
      "Number of positive cases (1):  357\n",
      "Imbalance Ratio:  1.6839622641509433\n"
     ]
    }
   ],
   "source": [
    "# Loading the dataset\n",
    "from sklearn.datasets import load_breast_cancer\n",
    "import numpy as np\n",
    "bc = load_breast_cancer()\n",
    "# Remember that these datasets usually come in dictionary-like structures\n",
    "# We can get the data and the target out\n",
    "data = bc['data']\n",
    "target = bc['target']\n",
    "print(data)\n",
    "print('The shape of the dataset is: ', data.shape)\n",
    "print(target)\n",
    "print('Number of negative cases (0): ', len(target)-np.count_nonzero(target))\n",
    "print('Number of positive cases (1): ', np.count_nonzero(target))\n",
    "print('Imbalance Ratio: ', np.count_nonzero(target)/(len(target)-np.count_nonzero(target)))"
   ]
  },
  {
   "cell_type": "markdown",
   "metadata": {
    "slideshow": {
     "slide_type": "subslide"
    }
   },
   "source": [
    "* Now we can try to apply RUS to this dataset and see what happens:"
   ]
  },
  {
   "cell_type": "code",
   "execution_count": null,
   "metadata": {
    "slideshow": {
     "slide_type": "subslide"
    }
   },
   "outputs": [],
   "source": [
    "## First install the imblearn package if you don't have it already\n",
    "!pip install imbalanced-learn"
   ]
  },
  {
   "cell_type": "code",
   "execution_count": 2,
   "metadata": {
    "slideshow": {
     "slide_type": "subslide"
    }
   },
   "outputs": [
    {
     "name": "stdout",
     "output_type": "stream",
     "text": [
      "[[1.799e+01 1.038e+01 1.228e+02 ... 2.654e-01 4.601e-01 1.189e-01]\n",
      " [2.057e+01 1.777e+01 1.329e+02 ... 1.860e-01 2.750e-01 8.902e-02]\n",
      " [1.969e+01 2.125e+01 1.300e+02 ... 2.430e-01 3.613e-01 8.758e-02]\n",
      " ...\n",
      " [1.366e+01 1.515e+01 8.827e+01 ... 1.054e-01 3.387e-01 9.638e-02]\n",
      " [9.742e+00 1.912e+01 6.193e+01 ... 4.589e-02 3.196e-01 8.009e-02]\n",
      " [9.742e+00 1.567e+01 6.150e+01 ... 5.159e-02 2.841e-01 8.175e-02]]\n",
      "The shape of the dataset is:  (424, 30)\n",
      "[0 0 0 0 0 0 0 0 0 0 0 0 0 0 0 0 0 0 0 0 0 0 0 0 0 0 0 0 0 0 0 0 0 0 0 0 0\n",
      " 0 0 0 0 0 0 0 0 0 0 0 0 0 0 0 0 0 0 0 0 0 0 0 0 0 0 0 0 0 0 0 0 0 0 0 0 0\n",
      " 0 0 0 0 0 0 0 0 0 0 0 0 0 0 0 0 0 0 0 0 0 0 0 0 0 0 0 0 0 0 0 0 0 0 0 0 0\n",
      " 0 0 0 0 0 0 0 0 0 0 0 0 0 0 0 0 0 0 0 0 0 0 0 0 0 0 0 0 0 0 0 0 0 0 0 0 0\n",
      " 0 0 0 0 0 0 0 0 0 0 0 0 0 0 0 0 0 0 0 0 0 0 0 0 0 0 0 0 0 0 0 0 0 0 0 0 0\n",
      " 0 0 0 0 0 0 0 0 0 0 0 0 0 0 0 0 0 0 0 0 0 0 0 0 0 0 0 1 1 1 1 1 1 1 1 1 1\n",
      " 1 1 1 1 1 1 1 1 1 1 1 1 1 1 1 1 1 1 1 1 1 1 1 1 1 1 1 1 1 1 1 1 1 1 1 1 1\n",
      " 1 1 1 1 1 1 1 1 1 1 1 1 1 1 1 1 1 1 1 1 1 1 1 1 1 1 1 1 1 1 1 1 1 1 1 1 1\n",
      " 1 1 1 1 1 1 1 1 1 1 1 1 1 1 1 1 1 1 1 1 1 1 1 1 1 1 1 1 1 1 1 1 1 1 1 1 1\n",
      " 1 1 1 1 1 1 1 1 1 1 1 1 1 1 1 1 1 1 1 1 1 1 1 1 1 1 1 1 1 1 1 1 1 1 1 1 1\n",
      " 1 1 1 1 1 1 1 1 1 1 1 1 1 1 1 1 1 1 1 1 1 1 1 1 1 1 1 1 1 1 1 1 1 1 1 1 1\n",
      " 1 1 1 1 1 1 1 1 1 1 1 1 1 1 1 1 1]\n",
      "Number of negative cases (0):  212\n",
      "Number of positive cases (1):  212\n",
      "Imbalance Ratio:  1.0\n"
     ]
    }
   ],
   "source": [
    "## Now we apply RUS to the dataset\n",
    "from imblearn.under_sampling import RandomUnderSampler\n",
    "rus = RandomUnderSampler(random_state=42) # random state ensures we always get the same result\n",
    "data_rus, target_rus = rus.fit_sample(data,target)\n",
    "\n",
    "print(data_rus)\n",
    "print('The shape of the dataset is: ', data_rus.shape)\n",
    "print(target_rus)\n",
    "print('Number of negative cases (0): ', len(target_rus)-np.count_nonzero(target_rus))\n",
    "print('Number of positive cases (1): ', np.count_nonzero(target_rus))\n",
    "print('Imbalance Ratio: ', np.count_nonzero(target_rus)/(len(target_rus)-np.count_nonzero(target_rus)))"
   ]
  },
  {
   "cell_type": "markdown",
   "metadata": {
    "slideshow": {
     "slide_type": "subslide"
    }
   },
   "source": [
    "* Notice that by default, RUS balances the dataset to $IR=1$!"
   ]
  },
  {
   "cell_type": "markdown",
   "metadata": {
    "slideshow": {
     "slide_type": "fragment"
    }
   },
   "source": [
    "* There are variants to this method, such as RUSboost, which uses a boosting algorithm to `ensemble` better results"
   ]
  },
  {
   "cell_type": "markdown",
   "metadata": {
    "slideshow": {
     "slide_type": "fragment"
    }
   },
   "source": [
    "* There are numerous other undersampling methods such as Tomek Link, MUTE, etc."
   ]
  },
  {
   "cell_type": "markdown",
   "metadata": {
    "slideshow": {
     "slide_type": "subslide"
    }
   },
   "source": [
    "#### PROS of Undersampling"
   ]
  },
  {
   "cell_type": "markdown",
   "metadata": {
    "slideshow": {
     "slide_type": "fragment"
    }
   },
   "source": [
    "* Removes redundant and outlier data (when correctly applied)"
   ]
  },
  {
   "cell_type": "markdown",
   "metadata": {
    "slideshow": {
     "slide_type": "fragment"
    }
   },
   "source": [
    "* Are easy to compute"
   ]
  },
  {
   "cell_type": "markdown",
   "metadata": {
    "slideshow": {
     "slide_type": "subslide"
    }
   },
   "source": [
    "#### CONS of Undersampling"
   ]
  },
  {
   "cell_type": "markdown",
   "metadata": {
    "slideshow": {
     "slide_type": "fragment"
    }
   },
   "source": [
    "* Data loss"
   ]
  },
  {
   "cell_type": "markdown",
   "metadata": {
    "slideshow": {
     "slide_type": "fragment"
    }
   },
   "source": [
    "* Not suitable when there are minimal minority class samples"
   ]
  },
  {
   "cell_type": "markdown",
   "metadata": {
    "slideshow": {
     "slide_type": "subslide"
    }
   },
   "source": [
    "### Synthetic minority oversampling technique (SMOTE)"
   ]
  },
  {
   "cell_type": "markdown",
   "metadata": {
    "slideshow": {
     "slide_type": "fragment"
    }
   },
   "source": [
    "* This method, developed by Chawla et al. is now state-of-the-art in the field"
   ]
  },
  {
   "cell_type": "markdown",
   "metadata": {
    "slideshow": {
     "slide_type": "fragment"
    }
   },
   "source": [
    "* Improves the presence of the minority class by creating artificial (synthetic) samples"
   ]
  },
  {
   "cell_type": "markdown",
   "metadata": {
    "slideshow": {
     "slide_type": "fragment"
    }
   },
   "source": [
    "* Uses supervised learning techniques, such as `k-Nearest Neighbours` (K-NN), for this purpose "
   ]
  },
  {
   "cell_type": "markdown",
   "metadata": {
    "slideshow": {
     "slide_type": "subslide"
    }
   },
   "source": [
    "* SMOTE can also be imported in Python and used in few lines of code:"
   ]
  },
  {
   "cell_type": "code",
   "execution_count": 3,
   "metadata": {
    "slideshow": {
     "slide_type": "fragment"
    }
   },
   "outputs": [
    {
     "name": "stdout",
     "output_type": "stream",
     "text": [
      "[[1.79900000e+01 1.03800000e+01 1.22800000e+02 ... 2.65400000e-01\n",
      "  4.60100000e-01 1.18900000e-01]\n",
      " [2.05700000e+01 1.77700000e+01 1.32900000e+02 ... 1.86000000e-01\n",
      "  2.75000000e-01 8.90200000e-02]\n",
      " [1.96900000e+01 2.12500000e+01 1.30000000e+02 ... 2.43000000e-01\n",
      "  3.61300000e-01 8.75800000e-02]\n",
      " ...\n",
      " [1.89802048e+01 2.07229208e+01 1.22740052e+02 ... 1.41613342e-01\n",
      "  2.56907006e-01 6.16596202e-02]\n",
      " [1.55225881e+01 1.96461822e+01 1.01894239e+02 ... 1.50644626e-01\n",
      "  3.08648911e-01 8.58466691e-02]\n",
      " [1.23891194e+01 2.08371158e+01 7.91858240e+01 ... 8.51229522e-02\n",
      "  2.50807979e-01 7.63256983e-02]]\n",
      "The shape of the dataset is:  (714, 30)\n",
      "[0 0 0 0 0 0 0 0 0 0 0 0 0 0 0 0 0 0 0 1 1 1 0 0 0 0 0 0 0 0 0 0 0 0 0 0 0\n",
      " 1 0 0 0 0 0 0 0 0 1 0 1 1 1 1 1 0 0 1 0 0 1 1 1 1 0 1 0 0 1 1 1 1 0 1 0 0\n",
      " 1 0 1 0 0 1 1 1 0 0 1 0 0 0 1 1 1 0 1 1 0 0 1 1 1 0 0 1 1 1 1 0 1 1 0 1 1\n",
      " 1 1 1 1 1 1 0 0 0 1 0 0 1 1 1 0 0 1 0 1 0 0 1 0 0 1 1 0 1 1 0 1 1 1 1 0 1\n",
      " 1 1 1 1 1 1 1 1 0 1 1 1 1 0 0 1 0 1 1 0 0 1 1 0 0 1 1 1 1 0 1 1 0 0 0 1 0\n",
      " 1 0 1 1 1 0 1 1 0 0 1 0 0 0 0 1 0 0 0 1 0 1 0 1 1 0 1 0 0 0 0 1 1 0 0 1 1\n",
      " 1 0 1 1 1 1 1 0 0 1 1 0 1 1 0 0 1 0 1 1 1 1 0 1 1 1 1 1 0 1 0 0 0 0 0 0 0\n",
      " 0 0 0 0 0 0 0 1 1 1 1 1 1 0 1 0 1 1 0 1 1 0 1 0 0 1 1 1 1 1 1 1 1 1 1 1 1\n",
      " 1 0 1 1 0 1 0 1 1 1 1 1 1 1 1 1 1 1 1 1 1 0 1 1 1 0 1 0 1 1 1 1 0 0 0 1 1\n",
      " 1 1 0 1 0 1 0 1 1 1 0 1 1 1 1 1 1 1 0 0 0 1 1 1 1 1 1 1 1 1 1 1 0 0 1 0 0\n",
      " 0 1 0 0 1 1 1 1 1 0 1 1 1 1 1 0 1 1 1 0 1 1 0 0 1 1 1 1 1 1 0 1 1 1 1 1 1\n",
      " 1 0 1 1 1 1 1 0 1 1 0 1 1 1 1 1 1 1 1 1 1 1 1 0 1 0 0 1 0 1 1 1 1 1 0 1 1\n",
      " 0 1 0 1 1 0 1 0 1 1 1 1 1 1 1 1 0 0 1 1 1 1 1 1 0 1 1 1 1 1 1 1 1 1 1 0 1\n",
      " 1 1 1 1 1 1 0 1 0 1 1 0 1 1 1 1 1 0 0 1 0 1 0 1 1 1 1 1 0 1 1 0 1 0 1 0 0\n",
      " 1 1 1 0 1 1 1 1 1 1 1 1 1 1 1 0 1 0 0 1 1 1 1 1 1 1 1 1 1 1 1 1 1 1 1 1 1\n",
      " 1 1 1 1 1 1 1 0 0 0 0 0 0 1 0 0 0 0 0 0 0 0 0 0 0 0 0 0 0 0 0 0 0 0 0 0 0\n",
      " 0 0 0 0 0 0 0 0 0 0 0 0 0 0 0 0 0 0 0 0 0 0 0 0 0 0 0 0 0 0 0 0 0 0 0 0 0\n",
      " 0 0 0 0 0 0 0 0 0 0 0 0 0 0 0 0 0 0 0 0 0 0 0 0 0 0 0 0 0 0 0 0 0 0 0 0 0\n",
      " 0 0 0 0 0 0 0 0 0 0 0 0 0 0 0 0 0 0 0 0 0 0 0 0 0 0 0 0 0 0 0 0 0 0 0 0 0\n",
      " 0 0 0 0 0 0 0 0 0 0 0]\n",
      "Number of negative cases (0):  357\n",
      "Number of positive cases (1):  357\n",
      "Imbalance Ratio:  1.0\n"
     ]
    }
   ],
   "source": [
    "from imblearn.over_sampling import SMOTE\n",
    "\n",
    "sm = SMOTE(random_state=42)\n",
    "data_smote, target_smote = sm.fit_resample(data, target)\n",
    "print(data_smote)\n",
    "print('The shape of the dataset is: ', data_smote.shape)\n",
    "print(target_smote)\n",
    "print('Number of negative cases (0): ', len(target_smote)-np.count_nonzero(target_smote))\n",
    "print('Number of positive cases (1): ', np.count_nonzero(target_smote))\n",
    "print('Imbalance Ratio: ', np.count_nonzero(target_smote)/(len(target_smote)-np.count_nonzero(target_smote)))"
   ]
  },
  {
   "cell_type": "markdown",
   "metadata": {
    "slideshow": {
     "slide_type": "subslide"
    }
   },
   "source": [
    "* There are numerous variants such as `SVM-SMOTE`, `kmeansSMOTE`, `ADASYN`, `DBSMOTE`, `SMOTEBoost`, `CDSMOTE`, etc."
   ]
  },
  {
   "cell_type": "markdown",
   "metadata": {
    "slideshow": {
     "slide_type": "fragment"
    }
   },
   "source": [
    "* I recommend you to read the paper by [Chawla et al.](https://arxiv.org/pdf/1106.1813.pdf) if you want to know exactly how it works"
   ]
  },
  {
   "cell_type": "markdown",
   "metadata": {
    "slideshow": {
     "slide_type": "subslide"
    }
   },
   "source": [
    "#### PROS of Oversampling"
   ]
  },
  {
   "cell_type": "markdown",
   "metadata": {
    "slideshow": {
     "slide_type": "fragment"
    }
   },
   "source": [
    "* Helps augment minority data, which is usually what you want!"
   ]
  },
  {
   "cell_type": "markdown",
   "metadata": {
    "slideshow": {
     "slide_type": "subslide"
    }
   },
   "source": [
    "#### CONS of Oversampling"
   ]
  },
  {
   "cell_type": "markdown",
   "metadata": {
    "slideshow": {
     "slide_type": "fragment"
    }
   },
   "source": [
    "* \"Harder\" to compute"
   ]
  },
  {
   "cell_type": "markdown",
   "metadata": {
    "slideshow": {
     "slide_type": "fragment"
    }
   },
   "source": [
    "* Synthetic examples may be redundant/outliers"
   ]
  },
  {
   "cell_type": "markdown",
   "metadata": {
    "slideshow": {
     "slide_type": "slide"
    }
   },
   "source": [
    "## Data-Based Imbalance Handling in Non-Binary Datasets"
   ]
  },
  {
   "cell_type": "markdown",
   "metadata": {
    "slideshow": {
     "slide_type": "subslide"
    }
   },
   "source": [
    "* All the aforementioned methods have variants that are applicable for non-binary datasets"
   ]
  },
  {
   "cell_type": "markdown",
   "metadata": {
    "slideshow": {
     "slide_type": "fragment"
    }
   },
   "source": [
    "* However, in non-binary datasets usually there are different class sizes and it is unclear which is the minority/majority class"
   ]
  },
  {
   "cell_type": "markdown",
   "metadata": {
    "slideshow": {
     "slide_type": "fragment"
    }
   },
   "source": [
    "* In that regard, there is a special category of balancing methods that can be applied to non-binary datasets, which also mitigate the disadvantages of both oversampling and undersampling"
   ]
  },
  {
   "cell_type": "markdown",
   "metadata": {
    "slideshow": {
     "slide_type": "subslide"
    }
   },
   "source": [
    "### Class Decomposition"
   ]
  },
  {
   "cell_type": "markdown",
   "metadata": {
    "slideshow": {
     "slide_type": "subslide"
    }
   },
   "source": [
    "* This method does not replicate or loses data, but rather creates more classes based on **unsupervised learning**/**clustering**"
   ]
  },
  {
   "cell_type": "markdown",
   "metadata": {
    "slideshow": {
     "slide_type": "fragment"
    }
   },
   "source": [
    "* By changing the **target**, we ensure that the subclasses are more balanced"
   ]
  },
  {
   "cell_type": "markdown",
   "metadata": {
    "slideshow": {
     "slide_type": "fragment"
    }
   },
   "source": [
    "* At the classification stage we need to make sure that the model understands this change!"
   ]
  },
  {
   "cell_type": "markdown",
   "metadata": {
    "slideshow": {
     "slide_type": "subslide"
    }
   },
   "source": [
    "* Example contained in [Vilalta et al. 2003](https://www.semanticscholar.org/paper/Class-decomposition-via-clustering%3A-a-new-framework-Vilalta-Achari/619807bb022e20f1ed8b6aca36f74e7500a0ba9a)"
   ]
  },
  {
   "cell_type": "markdown",
   "metadata": {
    "slideshow": {
     "slide_type": "fragment"
    }
   },
   "source": [
    "![Fig 1. Class decomposition](https://www.dropbox.com/s/p498fxpm5q7r8t6/classdec.png?raw=1)"
   ]
  },
  {
   "cell_type": "markdown",
   "metadata": {
    "slideshow": {
     "slide_type": "subslide"
    }
   },
   "source": [
    "#### Basic principles"
   ]
  },
  {
   "cell_type": "markdown",
   "metadata": {
    "slideshow": {
     "slide_type": "fragment"
    }
   },
   "source": [
    "* A dataset $D=\\{(x_1,y_1),(x_2,y_2),...,(x_n,y_n)\\}$, where $x$ is the *feature vector* and $y$ is the target"
   ]
  },
  {
   "cell_type": "markdown",
   "metadata": {
    "slideshow": {
     "slide_type": "fragment"
    }
   },
   "source": [
    "* Assume that $y$ can take two values: $\\color{red}{red}$ and $\\color{blue}{blue}$ "
   ]
  },
  {
   "cell_type": "markdown",
   "metadata": {
    "slideshow": {
     "slide_type": "fragment"
    }
   },
   "source": [
    "* If we cannot find a *classification* function that correctly maps X to Y, then we can **rearrange** the data"
   ]
  },
  {
   "cell_type": "markdown",
   "metadata": {
    "slideshow": {
     "slide_type": "subslide"
    }
   },
   "source": [
    "$Y_c = \\{Dark\\:\\color{red}{red},Light\\:\\color{red}{red},Dark\\:\\color{blue}{blue},Light\\:\\color{blue}{blue}\\}$"
   ]
  },
  {
   "cell_type": "markdown",
   "metadata": {
    "slideshow": {
     "slide_type": "fragment"
    }
   },
   "source": [
    "* Now we need a function that maps $h_c : X \\rightarrow Y_c$"
   ]
  },
  {
   "cell_type": "markdown",
   "metadata": {
    "slideshow": {
     "slide_type": "subslide"
    }
   },
   "source": [
    "#### But first, how do we \"know\" which classes to decompose?"
   ]
  },
  {
   "cell_type": "markdown",
   "metadata": {
    "slideshow": {
     "slide_type": "fragment"
    }
   },
   "source": [
    "* Depending on the **number of samples** and the **quality of the initial classification**"
   ]
  },
  {
   "cell_type": "markdown",
   "metadata": {
    "slideshow": {
     "slide_type": "fragment"
    }
   },
   "source": [
    "* Maybe there are more samples of red than blue"
   ]
  },
  {
   "cell_type": "markdown",
   "metadata": {
    "slideshow": {
     "slide_type": "fragment"
    }
   },
   "source": [
    "* Maybe classification was good with blue already!"
   ]
  },
  {
   "cell_type": "markdown",
   "metadata": {
    "slideshow": {
     "slide_type": "subslide"
    }
   },
   "source": [
    "* If you want to achieve balance i.e. $IR \\approx 1$ then you can use the following **standard balancing equation**:"
   ]
  },
  {
   "cell_type": "markdown",
   "metadata": {
    "slideshow": {
     "slide_type": "fragment"
    }
   },
   "source": [
    "$k_i = [\\frac{c_i}{A_{vg}}+1]$"
   ]
  },
  {
   "cell_type": "markdown",
   "metadata": {
    "slideshow": {
     "slide_type": "fragment"
    }
   },
   "source": [
    "* where:\n",
    "    * $k_i$ is the number of clusters\n",
    "    * $c_i$ is the total number of instances of a specific class\n",
    "    * $A_{vg}$ is the mean class distribution"
   ]
  },
  {
   "cell_type": "markdown",
   "metadata": {
    "slideshow": {
     "slide_type": "subslide"
    }
   },
   "source": [
    "#### Example"
   ]
  },
  {
   "cell_type": "markdown",
   "metadata": {
    "slideshow": {
     "slide_type": "fragment"
    }
   },
   "source": [
    "* A repository with data has 5 classes:"
   ]
  },
  {
   "cell_type": "markdown",
   "metadata": {
    "slideshow": {
     "slide_type": "fragment"
    }
   },
   "source": [
    "* Class 0: 11100 samples\n",
    "* Class 1: 1899 samples\n",
    "* Class 2: 353 samples\n",
    "* Class 3: 12987 samples\n",
    "* Class 4: 3471 samples"
   ]
  },
  {
   "cell_type": "code",
   "execution_count": 4,
   "metadata": {
    "slideshow": {
     "slide_type": "subslide"
    }
   },
   "outputs": [
    {
     "name": "stdout",
     "output_type": "stream",
     "text": [
      "Avg:  5962.0\n",
      "k_0= 2.8617913451861794\n",
      "k_1= 1.3185172760818518\n",
      "k_2= 1.0592083193559207\n",
      "k_3= 3.1782958738678295\n",
      "k_4= 1.5821871855082188\n"
     ]
    }
   ],
   "source": [
    "## First we calculate Avg\n",
    "classdist = [11100,1899,353,12987,3471]\n",
    "Avg = sum(classdist)/len(classdist)\n",
    "print('Avg: ', Avg)\n",
    "## Then we can calculate ki for each class\n",
    "for i,c in enumerate(classdist):\n",
    "    print('k_'+str(i)+'=', (c/Avg)+1)"
   ]
  },
  {
   "cell_type": "markdown",
   "metadata": {
    "slideshow": {
     "slide_type": "fragment"
    }
   },
   "source": [
    "* If $k_i$ is **smaller than 2**, then no clustering is needed"
   ]
  },
  {
   "cell_type": "markdown",
   "metadata": {
    "slideshow": {
     "slide_type": "fragment"
    }
   },
   "source": [
    "* If $k_i$ is **larger than 2**, then you `floor` the obtained value and you get the clusters needed "
   ]
  },
  {
   "cell_type": "code",
   "execution_count": 5,
   "metadata": {
    "slideshow": {
     "slide_type": "subslide"
    }
   },
   "outputs": [
    {
     "name": "stdout",
     "output_type": "stream",
     "text": [
      "Clusters for class 0: 2\n",
      "Clusters for class 1: 1\n",
      "Clusters for class 2: 1\n",
      "Clusters for class 3: 3\n",
      "Clusters for class 4: 1\n"
     ]
    }
   ],
   "source": [
    "import math\n",
    "## Calculating the number of clusters to decompose each class\n",
    "for i,c in enumerate(classdist):\n",
    "    print('Clusters for class '+str(i)+':', math.floor((c/Avg)+1))"
   ]
  },
  {
   "cell_type": "markdown",
   "metadata": {
    "slideshow": {
     "slide_type": "subslide"
    }
   },
   "source": [
    "#### Class decomposition in an artificial dataset"
   ]
  },
  {
   "cell_type": "code",
   "execution_count": 6,
   "metadata": {
    "slideshow": {
     "slide_type": "subslide"
    }
   },
   "outputs": [
    {
     "name": "stdout",
     "output_type": "stream",
     "text": [
      "[[0.34491796 0.84850732 0.        ]\n",
      " [0.43604784 0.16514166 0.        ]\n",
      " [0.9932021  0.76487697 0.        ]\n",
      " ...\n",
      " [0.52373002 0.96360341 0.        ]\n",
      " [0.6585271  0.30268263 0.        ]\n",
      " [0.42981881 0.1258595  0.        ]] (11100, 3)\n"
     ]
    }
   ],
   "source": [
    "## Creating the data (class 0)\n",
    "import numpy as np\n",
    "class0 = np.random.rand(11100,2)\n",
    "class0 = np.concatenate((class0,np.zeros((11100,1))),axis=1)\n",
    "print(class0, class0.shape)"
   ]
  },
  {
   "cell_type": "code",
   "execution_count": 7,
   "metadata": {
    "slideshow": {
     "slide_type": "subslide"
    }
   },
   "outputs": [
    {
     "name": "stdout",
     "output_type": "stream",
     "text": [
      "[[3.44917961e-01 8.48507323e-01 0.00000000e+00]\n",
      " [4.36047839e-01 1.65141660e-01 0.00000000e+00]\n",
      " [9.93202103e-01 7.64876969e-01 0.00000000e+00]\n",
      " ...\n",
      " [4.84166797e-03 1.77402533e-03 4.00000000e+00]\n",
      " [9.41293497e-03 8.15284782e-03 4.00000000e+00]\n",
      " [1.30395645e-03 1.14764242e-03 4.00000000e+00]] (29810, 3)\n"
     ]
    }
   ],
   "source": [
    "## Creating the rest of the data\n",
    "class1 = np.random.rand(1899,2)*10 # multiply to get distinct values\n",
    "class1 = np.concatenate((class1,np.ones((1899,1))),axis=1)\n",
    "class2 = np.random.rand(353,2)*100\n",
    "class2 = np.concatenate((class2,np.ones((353,1))+1),axis=1)\n",
    "class3 = np.random.rand(12987,2)*10000\n",
    "class3 = np.concatenate((class3,np.ones((12987,1))+2),axis=1)\n",
    "class4 = np.random.rand(3471,2)/100\n",
    "class4 = np.concatenate((class4,np.ones((3471,1))+3),axis=1)\n",
    "repo = np.vstack((class0,class1,class2,class3,class4))\n",
    "print(repo, repo.shape)"
   ]
  },
  {
   "cell_type": "code",
   "execution_count": 8,
   "metadata": {
    "hide_input": true,
    "slideshow": {
     "slide_type": "subslide"
    }
   },
   "outputs": [],
   "source": [
    "from jupyterthemes import jtplot\n",
    "jtplot.style(theme='monokai', context='notebook', ticks=True, grid=False)"
   ]
  },
  {
   "cell_type": "code",
   "execution_count": 9,
   "metadata": {
    "slideshow": {
     "slide_type": "subslide"
    }
   },
   "outputs": [
    {
     "data": {
      "text/plain": [
       "(array([11100.,  1899.,   353., 12987.,  3471.]),\n",
       " array([0. , 0.8, 1.6, 2.4, 3.2, 4. ]),\n",
       " <BarContainer object of 5 artists>)"
      ]
     },
     "execution_count": 9,
     "metadata": {},
     "output_type": "execute_result"
    },
    {
     "data": {
      "image/png": "[encoded data removed]",
      "text/plain": [
       "<Figure size 432x288 with 1 Axes>"
      ]
     },
     "metadata": {
      "needs_background": "dark"
     },
     "output_type": "display_data"
    }
   ],
   "source": [
    "# Plotting the histogram of the class distribution\n",
    "import matplotlib.pyplot as plt\n",
    "plt.hist(repo[:,2],bins=5)"
   ]
  },
  {
   "cell_type": "code",
   "execution_count": 10,
   "metadata": {
    "slideshow": {
     "slide_type": "subslide"
    }
   },
   "outputs": [
    {
     "data": {
      "image/png": "[encoded data removed]",
      "text/plain": [
       "<Figure size 432x288 with 1 Axes>"
      ]
     },
     "metadata": {
      "needs_background": "dark"
     },
     "output_type": "display_data"
    }
   ],
   "source": [
    "# Plotting the data\n",
    "scatter = plt.scatter(repo[:,0], repo[:,1], c=repo[:,-1], alpha=0.5)\n",
    "plt.xlim(0.0001, 100000)\n",
    "plt.ylim(0.0001, 100000)\n",
    "plt.xscale('log')\n",
    "plt.yscale('log')\n",
    "plt.legend(handles=scatter.legend_elements()[0], labels=[0,1,2,3,4])\n",
    "plt.show()"
   ]
  },
  {
   "cell_type": "code",
   "execution_count": 13,
   "metadata": {
    "slideshow": {
     "slide_type": "subslide"
    }
   },
   "outputs": [
    {
     "name": "stdout",
     "output_type": "stream",
     "text": [
      "[[6.36729765e+01 3.60680101e+01]\n",
      " [8.00244149e+01 3.05369810e+00]\n",
      " [1.24320836e+01 4.76959925e+01]\n",
      " [4.88005837e+01 4.07761002e+00]\n",
      " [6.30922076e+01 9.59410148e+01]\n",
      " [2.50577301e+01 5.06402992e+00]\n",
      " [8.86445081e+01 1.47635663e+01]\n",
      " [1.70958360e+01 9.03667252e+01]\n",
      " [2.22224706e+01 7.53099870e+01]\n",
      " [8.99723148e+01 6.40155084e+01]\n",
      " [9.91164560e+01 5.70443306e+01]\n",
      " [7.22144202e+01 6.72326114e+01]\n",
      " [4.76953037e+01 2.68874198e+00]\n",
      " [8.31305760e+01 6.37468510e+01]\n",
      " [2.39823900e+01 7.53053726e+01]\n",
      " [5.67389947e+01 7.16259492e+01]\n",
      " [4.83201209e+01 7.61641029e+01]\n",
      " [1.25283826e+01 8.27761466e+01]\n",
      " [4.02370964e+01 9.63326883e+01]\n",
      " [5.85149567e+01 7.81648937e+01]\n",
      " [3.18037074e+01 1.38412907e+01]\n",
      " [5.34812172e+01 5.96516586e+01]\n",
      " [1.54992301e+01 6.11179046e+01]\n",
      " [2.37188576e+01 7.71176701e+01]\n",
      " [5.11701711e+01 8.02298784e+01]\n",
      " [2.52633864e+01 4.27147942e+01]\n",
      " [2.78826678e+01 1.54044451e+01]\n",
      " [2.01991054e+01 4.71675225e+01]\n",
      " [5.79767877e+01 1.64897965e+01]\n",
      " [1.77271264e+01 3.54551386e+01]\n",
      " [4.43381839e+01 9.56014966e+00]\n",
      " [9.85560118e+01 7.46620977e+01]\n",
      " [7.97813476e+01 6.17459615e+01]\n",
      " [2.28354917e+01 1.12382339e+00]\n",
      " [1.00848307e+01 6.76649884e+01]\n",
      " [1.76293683e+01 4.71153394e+01]\n",
      " [3.01331965e+01 3.43474771e+00]\n",
      " [5.47054884e+01 6.35448768e+00]\n",
      " [1.18252815e+01 5.22025517e+00]\n",
      " [3.31850143e+00 3.59060131e+01]\n",
      " [2.58327074e+00 1.16400018e+01]\n",
      " [8.00463940e+01 4.68083557e+00]\n",
      " [1.44784087e+01 7.19667557e+01]\n",
      " [2.82644105e+01 8.41866663e+01]\n",
      " [2.48728795e+00 8.71447883e+00]\n",
      " [8.78803910e+01 1.26423500e+01]\n",
      " [8.07149704e+01 2.11615385e+01]\n",
      " [9.33311905e+01 6.83614564e+01]\n",
      " [7.27257677e+01 6.62975605e+01]\n",
      " [4.32173944e+01 7.95019478e+01]\n",
      " [4.64346687e+01 1.70875637e+01]\n",
      " [3.47272262e+01 4.93143918e+01]\n",
      " [3.25163804e+01 6.98493659e-02]\n",
      " [1.56335582e+01 4.78695058e+01]\n",
      " [6.34490758e+01 4.13113434e+01]\n",
      " [1.58900662e+01 7.50411076e+01]\n",
      " [6.63604041e+01 6.88933261e+01]\n",
      " [4.91702110e+01 4.35282820e+01]\n",
      " [5.42248359e+01 8.67871212e+01]\n",
      " [2.28083806e+01 2.75183467e+01]\n",
      " [6.04316458e+01 5.07016360e+00]\n",
      " [2.86627310e+01 3.83598831e+01]\n",
      " [8.60147431e+01 3.91871130e+01]\n",
      " [9.09391885e+01 4.79504932e+01]\n",
      " [1.91846324e+01 4.29183978e+01]\n",
      " [2.67075067e+01 7.17643278e+01]\n",
      " [3.96785826e+01 4.29283457e+00]\n",
      " [3.25728331e+01 3.12394716e+01]\n",
      " [8.85706036e+01 7.65613974e-01]\n",
      " [1.54140245e+01 9.44863124e+01]\n",
      " [7.98231982e+01 4.81995181e+01]\n",
      " [8.22857201e+01 3.64785852e+01]\n",
      " [3.21476332e+01 2.91085741e+01]\n",
      " [5.24442044e+01 9.81588589e+01]\n",
      " [3.76843989e+00 4.40474213e+01]\n",
      " [8.44547225e+01 8.79421176e+01]\n",
      " [1.78992277e+00 5.09836359e+01]\n",
      " [5.18742759e+01 6.55605474e+01]\n",
      " [8.10924353e+01 1.82170222e+01]\n",
      " [9.72505416e+01 7.37466726e+01]\n",
      " [6.86483551e+01 9.89261201e+01]\n",
      " [3.16574973e+01 4.12742888e+01]\n",
      " [6.77467068e+01 6.47880344e+01]\n",
      " [5.68162362e+01 6.24317142e+01]\n",
      " [1.28995076e+01 9.17516093e+01]\n",
      " [1.27061931e+01 4.10135866e+01]\n",
      " [6.67505689e+01 6.65600309e+01]\n",
      " [6.50171812e+01 2.50483843e+01]\n",
      " [3.86653445e+01 2.39363357e+00]\n",
      " [3.60873323e+00 9.68768448e+01]\n",
      " [4.83996754e+01 6.10771063e+01]\n",
      " [5.20318923e+01 7.27479338e+01]\n",
      " [2.51371779e+01 9.73205755e+01]\n",
      " [8.33545567e+01 2.44941535e+01]\n",
      " [3.29458196e+01 3.13375931e+01]\n",
      " [1.29259148e+01 5.04053429e+01]\n",
      " [9.16535393e+01 6.37176136e+01]\n",
      " [8.19105268e+01 4.83328657e+01]\n",
      " [2.05547655e+01 2.39942547e+01]\n",
      " [8.14925548e+01 6.28312291e+01]\n",
      " [1.97820139e+00 8.38882816e+01]\n",
      " [8.16433306e+01 1.09172505e+01]\n",
      " [8.61434705e+01 5.44440512e+00]\n",
      " [3.07322465e+01 3.34838584e+01]\n",
      " [8.42567147e+01 8.37188129e+01]\n",
      " [4.70423082e+01 1.70151668e+01]\n",
      " [8.63416334e+01 7.30876638e+01]\n",
      " [6.75346379e+01 2.11900138e+01]\n",
      " [7.22144732e+01 4.75893846e+00]\n",
      " [4.38619445e+01 2.58252404e+01]\n",
      " [9.08508720e+01 5.45271289e+01]\n",
      " [3.00566060e+01 8.02308439e+01]\n",
      " [7.69448455e+01 7.34970877e+01]\n",
      " [1.61533131e+01 5.99924106e+01]\n",
      " [8.25846120e+01 5.09898802e+01]\n",
      " [4.56547116e+01 1.91892538e+01]\n",
      " [5.48131719e+01 8.12153055e+01]\n",
      " [3.48360712e+01 9.19497206e+01]\n",
      " [2.57741349e+01 3.05978523e+01]\n",
      " [3.80959795e+01 2.65039243e+01]\n",
      " [3.03391348e+01 2.39004547e+01]\n",
      " [7.23306913e+01 9.29132102e+01]\n",
      " [7.40705505e+01 2.84026452e+01]\n",
      " [1.46238344e+01 3.53628478e+01]\n",
      " [7.94752222e+01 8.62967280e+01]\n",
      " [2.77483500e+01 7.35313634e+01]\n",
      " [5.39664291e+01 3.52598923e+01]\n",
      " [1.94380215e+01 4.55705356e+01]\n",
      " [7.59772569e+00 4.31977858e+01]\n",
      " [3.67324585e+01 6.11878246e+01]\n",
      " [2.24247919e+01 6.72974686e+01]\n",
      " [8.33472930e+01 4.58041435e+01]\n",
      " [1.05384052e+01 4.35595798e+01]\n",
      " [9.30066273e+01 1.71142010e+01]\n",
      " [7.33843558e+01 1.20540442e+01]\n",
      " [8.64511448e+01 6.82899224e+01]\n",
      " [6.14244064e+01 4.20449814e+01]\n",
      " [7.58894953e+01 6.68050222e+01]\n",
      " [1.40690426e+01 6.68797131e+01]\n",
      " [9.33130313e+01 2.29795004e-01]\n",
      " [2.53889142e+01 9.20379221e+01]\n",
      " [4.27563782e+01 7.13486186e+01]\n",
      " [3.48680173e+01 4.53633332e+01]\n",
      " [9.72649189e+01 2.95961393e+01]\n",
      " [7.65937449e+01 4.36023897e+00]\n",
      " [7.76665334e+01 8.35511913e+01]\n",
      " [5.08212429e+01 6.88206203e+01]\n",
      " [8.49575836e+01 7.74749721e+01]\n",
      " [2.17679261e+01 5.78975386e+01]\n",
      " [6.31657065e+01 6.33460943e+01]\n",
      " [2.06540253e+01 7.15979822e+01]\n",
      " [6.94074962e+01 9.11668948e+01]\n",
      " [1.29730351e+01 6.50826323e+01]\n",
      " [3.55267131e+01 5.61536479e+01]\n",
      " [1.93901857e+01 7.81057016e+01]\n",
      " [6.17134317e+01 9.81181996e+01]\n",
      " [3.63879474e+01 2.26502798e+00]\n",
      " [4.20128745e+01 9.94862518e+01]\n",
      " [9.25275261e+01 7.19880334e+01]\n",
      " [4.69132049e+01 8.42851353e+01]\n",
      " [2.53277142e+01 1.09973228e+01]\n",
      " [7.98703523e+01 1.47955825e+01]\n",
      " [5.40036814e+01 3.94073337e+01]\n",
      " [2.99088873e+01 5.80361884e+01]\n",
      " [1.64864222e+01 5.25199989e+01]\n",
      " [2.51990591e+01 1.50333268e+01]\n",
      " [9.35900746e+01 1.91508363e+01]\n",
      " [1.89982641e+01 2.39470431e+01]\n",
      " [7.83579208e+01 1.72618887e+00]\n",
      " [4.34818557e+01 9.17710985e+01]\n",
      " [7.43575267e+00 1.75442516e+00]\n",
      " [2.13414441e+01 3.08349766e+01]\n",
      " [1.25586666e+01 9.78541934e+01]\n",
      " [6.88458698e+01 2.62225207e+01]\n",
      " [8.00458034e+01 5.26365720e+01]\n",
      " [8.76087582e+01 4.64238591e+01]\n",
      " [5.28462058e+01 3.58764825e+01]\n",
      " [3.08287583e+01 9.32572536e+01]\n",
      " [2.72011837e+01 4.89409613e+01]\n",
      " [3.99335071e+01 2.98122007e+01]\n",
      " [8.06667963e+01 2.88216658e+01]\n",
      " [9.82602224e+01 9.12858510e+01]\n",
      " [1.81209748e+01 5.13565438e+01]\n",
      " [7.29936162e+01 6.60360505e+01]\n",
      " [8.99183215e+01 3.74620825e+01]\n",
      " [8.45412509e+01 9.61640077e+01]\n",
      " [4.89537786e+01 5.86371657e+01]\n",
      " [5.12374948e+01 6.04823166e+01]\n",
      " [5.18479388e+01 8.00333916e+01]\n",
      " [7.26104022e+01 9.29755492e+01]\n",
      " [8.56495724e+01 6.11437337e+01]\n",
      " [8.15265349e+01 7.21585130e+01]\n",
      " [9.64346247e+01 8.50463631e+01]\n",
      " [7.69089647e+01 6.87593955e+01]\n",
      " [9.98061205e+01 1.91455888e+01]\n",
      " [9.65342852e+00 7.34981711e+01]\n",
      " [7.41751557e+01 6.54225989e+01]\n",
      " [3.18552001e+00 4.28977987e+00]\n",
      " [4.17183897e+01 5.46798530e+01]\n",
      " [1.37806628e+01 6.93434921e+01]\n",
      " [4.68006974e+01 4.60486330e+00]\n",
      " [3.41664130e+00 5.43215603e+01]\n",
      " [6.75297802e+01 4.73376085e+01]\n",
      " [4.74245201e+00 7.65268730e+01]\n",
      " [3.60637336e+01 8.79189198e+01]\n",
      " [9.61212319e+01 7.42179253e+01]\n",
      " [3.55922349e+01 9.03513968e+01]\n",
      " [3.71232204e+01 1.60939231e+01]\n",
      " [7.75510677e+01 5.42977426e+01]\n",
      " [6.97725105e+00 8.23601935e+01]\n",
      " [4.72470551e+01 4.18230807e+01]\n",
      " [8.64593047e+01 3.84356154e+01]\n",
      " [1.62512402e+01 4.62965882e+01]\n",
      " [4.55944507e+01 7.98325829e+01]\n",
      " [5.04942115e+01 2.12319686e+01]\n",
      " [5.50499012e+01 4.75191482e+01]\n",
      " [7.35439634e+01 4.20555195e+01]\n",
      " [6.46875549e+01 5.22187304e+01]\n",
      " [3.09323575e+00 5.63364167e+01]\n",
      " [2.26777641e-01 9.55539538e+01]\n",
      " [7.91073623e+01 9.26687054e+01]\n",
      " [3.37727778e+01 5.22434577e+01]\n",
      " [1.35808686e+01 6.70000687e+01]\n",
      " [6.02252936e+01 3.80984520e+01]\n",
      " [9.86681231e+01 1.21145498e+01]\n",
      " [6.17144665e+01 9.33787611e+01]\n",
      " [4.94805457e+01 9.32423648e+01]\n",
      " [9.34193695e+01 4.06932376e+01]\n",
      " [6.93160125e+00 5.89412478e+01]\n",
      " [6.67350221e+01 5.83362823e+01]\n",
      " [4.30249817e+01 6.77255482e+01]\n",
      " [2.37710934e+00 7.78990966e+01]\n",
      " [5.82111277e+00 5.52881995e+01]\n",
      " [5.56272497e+00 5.70050581e+01]\n",
      " [8.12626320e-02 4.33125675e+01]\n",
      " [5.95797170e+01 9.39292390e+01]\n",
      " [2.17720787e+01 3.76044903e+01]\n",
      " [2.81951929e+01 6.96222916e+01]\n",
      " [4.84709608e+01 5.26369662e+01]\n",
      " [5.01603250e+01 9.30194488e+01]\n",
      " [8.82838182e+01 7.62440129e+01]\n",
      " [1.27749862e+01 1.55902332e+01]\n",
      " [3.72405246e+01 8.23503125e+00]\n",
      " [1.64136475e+01 8.60561110e+01]\n",
      " [8.57324599e+00 4.80516020e+01]\n",
      " [4.18881422e+00 1.29889803e+01]\n",
      " [6.78968439e+01 4.16351051e+01]\n",
      " [2.11258254e+01 6.65812427e+01]\n",
      " [7.40854763e+01 5.62886526e+01]\n",
      " [6.58766923e+01 7.62120773e+01]\n",
      " [4.39847490e+01 2.74954749e+01]\n",
      " [6.62803149e+01 7.91981090e+01]\n",
      " [4.11743275e+01 2.00939710e+01]\n",
      " [5.59758343e+00 7.85104604e+01]\n",
      " [7.02940798e+01 3.95912559e+01]\n",
      " [2.60392661e+01 6.42828865e+01]\n",
      " [6.48310659e+01 6.10587526e+01]\n",
      " [8.29586054e+01 7.41801963e+01]\n",
      " [7.43230040e+00 6.49847469e+01]\n",
      " [5.97425991e+01 6.11597174e+01]\n",
      " [7.99770000e+01 6.43415410e+01]\n",
      " [3.69915420e+01 6.05496158e+01]\n",
      " [7.00770956e+01 1.92785204e+01]\n",
      " [8.31676666e+01 3.93516410e+01]\n",
      " [6.53034188e+01 9.40814019e+01]\n",
      " [9.69893933e+01 4.50076315e+00]\n",
      " [7.14379103e+01 5.77213900e+01]\n",
      " [6.85905233e+01 4.91798765e+01]\n",
      " [2.97039654e+01 8.87997242e+01]\n",
      " [1.94299932e+01 7.02663481e+01]\n",
      " [3.24611896e+01 6.80786545e+01]\n",
      " [1.88532567e+01 6.86867527e+00]\n",
      " [2.13732536e+00 7.12045381e+01]\n",
      " [6.76110355e+01 2.56434000e-02]\n",
      " [6.47533894e+01 9.00550780e+01]\n",
      " [8.00301041e+01 9.27361259e+01]\n",
      " [7.47186439e+01 6.94272406e+01]\n",
      " [9.63201033e+00 6.12453992e+01]\n",
      " [5.90445337e+01 4.59868849e+01]\n",
      " [8.09587303e+01 5.46847507e+01]\n",
      " [8.67970353e+00 4.44574252e+01]\n",
      " [9.52845146e+01 7.78859705e+01]\n",
      " [6.26567947e+01 7.94734752e+01]\n",
      " [7.90461766e+01 2.70900946e+01]\n",
      " [9.96607845e+01 5.23369755e+01]\n",
      " [2.96367970e+01 7.93740830e+01]\n",
      " [1.39818387e+01 3.81464409e+01]\n",
      " [1.56944045e+01 1.90313017e+01]\n",
      " [2.41072859e+00 4.67243644e+01]\n",
      " [1.74623186e+01 4.43616157e+01]\n",
      " [8.59581089e+01 2.87032226e+01]\n",
      " [3.21230391e+01 1.01957089e+01]\n",
      " [9.82519135e+01 8.18104540e+01]\n",
      " [5.08330397e+01 3.57805093e+01]\n",
      " [4.39444599e+01 9.72526441e+01]\n",
      " [2.23200488e+01 1.99121520e+01]\n",
      " [3.42915042e+01 7.47624550e+01]\n",
      " [7.35618425e+00 7.00301053e+01]\n",
      " [7.47558852e+01 1.80309769e+01]\n",
      " [7.31706810e+01 3.43829405e+01]\n",
      " [8.11642865e+01 6.25166579e+01]\n",
      " [7.20637933e+01 7.43349710e+00]\n",
      " [9.34942192e+01 6.39842626e+01]\n",
      " [5.07809884e+01 8.85458682e-01]\n",
      " [1.86499870e+00 5.97471575e+01]\n",
      " [1.70916636e+01 8.44525057e+01]\n",
      " [7.35786363e+00 6.87010741e+01]\n",
      " [3.53952158e+01 4.81097659e+01]\n",
      " [7.90588614e+01 4.34166604e+00]\n",
      " [8.22724321e+01 9.16327595e+01]\n",
      " [2.11140897e+01 2.30461247e+01]\n",
      " [7.74713246e+01 7.11036884e+01]\n",
      " [4.30636918e+01 9.00432835e+01]\n",
      " [9.54593583e+01 2.06562803e+01]\n",
      " [1.51500886e+01 7.47722073e+01]\n",
      " [8.80438896e+01 2.82512435e+01]\n",
      " [6.50542579e+01 1.36017617e+00]\n",
      " [1.68799762e+01 8.89988900e+01]\n",
      " [5.42237890e+01 9.07981741e+01]\n",
      " [5.80441229e+01 1.08608767e+01]\n",
      " [7.54069386e+01 5.15786824e+00]\n",
      " [6.83799399e+01 9.65152274e+01]\n",
      " [3.52585512e+01 6.81444814e+01]\n",
      " [9.76966160e+01 1.15113222e+00]\n",
      " [1.84373916e+01 6.33414158e+01]\n",
      " [3.02272414e+01 5.45103030e+01]\n",
      " [6.82954606e+01 1.48298030e+01]\n",
      " [4.69960095e+01 6.69677635e+01]\n",
      " [3.76353173e+01 4.55105709e+01]\n",
      " [3.06207797e+01 1.96322523e+00]\n",
      " [4.05985266e+01 7.67965603e+01]\n",
      " [7.48364337e+01 1.09754296e+01]\n",
      " [3.22488590e+01 5.62596418e+00]\n",
      " [5.26767154e+01 4.33914354e+01]\n",
      " [4.00016117e+01 9.05933167e+01]\n",
      " [4.03587961e+01 8.77603207e+01]\n",
      " [9.87902619e+01 8.99343156e+01]\n",
      " [7.51925975e+01 1.73585747e+01]\n",
      " [7.98776310e+01 6.09600999e+01]\n",
      " [6.33435239e+01 4.76648939e+01]\n",
      " [4.47075213e+01 7.01284620e+01]\n",
      " [5.56686164e+01 5.59044098e+01]\n",
      " [8.83990293e+00 9.43319178e+01]\n",
      " [1.48624495e+01 9.56432783e+01]\n",
      " [5.44963777e+01 4.51196549e+01]\n",
      " [1.12272888e+01 9.35077899e+01]\n",
      " [9.36455383e+01 4.41344541e+01]\n",
      " [4.11644798e+01 2.83311615e+01]\n",
      " [2.05066442e+01 2.77185857e+01]\n",
      " [3.65426624e+01 1.24679421e+01]\n",
      " [1.56726534e+01 4.41763006e+01]\n",
      " [5.16936565e+01 4.16379217e+01]\n",
      " [3.85066716e+00 6.03287616e+01]] (353, 2)\n",
      "[2. 2. 2. 2. 2. 2. 2. 2. 2. 2. 2. 2. 2. 2. 2. 2. 2. 2. 2. 2. 2. 2. 2. 2.\n",
      " 2. 2. 2. 2. 2. 2. 2. 2. 2. 2. 2. 2. 2. 2. 2. 2. 2. 2. 2. 2. 2. 2. 2. 2.\n",
      " 2. 2. 2. 2. 2. 2. 2. 2. 2. 2. 2. 2. 2. 2. 2. 2. 2. 2. 2. 2. 2. 2. 2. 2.\n",
      " 2. 2. 2. 2. 2. 2. 2. 2. 2. 2. 2. 2. 2. 2. 2. 2. 2. 2. 2. 2. 2. 2. 2. 2.\n",
      " 2. 2. 2. 2. 2. 2. 2. 2. 2. 2. 2. 2. 2. 2. 2. 2. 2. 2. 2. 2. 2. 2. 2. 2.\n",
      " 2. 2. 2. 2. 2. 2. 2. 2. 2. 2. 2. 2. 2. 2. 2. 2. 2. 2. 2. 2. 2. 2. 2. 2.\n",
      " 2. 2. 2. 2. 2. 2. 2. 2. 2. 2. 2. 2. 2. 2. 2. 2. 2. 2. 2. 2. 2. 2. 2. 2.\n",
      " 2. 2. 2. 2. 2. 2. 2. 2. 2. 2. 2. 2. 2. 2. 2. 2. 2. 2. 2. 2. 2. 2. 2. 2.\n",
      " 2. 2. 2. 2. 2. 2. 2. 2. 2. 2. 2. 2. 2. 2. 2. 2. 2. 2. 2. 2. 2. 2. 2. 2.\n",
      " 2. 2. 2. 2. 2. 2. 2. 2. 2. 2. 2. 2. 2. 2. 2. 2. 2. 2. 2. 2. 2. 2. 2. 2.\n",
      " 2. 2. 2. 2. 2. 2. 2. 2. 2. 2. 2. 2. 2. 2. 2. 2. 2. 2. 2. 2. 2. 2. 2. 2.\n",
      " 2. 2. 2. 2. 2. 2. 2. 2. 2. 2. 2. 2. 2. 2. 2. 2. 2. 2. 2. 2. 2. 2. 2. 2.\n",
      " 2. 2. 2. 2. 2. 2. 2. 2. 2. 2. 2. 2. 2. 2. 2. 2. 2. 2. 2. 2. 2. 2. 2. 2.\n",
      " 2. 2. 2. 2. 2. 2. 2. 2. 2. 2. 2. 2. 2. 2. 2. 2. 2. 2. 2. 2. 2. 2. 2. 2.\n",
      " 2. 2. 2. 2. 2. 2. 2. 2. 2. 2. 2. 2. 2. 2. 2. 2. 2.] (353,)\n"
     ]
    }
   ],
   "source": [
    "# How to access data and target from a certain class\n",
    "X = repo[np.where(repo[:,2]==0)][:,:2]\n",
    "y = repo[np.where(repo[:,2]==0)][:,2]\n",
    "print(X,X.shape)\n",
    "print(y,y.shape)"
   ]
  },
  {
   "cell_type": "code",
   "execution_count": 15,
   "metadata": {
    "slideshow": {
     "slide_type": "subslide"
    }
   },
   "outputs": [
    {
     "data": {
      "text/plain": [
       "array([0, 0, 4, 2, 1, 2, 0, 4, 4, 3, 3, 3, 2, 3, 4, 1, 1, 4, 1, 1, 2, 1,\n",
       "       4, 4, 1, 2, 2, 4, 0, 2, 2, 3, 3, 2, 4, 4, 2, 2, 2, 4, 2, 0, 4, 1,\n",
       "       2, 0, 0, 3, 3, 1, 2, 4, 2, 4, 0, 4, 3, 2, 1, 2, 0, 2, 0, 3, 4, 4,\n",
       "       2, 2, 0, 4, 3, 0, 2, 1, 4, 3, 4, 1, 0, 3, 1, 2, 3, 1, 4, 4, 3, 0,\n",
       "       2, 4, 1, 1, 1, 0, 2, 4, 3, 3, 2, 3, 4, 0, 0, 2, 3, 2, 3, 0, 0, 2,\n",
       "       3, 1, 3, 4, 3, 2, 1, 1, 2, 2, 2, 3, 0, 2, 3, 4, 2, 4, 4, 1, 4, 3,\n",
       "       4, 0, 0, 3, 0, 3, 4, 0, 1, 1, 2, 0, 0, 3, 1, 3, 4, 3, 4, 1, 4, 4,\n",
       "       4, 1, 2, 1, 3, 1, 2, 0, 2, 4, 4, 2, 0, 2, 0, 1, 2, 2, 4, 0, 3, 3,\n",
       "       2, 1, 4, 2, 0, 3, 4, 3, 0, 3, 1, 1, 1, 3, 3, 3, 3, 3, 0, 4, 3, 2,\n",
       "       1, 4, 2, 4, 3, 4, 1, 3, 1, 2, 3, 4, 2, 0, 4, 1, 2, 3, 0, 3, 4, 4,\n",
       "       3, 4, 4, 0, 0, 1, 1, 0, 4, 3, 1, 4, 4, 4, 4, 1, 2, 4, 1, 1, 3, 2,\n",
       "       2, 4, 4, 2, 0, 4, 3, 3, 2, 3, 2, 4, 0, 4, 3, 3, 4, 3, 3, 1, 0, 0,\n",
       "       1, 0, 3, 3, 1, 4, 4, 2, 4, 0, 1, 3, 3, 4, 3, 3, 4, 3, 1, 0, 3, 1,\n",
       "       2, 2, 4, 4, 0, 2, 3, 2, 1, 2, 1, 4, 0, 0, 3, 0, 3, 2, 4, 4, 4, 2,\n",
       "       0, 3, 2, 3, 1, 0, 4, 0, 0, 4, 1, 0, 0, 1, 1, 0, 4, 4, 0, 1, 2, 2,\n",
       "       1, 0, 2, 2, 1, 1, 3, 0, 3, 3, 1, 1, 4, 4, 2, 4, 3, 2, 2, 2, 4, 2,\n",
       "       4])"
      ]
     },
     "execution_count": 15,
     "metadata": {},
     "output_type": "execute_result"
    }
   ],
   "source": [
    "#How to use Kmeans \n",
    "from sklearn.cluster import KMeans\n",
    "kmeans = KMeans(n_clusters=5).fit(X)\n",
    "kmeans.labels_"
   ]
  },
  {
   "cell_type": "code",
   "execution_count": 16,
   "metadata": {
    "slideshow": {
     "slide_type": "subslide"
    }
   },
   "outputs": [
    {
     "name": "stdout",
     "output_type": "stream",
     "text": [
      "Clusters to decompose class 0: 2\n",
      "Decomposed version of class 0:\n",
      "[[0.34491796 0.84850732 0.1       ]\n",
      " [0.43604784 0.16514166 0.        ]\n",
      " [0.9932021  0.76487697 0.1       ]\n",
      " ...\n",
      " [0.52373002 0.96360341 0.1       ]\n",
      " [0.6585271  0.30268263 0.        ]\n",
      " [0.42981881 0.1258595  0.        ]]\n",
      "Clusters to decompose class 1: 1\n",
      "Clusters to decompose class 2: 1\n",
      "Clusters to decompose class 3: 3\n",
      "Decomposed version of class 3:\n",
      "[[8.00999560e+03 4.15712681e+03 3.00000000e+00]\n",
      " [7.94156931e+03 2.84755634e+03 3.00000000e+00]\n",
      " [7.39054570e+03 5.95081971e+02 3.00000000e+00]\n",
      " ...\n",
      " [9.24130713e+03 2.21388734e+03 3.00000000e+00]\n",
      " [6.21161537e+03 9.52112282e+03 3.20000000e+00]\n",
      " [1.34447093e+03 2.53192715e+03 3.10000000e+00]]\n",
      "Clusters to decompose class 4: 1\n",
      "Decomposed repo\n",
      "[[3.44917961e-01 8.48507323e-01 1.00000000e-01]\n",
      " [4.36047839e-01 1.65141660e-01 0.00000000e+00]\n",
      " [9.93202103e-01 7.64876969e-01 1.00000000e-01]\n",
      " ...\n",
      " [4.84166797e-03 1.77402533e-03 4.00000000e+00]\n",
      " [9.41293497e-03 8.15284782e-03 4.00000000e+00]\n",
      " [1.30395645e-03 1.14764242e-03 4.00000000e+00]]\n"
     ]
    }
   ],
   "source": [
    "## Putting all together\n",
    "from sklearn.cluster import KMeans\n",
    "\n",
    "for i,c in enumerate(classdist):\n",
    "    X = repo[np.where(repo[:,-1]==i)][:,:2] # Find instances of the class\n",
    "    y = np.zeros((c,1))+i\n",
    "    nclusters = math.floor((c/Avg)+1) # Calculate number of clusters\n",
    "    print('Clusters to decompose class '+str(i)+':', nclusters)    \n",
    "    if nclusters>1:        \n",
    "        kmeans = KMeans(n_clusters=nclusters).fit(X)\n",
    "        ## add to the last column decimals for the new class\n",
    "        for j,n in enumerate(X):\n",
    "            y[j]=y[j]+(kmeans.labels_[j]/10) # divide by 10 so that it gets added as decimal\n",
    "        print('Decomposed version of class '+str(i)+':')\n",
    "        print(np.concatenate((X,y),axis=1))\n",
    "    if i==0: # If this is the first time, copy the first class into a new repo\n",
    "        repo_decomp = np.concatenate((X,y),axis=1).copy()\n",
    "    else: # stack the new into the existing\n",
    "        repo_decomp = np.vstack((repo_decomp,np.concatenate((X,y),axis=1)))\n",
    "print('Decomposed repo')\n",
    "print(repo_decomp)"
   ]
  },
  {
   "cell_type": "code",
   "execution_count": 17,
   "metadata": {
    "slideshow": {
     "slide_type": "notes"
    }
   },
   "outputs": [
    {
     "data": {
      "text/plain": [
       "(array([5527., 5573.,    0.,    0.,    0.,    0.,    0.,    0.,    0.,\n",
       "           0., 1899.,    0.,    0.,    0.,    0.,    0.,    0.,    0.,\n",
       "           0.,    0.,  353.,    0.,    0.,    0.,    0.,    0.,    0.,\n",
       "           0.,    0.,    0., 4119., 3981., 4887.,    0.,    0.,    0.,\n",
       "           0.,    0.,    0., 3471.]),\n",
       " array([0. , 0.1, 0.2, 0.3, 0.4, 0.5, 0.6, 0.7, 0.8, 0.9, 1. , 1.1, 1.2,\n",
       "        1.3, 1.4, 1.5, 1.6, 1.7, 1.8, 1.9, 2. , 2.1, 2.2, 2.3, 2.4, 2.5,\n",
       "        2.6, 2.7, 2.8, 2.9, 3. , 3.1, 3.2, 3.3, 3.4, 3.5, 3.6, 3.7, 3.8,\n",
       "        3.9, 4. ]),\n",
       " <BarContainer object of 40 artists>)"
      ]
     },
     "execution_count": 17,
     "metadata": {},
     "output_type": "execute_result"
    },
    {
     "data": {
      "image/png": "[encoded data removed]",
      "text/plain": [
       "<Figure size 432x288 with 1 Axes>"
      ]
     },
     "metadata": {
      "needs_background": "dark"
     },
     "output_type": "display_data"
    }
   ],
   "source": [
    "# Plotting the histogram of the new class distribution\n",
    "plt.hist(repo_decomp[:,2],bins=40)"
   ]
  },
  {
   "cell_type": "code",
   "execution_count": 18,
   "metadata": {
    "slideshow": {
     "slide_type": "subslide"
    }
   },
   "outputs": [],
   "source": [
    "# I do this since 0 and 0.1 are too close\n",
    "# If I plot them, colour difference will be null\n",
    "# Therefore I change 0.1 for 5, 3.1 for 6 and 3.2 for 7\n",
    "colours = repo_decomp[:,-1].copy()\n",
    "colours = np.where(colours==0.1, 5, colours)\n",
    "colours = np.where(colours==3.1, 6, colours)\n",
    "colours = np.where(colours==3.2, 7, colours)"
   ]
  },
  {
   "cell_type": "code",
   "execution_count": 19,
   "metadata": {
    "slideshow": {
     "slide_type": "subslide"
    }
   },
   "outputs": [
    {
     "data": {
      "image/png": "[encoded data removed]",
      "text/plain": [
       "<Figure size 432x288 with 1 Axes>"
      ]
     },
     "metadata": {
      "needs_background": "dark"
     },
     "output_type": "display_data"
    }
   ],
   "source": [
    "# Plotting the decomposed data\n",
    "scatter2 = plt.scatter(repo_decomp[:,0], repo_decomp[:,1], c=colours, alpha=0.5)\n",
    "plt.xlim(0.0001, 100000)\n",
    "plt.ylim(0.0001, 100000)\n",
    "plt.xscale('log')\n",
    "plt.yscale('log')\n",
    "plt.legend(handles=scatter2.legend_elements()[0], labels=[0.1,1,2,3,4,0,3.1,3.2])\n",
    "plt.show()"
   ]
  },
  {
   "cell_type": "markdown",
   "metadata": {
    "slideshow": {
     "slide_type": "subslide"
    }
   },
   "source": [
    "#### Classification of a Decomposed Dataset"
   ]
  },
  {
   "cell_type": "markdown",
   "metadata": {
    "slideshow": {
     "slide_type": "fragment"
    }
   },
   "source": [
    "* Should you decompose **before** or **after** the split?"
   ]
  },
  {
   "cell_type": "markdown",
   "metadata": {
    "slideshow": {
     "slide_type": "fragment"
    }
   },
   "source": [
    "* How should you consider metric success? e.g. if a $Dark\\:\\color{red}{red}$ sample gets classified as a $Light\\:\\color{red}{red}$ one "
   ]
  },
  {
   "cell_type": "markdown",
   "metadata": {
    "slideshow": {
     "slide_type": "subslide"
    }
   },
   "source": [
    "* Notice that this is not the only way to do class decomposition, there are numerous ways to do it!"
   ]
  },
  {
   "cell_type": "markdown",
   "metadata": {
    "slideshow": {
     "slide_type": "fragment"
    }
   },
   "source": [
    "* You can check [Elyan & Gaber 2017](https://rgu-repository.worktribe.com/output/246044) paper to see an advanced approach"
   ]
  },
  {
   "cell_type": "markdown",
   "metadata": {
    "slideshow": {
     "slide_type": "fragment"
    }
   },
   "source": [
    "* This method uses `Random Forests` and `genetic algorithms`"
   ]
  },
  {
   "cell_type": "markdown",
   "metadata": {
    "slideshow": {
     "slide_type": "subslide"
    }
   },
   "source": [
    "### Image Augmentation"
   ]
  },
  {
   "cell_type": "markdown",
   "metadata": {
    "slideshow": {
     "slide_type": "fragment"
    }
   },
   "source": [
    "* In the particular case of images, we can also recur to creating synthetic/artificial images"
   ]
  },
  {
   "cell_type": "markdown",
   "metadata": {
    "slideshow": {
     "slide_type": "fragment"
    }
   },
   "source": [
    "* This process relies on image transformation functions and properties"
   ]
  },
  {
   "cell_type": "markdown",
   "metadata": {
    "slideshow": {
     "slide_type": "fragment"
    }
   },
   "source": [
    "* Examples: DIY, affine transform, `Tensorflow`/`Keras` (deep learning frameworks), Genarative Adversarial Networks (GANs), etc."
   ]
  },
  {
   "cell_type": "markdown",
   "metadata": {
    "slideshow": {
     "slide_type": "subslide"
    }
   },
   "source": [
    "![Fig 2. Image Augmentation](https://www.dropbox.com/s/40ribd6hmymuz7b/imgaug.png?raw=1)"
   ]
  },
  {
   "cell_type": "markdown",
   "metadata": {
    "slideshow": {
     "slide_type": "slide"
    }
   },
   "source": [
    "# LAB 5: Deep Learning Frameworks for Image Augmentation"
   ]
  }
 ],
 "metadata": {
  "celltoolbar": "Slideshow",
  "hide_input": false,
  "kernelspec": {
   "display_name": "Python 3",
   "language": "python",
   "name": "python3"
  },
  "language_info": {
   "codemirror_mode": {
    "name": "ipython",
    "version": 3
   },
   "file_extension": ".py",
   "mimetype": "text/x-python",
   "name": "python",
   "nbconvert_exporter": "python",
   "pygments_lexer": "ipython3",
   "version": "3.7.3"
  },
  "rise": {
   "enable_chalkboard": true
  },
  "varInspector": {
   "cols": {
    "lenName": 16,
    "lenType": 16,
    "lenVar": 40
   },
   "kernels_config": {
    "python": {
     "delete_cmd_postfix": "",
     "delete_cmd_prefix": "del ",
     "library": "var_list.py",
     "varRefreshCmd": "print(var_dic_list())"
    },
    "r": {
     "delete_cmd_postfix": ") ",
     "delete_cmd_prefix": "rm(",
     "library": "var_list.r",
     "varRefreshCmd": "cat(var_dic_list()) "
    }
   },
   "types_to_exclude": [
    "module",
    "function",
    "builtin_function_or_method",
    "instance",
    "_Feature"
   ],
   "window_display": false
  }
 },
 "nbformat": 4,
 "nbformat_minor": 2
}
