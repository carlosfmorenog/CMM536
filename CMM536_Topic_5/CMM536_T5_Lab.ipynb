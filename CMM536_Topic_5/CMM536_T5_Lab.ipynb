{
  "cells": [
    {
      "cell_type": "markdown",
      "metadata": {
        "id": "view-in-github",
        "colab_type": "text"
      },
      "source": [
        "<a href=\"https://colab.research.google.com/github/carlosfmorenog/CMM536/blob/master/CMM536_Topic_5/CMM536_T5_Lab.ipynb\" target=\"_parent\"><img src=\"https://colab.research.google.com/assets/colab-badge.svg\" alt=\"Open In Colab\"/></a>"
      ]
    },
    {
      "cell_type": "markdown",
      "metadata": {
        "id": "bdlk49an5KYo"
      },
      "source": [
        "# Topic 5 Laboratory"
      ]
    },
    {
      "cell_type": "markdown",
      "metadata": {
        "id": "EsNNNKAh5KYs"
      },
      "source": [
        "In this activity you will use `Tensorflow` to apply image augmentation to an image repository which is normally used to train deep learning models."
      ]
    },
    {
      "cell_type": "markdown",
      "metadata": {
        "id": "xAihjxxE5KYu"
      },
      "source": [
        "To see the original tutorial, you can visit [this site](https://www.wouterbulten.nl/blog/tech/data-augmentation-using-tensorflow-data-dataset/)."
      ]
    },
    {
      "cell_type": "markdown",
      "metadata": {
        "id": "tDIrDAKP5KYy"
      },
      "source": [
        "## Installing the necessary packages"
      ]
    },
    {
      "cell_type": "markdown",
      "metadata": {
        "id": "KMifCD3s5KY0"
      },
      "source": [
        "We will use [Tensorflow](https://www.tensorflow.org/), which is a very popular deep learning library in Python, to create our image augmentation model. To install it, run the cell below:"
      ]
    },
    {
      "cell_type": "code",
      "execution_count": null,
      "metadata": {
        "id": "k4D2myLa5KY3"
      },
      "outputs": [],
      "source": [
        "!pip install tensorflow\n",
        "!pip install --upgrade tensorflow # Make sure you get version >2.1.0"
      ]
    },
    {
      "cell_type": "markdown",
      "metadata": {
        "id": "_JY-HRVR5KY5"
      },
      "source": [
        "To start our practice, we will import `Tensorflow` along with `numpy` and `matplotlib.pyplot` by running the following cell:"
      ]
    },
    {
      "cell_type": "code",
      "execution_count": null,
      "metadata": {
        "id": "QNmTEfU55KY6"
      },
      "outputs": [],
      "source": [
        "import tensorflow as tf\n",
        "import numpy as np\n",
        "import matplotlib.pyplot as plt"
      ]
    },
    {
      "cell_type": "markdown",
      "metadata": {
        "id": "DW3q-n-G5KY7"
      },
      "source": [
        "## Loading the Data"
      ]
    },
    {
      "cell_type": "markdown",
      "metadata": {
        "id": "Zn8pJQ_s5KY9"
      },
      "source": [
        "The [CIFAR-10](https://www.cs.toronto.edu/~kriz/cifar.html) dataset can be imported directly by `tensorflow`. In fact the dataset contains more than 170 million images! We will download all of them in a reduced format, and import only a very small batch to train the image augmentation functions:"
      ]
    },
    {
      "cell_type": "code",
      "execution_count": null,
      "metadata": {
        "id": "KGDrLBoZ5KY-"
      },
      "outputs": [],
      "source": [
        "(x_train, y_train), (x_test, y_test) = tf.keras.datasets.cifar10.load_data()"
      ]
    },
    {
      "cell_type": "markdown",
      "metadata": {
        "id": "LAWjnzwd5KZA"
      },
      "source": [
        "The next cell contains a function where you can specify as input the number of images from CIFAR-10 that you want, and will return to you a sample dataset:"
      ]
    },
    {
      "cell_type": "code",
      "execution_count": null,
      "metadata": {
        "id": "iTNiMMVI5KZA"
      },
      "outputs": [],
      "source": [
        "def create_dataset(number_images):\n",
        "    return tf.data.Dataset.from_tensor_slices((x_train[0:number_images] / 255).astype(np.float32))"
      ]
    },
    {
      "cell_type": "markdown",
      "metadata": {
        "id": "LWY4dNap5KZB"
      },
      "source": [
        "The next cell contains a function to plot images that you requested, along with a certain number of samples per image. You will notice along this practice that it is thanks to this function that you will be able to get all outputs."
      ]
    },
    {
      "cell_type": "code",
      "execution_count": null,
      "metadata": {
        "id": "xreEYXN-5KZC"
      },
      "outputs": [],
      "source": [
        "def plot_images(dataset, n_images, samples_per_image):\n",
        "    output = np.zeros((32 * n_images, 32 * samples_per_image, 3))\n",
        "    row = 0\n",
        "    for images in dataset.repeat(samples_per_image).batch(n_images):\n",
        "        output[:, row*32:(row+1)*32] = np.vstack(images.numpy())\n",
        "        row += 1\n",
        "    plt.figure()\n",
        "    plt.imshow(output)\n",
        "    plt.show()\n",
        "    return"
      ]
    },
    {
      "cell_type": "markdown",
      "metadata": {
        "id": "WcasVRzy5KZC"
      },
      "source": [
        "Run the following cell changing the value of `n` and `m` to see different number of images and samples per images respectively:"
      ]
    },
    {
      "cell_type": "code",
      "execution_count": null,
      "metadata": {
        "id": "xPWtn9dW5KZD"
      },
      "outputs": [],
      "source": [
        "n=5\n",
        "m=2\n",
        "imgs = create_dataset(n)\n",
        "plot_images(imgs, n, m)"
      ]
    },
    {
      "cell_type": "markdown",
      "metadata": {
        "id": "OefBaWw15KZF"
      },
      "source": [
        "## Creating a Tensor"
      ]
    },
    {
      "cell_type": "markdown",
      "metadata": {
        "id": "yknxg5W55KZF"
      },
      "source": [
        "One of the most interesting features of `tensorflow` is the use of **tensors**. Tensors are a generalisation of vectors and matrices with potential higher dimension[$^1$](https://www.tensorflow.org/guide/tensor). Since objects used in deep learning usually contain millions of samples, it is easier to use tensors rather than conventional functions."
      ]
    },
    {
      "cell_type": "markdown",
      "metadata": {
        "id": "-FGsvBEi5KZG"
      },
      "source": [
        "For instance, suppose that you want to create an `augment()` function which will multiply your original samples. The tensor for that function will have the following structure:"
      ]
    },
    {
      "cell_type": "code",
      "execution_count": null,
      "metadata": {
        "id": "O4Ghn6A-5KZH"
      },
      "outputs": [],
      "source": [
        "## If you run this cell, nothing will happen\n",
        "def augment(x: tf.Tensor) -> tf.Tensor:\n",
        "    \"\"\"This function will augment the image dataset based on your parameters\n",
        "    Input:\n",
        "        x: Image\n",
        "    Output:\n",
        "        Augmented image\"\"\"\n",
        "    return x"
      ]
    },
    {
      "cell_type": "markdown",
      "metadata": {
        "id": "t-qu-aIT5KZH"
      },
      "source": [
        "## Image Rotation"
      ]
    },
    {
      "cell_type": "markdown",
      "metadata": {
        "id": "vOgTotu55KZI"
      },
      "source": [
        "`Tensorflow` already contains several functions that can be used to manipulate images. We will design tensors to fit those functions for our sample repository. The next cell will define the a random rotation in four different angles: 0, 90, 180 and 270 degrees."
      ]
    },
    {
      "cell_type": "code",
      "execution_count": null,
      "metadata": {
        "id": "M7kFPEWy5KZJ"
      },
      "outputs": [],
      "source": [
        "# Again, no output is expected\n",
        "def rotate(x: tf.Tensor) -> tf.Tensor:\n",
        "    \"\"\"Rotation augmentation\"\"\"\n",
        "    # Rotate 0, 90, 180, 270 degrees\n",
        "    return tf.image.rot90(x, tf.random.uniform(shape=[], minval=0, maxval=4, dtype=tf.int32))"
      ]
    },
    {
      "cell_type": "markdown",
      "metadata": {
        "id": "BTlQG87X5KZJ"
      },
      "source": [
        "To use the tensor, we need to apply the `map()` Tensor function to the dataset as follows:"
      ]
    },
    {
      "cell_type": "code",
      "execution_count": null,
      "metadata": {
        "id": "Uq58STGv5KZK"
      },
      "outputs": [],
      "source": [
        "imgs2 = imgs.map(rotate,)\n",
        "plot_images(imgs2, n, m)"
      ]
    },
    {
      "cell_type": "markdown",
      "metadata": {
        "id": "cJd3MSEh5KZK"
      },
      "source": [
        "Notice that although you cannot change the value of `n` (unless you import again the repository by running the `create_dataset()` function again), you can always change the number of samples `m`. That is the beauty of tensors!"
      ]
    },
    {
      "cell_type": "code",
      "execution_count": null,
      "metadata": {
        "id": "TOZlkPmC5KZL"
      },
      "outputs": [],
      "source": [
        "## Use this cell to map the rotation tensor and print a different number of samples"
      ]
    },
    {
      "cell_type": "markdown",
      "metadata": {
        "id": "JFjCZ44W5KZM"
      },
      "source": [
        "## Flip"
      ]
    },
    {
      "cell_type": "markdown",
      "metadata": {
        "id": "cglIdnB25KZM"
      },
      "source": [
        "Now we will define the flip:"
      ]
    },
    {
      "cell_type": "code",
      "execution_count": null,
      "metadata": {
        "id": "a-JW_-oS5KZM"
      },
      "outputs": [],
      "source": [
        "def flip(x: tf.Tensor) -> tf.Tensor:\n",
        "    \"\"\"Flip augmentation\"\"\"\n",
        "    x = tf.image.random_flip_left_right(x)\n",
        "    x = tf.image.random_flip_up_down(x)\n",
        "    return x"
      ]
    },
    {
      "cell_type": "code",
      "execution_count": null,
      "metadata": {
        "id": "XfyWLS3a5KZM"
      },
      "outputs": [],
      "source": [
        "## Use this cell to map and verify the flip"
      ]
    },
    {
      "cell_type": "markdown",
      "metadata": {
        "id": "udVxRGGx5KZO"
      },
      "source": [
        "### Changing the colour"
      ]
    },
    {
      "cell_type": "markdown",
      "metadata": {
        "id": "j0XeNnNq5KZO"
      },
      "source": [
        "You get the idea by now, run the cell and test the tensor!"
      ]
    },
    {
      "cell_type": "code",
      "execution_count": null,
      "metadata": {
        "id": "XVxN3y_c5KZP"
      },
      "outputs": [],
      "source": [
        "def colour(x: tf.Tensor) -> tf.Tensor:\n",
        "    \"\"\"Colour augmentation\"\"\"\n",
        "    x = tf.image.random_hue(x, 0.08)\n",
        "    x = tf.image.random_saturation(x, 0.6, 1.6)\n",
        "    x = tf.image.random_brightness(x, 0.05)\n",
        "    x = tf.image.random_contrast(x, 0.7, 1.3)\n",
        "    return x"
      ]
    },
    {
      "cell_type": "code",
      "execution_count": null,
      "metadata": {
        "id": "c9T7egW45KZQ"
      },
      "outputs": [],
      "source": [
        "## Use this cell to map and verify the colour"
      ]
    },
    {
      "cell_type": "markdown",
      "metadata": {
        "id": "AJe-9DTv5KZQ"
      },
      "source": [
        "### Applying more than one transformation simultaneously"
      ]
    },
    {
      "cell_type": "markdown",
      "metadata": {
        "id": "St0ywPY65KZR"
      },
      "source": [
        "We can combine multiple transformations and use them at the same time."
      ]
    },
    {
      "cell_type": "code",
      "execution_count": null,
      "metadata": {
        "id": "lSxX8yHV5KZR"
      },
      "outputs": [],
      "source": [
        "# Add augmentations\n",
        "augmentations = [rotate, flip, colour]\n",
        "# Add the augmentations to the dataset\n",
        "for f in augmentations:\n",
        "    # Apply the augmentation, run 4 jobs in parallel.\n",
        "    imgs = imgs.map(f, num_parallel_calls=1)\n",
        "plot_images(imgs, n, 15)"
      ]
    },
    {
      "cell_type": "markdown",
      "metadata": {
        "id": "V_a1tlQh5KZS"
      },
      "source": [
        "Notice we have to do this in `imgs` (the original dataset) instead of creating a new dataset `imgs2`"
      ]
    },
    {
      "cell_type": "markdown",
      "metadata": {
        "id": "RlM_k9WD5KZS"
      },
      "source": [
        "## Zoom"
      ]
    },
    {
      "cell_type": "markdown",
      "metadata": {
        "id": "ZWhSJh345KZT"
      },
      "source": [
        "Now it's your turn to add the zoom into the model. The outcome of this transformation may not be very visible for the `CIFAR-10` dataset, but is a very widely used technique, especially when you want to train detection models where you don't know the scale of the images that you want to localise!"
      ]
    },
    {
      "cell_type": "markdown",
      "metadata": {
        "id": "0aGOMxR85KZT"
      },
      "source": [
        "This function is harder to understand, in fact it contains a function `random_crop()` inside!"
      ]
    },
    {
      "cell_type": "code",
      "execution_count": null,
      "metadata": {
        "id": "mRZKlRhA5KZT"
      },
      "outputs": [],
      "source": [
        "## Use the cell below to define the zoom function\n",
        "def zoom(x: tf.Tensor) -> tf.Tensor:\n",
        "    \"\"\"Zoom augmentation\"\"\"\n",
        "    # Generate 20 crop settings, ranging from a 1% to 20% crop.\n",
        "    scales = list(np.arange(0.8, 1.0, 0.01))\n",
        "    boxes = np.zeros((len(scales), 4))\n",
        "    for i, scale in enumerate(scales):\n",
        "        x1 = y1 = 0.5 - (0.5 * scale)\n",
        "        x2 = y2 = 0.5 + (0.5 * scale)\n",
        "        boxes[i] = [x1, y1, x2, y2]\n",
        "    def random_crop(img):\n",
        "        # Create different crops for an image\n",
        "        crops = tf.image.crop_and_resize([img], boxes=boxes, box_indices=np.zeros(len(scales)), crop_size=(32, 32))\n",
        "        # Return a random crop\n",
        "        return crops[tf.random.uniform(shape=[], minval=0, maxval=len(scales), dtype=tf.int32)]\n",
        "    choice = tf.random.uniform(shape=[], minval=0., maxval=1., dtype=tf.float32)\n",
        "    # Only apply cropping 50% of the time\n",
        "    return tf.cond(choice < 0.5, lambda: x, lambda: random_crop(x))"
      ]
    },
    {
      "cell_type": "markdown",
      "metadata": {
        "id": "-p-pt1iV5KZU"
      },
      "source": [
        "Use the following cell to run the `zoom` tensor, printing 20 samples"
      ]
    },
    {
      "cell_type": "code",
      "execution_count": null,
      "metadata": {
        "id": "nTwEtNgK5KZV"
      },
      "outputs": [],
      "source": [
        "imgs2 = imgs.map(zoom)\n",
        "plot_images(imgs2, n, m)"
      ]
    },
    {
      "cell_type": "code",
      "execution_count": null,
      "metadata": {
        "id": "S8BXtlyZ5KZW"
      },
      "outputs": [],
      "source": [
        "## Use this cell to run the model with flip, rotate, color, zoom & plot afterwards"
      ]
    },
    {
      "cell_type": "markdown",
      "metadata": {
        "id": "wc0NGRXm5KZY"
      },
      "source": [
        "## Bonus 1: Augment your own images!"
      ]
    },
    {
      "cell_type": "markdown",
      "metadata": {
        "id": "iUbXj0FF5KZY"
      },
      "source": [
        "Import a repository of images form your computer, convert it into a `DatasetV1Adapter` and apply the tensors designed in this tutorial to augment your own dataset."
      ]
    },
    {
      "cell_type": "markdown",
      "metadata": {
        "id": "Aj6if8xl5KZZ"
      },
      "source": [
        "## Bonus 2: Image augmentation using Keras"
      ]
    },
    {
      "cell_type": "markdown",
      "metadata": {
        "id": "bRqyRSQD5KZZ"
      },
      "source": [
        "As explained in the lecture, there are many ways to do image augmentation. There is another tutorial [here](https://machinelearningmastery.com/image-augmentation-deep-learning-keras/) which uses the popular `Keras` API and their image preprocessing functions. You can find more about it [here](https://keras.io/preprocessing/image/)."
      ]
    },
    {
      "cell_type": "markdown",
      "metadata": {
        "id": "RHrAjx945KZZ"
      },
      "source": [
        "[Keras](https://keras.io/) typically runs using the [theano](http://deeplearning.net/software/theano/) back-end to do the calculations. You can install both by running the following cell:"
      ]
    },
    {
      "cell_type": "code",
      "execution_count": null,
      "metadata": {
        "id": "Wu8iEpK15KZZ"
      },
      "outputs": [],
      "source": [
        "!pip install keras\n",
        "!pip install theano"
      ]
    },
    {
      "cell_type": "markdown",
      "metadata": {
        "id": "GOXlz67m5KZa"
      },
      "source": [
        "When running keras/theano for the first time IN YOUR PC, you may be prompted with an error message telling you that `theano` has no attribute `gof` due to `g++` not being installed."
      ]
    },
    {
      "cell_type": "code",
      "execution_count": null,
      "metadata": {
        "id": "S8JxKRXK5KZb"
      },
      "outputs": [],
      "source": [
        "import keras\n",
        "import theano"
      ]
    },
    {
      "cell_type": "markdown",
      "metadata": {
        "id": "0sTtpF_55KZb"
      },
      "source": [
        " You can find instructions on how to download and install the g++ compiler [here](http://www.cs.utah.edu/~alee/g++/g++old.html)."
      ]
    }
  ],
  "metadata": {
    "hide_input": false,
    "kernelspec": {
      "display_name": "Python 3",
      "language": "python",
      "name": "python3"
    },
    "language_info": {
      "codemirror_mode": {
        "name": "ipython",
        "version": 3
      },
      "file_extension": ".py",
      "mimetype": "text/x-python",
      "name": "python",
      "nbconvert_exporter": "python",
      "pygments_lexer": "ipython3",
      "version": "3.7.3"
    },
    "varInspector": {
      "cols": {
        "lenName": 16,
        "lenType": 16,
        "lenVar": 40
      },
      "kernels_config": {
        "python": {
          "delete_cmd_postfix": "",
          "delete_cmd_prefix": "del ",
          "library": "var_list.py",
          "varRefreshCmd": "print(var_dic_list())"
        },
        "r": {
          "delete_cmd_postfix": ") ",
          "delete_cmd_prefix": "rm(",
          "library": "var_list.r",
          "varRefreshCmd": "cat(var_dic_list()) "
        }
      },
      "types_to_exclude": [
        "module",
        "function",
        "builtin_function_or_method",
        "instance",
        "_Feature"
      ],
      "window_display": false
    },
    "colab": {
      "name": "CMM536_T5_Lab.ipynb",
      "provenance": [],
      "collapsed_sections": [],
      "include_colab_link": true
    }
  },
  "nbformat": 4,
  "nbformat_minor": 0
}