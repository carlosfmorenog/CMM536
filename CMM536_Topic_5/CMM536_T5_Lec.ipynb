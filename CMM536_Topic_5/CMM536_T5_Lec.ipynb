{
  "cells": [
    {
      "cell_type": "markdown",
      "metadata": {
        "id": "view-in-github",
        "colab_type": "text"
      },
      "source": [
        "<a href=\"https://colab.research.google.com/github/carlosfmorenog/CMM536/blob/master/CMM536_Topic_5/CMM536_T5_Lec.ipynb\" target=\"_parent\"><img src=\"https://colab.research.google.com/assets/colab-badge.svg\" alt=\"Open In Colab\"/></a>"
      ]
    },
    {
      "cell_type": "markdown",
      "metadata": {
        "id": "2k_5oA0v9yes"
      },
      "source": [
        "# Topic 5 - Methods to Address Class Imbalance"
      ]
    },
    {
      "cell_type": "markdown",
      "metadata": {
        "id": "2DUBb-N49yev"
      },
      "source": [
        "## Aims of the Session"
      ]
    },
    {
      "cell_type": "markdown",
      "metadata": {
        "id": "nbhMg0ha9yev"
      },
      "source": [
        "* Understand the concept of class imbalance and how it affects the classification of data in general"
      ]
    },
    {
      "cell_type": "markdown",
      "metadata": {
        "id": "9H6gcuiH9yew"
      },
      "source": [
        "* Learn how to implement some popular data-based methods to address this problem"
      ]
    },
    {
      "cell_type": "markdown",
      "metadata": {
        "id": "I7BfOIf99yex"
      },
      "source": [
        "## Resources for the Lecture"
      ]
    },
    {
      "cell_type": "markdown",
      "metadata": {
        "id": "Yh9LhBxz9yey"
      },
      "source": [
        "### Websites\n",
        "\n",
        "* https://readthedocs.org/projects/imbalanced-learn/\n",
        "* https://imbalanced-learn.org/stable/references/generated/imblearn.under_sampling.RandomUnderSampler.html\n",
        "* https://imbalanced-learn.org/stable/references/generated/imblearn.over_sampling.SMOTE.html\n",
        "* https://scikit-learn.org/stable/modules/generated/sklearn.datasets.load_breast_cancer.html\n",
        "* https://towardsdatascience.com/image-augmentation-for-deep-learning-histogram-equalization-a71387f609b2\n",
        "* https://keras.io/preprocessing/image/\n",
        "* https://machinelearningmastery.com/image-augmentation-deep-learning-keras/\n",
        "* https://scikit-learn.org/stable/modules/generated/sklearn.cluster.KMeans.html"
      ]
    },
    {
      "cell_type": "markdown",
      "metadata": {
        "id": "-1Nflxkv9yey"
      },
      "source": [
        "### Papers\n",
        "\n",
        "* N. Japkowicz, S. Stephen, “The class imbalance problem: A systematic study,” Intelligent Data Analysis 6 (5) (2002) 429-449.\n",
        "* J. Stefanowski, “Overlapping, Rare Examples and Class Decomposition in Learning Classifiers from Imbalanced Data,” in Emerging Paradigms in Machine Learning, Springer, Berlin, Heidelberg, 2013, pp. 277–306.\n",
        "* C. Seiffert, T. M. Khoshgoftaar, J. Van Hulse, and A. Napolitano, “RUSBoost A Hybrid Approach to Alleviating Class Imbalance,” IEEE Transactions on Systems, Man and Cybernetics, Part A: Systems and Humans, vol. 40, no. 1, pp. 185–197, 2010.\n",
        "* N. V. Chawla, K. W. Bowyer, L. O. Hall, and W. P. Kegelmeyer, “SMOTE: Synthetic minority over-sampling technique,” Journal of Artificial Intelligence Research, vol. 16, pp. 321–357, 2002.\n",
        "* R. Vilalta, M.-K. Achari, and C. F. Eick, “Class decomposition via clustering: a new framework for low-variance classifiers,” Third IEEE International Conference on Data Mining, pp. 673–676, 2003.\n",
        "* E. Elyan, M. M. Gaber, “A genetic algorithm approach to optimising random forests applied to class engineered data,” Information Sciences, Volume 384, April 2017\n",
        "* E. Elyan, C. F. Moreno-García, C. Jayne, \"CDSMOTE: class decomposition and synthetic minority class oversampling technique for imbalanced-data classification,\" Neural Computing Applications, 2020. Available from: https://doi.org/10.1007/s00521-020-05130-z"
      ]
    },
    {
      "cell_type": "markdown",
      "metadata": {
        "id": "JyehAl0f9ye0"
      },
      "source": [
        "## What is class imbalance?"
      ]
    },
    {
      "cell_type": "markdown",
      "metadata": {
        "id": "u46lI5sG9ye1"
      },
      "source": [
        "Last week we used the popular `IRIS` dataset, which contains $150$ samples of $3$ different iris plants"
      ]
    },
    {
      "cell_type": "markdown",
      "metadata": {
        "id": "ZbiYCFQF9ye2"
      },
      "source": [
        "* Each class contains 50 samples, and therefore this dataset is **balanced**"
      ]
    },
    {
      "cell_type": "markdown",
      "metadata": {
        "id": "Q6G3U1_l9ye3"
      },
      "source": [
        "* However this is **not** usually the case!"
      ]
    },
    {
      "cell_type": "markdown",
      "metadata": {
        "id": "icquED5R9ye3"
      },
      "source": [
        "* Think about domains such as health sciences, the financial sector, cyber security and others"
      ]
    },
    {
      "cell_type": "markdown",
      "metadata": {
        "id": "pJbRtM7p9ye4"
      },
      "source": [
        "* Usually you collect a vast amount of samples that belong to one class, but not enough from the other one "
      ]
    },
    {
      "cell_type": "markdown",
      "metadata": {
        "id": "Go5gPAFK9ye5"
      },
      "source": [
        "* Examples: Presence vs absence of a disease, valid vs invalid transactions, legit vs spam emails, etc..."
      ]
    },
    {
      "cell_type": "markdown",
      "metadata": {
        "id": "YJ9XHlUl9ye5"
      },
      "source": [
        "### Formal definitions"
      ]
    },
    {
      "cell_type": "markdown",
      "metadata": {
        "id": "3A88J4lV9ye5"
      },
      "source": [
        "* Assume we have a dataset with only two classes (i.e. a `binary` dataset)"
      ]
    },
    {
      "cell_type": "markdown",
      "metadata": {
        "id": "4epdKLSq9ye6"
      },
      "source": [
        "* This dataset is said to be **imbalanced** if one of the classes (i.e. `majority class`) outnumbers the other class (i.e. `minority class`)"
      ]
    },
    {
      "cell_type": "markdown",
      "metadata": {
        "id": "IGpuKga_9ye7"
      },
      "source": [
        "* Often the majority class is known as the `negative` class, while the minority class is known as the `positive` class."
      ]
    },
    {
      "cell_type": "markdown",
      "metadata": {
        "id": "JKdja52-9ye7"
      },
      "source": [
        "* We can calculate the `imbalance ratio` of this dataset by using the following formula:"
      ]
    },
    {
      "cell_type": "markdown",
      "metadata": {
        "id": "bhr9BiO29ye8"
      },
      "source": [
        "$Imbalance Ratio = \\frac{number\\:of\\:samples\\:majority\\:class}{number\\:of\\:samples\\:minority\\:class}$"
      ]
    },
    {
      "cell_type": "markdown",
      "metadata": {
        "id": "fXuvDxv99ye8"
      },
      "source": [
        "* Example: A dataset with 100 samples of plant $A$ and 50 samples of plant $B$ would have an `imbalance ratio` of $IR = 2$"
      ]
    },
    {
      "cell_type": "markdown",
      "metadata": {
        "id": "xB4QRq5f9ye8"
      },
      "source": [
        "* As $IR$ becomes larger, the dataset is more imbalances and thus, harder to be **correctly** classified"
      ]
    },
    {
      "cell_type": "markdown",
      "metadata": {
        "id": "RbVn8ffR9ye9"
      },
      "source": [
        "### What do I mean by CORRECTLY classified?"
      ]
    },
    {
      "cell_type": "markdown",
      "metadata": {
        "id": "cL294Jg_9ye9"
      },
      "source": [
        "* When designing a testing framework for a classifier, it is essential to select the correct **metrics**"
      ]
    },
    {
      "cell_type": "markdown",
      "metadata": {
        "id": "MraTLlx_9ye-"
      },
      "source": [
        "* Still, it is important to flag the most common flaw when evaluating imbalance dataset classification"
      ]
    },
    {
      "cell_type": "markdown",
      "metadata": {
        "id": "eNskVKTW9ye-"
      },
      "source": [
        "* If we *design* a classifier for a dataset with $IR=99$ which simply predicts all samples to be `negative`, then we will obtain an `accuracy` of $99\\%$!"
      ]
    },
    {
      "cell_type": "markdown",
      "metadata": {
        "id": "dCzKcobg9ye-"
      },
      "source": [
        "* Accuracy is **NOT** a good metric for imbalance dataset classification!"
      ]
    },
    {
      "cell_type": "markdown",
      "metadata": {
        "id": "Txbm-_cx9ye_"
      },
      "source": [
        "* We will talk about this in more detail in Topic 6"
      ]
    },
    {
      "cell_type": "markdown",
      "metadata": {
        "id": "lX55j7sg9ye_"
      },
      "source": [
        "### Types of class imbalance methods"
      ]
    },
    {
      "cell_type": "markdown",
      "metadata": {
        "id": "gNV941YS9ye_"
      },
      "source": [
        "* `Data-based`: Resampling the data to generate a new dataset"
      ]
    },
    {
      "cell_type": "markdown",
      "metadata": {
        "id": "uAFgCQvy9yfA"
      },
      "source": [
        "* `Algorithmic-based`: Designing modified learning algorithms"
      ]
    },
    {
      "cell_type": "markdown",
      "metadata": {
        "id": "bCvPntSI9yfA"
      },
      "source": [
        "* `Cost-sensitive`: Aimed at minimising the total cost considering the different class distributions"
      ]
    },
    {
      "cell_type": "markdown",
      "metadata": {
        "id": "u7znjIfO9yfA"
      },
      "source": [
        "* Today we will focus on the first category"
      ]
    },
    {
      "cell_type": "markdown",
      "metadata": {
        "id": "yp4iGvuD9yfA"
      },
      "source": [
        "## Data-Based Imbalance Handling in Binary Datasets"
      ]
    },
    {
      "cell_type": "markdown",
      "metadata": {
        "id": "LYAsb5nW9yfB"
      },
      "source": [
        "* There are two main approaches to handle imbalance in binary datasets:"
      ]
    },
    {
      "cell_type": "markdown",
      "metadata": {
        "id": "QytICsFf9yfB"
      },
      "source": [
        "* `Undersampling`: Reducing the samples from the majority class"
      ]
    },
    {
      "cell_type": "markdown",
      "metadata": {
        "id": "xhU3gakT9yfC"
      },
      "source": [
        "* `Oversampling`: Increasing the samples from the minority class"
      ]
    },
    {
      "cell_type": "markdown",
      "metadata": {
        "id": "C6p2p-zc9yfC"
      },
      "source": [
        "* We will use a test dataset called [breast_cancer](https://scikit-learn.org/stable/datasets/index.html#breast-cancer-dataset) to exemplify one method of each variety:"
      ]
    },
    {
      "cell_type": "markdown",
      "metadata": {
        "id": "APutypl39yfD"
      },
      "source": [
        "### Random Undersampling (RUS)"
      ]
    },
    {
      "cell_type": "markdown",
      "metadata": {
        "id": "q7FSBt2N9yfD"
      },
      "source": [
        "* This method, as the name says, consists in randomly undersampling the majority class to even the datasets"
      ]
    },
    {
      "cell_type": "code",
      "execution_count": null,
      "metadata": {
        "id": "syqjMKuv9yfE",
        "outputId": "73b06633-bd22-440b-ae4f-3ae4e74b82f8",
        "colab": {
          "base_uri": "https://localhost:8080/"
        }
      },
      "outputs": [
        {
          "output_type": "stream",
          "name": "stdout",
          "text": [
            "[[1.799e+01 1.038e+01 1.228e+02 ... 2.654e-01 4.601e-01 1.189e-01]\n",
            " [2.057e+01 1.777e+01 1.329e+02 ... 1.860e-01 2.750e-01 8.902e-02]\n",
            " [1.969e+01 2.125e+01 1.300e+02 ... 2.430e-01 3.613e-01 8.758e-02]\n",
            " ...\n",
            " [1.660e+01 2.808e+01 1.083e+02 ... 1.418e-01 2.218e-01 7.820e-02]\n",
            " [2.060e+01 2.933e+01 1.401e+02 ... 2.650e-01 4.087e-01 1.240e-01]\n",
            " [7.760e+00 2.454e+01 4.792e+01 ... 0.000e+00 2.871e-01 7.039e-02]]\n",
            "The shape of the dataset is:  (569, 30)\n",
            "[0 0 0 0 0 0 0 0 0 0 0 0 0 0 0 0 0 0 0 1 1 1 0 0 0 0 0 0 0 0 0 0 0 0 0 0 0\n",
            " 1 0 0 0 0 0 0 0 0 1 0 1 1 1 1 1 0 0 1 0 0 1 1 1 1 0 1 0 0 1 1 1 1 0 1 0 0\n",
            " 1 0 1 0 0 1 1 1 0 0 1 0 0 0 1 1 1 0 1 1 0 0 1 1 1 0 0 1 1 1 1 0 1 1 0 1 1\n",
            " 1 1 1 1 1 1 0 0 0 1 0 0 1 1 1 0 0 1 0 1 0 0 1 0 0 1 1 0 1 1 0 1 1 1 1 0 1\n",
            " 1 1 1 1 1 1 1 1 0 1 1 1 1 0 0 1 0 1 1 0 0 1 1 0 0 1 1 1 1 0 1 1 0 0 0 1 0\n",
            " 1 0 1 1 1 0 1 1 0 0 1 0 0 0 0 1 0 0 0 1 0 1 0 1 1 0 1 0 0 0 0 1 1 0 0 1 1\n",
            " 1 0 1 1 1 1 1 0 0 1 1 0 1 1 0 0 1 0 1 1 1 1 0 1 1 1 1 1 0 1 0 0 0 0 0 0 0\n",
            " 0 0 0 0 0 0 0 1 1 1 1 1 1 0 1 0 1 1 0 1 1 0 1 0 0 1 1 1 1 1 1 1 1 1 1 1 1\n",
            " 1 0 1 1 0 1 0 1 1 1 1 1 1 1 1 1 1 1 1 1 1 0 1 1 1 0 1 0 1 1 1 1 0 0 0 1 1\n",
            " 1 1 0 1 0 1 0 1 1 1 0 1 1 1 1 1 1 1 0 0 0 1 1 1 1 1 1 1 1 1 1 1 0 0 1 0 0\n",
            " 0 1 0 0 1 1 1 1 1 0 1 1 1 1 1 0 1 1 1 0 1 1 0 0 1 1 1 1 1 1 0 1 1 1 1 1 1\n",
            " 1 0 1 1 1 1 1 0 1 1 0 1 1 1 1 1 1 1 1 1 1 1 1 0 1 0 0 1 0 1 1 1 1 1 0 1 1\n",
            " 0 1 0 1 1 0 1 0 1 1 1 1 1 1 1 1 0 0 1 1 1 1 1 1 0 1 1 1 1 1 1 1 1 1 1 0 1\n",
            " 1 1 1 1 1 1 0 1 0 1 1 0 1 1 1 1 1 0 0 1 0 1 0 1 1 1 1 1 0 1 1 0 1 0 1 0 0\n",
            " 1 1 1 0 1 1 1 1 1 1 1 1 1 1 1 0 1 0 0 1 1 1 1 1 1 1 1 1 1 1 1 1 1 1 1 1 1\n",
            " 1 1 1 1 1 1 1 0 0 0 0 0 0 1]\n",
            "Number of negative cases (0):  212\n",
            "Number of positive cases (1):  357\n",
            "Imbalance Ratio:  1.6839622641509433\n"
          ]
        }
      ],
      "source": [
        "# Loading the dataset\n",
        "from sklearn.datasets import load_breast_cancer\n",
        "import numpy as np\n",
        "bc = load_breast_cancer()\n",
        "# Remember that these datasets usually come in dictionary-like structures\n",
        "# We can get the data and the target out\n",
        "data = bc['data']\n",
        "target = bc['target']\n",
        "print(data)\n",
        "print('The shape of the dataset is: ', data.shape)\n",
        "print(target)\n",
        "print('Number of negative cases (0): ', len(target)-np.count_nonzero(target))\n",
        "print('Number of positive cases (1): ', np.count_nonzero(target))\n",
        "print('Imbalance Ratio: ', np.count_nonzero(target)/(len(target)-np.count_nonzero(target)))"
      ]
    },
    {
      "cell_type": "markdown",
      "metadata": {
        "id": "DK12CS119yfF"
      },
      "source": [
        "* Now we can try to apply RUS to this dataset and see what happens:"
      ]
    },
    {
      "cell_type": "code",
      "execution_count": null,
      "metadata": {
        "id": "gyBdhR2Y9yfG",
        "outputId": "69eb5c37-529d-4ddb-b4c8-f51eca3e4aa8",
        "colab": {
          "base_uri": "https://localhost:8080/"
        }
      },
      "outputs": [
        {
          "output_type": "stream",
          "name": "stdout",
          "text": [
            "Looking in indexes: https://pypi.org/simple, https://us-python.pkg.dev/colab-wheels/public/simple/\n",
            "Requirement already satisfied: imbalanced-learn in /usr/local/lib/python3.8/dist-packages (0.8.1)\n",
            "Requirement already satisfied: numpy>=1.13.3 in /usr/local/lib/python3.8/dist-packages (from imbalanced-learn) (1.21.6)\n",
            "Requirement already satisfied: scikit-learn>=0.24 in /usr/local/lib/python3.8/dist-packages (from imbalanced-learn) (1.0.2)\n",
            "Requirement already satisfied: scipy>=0.19.1 in /usr/local/lib/python3.8/dist-packages (from imbalanced-learn) (1.7.3)\n",
            "Requirement already satisfied: joblib>=0.11 in /usr/local/lib/python3.8/dist-packages (from imbalanced-learn) (1.2.0)\n",
            "Requirement already satisfied: threadpoolctl>=2.0.0 in /usr/local/lib/python3.8/dist-packages (from scikit-learn>=0.24->imbalanced-learn) (3.1.0)\n"
          ]
        }
      ],
      "source": [
        "## First install the imblearn package if you don't have it already\n",
        "!pip install imbalanced-learn"
      ]
    },
    {
      "cell_type": "code",
      "execution_count": null,
      "metadata": {
        "id": "0yFjHGkg9yfH",
        "outputId": "dac80fc1-ca8d-4fdf-e579-fa1f7f682448",
        "colab": {
          "base_uri": "https://localhost:8080/"
        }
      },
      "outputs": [
        {
          "output_type": "stream",
          "name": "stdout",
          "text": [
            "[[1.799e+01 1.038e+01 1.228e+02 ... 2.654e-01 4.601e-01 1.189e-01]\n",
            " [2.057e+01 1.777e+01 1.329e+02 ... 1.860e-01 2.750e-01 8.902e-02]\n",
            " [1.969e+01 2.125e+01 1.300e+02 ... 2.430e-01 3.613e-01 8.758e-02]\n",
            " ...\n",
            " [1.366e+01 1.515e+01 8.827e+01 ... 1.054e-01 3.387e-01 9.638e-02]\n",
            " [9.742e+00 1.912e+01 6.193e+01 ... 4.589e-02 3.196e-01 8.009e-02]\n",
            " [9.742e+00 1.567e+01 6.150e+01 ... 5.159e-02 2.841e-01 8.175e-02]]\n",
            "The shape of the dataset is:  (424, 30)\n",
            "[0 0 0 0 0 0 0 0 0 0 0 0 0 0 0 0 0 0 0 0 0 0 0 0 0 0 0 0 0 0 0 0 0 0 0 0 0\n",
            " 0 0 0 0 0 0 0 0 0 0 0 0 0 0 0 0 0 0 0 0 0 0 0 0 0 0 0 0 0 0 0 0 0 0 0 0 0\n",
            " 0 0 0 0 0 0 0 0 0 0 0 0 0 0 0 0 0 0 0 0 0 0 0 0 0 0 0 0 0 0 0 0 0 0 0 0 0\n",
            " 0 0 0 0 0 0 0 0 0 0 0 0 0 0 0 0 0 0 0 0 0 0 0 0 0 0 0 0 0 0 0 0 0 0 0 0 0\n",
            " 0 0 0 0 0 0 0 0 0 0 0 0 0 0 0 0 0 0 0 0 0 0 0 0 0 0 0 0 0 0 0 0 0 0 0 0 0\n",
            " 0 0 0 0 0 0 0 0 0 0 0 0 0 0 0 0 0 0 0 0 0 0 0 0 0 0 0 1 1 1 1 1 1 1 1 1 1\n",
            " 1 1 1 1 1 1 1 1 1 1 1 1 1 1 1 1 1 1 1 1 1 1 1 1 1 1 1 1 1 1 1 1 1 1 1 1 1\n",
            " 1 1 1 1 1 1 1 1 1 1 1 1 1 1 1 1 1 1 1 1 1 1 1 1 1 1 1 1 1 1 1 1 1 1 1 1 1\n",
            " 1 1 1 1 1 1 1 1 1 1 1 1 1 1 1 1 1 1 1 1 1 1 1 1 1 1 1 1 1 1 1 1 1 1 1 1 1\n",
            " 1 1 1 1 1 1 1 1 1 1 1 1 1 1 1 1 1 1 1 1 1 1 1 1 1 1 1 1 1 1 1 1 1 1 1 1 1\n",
            " 1 1 1 1 1 1 1 1 1 1 1 1 1 1 1 1 1 1 1 1 1 1 1 1 1 1 1 1 1 1 1 1 1 1 1 1 1\n",
            " 1 1 1 1 1 1 1 1 1 1 1 1 1 1 1 1 1]\n",
            "Number of negative cases (0):  212\n",
            "Number of positive cases (1):  212\n",
            "Imbalance Ratio:  1.0\n"
          ]
        }
      ],
      "source": [
        "## Now we apply RUS to the dataset\n",
        "from imblearn.under_sampling import RandomUnderSampler\n",
        "rus = RandomUnderSampler(random_state=42) # random state ensures we always get the same result\n",
        "data_rus, target_rus = rus.fit_resample(data,target)\n",
        "\n",
        "print(data_rus)\n",
        "print('The shape of the dataset is: ', data_rus.shape)\n",
        "print(target_rus)\n",
        "print('Number of negative cases (0): ', len(target_rus)-np.count_nonzero(target_rus))\n",
        "print('Number of positive cases (1): ', np.count_nonzero(target_rus))\n",
        "print('Imbalance Ratio: ', np.count_nonzero(target_rus)/(len(target_rus)-np.count_nonzero(target_rus)))"
      ]
    },
    {
      "cell_type": "markdown",
      "metadata": {
        "id": "ji7IIKVQ9yfH"
      },
      "source": [
        "* Notice that by default, RUS balances the dataset to $IR=1$!"
      ]
    },
    {
      "cell_type": "markdown",
      "metadata": {
        "id": "WDSfYiZ29yfI"
      },
      "source": [
        "![Fig 1. Perfectly Balanced...](https://www.dropbox.com/s/hbeu6j7e064yggm/perfectly-balanced-thanos.gif?raw=1)"
      ]
    },
    {
      "cell_type": "markdown",
      "metadata": {
        "id": "5YL6FiZc9yfI"
      },
      "source": [
        "* There are variants to this method, such as RUSboost, which uses a boosting algorithm to `ensemble` better results"
      ]
    },
    {
      "cell_type": "markdown",
      "metadata": {
        "id": "-TCn5vdp9yfJ"
      },
      "source": [
        "* There are numerous other undersampling methods such as Tomek Link, MUTE, etc."
      ]
    },
    {
      "cell_type": "markdown",
      "metadata": {
        "id": "5XrvD_aH9yfJ"
      },
      "source": [
        "#### PROS of Undersampling"
      ]
    },
    {
      "cell_type": "markdown",
      "metadata": {
        "id": "AEifixz49yfK"
      },
      "source": [
        "* Removes redundant and outlier data (when correctly applied)"
      ]
    },
    {
      "cell_type": "markdown",
      "metadata": {
        "id": "8zuLZkw49yfK"
      },
      "source": [
        "* Are easy to compute"
      ]
    },
    {
      "cell_type": "markdown",
      "metadata": {
        "id": "EZq-VUkY9yfL"
      },
      "source": [
        "#### CONS of Undersampling"
      ]
    },
    {
      "cell_type": "markdown",
      "metadata": {
        "id": "h9HuNLAJ9yfM"
      },
      "source": [
        "* Data loss"
      ]
    },
    {
      "cell_type": "markdown",
      "metadata": {
        "id": "wrkI6UAo9yfM"
      },
      "source": [
        "* Not suitable when there are minimal minority class samples"
      ]
    },
    {
      "cell_type": "markdown",
      "metadata": {
        "id": "0C0paYe79yfN"
      },
      "source": [
        "### Synthetic minority oversampling technique (SMOTE)"
      ]
    },
    {
      "cell_type": "markdown",
      "metadata": {
        "id": "XWPWo5IK9yfO"
      },
      "source": [
        "* This method, developed by Chawla et al. is now state-of-the-art in the field"
      ]
    },
    {
      "cell_type": "markdown",
      "metadata": {
        "id": "eFe_yCoZ9yfP"
      },
      "source": [
        "* Improves the presence of the minority class by creating artificial (synthetic) samples"
      ]
    },
    {
      "cell_type": "markdown",
      "metadata": {
        "id": "5oSiuM5t9yfQ"
      },
      "source": [
        "* Uses supervised learning techniques, such as `k-Nearest Neighbours` (K-NN), for this purpose "
      ]
    },
    {
      "cell_type": "markdown",
      "metadata": {
        "id": "qoPaC-yV9yfQ"
      },
      "source": [
        "* SMOTE can also be imported in Python and used in few lines of code:"
      ]
    },
    {
      "cell_type": "code",
      "execution_count": null,
      "metadata": {
        "id": "Q7VourjR9yfR",
        "outputId": "d1291ba6-e595-4539-fa61-ff6856dc31ae",
        "colab": {
          "base_uri": "https://localhost:8080/"
        }
      },
      "outputs": [
        {
          "output_type": "stream",
          "name": "stdout",
          "text": [
            "[[1.79900000e+01 1.03800000e+01 1.22800000e+02 ... 2.65400000e-01\n",
            "  4.60100000e-01 1.18900000e-01]\n",
            " [2.05700000e+01 1.77700000e+01 1.32900000e+02 ... 1.86000000e-01\n",
            "  2.75000000e-01 8.90200000e-02]\n",
            " [1.96900000e+01 2.12500000e+01 1.30000000e+02 ... 2.43000000e-01\n",
            "  3.61300000e-01 8.75800000e-02]\n",
            " ...\n",
            " [1.89802048e+01 2.07229208e+01 1.22740052e+02 ... 1.41613342e-01\n",
            "  2.56907006e-01 6.16596202e-02]\n",
            " [1.55225881e+01 1.96461822e+01 1.01894239e+02 ... 1.50644626e-01\n",
            "  3.08648911e-01 8.58466691e-02]\n",
            " [1.23891194e+01 2.08371158e+01 7.91858240e+01 ... 8.51229522e-02\n",
            "  2.50807979e-01 7.63256983e-02]]\n",
            "The shape of the dataset is:  (714, 30)\n",
            "[0 0 0 0 0 0 0 0 0 0 0 0 0 0 0 0 0 0 0 1 1 1 0 0 0 0 0 0 0 0 0 0 0 0 0 0 0\n",
            " 1 0 0 0 0 0 0 0 0 1 0 1 1 1 1 1 0 0 1 0 0 1 1 1 1 0 1 0 0 1 1 1 1 0 1 0 0\n",
            " 1 0 1 0 0 1 1 1 0 0 1 0 0 0 1 1 1 0 1 1 0 0 1 1 1 0 0 1 1 1 1 0 1 1 0 1 1\n",
            " 1 1 1 1 1 1 0 0 0 1 0 0 1 1 1 0 0 1 0 1 0 0 1 0 0 1 1 0 1 1 0 1 1 1 1 0 1\n",
            " 1 1 1 1 1 1 1 1 0 1 1 1 1 0 0 1 0 1 1 0 0 1 1 0 0 1 1 1 1 0 1 1 0 0 0 1 0\n",
            " 1 0 1 1 1 0 1 1 0 0 1 0 0 0 0 1 0 0 0 1 0 1 0 1 1 0 1 0 0 0 0 1 1 0 0 1 1\n",
            " 1 0 1 1 1 1 1 0 0 1 1 0 1 1 0 0 1 0 1 1 1 1 0 1 1 1 1 1 0 1 0 0 0 0 0 0 0\n",
            " 0 0 0 0 0 0 0 1 1 1 1 1 1 0 1 0 1 1 0 1 1 0 1 0 0 1 1 1 1 1 1 1 1 1 1 1 1\n",
            " 1 0 1 1 0 1 0 1 1 1 1 1 1 1 1 1 1 1 1 1 1 0 1 1 1 0 1 0 1 1 1 1 0 0 0 1 1\n",
            " 1 1 0 1 0 1 0 1 1 1 0 1 1 1 1 1 1 1 0 0 0 1 1 1 1 1 1 1 1 1 1 1 0 0 1 0 0\n",
            " 0 1 0 0 1 1 1 1 1 0 1 1 1 1 1 0 1 1 1 0 1 1 0 0 1 1 1 1 1 1 0 1 1 1 1 1 1\n",
            " 1 0 1 1 1 1 1 0 1 1 0 1 1 1 1 1 1 1 1 1 1 1 1 0 1 0 0 1 0 1 1 1 1 1 0 1 1\n",
            " 0 1 0 1 1 0 1 0 1 1 1 1 1 1 1 1 0 0 1 1 1 1 1 1 0 1 1 1 1 1 1 1 1 1 1 0 1\n",
            " 1 1 1 1 1 1 0 1 0 1 1 0 1 1 1 1 1 0 0 1 0 1 0 1 1 1 1 1 0 1 1 0 1 0 1 0 0\n",
            " 1 1 1 0 1 1 1 1 1 1 1 1 1 1 1 0 1 0 0 1 1 1 1 1 1 1 1 1 1 1 1 1 1 1 1 1 1\n",
            " 1 1 1 1 1 1 1 0 0 0 0 0 0 1 0 0 0 0 0 0 0 0 0 0 0 0 0 0 0 0 0 0 0 0 0 0 0\n",
            " 0 0 0 0 0 0 0 0 0 0 0 0 0 0 0 0 0 0 0 0 0 0 0 0 0 0 0 0 0 0 0 0 0 0 0 0 0\n",
            " 0 0 0 0 0 0 0 0 0 0 0 0 0 0 0 0 0 0 0 0 0 0 0 0 0 0 0 0 0 0 0 0 0 0 0 0 0\n",
            " 0 0 0 0 0 0 0 0 0 0 0 0 0 0 0 0 0 0 0 0 0 0 0 0 0 0 0 0 0 0 0 0 0 0 0 0 0\n",
            " 0 0 0 0 0 0 0 0 0 0 0]\n",
            "Number of negative cases (0):  357\n",
            "Number of positive cases (1):  357\n",
            "Imbalance Ratio:  1.0\n"
          ]
        }
      ],
      "source": [
        "from imblearn.over_sampling import SMOTE\n",
        "\n",
        "sm = SMOTE(random_state=42)\n",
        "data_smote, target_smote = sm.fit_resample(data, target)\n",
        "print(data_smote)\n",
        "print('The shape of the dataset is: ', data_smote.shape)\n",
        "print(target_smote)\n",
        "print('Number of negative cases (0): ', len(target_smote)-np.count_nonzero(target_smote))\n",
        "print('Number of positive cases (1): ', np.count_nonzero(target_smote))\n",
        "print('Imbalance Ratio: ', np.count_nonzero(target_smote)/(len(target_smote)-np.count_nonzero(target_smote)))"
      ]
    },
    {
      "cell_type": "markdown",
      "metadata": {
        "id": "0Bj2MhNp9yfS"
      },
      "source": [
        "* There are numerous variants such as `SVM-SMOTE`, `kmeansSMOTE`, `ADASYN`, `DBSMOTE`, `SMOTEBoost`, `CDSMOTE`, etc."
      ]
    },
    {
      "cell_type": "markdown",
      "metadata": {
        "id": "K2V-T4959yfS"
      },
      "source": [
        "* I recommend you to read the paper by [Chawla et al.](https://arxiv.org/pdf/1106.1813.pdf) if you want to know exactly how it works"
      ]
    },
    {
      "cell_type": "markdown",
      "metadata": {
        "id": "Fj5xsBy59yfT"
      },
      "source": [
        "#### PROS of Oversampling"
      ]
    },
    {
      "cell_type": "markdown",
      "metadata": {
        "id": "PvnOoW_y9yfT"
      },
      "source": [
        "* Helps augment minority data, which is usually what you want!"
      ]
    },
    {
      "cell_type": "markdown",
      "metadata": {
        "id": "1F6SJ4aU9yfT"
      },
      "source": [
        "#### CONS of Oversampling"
      ]
    },
    {
      "cell_type": "markdown",
      "metadata": {
        "id": "Sp4EAmvW9yfU"
      },
      "source": [
        "* \"Harder\" to compute"
      ]
    },
    {
      "cell_type": "markdown",
      "metadata": {
        "id": "Ul7J9UYJ9yfU"
      },
      "source": [
        "* Synthetic examples may be redundant/outliers"
      ]
    },
    {
      "cell_type": "markdown",
      "metadata": {
        "id": "vxGXrP4h9yfV"
      },
      "source": [
        "## Data-Based Imbalance Handling in Non-Binary Datasets"
      ]
    },
    {
      "cell_type": "markdown",
      "metadata": {
        "id": "PllUxzCN9yfV"
      },
      "source": [
        "* All the aforementioned methods have variants that are applicable for non-binary datasets"
      ]
    },
    {
      "cell_type": "markdown",
      "metadata": {
        "id": "i-zf2f-n9yfV"
      },
      "source": [
        "* However, in non-binary datasets usually there are different class sizes and it is unclear which is the minority/majority class"
      ]
    },
    {
      "cell_type": "markdown",
      "metadata": {
        "id": "qS0rTFmX9yfW"
      },
      "source": [
        "* In that regard, there is a special category of balancing methods that can be applied to non-binary datasets, which also mitigate the disadvantages of both oversampling and undersampling"
      ]
    },
    {
      "cell_type": "markdown",
      "metadata": {
        "id": "2XeRUewh9yfW"
      },
      "source": [
        "### Class Decomposition"
      ]
    },
    {
      "cell_type": "markdown",
      "metadata": {
        "id": "_-A6qXB-9yfX"
      },
      "source": [
        "* This method does not replicate or loses data, but rather creates more classes based on **unsupervised learning**/**clustering**"
      ]
    },
    {
      "cell_type": "markdown",
      "metadata": {
        "id": "2iuRutoS9yfX"
      },
      "source": [
        "* By changing the **target**, we ensure that the subclasses are more balanced"
      ]
    },
    {
      "cell_type": "markdown",
      "metadata": {
        "id": "f98qS3Zk9yfY"
      },
      "source": [
        "* At the classification stage we need to make sure that the model understands this change!"
      ]
    },
    {
      "cell_type": "markdown",
      "metadata": {
        "id": "tLehzgO19yfY"
      },
      "source": [
        "* Example contained in [Vilalta et al. 2003](https://www.semanticscholar.org/paper/Class-decomposition-via-clustering%3A-a-new-framework-Vilalta-Achari/619807bb022e20f1ed8b6aca36f74e7500a0ba9a)"
      ]
    },
    {
      "cell_type": "markdown",
      "metadata": {
        "id": "4rp_8Iu19yfZ"
      },
      "source": [
        "![Fig 2. Class decomposition](https://www.dropbox.com/s/p498fxpm5q7r8t6/classdec.png?raw=1)"
      ]
    },
    {
      "cell_type": "markdown",
      "metadata": {
        "id": "LxhfaPEX9yfZ"
      },
      "source": [
        "#### Basic principles"
      ]
    },
    {
      "cell_type": "markdown",
      "metadata": {
        "id": "Q_KB6GB79yfZ"
      },
      "source": [
        "* A dataset $D=\\{(x_1,y_1),(x_2,y_2),...,(x_n,y_n)\\}$, where $x$ is the *feature vector* and $y$ is the target"
      ]
    },
    {
      "cell_type": "markdown",
      "metadata": {
        "id": "9a1zdE4_9yfZ"
      },
      "source": [
        "* Assume that $y$ can take two values: $\\color{red}{red}$ and $\\color{blue}{blue}$ "
      ]
    },
    {
      "cell_type": "markdown",
      "metadata": {
        "id": "07uaiDy-9yfa"
      },
      "source": [
        "* If we cannot find a *classification* function that correctly maps X to Y, then we can **rearrange** the data"
      ]
    },
    {
      "cell_type": "markdown",
      "metadata": {
        "id": "gNCzbknw9yfa"
      },
      "source": [
        "$Y_c = \\{Dark\\:\\color{red}{red},Light\\:\\color{red}{red},Dark\\:\\color{blue}{blue},Light\\:\\color{blue}{blue}\\}$"
      ]
    },
    {
      "cell_type": "markdown",
      "metadata": {
        "id": "KCIE-w3b9yfa"
      },
      "source": [
        "* Now we need a function that maps $h_c : X \\rightarrow Y_c$"
      ]
    },
    {
      "cell_type": "markdown",
      "metadata": {
        "id": "egSecWVl9yfb"
      },
      "source": [
        "#### But first, how do we \"know\" which classes to decompose?"
      ]
    },
    {
      "cell_type": "markdown",
      "metadata": {
        "id": "wUPGto_c9yfb"
      },
      "source": [
        "* Depending on the **number of samples** and the **quality of the initial classification**"
      ]
    },
    {
      "cell_type": "markdown",
      "metadata": {
        "id": "4jkgxJJk9yfc"
      },
      "source": [
        "* Maybe there are more samples of red than blue"
      ]
    },
    {
      "cell_type": "markdown",
      "metadata": {
        "id": "W63JnbNQ9yfc"
      },
      "source": [
        "* Maybe classification was good with blue already!"
      ]
    },
    {
      "cell_type": "markdown",
      "metadata": {
        "id": "aeh85v2R9yfc"
      },
      "source": [
        "* If you want to achieve balance i.e. $IR \\approx 1$ then you can use the following **standard balancing equation**:"
      ]
    },
    {
      "cell_type": "markdown",
      "metadata": {
        "id": "pl6OTJrd9yfd"
      },
      "source": [
        "$k_i = [\\frac{c_i}{A_{vg}}+1]$"
      ]
    },
    {
      "cell_type": "markdown",
      "metadata": {
        "id": "1cFxWx2T9yfd"
      },
      "source": [
        "* where:\n",
        "    * $k_i$ is the number of clusters\n",
        "    * $c_i$ is the total number of instances of a specific class\n",
        "    * $A_{vg}$ is the mean class distribution"
      ]
    },
    {
      "cell_type": "markdown",
      "metadata": {
        "id": "DPpZeZ0n9yfd"
      },
      "source": [
        "#### Example"
      ]
    },
    {
      "cell_type": "markdown",
      "metadata": {
        "id": "71-w3tjA9yfd"
      },
      "source": [
        "* A repository with data has 5 classes:"
      ]
    },
    {
      "cell_type": "markdown",
      "metadata": {
        "id": "GrLR5A__9yff"
      },
      "source": [
        "* Class 0: 11100 samples\n",
        "* Class 1: 1899 samples\n",
        "* Class 2: 353 samples\n",
        "* Class 3: 12987 samples\n",
        "* Class 4: 3471 samples"
      ]
    },
    {
      "cell_type": "code",
      "execution_count": null,
      "metadata": {
        "id": "a1JTZjCL9yff",
        "outputId": "e15ce319-e173-4d81-97c7-b999127f3480",
        "colab": {
          "base_uri": "https://localhost:8080/"
        }
      },
      "outputs": [
        {
          "output_type": "stream",
          "name": "stdout",
          "text": [
            "Avg:  5962.0\n",
            "k_0= 2.8617913451861794\n",
            "k_1= 1.3185172760818518\n",
            "k_2= 1.0592083193559207\n",
            "k_3= 3.1782958738678295\n",
            "k_4= 1.5821871855082188\n"
          ]
        }
      ],
      "source": [
        "## First we calculate Avg\n",
        "classdist = [11100,1899,353,12987,3471]\n",
        "Avg = sum(classdist)/len(classdist)\n",
        "print('Avg: ', Avg)\n",
        "## Then we can calculate ki for each class\n",
        "for i,c in enumerate(classdist):\n",
        "    print('k_'+str(i)+'=', (c/Avg)+1)"
      ]
    },
    {
      "cell_type": "markdown",
      "metadata": {
        "id": "Hc7H15sN9yfg"
      },
      "source": [
        "* If $k_i$ is **smaller than 2**, then no clustering is needed"
      ]
    },
    {
      "cell_type": "markdown",
      "metadata": {
        "id": "B980541B9yfg"
      },
      "source": [
        "* If $k_i$ is **larger than 2**, then you `floor` the obtained value and you get the clusters needed "
      ]
    },
    {
      "cell_type": "code",
      "execution_count": null,
      "metadata": {
        "id": "0qn7Hz4E9yfh",
        "outputId": "ad254b35-3a1b-4b37-a38c-22f5575dc748",
        "colab": {
          "base_uri": "https://localhost:8080/"
        }
      },
      "outputs": [
        {
          "output_type": "stream",
          "name": "stdout",
          "text": [
            "Clusters for class 0: 2\n",
            "Clusters for class 1: 1\n",
            "Clusters for class 2: 1\n",
            "Clusters for class 3: 3\n",
            "Clusters for class 4: 1\n"
          ]
        }
      ],
      "source": [
        "import math\n",
        "## Calculating the number of clusters to decompose each class\n",
        "for i,c in enumerate(classdist):\n",
        "    print('Clusters for class '+str(i)+':', math.floor((c/Avg)+1))"
      ]
    },
    {
      "cell_type": "markdown",
      "metadata": {
        "id": "KFYMH1zY9yfh"
      },
      "source": [
        "#### Class decomposition in an artificial dataset"
      ]
    },
    {
      "cell_type": "code",
      "execution_count": null,
      "metadata": {
        "id": "j1I3hw079yfi",
        "outputId": "10fb60a6-6d07-4d8a-d243-80c78deeeb28",
        "colab": {
          "base_uri": "https://localhost:8080/"
        }
      },
      "outputs": [
        {
          "output_type": "stream",
          "name": "stdout",
          "text": [
            "[[0.46575591 0.71704944 0.        ]\n",
            " [0.73351339 0.78492527 0.        ]\n",
            " [0.05853209 0.09704247 0.        ]\n",
            " ...\n",
            " [0.80123112 0.39241476 0.        ]\n",
            " [0.21209549 0.27810825 0.        ]\n",
            " [0.47728357 0.33446443 0.        ]] (11100, 3)\n"
          ]
        }
      ],
      "source": [
        "## Creating the data (class 0)\n",
        "import numpy as np\n",
        "class0 = np.random.rand(11100,2)\n",
        "class0 = np.concatenate((class0,np.zeros((11100,1))),axis=1)\n",
        "print(class0, class0.shape)"
      ]
    },
    {
      "cell_type": "code",
      "execution_count": null,
      "metadata": {
        "id": "MbihpPwN9yfj",
        "outputId": "d8be98a7-1dd1-48e9-ca1c-2d6dde863f27",
        "colab": {
          "base_uri": "https://localhost:8080/"
        }
      },
      "outputs": [
        {
          "output_type": "stream",
          "name": "stdout",
          "text": [
            "[[4.65755912e-01 7.17049436e-01 0.00000000e+00]\n",
            " [7.33513391e-01 7.84925275e-01 0.00000000e+00]\n",
            " [5.85320917e-02 9.70424654e-02 0.00000000e+00]\n",
            " ...\n",
            " [1.09895882e-03 1.12188788e-03 4.00000000e+00]\n",
            " [3.16142034e-03 7.29337552e-03 4.00000000e+00]\n",
            " [8.53152514e-03 8.81624237e-03 4.00000000e+00]] (29810, 3)\n"
          ]
        }
      ],
      "source": [
        "## Creating the rest of the data\n",
        "class1 = np.random.rand(1899,2)*10 # multiply to get distinct values\n",
        "class1 = np.concatenate((class1,np.ones((1899,1))),axis=1)\n",
        "class2 = np.random.rand(353,2)*100\n",
        "class2 = np.concatenate((class2,np.ones((353,1))+1),axis=1)\n",
        "class3 = np.random.rand(12987,2)*10000\n",
        "class3 = np.concatenate((class3,np.ones((12987,1))+2),axis=1)\n",
        "class4 = np.random.rand(3471,2)/100\n",
        "class4 = np.concatenate((class4,np.ones((3471,1))+3),axis=1)\n",
        "repo = np.vstack((class0,class1,class2,class3,class4))\n",
        "print(repo, repo.shape)"
      ]
    },
    {
      "cell_type": "code",
      "execution_count": null,
      "metadata": {
        "id": "dhc3Cd2r9yfk",
        "outputId": "2ccaecb7-6601-46f5-8a8e-f2af1374ba07",
        "colab": {
          "base_uri": "https://localhost:8080/",
          "height": 317
        }
      },
      "outputs": [
        {
          "output_type": "execute_result",
          "data": {
            "text/plain": [
              "(array([11100.,  1899.,   353., 12987.,  3471.]),\n",
              " array([0. , 0.8, 1.6, 2.4, 3.2, 4. ]),\n",
              " <a list of 5 Patch objects>)"
            ]
          },
          "metadata": {},
          "execution_count": 9
        },
        {
          "output_type": "display_data",
          "data": {
            "text/plain": [
              "<Figure size 432x288 with 1 Axes>"
            ],
            "image/png": "[encoded data removed]"
          },
          "metadata": {
            "needs_background": "light"
          }
        }
      ],
      "source": [
        "# Plotting the histogram of the class distribution\n",
        "import matplotlib.pyplot as plt\n",
        "plt.hist(repo[:,2],bins=5,ec='white', rwidth=0.6)"
      ]
    },
    {
      "cell_type": "code",
      "execution_count": null,
      "metadata": {
        "id": "_hhaTRhd9yfk",
        "outputId": "975b0f63-94d4-49d8-9ab8-64e442186d7b",
        "colab": {
          "base_uri": "https://localhost:8080/",
          "height": 269
        }
      },
      "outputs": [
        {
          "output_type": "display_data",
          "data": {
            "text/plain": [
              "<Figure size 432x288 with 1 Axes>"
            ],
            "image/png": "[encoded data removed]"
          },
          "metadata": {
            "needs_background": "light"
          }
        }
      ],
      "source": [
        "# Plotting the data\n",
        "scatter = plt.scatter(repo[:,0], repo[:,1], c=repo[:,-1], alpha=0.5)\n",
        "plt.xlim(0.0001, 100000)\n",
        "plt.ylim(0.0001, 100000)\n",
        "plt.xscale('log')\n",
        "plt.yscale('log')\n",
        "plt.legend(handles=scatter.legend_elements()[0], labels=[0,1,2,3,4])\n",
        "plt.show()"
      ]
    },
    {
      "cell_type": "code",
      "execution_count": null,
      "metadata": {
        "id": "HsRTKP0t9yfl",
        "outputId": "212dba1c-0d1a-49fb-93b8-69eaa4d8c1d0",
        "colab": {
          "base_uri": "https://localhost:8080/"
        }
      },
      "outputs": [
        {
          "output_type": "stream",
          "name": "stdout",
          "text": [
            "[[0.46575591 0.71704944]\n",
            " [0.73351339 0.78492527]\n",
            " [0.05853209 0.09704247]\n",
            " ...\n",
            " [0.80123112 0.39241476]\n",
            " [0.21209549 0.27810825]\n",
            " [0.47728357 0.33446443]] (11100, 2)\n",
            "[0. 0. 0. ... 0. 0. 0.] (11100,)\n"
          ]
        }
      ],
      "source": [
        "# How to access data and target from a certain class\n",
        "X = repo[np.where(repo[:,2]==0)][:,:2]\n",
        "y = repo[np.where(repo[:,2]==0)][:,2]\n",
        "print(X,X.shape)\n",
        "print(y,y.shape)"
      ]
    },
    {
      "cell_type": "code",
      "execution_count": null,
      "metadata": {
        "id": "wC5zrGQt9yfm",
        "outputId": "a2ff13ee-b857-4869-a02d-296603f6b9aa",
        "colab": {
          "base_uri": "https://localhost:8080/"
        }
      },
      "outputs": [
        {
          "output_type": "execute_result",
          "data": {
            "text/plain": [
              "array([3, 0, 4, ..., 2, 4, 3], dtype=int32)"
            ]
          },
          "metadata": {},
          "execution_count": 12
        }
      ],
      "source": [
        "#How to use Kmeans \n",
        "from sklearn.cluster import KMeans\n",
        "kmeans = KMeans(n_clusters=5).fit(X)\n",
        "kmeans.labels_"
      ]
    },
    {
      "cell_type": "code",
      "execution_count": null,
      "metadata": {
        "id": "m6w0MhkC9yfm",
        "outputId": "686247dd-13e8-47c1-e1b5-1e49f34e9d90",
        "colab": {
          "base_uri": "https://localhost:8080/"
        }
      },
      "outputs": [
        {
          "output_type": "stream",
          "name": "stdout",
          "text": [
            "Clusters to decompose class 0: 2\n",
            "Decomposed version of class 0:\n",
            "[[0.46575591 0.71704944 0.1       ]\n",
            " [0.73351339 0.78492527 0.        ]\n",
            " [0.05853209 0.09704247 0.1       ]\n",
            " ...\n",
            " [0.80123112 0.39241476 0.        ]\n",
            " [0.21209549 0.27810825 0.1       ]\n",
            " [0.47728357 0.33446443 0.1       ]]\n",
            "Clusters to decompose class 1: 1\n",
            "Clusters to decompose class 2: 1\n",
            "Clusters to decompose class 3: 3\n",
            "Decomposed version of class 3:\n",
            "[[7.82148232e+03 3.38382111e+02 3.00000000e+00]\n",
            " [5.87637029e+03 2.96402478e+03 3.00000000e+00]\n",
            " [3.61810504e+03 9.50150898e+03 3.20000000e+00]\n",
            " ...\n",
            " [5.38513874e+03 7.10959763e+03 3.20000000e+00]\n",
            " [9.59945692e+03 2.03713746e+03 3.00000000e+00]\n",
            " [7.98154735e+03 3.64248767e+03 3.00000000e+00]]\n",
            "Clusters to decompose class 4: 1\n",
            "Decomposed repo\n",
            "[[4.65755912e-01 7.17049436e-01 1.00000000e-01]\n",
            " [7.33513391e-01 7.84925275e-01 0.00000000e+00]\n",
            " [5.85320917e-02 9.70424654e-02 1.00000000e-01]\n",
            " ...\n",
            " [1.09895882e-03 1.12188788e-03 4.00000000e+00]\n",
            " [3.16142034e-03 7.29337552e-03 4.00000000e+00]\n",
            " [8.53152514e-03 8.81624237e-03 4.00000000e+00]]\n"
          ]
        }
      ],
      "source": [
        "## Putting all together\n",
        "from sklearn.cluster import KMeans\n",
        "\n",
        "for i,c in enumerate(classdist):\n",
        "    X = repo[np.where(repo[:,-1]==i)][:,:2] # Find instances of the class\n",
        "    y = np.zeros((c,1))+i\n",
        "    nclusters = math.floor((c/Avg)+1) # Calculate number of clusters\n",
        "    print('Clusters to decompose class '+str(i)+':', nclusters)    \n",
        "    if nclusters>1:        \n",
        "        kmeans = KMeans(n_clusters=nclusters).fit(X)\n",
        "        ## add to the last column decimals for the new class\n",
        "        for j,n in enumerate(X):\n",
        "            y[j]=y[j]+(kmeans.labels_[j]/10) # divide by 10 so that it gets added as decimal\n",
        "        print('Decomposed version of class '+str(i)+':')\n",
        "        print(np.concatenate((X,y),axis=1))\n",
        "    if i==0: # If this is the first time, copy the first class into a new repo\n",
        "        repo_decomp = np.concatenate((X,y),axis=1).copy()\n",
        "    else: # stack the new into the existing\n",
        "        repo_decomp = np.vstack((repo_decomp,np.concatenate((X,y),axis=1)))\n",
        "print('Decomposed repo')\n",
        "print(repo_decomp)"
      ]
    },
    {
      "cell_type": "code",
      "execution_count": null,
      "metadata": {
        "id": "yi_tQrUE9yfn",
        "outputId": "8492e642-f214-4af1-d6cb-42d567a890b6",
        "colab": {
          "base_uri": "https://localhost:8080/",
          "height": 439
        }
      },
      "outputs": [
        {
          "output_type": "execute_result",
          "data": {
            "text/plain": [
              "(array([5587., 5513.,    0.,    0.,    0.,    0.,    0.,    0.,    0.,\n",
              "           0., 1899.,    0.,    0.,    0.,    0.,    0.,    0.,    0.,\n",
              "           0.,    0.,  353.,    0.,    0.,    0.,    0.,    0.,    0.,\n",
              "           0.,    0.,    0., 4006., 3982., 4999.,    0.,    0.,    0.,\n",
              "           0.,    0.,    0., 3471.]),\n",
              " array([0. , 0.1, 0.2, 0.3, 0.4, 0.5, 0.6, 0.7, 0.8, 0.9, 1. , 1.1, 1.2,\n",
              "        1.3, 1.4, 1.5, 1.6, 1.7, 1.8, 1.9, 2. , 2.1, 2.2, 2.3, 2.4, 2.5,\n",
              "        2.6, 2.7, 2.8, 2.9, 3. , 3.1, 3.2, 3.3, 3.4, 3.5, 3.6, 3.7, 3.8,\n",
              "        3.9, 4. ]),\n",
              " <a list of 40 Patch objects>)"
            ]
          },
          "metadata": {},
          "execution_count": 14
        },
        {
          "output_type": "display_data",
          "data": {
            "text/plain": [
              "<Figure size 432x288 with 1 Axes>"
            ],
            "image/png": "[encoded data removed]"
          },
          "metadata": {
            "needs_background": "light"
          }
        }
      ],
      "source": [
        "# Plotting the histogram of the new class distribution\n",
        "plt.hist(repo_decomp[:,2],bins=40,ec='white', rwidth=0.6)"
      ]
    },
    {
      "cell_type": "code",
      "execution_count": null,
      "metadata": {
        "id": "bWZZkulV9yfn"
      },
      "outputs": [],
      "source": [
        "# I do this since 0 and 0.1 are too close\n",
        "# If I plot them, colour difference will be null\n",
        "# Therefore I change 0.1 for 5, 3.1 for 6 and 3.2 for 7\n",
        "colours = repo_decomp[:,-1].copy()\n",
        "colours = np.where(colours==0.1, 5, colours)\n",
        "colours = np.where(colours==3.1, 6, colours)\n",
        "colours = np.where(colours==3.2, 7, colours)"
      ]
    },
    {
      "cell_type": "code",
      "execution_count": null,
      "metadata": {
        "id": "Ts2I2yey9yfn",
        "outputId": "93cf4235-e534-4078-bfd9-18d393e92f2f",
        "colab": {
          "base_uri": "https://localhost:8080/",
          "height": 269
        }
      },
      "outputs": [
        {
          "output_type": "display_data",
          "data": {
            "text/plain": [
              "<Figure size 432x288 with 1 Axes>"
            ],
            "image/png": "[encoded data removed]"
          },
          "metadata": {
            "needs_background": "light"
          }
        }
      ],
      "source": [
        "# Plotting the decomposed data\n",
        "scatter2 = plt.scatter(repo_decomp[:,0], repo_decomp[:,1], c=colours, alpha=0.5)\n",
        "plt.xlim(0.0001, 100000)\n",
        "plt.ylim(0.0001, 100000)\n",
        "plt.xscale('log')\n",
        "plt.yscale('log')\n",
        "plt.legend(handles=scatter2.legend_elements()[0], labels=[0.1,1,2,3,4,0,3.1,3.2])\n",
        "plt.show()"
      ]
    },
    {
      "cell_type": "markdown",
      "metadata": {
        "id": "g0r57QPX9yfo"
      },
      "source": [
        "#### Classification of a Decomposed Dataset"
      ]
    },
    {
      "cell_type": "markdown",
      "metadata": {
        "id": "EI5Xgrq-9yfo"
      },
      "source": [
        "* Should you decompose **before** or **after** the split?"
      ]
    },
    {
      "cell_type": "markdown",
      "metadata": {
        "id": "A3lHjjim9yfo"
      },
      "source": [
        "* How should you consider metric success? e.g. if a $Dark\\:\\color{red}{red}$ sample gets classified as a $Light\\:\\color{red}{red}$ one "
      ]
    },
    {
      "cell_type": "markdown",
      "metadata": {
        "id": "gTOIn5kU9yfp"
      },
      "source": [
        "* Notice that this is not the only way to do class decomposition, there are numerous ways to do it!"
      ]
    },
    {
      "cell_type": "markdown",
      "metadata": {
        "id": "zbsfkXVt9yfp"
      },
      "source": [
        "* You can check [Elyan & Gaber 2017](https://rgu-repository.worktribe.com/output/246044) paper to see an advanced approach"
      ]
    },
    {
      "cell_type": "markdown",
      "metadata": {
        "id": "i1ITbJcD9yfp"
      },
      "source": [
        "* This method uses `Random Forests` and `genetic algorithms`"
      ]
    },
    {
      "cell_type": "markdown",
      "metadata": {
        "id": "1tmBYUmU9yfp"
      },
      "source": [
        "### Image Augmentation"
      ]
    },
    {
      "cell_type": "markdown",
      "metadata": {
        "id": "7uXIYbW09yfq"
      },
      "source": [
        "* In the particular case of images, we can also recur to creating synthetic/artificial images"
      ]
    },
    {
      "cell_type": "markdown",
      "metadata": {
        "id": "YnuymNaf9yfq"
      },
      "source": [
        "* This process relies on image transformation functions and properties"
      ]
    },
    {
      "cell_type": "markdown",
      "metadata": {
        "id": "ldbjTeBS9yfr"
      },
      "source": [
        "* Examples: DIY, affine transform, `Tensorflow`/`Keras` (deep learning frameworks), Genarative Adversarial Networks (GANs), etc."
      ]
    },
    {
      "cell_type": "markdown",
      "metadata": {
        "id": "ii89fNzc9yfr"
      },
      "source": [
        "![Fig 3. Image Augmentation](https://www.dropbox.com/s/40ribd6hmymuz7b/imgaug.png?raw=1)"
      ]
    },
    {
      "cell_type": "markdown",
      "metadata": {
        "id": "6s0qis7W9yfs"
      },
      "source": [
        "# LAB"
      ]
    }
  ],
  "metadata": {
    "celltoolbar": "Slideshow",
    "hide_input": false,
    "kernelspec": {
      "display_name": "Python 3",
      "language": "python",
      "name": "python3"
    },
    "language_info": {
      "codemirror_mode": {
        "name": "ipython",
        "version": 3
      },
      "file_extension": ".py",
      "mimetype": "text/x-python",
      "name": "python",
      "nbconvert_exporter": "python",
      "pygments_lexer": "ipython3",
      "version": "3.7.3"
    },
    "rise": {
      "enable_chalkboard": true
    },
    "varInspector": {
      "cols": {
        "lenName": 16,
        "lenType": 16,
        "lenVar": 40
      },
      "kernels_config": {
        "python": {
          "delete_cmd_postfix": "",
          "delete_cmd_prefix": "del ",
          "library": "var_list.py",
          "varRefreshCmd": "print(var_dic_list())"
        },
        "r": {
          "delete_cmd_postfix": ") ",
          "delete_cmd_prefix": "rm(",
          "library": "var_list.r",
          "varRefreshCmd": "cat(var_dic_list()) "
        }
      },
      "types_to_exclude": [
        "module",
        "function",
        "builtin_function_or_method",
        "instance",
        "_Feature"
      ],
      "window_display": false
    },
    "colab": {
      "provenance": [],
      "collapsed_sections": [
        "YJ9XHlUl9ye5",
        "RbVn8ffR9ye9",
        "lX55j7sg9ye_",
        "APutypl39yfD",
        "5XrvD_aH9yfJ",
        "EZq-VUkY9yfL",
        "0C0paYe79yfN",
        "Fj5xsBy59yfT",
        "1F6SJ4aU9yfT",
        "2XeRUewh9yfW",
        "LxhfaPEX9yfZ",
        "egSecWVl9yfb",
        "DPpZeZ0n9yfd",
        "KFYMH1zY9yfh",
        "g0r57QPX9yfo",
        "1tmBYUmU9yfp"
      ],
      "include_colab_link": true
    }
  },
  "nbformat": 4,
  "nbformat_minor": 0
}