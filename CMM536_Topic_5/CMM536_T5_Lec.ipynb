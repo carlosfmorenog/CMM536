{
  "cells": [
    {
      "cell_type": "markdown",
      "metadata": {
        "id": "view-in-github",
        "colab_type": "text"
      },
      "source": [
        "<a href=\"https://colab.research.google.com/github/carlosfmorenog/CMM536/blob/master/CMM536_Topic_5/CMM536_T5_Lec.ipynb\" target=\"_parent\"><img src=\"https://colab.research.google.com/assets/colab-badge.svg\" alt=\"Open In Colab\"/></a>"
      ]
    },
    {
      "cell_type": "markdown",
      "metadata": {
        "id": "gGtRjc_u5ER0"
      },
      "source": [
        "# Topic 5 - Methods to Address Class Imbalance"
      ]
    },
    {
      "cell_type": "markdown",
      "metadata": {
        "id": "okmV5QrG5ER2"
      },
      "source": [
        "## Aims of the Session"
      ]
    },
    {
      "cell_type": "markdown",
      "metadata": {
        "id": "5BVgydju5ER3"
      },
      "source": [
        "* Understand the concept of class imbalance and how it affects the classification of data in general"
      ]
    },
    {
      "cell_type": "markdown",
      "metadata": {
        "id": "YTC503JS5ER4"
      },
      "source": [
        "* Learn how to implement some popular data-based methods to address this problem"
      ]
    },
    {
      "cell_type": "markdown",
      "metadata": {
        "id": "vn8RKRSy5ER6"
      },
      "source": [
        "## Resources for the Lecture"
      ]
    },
    {
      "cell_type": "markdown",
      "metadata": {
        "id": "cWMEoJwO5ER8"
      },
      "source": [
        "### Websites\n",
        "\n",
        "* https://imbalanced-learn.readthedocs.io/en/stable/install.html\n",
        "* https://imbalanced-learn.readthedocs.io/en/stable/generated/imblearn.under_sampling.RandomUnderSampler.html\n",
        "* https://imbalanced-learn.readthedocs.io/en/stable/generated/imblearn.over_sampling.SMOTE.html\n",
        "* https://scikit-learn.org/stable/datasets/index.html#breast-cancer-dataset\n",
        "* https://towardsdatascience.com/image-augmentation-for-deep-learning-histogram-equalization-a71387f609b2\n",
        "* https://keras.io/preprocessing/image/\n",
        "* https://machinelearningmastery.com/image-augmentation-deep-learning-keras/\n",
        "* https://scikit-learn.org/stable/modules/generated/sklearn.cluster.KMeans.html"
      ]
    },
    {
      "cell_type": "markdown",
      "metadata": {
        "id": "9rali-xI5ER9"
      },
      "source": [
        "### Papers\n",
        "\n",
        "* N. Japkowicz, S. Stephen, “The class imbalance problem: A systematic study,” Intelligent Data Analysis 6 (5) (2002) 429-449.\n",
        "* J. Stefanowski, “Overlapping, Rare Examples and Class Decomposition in Learning Classifiers from Imbalanced Data,” in Emerging Paradigms in Machine Learning, Springer, Berlin, Heidelberg, 2013, pp. 277–306.\n",
        "* C. Seiffert, T. M. Khoshgoftaar, J. Van Hulse, and A. Napolitano, “RUSBoost A Hybrid Approach to Alleviating Class Imbalance,” IEEE Transactions on Systems, Man and Cybernetics, Part A: Systems and Humans, vol. 40, no. 1, pp. 185–197, 2010.\n",
        "* N. V. Chawla, K. W. Bowyer, L. O. Hall, and W. P. Kegelmeyer, “SMOTE: Synthetic minority over-sampling technique,” Journal of Artificial Intelligence Research, vol. 16, pp. 321–357, 2002.\n",
        "* R. Vilalta, M.-K. Achari, and C. F. Eick, “Class decomposition via clustering: a new framework for low-variance classifiers,” Third IEEE International Conference on Data Mining, pp. 673–676, 2003.\n",
        "* E. Elyan, M. M. Gaber, “A genetic algorithm approach to optimising random forests applied to class engineered data,” Information Sciences, Volume 384, April 2017\n",
        "* E. Elyan, C. F. Moreno-García, C. Jayne, \"CDSMOTE: class decomposition and synthetic minority class oversampling technique for imbalanced-data classification,\" Neural Computing Applications, 2020. Available from: https://doi.org/10.1007/s00521-020-05130-z"
      ]
    },
    {
      "cell_type": "markdown",
      "metadata": {
        "id": "KVfjto6r5ER_"
      },
      "source": [
        "## What is class imbalance?"
      ]
    },
    {
      "cell_type": "markdown",
      "metadata": {
        "id": "AEJrr2NU5ESB"
      },
      "source": [
        "Last week we used the popular `IRIS` dataset, which contains $150$ samples of $3$ different iris plants"
      ]
    },
    {
      "cell_type": "markdown",
      "metadata": {
        "id": "fKKHmAdD5ESC"
      },
      "source": [
        "* Each class contains 50 samples, and therefore this dataset is **balanced**"
      ]
    },
    {
      "cell_type": "markdown",
      "metadata": {
        "id": "crSTlx975ESD"
      },
      "source": [
        "* However this is **not** usually the case!"
      ]
    },
    {
      "cell_type": "markdown",
      "metadata": {
        "id": "N9muj_1u5ESF"
      },
      "source": [
        "* Think about domains such as health sciences, the financial sector, cyber security and others"
      ]
    },
    {
      "cell_type": "markdown",
      "metadata": {
        "id": "9jBQaJRC5ESG"
      },
      "source": [
        "* Usually you collect a vast amount of samples that belong to one class, but not enough from the other one "
      ]
    },
    {
      "cell_type": "markdown",
      "metadata": {
        "id": "dHn8B-Kt5ESH"
      },
      "source": [
        "* Examples: Presence vs absence of a disease, valid vs invalid transactions, legit vs spam emails, etc..."
      ]
    },
    {
      "cell_type": "markdown",
      "metadata": {
        "id": "ECTta6o15ESH"
      },
      "source": [
        "### Formal definitions"
      ]
    },
    {
      "cell_type": "markdown",
      "metadata": {
        "id": "oP2gzJ-95ESH"
      },
      "source": [
        "* Assume we have a dataset with only two classes (i.e. a `binary` dataseet)"
      ]
    },
    {
      "cell_type": "markdown",
      "metadata": {
        "id": "4LF0uVdk5ESI"
      },
      "source": [
        "* This dataset is said to be **imbalanced** if one of the classes (i.e. `majority class`) outnumbers the other class (i.e. `minority class`)"
      ]
    },
    {
      "cell_type": "markdown",
      "metadata": {
        "id": "m31OFzVs5ESI"
      },
      "source": [
        "* Often the majority class is known as the `negative` class, while the minority class is known as the `positive` class."
      ]
    },
    {
      "cell_type": "markdown",
      "metadata": {
        "id": "9a2on6mf5ESJ"
      },
      "source": [
        "* We can calculate the `imbalance ratio` of this dataset by using the following formula:"
      ]
    },
    {
      "cell_type": "markdown",
      "metadata": {
        "id": "DxIq7Etq5ESJ"
      },
      "source": [
        "$Imbalance Ratio = \\frac{number\\:of\\:samples\\:majority\\:class}{number\\:of\\:samples\\:minority\\:class}$"
      ]
    },
    {
      "cell_type": "markdown",
      "metadata": {
        "id": "SwTE_3935ESK"
      },
      "source": [
        "* Example: A dataset with 100 samples of plant $A$ and 50 samples of plant $B$ would have an `imbalance ratio` of $IR = 2$"
      ]
    },
    {
      "cell_type": "markdown",
      "metadata": {
        "id": "HKxHGtj_5ESL"
      },
      "source": [
        "* As $IR$ becomes larger, the dataset is more imbalances and thus, harder to be **correctly** classified"
      ]
    },
    {
      "cell_type": "markdown",
      "metadata": {
        "id": "3Z9DHhsf5ESP"
      },
      "source": [
        "### What do I mean by CORRECTLY classified?"
      ]
    },
    {
      "cell_type": "markdown",
      "metadata": {
        "id": "KlBATJ8Y5ESQ"
      },
      "source": [
        "* When designing a testing framework for a classifier, it is essential to select the correct **metrics**"
      ]
    },
    {
      "cell_type": "markdown",
      "metadata": {
        "id": "b4-GmXtA5ESR"
      },
      "source": [
        "* Still, it is important to flag the most common flaw when evaluating imbalance dataset classification"
      ]
    },
    {
      "cell_type": "markdown",
      "metadata": {
        "id": "bkj9N8Hy5ESR"
      },
      "source": [
        "* If we *design* a classifier for a dataset with $IR=99$ which simply predicts all samples to be `negative`, then we will obtain an `accuracy` of $99\\%$!"
      ]
    },
    {
      "cell_type": "markdown",
      "metadata": {
        "id": "TBzFDzUh5ESS"
      },
      "source": [
        "* Accuracy is **NOT** a good metric for imbalance dataset classification!"
      ]
    },
    {
      "cell_type": "markdown",
      "metadata": {
        "id": "QcZ-tuP45ESS"
      },
      "source": [
        "* We will talk about this in more detail in Topic 6"
      ]
    },
    {
      "cell_type": "markdown",
      "metadata": {
        "id": "5M4DmmoO5ESS"
      },
      "source": [
        "### Types of class imbalance methods"
      ]
    },
    {
      "cell_type": "markdown",
      "metadata": {
        "id": "iz5n5G7k5EST"
      },
      "source": [
        "* `Data-based`: Resampling the data to generate a new dataset"
      ]
    },
    {
      "cell_type": "markdown",
      "metadata": {
        "id": "tjwgUFs95EST"
      },
      "source": [
        "* `Algorithmic-based`: Designing modified learning algorithms"
      ]
    },
    {
      "cell_type": "markdown",
      "metadata": {
        "id": "hKiX9Yfq5EST"
      },
      "source": [
        "* `Cost-sensitive`: Aimed at minimising the total cost considering the different class distributions"
      ]
    },
    {
      "cell_type": "markdown",
      "metadata": {
        "id": "DtxKw0BQ5EST"
      },
      "source": [
        "* Today we will focus on the first category"
      ]
    },
    {
      "cell_type": "markdown",
      "metadata": {
        "id": "PX0TxEj05ESU"
      },
      "source": [
        "## Data-Based Imbalance Handling in Binary Datasets"
      ]
    },
    {
      "cell_type": "markdown",
      "metadata": {
        "id": "ATz5FEjr5ESU"
      },
      "source": [
        "* There are two main approaches to handle imbalance in binary datasets:"
      ]
    },
    {
      "cell_type": "markdown",
      "metadata": {
        "id": "gDMAKT055ESV"
      },
      "source": [
        "* `Undersampling`: Reducing the samples from the majority class"
      ]
    },
    {
      "cell_type": "markdown",
      "metadata": {
        "id": "mUqZKrqE5ESV"
      },
      "source": [
        "* `Oversampling`: Increasing the samples from the minority class"
      ]
    },
    {
      "cell_type": "markdown",
      "metadata": {
        "id": "4lLSzBEA5ESV"
      },
      "source": [
        "* We will use a test dataset called [breast_cancer](https://scikit-learn.org/stable/datasets/index.html#breast-cancer-dataset) to exemplify one method of each variety:"
      ]
    },
    {
      "cell_type": "markdown",
      "metadata": {
        "id": "uxM4EiVC5ESW"
      },
      "source": [
        "### Random Undersampling (RUS)"
      ]
    },
    {
      "cell_type": "markdown",
      "metadata": {
        "id": "MS75t9515ESW"
      },
      "source": [
        "* This method, as the name says, consists in randomly undersampling the majority class to even the datasets"
      ]
    },
    {
      "cell_type": "code",
      "execution_count": null,
      "metadata": {
        "id": "ifCuR4C15ESW",
        "outputId": "3cfcc7f3-b6b8-4687-d87e-8d10ee9150ab"
      },
      "outputs": [
        {
          "name": "stdout",
          "output_type": "stream",
          "text": [
            "[[1.799e+01 1.038e+01 1.228e+02 ... 2.654e-01 4.601e-01 1.189e-01]\n",
            " [2.057e+01 1.777e+01 1.329e+02 ... 1.860e-01 2.750e-01 8.902e-02]\n",
            " [1.969e+01 2.125e+01 1.300e+02 ... 2.430e-01 3.613e-01 8.758e-02]\n",
            " ...\n",
            " [1.660e+01 2.808e+01 1.083e+02 ... 1.418e-01 2.218e-01 7.820e-02]\n",
            " [2.060e+01 2.933e+01 1.401e+02 ... 2.650e-01 4.087e-01 1.240e-01]\n",
            " [7.760e+00 2.454e+01 4.792e+01 ... 0.000e+00 2.871e-01 7.039e-02]]\n",
            "The shape of the dataset is:  (569, 30)\n",
            "[0 0 0 0 0 0 0 0 0 0 0 0 0 0 0 0 0 0 0 1 1 1 0 0 0 0 0 0 0 0 0 0 0 0 0 0 0\n",
            " 1 0 0 0 0 0 0 0 0 1 0 1 1 1 1 1 0 0 1 0 0 1 1 1 1 0 1 0 0 1 1 1 1 0 1 0 0\n",
            " 1 0 1 0 0 1 1 1 0 0 1 0 0 0 1 1 1 0 1 1 0 0 1 1 1 0 0 1 1 1 1 0 1 1 0 1 1\n",
            " 1 1 1 1 1 1 0 0 0 1 0 0 1 1 1 0 0 1 0 1 0 0 1 0 0 1 1 0 1 1 0 1 1 1 1 0 1\n",
            " 1 1 1 1 1 1 1 1 0 1 1 1 1 0 0 1 0 1 1 0 0 1 1 0 0 1 1 1 1 0 1 1 0 0 0 1 0\n",
            " 1 0 1 1 1 0 1 1 0 0 1 0 0 0 0 1 0 0 0 1 0 1 0 1 1 0 1 0 0 0 0 1 1 0 0 1 1\n",
            " 1 0 1 1 1 1 1 0 0 1 1 0 1 1 0 0 1 0 1 1 1 1 0 1 1 1 1 1 0 1 0 0 0 0 0 0 0\n",
            " 0 0 0 0 0 0 0 1 1 1 1 1 1 0 1 0 1 1 0 1 1 0 1 0 0 1 1 1 1 1 1 1 1 1 1 1 1\n",
            " 1 0 1 1 0 1 0 1 1 1 1 1 1 1 1 1 1 1 1 1 1 0 1 1 1 0 1 0 1 1 1 1 0 0 0 1 1\n",
            " 1 1 0 1 0 1 0 1 1 1 0 1 1 1 1 1 1 1 0 0 0 1 1 1 1 1 1 1 1 1 1 1 0 0 1 0 0\n",
            " 0 1 0 0 1 1 1 1 1 0 1 1 1 1 1 0 1 1 1 0 1 1 0 0 1 1 1 1 1 1 0 1 1 1 1 1 1\n",
            " 1 0 1 1 1 1 1 0 1 1 0 1 1 1 1 1 1 1 1 1 1 1 1 0 1 0 0 1 0 1 1 1 1 1 0 1 1\n",
            " 0 1 0 1 1 0 1 0 1 1 1 1 1 1 1 1 0 0 1 1 1 1 1 1 0 1 1 1 1 1 1 1 1 1 1 0 1\n",
            " 1 1 1 1 1 1 0 1 0 1 1 0 1 1 1 1 1 0 0 1 0 1 0 1 1 1 1 1 0 1 1 0 1 0 1 0 0\n",
            " 1 1 1 0 1 1 1 1 1 1 1 1 1 1 1 0 1 0 0 1 1 1 1 1 1 1 1 1 1 1 1 1 1 1 1 1 1\n",
            " 1 1 1 1 1 1 1 0 0 0 0 0 0 1]\n",
            "Number of negative cases (0):  212\n",
            "Number of positive cases (1):  357\n",
            "Imbalance Ratio:  1.6839622641509433\n"
          ]
        }
      ],
      "source": [
        "# Loading the dataset\n",
        "from sklearn.datasets import load_breast_cancer\n",
        "import numpy as np\n",
        "bc = load_breast_cancer()\n",
        "# Remember that these datasets usually come in dictionary-like structures\n",
        "# We can get the data and the target out\n",
        "data = bc['data']\n",
        "target = bc['target']\n",
        "print(data)\n",
        "print('The shape of the dataset is: ', data.shape)\n",
        "print(target)\n",
        "print('Number of negative cases (0): ', len(target)-np.count_nonzero(target))\n",
        "print('Number of positive cases (1): ', np.count_nonzero(target))\n",
        "print('Imbalance Ratio: ', np.count_nonzero(target)/(len(target)-np.count_nonzero(target)))"
      ]
    },
    {
      "cell_type": "markdown",
      "metadata": {
        "id": "tAE-gOwu5ESX"
      },
      "source": [
        "* Now we can try to apply RUS to this dataset and see what happens:"
      ]
    },
    {
      "cell_type": "code",
      "execution_count": null,
      "metadata": {
        "id": "Qwygpmop5ESY",
        "outputId": "fad6a341-3768-49a2-d0eb-184bf7e8cd85"
      },
      "outputs": [
        {
          "name": "stdout",
          "output_type": "stream",
          "text": [
            "Requirement already satisfied: imbalanced-learn in c:\\anaconda\\lib\\site-packages (0.7.0)\n",
            "Requirement already satisfied: scipy>=0.19.1 in c:\\anaconda\\lib\\site-packages (from imbalanced-learn) (1.4.1)\n",
            "Requirement already satisfied: joblib>=0.11 in c:\\anaconda\\lib\\site-packages (from imbalanced-learn) (0.16.0)\n",
            "Requirement already satisfied: numpy>=1.13.3 in c:\\anaconda\\lib\\site-packages (from imbalanced-learn) (1.20.2)\n",
            "Requirement already satisfied: scikit-learn>=0.23 in c:\\anaconda\\lib\\site-packages (from imbalanced-learn) (0.23.1)\n",
            "Requirement already satisfied: threadpoolctl>=2.0.0 in c:\\anaconda\\lib\\site-packages (from scikit-learn>=0.23->imbalanced-learn) (2.1.0)\n"
          ]
        }
      ],
      "source": [
        "## First install the imblearn package if you don't have it already\n",
        "!pip install imbalanced-learn"
      ]
    },
    {
      "cell_type": "code",
      "execution_count": null,
      "metadata": {
        "id": "NxFQ3Ak25ESY",
        "outputId": "d226f453-c3ce-4d37-91f6-dae0672c46ba"
      },
      "outputs": [
        {
          "name": "stdout",
          "output_type": "stream",
          "text": [
            "[[1.799e+01 1.038e+01 1.228e+02 ... 2.654e-01 4.601e-01 1.189e-01]\n",
            " [2.057e+01 1.777e+01 1.329e+02 ... 1.860e-01 2.750e-01 8.902e-02]\n",
            " [1.969e+01 2.125e+01 1.300e+02 ... 2.430e-01 3.613e-01 8.758e-02]\n",
            " ...\n",
            " [1.366e+01 1.515e+01 8.827e+01 ... 1.054e-01 3.387e-01 9.638e-02]\n",
            " [9.742e+00 1.912e+01 6.193e+01 ... 4.589e-02 3.196e-01 8.009e-02]\n",
            " [9.742e+00 1.567e+01 6.150e+01 ... 5.159e-02 2.841e-01 8.175e-02]]\n",
            "The shape of the dataset is:  (424, 30)\n",
            "[0 0 0 0 0 0 0 0 0 0 0 0 0 0 0 0 0 0 0 0 0 0 0 0 0 0 0 0 0 0 0 0 0 0 0 0 0\n",
            " 0 0 0 0 0 0 0 0 0 0 0 0 0 0 0 0 0 0 0 0 0 0 0 0 0 0 0 0 0 0 0 0 0 0 0 0 0\n",
            " 0 0 0 0 0 0 0 0 0 0 0 0 0 0 0 0 0 0 0 0 0 0 0 0 0 0 0 0 0 0 0 0 0 0 0 0 0\n",
            " 0 0 0 0 0 0 0 0 0 0 0 0 0 0 0 0 0 0 0 0 0 0 0 0 0 0 0 0 0 0 0 0 0 0 0 0 0\n",
            " 0 0 0 0 0 0 0 0 0 0 0 0 0 0 0 0 0 0 0 0 0 0 0 0 0 0 0 0 0 0 0 0 0 0 0 0 0\n",
            " 0 0 0 0 0 0 0 0 0 0 0 0 0 0 0 0 0 0 0 0 0 0 0 0 0 0 0 1 1 1 1 1 1 1 1 1 1\n",
            " 1 1 1 1 1 1 1 1 1 1 1 1 1 1 1 1 1 1 1 1 1 1 1 1 1 1 1 1 1 1 1 1 1 1 1 1 1\n",
            " 1 1 1 1 1 1 1 1 1 1 1 1 1 1 1 1 1 1 1 1 1 1 1 1 1 1 1 1 1 1 1 1 1 1 1 1 1\n",
            " 1 1 1 1 1 1 1 1 1 1 1 1 1 1 1 1 1 1 1 1 1 1 1 1 1 1 1 1 1 1 1 1 1 1 1 1 1\n",
            " 1 1 1 1 1 1 1 1 1 1 1 1 1 1 1 1 1 1 1 1 1 1 1 1 1 1 1 1 1 1 1 1 1 1 1 1 1\n",
            " 1 1 1 1 1 1 1 1 1 1 1 1 1 1 1 1 1 1 1 1 1 1 1 1 1 1 1 1 1 1 1 1 1 1 1 1 1\n",
            " 1 1 1 1 1 1 1 1 1 1 1 1 1 1 1 1 1]\n",
            "Number of negative cases (0):  212\n",
            "Number of positive cases (1):  212\n",
            "Imbalance Ratio:  1.0\n"
          ]
        }
      ],
      "source": [
        "## Now we apply RUS to the dataset\n",
        "from imblearn.under_sampling import RandomUnderSampler\n",
        "rus = RandomUnderSampler(random_state=42) # random state ensures we always get the same result\n",
        "data_rus, target_rus = rus.fit_sample(data,target)\n",
        "\n",
        "print(data_rus)\n",
        "print('The shape of the dataset is: ', data_rus.shape)\n",
        "print(target_rus)\n",
        "print('Number of negative cases (0): ', len(target_rus)-np.count_nonzero(target_rus))\n",
        "print('Number of positive cases (1): ', np.count_nonzero(target_rus))\n",
        "print('Imbalance Ratio: ', np.count_nonzero(target_rus)/(len(target_rus)-np.count_nonzero(target_rus)))"
      ]
    },
    {
      "cell_type": "markdown",
      "metadata": {
        "id": "qGiZL1Tr5ESY"
      },
      "source": [
        "* Notice that by default, RUS balances the dataset to $IR=1$!"
      ]
    },
    {
      "cell_type": "markdown",
      "metadata": {
        "id": "RDFmQUAB5ESZ"
      },
      "source": [
        "* There are variants to this method, such as RUSboost, which uses a boosting algorithm to `ensemble` better results"
      ]
    },
    {
      "cell_type": "markdown",
      "metadata": {
        "id": "gF5xxZNY5ESZ"
      },
      "source": [
        "* There are numerous other undersampling methods such as Tomek Link, MUTE, etc."
      ]
    },
    {
      "cell_type": "markdown",
      "metadata": {
        "id": "vsO4vZlk5ESZ"
      },
      "source": [
        "#### PROS of Undersampling"
      ]
    },
    {
      "cell_type": "markdown",
      "metadata": {
        "id": "e2bneFLN5ESa"
      },
      "source": [
        "* Removes redundant and outlier data (when correctly applied)"
      ]
    },
    {
      "cell_type": "markdown",
      "metadata": {
        "id": "fUOmFagu5ESb"
      },
      "source": [
        "* Are easy to compute"
      ]
    },
    {
      "cell_type": "markdown",
      "metadata": {
        "id": "3Fw2KFj75ESc"
      },
      "source": [
        "#### CONS of Undersampling"
      ]
    },
    {
      "cell_type": "markdown",
      "metadata": {
        "id": "u_KCu_ok5ESc"
      },
      "source": [
        "* Data loss"
      ]
    },
    {
      "cell_type": "markdown",
      "metadata": {
        "id": "sy_ymmHy5ESd"
      },
      "source": [
        "* Not suitable when there are minimal minority class samples"
      ]
    },
    {
      "cell_type": "markdown",
      "metadata": {
        "id": "OTF0OB-35ESf"
      },
      "source": [
        "### Synthetic minority oversampling technique (SMOTE)"
      ]
    },
    {
      "cell_type": "markdown",
      "metadata": {
        "id": "rcH9fW1n5ESf"
      },
      "source": [
        "* This method, developed by Chawla et al. is now state-of-the-art in the field"
      ]
    },
    {
      "cell_type": "markdown",
      "metadata": {
        "id": "oJoejimA5ESg"
      },
      "source": [
        "* Improves the presence of the minority class by creating artificial (synthetic) samples"
      ]
    },
    {
      "cell_type": "markdown",
      "metadata": {
        "id": "QAvOIXn85ESg"
      },
      "source": [
        "* Uses supervised learning techniques, such as `k-Nearest Neighbours` (K-NN), for this purpose "
      ]
    },
    {
      "cell_type": "markdown",
      "metadata": {
        "id": "gPX-gPh95ESg"
      },
      "source": [
        "* SMOTE can also be imported in Python and used in few lines of code:"
      ]
    },
    {
      "cell_type": "code",
      "execution_count": null,
      "metadata": {
        "id": "KLK7dnoG5ESg",
        "outputId": "4a93c18e-064f-476b-feff-e439cc618456"
      },
      "outputs": [
        {
          "name": "stdout",
          "output_type": "stream",
          "text": [
            "[[1.79900000e+01 1.03800000e+01 1.22800000e+02 ... 2.65400000e-01\n",
            "  4.60100000e-01 1.18900000e-01]\n",
            " [2.05700000e+01 1.77700000e+01 1.32900000e+02 ... 1.86000000e-01\n",
            "  2.75000000e-01 8.90200000e-02]\n",
            " [1.96900000e+01 2.12500000e+01 1.30000000e+02 ... 2.43000000e-01\n",
            "  3.61300000e-01 8.75800000e-02]\n",
            " ...\n",
            " [1.89802048e+01 2.07229208e+01 1.22740052e+02 ... 1.41613342e-01\n",
            "  2.56907006e-01 6.16596202e-02]\n",
            " [1.55225881e+01 1.96461822e+01 1.01894239e+02 ... 1.50644626e-01\n",
            "  3.08648911e-01 8.58466691e-02]\n",
            " [1.23891194e+01 2.08371158e+01 7.91858240e+01 ... 8.51229522e-02\n",
            "  2.50807979e-01 7.63256983e-02]]\n",
            "The shape of the dataset is:  (714, 30)\n",
            "[0 0 0 0 0 0 0 0 0 0 0 0 0 0 0 0 0 0 0 1 1 1 0 0 0 0 0 0 0 0 0 0 0 0 0 0 0\n",
            " 1 0 0 0 0 0 0 0 0 1 0 1 1 1 1 1 0 0 1 0 0 1 1 1 1 0 1 0 0 1 1 1 1 0 1 0 0\n",
            " 1 0 1 0 0 1 1 1 0 0 1 0 0 0 1 1 1 0 1 1 0 0 1 1 1 0 0 1 1 1 1 0 1 1 0 1 1\n",
            " 1 1 1 1 1 1 0 0 0 1 0 0 1 1 1 0 0 1 0 1 0 0 1 0 0 1 1 0 1 1 0 1 1 1 1 0 1\n",
            " 1 1 1 1 1 1 1 1 0 1 1 1 1 0 0 1 0 1 1 0 0 1 1 0 0 1 1 1 1 0 1 1 0 0 0 1 0\n",
            " 1 0 1 1 1 0 1 1 0 0 1 0 0 0 0 1 0 0 0 1 0 1 0 1 1 0 1 0 0 0 0 1 1 0 0 1 1\n",
            " 1 0 1 1 1 1 1 0 0 1 1 0 1 1 0 0 1 0 1 1 1 1 0 1 1 1 1 1 0 1 0 0 0 0 0 0 0\n",
            " 0 0 0 0 0 0 0 1 1 1 1 1 1 0 1 0 1 1 0 1 1 0 1 0 0 1 1 1 1 1 1 1 1 1 1 1 1\n",
            " 1 0 1 1 0 1 0 1 1 1 1 1 1 1 1 1 1 1 1 1 1 0 1 1 1 0 1 0 1 1 1 1 0 0 0 1 1\n",
            " 1 1 0 1 0 1 0 1 1 1 0 1 1 1 1 1 1 1 0 0 0 1 1 1 1 1 1 1 1 1 1 1 0 0 1 0 0\n",
            " 0 1 0 0 1 1 1 1 1 0 1 1 1 1 1 0 1 1 1 0 1 1 0 0 1 1 1 1 1 1 0 1 1 1 1 1 1\n",
            " 1 0 1 1 1 1 1 0 1 1 0 1 1 1 1 1 1 1 1 1 1 1 1 0 1 0 0 1 0 1 1 1 1 1 0 1 1\n",
            " 0 1 0 1 1 0 1 0 1 1 1 1 1 1 1 1 0 0 1 1 1 1 1 1 0 1 1 1 1 1 1 1 1 1 1 0 1\n",
            " 1 1 1 1 1 1 0 1 0 1 1 0 1 1 1 1 1 0 0 1 0 1 0 1 1 1 1 1 0 1 1 0 1 0 1 0 0\n",
            " 1 1 1 0 1 1 1 1 1 1 1 1 1 1 1 0 1 0 0 1 1 1 1 1 1 1 1 1 1 1 1 1 1 1 1 1 1\n",
            " 1 1 1 1 1 1 1 0 0 0 0 0 0 1 0 0 0 0 0 0 0 0 0 0 0 0 0 0 0 0 0 0 0 0 0 0 0\n",
            " 0 0 0 0 0 0 0 0 0 0 0 0 0 0 0 0 0 0 0 0 0 0 0 0 0 0 0 0 0 0 0 0 0 0 0 0 0\n",
            " 0 0 0 0 0 0 0 0 0 0 0 0 0 0 0 0 0 0 0 0 0 0 0 0 0 0 0 0 0 0 0 0 0 0 0 0 0\n",
            " 0 0 0 0 0 0 0 0 0 0 0 0 0 0 0 0 0 0 0 0 0 0 0 0 0 0 0 0 0 0 0 0 0 0 0 0 0\n",
            " 0 0 0 0 0 0 0 0 0 0 0]\n",
            "Number of negative cases (0):  357\n",
            "Number of positive cases (1):  357\n",
            "Imbalance Ratio:  1.0\n"
          ]
        }
      ],
      "source": [
        "from imblearn.over_sampling import SMOTE\n",
        "\n",
        "sm = SMOTE(random_state=42)\n",
        "data_smote, target_smote = sm.fit_resample(data, target)\n",
        "print(data_smote)\n",
        "print('The shape of the dataset is: ', data_smote.shape)\n",
        "print(target_smote)\n",
        "print('Number of negative cases (0): ', len(target_smote)-np.count_nonzero(target_smote))\n",
        "print('Number of positive cases (1): ', np.count_nonzero(target_smote))\n",
        "print('Imbalance Ratio: ', np.count_nonzero(target_smote)/(len(target_smote)-np.count_nonzero(target_smote)))"
      ]
    },
    {
      "cell_type": "markdown",
      "metadata": {
        "id": "0_ygwrXT5ESh"
      },
      "source": [
        "* There are numerous variants such as `SVM-SMOTE`, `kmeansSMOTE`, `ADASYN`, `DBSMOTE`, `SMOTEBoost`, `CDSMOTE`, etc."
      ]
    },
    {
      "cell_type": "markdown",
      "metadata": {
        "id": "nWNfSUTC5ESh"
      },
      "source": [
        "* I recommend you to read the paper by [Chawla et al.](https://arxiv.org/pdf/1106.1813.pdf) if you want to know exactly how it works"
      ]
    },
    {
      "cell_type": "markdown",
      "metadata": {
        "id": "q2KogI1P5ESi"
      },
      "source": [
        "#### PROS of Oversampling"
      ]
    },
    {
      "cell_type": "markdown",
      "metadata": {
        "id": "sCmszDp55ESi"
      },
      "source": [
        "* Helps augment minority data, which is usually what you want!"
      ]
    },
    {
      "cell_type": "markdown",
      "metadata": {
        "id": "Sz6K74He5ESj"
      },
      "source": [
        "#### CONS of Oversampling"
      ]
    },
    {
      "cell_type": "markdown",
      "metadata": {
        "id": "I8GsQ-Gj5ESj"
      },
      "source": [
        "* \"Harder\" to compute"
      ]
    },
    {
      "cell_type": "markdown",
      "metadata": {
        "id": "v3IEeFSN5ESj"
      },
      "source": [
        "* Synthetic examples may be redundant/outliers"
      ]
    },
    {
      "cell_type": "markdown",
      "metadata": {
        "id": "PyYheo1N5ESk"
      },
      "source": [
        "## Data-Based Imbalance Handling in Non-Binary Datasets"
      ]
    },
    {
      "cell_type": "markdown",
      "metadata": {
        "id": "m3ittCxQ5ESk"
      },
      "source": [
        "* All the aforementioned methods have variants that are applicable for non-binary datasets"
      ]
    },
    {
      "cell_type": "markdown",
      "metadata": {
        "id": "g4j90Kbz5ESl"
      },
      "source": [
        "* However, in non-binary datasets usually there are different class sizes and it is unclear which is the minority/majority class"
      ]
    },
    {
      "cell_type": "markdown",
      "metadata": {
        "id": "eyDpskw55ESl"
      },
      "source": [
        "* In that regard, there is a special category of balancing methods that can be applied to non-binary datasets, which also mitigate the disadvantages of both oversampling and undersampling"
      ]
    },
    {
      "cell_type": "markdown",
      "metadata": {
        "id": "yURYx8Lv5ESm"
      },
      "source": [
        "### Class Decomposition"
      ]
    },
    {
      "cell_type": "markdown",
      "metadata": {
        "id": "8VoJb67l5ESm"
      },
      "source": [
        "* This method does not replicate or loses data, but rather creates more classes based on **unsupervised learning**/**clustering**"
      ]
    },
    {
      "cell_type": "markdown",
      "metadata": {
        "id": "7fX8nNVB5ESm"
      },
      "source": [
        "* By changing the **target**, we ensure that the subclasses are more balanced"
      ]
    },
    {
      "cell_type": "markdown",
      "metadata": {
        "id": "lOUYuk6x5ESm"
      },
      "source": [
        "* At the classification stage we need to make sure that the model understands this change!"
      ]
    },
    {
      "cell_type": "markdown",
      "metadata": {
        "id": "SaljDRAm5ESm"
      },
      "source": [
        "* Example contained in [Vilalta et al. 2003](https://www.semanticscholar.org/paper/Class-decomposition-via-clustering%3A-a-new-framework-Vilalta-Achari/619807bb022e20f1ed8b6aca36f74e7500a0ba9a)"
      ]
    },
    {
      "cell_type": "markdown",
      "metadata": {
        "id": "bOpdlB6K5ESm"
      },
      "source": [
        "![Fig 1. Class decomposition](https://www.dropbox.com/s/p498fxpm5q7r8t6/classdec.png?raw=1)"
      ]
    },
    {
      "cell_type": "markdown",
      "metadata": {
        "id": "HYi1YEE45ESm"
      },
      "source": [
        "#### Basic principles"
      ]
    },
    {
      "cell_type": "markdown",
      "metadata": {
        "id": "41Fs3mYn5ESn"
      },
      "source": [
        "* A dataset $D=\\{(x_1,y_1),(x_2,y_2),...,(x_n,y_n)\\}$, where $x$ is the *feature vector* and $y$ is the target"
      ]
    },
    {
      "cell_type": "markdown",
      "metadata": {
        "id": "8mIdbZsk5ESn"
      },
      "source": [
        "* Assume that $y$ can take two values: $\\color{red}{red}$ and $\\color{blue}{blue}$ "
      ]
    },
    {
      "cell_type": "markdown",
      "metadata": {
        "id": "MA21lcjA5ESn"
      },
      "source": [
        "* If we cannot find a *classification* function that correctly maps X to Y, then we can **rearrange** the data"
      ]
    },
    {
      "cell_type": "markdown",
      "metadata": {
        "id": "NCnFcS2k5ESn"
      },
      "source": [
        "$Y_c = \\{Dark\\:\\color{red}{red},Light\\:\\color{red}{red},Dark\\:\\color{blue}{blue},Light\\:\\color{blue}{blue}\\}$"
      ]
    },
    {
      "cell_type": "markdown",
      "metadata": {
        "id": "-0QgMXlt5ESp"
      },
      "source": [
        "* Now we need a function that maps $h_c : X \\rightarrow Y_c$"
      ]
    },
    {
      "cell_type": "markdown",
      "metadata": {
        "id": "y3sJgZZH5ESp"
      },
      "source": [
        "#### But first, how do we \"know\" which classes to decompose?"
      ]
    },
    {
      "cell_type": "markdown",
      "metadata": {
        "id": "G8n9eKWO5ESp"
      },
      "source": [
        "* Depending on the **number of samples** and the **quality of the initial classification**"
      ]
    },
    {
      "cell_type": "markdown",
      "metadata": {
        "id": "y7sShuk-5ESq"
      },
      "source": [
        "* Maybe there are more samples of red than blue"
      ]
    },
    {
      "cell_type": "markdown",
      "metadata": {
        "id": "vvYHYR3j5ESq"
      },
      "source": [
        "* Maybe classification was good with blue already!"
      ]
    },
    {
      "cell_type": "markdown",
      "metadata": {
        "id": "JssfFuaz5ESr"
      },
      "source": [
        "* If you want to achieve balance i.e. $IR \\approx 1$ then you can use the following **standard balancing equation**:"
      ]
    },
    {
      "cell_type": "markdown",
      "metadata": {
        "id": "E3jAEIgQ5ESr"
      },
      "source": [
        "$k_i = [\\frac{c_i}{A_{vg}}+1]$"
      ]
    },
    {
      "cell_type": "markdown",
      "metadata": {
        "id": "c8GUuguL5ESr"
      },
      "source": [
        "* where:\n",
        "    * $k_i$ is the number of clusters\n",
        "    * $c_i$ is the total number of instances of a specific class\n",
        "    * $A_{vg}$ is the mean class distribution"
      ]
    },
    {
      "cell_type": "markdown",
      "metadata": {
        "id": "Aqyg7BzT5ESr"
      },
      "source": [
        "#### Example"
      ]
    },
    {
      "cell_type": "markdown",
      "metadata": {
        "id": "taU2THKv5ESs"
      },
      "source": [
        "* A repository with data has 5 classes:"
      ]
    },
    {
      "cell_type": "markdown",
      "metadata": {
        "id": "6AoEenO05ESt"
      },
      "source": [
        "* Class 0: 11100 samples\n",
        "* Class 1: 1899 samples\n",
        "* Class 2: 353 samples\n",
        "* Class 3: 12987 samples\n",
        "* Class 4: 3471 samples"
      ]
    },
    {
      "cell_type": "code",
      "execution_count": null,
      "metadata": {
        "id": "OJ3Rf_qb5ESu",
        "outputId": "01a75df3-e35c-4cbb-b318-809b1c7c8106"
      },
      "outputs": [
        {
          "name": "stdout",
          "output_type": "stream",
          "text": [
            "Avg:  5962.0\n",
            "k_0= 2.8617913451861794\n",
            "k_1= 1.3185172760818518\n",
            "k_2= 1.0592083193559207\n",
            "k_3= 3.1782958738678295\n",
            "k_4= 1.5821871855082188\n"
          ]
        }
      ],
      "source": [
        "## First we calculate Avg\n",
        "classdist = [11100,1899,353,12987,3471]\n",
        "Avg = sum(classdist)/len(classdist)\n",
        "print('Avg: ', Avg)\n",
        "## Then we can calculate ki for each class\n",
        "for i,c in enumerate(classdist):\n",
        "    print('k_'+str(i)+'=', (c/Avg)+1)"
      ]
    },
    {
      "cell_type": "markdown",
      "metadata": {
        "id": "MZIaG-i05ESv"
      },
      "source": [
        "* If $k_i$ is **smaller than 2**, then no clustering is needed"
      ]
    },
    {
      "cell_type": "markdown",
      "metadata": {
        "id": "6ebz4FgM5ESx"
      },
      "source": [
        "* If $k_i$ is **larger than 2**, then you `floor` the obtained value and you get the clusters needed "
      ]
    },
    {
      "cell_type": "code",
      "execution_count": null,
      "metadata": {
        "id": "NdiDyANY5ESy",
        "outputId": "b744a126-4680-4313-aa6d-3fb6e7081257"
      },
      "outputs": [
        {
          "name": "stdout",
          "output_type": "stream",
          "text": [
            "Clusters for class 0: 2\n",
            "Clusters for class 1: 1\n",
            "Clusters for class 2: 1\n",
            "Clusters for class 3: 3\n",
            "Clusters for class 4: 1\n"
          ]
        }
      ],
      "source": [
        "import math\n",
        "## Calculating the number of clusters to decompose each class\n",
        "for i,c in enumerate(classdist):\n",
        "    print('Clusters for class '+str(i)+':', math.floor((c/Avg)+1))"
      ]
    },
    {
      "cell_type": "markdown",
      "metadata": {
        "id": "d31L5GE_5ES0"
      },
      "source": [
        "#### Class decomposition in an artificial dataset"
      ]
    },
    {
      "cell_type": "code",
      "execution_count": null,
      "metadata": {
        "id": "gg5NqBUr5ES1",
        "outputId": "41c9598f-f265-4e34-f08e-4ef67b7760ec"
      },
      "outputs": [
        {
          "name": "stdout",
          "output_type": "stream",
          "text": [
            "[[0.78721067 0.46803019 0.        ]\n",
            " [0.86189989 0.11792469 0.        ]\n",
            " [0.97109041 0.56896674 0.        ]\n",
            " ...\n",
            " [0.70411205 0.41906615 0.        ]\n",
            " [0.28246956 0.53184207 0.        ]\n",
            " [0.45711406 0.62019367 0.        ]] (11100, 3)\n"
          ]
        }
      ],
      "source": [
        "## Creating the data (class 0)\n",
        "import numpy as np\n",
        "class0 = np.random.rand(11100,2)\n",
        "class0 = np.concatenate((class0,np.zeros((11100,1))),axis=1)\n",
        "print(class0, class0.shape)"
      ]
    },
    {
      "cell_type": "code",
      "execution_count": null,
      "metadata": {
        "id": "lCHa-J0e5ES1",
        "outputId": "385be4ba-6f48-4a75-ad68-a226070d4f87"
      },
      "outputs": [
        {
          "name": "stdout",
          "output_type": "stream",
          "text": [
            "[[7.87210675e-01 4.68030186e-01 0.00000000e+00]\n",
            " [8.61899888e-01 1.17924692e-01 0.00000000e+00]\n",
            " [9.71090413e-01 5.68966741e-01 0.00000000e+00]\n",
            " ...\n",
            " [6.37271998e-03 4.24828522e-03 4.00000000e+00]\n",
            " [7.26853429e-03 2.37293146e-03 4.00000000e+00]\n",
            " [8.34560454e-03 6.53733294e-03 4.00000000e+00]] (29810, 3)\n"
          ]
        }
      ],
      "source": [
        "## Creating the rest of the data\n",
        "class1 = np.random.rand(1899,2)*10 # multiply to get distinct values\n",
        "class1 = np.concatenate((class1,np.ones((1899,1))),axis=1)\n",
        "class2 = np.random.rand(353,2)*100\n",
        "class2 = np.concatenate((class2,np.ones((353,1))+1),axis=1)\n",
        "class3 = np.random.rand(12987,2)*10000\n",
        "class3 = np.concatenate((class3,np.ones((12987,1))+2),axis=1)\n",
        "class4 = np.random.rand(3471,2)/100\n",
        "class4 = np.concatenate((class4,np.ones((3471,1))+3),axis=1)\n",
        "repo = np.vstack((class0,class1,class2,class3,class4))\n",
        "print(repo, repo.shape)"
      ]
    },
    {
      "cell_type": "code",
      "execution_count": null,
      "metadata": {
        "hide_input": true,
        "id": "5uZllA775ES2"
      },
      "outputs": [],
      "source": [
        "# Dark themed plots!\n",
        "from jupyterthemes import jtplot\n",
        "jtplot.style(theme='monokai', context='notebook', ticks=True, grid=False)"
      ]
    },
    {
      "cell_type": "code",
      "execution_count": null,
      "metadata": {
        "id": "wfr0tZVF5ES2",
        "outputId": "64fb8ea5-426e-4e66-9d7e-6558ed67dd00"
      },
      "outputs": [
        {
          "data": {
            "text/plain": [
              "(array([11100.,  1899.,   353., 12987.,  3471.]),\n",
              " array([0. , 0.8, 1.6, 2.4, 3.2, 4. ]),\n",
              " <BarContainer object of 5 artists>)"
            ]
          },
          "execution_count": 11,
          "metadata": {},
          "output_type": "execute_result"
        },
        {
          "data": {
            "image/png": "[encoded data removed]",
            "text/plain": [
              "<Figure size 432x288 with 1 Axes>"
            ]
          },
          "metadata": {
            "needs_background": "dark"
          },
          "output_type": "display_data"
        }
      ],
      "source": [
        "# Plotting the histogram of the class distribution\n",
        "import matplotlib.pyplot as plt\n",
        "plt.hist(repo[:,2],bins=5,ec='white', rwidth=0.6)"
      ]
    },
    {
      "cell_type": "code",
      "execution_count": null,
      "metadata": {
        "id": "6J3C9FD-5ES3",
        "outputId": "c7fac885-b49e-4fc2-a92d-9d394170aed9"
      },
      "outputs": [
        {
          "data": {
            "image/png": "[encoded data removed]",
            "text/plain": [
              "<Figure size 432x288 with 1 Axes>"
            ]
          },
          "metadata": {
            "needs_background": "dark"
          },
          "output_type": "display_data"
        }
      ],
      "source": [
        "# Plotting the data\n",
        "scatter = plt.scatter(repo[:,0], repo[:,1], c=repo[:,-1], alpha=0.5)\n",
        "plt.xlim(0.0001, 100000)\n",
        "plt.ylim(0.0001, 100000)\n",
        "plt.xscale('log')\n",
        "plt.yscale('log')\n",
        "plt.legend(handles=scatter.legend_elements()[0], labels=[0,1,2,3,4])\n",
        "plt.show()"
      ]
    },
    {
      "cell_type": "code",
      "execution_count": null,
      "metadata": {
        "id": "8Ypv7ilC5ES3",
        "outputId": "14c6569a-14b1-44d8-a5c0-d9509ecb8897"
      },
      "outputs": [
        {
          "name": "stdout",
          "output_type": "stream",
          "text": [
            "[[0.78721067 0.46803019]\n",
            " [0.86189989 0.11792469]\n",
            " [0.97109041 0.56896674]\n",
            " ...\n",
            " [0.70411205 0.41906615]\n",
            " [0.28246956 0.53184207]\n",
            " [0.45711406 0.62019367]] (11100, 2)\n",
            "[0. 0. 0. ... 0. 0. 0.] (11100,)\n"
          ]
        }
      ],
      "source": [
        "# How to access data and target from a certain class\n",
        "X = repo[np.where(repo[:,2]==0)][:,:2]\n",
        "y = repo[np.where(repo[:,2]==0)][:,2]\n",
        "print(X,X.shape)\n",
        "print(y,y.shape)"
      ]
    },
    {
      "cell_type": "code",
      "execution_count": null,
      "metadata": {
        "id": "3HHZfGkz5ES4",
        "outputId": "67976033-1e23-48a4-b3f1-7842948df710"
      },
      "outputs": [
        {
          "data": {
            "text/plain": [
              "array([4, 4, 3, ..., 1, 1, 1])"
            ]
          },
          "execution_count": 14,
          "metadata": {},
          "output_type": "execute_result"
        }
      ],
      "source": [
        "#How to use Kmeans \n",
        "from sklearn.cluster import KMeans\n",
        "kmeans = KMeans(n_clusters=5).fit(X)\n",
        "kmeans.labels_"
      ]
    },
    {
      "cell_type": "code",
      "execution_count": null,
      "metadata": {
        "id": "JzmKpV2o5ES4",
        "outputId": "94df3f70-f1f5-4b00-d139-0b2b856a5edd"
      },
      "outputs": [
        {
          "name": "stdout",
          "output_type": "stream",
          "text": [
            "Clusters to decompose class 0: 2\n",
            "Decomposed version of class 0:\n",
            "[[0.78721067 0.46803019 0.        ]\n",
            " [0.86189989 0.11792469 0.        ]\n",
            " [0.97109041 0.56896674 0.1       ]\n",
            " ...\n",
            " [0.70411205 0.41906615 0.        ]\n",
            " [0.28246956 0.53184207 0.1       ]\n",
            " [0.45711406 0.62019367 0.1       ]]\n",
            "Clusters to decompose class 1: 1\n",
            "Clusters to decompose class 2: 1\n",
            "Clusters to decompose class 3: 3\n",
            "Decomposed version of class 3:\n",
            "[[6.71388354e+03 7.00694029e+03 3.00000000e+00]\n",
            " [2.16520855e+03 8.04877498e+03 3.00000000e+00]\n",
            " [7.77360417e+03 6.85948769e+03 3.00000000e+00]\n",
            " ...\n",
            " [8.99705576e+03 2.92981485e+03 3.10000000e+00]\n",
            " [5.14325417e+03 2.87917879e+03 3.10000000e+00]\n",
            " [6.24402403e+03 8.61359892e+03 3.00000000e+00]]\n",
            "Clusters to decompose class 4: 1\n",
            "Decomposed repo\n",
            "[[7.87210675e-01 4.68030186e-01 0.00000000e+00]\n",
            " [8.61899888e-01 1.17924692e-01 0.00000000e+00]\n",
            " [9.71090413e-01 5.68966741e-01 1.00000000e-01]\n",
            " ...\n",
            " [6.37271998e-03 4.24828522e-03 4.00000000e+00]\n",
            " [7.26853429e-03 2.37293146e-03 4.00000000e+00]\n",
            " [8.34560454e-03 6.53733294e-03 4.00000000e+00]]\n"
          ]
        }
      ],
      "source": [
        "## Putting all together\n",
        "from sklearn.cluster import KMeans\n",
        "\n",
        "for i,c in enumerate(classdist):\n",
        "    X = repo[np.where(repo[:,-1]==i)][:,:2] # Find instances of the class\n",
        "    y = np.zeros((c,1))+i\n",
        "    nclusters = math.floor((c/Avg)+1) # Calculate number of clusters\n",
        "    print('Clusters to decompose class '+str(i)+':', nclusters)    \n",
        "    if nclusters>1:        \n",
        "        kmeans = KMeans(n_clusters=nclusters).fit(X)\n",
        "        ## add to the last column decimals for the new class\n",
        "        for j,n in enumerate(X):\n",
        "            y[j]=y[j]+(kmeans.labels_[j]/10) # divide by 10 so that it gets added as decimal\n",
        "        print('Decomposed version of class '+str(i)+':')\n",
        "        print(np.concatenate((X,y),axis=1))\n",
        "    if i==0: # If this is the first time, copy the first class into a new repo\n",
        "        repo_decomp = np.concatenate((X,y),axis=1).copy()\n",
        "    else: # stack the new into the existing\n",
        "        repo_decomp = np.vstack((repo_decomp,np.concatenate((X,y),axis=1)))\n",
        "print('Decomposed repo')\n",
        "print(repo_decomp)"
      ]
    },
    {
      "cell_type": "code",
      "execution_count": null,
      "metadata": {
        "id": "FB5uikht5ES4",
        "outputId": "400c7ff3-5586-4484-f2f1-4e5e1373d582"
      },
      "outputs": [
        {
          "data": {
            "text/plain": [
              "(array([5520., 5580.,    0.,    0.,    0.,    0.,    0.,    0.,    0.,\n",
              "           0., 1899.,    0.,    0.,    0.,    0.,    0.,    0.,    0.,\n",
              "           0.,    0.,  353.,    0.,    0.,    0.,    0.,    0.,    0.,\n",
              "           0.,    0.,    0., 4777., 4149., 4061.,    0.,    0.,    0.,\n",
              "           0.,    0.,    0., 3471.]),\n",
              " array([0. , 0.1, 0.2, 0.3, 0.4, 0.5, 0.6, 0.7, 0.8, 0.9, 1. , 1.1, 1.2,\n",
              "        1.3, 1.4, 1.5, 1.6, 1.7, 1.8, 1.9, 2. , 2.1, 2.2, 2.3, 2.4, 2.5,\n",
              "        2.6, 2.7, 2.8, 2.9, 3. , 3.1, 3.2, 3.3, 3.4, 3.5, 3.6, 3.7, 3.8,\n",
              "        3.9, 4. ]),\n",
              " <BarContainer object of 40 artists>)"
            ]
          },
          "execution_count": 16,
          "metadata": {},
          "output_type": "execute_result"
        },
        {
          "data": {
            "image/png": "[encoded data removed]",
            "text/plain": [
              "<Figure size 432x288 with 1 Axes>"
            ]
          },
          "metadata": {
            "needs_background": "dark"
          },
          "output_type": "display_data"
        }
      ],
      "source": [
        "# Plotting the histogram of the new class distribution\n",
        "plt.hist(repo_decomp[:,2],bins=40,ec='white', rwidth=0.6)"
      ]
    },
    {
      "cell_type": "code",
      "execution_count": null,
      "metadata": {
        "id": "jB5etBE35ES5"
      },
      "outputs": [],
      "source": [
        "# I do this since 0 and 0.1 are too close\n",
        "# If I plot them, colour difference will be null\n",
        "# Therefore I change 0.1 for 5, 3.1 for 6 and 3.2 for 7\n",
        "colours = repo_decomp[:,-1].copy()\n",
        "colours = np.where(colours==0.1, 5, colours)\n",
        "colours = np.where(colours==3.1, 6, colours)\n",
        "colours = np.where(colours==3.2, 7, colours)"
      ]
    },
    {
      "cell_type": "code",
      "execution_count": null,
      "metadata": {
        "id": "G9AA4A_j5ES6",
        "outputId": "6a43976a-9ea9-40c8-d053-7f327c8433bb"
      },
      "outputs": [
        {
          "data": {
            "image/png": "[encoded data removed]",
            "text/plain": [
              "<Figure size 432x288 with 1 Axes>"
            ]
          },
          "metadata": {
            "needs_background": "dark"
          },
          "output_type": "display_data"
        }
      ],
      "source": [
        "# Plotting the decomposed data\n",
        "scatter2 = plt.scatter(repo_decomp[:,0], repo_decomp[:,1], c=colours, alpha=0.5)\n",
        "plt.xlim(0.0001, 100000)\n",
        "plt.ylim(0.0001, 100000)\n",
        "plt.xscale('log')\n",
        "plt.yscale('log')\n",
        "plt.legend(handles=scatter2.legend_elements()[0], labels=[0.1,1,2,3,4,0,3.1,3.2])\n",
        "plt.show()"
      ]
    },
    {
      "cell_type": "markdown",
      "metadata": {
        "id": "pO0e_5fS5ES6"
      },
      "source": [
        "#### Classification of a Decomposed Dataset"
      ]
    },
    {
      "cell_type": "markdown",
      "metadata": {
        "id": "mu7aXUd75ES6"
      },
      "source": [
        "* Should you decompose **before** or **after** the split?"
      ]
    },
    {
      "cell_type": "markdown",
      "metadata": {
        "id": "xgSnQ9nL5ES6"
      },
      "source": [
        "* How should you consider metric success? e.g. if a $Dark\\:\\color{red}{red}$ sample gets classified as a $Light\\:\\color{red}{red}$ one "
      ]
    },
    {
      "cell_type": "markdown",
      "metadata": {
        "id": "F-8atZhe5ES6"
      },
      "source": [
        "* Notice that this is not the only way to do class decomposition, there are numerous ways to do it!"
      ]
    },
    {
      "cell_type": "markdown",
      "metadata": {
        "id": "HOGZv5_U5ES6"
      },
      "source": [
        "* You can check [Elyan & Gaber 2017](https://rgu-repository.worktribe.com/output/246044) paper to see an advanced approach"
      ]
    },
    {
      "cell_type": "markdown",
      "metadata": {
        "id": "5vEn5qgS5ES6"
      },
      "source": [
        "* This method uses `Random Forests` and `genetic algorithms`"
      ]
    },
    {
      "cell_type": "markdown",
      "metadata": {
        "id": "YOcC8Sqo5ES7"
      },
      "source": [
        "### Image Augmentation"
      ]
    },
    {
      "cell_type": "markdown",
      "metadata": {
        "id": "fj0cedhh5ES7"
      },
      "source": [
        "* In the particular case of images, we can also recur to creating synthetic/artificial images"
      ]
    },
    {
      "cell_type": "markdown",
      "metadata": {
        "id": "i4-L-f0n5ES7"
      },
      "source": [
        "* This process relies on image transformation functions and properties"
      ]
    },
    {
      "cell_type": "markdown",
      "metadata": {
        "id": "J31lYwCp5ES7"
      },
      "source": [
        "* Examples: DIY, affine transform, `Tensorflow`/`Keras` (deep learning frameworks), Genarative Adversarial Networks (GANs), etc."
      ]
    },
    {
      "cell_type": "markdown",
      "metadata": {
        "id": "3cxezzPR5ES9"
      },
      "source": [
        "![Fig 2. Image Augmentation](https://www.dropbox.com/s/40ribd6hmymuz7b/imgaug.png?raw=1)"
      ]
    },
    {
      "cell_type": "markdown",
      "metadata": {
        "id": "SgajI8v35ES-"
      },
      "source": [
        "# LAB"
      ]
    }
  ],
  "metadata": {
    "celltoolbar": "Slideshow",
    "hide_input": false,
    "kernelspec": {
      "display_name": "Python 3",
      "language": "python",
      "name": "python3"
    },
    "language_info": {
      "codemirror_mode": {
        "name": "ipython",
        "version": 3
      },
      "file_extension": ".py",
      "mimetype": "text/x-python",
      "name": "python",
      "nbconvert_exporter": "python",
      "pygments_lexer": "ipython3",
      "version": "3.7.3"
    },
    "rise": {
      "enable_chalkboard": true
    },
    "varInspector": {
      "cols": {
        "lenName": 16,
        "lenType": 16,
        "lenVar": 40
      },
      "kernels_config": {
        "python": {
          "delete_cmd_postfix": "",
          "delete_cmd_prefix": "del ",
          "library": "var_list.py",
          "varRefreshCmd": "print(var_dic_list())"
        },
        "r": {
          "delete_cmd_postfix": ") ",
          "delete_cmd_prefix": "rm(",
          "library": "var_list.r",
          "varRefreshCmd": "cat(var_dic_list()) "
        }
      },
      "types_to_exclude": [
        "module",
        "function",
        "builtin_function_or_method",
        "instance",
        "_Feature"
      ],
      "window_display": false
    },
    "colab": {
      "name": "CMM536_T5_Lec.ipynb",
      "provenance": [],
      "collapsed_sections": [
        "ECTta6o15ESH",
        "3Z9DHhsf5ESP",
        "5M4DmmoO5ESS",
        "3Fw2KFj75ESc",
        "OTF0OB-35ESf",
        "q2KogI1P5ESi",
        "Sz6K74He5ESj",
        "pO0e_5fS5ES6",
        "YOcC8Sqo5ES7"
      ],
      "include_colab_link": true
    }
  },
  "nbformat": 4,
  "nbformat_minor": 0
}