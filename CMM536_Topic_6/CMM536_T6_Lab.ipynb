{
  "cells": [
    {
      "cell_type": "markdown",
      "metadata": {
        "id": "view-in-github",
        "colab_type": "text"
      },
      "source": [
        "<a href=\"https://colab.research.google.com/github/carlosfmorenog/CMM536/blob/master/CMM536_Topic_6/CMM536_T6_Lab.ipynb\" target=\"_parent\"><img src=\"https://colab.research.google.com/assets/colab-badge.svg\" alt=\"Open In Colab\"/></a>"
      ]
    },
    {
      "cell_type": "markdown",
      "metadata": {
        "id": "C4tdXOcS5WWp"
      },
      "source": [
        "# Topic 6 Laboratory"
      ]
    },
    {
      "cell_type": "markdown",
      "metadata": {
        "id": "t2EWonTy5WWs"
      },
      "source": [
        "In this activity, you will use imbalanced datasets from the [Keel](https://sci2s.ugr.es/keel/imbalanced.php) public repository to appropriately evaluate performance metric in two popular classifiers."
      ]
    },
    {
      "cell_type": "markdown",
      "metadata": {
        "id": "c6JUsLRw5WWu"
      },
      "source": [
        "## Performance Evaluation in Binary Datasets"
      ]
    },
    {
      "cell_type": "markdown",
      "metadata": {
        "id": "2fJal5Ip5WWw"
      },
      "source": [
        "### Downloading and making sense of the necessary data"
      ]
    },
    {
      "cell_type": "markdown",
      "metadata": {
        "id": "Gu4pzOmf5WWy"
      },
      "source": [
        "We will use the [glass](https://sci2s.ugr.es/keel/dataset/data/imbalanced/glass-names.txt) dataset. This one has 214 samples of 7 different types of glasses. Each glass sample has 9 features, each corresponding to a different element that composes a glass sample: Rl(??), Na, Mg, Al, Si, K, Ca, Ba and Fe."
      ]
    },
    {
      "cell_type": "markdown",
      "metadata": {
        "id": "v2VUqk175WW0"
      },
      "source": [
        "Since we will start with binary datasets, we will first use the [glass0](https://sci2s.ugr.es/keel/keel-dataset/datasets/imbalanced/imb_IRlowerThan9/names/glass0-names.txt) version of the dataset. The only difference of this one with respect of the original one is that a certain glass class called `class 0` is compared against the rest of the glass classes."
      ]
    },
    {
      "cell_type": "markdown",
      "metadata": {
        "id": "mGNrdK0K5WW1"
      },
      "source": [
        "Click [here](https://sci2s.ugr.es/keel/dataset.php?cod=141) to visit the *glass0* description website , go to the bottom (where it says **Files and additional references** and download the **complete data set**. Unzip and you should get a file with the extension *.dat*."
      ]
    },
    {
      "cell_type": "markdown",
      "metadata": {
        "id": "LuohvU6m5WW2"
      },
      "source": [
        "### Loading the Data"
      ]
    },
    {
      "cell_type": "markdown",
      "metadata": {
        "id": "Et31V_AE5WW2"
      },
      "source": [
        "Now we will import the data from the file into Python, to do so, run the following cells:"
      ]
    },
    {
      "cell_type": "code",
      "source": [
        "## First run this cell to \"import\" glass0.dat into Google Colab\n",
        "from google.colab import files\n",
        "uploaded = files.upload()"
      ],
      "metadata": {
        "colab": {
          "resources": {
            "http://localhost:8080/nbextensions/google.colab/files.js": {
              "data": "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",
              "ok": true,
              "headers": [
                [
                  "content-type",
                  "application/javascript"
                ]
              ],
              "status": 200,
              "status_text": "OK"
            }
          },
          "base_uri": "https://localhost:8080/",
          "height": 75
        },
        "id": "frPUQb6k5kuB",
        "outputId": "862aa160-2b45-457c-8c8f-5f0f636c2544"
      },
      "execution_count": 1,
      "outputs": [
        {
          "output_type": "display_data",
          "data": {
            "text/html": [
              "\n",
              "     <input type=\"file\" id=\"files-6f548b6d-f3d0-468e-a514-301785f1b1e5\" name=\"files[]\" multiple disabled\n",
              "        style=\"border:none\" />\n",
              "     <output id=\"result-6f548b6d-f3d0-468e-a514-301785f1b1e5\">\n",
              "      Upload widget is only available when the cell has been executed in the\n",
              "      current browser session. Please rerun this cell to enable.\n",
              "      </output>\n",
              "      <script src=\"/nbextensions/google.colab/files.js\"></script> "
            ],
            "text/plain": [
              "<IPython.core.display.HTML object>"
            ]
          },
          "metadata": {}
        },
        {
          "output_type": "stream",
          "name": "stdout",
          "text": [
            "Saving glass0.dat to glass0.dat\n"
          ]
        }
      ]
    },
    {
      "cell_type": "code",
      "execution_count": 2,
      "metadata": {
        "colab": {
          "base_uri": "https://localhost:8080/"
        },
        "id": "lsPfQVsp5WW4",
        "outputId": "592d7158-cdf4-4c1b-a0f0-e35a594f8c3a"
      },
      "outputs": [
        {
          "output_type": "stream",
          "name": "stdout",
          "text": [
            "[[ 1.51588824 12.87795     3.43036    ...  8.04468     0.\n",
            "   0.1224    ]\n",
            " [ 1.5176423  12.9777      3.53812    ...  8.52888     0.\n",
            "   0.        ]\n",
            " [ 1.52212996 14.20795     3.82099    ...  9.5726      0.\n",
            "   0.        ]\n",
            " ...\n",
            " [ 1.51837126 14.321       3.25974    ...  5.78508     1.62855\n",
            "   0.        ]\n",
            " [ 1.51657164 14.7998      0.         ...  8.2814      1.71045\n",
            "   0.        ]\n",
            " [ 1.51732338 14.95275     0.         ...  8.61496     1.5498\n",
            "   0.        ]] (214, 9)\n",
            "[' positive' ' positive' ' positive' ' positive' ' positive' ' positive'\n",
            " ' positive' ' positive' ' positive' ' positive' ' positive' ' positive'\n",
            " ' positive' ' positive' ' positive' ' positive' ' positive' ' positive'\n",
            " ' positive' ' positive' ' positive' ' positive' ' positive' ' positive'\n",
            " ' positive' ' positive' ' positive' ' positive' ' positive' ' positive'\n",
            " ' positive' ' positive' ' positive' ' positive' ' positive' ' positive'\n",
            " ' positive' ' positive' ' positive' ' positive' ' positive' ' positive'\n",
            " ' positive' ' positive' ' positive' ' positive' ' positive' ' positive'\n",
            " ' positive' ' positive' ' positive' ' positive' ' positive' ' positive'\n",
            " ' positive' ' positive' ' positive' ' positive' ' positive' ' positive'\n",
            " ' positive' ' positive' ' positive' ' positive' ' positive' ' positive'\n",
            " ' positive' ' positive' ' positive' ' positive' ' negative' ' negative'\n",
            " ' negative' ' negative' ' negative' ' negative' ' negative' ' negative'\n",
            " ' negative' ' negative' ' negative' ' negative' ' negative' ' negative'\n",
            " ' negative' ' negative' ' negative' ' negative' ' negative' ' negative'\n",
            " ' negative' ' negative' ' negative' ' negative' ' negative' ' negative'\n",
            " ' negative' ' negative' ' negative' ' negative' ' negative' ' negative'\n",
            " ' negative' ' negative' ' negative' ' negative' ' negative' ' negative'\n",
            " ' negative' ' negative' ' negative' ' negative' ' negative' ' negative'\n",
            " ' negative' ' negative' ' negative' ' negative' ' negative' ' negative'\n",
            " ' negative' ' negative' ' negative' ' negative' ' negative' ' negative'\n",
            " ' negative' ' negative' ' negative' ' negative' ' negative' ' negative'\n",
            " ' negative' ' negative' ' negative' ' negative' ' negative' ' negative'\n",
            " ' negative' ' negative' ' negative' ' negative' ' negative' ' negative'\n",
            " ' negative' ' negative' ' negative' ' negative' ' negative' ' negative'\n",
            " ' negative' ' negative' ' negative' ' negative' ' negative' ' negative'\n",
            " ' negative' ' negative' ' negative' ' negative' ' negative' ' negative'\n",
            " ' negative' ' negative' ' negative' ' negative' ' negative' ' negative'\n",
            " ' negative' ' negative' ' negative' ' negative' ' negative' ' negative'\n",
            " ' negative' ' negative' ' negative' ' negative' ' negative' ' negative'\n",
            " ' negative' ' negative' ' negative' ' negative' ' negative' ' negative'\n",
            " ' negative' ' negative' ' negative' ' negative' ' negative' ' negative'\n",
            " ' negative' ' negative' ' negative' ' negative' ' negative' ' negative'\n",
            " ' negative' ' negative' ' negative' ' negative' ' negative' ' negative'\n",
            " ' negative' ' negative' ' negative' ' negative' ' negative' ' negative'\n",
            " ' negative' ' negative' ' negative' ' negative'] (214,)\n"
          ]
        }
      ],
      "source": [
        "import numpy as np\n",
        "\n",
        "data = np.genfromtxt('/content/glass0.dat',\n",
        "                     usecols=range(9), # this only brings the first nine columns of the dataset\n",
        "                     skip_header=14, # The first 14 lines of the .dat contain a description\n",
        "                     delimiter=',')\n",
        "\n",
        "\n",
        "target_names = np.genfromtxt('/content/glass0.dat',\n",
        "                     usecols=range(9,10), # This brings the last column of the dataset, which has the class\n",
        "                     dtype = None,\n",
        "                     encoding = None, # This helps us get the strings in a numpy array\n",
        "                     skip_header=14,\n",
        "                     delimiter=',')\n",
        "\n",
        "print(data,data.shape)\n",
        "print(target_names,target_names.shape)"
      ]
    },
    {
      "cell_type": "markdown",
      "metadata": {
        "id": "lSX1BsEi5WW5"
      },
      "source": [
        "Notice that once again, we will store the data and the target in separate variables. Moreover, we will generate a new target variable called `target` with `positive=0` and `negative=1` using **list comprehension** techniques:"
      ]
    },
    {
      "cell_type": "code",
      "execution_count": null,
      "metadata": {
        "id": "nwcZj_Xm5WW6"
      },
      "outputs": [],
      "source": [
        "target = []\n",
        "target = [0 if i == ' positive' else 1 for i in target_names]\n",
        "target=np.array(target)\n",
        "print(target,target.shape)"
      ]
    },
    {
      "cell_type": "markdown",
      "metadata": {
        "id": "-eedvoWH5WW7"
      },
      "source": [
        "Notice that we chose 0 to be the positive and 1 to be the rest since the [glass0 documentation](https://sci2s.ugr.es/keel/dataset.php?cod=141) said so!"
      ]
    },
    {
      "cell_type": "markdown",
      "metadata": {
        "id": "s_F_5FEW5WW9"
      },
      "source": [
        "### Training the Classifiers"
      ]
    },
    {
      "cell_type": "markdown",
      "metadata": {
        "id": "UhExsD5Z5WW9"
      },
      "source": [
        "Now we need to train a supervised learning model to evaluate. In this case we will use two popular classification models so that we can compare which is better for this dataset: **Support Vector Machine (SVM)** vs. **Random Forests (RF)**:"
      ]
    },
    {
      "cell_type": "markdown",
      "metadata": {
        "id": "bKC5uFzz5WW-"
      },
      "source": [
        "First we need to split our dataset into training and testing sets (80% train, 20% test). You have already done this in the past!"
      ]
    },
    {
      "cell_type": "code",
      "execution_count": null,
      "metadata": {
        "id": "LSS3gctE5WW-"
      },
      "outputs": [],
      "source": [
        "## Use this cell to split your dataset into training and testing w/ stratification\n"
      ]
    },
    {
      "cell_type": "markdown",
      "metadata": {
        "id": "xzefIxkJ5WXA"
      },
      "source": [
        "Now train a SVM model called `model_svm` using the training data and predict the test data. Store the fitted model in a variable called `clf_svm` and the prediction results in a variable called `y_svm`."
      ]
    },
    {
      "cell_type": "code",
      "execution_count": null,
      "metadata": {
        "id": "ws1U6E1a5WXA"
      },
      "outputs": [],
      "source": [
        "## Use this cell to train a SVM model to predict the labels of the test data\n"
      ]
    },
    {
      "cell_type": "markdown",
      "metadata": {
        "id": "SAN8o7Fm5WXB"
      },
      "source": [
        "Likewise, train a RF model called `model_rf` (using the `RandomForestClassifier()` function contained in `sklearn.ensemble` package) on the same training data and predict the test data. Store the results in variables called `clf_rf` and `y_rf`."
      ]
    },
    {
      "cell_type": "code",
      "execution_count": null,
      "metadata": {
        "id": "Yg5OTy1W5WXB"
      },
      "outputs": [],
      "source": [
        "## Use this cell to train a RF model to predict the labels of the test data\n"
      ]
    },
    {
      "cell_type": "markdown",
      "metadata": {
        "id": "QnEi9QwS5WXC"
      },
      "source": [
        "Both `y_svm` and `y_rf` should be *numpy* array vectors of size (43,)"
      ]
    },
    {
      "cell_type": "markdown",
      "metadata": {
        "id": "jyi_ClLa5WXC"
      },
      "source": [
        "### Performance Evaluation Metrics"
      ]
    },
    {
      "cell_type": "markdown",
      "metadata": {
        "id": "vcrZWFTv5WXD"
      },
      "source": [
        "In week 3 lab, we saw that once that we predict the values for the test set, we can compare both the `y_test` vector with the predicted vectors (in our case `y_svm` and `y_rf`) to obtain the results. If you recall, it was quite tricky to do this as we had more classes in the vector! Therefore, this time we will do it slightly different..."
      ]
    },
    {
      "cell_type": "markdown",
      "metadata": {
        "id": "YjXyy3Zm5WXD"
      },
      "source": [
        "#### Accuracy"
      ]
    },
    {
      "cell_type": "markdown",
      "metadata": {
        "id": "BT1P6UWX5WXD"
      },
      "source": [
        "By now you should know that everything in Python can be imported! Performance metrics can be imported as well. We will first use accuracy (although it should be very clear by now that this one is not suitable for imbalanced datasets)."
      ]
    },
    {
      "cell_type": "code",
      "execution_count": null,
      "metadata": {
        "id": "L51zQvfp5WXE"
      },
      "outputs": [],
      "source": [
        "from sklearn.metrics import accuracy_score\n",
        "print('Accuracy of SVM: ', accuracy_score(y_svm, y_test))\n",
        "print('Accuracy of RF: ', accuracy_score(y_rf, y_test))"
      ]
    },
    {
      "cell_type": "markdown",
      "metadata": {
        "id": "kj_Ed1V05WXF"
      },
      "source": [
        "**Which is the best classifier in terms of accuracy?**"
      ]
    },
    {
      "cell_type": "markdown",
      "metadata": {
        "id": "b-y3u8-d5WXF"
      },
      "source": [
        "**Answer:**"
      ]
    },
    {
      "cell_type": "markdown",
      "metadata": {
        "id": "hOFZuHLs5WXF"
      },
      "source": [
        "#### AUC-ROC"
      ]
    },
    {
      "cell_type": "markdown",
      "metadata": {
        "id": "99kQsiF65WXF"
      },
      "source": [
        "In today's lecture we saw that one of the most robust metrics for accuracy in the *imbalanced* world is the area under the receiver operating characteristic curve (or AUC-ROC for short). To get this metric, we need to retrain our models, this time in a probabilistic way!"
      ]
    },
    {
      "cell_type": "markdown",
      "metadata": {
        "id": "34UAE-QA5WXF"
      },
      "source": [
        "This means that by setting the input `probability=True` when generating our SVM model (RF doesn't need it), we will not obtain a fixed output, but instead a probability (value between 0 and 1) of the classification to be 0 or 1 respectively."
      ]
    },
    {
      "cell_type": "markdown",
      "metadata": {
        "id": "llvDW8an5WXG"
      },
      "source": [
        "To keep the previous models/classes/predictions in our workspace, train new (probabilistic) models in the following cell and store the trained models as `model_svm_proba` and `model_rf_proba`, the classifiers as `clf_svm_proba` and `clf_rf_proba`, and the outputs as `y_svm_proba` and `y_rf_proba`:"
      ]
    },
    {
      "cell_type": "code",
      "execution_count": null,
      "metadata": {
        "id": "4DOn0Ub45WXG"
      },
      "outputs": [],
      "source": [
        "## Use this cell to re-train the models in a probabilistic way\n"
      ]
    },
    {
      "cell_type": "markdown",
      "metadata": {
        "id": "iEicHysL5WXH"
      },
      "source": [
        "For `y_svm_proba` and `y_rf_proba` you should get *numpy* arrays of shape (43, 2), as now each output contains the probability of each sample to be 0 (first value) or 1 (second value)."
      ]
    },
    {
      "cell_type": "markdown",
      "metadata": {
        "id": "RHTH2iu_5WXI"
      },
      "source": [
        "Now we will evaluate the AUC-ROC. We will **not** get the plot (as we don't have different thresholds), but rather we will obtain the numeric area under the curve (a value between 0 and 1, the larger the better)."
      ]
    },
    {
      "cell_type": "markdown",
      "metadata": {
        "id": "8ld4PlZf5WXI"
      },
      "source": [
        "To obtain this values, you can run the following cell (provided that you have correctly calculated `y_svm_proba` and `y_rf_proba` in the previous step):"
      ]
    },
    {
      "cell_type": "code",
      "execution_count": null,
      "metadata": {
        "id": "Ev81nojY5WXJ"
      },
      "outputs": [],
      "source": [
        "## Testing AUC-ROC considering the probabilities of the positive class (i.e. 0)\n",
        "from sklearn.metrics import roc_auc_score\n",
        "\n",
        "# First, we need to extract only the probabilities of classifying 0 (second column of our numpy arrays)\n",
        "# We can do this once again by means of list comprehension\n",
        "y_svm_proba_0 = [p[0] for p in y_svm_proba]\n",
        "y_rf_proba_0 = [p[0] for p in y_rf_proba]\n",
        "\n",
        "print('AUC for SVM: ',roc_auc_score(y_test, y_svm_proba_0))\n",
        "print('AUC for RF: ',roc_auc_score(y_test, y_rf_proba_0))"
      ]
    },
    {
      "cell_type": "markdown",
      "metadata": {
        "id": "QmTLRh585WXJ"
      },
      "source": [
        "If you are getting AUC-ROC values **smaller than 0.5** then you can simply invert them (or get the AUC-ROC for the rest/negative class) to get the actual AUC-ROC value for this classifier."
      ]
    },
    {
      "cell_type": "markdown",
      "metadata": {
        "id": "JBKOeEQt5WXK"
      },
      "source": [
        "A comprehensive explanation of why AUC-ROC cannot be smaller than 0.5 can be found [here](https://www.datascienceblog.net/post/machine-learning/interpreting-roc-curves-auc/)."
      ]
    },
    {
      "cell_type": "code",
      "execution_count": null,
      "metadata": {
        "id": "LvrO4PJL5WXK"
      },
      "outputs": [],
      "source": [
        "## Use this cell to test AUC-ROC considering the probabilities of the rest/negative class (i.e. 1)\n"
      ]
    },
    {
      "cell_type": "markdown",
      "metadata": {
        "id": "gxqrZP755WXL"
      },
      "source": [
        "**Is the classifier that was better in accuracy still better in AUC?**"
      ]
    },
    {
      "cell_type": "markdown",
      "metadata": {
        "id": "unUhs-Bh5WXM"
      },
      "source": [
        "**ANSWER:**"
      ]
    },
    {
      "cell_type": "markdown",
      "metadata": {
        "id": "hrmSUFt25WXM"
      },
      "source": [
        "### Cross Validation"
      ]
    },
    {
      "cell_type": "markdown",
      "metadata": {
        "id": "BWO9cjOx5WXN"
      },
      "source": [
        "Let's see if the previous results were not product of chance or a lucky data split! To do so, we will use cross validation with $k=5$ folds."
      ]
    },
    {
      "cell_type": "markdown",
      "metadata": {
        "id": "5DSfQ9GC5WXO"
      },
      "source": [
        "Using the `KFold()`function contained in the `sklearn.model_selection` package you can split a dataset (in this case, the original one contained in the `data` variable) by using the `get_n_splits()` method "
      ]
    },
    {
      "cell_type": "code",
      "execution_count": null,
      "metadata": {
        "id": "5OIg4eI05WXO"
      },
      "outputs": [],
      "source": [
        "from sklearn.model_selection import KFold\n",
        "kf = KFold(n_splits=5)\n",
        "kf.get_n_splits(data)\n",
        "print(kf)"
      ]
    },
    {
      "cell_type": "markdown",
      "metadata": {
        "id": "LtdvHkaa5WXP"
      },
      "source": [
        "So far you only get a `KFold` object. However, we can put this object inside a for loop to create different training and testing sets in each iteration:"
      ]
    },
    {
      "cell_type": "code",
      "execution_count": null,
      "metadata": {
        "id": "uO3S0yZk5WXQ"
      },
      "outputs": [],
      "source": [
        "i=1\n",
        "for train_index, test_index in kf.split(data):\n",
        "    print('\\nFold '+str(i)+':')\n",
        "    print('TRAIN INDEXES:', train_index)\n",
        "    print('TEST INDEXES:', test_index)\n",
        "    X_train, X_test = data[train_index], data[test_index]\n",
        "    y_train, y_test = target[train_index], target[test_index]\n",
        "    i+=1"
      ]
    },
    {
      "cell_type": "markdown",
      "metadata": {
        "id": "6px4BS-a5WXR"
      },
      "source": [
        "Notice that what is being printed in the cell above are not the samples, but the indexes from where the samples will be taken in each fold!"
      ]
    },
    {
      "cell_type": "markdown",
      "metadata": {
        "id": "Z3p4QfNm5WXS"
      },
      "source": [
        "Now use the cell below to implement the **stratified** version of KFolds. Remember that stratification will ensure that both classes are equally present in each set for every fold. "
      ]
    },
    {
      "cell_type": "code",
      "execution_count": null,
      "metadata": {
        "id": "VKDANQQh5WXS"
      },
      "outputs": [],
      "source": [
        "## Use this cell to do a KFolds split in a stratified way\n",
        "# Hint: Use StratifiedKFold\n"
      ]
    },
    {
      "cell_type": "markdown",
      "metadata": {
        "id": "5y2yrWpY5WXT"
      },
      "source": [
        "To evaluate models using cross validation you **don't** need all of this! In fact, you only use this if you want to store your folds or if you want to implement more complex models."
      ]
    },
    {
      "cell_type": "markdown",
      "metadata": {
        "id": "-k4k2avt5WXT"
      },
      "source": [
        "As a matter of fact it is easier to simply import the `cross_validate` function from the `sklearn.model_selection` package and get the scores as follows:"
      ]
    },
    {
      "cell_type": "code",
      "execution_count": null,
      "metadata": {
        "id": "tEsBeCIN5WXU"
      },
      "outputs": [],
      "source": [
        "# Cross validatig the original data (the function will do it all)\n",
        "from sklearn.model_selection import cross_validate\n",
        "\n",
        "scores_svm = cross_validate(model_svm, data, target, cv=5)\n",
        "print('SVM cross-validated scores: ', scores_svm)\n",
        "scores_rf = cross_validate(model_rf, data, target, cv=5)\n",
        "print('RF cross-validated scores: ', scores_rf)"
      ]
    },
    {
      "cell_type": "markdown",
      "metadata": {
        "id": "c42bM3dP5WXU"
      },
      "source": [
        "**From these metrics do you notice any disadvantage of RF?**"
      ]
    },
    {
      "cell_type": "markdown",
      "metadata": {
        "id": "rdyH4HDY5WXU"
      },
      "source": [
        "**Answer:**"
      ]
    },
    {
      "cell_type": "markdown",
      "metadata": {
        "id": "xUtCNfc15WXV"
      },
      "source": [
        "In fact, these are not the only metrics you can get from cross validation! Using the `cross_val_scores` function from the `sklearn.model_selection` package you can get (almost) all of the measures that we discussed in class. You can check the [scoring documentation](https://scikit-learn.org/stable/modules/model_evaluation.html) to see what you can calculate,and below you will find some examples"
      ]
    },
    {
      "cell_type": "code",
      "execution_count": null,
      "metadata": {
        "id": "CH3Bmteq5WXV"
      },
      "outputs": [],
      "source": [
        "# First we import cross_val_scores\n",
        "from sklearn.model_selection import cross_val_score"
      ]
    },
    {
      "cell_type": "code",
      "execution_count": null,
      "metadata": {
        "id": "YJ_AJk0q5WXW"
      },
      "outputs": [],
      "source": [
        "# Evaluating Accuracy for each fold\n",
        "print('Accuracy for SVM: ',cross_val_score(model_svm, data, target, cv=5, scoring = 'accuracy'))\n",
        "print('Accuracy for RF: ',cross_val_score(model_rf, data, target, cv=5, scoring = 'accuracy'))"
      ]
    },
    {
      "cell_type": "code",
      "execution_count": null,
      "metadata": {
        "id": "FystIM4F5WXW"
      },
      "outputs": [],
      "source": [
        "# Evaluating Mean Accuracy for all folds\n",
        "print('Mean Accuracy for SVM: ',np.mean(cross_val_score(model_svm, data, target, cv=5, scoring = 'accuracy')))\n",
        "print('Mean Accuracy for RF: ',np.mean(cross_val_score(model_rf, data, target, cv=5, scoring = 'accuracy')))"
      ]
    },
    {
      "cell_type": "code",
      "execution_count": null,
      "metadata": {
        "id": "bUrPYWa25WXW"
      },
      "outputs": [],
      "source": [
        "# Evaluating Precision, Recall and F1-score (both by fold and average)\n",
        "print('Precision for SVM: ',cross_val_score(model_svm, data, target, cv=5, scoring = 'precision'))\n",
        "print('Precision for RF: ',cross_val_score(model_rf, data, target, cv=5, scoring = 'precision'))\n",
        "print('Recall for SVM: ',cross_val_score(model_svm, data, target, cv=5, scoring = 'recall'))\n",
        "print('Recall for RF: ',cross_val_score(model_rf, data, target, cv=5, scoring = 'recall'))\n",
        "print('F1-Score for SVM: ',cross_val_score(model_svm, data, target, cv=5, scoring = 'f1'))\n",
        "print('F1-Score for RF: ',cross_val_score(model_rf, data, target, cv=5, scoring = 'f1'))\n",
        "\n",
        "print('Mean Precision for SVM: ',np.mean(cross_val_score(model_svm, data, target, cv=5, scoring = 'precision')))\n",
        "print('Mean Precision for RF: ',np.mean(cross_val_score(model_rf, data, target, cv=5, scoring = 'precision')))\n",
        "print('Mean Recall for SVM: ',np.mean(cross_val_score(model_svm, data, target, cv=5, scoring = 'recall')))\n",
        "print('Mean Recall for RF: ',np.mean(cross_val_score(model_rf, data, target, cv=5, scoring = 'recall')))\n",
        "print('Mean F1-Score for SVM: ',np.mean(cross_val_score(model_svm, data, target, cv=5, scoring = 'f1')))\n",
        "print('Mean F1-Score for RF: ',np.mean(cross_val_score(model_rf, data, target, cv=5, scoring = 'f1')))"
      ]
    },
    {
      "cell_type": "markdown",
      "metadata": {
        "id": "PGMaxNrK5WXX"
      },
      "source": [
        "Notice that in the Keel repository, there is already a version of the glass dataset called **5FCV**. This means that the authors of this repository already provide a \"proper\" partition of this dataset to test cross validation. If you download this version, you will get 10 *.dat* files instead of 1. **Do you know why?**"
      ]
    },
    {
      "cell_type": "markdown",
      "metadata": {
        "id": "pnMek_Ml5WXX"
      },
      "source": [
        "**Answer:**"
      ]
    },
    {
      "cell_type": "markdown",
      "source": [
        "## Bonus\n",
        "Run the tests using the 5FCV version of the dataset and compare the results"
      ],
      "metadata": {
        "id": "VMqt4-Ad7HEy"
      }
    }
  ],
  "metadata": {
    "hide_input": false,
    "kernelspec": {
      "display_name": "Python 3",
      "language": "python",
      "name": "python3"
    },
    "language_info": {
      "codemirror_mode": {
        "name": "ipython",
        "version": 3
      },
      "file_extension": ".py",
      "mimetype": "text/x-python",
      "name": "python",
      "nbconvert_exporter": "python",
      "pygments_lexer": "ipython3",
      "version": "3.7.3"
    },
    "varInspector": {
      "cols": {
        "lenName": 16,
        "lenType": 16,
        "lenVar": 40
      },
      "kernels_config": {
        "python": {
          "delete_cmd_postfix": "",
          "delete_cmd_prefix": "del ",
          "library": "var_list.py",
          "varRefreshCmd": "print(var_dic_list())"
        },
        "r": {
          "delete_cmd_postfix": ") ",
          "delete_cmd_prefix": "rm(",
          "library": "var_list.r",
          "varRefreshCmd": "cat(var_dic_list()) "
        }
      },
      "types_to_exclude": [
        "module",
        "function",
        "builtin_function_or_method",
        "instance",
        "_Feature"
      ],
      "window_display": false
    },
    "colab": {
      "name": "CMM536_T6_Lab.ipynb",
      "provenance": [],
      "collapsed_sections": [],
      "include_colab_link": true
    }
  },
  "nbformat": 4,
  "nbformat_minor": 0
}