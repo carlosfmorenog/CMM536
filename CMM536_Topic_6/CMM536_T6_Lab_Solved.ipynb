{
  "cells": [
    {
      "cell_type": "markdown",
      "metadata": {
        "id": "view-in-github",
        "colab_type": "text"
      },
      "source": [
        "<a href=\"https://colab.research.google.com/github/carlosfmorenog/CMM536/blob/master/CMM536_Topic_6/CMM536_T6_Lab_Solved.ipynb\" target=\"_parent\"><img src=\"https://colab.research.google.com/assets/colab-badge.svg\" alt=\"Open In Colab\"/></a>"
      ]
    },
    {
      "cell_type": "markdown",
      "metadata": {
        "id": "yqb-3eVyFW57"
      },
      "source": [
        "# Topic 6 Laboratory (Solved)"
      ]
    },
    {
      "cell_type": "markdown",
      "metadata": {
        "id": "gIPcUCIRFW5_"
      },
      "source": [
        "In this activity, you will use imbalanced datasets from the [Keel](https://sci2s.ugr.es/keel/imbalanced.php) public repository to appropriately evaluate performance metric in two popular classifiers."
      ]
    },
    {
      "cell_type": "markdown",
      "metadata": {
        "id": "5VaUrwAXFW6A"
      },
      "source": [
        "## Performance Evaluation in Binary Datasets"
      ]
    },
    {
      "cell_type": "markdown",
      "metadata": {
        "id": "qqSpEG6dFW6C"
      },
      "source": [
        "### Making sense of the necessary data"
      ]
    },
    {
      "cell_type": "markdown",
      "metadata": {
        "id": "N9Qm6DRNFW6D"
      },
      "source": [
        "We will use the [glass](https://sci2s.ugr.es/keel/dataset/data/imbalanced/glass-names.txt) dataset. This one has 214 samples of 7 different types of glasses. Each glass sample has 9 features, each corresponding to a different element that composes a glass sample: Rl(??), Na, Mg, Al, Si, K, Ca, Ba and Fe."
      ]
    },
    {
      "cell_type": "markdown",
      "metadata": {
        "id": "b4N6qlhxFW6G"
      },
      "source": [
        "Since we will start with binary datasets, we will first use the [glass0](https://sci2s.ugr.es/keel/keel-dataset/datasets/imbalanced/imb_IRlowerThan9/names/glass0-names.txt) version of the dataset. The only difference of this one with respect of the original one is that a certain glass class called `class 0` is compared against the rest of the glass classes."
      ]
    },
    {
      "cell_type": "markdown",
      "metadata": {
        "id": "vm66-SfMFW6I"
      },
      "source": [
        "Click [here](https://sci2s.ugr.es/keel/dataset.php?cod=141) to visit the *glass0* description website. If you go to the bottom (where it says **Files and additional references**) you an download the **complete dataset**. Unzip to get a file with the extension *.dat*. **OR**, you can simply download `glass0.dat` from Moodle!"
      ]
    },
    {
      "cell_type": "markdown",
      "metadata": {
        "id": "_4XSC08RFW6J"
      },
      "source": [
        "### Loading the Data"
      ]
    },
    {
      "cell_type": "markdown",
      "metadata": {
        "id": "dL0K9OxAFW6L"
      },
      "source": [
        "To import the dataset **directly from the source** to Colab, run the following cell. You are using Linix commands to get and unzip the file!"
      ]
    },
    {
      "cell_type": "code",
      "source": [
        "## Run this cell to import glass0.dat to Colab\n",
        "!wget -O data.zip https://sci2s.ugr.es/keel/dataset/data/imbalanced/glass0.zip\n",
        "!unzip data.zip"
      ],
      "metadata": {
        "colab": {
          "base_uri": "https://localhost:8080/"
        },
        "id": "vuEnUA9SFjIe",
        "outputId": "cb584773-685c-46fa-fa9d-d98a8e82ccc4"
      },
      "execution_count": null,
      "outputs": [
        {
          "output_type": "stream",
          "name": "stdout",
          "text": [
            "--2025-02-18 15:59:06--  https://sci2s.ugr.es/keel/dataset/data/imbalanced/glass0.zip\n",
            "Resolving sci2s.ugr.es (sci2s.ugr.es)... 150.214.190.154\n",
            "Connecting to sci2s.ugr.es (sci2s.ugr.es)|150.214.190.154|:443... connected.\n",
            "HTTP request sent, awaiting response... 200 OK\n",
            "Length: 5490 (5.4K) [application/zip]\n",
            "Saving to: ‘data.zip’\n",
            "\n",
            "\rdata.zip              0%[                    ]       0  --.-KB/s               \rdata.zip            100%[===================>]   5.36K  --.-KB/s    in 0s      \n",
            "\n",
            "2025-02-18 15:59:06 (235 MB/s) - ‘data.zip’ saved [5490/5490]\n",
            "\n",
            "Archive:  data.zip\n",
            "  inflating: glass0.dat              \n"
          ]
        }
      ]
    },
    {
      "cell_type": "code",
      "execution_count": null,
      "metadata": {
        "colab": {
          "base_uri": "https://localhost:8080/"
        },
        "id": "C-bHYmiKFW6N",
        "outputId": "d418c3b6-c1f7-4945-ad41-fbc69373646f"
      },
      "outputs": [
        {
          "output_type": "stream",
          "name": "stdout",
          "text": [
            "[[ 1.51588824 12.87795     3.43036    ...  8.04468     0.\n",
            "   0.1224    ]\n",
            " [ 1.5176423  12.9777      3.53812    ...  8.52888     0.\n",
            "   0.        ]\n",
            " [ 1.52212996 14.20795     3.82099    ...  9.5726      0.\n",
            "   0.        ]\n",
            " ...\n",
            " [ 1.51837126 14.321       3.25974    ...  5.78508     1.62855\n",
            "   0.        ]\n",
            " [ 1.51657164 14.7998      0.         ...  8.2814      1.71045\n",
            "   0.        ]\n",
            " [ 1.51732338 14.95275     0.         ...  8.61496     1.5498\n",
            "   0.        ]] (214, 9)\n",
            "[' positive' ' positive' ' positive' ' positive' ' positive' ' positive'\n",
            " ' positive' ' positive' ' positive' ' positive' ' positive' ' positive'\n",
            " ' positive' ' positive' ' positive' ' positive' ' positive' ' positive'\n",
            " ' positive' ' positive' ' positive' ' positive' ' positive' ' positive'\n",
            " ' positive' ' positive' ' positive' ' positive' ' positive' ' positive'\n",
            " ' positive' ' positive' ' positive' ' positive' ' positive' ' positive'\n",
            " ' positive' ' positive' ' positive' ' positive' ' positive' ' positive'\n",
            " ' positive' ' positive' ' positive' ' positive' ' positive' ' positive'\n",
            " ' positive' ' positive' ' positive' ' positive' ' positive' ' positive'\n",
            " ' positive' ' positive' ' positive' ' positive' ' positive' ' positive'\n",
            " ' positive' ' positive' ' positive' ' positive' ' positive' ' positive'\n",
            " ' positive' ' positive' ' positive' ' positive' ' negative' ' negative'\n",
            " ' negative' ' negative' ' negative' ' negative' ' negative' ' negative'\n",
            " ' negative' ' negative' ' negative' ' negative' ' negative' ' negative'\n",
            " ' negative' ' negative' ' negative' ' negative' ' negative' ' negative'\n",
            " ' negative' ' negative' ' negative' ' negative' ' negative' ' negative'\n",
            " ' negative' ' negative' ' negative' ' negative' ' negative' ' negative'\n",
            " ' negative' ' negative' ' negative' ' negative' ' negative' ' negative'\n",
            " ' negative' ' negative' ' negative' ' negative' ' negative' ' negative'\n",
            " ' negative' ' negative' ' negative' ' negative' ' negative' ' negative'\n",
            " ' negative' ' negative' ' negative' ' negative' ' negative' ' negative'\n",
            " ' negative' ' negative' ' negative' ' negative' ' negative' ' negative'\n",
            " ' negative' ' negative' ' negative' ' negative' ' negative' ' negative'\n",
            " ' negative' ' negative' ' negative' ' negative' ' negative' ' negative'\n",
            " ' negative' ' negative' ' negative' ' negative' ' negative' ' negative'\n",
            " ' negative' ' negative' ' negative' ' negative' ' negative' ' negative'\n",
            " ' negative' ' negative' ' negative' ' negative' ' negative' ' negative'\n",
            " ' negative' ' negative' ' negative' ' negative' ' negative' ' negative'\n",
            " ' negative' ' negative' ' negative' ' negative' ' negative' ' negative'\n",
            " ' negative' ' negative' ' negative' ' negative' ' negative' ' negative'\n",
            " ' negative' ' negative' ' negative' ' negative' ' negative' ' negative'\n",
            " ' negative' ' negative' ' negative' ' negative' ' negative' ' negative'\n",
            " ' negative' ' negative' ' negative' ' negative' ' negative' ' negative'\n",
            " ' negative' ' negative' ' negative' ' negative' ' negative' ' negative'\n",
            " ' negative' ' negative' ' negative' ' negative' ' negative' ' negative'\n",
            " ' negative' ' negative' ' negative' ' negative'] (214,)\n"
          ]
        }
      ],
      "source": [
        "# Load data and target\n",
        "import numpy as np\n",
        "\n",
        "data = np.genfromtxt('/content/glass0.dat',\n",
        "                     usecols=range(9), # this only brings the first nine columns of the dataset\n",
        "                     skip_header=14, # The first 14 lines of the .dat contain a description\n",
        "                     delimiter=',')\n",
        "\n",
        "\n",
        "target_names = np.genfromtxt('/content/glass0.dat',\n",
        "                     usecols=range(9,10), # This brings the last column of the dataset, which has the class\n",
        "                     dtype = None,\n",
        "                     encoding = None, # This helps us get the strings in a numpy array\n",
        "                     skip_header=14,\n",
        "                     delimiter=',')\n",
        "\n",
        "print(data,data.shape)\n",
        "print(target_names,target_names.shape)"
      ]
    },
    {
      "cell_type": "markdown",
      "metadata": {
        "id": "alvjq-zPFW6P"
      },
      "source": [
        "Notice that once again, we will store the data and the target in separate variables. Moreover, we will generate a new target variable called `target` with `positive=0` and `negative=1` using the **list comprehension** technique:"
      ]
    },
    {
      "cell_type": "code",
      "execution_count": null,
      "metadata": {
        "colab": {
          "base_uri": "https://localhost:8080/"
        },
        "id": "6xKNISsyFW6Q",
        "outputId": "63e586ed-b2b0-4eb0-ea00-02e18a07d6e5"
      },
      "outputs": [
        {
          "output_type": "stream",
          "name": "stdout",
          "text": [
            "[0 0 0 0 0 0 0 0 0 0 0 0 0 0 0 0 0 0 0 0 0 0 0 0 0 0 0 0 0 0 0 0 0 0 0 0 0\n",
            " 0 0 0 0 0 0 0 0 0 0 0 0 0 0 0 0 0 0 0 0 0 0 0 0 0 0 0 0 0 0 0 0 0 1 1 1 1\n",
            " 1 1 1 1 1 1 1 1 1 1 1 1 1 1 1 1 1 1 1 1 1 1 1 1 1 1 1 1 1 1 1 1 1 1 1 1 1\n",
            " 1 1 1 1 1 1 1 1 1 1 1 1 1 1 1 1 1 1 1 1 1 1 1 1 1 1 1 1 1 1 1 1 1 1 1 1 1\n",
            " 1 1 1 1 1 1 1 1 1 1 1 1 1 1 1 1 1 1 1 1 1 1 1 1 1 1 1 1 1 1 1 1 1 1 1 1 1\n",
            " 1 1 1 1 1 1 1 1 1 1 1 1 1 1 1 1 1 1 1 1 1 1 1 1 1 1 1 1 1] (214,)\n"
          ]
        }
      ],
      "source": [
        "target = []\n",
        "target = [0 if i == ' positive' else 1 for i in target_names]\n",
        "target=np.array(target)\n",
        "print(target,target.shape)"
      ]
    },
    {
      "cell_type": "markdown",
      "metadata": {
        "id": "dIrHLI36FW6R"
      },
      "source": [
        "Notice that we chose 0 to be the positive and 1 to be the negative since the [glass0 documentation](https://sci2s.ugr.es/keel/dataset.php?cod=141) said so!"
      ]
    },
    {
      "cell_type": "markdown",
      "metadata": {
        "id": "5uXtAbh1FW6R"
      },
      "source": [
        "### Training the Classifiers"
      ]
    },
    {
      "cell_type": "markdown",
      "metadata": {
        "id": "b3ZCfvDuFW6S"
      },
      "source": [
        "Now we need to train a supervised learning model to evaluate. In this case we will use two popular classification models so that we can compare which is better for this dataset: **Support Vector Machine (SVM)** vs. **Random Forests (RF)**:"
      ]
    },
    {
      "cell_type": "markdown",
      "metadata": {
        "id": "bK6SsH1yFW6S"
      },
      "source": [
        "First we need to split our dataset into training and testing sets (80% train, 20% test). You have already done this in the past!"
      ]
    },
    {
      "cell_type": "code",
      "execution_count": null,
      "metadata": {
        "colab": {
          "base_uri": "https://localhost:8080/"
        },
        "id": "hkbLC6PsFW6T",
        "outputId": "fb290a45-8252-444a-e926-2acf477c4fe4"
      },
      "outputs": [
        {
          "output_type": "stream",
          "name": "stdout",
          "text": [
            "Number of positive and negative samples in the training set:  56 115\n",
            "Number of positive and negative samples in the test set:  14 29\n"
          ]
        }
      ],
      "source": [
        "## Use this cell to split your dataset into training and testing w/ stratification\n",
        "from sklearn.model_selection import train_test_split\n",
        "X_train, X_test, y_train, y_test = train_test_split(data,target,stratify=target,test_size=0.2)\n",
        "print('Number of positive and negative samples in the training set: ',np.count_nonzero(y_train == 0),np.count_nonzero(y_train == 1))\n",
        "print('Number of positive and negative samples in the test set: ',np.count_nonzero(y_test == 0),np.count_nonzero(y_test == 1))"
      ]
    },
    {
      "cell_type": "markdown",
      "metadata": {
        "id": "VW7U9PG2FW6U"
      },
      "source": [
        "Now train a SVM model called `model_svm` using the training data and predict the test data. Store the fitted model in a variable called `clf_svm` and the prediction results in a variable called `y_svm`."
      ]
    },
    {
      "cell_type": "code",
      "execution_count": null,
      "metadata": {
        "colab": {
          "base_uri": "https://localhost:8080/"
        },
        "id": "Kf2_wutqFW6V",
        "outputId": "1698cd28-561f-4c78-c1f7-3698db5f04ca"
      },
      "outputs": [
        {
          "output_type": "stream",
          "name": "stdout",
          "text": [
            "[1 0 0 1 1 1 1 1 1 1 1 1 1 0 1 1 1 0 1 1 1 1 0 1 1 1 1 1 1 0 1 1 1 1 1 1 1\n",
            " 0 1 0 1 0 1] (43,)\n"
          ]
        }
      ],
      "source": [
        "## Use this cell to train a SVM model to predict the labels of the test data\n",
        "from sklearn.svm import SVC\n",
        "model_svm = SVC(kernel='linear')\n",
        "clf_svm = model_svm.fit(X_train,y_train)\n",
        "y_svm = model_svm.predict(X_test)\n",
        "print(y_svm,y_svm.shape)"
      ]
    },
    {
      "cell_type": "markdown",
      "metadata": {
        "id": "VeMq-yS1FW6W"
      },
      "source": [
        "Likewise, train a RF model called `model_rf` (using the `RandomForestClassifier()` function contained in `sklearn.ensemble` package) on the same training data and predict the test data. Store the results in variables called `clf_rf` and `y_rf`."
      ]
    },
    {
      "cell_type": "code",
      "execution_count": null,
      "metadata": {
        "colab": {
          "base_uri": "https://localhost:8080/"
        },
        "id": "jQvhcWavFW6X",
        "outputId": "14014ee2-5922-436f-edc7-b8cce1b69ad0"
      },
      "outputs": [
        {
          "output_type": "stream",
          "name": "stdout",
          "text": [
            "[1 0 0 0 0 1 1 1 1 1 1 1 1 0 1 1 1 0 1 1 1 1 0 1 1 1 1 1 1 0 1 1 1 1 1 1 1\n",
            " 0 1 0 1 0 1] (43,)\n"
          ]
        }
      ],
      "source": [
        "## Use this cell to train a RF model to predict the labels of the test data\n",
        "from sklearn.ensemble import RandomForestClassifier\n",
        "model_rf = RandomForestClassifier(n_estimators = 1000, random_state = 42)\n",
        "clf_rf = model_rf.fit(X_train, y_train)\n",
        "y_rf = model_rf.predict(X_test)\n",
        "print(y_rf,y_rf.shape)"
      ]
    },
    {
      "cell_type": "markdown",
      "metadata": {
        "id": "GeTaYYEsFW6X"
      },
      "source": [
        "Both `y_svm` and `y_rf` should be *numpy* array vectors of size (43,)"
      ]
    },
    {
      "cell_type": "markdown",
      "metadata": {
        "id": "s-soiiYLFW6Y"
      },
      "source": [
        "### Performance Evaluation Metrics"
      ]
    },
    {
      "cell_type": "markdown",
      "metadata": {
        "id": "x5l-zc5MFW6Y"
      },
      "source": [
        "In week 3 lab, we saw that once that we predict the values for the test set, we can compare both the `y_test` vector with the predicted vectors (in our case `y_svm` and `y_rf`) to obtain the results. If you recall, it was quite tricky to do this as we had more classes in the vector! Therefore, this time we will do it slightly different..."
      ]
    },
    {
      "cell_type": "markdown",
      "metadata": {
        "id": "v-Xkiv91FW6Y"
      },
      "source": [
        "#### Accuracy"
      ]
    },
    {
      "cell_type": "markdown",
      "metadata": {
        "id": "DCH6i6upFW6Z"
      },
      "source": [
        "By now you should know that everything in Python can be imported! Performance metrics can be imported as well. We will first use accuracy (although it should be very clear by now that this one is not suitable for imbalanced datasets)."
      ]
    },
    {
      "cell_type": "code",
      "execution_count": null,
      "metadata": {
        "colab": {
          "base_uri": "https://localhost:8080/"
        },
        "id": "8fub_QCxFW6Z",
        "outputId": "4a161566-50b8-402f-a754-715686617e77"
      },
      "outputs": [
        {
          "output_type": "stream",
          "name": "stdout",
          "text": [
            "Accuracy of SVM:  0.7906976744186046\n",
            "Accuracy of RF:  0.8372093023255814\n"
          ]
        }
      ],
      "source": [
        "from sklearn.metrics import accuracy_score\n",
        "print('Accuracy of SVM: ', accuracy_score(y_svm, y_test))\n",
        "print('Accuracy of RF: ', accuracy_score(y_rf, y_test))"
      ]
    },
    {
      "cell_type": "markdown",
      "metadata": {
        "id": "4eNi7JZbFW6a"
      },
      "source": [
        "**Which is the best classifier in terms of accuracy?**"
      ]
    },
    {
      "cell_type": "markdown",
      "metadata": {
        "id": "LJzxydfoFW6a"
      },
      "source": [
        "**Answer:** RF, since [some sources](https://elitedatascience.com/imbalanced-classes) suggest that decision-tree based models learn better from imbalance data compared to vector-based models."
      ]
    },
    {
      "cell_type": "markdown",
      "metadata": {
        "id": "hncFQayeFW6a"
      },
      "source": [
        "#### AUC-ROC"
      ]
    },
    {
      "cell_type": "markdown",
      "metadata": {
        "id": "intE_0qJFW6b"
      },
      "source": [
        "In this week's lecture we saw that one of the most robust metrics for accuracy in the *imbalanced* world is the area under the receiver operating characteristic curve (or AUC-ROC for short). To get this metric, we need to retrain our models, this time in a probabilistic way!"
      ]
    },
    {
      "cell_type": "markdown",
      "metadata": {
        "id": "mrTkRVEGFW6c"
      },
      "source": [
        "This means that by setting the input `probability=True` when generating our SVM model (RF doesn't need it) and by changing `predict` to `predict_proba`, we will not obtain a fixed output, but instead a probability (value between 0 and 1) of the classification to be 0 or 1 respectively."
      ]
    },
    {
      "cell_type": "markdown",
      "metadata": {
        "id": "5IGpcKmmFW6c"
      },
      "source": [
        "To keep the previous models/classes/predictions in our workspace, train new (probabilistic) models in the following cell and store the trained models as `model_svm_proba` and `model_rf_proba`, the classifiers as `clf_svm_proba` and `clf_rf_proba`, and the outputs as `y_svm_proba` and `y_rf_proba`:"
      ]
    },
    {
      "cell_type": "code",
      "execution_count": null,
      "metadata": {
        "colab": {
          "base_uri": "https://localhost:8080/"
        },
        "id": "mBiiqjplFW6d",
        "outputId": "f6f548f4-bc9c-4de1-e6b4-3ca950aec6bc"
      },
      "outputs": [
        {
          "output_type": "stream",
          "name": "stdout",
          "text": [
            "[[1.15009056e-06 9.99998850e-01]\n",
            " [7.15473282e-01 2.84526718e-01]\n",
            " [8.05246444e-01 1.94753556e-01]\n",
            " [3.87624827e-01 6.12375173e-01]\n",
            " [4.56021534e-01 5.43978466e-01]\n",
            " [3.53214303e-01 6.46785697e-01]\n",
            " [2.50324793e-01 7.49675207e-01]\n",
            " [8.13670943e-06 9.99991863e-01]\n",
            " [3.15542156e-01 6.84457844e-01]\n",
            " [4.48333398e-01 5.51666602e-01]\n",
            " [3.18470282e-01 6.81529718e-01]\n",
            " [3.94831976e-01 6.05168024e-01]\n",
            " [4.67455823e-02 9.53254418e-01]\n",
            " [7.45703186e-01 2.54296814e-01]\n",
            " [2.86412734e-01 7.13587266e-01]\n",
            " [6.67364519e-06 9.99993326e-01]\n",
            " [6.57218899e-02 9.34278110e-01]\n",
            " [8.76522627e-01 1.23477373e-01]\n",
            " [2.97443861e-02 9.70255614e-01]\n",
            " [1.65983082e-06 9.99998340e-01]\n",
            " [1.88105199e-02 9.81189480e-01]\n",
            " [2.14956458e-07 9.99999785e-01]\n",
            " [5.13394744e-01 4.86605256e-01]\n",
            " [4.21130269e-01 5.78869731e-01]\n",
            " [7.22082729e-06 9.99992779e-01]\n",
            " [1.68669602e-01 8.31330398e-01]\n",
            " [4.30664685e-01 5.69335315e-01]\n",
            " [2.69794430e-01 7.30205570e-01]\n",
            " [4.76759981e-01 5.23240019e-01]\n",
            " [8.41027402e-01 1.58972598e-01]\n",
            " [2.84078260e-01 7.15921740e-01]\n",
            " [2.96730140e-01 7.03269860e-01]\n",
            " [4.35524602e-01 5.64475398e-01]\n",
            " [4.73182016e-01 5.26817984e-01]\n",
            " [4.87865928e-02 9.51213407e-01]\n",
            " [2.65314328e-01 7.34685672e-01]\n",
            " [3.35331847e-01 6.64668153e-01]\n",
            " [9.02082873e-01 9.79171271e-02]\n",
            " [3.22574757e-01 6.77425243e-01]\n",
            " [5.36088637e-01 4.63911363e-01]\n",
            " [4.58929750e-01 5.41070250e-01]\n",
            " [5.18885822e-01 4.81114178e-01]\n",
            " [8.90565727e-02 9.10943427e-01]] (43, 2)\n",
            "[[0.03  0.97 ]\n",
            " [0.88  0.12 ]\n",
            " [0.85  0.15 ]\n",
            " [0.56  0.44 ]\n",
            " [0.882 0.118]\n",
            " [0.33  0.67 ]\n",
            " [0.158 0.842]\n",
            " [0.    1.   ]\n",
            " [0.464 0.536]\n",
            " [0.267 0.733]\n",
            " [0.037 0.963]\n",
            " [0.429 0.571]\n",
            " [0.061 0.939]\n",
            " [0.791 0.209]\n",
            " [0.143 0.857]\n",
            " [0.025 0.975]\n",
            " [0.084 0.916]\n",
            " [0.842 0.158]\n",
            " [0.002 0.998]\n",
            " [0.021 0.979]\n",
            " [0.004 0.996]\n",
            " [0.003 0.997]\n",
            " [0.926 0.074]\n",
            " [0.451 0.549]\n",
            " [0.001 0.999]\n",
            " [0.255 0.745]\n",
            " [0.095 0.905]\n",
            " [0.034 0.966]\n",
            " [0.392 0.608]\n",
            " [0.655 0.345]\n",
            " [0.03  0.97 ]\n",
            " [0.027 0.973]\n",
            " [0.312 0.688]\n",
            " [0.328 0.672]\n",
            " [0.079 0.921]\n",
            " [0.121 0.879]\n",
            " [0.321 0.679]\n",
            " [0.672 0.328]\n",
            " [0.014 0.986]\n",
            " [0.949 0.051]\n",
            " [0.386 0.614]\n",
            " [0.774 0.226]\n",
            " [0.003 0.997]] (43, 2)\n"
          ]
        }
      ],
      "source": [
        "## Use this cell to re-train the models in a probabilistic way\n",
        "model_svm_proba = SVC(kernel='linear', probability=True)\n",
        "clf_svm_proba = model_svm_proba.fit(X_train,y_train)\n",
        "y_svm_proba = clf_svm_proba.predict_proba(X_test)\n",
        "\n",
        "model_rf_proba = RandomForestClassifier(n_estimators = 1000, random_state = 42)\n",
        "clf_rf_proba = model_rf_proba.fit(X_train, y_train)\n",
        "y_rf_proba = clf_rf_proba.predict_proba(X_test)\n",
        "\n",
        "print(y_svm_proba,y_svm_proba.shape)\n",
        "print(y_rf_proba,y_rf_proba.shape)"
      ]
    },
    {
      "cell_type": "markdown",
      "metadata": {
        "id": "Q51l8sYfFW6e"
      },
      "source": [
        "For `y_svm_proba` and `y_rf_proba` you should get *numpy* arrays of shape (43, 2), as now each output contains the probability of each sample to be 0 (first value) or 1 (second value)."
      ]
    },
    {
      "cell_type": "markdown",
      "metadata": {
        "id": "AaDbEoDVFW6e"
      },
      "source": [
        "Now we will evaluate the AUC-ROC. We will **not** get the plot (as we don't have different thresholds), but rather we will obtain the numeric area under the curve (a value between 0 and 1, the larger the better)."
      ]
    },
    {
      "cell_type": "markdown",
      "metadata": {
        "id": "oXWPAWrxFW6e"
      },
      "source": [
        "To obtain this values, you can run the following cell (provided that you have correctly calculated `y_svm_proba` and `y_rf_proba` in the previous step):"
      ]
    },
    {
      "cell_type": "code",
      "execution_count": null,
      "metadata": {
        "colab": {
          "base_uri": "https://localhost:8080/"
        },
        "id": "hKil5LVaFW6e",
        "outputId": "1fca70c4-e7c2-425c-ef19-7264a4af9b89"
      },
      "outputs": [
        {
          "output_type": "stream",
          "name": "stdout",
          "text": [
            "AUC for SVM:  0.20197044334975373\n",
            "AUC for RF:  0.10960591133004927\n"
          ]
        }
      ],
      "source": [
        "## Testing AUC-ROC considering the probabilities of the positive class (i.e. 0)\n",
        "from sklearn.metrics import roc_auc_score\n",
        "\n",
        "# First, we need to extract only the probabilities of classifying 0 (second column of our numpy arrays)\n",
        "# We can do this once again by means of list comprehension\n",
        "y_svm_proba_0 = [p[0] for p in y_svm_proba]\n",
        "y_rf_proba_0 = [p[0] for p in y_rf_proba]\n",
        "\n",
        "print('AUC for SVM: ',roc_auc_score(y_test, y_svm_proba_0))\n",
        "print('AUC for RF: ',roc_auc_score(y_test, y_rf_proba_0))"
      ]
    },
    {
      "cell_type": "markdown",
      "metadata": {
        "id": "DCPi7HrvFW6f"
      },
      "source": [
        "If you are getting AUC-ROC values **smaller than 0.5** then you can simply invert them (or get the AUC-ROC for the rest/negative class) to get the actual AUC-ROC value for this classifier."
      ]
    },
    {
      "cell_type": "markdown",
      "metadata": {
        "id": "ZhFraohzFW6f"
      },
      "source": [
        "A comprehensive explanation of why AUC-ROC cannot be smaller than 0.5 can be found [here](https://www.datascienceblog.net/post/machine-learning/interpreting-roc-curves-auc/)."
      ]
    },
    {
      "cell_type": "code",
      "execution_count": null,
      "metadata": {
        "colab": {
          "base_uri": "https://localhost:8080/"
        },
        "id": "y7Fy2Ju0FW6f",
        "outputId": "a877b7ab-5b2b-49d1-d433-b8ad16a822a8"
      },
      "outputs": [
        {
          "output_type": "stream",
          "name": "stdout",
          "text": [
            "AUC for SVM:  0.7980295566502463\n",
            "AUC for RF:  0.8903940886699507\n"
          ]
        }
      ],
      "source": [
        "## Use this cell to test AUC-ROC considering the probabilities of the rest/negative class (i.e. 1)\n",
        "from sklearn.metrics import roc_auc_score\n",
        "\n",
        "# First, we need to extract only the probabilities of classifying 1 (second column of our numpy arrays)\n",
        "# We can do this once again by means of list comprehension\n",
        "y_svm_proba_1 = [p[1] for p in y_svm_proba]\n",
        "y_rf_proba_1 = [p[1] for p in y_rf_proba]\n",
        "\n",
        "print('AUC for SVM: ',roc_auc_score(y_test, y_svm_proba_1))\n",
        "print('AUC for RF: ',roc_auc_score(y_test, y_rf_proba_1))"
      ]
    },
    {
      "cell_type": "markdown",
      "metadata": {
        "id": "vDy2_sZcFW6g"
      },
      "source": [
        "**Is the classifier that was better in accuracy still better in AUC?**"
      ]
    },
    {
      "cell_type": "markdown",
      "metadata": {
        "id": "72-aXZOpFW6g"
      },
      "source": [
        "**ANSWER:** Depends, but in this case it is."
      ]
    },
    {
      "cell_type": "markdown",
      "metadata": {
        "id": "XD60OajcFW6g"
      },
      "source": [
        "### Cross Validation"
      ]
    },
    {
      "cell_type": "markdown",
      "metadata": {
        "id": "B0L-n3qRFW6g"
      },
      "source": [
        "Let's see if the previous results were not product of chance or a lucky data split! To do so, we will use cross validation with $k=5$ folds."
      ]
    },
    {
      "cell_type": "markdown",
      "metadata": {
        "id": "ed_U3jAAFW6h"
      },
      "source": [
        "Using the `KFold()`function contained in the `sklearn.model_selection` package you can split a dataset (in this case, the original one contained in the `data` variable) by using the `get_n_splits()` method"
      ]
    },
    {
      "cell_type": "code",
      "execution_count": null,
      "metadata": {
        "colab": {
          "base_uri": "https://localhost:8080/"
        },
        "id": "iw7qnSulFW6i",
        "outputId": "b536f1ce-9a2e-433c-cc7d-df78b208f89b"
      },
      "outputs": [
        {
          "output_type": "stream",
          "name": "stdout",
          "text": [
            "KFold(n_splits=5, random_state=None, shuffle=False)\n"
          ]
        }
      ],
      "source": [
        "from sklearn.model_selection import KFold\n",
        "kf = KFold(n_splits=5)\n",
        "kf.get_n_splits(data)\n",
        "print(kf)"
      ]
    },
    {
      "cell_type": "markdown",
      "metadata": {
        "id": "BZESJ1HIFW6i"
      },
      "source": [
        "So far you only get a `KFold` object. However, we can put this object inside a for loop to create different training and testing sets in each iteration:"
      ]
    },
    {
      "cell_type": "code",
      "execution_count": null,
      "metadata": {
        "colab": {
          "base_uri": "https://localhost:8080/"
        },
        "id": "uZxNffZVFW6i",
        "outputId": "5f7113ff-1282-43b6-fa40-3bf253a45332"
      },
      "outputs": [
        {
          "output_type": "stream",
          "name": "stdout",
          "text": [
            "\n",
            "Fold 1:\n",
            "TRAIN INDEXES: [ 43  44  45  46  47  48  49  50  51  52  53  54  55  56  57  58  59  60\n",
            "  61  62  63  64  65  66  67  68  69  70  71  72  73  74  75  76  77  78\n",
            "  79  80  81  82  83  84  85  86  87  88  89  90  91  92  93  94  95  96\n",
            "  97  98  99 100 101 102 103 104 105 106 107 108 109 110 111 112 113 114\n",
            " 115 116 117 118 119 120 121 122 123 124 125 126 127 128 129 130 131 132\n",
            " 133 134 135 136 137 138 139 140 141 142 143 144 145 146 147 148 149 150\n",
            " 151 152 153 154 155 156 157 158 159 160 161 162 163 164 165 166 167 168\n",
            " 169 170 171 172 173 174 175 176 177 178 179 180 181 182 183 184 185 186\n",
            " 187 188 189 190 191 192 193 194 195 196 197 198 199 200 201 202 203 204\n",
            " 205 206 207 208 209 210 211 212 213]\n",
            "TEST INDEXES: [ 0  1  2  3  4  5  6  7  8  9 10 11 12 13 14 15 16 17 18 19 20 21 22 23\n",
            " 24 25 26 27 28 29 30 31 32 33 34 35 36 37 38 39 40 41 42]\n",
            "\n",
            "Fold 2:\n",
            "TRAIN INDEXES: [  0   1   2   3   4   5   6   7   8   9  10  11  12  13  14  15  16  17\n",
            "  18  19  20  21  22  23  24  25  26  27  28  29  30  31  32  33  34  35\n",
            "  36  37  38  39  40  41  42  86  87  88  89  90  91  92  93  94  95  96\n",
            "  97  98  99 100 101 102 103 104 105 106 107 108 109 110 111 112 113 114\n",
            " 115 116 117 118 119 120 121 122 123 124 125 126 127 128 129 130 131 132\n",
            " 133 134 135 136 137 138 139 140 141 142 143 144 145 146 147 148 149 150\n",
            " 151 152 153 154 155 156 157 158 159 160 161 162 163 164 165 166 167 168\n",
            " 169 170 171 172 173 174 175 176 177 178 179 180 181 182 183 184 185 186\n",
            " 187 188 189 190 191 192 193 194 195 196 197 198 199 200 201 202 203 204\n",
            " 205 206 207 208 209 210 211 212 213]\n",
            "TEST INDEXES: [43 44 45 46 47 48 49 50 51 52 53 54 55 56 57 58 59 60 61 62 63 64 65 66\n",
            " 67 68 69 70 71 72 73 74 75 76 77 78 79 80 81 82 83 84 85]\n",
            "\n",
            "Fold 3:\n",
            "TRAIN INDEXES: [  0   1   2   3   4   5   6   7   8   9  10  11  12  13  14  15  16  17\n",
            "  18  19  20  21  22  23  24  25  26  27  28  29  30  31  32  33  34  35\n",
            "  36  37  38  39  40  41  42  43  44  45  46  47  48  49  50  51  52  53\n",
            "  54  55  56  57  58  59  60  61  62  63  64  65  66  67  68  69  70  71\n",
            "  72  73  74  75  76  77  78  79  80  81  82  83  84  85 129 130 131 132\n",
            " 133 134 135 136 137 138 139 140 141 142 143 144 145 146 147 148 149 150\n",
            " 151 152 153 154 155 156 157 158 159 160 161 162 163 164 165 166 167 168\n",
            " 169 170 171 172 173 174 175 176 177 178 179 180 181 182 183 184 185 186\n",
            " 187 188 189 190 191 192 193 194 195 196 197 198 199 200 201 202 203 204\n",
            " 205 206 207 208 209 210 211 212 213]\n",
            "TEST INDEXES: [ 86  87  88  89  90  91  92  93  94  95  96  97  98  99 100 101 102 103\n",
            " 104 105 106 107 108 109 110 111 112 113 114 115 116 117 118 119 120 121\n",
            " 122 123 124 125 126 127 128]\n",
            "\n",
            "Fold 4:\n",
            "TRAIN INDEXES: [  0   1   2   3   4   5   6   7   8   9  10  11  12  13  14  15  16  17\n",
            "  18  19  20  21  22  23  24  25  26  27  28  29  30  31  32  33  34  35\n",
            "  36  37  38  39  40  41  42  43  44  45  46  47  48  49  50  51  52  53\n",
            "  54  55  56  57  58  59  60  61  62  63  64  65  66  67  68  69  70  71\n",
            "  72  73  74  75  76  77  78  79  80  81  82  83  84  85  86  87  88  89\n",
            "  90  91  92  93  94  95  96  97  98  99 100 101 102 103 104 105 106 107\n",
            " 108 109 110 111 112 113 114 115 116 117 118 119 120 121 122 123 124 125\n",
            " 126 127 128 172 173 174 175 176 177 178 179 180 181 182 183 184 185 186\n",
            " 187 188 189 190 191 192 193 194 195 196 197 198 199 200 201 202 203 204\n",
            " 205 206 207 208 209 210 211 212 213]\n",
            "TEST INDEXES: [129 130 131 132 133 134 135 136 137 138 139 140 141 142 143 144 145 146\n",
            " 147 148 149 150 151 152 153 154 155 156 157 158 159 160 161 162 163 164\n",
            " 165 166 167 168 169 170 171]\n",
            "\n",
            "Fold 5:\n",
            "TRAIN INDEXES: [  0   1   2   3   4   5   6   7   8   9  10  11  12  13  14  15  16  17\n",
            "  18  19  20  21  22  23  24  25  26  27  28  29  30  31  32  33  34  35\n",
            "  36  37  38  39  40  41  42  43  44  45  46  47  48  49  50  51  52  53\n",
            "  54  55  56  57  58  59  60  61  62  63  64  65  66  67  68  69  70  71\n",
            "  72  73  74  75  76  77  78  79  80  81  82  83  84  85  86  87  88  89\n",
            "  90  91  92  93  94  95  96  97  98  99 100 101 102 103 104 105 106 107\n",
            " 108 109 110 111 112 113 114 115 116 117 118 119 120 121 122 123 124 125\n",
            " 126 127 128 129 130 131 132 133 134 135 136 137 138 139 140 141 142 143\n",
            " 144 145 146 147 148 149 150 151 152 153 154 155 156 157 158 159 160 161\n",
            " 162 163 164 165 166 167 168 169 170 171]\n",
            "TEST INDEXES: [172 173 174 175 176 177 178 179 180 181 182 183 184 185 186 187 188 189\n",
            " 190 191 192 193 194 195 196 197 198 199 200 201 202 203 204 205 206 207\n",
            " 208 209 210 211 212 213]\n"
          ]
        }
      ],
      "source": [
        "i=1\n",
        "for train_index, test_index in kf.split(data):\n",
        "    print('\\nFold '+str(i)+':')\n",
        "    print('TRAIN INDEXES:', train_index)\n",
        "    print('TEST INDEXES:', test_index)\n",
        "    X_train, X_test = data[train_index], data[test_index]\n",
        "    y_train, y_test = target[train_index], target[test_index]\n",
        "    i+=1"
      ]
    },
    {
      "cell_type": "markdown",
      "metadata": {
        "id": "1BgJ7AoEFW6k"
      },
      "source": [
        "Notice that what is being printed in the cell above are not the samples, but the indexes from where the samples will be taken in each fold!"
      ]
    },
    {
      "cell_type": "markdown",
      "metadata": {
        "id": "IzLdeWxXFW6m"
      },
      "source": [
        "Now use the cell below to implement the **stratified** version of KFolds. Remember that stratification will ensure that both classes are equally present in each set for every fold."
      ]
    },
    {
      "cell_type": "code",
      "execution_count": null,
      "metadata": {
        "colab": {
          "base_uri": "https://localhost:8080/"
        },
        "id": "KY0uftkQFW6o",
        "outputId": "c585a4cf-17a2-4930-8ddd-55732f47ec51"
      },
      "outputs": [
        {
          "output_type": "stream",
          "name": "stdout",
          "text": [
            "StratifiedKFold(n_splits=5, random_state=None, shuffle=False)\n"
          ]
        }
      ],
      "source": [
        "## Use this cell to do a KFolds split in a stratified way\n",
        "# Hint: Use StratifiedKFold\n",
        "from sklearn.model_selection import StratifiedKFold\n",
        "kf_strat = StratifiedKFold(n_splits=5)\n",
        "kf_strat.get_n_splits(data, target)\n",
        "print(kf_strat)"
      ]
    },
    {
      "cell_type": "markdown",
      "metadata": {
        "id": "LpKr3WEIFW6q"
      },
      "source": [
        "To evaluate models using cross validation you **don't** need all of this! In fact, you only use this if you want to store your folds or if you want to implement more complex models."
      ]
    },
    {
      "cell_type": "markdown",
      "metadata": {
        "id": "UM8M7pSQFW6q"
      },
      "source": [
        "As a matter of fact it is easier to simply import the `cross_validate` function from the `sklearn.model_selection` package and get the scores as follows:"
      ]
    },
    {
      "cell_type": "code",
      "execution_count": null,
      "metadata": {
        "colab": {
          "base_uri": "https://localhost:8080/"
        },
        "id": "GQyTV7ZhFW6r",
        "outputId": "bd092160-192e-4439-f3fe-91b9c6d9c502"
      },
      "outputs": [
        {
          "output_type": "stream",
          "name": "stdout",
          "text": [
            "SVM cross-validated scores:  {'fit_time': array([0.01265383, 0.008919  , 0.01169252, 0.01165199, 0.0165143 ]), 'score_time': array([0.00155091, 0.00315356, 0.00368977, 0.00476646, 0.00163722]), 'test_score': array([0.65116279, 0.72093023, 0.74418605, 0.79069767, 0.76190476])}\n",
            "RF cross-validated scores:  {'fit_time': array([5.22920299, 2.48337793, 1.48193789, 1.58507061, 2.29550672]), 'score_time': array([0.20600367, 0.07307172, 0.06779122, 0.10320139, 0.06229401]), 'test_score': array([0.90697674, 0.88372093, 0.86046512, 0.88372093, 0.85714286])}\n"
          ]
        }
      ],
      "source": [
        "# Cross validatig the original data (the function will do it all)\n",
        "from sklearn.model_selection import cross_validate\n",
        "\n",
        "scores_svm = cross_validate(model_svm, data, target, cv=5)\n",
        "print('SVM cross-validated scores: ', scores_svm)\n",
        "scores_rf = cross_validate(model_rf, data, target, cv=5)\n",
        "print('RF cross-validated scores: ', scores_rf)"
      ]
    },
    {
      "cell_type": "markdown",
      "metadata": {
        "id": "c0z5eqOeFW6r"
      },
      "source": [
        "**From these metrics do you notice any disadvantage of RF?**"
      ]
    },
    {
      "cell_type": "markdown",
      "metadata": {
        "id": "BtqEMu5VFW6s"
      },
      "source": [
        "**Answer:** RF takes longer to fit!"
      ]
    },
    {
      "cell_type": "markdown",
      "metadata": {
        "id": "co9pp2G4FW6s"
      },
      "source": [
        "In fact, these are not the only metrics you can get from cross validation! Using the `cross_val_scores` function from the `sklearn.model_selection` package you can get (almost) all of the measures that we discussed in class. You can check the [scoring documentation](https://scikit-learn.org/stable/modules/model_evaluation.html) to see what you can calculate,and below you will find some examples"
      ]
    },
    {
      "cell_type": "code",
      "execution_count": null,
      "metadata": {
        "id": "_J2QvYYIFW6s"
      },
      "outputs": [],
      "source": [
        "# First we import cross_val_scores\n",
        "from sklearn.model_selection import cross_val_score"
      ]
    },
    {
      "cell_type": "code",
      "execution_count": null,
      "metadata": {
        "colab": {
          "base_uri": "https://localhost:8080/"
        },
        "id": "86-AyTqYFW6s",
        "outputId": "4b87fea8-e480-4524-8564-54d122c270d6"
      },
      "outputs": [
        {
          "output_type": "stream",
          "name": "stdout",
          "text": [
            "Accuracy for SVM:  [0.65116279 0.72093023 0.74418605 0.79069767 0.76190476]\n",
            "Accuracy for RF:  [0.90697674 0.88372093 0.86046512 0.88372093 0.85714286]\n"
          ]
        }
      ],
      "source": [
        "# Evaluating Accuracy for each fold\n",
        "print('Accuracy for SVM: ',cross_val_score(model_svm, data, target, cv=5, scoring = 'accuracy'))\n",
        "print('Accuracy for RF: ',cross_val_score(model_rf, data, target, cv=5, scoring = 'accuracy'))"
      ]
    },
    {
      "cell_type": "code",
      "execution_count": null,
      "metadata": {
        "colab": {
          "base_uri": "https://localhost:8080/"
        },
        "id": "ofJujm7dFW6s",
        "outputId": "59b6a0a0-c866-47fa-c082-20885a5640b9"
      },
      "outputs": [
        {
          "output_type": "stream",
          "name": "stdout",
          "text": [
            "Mean Accuracy for SVM:  0.7337763012181617\n",
            "Mean Accuracy for RF:  0.8784053156146179\n"
          ]
        }
      ],
      "source": [
        "# Evaluating Mean Accuracy for all folds\n",
        "print('Mean Accuracy for SVM: ',np.mean(cross_val_score(model_svm, data, target, cv=5, scoring = 'accuracy')))\n",
        "print('Mean Accuracy for RF: ',np.mean(cross_val_score(model_rf, data, target, cv=5, scoring = 'accuracy')))"
      ]
    },
    {
      "cell_type": "code",
      "execution_count": null,
      "metadata": {
        "colab": {
          "base_uri": "https://localhost:8080/"
        },
        "id": "kA6YMhNCFW6s",
        "outputId": "7a243ac7-8e70-44a0-c83b-f5aea7508911"
      },
      "outputs": [
        {
          "output_type": "stream",
          "name": "stdout",
          "text": [
            "Precision for SVM:  [0.75       0.84       0.8        0.79411765 0.73684211]\n",
            "Precision for RF:  [0.93103448 0.92857143 0.96       0.9        0.84375   ]\n",
            "Recall for SVM:  [0.72413793 0.72413793 0.82758621 0.93103448 1.        ]\n",
            "Recall for RF:  [0.93103448 0.89655172 0.82758621 0.93103448 0.96428571]\n",
            "F1-Score for SVM:  [0.73684211 0.77777778 0.81355932 0.85714286 0.84848485]\n",
            "F1-Score for RF:  [0.93103448 0.9122807  0.88888889 0.91525424 0.9       ]\n",
            "Mean Precision for SVM:  0.7841919504643962\n",
            "Mean Precision for RF:  0.9126711822660099\n",
            "Mean Recall for SVM:  0.8413793103448276\n",
            "Mean Recall for RF:  0.9100985221674875\n",
            "Mean F1-Score for SVM:  0.8067613821405079\n",
            "Mean F1-Score for RF:  0.9094916621380064\n"
          ]
        }
      ],
      "source": [
        "# Evaluating Precision, Recall and F1-score (both by fold and average)\n",
        "print('Precision for SVM: ',cross_val_score(model_svm, data, target, cv=5, scoring = 'precision'))\n",
        "print('Precision for RF: ',cross_val_score(model_rf, data, target, cv=5, scoring = 'precision'))\n",
        "print('Recall for SVM: ',cross_val_score(model_svm, data, target, cv=5, scoring = 'recall'))\n",
        "print('Recall for RF: ',cross_val_score(model_rf, data, target, cv=5, scoring = 'recall'))\n",
        "print('F1-Score for SVM: ',cross_val_score(model_svm, data, target, cv=5, scoring = 'f1'))\n",
        "print('F1-Score for RF: ',cross_val_score(model_rf, data, target, cv=5, scoring = 'f1'))\n",
        "\n",
        "print('Mean Precision for SVM: ',np.mean(cross_val_score(model_svm, data, target, cv=5, scoring = 'precision')))\n",
        "print('Mean Precision for RF: ',np.mean(cross_val_score(model_rf, data, target, cv=5, scoring = 'precision')))\n",
        "print('Mean Recall for SVM: ',np.mean(cross_val_score(model_svm, data, target, cv=5, scoring = 'recall')))\n",
        "print('Mean Recall for RF: ',np.mean(cross_val_score(model_rf, data, target, cv=5, scoring = 'recall')))\n",
        "print('Mean F1-Score for SVM: ',np.mean(cross_val_score(model_svm, data, target, cv=5, scoring = 'f1')))\n",
        "print('Mean F1-Score for RF: ',np.mean(cross_val_score(model_rf, data, target, cv=5, scoring = 'f1')))"
      ]
    },
    {
      "cell_type": "markdown",
      "metadata": {
        "id": "VdrNMJV6FW6t"
      },
      "source": [
        "Notice that in the Keel repository, there is already a version of the glass dataset called **5FCV**. This means that the authors of this repository already provide a \"proper\" partition of this dataset to test cross validation. If you download this version, you will get 10 *.dat* files instead of 1. **Do you know why?**"
      ]
    },
    {
      "cell_type": "markdown",
      "metadata": {
        "id": "B-NCxQvaFW6u"
      },
      "source": [
        "**Answer:** Because there are 5 pairs of files, one for each fold of train and test data."
      ]
    },
    {
      "cell_type": "markdown",
      "metadata": {
        "id": "FBKbKbTMFW6u"
      },
      "source": [
        "## Bonus"
      ]
    },
    {
      "cell_type": "code",
      "source": [
        "## Run this cell to import galss0.dat to Colab\n",
        "!wget -O data_cv.zip https://sci2s.ugr.es/keel/dataset/data/imbalanced/glass0-5-fold.zip\n",
        "!unzip data_cv.zip"
      ],
      "metadata": {
        "colab": {
          "base_uri": "https://localhost:8080/"
        },
        "id": "KAzK_GxbFry-",
        "outputId": "7d626ffc-d49d-4fb4-ccb0-1e8bce8a1e12"
      },
      "execution_count": null,
      "outputs": [
        {
          "output_type": "stream",
          "name": "stdout",
          "text": [
            "--2025-02-18 16:00:50--  https://sci2s.ugr.es/keel/dataset/data/imbalanced/glass0-5-fold.zip\n",
            "Resolving sci2s.ugr.es (sci2s.ugr.es)... 150.214.190.154\n",
            "Connecting to sci2s.ugr.es (sci2s.ugr.es)|150.214.190.154|:443... connected.\n",
            "HTTP request sent, awaiting response... 200 OK\n",
            "Length: 30292 (30K) [application/zip]\n",
            "Saving to: ‘data_cv.zip’\n",
            "\n",
            "data_cv.zip         100%[===================>]  29.58K  --.-KB/s    in 0.05s   \n",
            "\n",
            "2025-02-18 16:00:50 (550 KB/s) - ‘data_cv.zip’ saved [30292/30292]\n",
            "\n",
            "Archive:  data_cv.zip\n",
            "  inflating: glass0-5-1tra.dat       \n",
            "  inflating: glass0-5-1tst.dat       \n",
            "  inflating: glass0-5-2tra.dat       \n",
            "  inflating: glass0-5-2tst.dat       \n",
            "  inflating: glass0-5-3tra.dat       \n",
            "  inflating: glass0-5-3tst.dat       \n",
            "  inflating: glass0-5-4tra.dat       \n",
            "  inflating: glass0-5-4tst.dat       \n",
            "  inflating: glass0-5-5tra.dat       \n",
            "  inflating: glass0-5-5tst.dat       \n"
          ]
        }
      ]
    },
    {
      "cell_type": "code",
      "execution_count": null,
      "metadata": {
        "scrolled": true,
        "colab": {
          "base_uri": "https://localhost:8080/"
        },
        "id": "Ogxb_EzyFW6v",
        "outputId": "c2bf7872-55a1-47e8-8572-7f79acdf972d"
      },
      "outputs": [
        {
          "output_type": "stream",
          "name": "stdout",
          "text": [
            "%%%%%%%%%%%%%FOLD 1%%%%%%%%%%%%%%%%%%%%%%%\n",
            "Accuracy of SVM (Fold 1):  0.7209302325581395\n",
            "Accuracy of RF (Fold 1):  0.8837209302325582\n",
            "%%%%%%%%%%%%%FOLD 2%%%%%%%%%%%%%%%%%%%%%%%\n",
            "Accuracy of SVM (Fold 2):  0.7906976744186046\n",
            "Accuracy of RF (Fold 2):  0.8372093023255814\n",
            "%%%%%%%%%%%%%FOLD 3%%%%%%%%%%%%%%%%%%%%%%%\n",
            "Accuracy of SVM (Fold 3):  0.7674418604651163\n",
            "Accuracy of RF (Fold 3):  0.8837209302325582\n",
            "%%%%%%%%%%%%%FOLD 4%%%%%%%%%%%%%%%%%%%%%%%\n",
            "Accuracy of SVM (Fold 4):  0.6511627906976745\n",
            "Accuracy of RF (Fold 4):  0.8372093023255814\n",
            "%%%%%%%%%%%%%FOLD 5%%%%%%%%%%%%%%%%%%%%%%%\n",
            "Accuracy of SVM (Fold 5):  0.8095238095238095\n",
            "Accuracy of RF (Fold 5):  0.9285714285714286\n",
            "%%%%%%%%FINAL RESULTS%%%%%%%%%%%%%\n",
            "Average Accuracy of SVM (All Folds):  0.7479512735326688\n",
            "Average Accuracy of RF (All Folds):  0.8740863787375416\n"
          ]
        }
      ],
      "source": [
        "accuracy_svm_final = 0\n",
        "accuracy_rf_final = 0\n",
        "for i in range(5): # Iterate five times\n",
        "    # Load data for each fold\n",
        "    print('%%%%%%%%%%%%%FOLD '+str(i+1)+'%%%%%%%%%%%%%%%%%%%%%%%')\n",
        "    X_train = np.genfromtxt('/content/glass0-5-'+str(i+1)+'tra.dat',\n",
        "                     usecols=range(9), # this only brings the first nine columns of the dataset\n",
        "                     skip_header=14, # The first 14 lines of the .dat contain a description\n",
        "                     delimiter=',')\n",
        "    y_train_names = np.genfromtxt('/content/glass0-5-'+str(i+1)+'tra.dat',\n",
        "                     usecols=range(9,10), # This brings the last column of the dataset, which has the class\n",
        "                     dtype = None,\n",
        "                     encoding = None, # This helps us get the strings in a numpy array\n",
        "                     skip_header=14,\n",
        "                     delimiter=',')\n",
        "    X_test = np.genfromtxt('/content/glass0-5-'+str(i+1)+'tst.dat',\n",
        "                     usecols=range(9), # this only brings the first nine columns of the dataset\n",
        "                     skip_header=14, # The first 14 lines of the .dat contain a description\n",
        "                     delimiter=',')\n",
        "    y_test_names = np.genfromtxt('/content/glass0-5-'+str(i+1)+'tst.dat',\n",
        "                     usecols=range(9,10), # This brings the last column of the dataset, which has the class\n",
        "                     dtype = None,\n",
        "                     encoding = None, # This helps us get the strings in a numpy array\n",
        "                     skip_header=14,\n",
        "                     delimiter=',')\n",
        "    # Convert target into numbers\n",
        "    y_train = []\n",
        "    y_train = [0 if i == ' positive' else 1 for i in y_train_names]\n",
        "    y_train=np.array(y_train)\n",
        "    y_test = []\n",
        "    y_test = [0 if i == ' positive' else 1 for i in y_test_names]\n",
        "    y_test=np.array(y_test)\n",
        "    # TRAIN-TEST SVM\n",
        "    model_svm = SVC(kernel='linear')\n",
        "    clf_svm = model_svm.fit(X_train,y_train)\n",
        "    y_svm = model_svm.predict(X_test)\n",
        "    # TRAIN-TEST RF\n",
        "    model_rf = RandomForestClassifier(n_estimators = 1000, random_state = 42)\n",
        "    clf_rf = model_rf.fit(X_train, y_train)\n",
        "    y_rf = model_rf.predict(X_test)\n",
        "    # Calculate accuracy\n",
        "    print('Accuracy of SVM (Fold '+str(i+1)+'): ', accuracy_score(y_svm, y_test))\n",
        "    print('Accuracy of RF (Fold '+str(i+1)+'): ', accuracy_score(y_rf, y_test))\n",
        "    accuracy_svm_final = accuracy_svm_final + accuracy_score(y_svm, y_test)\n",
        "    accuracy_rf_final = accuracy_rf_final + accuracy_score(y_rf, y_test)\n",
        "print('%%%%%%%%FINAL RESULTS%%%%%%%%%%%%%')\n",
        "print('Average Accuracy of SVM (All Folds): ', accuracy_svm_final/5)\n",
        "print('Average Accuracy of RF (All Folds): ', accuracy_rf_final/5)"
      ]
    }
  ],
  "metadata": {
    "hide_input": false,
    "kernelspec": {
      "display_name": "Python 3",
      "language": "python",
      "name": "python3"
    },
    "language_info": {
      "codemirror_mode": {
        "name": "ipython",
        "version": 3
      },
      "file_extension": ".py",
      "mimetype": "text/x-python",
      "name": "python",
      "nbconvert_exporter": "python",
      "pygments_lexer": "ipython3",
      "version": "3.7.3"
    },
    "varInspector": {
      "cols": {
        "lenName": 16,
        "lenType": 16,
        "lenVar": 40
      },
      "kernels_config": {
        "python": {
          "delete_cmd_postfix": "",
          "delete_cmd_prefix": "del ",
          "library": "var_list.py",
          "varRefreshCmd": "print(var_dic_list())"
        },
        "r": {
          "delete_cmd_postfix": ") ",
          "delete_cmd_prefix": "rm(",
          "library": "var_list.r",
          "varRefreshCmd": "cat(var_dic_list()) "
        }
      },
      "types_to_exclude": [
        "module",
        "function",
        "builtin_function_or_method",
        "instance",
        "_Feature"
      ],
      "window_display": false
    },
    "colab": {
      "provenance": [],
      "include_colab_link": true
    }
  },
  "nbformat": 4,
  "nbformat_minor": 0
}