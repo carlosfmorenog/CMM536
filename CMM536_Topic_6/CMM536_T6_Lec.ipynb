{
  "cells": [
    {
      "cell_type": "markdown",
      "metadata": {
        "id": "view-in-github",
        "colab_type": "text"
      },
      "source": [
        "<a href=\"https://colab.research.google.com/github/carlosfmorenog/CMM536/blob/master/CMM536_Topic_6/CMM536_T6_Lec.ipynb\" target=\"_parent\"><img src=\"https://colab.research.google.com/assets/colab-badge.svg\" alt=\"Open In Colab\"/></a>"
      ]
    },
    {
      "cell_type": "markdown",
      "metadata": {
        "id": "CSV8HFhDCPUD"
      },
      "source": [
        "# Topic 6 - Metrics for Performance Evaluation"
      ]
    },
    {
      "cell_type": "markdown",
      "metadata": {
        "id": "Z2nYh_44CPUF"
      },
      "source": [
        "## Aims of the Session"
      ]
    },
    {
      "cell_type": "markdown",
      "metadata": {
        "id": "zZPNr85pCPUG"
      },
      "source": [
        "* Learn different metrics used to evaluate classification frameworks"
      ]
    },
    {
      "cell_type": "markdown",
      "metadata": {
        "id": "FgMODvHwCPUI"
      },
      "source": [
        "* Understand some alternatives to design proper tests"
      ]
    },
    {
      "cell_type": "markdown",
      "metadata": {
        "id": "6hjN7zdhCPUJ"
      },
      "source": [
        "## Resources for the Lecture"
      ]
    },
    {
      "cell_type": "markdown",
      "metadata": {
        "id": "Ohbo7Xk2CPUJ"
      },
      "source": [
        "### Websites\n",
        "\n",
        "* https://towardsdatascience.com/understanding-the-bias-variance-tradeoff-165e6942b229\n",
        "* https://en.wikipedia.org/wiki/Precision_and_recall\n",
        "* https://en.wikipedia.org/wiki/Sensitivity_and_specificity\n",
        "* https://en.wikipedia.org/wiki/Confusion_matrix\n",
        "* https://towardsdatascience.com/understanding-auc-roc-curve-68b2303cc9c5\n",
        "* https://towardsdatascience.com/multi-class-metrics-made-simple-part-i-precision-and-recall-9250280bddc2\n",
        "* https://machinelearningmastery.com/k-fold-cross-validation/"
      ]
    },
    {
      "cell_type": "markdown",
      "metadata": {
        "id": "eEWKcxYaCPUK"
      },
      "source": [
        "### Online Courses\n",
        "\n",
        "* [Deep Learning Specialization by Andrew NG (Coursera)](https://es.coursera.org/specializations/deep-learning)"
      ]
    },
    {
      "cell_type": "markdown",
      "metadata": {
        "id": "mrKNhscfCPUK"
      },
      "source": [
        "### Papers\n",
        "\n",
        "* E. Elyan and M. M. Gaber, “A fine-grained random forests using class decomposition: an application to medical diagnosis,” Neural Computing and Applications, vol. 27, no. 8, pp. 2279–2288, 2016. [OpenAir Link](https://rgu-repository.worktribe.com/output/246110/a-fine-grained-random-forests-using-class-decomposition-an-application-to-medical-diagnosis)"
      ]
    },
    {
      "cell_type": "markdown",
      "metadata": {
        "id": "EJynffBKCPUL"
      },
      "source": [
        "## Some important concepts"
      ]
    },
    {
      "cell_type": "markdown",
      "metadata": {
        "id": "U7o-6fS_CPUL"
      },
      "source": [
        "![Fig. 1. Typical Data Split](https://www.dropbox.com/s/oze1q3wj7d71pa1/traintestvalid.jpg?raw=1)"
      ]
    },
    {
      "cell_type": "markdown",
      "metadata": {
        "id": "dEc_zK0RCPUL"
      },
      "source": [
        "* `Generalisation`: The ability to correctly classify new examples different from those used for training a model"
      ]
    },
    {
      "cell_type": "markdown",
      "metadata": {
        "id": "fHu2rOVeCPUM"
      },
      "source": [
        "![Fig. 2. Sample data of a binary dataset](https://www.dropbox.com/s/iiorih73voblfb9/data.png?raw=1)"
      ]
    },
    {
      "cell_type": "markdown",
      "metadata": {
        "id": "cXmQ_9BzCPUM"
      },
      "source": [
        "* `Overfitting`: The trained classifier gets a $100\\%$ accuracy in the training/validation data, but only $50\\%$ in the testing data.\n",
        "    * Also known as `high variance`."
      ]
    },
    {
      "cell_type": "markdown",
      "metadata": {
        "id": "BtSNV1iaCPUM"
      },
      "source": [
        "![Fig. 2a. Sample data of a binary dataset with an overfitted model](https://www.dropbox.com/s/gtyc6o096si85ii/overfitting.png?raw=1)"
      ]
    },
    {
      "cell_type": "markdown",
      "metadata": {
        "id": "slIYswc9CPUN"
      },
      "source": [
        "* `Underfitting`: The learned classifier is so simplistic that does not capture the structure of the data.\n",
        "    * This translates on a poor performance on the  validation data\n",
        "    * Also known as `high bias`"
      ]
    },
    {
      "cell_type": "markdown",
      "metadata": {
        "id": "rSypD0NiCPUN"
      },
      "source": [
        "![Fig. 2b. Sample data of a binary dataset with an underfitted model](https://www.dropbox.com/s/sc6t7pocg90xrak/underfitting.png?raw=1)"
      ]
    },
    {
      "cell_type": "markdown",
      "metadata": {
        "id": "AbnMipdpCPUN"
      },
      "source": [
        "* What do we expect?"
      ]
    },
    {
      "cell_type": "markdown",
      "metadata": {
        "id": "fLEGkwEsCPUN"
      },
      "source": [
        "![Fig. 2c. Sample data of a binary dataset with \"just right\" classification](https://www.dropbox.com/s/8qmcr98jeghw7fe/justright.png?raw=1)"
      ]
    },
    {
      "cell_type": "markdown",
      "metadata": {
        "id": "kfSpib_ECPUN"
      },
      "source": [
        "### The bias-variance trade-off"
      ]
    },
    {
      "cell_type": "markdown",
      "metadata": {
        "id": "ztDUHWdNCPUO"
      },
      "source": [
        "* As you can see, a model can either have high bias or high variance"
      ]
    },
    {
      "cell_type": "markdown",
      "metadata": {
        "id": "TdgKFIFECPUO"
      },
      "source": [
        "* The main objective of machine learning is to find a function $h(x)$ that maps feature $X$ to class/target $y$ minimising:\n",
        "    * bias error\n",
        "    * variance error\n",
        "    * irreducible error (noise in the data)"
      ]
    },
    {
      "cell_type": "markdown",
      "metadata": {
        "id": "n_P30tL4CPUO"
      },
      "source": [
        "Typically[$^1$](https://towardsdatascience.com/understanding-the-bias-variance-tradeoff-165e6942b229), the **Error** of a learner/classifier is modelled using the following equation:"
      ]
    },
    {
      "cell_type": "markdown",
      "metadata": {
        "id": "weesU6lCCPUO"
      },
      "source": [
        "$Err(x)=Bias^2+Variance+Irreducible\\:Error$"
      ]
    },
    {
      "cell_type": "markdown",
      "metadata": {
        "id": "b0vWNPHzCPUO"
      },
      "source": [
        "**Why $Bias^2$?**"
      ]
    },
    {
      "cell_type": "markdown",
      "metadata": {
        "id": "JJNxnAMpCPUO"
      },
      "source": [
        "## Performance Measures"
      ]
    },
    {
      "cell_type": "markdown",
      "metadata": {
        "id": "tJmWnZJeCPUP"
      },
      "source": [
        "* Assume that we are evaluating the classification success of a **binary** dataset"
      ]
    },
    {
      "cell_type": "markdown",
      "metadata": {
        "id": "GM0ig7EHCPUP"
      },
      "source": [
        "* `True Positives` (TP): This is what many people understand as *accuracy* (but is not!)\n",
        "    * Samples from the *positive class* that are classified correctly"
      ]
    },
    {
      "cell_type": "markdown",
      "metadata": {
        "id": "u2m0qdD8CPUP"
      },
      "source": [
        "* `True Negatives` (TN): How many samples from the negative class are **NOT** classified as being from the positive one"
      ]
    },
    {
      "cell_type": "markdown",
      "metadata": {
        "id": "U3JttmA3CPUP"
      },
      "source": [
        "* `False Positives` (FP): How many samples from the negative class are classified as being from the positive class\n",
        "    * Also known in statistics as **False alarms** or **Type I Error**"
      ]
    },
    {
      "cell_type": "markdown",
      "metadata": {
        "id": "0LVu4Rz9CPUQ"
      },
      "source": [
        "* `False Negatives` (FN): How many samples from the positive class are classified as being from the negative class\n",
        "    * Also known in statistics as **Type II Error**"
      ]
    },
    {
      "cell_type": "markdown",
      "metadata": {
        "id": "sQ_gFPaTCPUQ"
      },
      "source": [
        "### Accuracy"
      ]
    },
    {
      "cell_type": "markdown",
      "metadata": {
        "id": "OyVCpoffCPUQ"
      },
      "source": [
        "* $Accuracy = \\frac{TP+TN}{TP+TN+FP+FN}$"
      ]
    },
    {
      "cell_type": "markdown",
      "metadata": {
        "id": "22FEs6l1CPUQ"
      },
      "source": [
        "* The value of the accuracy must be **between $0$ and $1$**"
      ]
    },
    {
      "cell_type": "markdown",
      "metadata": {
        "id": "AzOuDjwbCPUQ"
      },
      "source": [
        "* Recall that we said that this is **not** a good measure for imbalanced datasets"
      ]
    },
    {
      "cell_type": "markdown",
      "metadata": {
        "id": "4LlRsPcbCPUQ"
      },
      "source": [
        "* **WHY?**"
      ]
    },
    {
      "cell_type": "markdown",
      "metadata": {
        "id": "fAgkc00GCPUR"
      },
      "source": [
        "### Error Rate"
      ]
    },
    {
      "cell_type": "markdown",
      "metadata": {
        "id": "Gm_da2a8CPUR"
      },
      "source": [
        "* $Error\\:Rate = \\frac{FP+FN}{TP+TN+FP+FN} = 1 - Accuracy$"
      ]
    },
    {
      "cell_type": "markdown",
      "metadata": {
        "id": "5sjvTaqeCPUR"
      },
      "source": [
        "* Also must be **between $0$ and $1$**"
      ]
    },
    {
      "cell_type": "markdown",
      "metadata": {
        "id": "H2Q2s-3NCPUR"
      },
      "source": [
        "* **Do you think this one is good for imbalanced datasets?**"
      ]
    },
    {
      "cell_type": "markdown",
      "metadata": {
        "id": "J-F_igraCPUR"
      },
      "source": [
        "### Precision and Recall"
      ]
    },
    {
      "cell_type": "markdown",
      "metadata": {
        "id": "0M1Cf-2XCPUR"
      },
      "source": [
        "* Assume that we have the following **binary** classification scenario"
      ]
    },
    {
      "cell_type": "markdown",
      "metadata": {
        "id": "xEn2iWsoCPUR"
      },
      "source": [
        "![Fig. 3. Binary Classification Scenario Example](https://www.dropbox.com/s/kojs26i99ksxwuj/Precisionrecall.png?raw=1)"
      ]
    },
    {
      "cell_type": "markdown",
      "metadata": {
        "id": "elVK4DBjCPUR"
      },
      "source": [
        "#### Precision"
      ]
    },
    {
      "cell_type": "markdown",
      "metadata": {
        "id": "e-P-ec3mCPUR"
      },
      "source": [
        "* $Precision = \\frac{TP}{TP+FP}$"
      ]
    },
    {
      "cell_type": "markdown",
      "metadata": {
        "id": "UThthuTlCPUR"
      },
      "source": [
        "![Fig. 3a. Precision Illustrated in the Binary Classification Scenario Example](https://www.dropbox.com/s/1y2z9grr3tle83n/Precision.png?raw=1)"
      ]
    },
    {
      "cell_type": "markdown",
      "metadata": {
        "id": "ZEIAQCVXCPUR"
      },
      "source": [
        "* How much of what I **have** I **need**?"
      ]
    },
    {
      "cell_type": "markdown",
      "metadata": {
        "id": "9M_83WMHCPUS"
      },
      "source": [
        "#### Recall"
      ]
    },
    {
      "cell_type": "markdown",
      "metadata": {
        "id": "g0Q8CzOUCPUS"
      },
      "source": [
        "* $Recall = \\frac{TP}{TP+FN}$"
      ]
    },
    {
      "cell_type": "markdown",
      "metadata": {
        "id": "Y1IMXS3kCPUS"
      },
      "source": [
        "![Fig. 3b. Recall illustrated in the binary Classification scenario example](https://www.dropbox.com/s/hpm2rck19vxgnqy/Recall.png?raw=1)"
      ]
    },
    {
      "cell_type": "markdown",
      "metadata": {
        "id": "K6oXsXF9CPUS"
      },
      "source": [
        "* How much of what I **need** I **have**?"
      ]
    },
    {
      "cell_type": "markdown",
      "metadata": {
        "id": "aENmZqS2CPUT"
      },
      "source": [
        "* The difference is in what you divide the `TP` with"
      ]
    },
    {
      "cell_type": "markdown",
      "metadata": {
        "id": "yMBZ60lZCPUT"
      },
      "source": [
        "* Most systems are known to have a precision/recall trade-off"
      ]
    },
    {
      "cell_type": "markdown",
      "metadata": {
        "id": "rDO6qqfNCPUT"
      },
      "source": [
        "* **Which is better?**"
      ]
    },
    {
      "cell_type": "markdown",
      "metadata": {
        "id": "RdQUngvXCPUT"
      },
      "source": [
        "#### F1-score (or F1-measure)"
      ]
    },
    {
      "cell_type": "markdown",
      "metadata": {
        "id": "PV3XvH2-CPUT"
      },
      "source": [
        "* Harmonic mean between precision and recall"
      ]
    },
    {
      "cell_type": "markdown",
      "metadata": {
        "id": "R7CYIp4iCPUT"
      },
      "source": [
        "* $F1 = 2 \\times \\frac{Precision \\times Recall}{Precision + Recall} = \\frac{2 \\times TP}{(2 \\times TP) + FP + FN}$"
      ]
    },
    {
      "cell_type": "markdown",
      "metadata": {
        "id": "ETcz2JC8CPUU"
      },
      "source": [
        "### Sensitivity and Specificity"
      ]
    },
    {
      "cell_type": "markdown",
      "metadata": {
        "id": "nQGW7zBoCPUU"
      },
      "source": [
        "* Similar to precision and recall, but used more in the health sciences domain"
      ]
    },
    {
      "cell_type": "markdown",
      "metadata": {
        "id": "fYLjuX2wCPUU"
      },
      "source": [
        "#### Sensitivity"
      ]
    },
    {
      "cell_type": "markdown",
      "metadata": {
        "id": "DFwT8AqWCPUU"
      },
      "source": [
        "* Just another name for **recall**"
      ]
    },
    {
      "cell_type": "markdown",
      "metadata": {
        "id": "cEqoitQ8CPUV"
      },
      "source": [
        "![Fig. 3c. Sensitivity illustrated in the binary classification scenario example](https://www.dropbox.com/s/5anc9xoualeij76/sensitivity.png?raw=1)"
      ]
    },
    {
      "cell_type": "markdown",
      "metadata": {
        "id": "nVzG9aytCPUV"
      },
      "source": [
        "#### Specificity"
      ]
    },
    {
      "cell_type": "markdown",
      "metadata": {
        "id": "OFNdHI03CPUV"
      },
      "source": [
        "* The precision for the negative class"
      ]
    },
    {
      "cell_type": "markdown",
      "metadata": {
        "id": "DMdP6dLpCPUV"
      },
      "source": [
        "![Fig. 3d. Specificity illustrated in the binary classification scenario example](https://www.dropbox.com/s/o3w055swet69c9k/specificity.png?raw=1)"
      ]
    },
    {
      "cell_type": "markdown",
      "metadata": {
        "id": "H-jzXLYVCPUV"
      },
      "source": [
        "**Is there any \"F-measure\" for these two?**"
      ]
    },
    {
      "cell_type": "markdown",
      "metadata": {
        "id": "zeZxYtMYCPUV"
      },
      "source": [
        "### The Confusion Matrix"
      ]
    },
    {
      "cell_type": "markdown",
      "metadata": {
        "id": "hd4aBaA9CPUW"
      },
      "source": [
        "* Also known as *error matrix*"
      ]
    },
    {
      "cell_type": "markdown",
      "metadata": {
        "id": "zUFO40i4CPUW"
      },
      "source": [
        "* Table that allows you to visualise the performance of a supervised learning algorithm"
      ]
    },
    {
      "cell_type": "markdown",
      "metadata": {
        "id": "FNgLrnNZCPUX"
      },
      "source": [
        "#### Example"
      ]
    },
    {
      "cell_type": "markdown",
      "metadata": {
        "id": "6kecS2EdCPUX"
      },
      "source": [
        "* A classifier has been trained to distinguish cats from dogs"
      ]
    },
    {
      "cell_type": "markdown",
      "metadata": {
        "id": "zkGQaN65CPUX"
      },
      "source": [
        "* Assuming a sample of 13 animals (8 cats and 5 dogs), you get the following confusion matrix"
      ]
    },
    {
      "cell_type": "markdown",
      "metadata": {
        "id": "ejVJUYh3CPUX"
      },
      "source": [
        "![Fig 4. Confusion matrix example](https://www.dropbox.com/s/ii6nitc5fxpgb8d/confmat.png?raw=1)"
      ]
    },
    {
      "cell_type": "markdown",
      "metadata": {
        "id": "Qcrko1BeCPUX"
      },
      "source": [
        "* This table can also be interpreted with respect to the previously seen terms"
      ]
    },
    {
      "cell_type": "markdown",
      "metadata": {
        "id": "LhdH7uRMCPUX"
      },
      "source": [
        "![Fig 4a. Confusion matrix with previously seen terms](https://www.dropbox.com/s/dwkpg1epk46b5cm/confmat2.png?raw=1)"
      ]
    },
    {
      "cell_type": "markdown",
      "metadata": {
        "id": "Dylw3-XlCPUX"
      },
      "source": [
        "#### The Confusion Matrix in Class Decomposition"
      ]
    },
    {
      "cell_type": "markdown",
      "metadata": {
        "id": "zpwlKFmlCPUY"
      },
      "source": [
        "* Assume that you have to classify a binary dataset with labels $a$ and $b$"
      ]
    },
    {
      "cell_type": "markdown",
      "metadata": {
        "id": "F1bsy1WzCPUY"
      },
      "source": [
        "* A class decomposition algorithm has been applied to the data, resulting in two sub-classes per class:\n",
        "    * $a$ decomposed into $a_1$ and $a_2$\n",
        "    * $b$ decomposed into $b_1$ and $b_2$"
      ]
    },
    {
      "cell_type": "markdown",
      "metadata": {
        "id": "0X2VPDNFCPUY"
      },
      "source": [
        "* You will obtain the following confusion matrix, as shown in [Elyan & Gaber 2016](https://rgu-repository.worktribe.com/output/246110/a-fine-grained-random-forests-using-class-decomposition-an-application-to-medical-diagnosis)"
      ]
    },
    {
      "cell_type": "markdown",
      "metadata": {
        "id": "suT7EBLBCPUY"
      },
      "source": [
        "![Fig 5. Confusion matrix example for class decomposition](https://www.dropbox.com/s/zniu6qqpfz6nulq/confmatcd.png?raw=1)"
      ]
    },
    {
      "cell_type": "markdown",
      "metadata": {
        "id": "3qSx29C3CPUY"
      },
      "source": [
        "### Area under the Receiving Operating Characteristic (ROC) Curve"
      ]
    },
    {
      "cell_type": "markdown",
      "metadata": {
        "id": "HjnR1Zo6CPUY"
      },
      "source": [
        "* Suitable to compare classification rates in a more visual way and at **different threshold settings**"
      ]
    },
    {
      "cell_type": "markdown",
      "metadata": {
        "id": "bzsNiwcSCPUY"
      },
      "source": [
        "* It is a probability curve that tells you how much your model is able to distinguish between classes"
      ]
    },
    {
      "cell_type": "markdown",
      "metadata": {
        "id": "rBDjIlkXCPUZ"
      },
      "source": [
        "* Higher the AUC, better the model is capable of performing the distinction"
      ]
    },
    {
      "cell_type": "markdown",
      "metadata": {
        "id": "T8ely_5HCPUZ"
      },
      "source": [
        "* The curve plots **False Positive Rate** (x-axis) vs **True Positive Rate** (y-axis)\n",
        "    * $FPR: 1-Specificity$\n",
        "    * $TPR: Recall\\:(also\\:known\\:as\\:Sensitivity)$"
      ]
    },
    {
      "cell_type": "markdown",
      "metadata": {
        "id": "8YwetPvoCPUZ"
      },
      "source": [
        "![Fig. 6. Example of ROC AUC](https://www.dropbox.com/s/orarrocrue4lvzs/ROCAUC.png?raw=1)"
      ]
    },
    {
      "cell_type": "markdown",
      "metadata": {
        "id": "9vTlnEAWCPUZ"
      },
      "source": [
        "### Runtime"
      ]
    },
    {
      "cell_type": "markdown",
      "metadata": {
        "id": "hClC11RBCPUZ"
      },
      "source": [
        "* It's not a bad idea to report this, particularly in large image datasets"
      ]
    },
    {
      "cell_type": "markdown",
      "metadata": {
        "id": "6YsPyCSMCPUZ"
      },
      "source": [
        "* Not very \"accepted\" in the academic world, but extremely useful in the industrial one!"
      ]
    },
    {
      "cell_type": "markdown",
      "metadata": {
        "id": "2onHnD5eCPUZ"
      },
      "source": [
        "* You can import the `time` module in Python and use the `perf_counter()` function to calculate the time of processes running\n",
        "    * Just be very careful where in your code you calculate the time!"
      ]
    },
    {
      "cell_type": "code",
      "execution_count": null,
      "metadata": {
        "id": "RAOZs87VCPUZ",
        "outputId": "7363da0f-2ad2-4410-c5b9-c7d0c650c98f"
      },
      "outputs": [
        {
          "name": "stdout",
          "output_type": "stream",
          "text": [
            "Elapsed time:  0.000525200000993209\n"
          ]
        }
      ],
      "source": [
        "import time\n",
        "\n",
        "t = time.perf_counter()\n",
        "# do stuff\n",
        "x=0\n",
        "for i in range(1000):\n",
        "    x=x+i\n",
        "# stuff has finished\n",
        "print('Elapsed time: ',time.perf_counter() - t)"
      ]
    },
    {
      "cell_type": "markdown",
      "metadata": {
        "id": "ak070JbtCPUa"
      },
      "source": [
        "## What about multi-class classification?"
      ]
    },
    {
      "cell_type": "markdown",
      "metadata": {
        "id": "JBSUvyPQCPUa"
      },
      "source": [
        "* So far, we have only spoken of metrics in the context of binary datasets"
      ]
    },
    {
      "cell_type": "markdown",
      "metadata": {
        "id": "uHb1X-9bCPUa"
      },
      "source": [
        "* However, in most cases (i.e. your coursework) you will deal with multi-class datasets"
      ]
    },
    {
      "cell_type": "markdown",
      "metadata": {
        "id": "n6dwCyCVCPUb"
      },
      "source": [
        "* There are many ways to adapt the aforementioned metrics to these scenarios, the most common one being the **One vs All** approach\n",
        "    * Comparing a metric of one class against the rest as if these were a single class"
      ]
    },
    {
      "cell_type": "markdown",
      "metadata": {
        "id": "-wWNrAIaCPUb"
      },
      "source": [
        "* Considering that you can still calculate precision, recall and F1-score for each class (against the rest), another commonly used approach is **macro/weighted/micro** metrics:"
      ]
    },
    {
      "cell_type": "markdown",
      "metadata": {
        "id": "FhZzGEWzCPUb"
      },
      "source": [
        "* `Macro` is the arithmetic mean of all metrics"
      ]
    },
    {
      "cell_type": "markdown",
      "metadata": {
        "id": "IYYblD40CPUc"
      },
      "source": [
        "* `Weighted` is when we multiply each metric by the number of samples of each class"
      ]
    },
    {
      "cell_type": "markdown",
      "metadata": {
        "id": "hUHNm4C1CPUc"
      },
      "source": [
        "* `Micro` is the harmonic mean of all metrics, which derives in the system's accuracy"
      ]
    },
    {
      "cell_type": "markdown",
      "metadata": {
        "id": "4uV5ifolCPUc"
      },
      "source": [
        "* To see an example of this, I recommend you to visit [this site](https://towardsdatascience.com/multi-class-metrics-made-simple-part-i-precision-and-recall-9250280bddc2)"
      ]
    },
    {
      "cell_type": "markdown",
      "metadata": {
        "id": "J8M4E0GFCPUd"
      },
      "source": [
        "## Validation Frameworks"
      ]
    },
    {
      "cell_type": "markdown",
      "metadata": {
        "id": "xIAPqP_5CPUd"
      },
      "source": [
        "![Fig. 7. Typical Data Split](https://www.dropbox.com/s/oze1q3wj7d71pa1/traintestvalid.jpg?raw=1)"
      ]
    },
    {
      "cell_type": "markdown",
      "metadata": {
        "id": "DaoaRZGVCPUd"
      },
      "source": [
        "* Technically this is not the only way to split the data!"
      ]
    },
    {
      "cell_type": "markdown",
      "metadata": {
        "id": "ytTH5y70CPUd"
      },
      "source": [
        "* Even when you split uniformly using train/val/test approach, you are still not considering that maybe some train/val data is better/worse for testing and vice versa!"
      ]
    },
    {
      "cell_type": "markdown",
      "metadata": {
        "id": "exGqbGukCPUe"
      },
      "source": [
        "* To address this issue, there are some iterative validation frameworks which let you split data in different ways and perform multiple tests of the same model"
      ]
    },
    {
      "cell_type": "markdown",
      "metadata": {
        "id": "LfMEBxV8CPUe"
      },
      "source": [
        "### Cross validation"
      ]
    },
    {
      "cell_type": "markdown",
      "metadata": {
        "id": "IwIx_qDdCPUe"
      },
      "source": [
        "* Simple to understand"
      ]
    },
    {
      "cell_type": "markdown",
      "metadata": {
        "id": "g5QGEGWhCPUe"
      },
      "source": [
        "* Reduces \"bias\"\n",
        "    * i.e. over-optimistic results that may be caused due to chance"
      ]
    },
    {
      "cell_type": "markdown",
      "metadata": {
        "id": "1X6gXqhsCPUe"
      },
      "source": [
        "* Based on a single parameter $k$ which defined the number of times that the dataset will be *folded*"
      ]
    },
    {
      "cell_type": "markdown",
      "metadata": {
        "id": "j6T9dww9CPUe"
      },
      "source": [
        "#### How it works"
      ]
    },
    {
      "cell_type": "markdown",
      "metadata": {
        "id": "n7P2MnAQCPUe"
      },
      "source": [
        "1) Shuffle the dataset"
      ]
    },
    {
      "cell_type": "markdown",
      "metadata": {
        "id": "R3TSW3R2CPUe"
      },
      "source": [
        "2) Split the dataset into $k$ groups"
      ]
    },
    {
      "cell_type": "markdown",
      "metadata": {
        "id": "ECU_muDcCPUe"
      },
      "source": [
        "3) For each group\n",
        "    * Take that group as the test data\n",
        "    * Take the remaining groups as the training data\n",
        "    * Fit the model\n",
        "    * Retain the score and discard the model"
      ]
    },
    {
      "cell_type": "markdown",
      "metadata": {
        "id": "SO8_xDO6CPUe"
      },
      "source": [
        "4) Once you are done, average/summarise all results"
      ]
    },
    {
      "cell_type": "markdown",
      "metadata": {
        "id": "okYGhtBwCPUe"
      },
      "source": [
        "#### Which $k$ to choose?"
      ]
    },
    {
      "cell_type": "markdown",
      "metadata": {
        "id": "zIgRaB6lCPUf"
      },
      "source": [
        "* Representative for the model: Large enough to be statistically significant!"
      ]
    },
    {
      "cell_type": "markdown",
      "metadata": {
        "id": "73QWHVGeCPUf"
      },
      "source": [
        "* $k=5$ and $k=10$ are the usual standard, but it depends on how many samples you have!"
      ]
    },
    {
      "cell_type": "markdown",
      "metadata": {
        "id": "8FIN3OzBCPUf"
      },
      "source": [
        "* If you do $k=n$ ($n$ being the number of samples in the dataset) then you will test every sample as the test against the rest as the training set"
      ]
    },
    {
      "cell_type": "markdown",
      "metadata": {
        "id": "gAWxnqAcCPUf"
      },
      "source": [
        "* This is also known as the **Leave-One-Out** approach"
      ]
    },
    {
      "cell_type": "markdown",
      "metadata": {
        "id": "MYEoBRZYCPUf"
      },
      "source": [
        "* In fact, in the [Keel Imbalanced Datasets Repository](https://sci2s.ugr.es/keel/imbalanced.php) presented before, they even include all datasets in *5-fcv* to test using a predetermined 5-fold cross validation setting"
      ]
    },
    {
      "cell_type": "markdown",
      "metadata": {
        "id": "NA7ZoQa5CPUg"
      },
      "source": [
        "## Metrics used in Computer Vision"
      ]
    },
    {
      "cell_type": "markdown",
      "metadata": {
        "id": "_TCS8TMOCPUg"
      },
      "source": [
        "### IoU (A.K.A. Jaccard Index)"
      ]
    },
    {
      "cell_type": "markdown",
      "metadata": {
        "id": "9HGgK24lCPUg"
      },
      "source": [
        "![Fig 8. Intersection over Union](https://www.dropbox.com/scl/fi/ass5opbcb3lmohtr22a7v/iou.png?rlkey=gj5g79mz05j3rsnoenwu3btc1&raw=1)"
      ]
    },
    {
      "cell_type": "markdown",
      "metadata": {
        "id": "49Xk1kMTCPUg"
      },
      "source": [
        "![Fig 9. Intersection over Union Formula](https://www.dropbox.com/scl/fi/tvu4tpdq7w1mns9uukcse/iouformula.png?rlkey=1n20rpcxk9hy2univxqetn1ca&raw=1)"
      ]
    },
    {
      "cell_type": "markdown",
      "metadata": {
        "id": "8_jwAb7-CPUg"
      },
      "source": [
        "* Normally, $IoU \\geq 0.5$ is considered good, while $1$ is perfect!"
      ]
    },
    {
      "cell_type": "markdown",
      "metadata": {
        "id": "t_gFnCFPCPUg"
      },
      "source": [
        "![Fig 10. Intersection over Union Examples](https://www.dropbox.com/scl/fi/kol5jba0azx6qmrbg2ono/iouexamples.png?rlkey=g8lanp2tu1oqa5sgiyx61y55e&raw=1)"
      ]
    },
    {
      "cell_type": "markdown",
      "metadata": {
        "id": "uwJS_0y2CPUg"
      },
      "source": [
        "### Dice Coefficient"
      ]
    },
    {
      "cell_type": "markdown",
      "metadata": {
        "id": "YxoES3BaCPUg"
      },
      "source": [
        "* The \"F1-Score\" of computer vision metrics"
      ]
    },
    {
      "cell_type": "markdown",
      "metadata": {
        "id": "t5z8c69PCPUg"
      },
      "source": [
        "* More widely used for segmentation"
      ]
    },
    {
      "cell_type": "markdown",
      "metadata": {
        "id": "jokzbyfmCPUg"
      },
      "source": [
        "![Fig 11. Dice Coefficient](https://www.dropbox.com/scl/fi/40ne3x72458zpwp9c6fif/dice.png?rlkey=11aaqn1q1wn49tpp6oqs1oywd&raw=1)"
      ]
    },
    {
      "cell_type": "markdown",
      "metadata": {
        "id": "aVa42Sb5CPUh"
      },
      "source": [
        "**What is the difference between IoU and Dice?**"
      ]
    },
    {
      "cell_type": "markdown",
      "metadata": {
        "id": "2OfXgRa-CPUh"
      },
      "source": [
        "* Dice coefficient penalizes false positives, which is better for high imbalanced datasets"
      ]
    },
    {
      "cell_type": "markdown",
      "metadata": {
        "id": "8QdK7fARCPUh"
      },
      "source": [
        "* IoU is more like the recall, so it is good to use when pixels are outside the areas"
      ]
    },
    {
      "cell_type": "markdown",
      "metadata": {
        "id": "C8pV6SZ1CPUh"
      },
      "source": [
        "# LAB: PERFORMANCE MEASURES FOR BINARY DATASETS IN PYTHON"
      ]
    }
  ],
  "metadata": {
    "celltoolbar": "Slideshow",
    "hide_input": false,
    "kernelspec": {
      "display_name": "Python 3 (ipykernel)",
      "language": "python",
      "name": "python3"
    },
    "language_info": {
      "codemirror_mode": {
        "name": "ipython",
        "version": 3
      },
      "file_extension": ".py",
      "mimetype": "text/x-python",
      "name": "python",
      "nbconvert_exporter": "python",
      "pygments_lexer": "ipython3",
      "version": "3.11.3"
    },
    "rise": {
      "backimage": "../mybackimage.png",
      "enable_chalkboard": true,
      "scroll": true
    },
    "varInspector": {
      "cols": {
        "lenName": 16,
        "lenType": 16,
        "lenVar": 40
      },
      "kernels_config": {
        "python": {
          "delete_cmd_postfix": "",
          "delete_cmd_prefix": "del ",
          "library": "var_list.py",
          "varRefreshCmd": "print(var_dic_list())"
        },
        "r": {
          "delete_cmd_postfix": ") ",
          "delete_cmd_prefix": "rm(",
          "library": "var_list.r",
          "varRefreshCmd": "cat(var_dic_list()) "
        }
      },
      "types_to_exclude": [
        "module",
        "function",
        "builtin_function_or_method",
        "instance",
        "_Feature"
      ],
      "window_display": false
    },
    "colab": {
      "provenance": [],
      "include_colab_link": true
    }
  },
  "nbformat": 4,
  "nbformat_minor": 0
}