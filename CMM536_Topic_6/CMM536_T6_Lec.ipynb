{
  "cells": [
    {
      "cell_type": "markdown",
      "metadata": {
        "id": "view-in-github",
        "colab_type": "text"
      },
      "source": [
        "<a href=\"https://colab.research.google.com/github/carlosfmorenog/CMM536/blob/master/CMM536_Topic_6/CMM536_T6_Lec.ipynb\" target=\"_parent\"><img src=\"https://colab.research.google.com/assets/colab-badge.svg\" alt=\"Open In Colab\"/></a>"
      ]
    },
    {
      "cell_type": "markdown",
      "metadata": {
        "id": "K5m3xxP_AUOD"
      },
      "source": [
        "# Topic 6 - Metrics for Performance Evaluation"
      ]
    },
    {
      "cell_type": "markdown",
      "metadata": {
        "id": "t4DZZIQqAUOH"
      },
      "source": [
        "## Aims of the Session"
      ]
    },
    {
      "cell_type": "markdown",
      "metadata": {
        "id": "OEXDn_KsAUOH"
      },
      "source": [
        "* Learn different metrics used to evaluate classification frameworks"
      ]
    },
    {
      "cell_type": "markdown",
      "metadata": {
        "id": "CJpgV_YeAUOK"
      },
      "source": [
        "* Understand some alternatives to design proper tests"
      ]
    },
    {
      "cell_type": "markdown",
      "metadata": {
        "id": "V1M2DyxeAUOL"
      },
      "source": [
        "## Resources for the Lecture"
      ]
    },
    {
      "cell_type": "markdown",
      "metadata": {
        "id": "EVDNcqLQAUOL"
      },
      "source": [
        "### Websites\n",
        "\n",
        "* https://towardsdatascience.com/understanding-the-bias-variance-tradeoff-165e6942b229\n",
        "* https://en.wikipedia.org/wiki/Precision_and_recall\n",
        "* https://en.wikipedia.org/wiki/Sensitivity_and_specificity\n",
        "* https://en.wikipedia.org/wiki/Confusion_matrix\n",
        "* https://towardsdatascience.com/understanding-auc-roc-curve-68b2303cc9c5\n",
        "* https://towardsdatascience.com/multi-class-metrics-made-simple-part-i-precision-and-recall-9250280bddc2\n",
        "* https://machinelearningmastery.com/k-fold-cross-validation/"
      ]
    },
    {
      "cell_type": "markdown",
      "metadata": {
        "id": "DP2Nw5_DAUON"
      },
      "source": [
        "### Online Courses\n",
        "\n",
        "* [Deep Learning Specialization by Andrew NG (Coursera)](https://es.coursera.org/specializations/deep-learning)"
      ]
    },
    {
      "cell_type": "markdown",
      "metadata": {
        "id": "kNfJD3rzAUOS"
      },
      "source": [
        "### Papers\n",
        "\n",
        "* E. Elyan and M. M. Gaber, “A fine-grained random forests using class decomposition: an application to medical diagnosis,” Neural Computing and Applications, vol. 27, no. 8, pp. 2279–2288, 2016. [OpenAir Link](https://rgu-repository.worktribe.com/output/246110/a-fine-grained-random-forests-using-class-decomposition-an-application-to-medical-diagnosis)"
      ]
    },
    {
      "cell_type": "markdown",
      "metadata": {
        "id": "V59kUUx4AUOW"
      },
      "source": [
        "## Some important concepts"
      ]
    },
    {
      "cell_type": "markdown",
      "metadata": {
        "id": "MMc_W4PeAUOX"
      },
      "source": [
        "![Fig. 1. Typical Data Split](https://www.dropbox.com/s/oze1q3wj7d71pa1/traintestvalid.jpg?raw=1)"
      ]
    },
    {
      "cell_type": "markdown",
      "metadata": {
        "id": "3wb80qjgAUOY"
      },
      "source": [
        "* `Generalisation`: The ability to correctly classify new examples different from those used for training a model"
      ]
    },
    {
      "cell_type": "markdown",
      "metadata": {
        "id": "-MJHkU29AUOZ"
      },
      "source": [
        "![Fig. 2. Sample data of a binary dataset](https://www.dropbox.com/s/iiorih73voblfb9/data.png?raw=1)"
      ]
    },
    {
      "cell_type": "markdown",
      "metadata": {
        "id": "4pORzBWPAUOa"
      },
      "source": [
        "* `Overfitting`: The trained classifier gets a $100\\%$ accuracy in the training/validation data, but only $50\\%$ in the testing data.\n",
        "    * Also known as `high variance`."
      ]
    },
    {
      "cell_type": "markdown",
      "metadata": {
        "id": "ZVWojbKDAUOa"
      },
      "source": [
        "![Fig. 2a. Sample data of a binary dataset with an overfitted model](https://www.dropbox.com/s/gtyc6o096si85ii/overfitting.png?raw=1)"
      ]
    },
    {
      "cell_type": "markdown",
      "metadata": {
        "id": "2PjrwoCkAUOb"
      },
      "source": [
        "* `Underfitting`: The learned classifier is so simplistic that does not capture the structure of the data.\n",
        "    * This translates on a poor performance on the  validation data\n",
        "    * Also known as `high bias`"
      ]
    },
    {
      "cell_type": "markdown",
      "metadata": {
        "id": "OZWXa0BgAUOc"
      },
      "source": [
        "![Fig. 2b. Sample data of a binary dataset with an underfitted model](https://www.dropbox.com/s/sc6t7pocg90xrak/underfitting.png?raw=1)"
      ]
    },
    {
      "cell_type": "markdown",
      "metadata": {
        "id": "8HdNTZ_zAUOe"
      },
      "source": [
        "* What do we expect?"
      ]
    },
    {
      "cell_type": "markdown",
      "metadata": {
        "id": "p1ydNYXlAUOg"
      },
      "source": [
        "![Fig. 2c. Sample data of a binary dataset with \"just right\" classification](https://www.dropbox.com/s/8qmcr98jeghw7fe/justright.png?raw=1)"
      ]
    },
    {
      "cell_type": "markdown",
      "metadata": {
        "id": "kdv2VmgAAUOi"
      },
      "source": [
        "### The bias-variance trade-off"
      ]
    },
    {
      "cell_type": "markdown",
      "metadata": {
        "id": "oe9pPIDkAUOj"
      },
      "source": [
        "* As you can see, a model can either have high bias or high variance"
      ]
    },
    {
      "cell_type": "markdown",
      "metadata": {
        "id": "kgdF7r7qAUOk"
      },
      "source": [
        "* The main objective of machine learning is to find a function $h(x)$ that maps feature $X$ to class/target $y$ minimising:\n",
        "    * bias error\n",
        "    * variance error\n",
        "    * irreducible error (noise in the data)"
      ]
    },
    {
      "cell_type": "markdown",
      "metadata": {
        "id": "pzaOw31lAUOk"
      },
      "source": [
        "Typically[$^1$](https://towardsdatascience.com/understanding-the-bias-variance-tradeoff-165e6942b229), the **Error** of a learner/classifier is modelled using the following equation:"
      ]
    },
    {
      "cell_type": "markdown",
      "metadata": {
        "id": "muqSoDRiAUOl"
      },
      "source": [
        "$Err(x)=Bias^2+Variance+Irreducible\\:Error$"
      ]
    },
    {
      "cell_type": "markdown",
      "metadata": {
        "id": "LKxwvV8LAUOl"
      },
      "source": [
        "**Why $Bias^2$?**"
      ]
    },
    {
      "cell_type": "markdown",
      "metadata": {
        "id": "arO9OtbEAUOm"
      },
      "source": [
        "## Performance Measures"
      ]
    },
    {
      "cell_type": "markdown",
      "metadata": {
        "id": "Zi66PU2YAUOm"
      },
      "source": [
        "* Assume that we are evaluating the classification success of a **binary** dataset"
      ]
    },
    {
      "cell_type": "markdown",
      "metadata": {
        "id": "LY-o-ypGAUOm"
      },
      "source": [
        "* `True Positives` (TP): This is what many people understand as *accuracy* (but is not!)\n",
        "    * Samples from the *positive class* that are classified correctly"
      ]
    },
    {
      "cell_type": "markdown",
      "metadata": {
        "id": "2OgmG5WbAUOm"
      },
      "source": [
        "* `True Negatives` (TN): How many samples from the negative class are **NOT** classified as being from the positive one"
      ]
    },
    {
      "cell_type": "markdown",
      "metadata": {
        "id": "nNCVPtXcAUOn"
      },
      "source": [
        "* `False Positives` (FP): How many samples from the negative class are classified as being from the positive class\n",
        "    * Also known in statistics as **False alarms** or **Type I Error**"
      ]
    },
    {
      "cell_type": "markdown",
      "metadata": {
        "id": "eIuK1t98AUOn"
      },
      "source": [
        "* `False Negatives` (FN): How many samples from the positive class are classified as being from the negative class\n",
        "    * Also known in statistics as **Type II Error**"
      ]
    },
    {
      "cell_type": "markdown",
      "metadata": {
        "id": "yz0okNC2AUOn"
      },
      "source": [
        "### Accuracy"
      ]
    },
    {
      "cell_type": "markdown",
      "metadata": {
        "id": "nbHoXhkIAUOo"
      },
      "source": [
        "* $Accuracy = \\frac{TP+TN}{TP+TN+FP+FN}$"
      ]
    },
    {
      "cell_type": "markdown",
      "metadata": {
        "id": "XlrKefJGAUOo"
      },
      "source": [
        "* The value of the accuracy must be **between $0$ and $1$**"
      ]
    },
    {
      "cell_type": "markdown",
      "metadata": {
        "id": "qT_xe1VFAUOp"
      },
      "source": [
        "* Recall that we said that this is **not** a good measure for imbalanced datasets"
      ]
    },
    {
      "cell_type": "markdown",
      "metadata": {
        "id": "GEorOPSTAUOp"
      },
      "source": [
        "* **WHY?**"
      ]
    },
    {
      "cell_type": "markdown",
      "metadata": {
        "id": "EgYs1-XDAUOq"
      },
      "source": [
        "### Error Rate"
      ]
    },
    {
      "cell_type": "markdown",
      "metadata": {
        "id": "5-dhVKHuAUOq"
      },
      "source": [
        "* $Error\\:Rate = \\frac{FP+FN}{TP+TN+FP+FN} = 1 - Accuracy$"
      ]
    },
    {
      "cell_type": "markdown",
      "metadata": {
        "id": "Yo_aBm3rAUOr"
      },
      "source": [
        "* Also must be **between $0$ and $1$**"
      ]
    },
    {
      "cell_type": "markdown",
      "metadata": {
        "id": "rNY-zxJbAUOr"
      },
      "source": [
        "* **Do you think this one is good for imbalanced datasets?**"
      ]
    },
    {
      "cell_type": "markdown",
      "metadata": {
        "id": "LT68cQJyAUOr"
      },
      "source": [
        "### Precision and Recall"
      ]
    },
    {
      "cell_type": "markdown",
      "metadata": {
        "id": "2LSSPCoiAUOs"
      },
      "source": [
        "* Assume that we have the following **binary** classification scenario"
      ]
    },
    {
      "cell_type": "markdown",
      "metadata": {
        "id": "C21mJhc-AUOs"
      },
      "source": [
        "![Fig. 3. Binary Classification Scenario Example](https://www.dropbox.com/s/kojs26i99ksxwuj/Precisionrecall.png?raw=1)"
      ]
    },
    {
      "cell_type": "markdown",
      "metadata": {
        "id": "oRJIHin8AUOt"
      },
      "source": [
        "#### Precision"
      ]
    },
    {
      "cell_type": "markdown",
      "metadata": {
        "id": "6GajF7zZAUOu"
      },
      "source": [
        "* $Precision = \\frac{TP}{TP+FP}$"
      ]
    },
    {
      "cell_type": "markdown",
      "metadata": {
        "id": "X0bxycq8AUOx"
      },
      "source": [
        "![Fig. 3a. Precision Illustrated in the Binary Classification Scenario Example](https://www.dropbox.com/s/1y2z9grr3tle83n/Precision.png?raw=1)"
      ]
    },
    {
      "cell_type": "markdown",
      "metadata": {
        "id": "VP-JfjTlAUOz"
      },
      "source": [
        "* How much of what I **have** I **need**?"
      ]
    },
    {
      "cell_type": "markdown",
      "metadata": {
        "id": "3wTwXFRYAUOz"
      },
      "source": [
        "#### Recall"
      ]
    },
    {
      "cell_type": "markdown",
      "metadata": {
        "id": "M_ke7VVtAUO0"
      },
      "source": [
        "* $Recall = \\frac{TP}{TP+FN}$"
      ]
    },
    {
      "cell_type": "markdown",
      "metadata": {
        "id": "me-IrH8uAUO1"
      },
      "source": [
        "![Fig. 3b. Recall illustrated in the binary Classification scenario example](https://www.dropbox.com/s/hpm2rck19vxgnqy/Recall.png?raw=1)"
      ]
    },
    {
      "cell_type": "markdown",
      "metadata": {
        "id": "gKF068oAAUO1"
      },
      "source": [
        "* How much of what I **need** I **have**?"
      ]
    },
    {
      "cell_type": "markdown",
      "metadata": {
        "id": "_o4F5cpuAUO1"
      },
      "source": [
        "* The difference is in what you divide the `TP` with"
      ]
    },
    {
      "cell_type": "markdown",
      "metadata": {
        "id": "cRz_kaDqAUO3"
      },
      "source": [
        "* Most systems are known to have a precision/recall trade-off"
      ]
    },
    {
      "cell_type": "markdown",
      "metadata": {
        "id": "etdtQfmsAUO3"
      },
      "source": [
        "* **Which is better?**"
      ]
    },
    {
      "cell_type": "markdown",
      "metadata": {
        "id": "laH7THdTAUO3"
      },
      "source": [
        "#### F1-score (or F1-measure)"
      ]
    },
    {
      "cell_type": "markdown",
      "metadata": {
        "id": "qGXxir7IAUO3"
      },
      "source": [
        "* Harmonic mean between precision and recall"
      ]
    },
    {
      "cell_type": "markdown",
      "metadata": {
        "id": "WIYC3V21AUO4"
      },
      "source": [
        "* $F1 = 2 \\times \\frac{Precision \\times Recall}{Precision + Recall} = \\frac{2 \\times TP}{2 \\times TP + FP + FN}$"
      ]
    },
    {
      "cell_type": "markdown",
      "metadata": {
        "id": "GFBzGl_bAUO4"
      },
      "source": [
        "### Sensitivity and Specificity"
      ]
    },
    {
      "cell_type": "markdown",
      "metadata": {
        "id": "CXeezzPNAUO5"
      },
      "source": [
        "* Similar to precision and recall, but used more in the health sciences domain"
      ]
    },
    {
      "cell_type": "markdown",
      "metadata": {
        "id": "jWFkFyatAUO5"
      },
      "source": [
        "#### Sensitivity"
      ]
    },
    {
      "cell_type": "markdown",
      "metadata": {
        "id": "j5th1u5xAUO5"
      },
      "source": [
        "* Just another name for **recall**"
      ]
    },
    {
      "cell_type": "markdown",
      "metadata": {
        "id": "8czXuCAWAUO6"
      },
      "source": [
        "![Fig. 3c. Sensitivity illustrated in the binary classification scenario example](https://www.dropbox.com/s/5anc9xoualeij76/sensitivity.png?raw=1)"
      ]
    },
    {
      "cell_type": "markdown",
      "metadata": {
        "id": "3TPN3f4DAUO6"
      },
      "source": [
        "#### Specificity"
      ]
    },
    {
      "cell_type": "markdown",
      "metadata": {
        "id": "sVorC60TAUO6"
      },
      "source": [
        "* The precision for the negative class"
      ]
    },
    {
      "cell_type": "markdown",
      "metadata": {
        "id": "gKAX1xJvAUO7"
      },
      "source": [
        "![Fig. 3d. Specificity illustrated in the binary classification scenario example](https://www.dropbox.com/s/o3w055swet69c9k/specificity.png?raw=1)"
      ]
    },
    {
      "cell_type": "markdown",
      "metadata": {
        "id": "a5hvhkkpAUO7"
      },
      "source": [
        "**Is there any \"F-measure\" for these two?**"
      ]
    },
    {
      "cell_type": "markdown",
      "metadata": {
        "id": "U81SOYuMAUO7"
      },
      "source": [
        "### The Confusion Matrix"
      ]
    },
    {
      "cell_type": "markdown",
      "metadata": {
        "id": "ZSyApyQ2AUO7"
      },
      "source": [
        "* Also known as *error matrix*"
      ]
    },
    {
      "cell_type": "markdown",
      "metadata": {
        "id": "MFWpdIjAAUO8"
      },
      "source": [
        "* Table that allows you to visualise the performance of a supervised learning algorithm"
      ]
    },
    {
      "cell_type": "markdown",
      "metadata": {
        "id": "kE6MvrFsAUO8"
      },
      "source": [
        "#### Example"
      ]
    },
    {
      "cell_type": "markdown",
      "metadata": {
        "id": "4t92UDBgAUO9"
      },
      "source": [
        "* A classifier has been trained to distinguish cats from dogs"
      ]
    },
    {
      "cell_type": "markdown",
      "metadata": {
        "id": "d_WxIBokAUO9"
      },
      "source": [
        "* Assuming a sample of 13 animals (8 cats and 5 dogs), you get the following confusion matrix"
      ]
    },
    {
      "cell_type": "markdown",
      "metadata": {
        "id": "x6dhJcBjAUO-"
      },
      "source": [
        "![Fig 4. Confusion matrix example](https://www.dropbox.com/s/ii6nitc5fxpgb8d/confmat.png?raw=1)"
      ]
    },
    {
      "cell_type": "markdown",
      "metadata": {
        "id": "azAUnsiMAUO-"
      },
      "source": [
        "* This table can also be interpreted with respect to the previously seen terms"
      ]
    },
    {
      "cell_type": "markdown",
      "metadata": {
        "id": "gnY9lxgfAUPB"
      },
      "source": [
        "![Fig 4a. Confusion matrix with previously seen terms](https://www.dropbox.com/s/dwkpg1epk46b5cm/confmat2.png?raw=1)"
      ]
    },
    {
      "cell_type": "markdown",
      "metadata": {
        "id": "RbAcwW3sAUPC"
      },
      "source": [
        "#### The Confusion Matrix in Class Decomposition"
      ]
    },
    {
      "cell_type": "markdown",
      "metadata": {
        "id": "C3vhkrCoAUPC"
      },
      "source": [
        "* Assume that you have to classify a binary dataset with labels $a$ and $b$"
      ]
    },
    {
      "cell_type": "markdown",
      "metadata": {
        "id": "8m7eyrNxAUPD"
      },
      "source": [
        "* A class decomposition algorithm has been applied to the data, resulting in two sub-classes per class:\n",
        "    * $a$ decomposed into $a_1$ and $a_2$\n",
        "    * $b$ decomposed into $b_1$ and $b_2$"
      ]
    },
    {
      "cell_type": "markdown",
      "metadata": {
        "id": "KZxRh4_qAUPD"
      },
      "source": [
        "* You will obtain the following confusion matrix, as shown in [Elyan & Gaber 2016](https://rgu-repository.worktribe.com/output/246110/a-fine-grained-random-forests-using-class-decomposition-an-application-to-medical-diagnosis)"
      ]
    },
    {
      "cell_type": "markdown",
      "metadata": {
        "id": "_umm6FZfAUPE"
      },
      "source": [
        "![Fig 5. Confusion matrix example for class decomposition](https://www.dropbox.com/s/zniu6qqpfz6nulq/confmatcd.png?raw=1)"
      ]
    },
    {
      "cell_type": "markdown",
      "metadata": {
        "id": "NJe1dugSAUPE"
      },
      "source": [
        "### Area under the Receiving Operating Characteristic (ROC) Curve"
      ]
    },
    {
      "cell_type": "markdown",
      "metadata": {
        "id": "FQw2C0LQAUPF"
      },
      "source": [
        "* Suitable to compare classification rates in a more visual way and at **different threshold settings**"
      ]
    },
    {
      "cell_type": "markdown",
      "metadata": {
        "id": "Fj8JCaCyAUPF"
      },
      "source": [
        "* It is a probability curve that tells you how much your model is able to distinguish between classes"
      ]
    },
    {
      "cell_type": "markdown",
      "metadata": {
        "id": "AXmqYonXAUPF"
      },
      "source": [
        "* Higher the AUC, better the model is capable of performing the distinction"
      ]
    },
    {
      "cell_type": "markdown",
      "metadata": {
        "id": "FC70noAWAUPG"
      },
      "source": [
        "* The curve plots **False Positive Rate** (x-axis) vs **True Positive Rate** (y-axis)\n",
        "    * $FPR: 1-Specificity$\n",
        "    * $TPR: Recall\\:(also\\:known\\:as\\:Sensitivity)$"
      ]
    },
    {
      "cell_type": "markdown",
      "metadata": {
        "id": "GWOeHZguAUPG"
      },
      "source": [
        "![Fig. 6. Example of ROC AUC](https://www.dropbox.com/s/orarrocrue4lvzs/ROCAUC.png?raw=1)"
      ]
    },
    {
      "cell_type": "markdown",
      "metadata": {
        "id": "AunPA60PAUPG"
      },
      "source": [
        "### Runtime"
      ]
    },
    {
      "cell_type": "markdown",
      "metadata": {
        "id": "Svws6tJZAUPH"
      },
      "source": [
        "* It's not a bad idea to report this, particularly in large image datasets"
      ]
    },
    {
      "cell_type": "markdown",
      "metadata": {
        "id": "CSymbp5CAUPH"
      },
      "source": [
        "* Not very \"accepted\" in the academic world, but extremely useful in the industrial one!"
      ]
    },
    {
      "cell_type": "markdown",
      "metadata": {
        "id": "9OXHFYjEAUPH"
      },
      "source": [
        "* You can import the `time` module in Python and use the `perf_counter()` function to calculate the time of processes running\n",
        "    * Just be very careful where in your code you calculate the time!"
      ]
    },
    {
      "cell_type": "code",
      "execution_count": null,
      "metadata": {
        "id": "U5XV2_OPAUPI",
        "outputId": "56f0c720-7eae-4232-ba0c-a3d6edd613c6",
        "colab": {
          "base_uri": "https://localhost:8080/"
        }
      },
      "outputs": [
        {
          "output_type": "stream",
          "name": "stdout",
          "text": [
            "Elapsed time:  0.0008194629999991321\n"
          ]
        }
      ],
      "source": [
        "import time\n",
        "\n",
        "t = time.perf_counter()\n",
        "# do stuff\n",
        "x=0\n",
        "for i in range(1000):\n",
        "    x=x+i \n",
        "# stuff has finished\n",
        "print('Elapsed time: ',time.perf_counter() - t)"
      ]
    },
    {
      "cell_type": "markdown",
      "metadata": {
        "id": "Ox4AyAb3AUPK"
      },
      "source": [
        "## What about multi-class classification?"
      ]
    },
    {
      "cell_type": "markdown",
      "metadata": {
        "id": "t6eqQWPCAUPK"
      },
      "source": [
        "* So far, we have only spoken of metrics in the context of binary datasets"
      ]
    },
    {
      "cell_type": "markdown",
      "metadata": {
        "id": "FECmTVbnAUPL"
      },
      "source": [
        "* However, in most cases (i.e. your coursework) you will deal with multi-class datasets"
      ]
    },
    {
      "cell_type": "markdown",
      "metadata": {
        "id": "3PGwRH9ZAUPM"
      },
      "source": [
        "* There are many ways to adapt the aforementioned metrics to these scenarios, the most common one being the **One vs All** approach\n",
        "    * Comparing a metric of one class against the rest as if these were a single class"
      ]
    },
    {
      "cell_type": "markdown",
      "metadata": {
        "id": "zJ3-gIluAUPM"
      },
      "source": [
        "* Considering that you can still calculate precision, recall and F1-score for each class (against the rest), another commonly used approach is **macro/weighted/micro** metrics:"
      ]
    },
    {
      "cell_type": "markdown",
      "metadata": {
        "id": "7Z8fKAaBAUPM"
      },
      "source": [
        "* `Macro` is the arithmetic mean of all metrics"
      ]
    },
    {
      "cell_type": "markdown",
      "metadata": {
        "id": "mx5mruv0AUPN"
      },
      "source": [
        "* `Weighted` is when we multiply each metric by the number of samples of each class"
      ]
    },
    {
      "cell_type": "markdown",
      "metadata": {
        "id": "j7e-S-KPAUPP"
      },
      "source": [
        "* `Micro` is the harmonic mean of all metrics, which derives in the system's accuracy"
      ]
    },
    {
      "cell_type": "markdown",
      "metadata": {
        "id": "vtchTN2rAUPT"
      },
      "source": [
        "* To see an example of this, I recommend you to visit [this site](https://towardsdatascience.com/multi-class-metrics-made-simple-part-i-precision-and-recall-9250280bddc2)"
      ]
    },
    {
      "cell_type": "markdown",
      "metadata": {
        "id": "DDUvBNJmAUPU"
      },
      "source": [
        "## Validation Frameworks"
      ]
    },
    {
      "cell_type": "markdown",
      "metadata": {
        "id": "DvgHjgRHAUPU"
      },
      "source": [
        "![Fig. 7. Typical Data Split](https://www.dropbox.com/s/oze1q3wj7d71pa1/traintestvalid.jpg?raw=1)"
      ]
    },
    {
      "cell_type": "markdown",
      "metadata": {
        "id": "Kz1UUrjMAUPU"
      },
      "source": [
        "* Technically this is not the only way to split the data!"
      ]
    },
    {
      "cell_type": "markdown",
      "metadata": {
        "id": "VH1kDZK4AUPU"
      },
      "source": [
        "* Even when you split uniformly using train/val/test approach, you are still not considering that maybe some train/val data is better/worse for testing and vice versa!"
      ]
    },
    {
      "cell_type": "markdown",
      "metadata": {
        "id": "no5v_EX_AUPW"
      },
      "source": [
        "* To address this issue, there are some iterative validation frameworks which let you split data in different ways and perform multiple tests of the same model"
      ]
    },
    {
      "cell_type": "markdown",
      "metadata": {
        "id": "U7vWAAHbAUPW"
      },
      "source": [
        "### Cross validation"
      ]
    },
    {
      "cell_type": "markdown",
      "metadata": {
        "id": "nmgs7tfSAUPW"
      },
      "source": [
        "* Simple to understand"
      ]
    },
    {
      "cell_type": "markdown",
      "metadata": {
        "id": "OfpHn_T-AUPW"
      },
      "source": [
        "* Reduces \"bias\"\n",
        "    * i.e. over-optimistic results that may be caused due to chance"
      ]
    },
    {
      "cell_type": "markdown",
      "metadata": {
        "id": "FTHNdQwiAUPW"
      },
      "source": [
        "* Based on a single parameter $k$ which defined the number of times that the dataset will be *folded*"
      ]
    },
    {
      "cell_type": "markdown",
      "metadata": {
        "id": "EXvUsdLrAUPX"
      },
      "source": [
        "#### How it works"
      ]
    },
    {
      "cell_type": "markdown",
      "metadata": {
        "id": "6FHKz2gJAUPX"
      },
      "source": [
        "1) Shuffle the dataset"
      ]
    },
    {
      "cell_type": "markdown",
      "metadata": {
        "id": "8TzkHA7FAUPX"
      },
      "source": [
        "2) Split the dataset into $k$ groups"
      ]
    },
    {
      "cell_type": "markdown",
      "metadata": {
        "id": "dz8DtWcJAUPX"
      },
      "source": [
        "3) For each group\n",
        "    * Take that group as the test data\n",
        "    * Take the remaining groups as the training data\n",
        "    * Fit the model\n",
        "    * Retain the score and discard the model"
      ]
    },
    {
      "cell_type": "markdown",
      "metadata": {
        "id": "juPAVPLqAUPY"
      },
      "source": [
        "4) Once you are done, average/summarise all results"
      ]
    },
    {
      "cell_type": "markdown",
      "metadata": {
        "id": "Jkb6sJTSAUPY"
      },
      "source": [
        "#### Which $k$ to choose?"
      ]
    },
    {
      "cell_type": "markdown",
      "metadata": {
        "id": "ZKV25BiXAUPZ"
      },
      "source": [
        "* Representative for the model: Large enough to be statistically significant!"
      ]
    },
    {
      "cell_type": "markdown",
      "metadata": {
        "id": "ovK_6utAAUPZ"
      },
      "source": [
        "* $k=5$ and $k=10$ are the usual standard, but it depends on how many samples you have!"
      ]
    },
    {
      "cell_type": "markdown",
      "metadata": {
        "id": "_hqCI3JJAUPa"
      },
      "source": [
        "* If you do $k=n$ ($n$ being the number of samples in the dataset) then you will test every sample as the test against the rest as the training set"
      ]
    },
    {
      "cell_type": "markdown",
      "metadata": {
        "id": "AwupVKq-AUPa"
      },
      "source": [
        "* This is also known as the **Leave-One-Out** approach"
      ]
    },
    {
      "cell_type": "markdown",
      "metadata": {
        "id": "j7QJdClBAUPb"
      },
      "source": [
        "* In fact, in the [Keel Imbalanced Datasets Repository](https://sci2s.ugr.es/keel/imbalanced.php) presented before, they even include all datasets in *5-fcv* to test using a predetermined 5-fold cross validation setting"
      ]
    },
    {
      "cell_type": "markdown",
      "metadata": {
        "id": "UsNenglNAUPb"
      },
      "source": [
        "# LAB: PERFORMANCE MEASURES FOR BINARY DATASETS IN PYTHON"
      ]
    }
  ],
  "metadata": {
    "celltoolbar": "Slideshow",
    "hide_input": false,
    "kernelspec": {
      "display_name": "Python 3",
      "language": "python",
      "name": "python3"
    },
    "language_info": {
      "codemirror_mode": {
        "name": "ipython",
        "version": 3
      },
      "file_extension": ".py",
      "mimetype": "text/x-python",
      "name": "python",
      "nbconvert_exporter": "python",
      "pygments_lexer": "ipython3",
      "version": "3.7.3"
    },
    "rise": {
      "enable_chalkboard": true
    },
    "varInspector": {
      "cols": {
        "lenName": 16,
        "lenType": 16,
        "lenVar": 40
      },
      "kernels_config": {
        "python": {
          "delete_cmd_postfix": "",
          "delete_cmd_prefix": "del ",
          "library": "var_list.py",
          "varRefreshCmd": "print(var_dic_list())"
        },
        "r": {
          "delete_cmd_postfix": ") ",
          "delete_cmd_prefix": "rm(",
          "library": "var_list.r",
          "varRefreshCmd": "cat(var_dic_list()) "
        }
      },
      "types_to_exclude": [
        "module",
        "function",
        "builtin_function_or_method",
        "instance",
        "_Feature"
      ],
      "window_display": false
    },
    "colab": {
      "provenance": [],
      "collapsed_sections": [
        "kdv2VmgAAUOi",
        "yz0okNC2AUOn",
        "EgYs1-XDAUOq",
        "LT68cQJyAUOr",
        "oRJIHin8AUOt",
        "3wTwXFRYAUOz",
        "laH7THdTAUO3",
        "GFBzGl_bAUO4",
        "jWFkFyatAUO5",
        "3TPN3f4DAUO6",
        "U81SOYuMAUO7",
        "kE6MvrFsAUO8",
        "RbAcwW3sAUPC",
        "NJe1dugSAUPE",
        "U7vWAAHbAUPW",
        "EXvUsdLrAUPX",
        "Jkb6sJTSAUPY"
      ],
      "include_colab_link": true
    }
  },
  "nbformat": 4,
  "nbformat_minor": 0
}