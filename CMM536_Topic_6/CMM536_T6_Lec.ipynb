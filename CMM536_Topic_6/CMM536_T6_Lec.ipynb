{
  "cells": [
    {
      "cell_type": "markdown",
      "metadata": {
        "id": "view-in-github",
        "colab_type": "text"
      },
      "source": [
        "<a href=\"https://colab.research.google.com/github/carlosfmorenog/CMM536/blob/master/CMM536_Topic_6/CMM536_T6_Lec.ipynb\" target=\"_parent\"><img src=\"https://colab.research.google.com/assets/colab-badge.svg\" alt=\"Open In Colab\"/></a>"
      ]
    },
    {
      "cell_type": "markdown",
      "metadata": {
        "id": "mnJkiWtLMS8C"
      },
      "source": [
        "# Topic 6 - Metrics for Performance Evaluation"
      ]
    },
    {
      "cell_type": "markdown",
      "metadata": {
        "id": "D1ikxpU-MS8E"
      },
      "source": [
        "## Aims of the Session"
      ]
    },
    {
      "cell_type": "markdown",
      "metadata": {
        "id": "gZOb0JcRMS8F"
      },
      "source": [
        "* Learn different metrics used to evaluate classification frameworks"
      ]
    },
    {
      "cell_type": "markdown",
      "metadata": {
        "id": "7Iz83tAqMS8G"
      },
      "source": [
        "* Understand some alternatives to design proper tests"
      ]
    },
    {
      "cell_type": "markdown",
      "metadata": {
        "id": "J4WKL2tNMS8H"
      },
      "source": [
        "## Resources for the Lecture"
      ]
    },
    {
      "cell_type": "markdown",
      "metadata": {
        "id": "YR-JLQ-cMS8H"
      },
      "source": [
        "### Websites\n",
        "\n",
        "* https://towardsdatascience.com/understanding-the-bias-variance-tradeoff-165e6942b229\n",
        "* https://en.wikipedia.org/wiki/Precision_and_recall\n",
        "* https://en.wikipedia.org/wiki/Sensitivity_and_specificity\n",
        "* https://en.wikipedia.org/wiki/Confusion_matrix\n",
        "* https://towardsdatascience.com/understanding-auc-roc-curve-68b2303cc9c5\n",
        "* https://towardsdatascience.com/multi-class-metrics-made-simple-part-i-precision-and-recall-9250280bddc2\n",
        "* https://machinelearningmastery.com/k-fold-cross-validation/"
      ]
    },
    {
      "cell_type": "markdown",
      "metadata": {
        "id": "ysEk1rT-MS8J"
      },
      "source": [
        "### Online Courses\n",
        "\n",
        "* [Deep Learning Specialization by Andrew NG (Coursera)](https://es.coursera.org/specializations/deep-learning)"
      ]
    },
    {
      "cell_type": "markdown",
      "metadata": {
        "id": "ufa1DIn5MS8K"
      },
      "source": [
        "### Papers\n",
        "\n",
        "* E. Elyan and M. M. Gaber, “A fine-grained random forests using class decomposition: an application to medical diagnosis,” Neural Computing and Applications, vol. 27, no. 8, pp. 2279–2288, 2016. [OpenAir Link](https://rgu-repository.worktribe.com/output/246110/a-fine-grained-random-forests-using-class-decomposition-an-application-to-medical-diagnosis)"
      ]
    },
    {
      "cell_type": "markdown",
      "metadata": {
        "id": "fakSPaq8MS8L"
      },
      "source": [
        "## Some important concepts"
      ]
    },
    {
      "cell_type": "markdown",
      "metadata": {
        "id": "Fy6pDeveMS8M"
      },
      "source": [
        "![Fig. 1. Typical Data Split](https://www.dropbox.com/s/oze1q3wj7d71pa1/traintestvalid.jpg?raw=1)"
      ]
    },
    {
      "cell_type": "markdown",
      "metadata": {
        "id": "Oitn_jnHMS8M"
      },
      "source": [
        "* `Generalisation`: The ability to correctly classify new examples different from those used for training a model"
      ]
    },
    {
      "cell_type": "markdown",
      "metadata": {
        "id": "o9_zqL8-MS8M"
      },
      "source": [
        "![Fig. 2. Sample data of a binary dataset](https://www.dropbox.com/s/iiorih73voblfb9/data.png?raw=1)"
      ]
    },
    {
      "cell_type": "markdown",
      "metadata": {
        "id": "AaGy6CPQMS8N"
      },
      "source": [
        "* `Overfitting`: The trained classifier gets a $100\\%$ accuracy in the training/validation data, but only $50\\%$ in the testing data.\n",
        "    * Also known as `high variance`."
      ]
    },
    {
      "cell_type": "markdown",
      "metadata": {
        "id": "-LGE94o1MS8N"
      },
      "source": [
        "![Fig. 2a. Sample data of a binary dataset with an overfitted model](https://www.dropbox.com/s/gtyc6o096si85ii/overfitting.png?raw=1)"
      ]
    },
    {
      "cell_type": "markdown",
      "metadata": {
        "id": "t2yS2ZDgMS8O"
      },
      "source": [
        "* `Underfitting`: The learned classifier is so simplistic that does not capture the structure of the data.\n",
        "    * This translates on a poor performance on the  validation data\n",
        "    * Also known as `high bias`"
      ]
    },
    {
      "cell_type": "markdown",
      "metadata": {
        "id": "HoLHt0tcMS8O"
      },
      "source": [
        "![Fig. 2b. Sample data of a binary dataset with an underfitted model](https://www.dropbox.com/s/sc6t7pocg90xrak/underfitting.png?raw=1)"
      ]
    },
    {
      "cell_type": "markdown",
      "metadata": {
        "id": "yQ8F2NqSMS8O"
      },
      "source": [
        "* What do we expect?"
      ]
    },
    {
      "cell_type": "markdown",
      "metadata": {
        "id": "2hvsGlNRMS8P"
      },
      "source": [
        "![Fig. 2c. Sample data of a binary dataset with \"just right\" classification](https://www.dropbox.com/s/8qmcr98jeghw7fe/justright.png?raw=1)"
      ]
    },
    {
      "cell_type": "markdown",
      "metadata": {
        "id": "ROfAEtzrMS8P"
      },
      "source": [
        "### The bias-variance trade-off"
      ]
    },
    {
      "cell_type": "markdown",
      "metadata": {
        "id": "RVvUu1iwMS8P"
      },
      "source": [
        "* As you can see, a model can either have high bias or high variance"
      ]
    },
    {
      "cell_type": "markdown",
      "metadata": {
        "id": "MW_m24CYMS8P"
      },
      "source": [
        "* The main objective of machine learning is to find a function $h(x)$ that maps feature $X$ to class/target $y$ minimising:\n",
        "    * bias error\n",
        "    * variance error\n",
        "    * irreducible error (noise in the data)"
      ]
    },
    {
      "cell_type": "markdown",
      "metadata": {
        "id": "tKio4GVhMS8P"
      },
      "source": [
        "Typically[$^1$](https://towardsdatascience.com/understanding-the-bias-variance-tradeoff-165e6942b229), the **Error** of a learner/classifier is modelled using the following equation:"
      ]
    },
    {
      "cell_type": "markdown",
      "metadata": {
        "id": "adRDEsb7MS8Q"
      },
      "source": [
        "$Err(x)=Bias^2+Variance+Irreducible\\:Error$"
      ]
    },
    {
      "cell_type": "markdown",
      "metadata": {
        "id": "P9GeRqumMS8Q"
      },
      "source": [
        "**Why $Bias^2$?**"
      ]
    },
    {
      "cell_type": "markdown",
      "metadata": {
        "id": "yRnpqpEIMS8Q"
      },
      "source": [
        "## Performance Measures"
      ]
    },
    {
      "cell_type": "markdown",
      "metadata": {
        "id": "Z51IexX0MS8Q"
      },
      "source": [
        "* Assume that we are evaluating the classification success of a **binary** dataset"
      ]
    },
    {
      "cell_type": "markdown",
      "metadata": {
        "id": "9y3vD8YqMS8R"
      },
      "source": [
        "* `True Positives` (TP): This is what many people understand as *accuracy* (but is not!)\n",
        "    * Samples from the *positive class* that are classified correctly"
      ]
    },
    {
      "cell_type": "markdown",
      "metadata": {
        "id": "3L0DOwvkMS8R"
      },
      "source": [
        "* `True Negatives` (TN): How many samples from the negative class are **NOT** classified as being from the positive one"
      ]
    },
    {
      "cell_type": "markdown",
      "metadata": {
        "id": "h2K20OVTMS8R"
      },
      "source": [
        "* `False Positives` (FP): How many samples from the negative class are classified as being from the positive class\n",
        "    * Also known in statistics as **False alarms** or **Type I Error**"
      ]
    },
    {
      "cell_type": "markdown",
      "metadata": {
        "id": "E8E3nabXMS8R"
      },
      "source": [
        "* `False Negatives` (FN): How many samples from the positive class are classified as being from the negative class\n",
        "    * Also known in statistics as **Type II Error**"
      ]
    },
    {
      "cell_type": "markdown",
      "metadata": {
        "id": "WULzNlBIMS8R"
      },
      "source": [
        "### Accuracy"
      ]
    },
    {
      "cell_type": "markdown",
      "metadata": {
        "id": "fkDdq0zUMS8S"
      },
      "source": [
        "* $Accuracy = \\frac{TP+TN}{TP+TN+FP+FN}$"
      ]
    },
    {
      "cell_type": "markdown",
      "metadata": {
        "id": "HtBFRqj8MS8S"
      },
      "source": [
        "* The value of the accuracy must be **between $0$ and $1$**"
      ]
    },
    {
      "cell_type": "markdown",
      "metadata": {
        "id": "qWbdh_3FMS8T"
      },
      "source": [
        "* Recall that we said that this is **not** a good measure for imbalanced datasets"
      ]
    },
    {
      "cell_type": "markdown",
      "metadata": {
        "id": "Rva9zGkKMS8T"
      },
      "source": [
        "* **WHY?**"
      ]
    },
    {
      "cell_type": "markdown",
      "metadata": {
        "id": "r1_R6AtKMS8T"
      },
      "source": [
        "### Error Rate"
      ]
    },
    {
      "cell_type": "markdown",
      "metadata": {
        "id": "AIamlshXMS8T"
      },
      "source": [
        "* $Error\\:Rate = \\frac{FP+FN}{TP+TN+FP+FN} = 1 - Accuracy$"
      ]
    },
    {
      "cell_type": "markdown",
      "metadata": {
        "id": "oZbxooD3MS8T"
      },
      "source": [
        "* Also must be **between $0$ and $1$**"
      ]
    },
    {
      "cell_type": "markdown",
      "metadata": {
        "id": "l8szwgtOMS8T"
      },
      "source": [
        "* **Do you think this one is good for imbalanced datasets?**"
      ]
    },
    {
      "cell_type": "markdown",
      "metadata": {
        "id": "oMPNozC_MS8U"
      },
      "source": [
        "### Precision and Recall"
      ]
    },
    {
      "cell_type": "markdown",
      "metadata": {
        "id": "DnujgLiBMS8X"
      },
      "source": [
        "* Assume that we have the following **binary** classification scenario"
      ]
    },
    {
      "cell_type": "markdown",
      "metadata": {
        "id": "Kl7Fl40wMS8Y"
      },
      "source": [
        "![Fig. 3. Binary Classification Scenario Example](https://www.dropbox.com/s/kojs26i99ksxwuj/Precisionrecall.png?raw=1)"
      ]
    },
    {
      "cell_type": "markdown",
      "metadata": {
        "id": "rAxKgbPDMS8Y"
      },
      "source": [
        "#### Precision"
      ]
    },
    {
      "cell_type": "markdown",
      "metadata": {
        "id": "M-GrSJ3FMS8Y"
      },
      "source": [
        "* $Precision = \\frac{TP}{TP+FP}$"
      ]
    },
    {
      "cell_type": "markdown",
      "metadata": {
        "id": "HGpfswhxMS8Y"
      },
      "source": [
        "![Fig. 3a. Precision Illustrated in the Binary Classification Scenario Example](https://www.dropbox.com/s/1y2z9grr3tle83n/Precision.png?raw=1)"
      ]
    },
    {
      "cell_type": "markdown",
      "metadata": {
        "id": "DmsOHpPtMS8Z"
      },
      "source": [
        "* How much of what I **have** I **need**?"
      ]
    },
    {
      "cell_type": "markdown",
      "metadata": {
        "id": "3UcEwZGzMS8a"
      },
      "source": [
        "#### Recall"
      ]
    },
    {
      "cell_type": "markdown",
      "metadata": {
        "id": "fhNrmpe6MS8a"
      },
      "source": [
        "* $Recall = \\frac{TP}{TP+FN}$"
      ]
    },
    {
      "cell_type": "markdown",
      "metadata": {
        "id": "yq2JBNbSMS8a"
      },
      "source": [
        "![Fig. 3b. Recall illustrated in the binary Classification scenario example](https://www.dropbox.com/s/hpm2rck19vxgnqy/Recall.png?raw=1)"
      ]
    },
    {
      "cell_type": "markdown",
      "metadata": {
        "id": "1d_i7TghMS8a"
      },
      "source": [
        "* How much of what I **need** I **have**?"
      ]
    },
    {
      "cell_type": "markdown",
      "metadata": {
        "id": "nonIBN9VMS8b"
      },
      "source": [
        "* The difference is in what you divide the `TP` with"
      ]
    },
    {
      "cell_type": "markdown",
      "metadata": {
        "id": "hd1xZlZdMS8c"
      },
      "source": [
        "* Most systems are known to have a precision/recall trade-off"
      ]
    },
    {
      "cell_type": "markdown",
      "metadata": {
        "id": "eXhrxYq2MS8c"
      },
      "source": [
        "* **Which is better?**"
      ]
    },
    {
      "cell_type": "markdown",
      "metadata": {
        "id": "ri2OE0WhMS8c"
      },
      "source": [
        "#### F1-score (or F1-measure)"
      ]
    },
    {
      "cell_type": "markdown",
      "metadata": {
        "id": "K3msRWIMMS8c"
      },
      "source": [
        "* Harmonic mean between precision and recall"
      ]
    },
    {
      "cell_type": "markdown",
      "metadata": {
        "id": "yhSUZuixMS8d"
      },
      "source": [
        "* $F1 = 2 \\times \\frac{Precision \\times Recall}{Precision + Recall} = \\frac{2 \\times TP}{(2 \\times TP) + FP + FN}$"
      ]
    },
    {
      "cell_type": "markdown",
      "metadata": {
        "id": "d1GvmCLCMS8d"
      },
      "source": [
        "### Sensitivity and Specificity"
      ]
    },
    {
      "cell_type": "markdown",
      "metadata": {
        "id": "MgkxK_h3MS8d"
      },
      "source": [
        "* Similar to precision and recall, but used more in the health sciences domain"
      ]
    },
    {
      "cell_type": "markdown",
      "metadata": {
        "id": "N5ZqAQhrMS8d"
      },
      "source": [
        "#### Sensitivity"
      ]
    },
    {
      "cell_type": "markdown",
      "metadata": {
        "id": "jrj17ixEMS8e"
      },
      "source": [
        "* Just another name for **recall**"
      ]
    },
    {
      "cell_type": "markdown",
      "metadata": {
        "id": "hDYNAKhdMS8e"
      },
      "source": [
        "![Fig. 3c. Sensitivity illustrated in the binary classification scenario example](https://www.dropbox.com/s/5anc9xoualeij76/sensitivity.png?raw=1)"
      ]
    },
    {
      "cell_type": "markdown",
      "metadata": {
        "id": "XAF_dsZ7MS8e"
      },
      "source": [
        "#### Specificity"
      ]
    },
    {
      "cell_type": "markdown",
      "metadata": {
        "id": "raCQJP_cMS8e"
      },
      "source": [
        "* The precision for the negative class"
      ]
    },
    {
      "cell_type": "markdown",
      "metadata": {
        "id": "oz2Q8vpuMS8e"
      },
      "source": [
        "![Fig. 3d. Specificity illustrated in the binary classification scenario example](https://www.dropbox.com/s/o3w055swet69c9k/specificity.png?raw=1)"
      ]
    },
    {
      "cell_type": "markdown",
      "metadata": {
        "id": "T1aaJGcBMS8e"
      },
      "source": [
        "**Is there any \"F-measure\" for these two?**"
      ]
    },
    {
      "cell_type": "markdown",
      "metadata": {
        "id": "40P_6kesMS8e"
      },
      "source": [
        "### The Confusion Matrix"
      ]
    },
    {
      "cell_type": "markdown",
      "metadata": {
        "id": "rV0X465sMS8f"
      },
      "source": [
        "* Also known as *error matrix*"
      ]
    },
    {
      "cell_type": "markdown",
      "metadata": {
        "id": "by5E4DaeMS8f"
      },
      "source": [
        "* Table that allows you to visualise the performance of a supervised learning algorithm"
      ]
    },
    {
      "cell_type": "markdown",
      "metadata": {
        "id": "iRN_zcDMMS8f"
      },
      "source": [
        "#### Example"
      ]
    },
    {
      "cell_type": "markdown",
      "metadata": {
        "id": "Fvf4LPqQMS8f"
      },
      "source": [
        "* A classifier has been trained to distinguish cats from dogs"
      ]
    },
    {
      "cell_type": "markdown",
      "metadata": {
        "id": "BnW-GLhlMS8g"
      },
      "source": [
        "* Assuming a sample of 13 animals (8 cats and 5 dogs), you get the following confusion matrix"
      ]
    },
    {
      "cell_type": "markdown",
      "metadata": {
        "id": "eZ8adKcwMS8g"
      },
      "source": [
        "![Fig 4. Confusion matrix example](https://www.dropbox.com/s/ii6nitc5fxpgb8d/confmat.png?raw=1)"
      ]
    },
    {
      "cell_type": "markdown",
      "metadata": {
        "id": "-89iXeNyMS8g"
      },
      "source": [
        "* This table can also be interpreted with respect to the previously seen terms"
      ]
    },
    {
      "cell_type": "markdown",
      "metadata": {
        "id": "5YGM9DH6MS8g"
      },
      "source": [
        "![Fig 4a. Confusion matrix with previously seen terms](https://www.dropbox.com/s/dwkpg1epk46b5cm/confmat2.png?raw=1)"
      ]
    },
    {
      "cell_type": "markdown",
      "metadata": {
        "id": "tgjO3MEMMS8g"
      },
      "source": [
        "#### The Confusion Matrix in Class Decomposition"
      ]
    },
    {
      "cell_type": "markdown",
      "metadata": {
        "id": "a3b6lz30MS8g"
      },
      "source": [
        "* Assume that you have to classify a binary dataset with labels $a$ and $b$"
      ]
    },
    {
      "cell_type": "markdown",
      "metadata": {
        "id": "b53si7YRMS8h"
      },
      "source": [
        "* A class decomposition algorithm has been applied to the data, resulting in two sub-classes per class:\n",
        "    * $a$ decomposed into $a_1$ and $a_2$\n",
        "    * $b$ decomposed into $b_1$ and $b_2$"
      ]
    },
    {
      "cell_type": "markdown",
      "metadata": {
        "id": "taJ-TXopMS8h"
      },
      "source": [
        "* You will obtain the following confusion matrix, as shown in [Elyan & Gaber 2016](https://rgu-repository.worktribe.com/output/246110/a-fine-grained-random-forests-using-class-decomposition-an-application-to-medical-diagnosis)"
      ]
    },
    {
      "cell_type": "markdown",
      "metadata": {
        "id": "BuxKrA78MS8h"
      },
      "source": [
        "![Fig 5. Confusion matrix example for class decomposition](https://www.dropbox.com/s/zniu6qqpfz6nulq/confmatcd.png?raw=1)"
      ]
    },
    {
      "cell_type": "markdown",
      "metadata": {
        "id": "VP7lTaEdMS8h"
      },
      "source": [
        "### Area under the Receiving Operating Characteristic (ROC) Curve"
      ]
    },
    {
      "cell_type": "markdown",
      "metadata": {
        "id": "VwtEzmtoMS8h"
      },
      "source": [
        "* Suitable to compare classification rates in a more visual way and at **different threshold settings**"
      ]
    },
    {
      "cell_type": "markdown",
      "metadata": {
        "id": "WQG4uJYdMS8h"
      },
      "source": [
        "* It is a probability curve that tells you how much your model is able to distinguish between classes"
      ]
    },
    {
      "cell_type": "markdown",
      "metadata": {
        "id": "zgPjCmaaMS8i"
      },
      "source": [
        "* Higher the AUC, better the model is capable of performing the distinction"
      ]
    },
    {
      "cell_type": "markdown",
      "metadata": {
        "id": "gXSVz-0AMS8i"
      },
      "source": [
        "* The curve plots **False Positive Rate** (x-axis) vs **True Positive Rate** (y-axis)\n",
        "    * $FPR: 1-Specificity$\n",
        "    * $TPR: Recall\\:(also\\:known\\:as\\:Sensitivity)$"
      ]
    },
    {
      "cell_type": "markdown",
      "metadata": {
        "id": "0T41MqaFMS8i"
      },
      "source": [
        "![Fig. 6. Example of ROC AUC](https://www.dropbox.com/s/orarrocrue4lvzs/ROCAUC.png?raw=1)"
      ]
    },
    {
      "cell_type": "markdown",
      "metadata": {
        "id": "fI6GJwkUMS8i"
      },
      "source": [
        "### Runtime"
      ]
    },
    {
      "cell_type": "markdown",
      "metadata": {
        "id": "LrBFxSLGMS8i"
      },
      "source": [
        "* It's not a bad idea to report this, particularly in large image datasets"
      ]
    },
    {
      "cell_type": "markdown",
      "metadata": {
        "id": "d_umXnueMS8i"
      },
      "source": [
        "* Not very \"accepted\" in the academic world, but extremely useful in the industrial one!"
      ]
    },
    {
      "cell_type": "markdown",
      "metadata": {
        "id": "VhDXCLb0MS8j"
      },
      "source": [
        "* You can import the `time` module in Python and use the `perf_counter()` function to calculate the time of processes running\n",
        "    * Just be very careful where in your code you calculate the time!"
      ]
    },
    {
      "cell_type": "code",
      "execution_count": null,
      "metadata": {
        "id": "hxF2IfYhMS8j",
        "outputId": "a16a7584-e424-464d-abf5-d23b5d5342c3"
      },
      "outputs": [
        {
          "name": "stdout",
          "output_type": "stream",
          "text": [
            "Elapsed time:  0.000525200000993209\n"
          ]
        }
      ],
      "source": [
        "import time\n",
        "\n",
        "t = time.perf_counter()\n",
        "# do stuff\n",
        "x=0\n",
        "for i in range(1000):\n",
        "    x=x+i\n",
        "# stuff has finished\n",
        "print('Elapsed time: ',time.perf_counter() - t)"
      ]
    },
    {
      "cell_type": "markdown",
      "metadata": {
        "id": "ru9cGIjaMS8j"
      },
      "source": [
        "## What about multi-class classification?"
      ]
    },
    {
      "cell_type": "markdown",
      "metadata": {
        "id": "UhG3RlOjMS8j"
      },
      "source": [
        "* So far, we have only spoken of metrics in the context of binary datasets"
      ]
    },
    {
      "cell_type": "markdown",
      "metadata": {
        "id": "3R6mz6YGMS8k"
      },
      "source": [
        "* However, in most cases you will deal with multi-class datasets"
      ]
    },
    {
      "cell_type": "markdown",
      "metadata": {
        "id": "tcpBGGc6MS8k"
      },
      "source": [
        "* There are many ways to adapt the aforementioned metrics to these scenarios, the most common one being the **One vs All** approach\n",
        "    * Comparing a metric of one class against the rest as if these were a single class"
      ]
    },
    {
      "cell_type": "markdown",
      "metadata": {
        "id": "dGfSLzHQMS8k"
      },
      "source": [
        "* Considering that you can still calculate precision, recall and F1-score for each class (against the rest), another commonly used approach is **macro/weighted/micro** metrics:"
      ]
    },
    {
      "cell_type": "markdown",
      "metadata": {
        "id": "NDmO3rBsMS8k"
      },
      "source": [
        "* `Macro` is the arithmetic mean of all metrics"
      ]
    },
    {
      "cell_type": "markdown",
      "metadata": {
        "id": "p2t53NHjMS8k"
      },
      "source": [
        "* `Weighted` is when we multiply each metric by the number of samples of each class"
      ]
    },
    {
      "cell_type": "markdown",
      "metadata": {
        "id": "goXyvjxeMS8l"
      },
      "source": [
        "* `Micro` is the harmonic mean of all metrics, which derives in the system's accuracy"
      ]
    },
    {
      "cell_type": "markdown",
      "metadata": {
        "id": "NTMxLhA4MS8l"
      },
      "source": [
        "* To see an example of this, I recommend you to visit [this site](https://towardsdatascience.com/multi-class-metrics-made-simple-part-i-precision-and-recall-9250280bddc2)"
      ]
    },
    {
      "cell_type": "markdown",
      "metadata": {
        "id": "Jw3Cnza4MS8m"
      },
      "source": [
        "## Validation Frameworks"
      ]
    },
    {
      "cell_type": "markdown",
      "metadata": {
        "id": "G3Aa1nfqMS8m"
      },
      "source": [
        "![Fig. 7. Typical Data Split](https://www.dropbox.com/s/oze1q3wj7d71pa1/traintestvalid.jpg?raw=1)"
      ]
    },
    {
      "cell_type": "markdown",
      "metadata": {
        "id": "PcbT5jdWMS8m"
      },
      "source": [
        "* Technically this is not the only way to split the data!"
      ]
    },
    {
      "cell_type": "markdown",
      "metadata": {
        "id": "9BJ8TwC4MS8m"
      },
      "source": [
        "* Even when you split uniformly using train/val/test approach, you are still not considering that maybe some train/val data is better/worse for testing and vice versa!"
      ]
    },
    {
      "cell_type": "markdown",
      "metadata": {
        "id": "Gt15EaZvMS8n"
      },
      "source": [
        "* To address this issue, there are some iterative validation frameworks which let you split data in different ways and perform multiple tests of the same model"
      ]
    },
    {
      "cell_type": "markdown",
      "metadata": {
        "id": "MbKGklmtMS8n"
      },
      "source": [
        "### Cross validation"
      ]
    },
    {
      "cell_type": "markdown",
      "metadata": {
        "id": "_HDElUhlMS8n"
      },
      "source": [
        "* Simple to understand"
      ]
    },
    {
      "cell_type": "markdown",
      "metadata": {
        "id": "FAtvkdwtMS8n"
      },
      "source": [
        "* Reduces \"bias\"\n",
        "    * i.e. over-optimistic results that may be caused due to chance"
      ]
    },
    {
      "cell_type": "markdown",
      "metadata": {
        "id": "zzP-1RQgMS8n"
      },
      "source": [
        "* Based on a single parameter $k$ which defined the number of times that the dataset will be *folded*"
      ]
    },
    {
      "cell_type": "markdown",
      "metadata": {
        "id": "WF8dSVqUMS8n"
      },
      "source": [
        "#### How it works"
      ]
    },
    {
      "cell_type": "markdown",
      "metadata": {
        "id": "Ub5OPN0XMS8n"
      },
      "source": [
        "1) Shuffle the dataset"
      ]
    },
    {
      "cell_type": "markdown",
      "metadata": {
        "id": "f84gVxTjMS8n"
      },
      "source": [
        "2) Split the dataset into $k$ groups"
      ]
    },
    {
      "cell_type": "markdown",
      "metadata": {
        "id": "U6mCTD0jMS8o"
      },
      "source": [
        "3) For each group\n",
        "    * Take that group as the test data\n",
        "    * Take the remaining groups as the training data\n",
        "    * Fit the model\n",
        "    * Retain the score and discard the model"
      ]
    },
    {
      "cell_type": "markdown",
      "metadata": {
        "id": "8HKcHjJwMS8o"
      },
      "source": [
        "4) Once you are done, average/summarise all results"
      ]
    },
    {
      "cell_type": "markdown",
      "metadata": {
        "id": "YrEklT__MS8o"
      },
      "source": [
        "#### Which $k$ to choose?"
      ]
    },
    {
      "cell_type": "markdown",
      "metadata": {
        "id": "219oS5l4MS8o"
      },
      "source": [
        "* Representative for the model: Large enough to be statistically significant!"
      ]
    },
    {
      "cell_type": "markdown",
      "metadata": {
        "id": "vnObYm_fMS8o"
      },
      "source": [
        "* $k=5$ and $k=10$ are the usual standard, but it depends on how many samples you have!"
      ]
    },
    {
      "cell_type": "markdown",
      "metadata": {
        "id": "HN8FKAK1MS8o"
      },
      "source": [
        "* If you do $k=n$ ($n$ being the number of samples in the dataset) then you will test every sample as the test against the rest as the training set"
      ]
    },
    {
      "cell_type": "markdown",
      "metadata": {
        "id": "Bnb7vdS5MS8o"
      },
      "source": [
        "* This is also known as the **Leave-One-Out** approach"
      ]
    },
    {
      "cell_type": "markdown",
      "metadata": {
        "id": "JEEFYcooMS8o"
      },
      "source": [
        "* In fact, in the [Keel Imbalanced Datasets Repository](https://sci2s.ugr.es/keel/imbalanced.php) presented before, they even include all datasets in *5-fcv* to test using a predetermined 5-fold cross validation setting"
      ]
    },
    {
      "cell_type": "markdown",
      "metadata": {
        "id": "xZ0KhbHoMS8p"
      },
      "source": [
        "## Metrics used in Computer Vision"
      ]
    },
    {
      "cell_type": "markdown",
      "metadata": {
        "id": "QzVBPrSxMS8p"
      },
      "source": [
        "### IoU (A.K.A. Jaccard Index)"
      ]
    },
    {
      "cell_type": "markdown",
      "metadata": {
        "id": "4XW1QI4QMS8p"
      },
      "source": [
        "![Fig 8. Intersection over Union](https://www.dropbox.com/scl/fi/ass5opbcb3lmohtr22a7v/iou.png?rlkey=gj5g79mz05j3rsnoenwu3btc1&raw=1)"
      ]
    },
    {
      "cell_type": "markdown",
      "metadata": {
        "id": "QD0IpBa5MS8p"
      },
      "source": [
        "![Fig 9. Intersection over Union Formula](https://www.dropbox.com/scl/fi/tvu4tpdq7w1mns9uukcse/iouformula.png?rlkey=1n20rpcxk9hy2univxqetn1ca&raw=1)"
      ]
    },
    {
      "cell_type": "markdown",
      "metadata": {
        "id": "cwQbRl-9MS8p"
      },
      "source": [
        "* Normally, $IoU \\geq 0.5$ is considered good, while $1$ is perfect!"
      ]
    },
    {
      "cell_type": "markdown",
      "metadata": {
        "id": "XJjCLXSOMS8q"
      },
      "source": [
        "![Fig 10. Intersection over Union Examples](https://www.dropbox.com/scl/fi/kol5jba0azx6qmrbg2ono/iouexamples.png?rlkey=g8lanp2tu1oqa5sgiyx61y55e&raw=1)"
      ]
    },
    {
      "cell_type": "markdown",
      "metadata": {
        "id": "5fx7yB11MS8q"
      },
      "source": [
        "### Dice Coefficient"
      ]
    },
    {
      "cell_type": "markdown",
      "metadata": {
        "id": "H5dY6tSCMS8q"
      },
      "source": [
        "* The \"F1-Score\" of computer vision metrics"
      ]
    },
    {
      "cell_type": "markdown",
      "metadata": {
        "id": "cuUIh11AMS8r"
      },
      "source": [
        "* More widely used for segmentation"
      ]
    },
    {
      "cell_type": "markdown",
      "metadata": {
        "id": "4yLNiC3OMS8r"
      },
      "source": [
        "![Fig 11. Dice Coefficient](https://www.dropbox.com/scl/fi/40ne3x72458zpwp9c6fif/dice.png?rlkey=11aaqn1q1wn49tpp6oqs1oywd&raw=1)"
      ]
    },
    {
      "cell_type": "markdown",
      "metadata": {
        "id": "4wYrr644MS8r"
      },
      "source": [
        "**What is the difference between IoU and Dice?**"
      ]
    },
    {
      "cell_type": "markdown",
      "metadata": {
        "id": "-FdLgg_jMS8r"
      },
      "source": [
        "* Dice coefficient penalizes false positives, which is better for high imbalanced datasets"
      ]
    },
    {
      "cell_type": "markdown",
      "metadata": {
        "id": "k-QKok52MS8s"
      },
      "source": [
        "* IoU is more like the recall, so it is good to use when pixels are outside the areas"
      ]
    },
    {
      "cell_type": "markdown",
      "metadata": {
        "id": "zBUlbJ1JMS8s"
      },
      "source": [
        "# LAB: PERFORMANCE MEASURES FOR BINARY DATASETS IN PYTHON"
      ]
    }
  ],
  "metadata": {
    "celltoolbar": "Slideshow",
    "hide_input": false,
    "kernelspec": {
      "display_name": "Python 3 (ipykernel)",
      "language": "python",
      "name": "python3"
    },
    "language_info": {
      "codemirror_mode": {
        "name": "ipython",
        "version": 3
      },
      "file_extension": ".py",
      "mimetype": "text/x-python",
      "name": "python",
      "nbconvert_exporter": "python",
      "pygments_lexer": "ipython3",
      "version": "3.11.3"
    },
    "rise": {
      "backimage": "../mybackimage.png",
      "enable_chalkboard": true,
      "scroll": true
    },
    "varInspector": {
      "cols": {
        "lenName": 16,
        "lenType": 16,
        "lenVar": 40
      },
      "kernels_config": {
        "python": {
          "delete_cmd_postfix": "",
          "delete_cmd_prefix": "del ",
          "library": "var_list.py",
          "varRefreshCmd": "print(var_dic_list())"
        },
        "r": {
          "delete_cmd_postfix": ") ",
          "delete_cmd_prefix": "rm(",
          "library": "var_list.r",
          "varRefreshCmd": "cat(var_dic_list()) "
        }
      },
      "types_to_exclude": [
        "module",
        "function",
        "builtin_function_or_method",
        "instance",
        "_Feature"
      ],
      "window_display": false
    },
    "colab": {
      "provenance": [],
      "include_colab_link": true
    }
  },
  "nbformat": 4,
  "nbformat_minor": 0
}